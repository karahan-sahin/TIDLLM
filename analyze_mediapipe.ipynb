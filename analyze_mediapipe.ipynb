{
 "cells": [
  {
   "cell_type": "code",
   "execution_count": 7,
   "metadata": {},
   "outputs": [],
   "source": [
    "import os\n",
    "import sys\n",
    "import glob\n",
    "import time\n",
    "import random\n",
    "import pandas as pd\n",
    "import tqdm\n",
    "\n",
    "import torch\n",
    "import torch.nn as nn\n",
    "import torch.nn.functional as F\n",
    "import torch.optim as optim\n",
    "import numpy as np\n",
    "\n",
    "from lib.config import *\n",
    "from lib.encoder.ffn import FFNEncoder, FFNDecoder\n",
    "from lib.encoder.vqvae import VQVAE, VectorQuantizer\n",
    "from lib.train.run_autoencoder_training import AutoencoderTrainer\n",
    "from lib.utils.pose import get_pose_estimation"
   ]
  },
  {
   "cell_type": "code",
   "execution_count": 3,
   "metadata": {},
   "outputs": [
    {
     "data": {
      "text/plain": [
       "['dataset/corpus/GEREK _1.mp4',\n",
       " 'dataset/corpus/I╠çLGINC╠ğ_0.mp4',\n",
       " 'dataset/corpus/MEMUR_1.mp4',\n",
       " 'dataset/corpus/BAS╠ğPARMAK_0.mp4',\n",
       " 'dataset/corpus/YILDIZ_0.mp4',\n",
       " 'dataset/corpus/ZARF_0.mp4',\n",
       " 'dataset/corpus/SERVIS_1.mp4',\n",
       " 'dataset/corpus/HAKLI_0.mp4',\n",
       " 'dataset/corpus/KIM_1.mp4',\n",
       " 'dataset/corpus/I╠çKISI_0.mp4',\n",
       " 'dataset/corpus/DIG╠åER_0.mp4',\n",
       " 'dataset/corpus/BAYRAK_0.mp4',\n",
       " 'dataset/corpus/I╠çNS╠ğALLAH_1.mp4',\n",
       " 'dataset/corpus/HOPARLO╠êR_0.mp4',\n",
       " 'dataset/corpus/I╠çMZALAMAK_0.mp4',\n",
       " 'dataset/corpus/GARANTI_0.mp4',\n",
       " 'dataset/corpus/KUSURA BAKMAMAK_1.mp4',\n",
       " 'dataset/corpus/SAC╠ğ_0.mp4',\n",
       " 'dataset/corpus/VERGI _1.mp4',\n",
       " 'dataset/corpus/YAVAS╠ğLAMAK_0.mp4',\n",
       " 'dataset/corpus/BAG╠åIMSIZ _0.mp4',\n",
       " 'dataset/corpus/GO╠êNU╠êL_0.mp4',\n",
       " 'dataset/corpus/TREN_1.mp4',\n",
       " 'dataset/corpus/C╠ğAY_1.mp4',\n",
       " 'dataset/corpus/UC╠ğAK_0.mp4',\n",
       " 'dataset/corpus/ALET_0.mp4',\n",
       " 'dataset/corpus/PRATIK_0.mp4',\n",
       " 'dataset/corpus/I╠çC╠ğIN_0.mp4',\n",
       " 'dataset/corpus/BIRA_1.mp4',\n",
       " 'dataset/corpus/MART_1.mp4',\n",
       " 'dataset/corpus/U╠êLKE_2.mp4',\n",
       " 'dataset/corpus/ODYOLOJI_1.mp4',\n",
       " 'dataset/corpus/EG╠åITMEK_0.mp4',\n",
       " 'dataset/corpus/ORTA SAHA_0.mp4',\n",
       " 'dataset/corpus/BENCE_0.mp4',\n",
       " 'dataset/corpus/KALP_0.mp4',\n",
       " 'dataset/corpus/METRO_0.mp4',\n",
       " 'dataset/corpus/PARMAK _1.mp4',\n",
       " 'dataset/corpus/S╠ğIS╠ğE_0.mp4',\n",
       " 'dataset/corpus/KILO_2.mp4',\n",
       " 'dataset/corpus/TEKME_1.mp4',\n",
       " 'dataset/corpus/TAKSIT_0.mp4',\n",
       " 'dataset/corpus/YAZ_0.mp4',\n",
       " 'dataset/corpus/SEVGILI_2.mp4',\n",
       " 'dataset/corpus/KOL_0.mp4',\n",
       " 'dataset/corpus/ONAYLAMAK_0.mp4',\n",
       " 'dataset/corpus/DERS _1.mp4',\n",
       " 'dataset/corpus/EKRAN_0.mp4',\n",
       " 'dataset/corpus/BURA_2.mp4',\n",
       " 'dataset/corpus/BAKMAK_1.mp4',\n",
       " 'dataset/corpus/MIMIK_0.mp4',\n",
       " 'dataset/corpus/CEP_1.mp4',\n",
       " 'dataset/corpus/ZIL C╠ğALMAK_2.mp4',\n",
       " 'dataset/corpus/MODEL_0.mp4',\n",
       " 'dataset/corpus/TUTULMAK_0.mp4',\n",
       " 'dataset/corpus/AMAN_1.mp4',\n",
       " 'dataset/corpus/HESAP MAKINESI_0.mp4',\n",
       " 'dataset/corpus/HIRSIZ_1.mp4',\n",
       " 'dataset/corpus/KAPALI_1.mp4',\n",
       " 'dataset/corpus/HAYRAN KALMAK_0.mp4',\n",
       " 'dataset/corpus/YATMAK_1.mp4',\n",
       " 'dataset/corpus/SIVRI_0.mp4',\n",
       " 'dataset/corpus/DEG╠åIS╠ğ TOKUS╠ğ_0.mp4',\n",
       " 'dataset/corpus/KAVGA ETMEK_0.mp4',\n",
       " 'dataset/corpus/HAZIRLAMAK_0.mp4',\n",
       " 'dataset/corpus/PROJE _0.mp4',\n",
       " 'dataset/corpus/BAS╠ğARMAK_0.mp4',\n",
       " 'dataset/corpus/BELGE_1.mp4',\n",
       " 'dataset/corpus/UG╠åUR_1.mp4',\n",
       " 'dataset/corpus/DU╠êNYA_1.mp4',\n",
       " 'dataset/corpus/ALC╠ğALMAK_0.mp4',\n",
       " 'dataset/corpus/HIZ _2.mp4',\n",
       " 'dataset/corpus/S╠ğOK _1.mp4',\n",
       " 'dataset/corpus/NASIL _0.mp4',\n",
       " 'dataset/corpus/TOPLAM_0.mp4',\n",
       " 'dataset/corpus/ENAYI_0.mp4',\n",
       " 'dataset/corpus/ORTAK _0.mp4',\n",
       " 'dataset/corpus/YIKILMAK_2.mp4',\n",
       " 'dataset/corpus/C╠ğIZMEK_1.mp4',\n",
       " 'dataset/corpus/KESMEK_2.mp4',\n",
       " 'dataset/corpus/TRAFIK_1.mp4',\n",
       " 'dataset/corpus/PANIK_1.mp4',\n",
       " 'dataset/corpus/HACI_0.mp4',\n",
       " 'dataset/corpus/DEG╠åIS╠ğIK _2.mp4',\n",
       " 'dataset/corpus/BALTALAMAK_1.mp4',\n",
       " 'dataset/corpus/MITING_0.mp4',\n",
       " 'dataset/corpus/YAYA_0.mp4',\n",
       " 'dataset/corpus/YARIS╠ğ_0.mp4',\n",
       " 'dataset/corpus/FEDERASYON_0.mp4',\n",
       " 'dataset/corpus/SALDIRMAK_2.mp4',\n",
       " 'dataset/corpus/MARS╠ğ_0.mp4',\n",
       " 'dataset/corpus/HAYRAN_0.mp4',\n",
       " 'dataset/corpus/CUMHURIYET_1.mp4',\n",
       " 'dataset/corpus/KOPYALAMAK_1.mp4',\n",
       " 'dataset/corpus/KALDIRMAK _1.mp4',\n",
       " 'dataset/corpus/SIKINTI_0.mp4',\n",
       " 'dataset/corpus/BALIK_1.mp4',\n",
       " 'dataset/corpus/C╠ğEKILMEK_1.mp4',\n",
       " 'dataset/corpus/BU╠êYU╠êTMEK _0.mp4',\n",
       " 'dataset/corpus/TAKIP ETMEK_0.mp4',\n",
       " 'dataset/corpus/KIRILMAK_0.mp4',\n",
       " 'dataset/corpus/ALTIN_0.mp4',\n",
       " 'dataset/corpus/CAN_0.mp4',\n",
       " 'dataset/corpus/TAKIP ETMEK_1.mp4',\n",
       " 'dataset/corpus/ALTIN_1.mp4',\n",
       " 'dataset/corpus/KIRILMAK_1.mp4',\n",
       " 'dataset/corpus/HAMAM_0.mp4',\n",
       " 'dataset/corpus/C╠ğIS╠ğ YAPMAK_0.mp4',\n",
       " 'dataset/corpus/BU╠êYU╠êTMEK _1.mp4',\n",
       " 'dataset/corpus/C╠ğEKILMEK_0.mp4',\n",
       " 'dataset/corpus/BALIK_0.mp4',\n",
       " 'dataset/corpus/SIKINTI_1.mp4',\n",
       " 'dataset/corpus/CUMHURIYET_0.mp4',\n",
       " 'dataset/corpus/HAYRAN_1.mp4',\n",
       " 'dataset/corpus/BOL_2.mp4',\n",
       " 'dataset/corpus/KALDIRMAK _0.mp4',\n",
       " 'dataset/corpus/KOPYALAMAK_0.mp4',\n",
       " 'dataset/corpus/BORU_2.mp4',\n",
       " 'dataset/corpus/YARIS╠ğ_1.mp4',\n",
       " 'dataset/corpus/VEYA_0.mp4',\n",
       " 'dataset/corpus/I╠çFADE_0.mp4',\n",
       " 'dataset/corpus/BALTALAMAK_0.mp4',\n",
       " 'dataset/corpus/BOS╠ğ OTURMAK_0.mp4',\n",
       " 'dataset/corpus/MITING_1.mp4',\n",
       " 'dataset/corpus/TRAFIK_0.mp4',\n",
       " 'dataset/corpus/PANIK_0.mp4',\n",
       " 'dataset/corpus/ORTAK _1.mp4',\n",
       " 'dataset/corpus/OY VERMEK, OY ATMAK_0.mp4',\n",
       " 'dataset/corpus/C╠ğIZMEK_0.mp4',\n",
       " 'dataset/corpus/SABAH_0.mp4',\n",
       " 'dataset/corpus/ENAYI_1.mp4',\n",
       " 'dataset/corpus/TOPLAM_1.mp4',\n",
       " 'dataset/corpus/NASIL _1.mp4',\n",
       " 'dataset/corpus/S╠ğOK _0.mp4',\n",
       " 'dataset/corpus/AG╠åRI_2.mp4',\n",
       " 'dataset/corpus/UG╠åUR_0.mp4',\n",
       " 'dataset/corpus/DU╠êNYA_0.mp4',\n",
       " 'dataset/corpus/KAVGA ETMEK_1.mp4',\n",
       " 'dataset/corpus/DILEMEK_0.mp4',\n",
       " 'dataset/corpus/BAS╠ğARMAK_1.mp4',\n",
       " 'dataset/corpus/BELGE_0.mp4',\n",
       " 'dataset/corpus/ZORLANMAK_0.mp4',\n",
       " 'dataset/corpus/DEG╠åIS╠ğ TOKUS╠ğ_1.mp4',\n",
       " 'dataset/corpus/DOG╠åAL _0.mp4',\n",
       " 'dataset/corpus/WALKMAN, KASETC╠ğALAR_0.mp4',\n",
       " 'dataset/corpus/YATMAK_0.mp4',\n",
       " 'dataset/corpus/HAYRAN KALMAK_1.mp4',\n",
       " 'dataset/corpus/KAPALI_0.mp4',\n",
       " 'dataset/corpus/HIRSIZ_0.mp4',\n",
       " 'dataset/corpus/PASTA_0.mp4',\n",
       " 'dataset/corpus/HESAP MAKINESI_1.mp4',\n",
       " 'dataset/corpus/AMAN_0.mp4',\n",
       " 'dataset/corpus/TUTULMAK_1.mp4',\n",
       " 'dataset/corpus/MODEL_1.mp4',\n",
       " 'dataset/corpus/TEBRIK ETMEK_0.mp4',\n",
       " 'dataset/corpus/MIMIK_1.mp4',\n",
       " 'dataset/corpus/BAKMAK_0.mp4',\n",
       " 'dataset/corpus/CEP_0.mp4',\n",
       " 'dataset/corpus/EKRAN_1.mp4',\n",
       " 'dataset/corpus/BAS╠ğARI_2.mp4',\n",
       " 'dataset/corpus/DERS _0.mp4',\n",
       " 'dataset/corpus/ONAYLAMAK_1.mp4',\n",
       " 'dataset/corpus/TEBRIK_0.mp4',\n",
       " 'dataset/corpus/ZEVK_0.mp4',\n",
       " 'dataset/corpus/TEKME_0.mp4',\n",
       " 'dataset/corpus/TAKSIT_1.mp4',\n",
       " 'dataset/corpus/PARMAK _0.mp4',\n",
       " 'dataset/corpus/METRO_1.mp4',\n",
       " 'dataset/corpus/KALP_1.mp4',\n",
       " 'dataset/corpus/DOLANDIRMAK_0.mp4',\n",
       " 'dataset/corpus/ODYOLOJI_0.mp4',\n",
       " 'dataset/corpus/SIMIT_0.mp4',\n",
       " 'dataset/corpus/TOPLUM_0.mp4',\n",
       " 'dataset/corpus/MAC╠ğ_0.mp4',\n",
       " 'dataset/corpus/MART_0.mp4',\n",
       " 'dataset/corpus/GEZMEK_0.mp4',\n",
       " 'dataset/corpus/PLANLAMAK_0.mp4',\n",
       " 'dataset/corpus/ASKER_0.mp4',\n",
       " 'dataset/corpus/BIRA_0.mp4',\n",
       " 'dataset/corpus/BES╠ğ_0.mp4',\n",
       " 'dataset/corpus/I╠çNTIKAM_2.mp4',\n",
       " 'dataset/corpus/UC╠ğAK_1.mp4',\n",
       " 'dataset/corpus/C╠ğAY_0.mp4',\n",
       " 'dataset/corpus/TREN_0.mp4',\n",
       " 'dataset/corpus/SU╠êLALE_0.mp4',\n",
       " 'dataset/corpus/BAG╠åIMSIZ _1.mp4',\n",
       " 'dataset/corpus/YAVAS╠ğLAMAK_1.mp4',\n",
       " 'dataset/corpus/VERGI _0.mp4',\n",
       " 'dataset/corpus/SARI_2.mp4',\n",
       " 'dataset/corpus/GARANTI_1.mp4',\n",
       " 'dataset/corpus/KUSURA BAKMAMAK_0.mp4',\n",
       " 'dataset/corpus/DIG╠åER_1.mp4',\n",
       " 'dataset/corpus/KIM_0.mp4',\n",
       " 'dataset/corpus/I╠çNS╠ğALLAH_0.mp4',\n",
       " 'dataset/corpus/HASTA_2.mp4',\n",
       " 'dataset/corpus/MAG╠åLUP_0.mp4',\n",
       " 'dataset/corpus/SERVIS_0.mp4',\n",
       " 'dataset/corpus/BORC╠ğLANMAK_0.mp4',\n",
       " 'dataset/corpus/YILDIZ_1.mp4',\n",
       " 'dataset/corpus/BAS╠ğPARMAK_1.mp4',\n",
       " 'dataset/corpus/SAG╠åOL_2.mp4',\n",
       " 'dataset/corpus/MEMUR_0.mp4',\n",
       " 'dataset/corpus/YAYILMAK_0.mp4',\n",
       " 'dataset/corpus/I╠çYILES╠ğMEK_0.mp4',\n",
       " 'dataset/corpus/GEREK _0.mp4',\n",
       " 'dataset/corpus/C╠ğO╠êZU╠êM_0.mp4',\n",
       " 'dataset/corpus/DERNEK_0.mp4',\n",
       " 'dataset/corpus/GEREK _2.mp4',\n",
       " 'dataset/corpus/O╠êRGU╠ê_0.mp4',\n",
       " 'dataset/corpus/YAKLAS╠ğMAK_1.mp4',\n",
       " 'dataset/corpus/I╠çC╠ğKI IC╠ğMEK_1.mp4',\n",
       " 'dataset/corpus/O_0.mp4',\n",
       " 'dataset/corpus/KATIL_0.mp4',\n",
       " 'dataset/corpus/SERVIS_2.mp4',\n",
       " 'dataset/corpus/HASTA_0.mp4',\n",
       " 'dataset/corpus/KORNA_0.mp4',\n",
       " 'dataset/corpus/SAG╠åOL_0.mp4',\n",
       " 'dataset/corpus/C╠ğORBA_0.mp4',\n",
       " 'dataset/corpus/KUSURA BAKMAMAK_2.mp4',\n",
       " 'dataset/corpus/SABIT_0.mp4',\n",
       " 'dataset/corpus/HEYECAN_1.mp4',\n",
       " 'dataset/corpus/BISIKLET_0.mp4',\n",
       " 'dataset/corpus/ARA_0.mp4',\n",
       " 'dataset/corpus/KESTIRMEK_1.mp4',\n",
       " 'dataset/corpus/I╠çNS╠ğALLAH_2.mp4',\n",
       " 'dataset/corpus/YAG╠å_1.mp4',\n",
       " 'dataset/corpus/I╠çNTIKAM_0.mp4',\n",
       " 'dataset/corpus/KARAKOL_0.mp4',\n",
       " 'dataset/corpus/NIC╠ğIN_0.mp4',\n",
       " 'dataset/corpus/SARI_0.mp4',\n",
       " 'dataset/corpus/VERGI _2.mp4',\n",
       " 'dataset/corpus/TAM _0.mp4',\n",
       " 'dataset/corpus/BENZIN_1.mp4',\n",
       " 'dataset/corpus/GERC╠ğEK_1.mp4',\n",
       " 'dataset/corpus/SIRT_0.mp4',\n",
       " 'dataset/corpus/U╠êLKE_1.mp4',\n",
       " 'dataset/corpus/DU╠êG╠åU╠êN_1.mp4',\n",
       " 'dataset/corpus/UCUZ_0.mp4',\n",
       " 'dataset/corpus/YOG╠åURMAK_0.mp4',\n",
       " 'dataset/corpus/I╠çSYAN ETME_0.mp4',\n",
       " 'dataset/corpus/ZARAR_0.mp4',\n",
       " 'dataset/corpus/PARMAK _2.mp4',\n",
       " 'dataset/corpus/I╠çKIBIN_0.mp4',\n",
       " 'dataset/corpus/ODYOLOJI_2.mp4',\n",
       " 'dataset/corpus/KENARA C╠ğEKMEK_0.mp4',\n",
       " 'dataset/corpus/BEG╠åENMEK_0.mp4',\n",
       " 'dataset/corpus/SORUN_1.mp4',\n",
       " 'dataset/corpus/ALKOL, I╠çC╠ğKI_0.mp4',\n",
       " 'dataset/corpus/MANTI_0.mp4',\n",
       " 'dataset/corpus/AMIR_0.mp4',\n",
       " 'dataset/corpus/HERKES_0.mp4',\n",
       " 'dataset/corpus/OY KULLANMAK_0.mp4',\n",
       " 'dataset/corpus/SEVGILI_1.mp4',\n",
       " 'dataset/corpus/I╠çLKOKUL_0.mp4',\n",
       " 'dataset/corpus/UYANMAK _1.mp4',\n",
       " 'dataset/corpus/GRAFIK_0.mp4',\n",
       " 'dataset/corpus/DELI_0.mp4',\n",
       " 'dataset/corpus/KILO_1.mp4',\n",
       " 'dataset/corpus/TEKME_2.mp4',\n",
       " 'dataset/corpus/DURAK_0.mp4',\n",
       " 'dataset/corpus/BO╠êLMEK_0.mp4',\n",
       " 'dataset/corpus/BURA_1.mp4',\n",
       " 'dataset/corpus/ALIS╠ğVERIS╠ğ_0.mp4',\n",
       " 'dataset/corpus/BAS╠ğARI_0.mp4',\n",
       " 'dataset/corpus/SALI _0.mp4',\n",
       " 'dataset/corpus/DEVAMLI_0.mp4',\n",
       " 'dataset/corpus/AMAN_2.mp4',\n",
       " 'dataset/corpus/ZIL C╠ğALMAK_1.mp4',\n",
       " 'dataset/corpus/C╠ğARPMAK_1.mp4',\n",
       " 'dataset/corpus/BAKMAK_2.mp4',\n",
       " 'dataset/corpus/MANZARA_1.mp4',\n",
       " 'dataset/corpus/S╠ğEHIR, I╠çL_0.mp4',\n",
       " 'dataset/corpus/MIKROFON_0.mp4',\n",
       " 'dataset/corpus/HAK_0.mp4',\n",
       " 'dataset/corpus/YURT_0.mp4',\n",
       " 'dataset/corpus/HIRSIZ_2.mp4',\n",
       " 'dataset/corpus/KAPALI_2.mp4',\n",
       " 'dataset/corpus/REZIL_0.mp4',\n",
       " 'dataset/corpus/YIKAMAK_0.mp4',\n",
       " 'dataset/corpus/DOG╠åUM_0.mp4',\n",
       " 'dataset/corpus/BIRINCI_0.mp4',\n",
       " 'dataset/corpus/HOBI_0.mp4',\n",
       " 'dataset/corpus/S╠ğUBE_0.mp4',\n",
       " 'dataset/corpus/KU╠êRT_0.mp4',\n",
       " 'dataset/corpus/I╠çLERI_0.mp4',\n",
       " 'dataset/corpus/HAFTA_0.mp4',\n",
       " 'dataset/corpus/DINLENMEK_0.mp4',\n",
       " 'dataset/corpus/I╠çNTERNET_1.mp4',\n",
       " 'dataset/corpus/TABI_0.mp4',\n",
       " 'dataset/corpus/DU╠êNYA_2.mp4',\n",
       " 'dataset/corpus/AG╠åRI_0.mp4',\n",
       " 'dataset/corpus/C╠ğIZGILI_1.mp4',\n",
       " 'dataset/corpus/KESMEK_1.mp4',\n",
       " 'dataset/corpus/YU╠êZMEK_0.mp4',\n",
       " 'dataset/corpus/SAYI _0.mp4',\n",
       " 'dataset/corpus/ARTIRMAK_1.mp4',\n",
       " 'dataset/corpus/YIKILMAK_1.mp4',\n",
       " 'dataset/corpus/TERLEMEK_1.mp4',\n",
       " 'dataset/corpus/HIZ _1.mp4',\n",
       " 'dataset/corpus/DEG╠åIS╠ğIK _1.mp4',\n",
       " 'dataset/corpus/CADDE_0.mp4',\n",
       " 'dataset/corpus/BESMELE_0.mp4',\n",
       " 'dataset/corpus/LOGO_0.mp4',\n",
       " 'dataset/corpus/MEKTUP_0.mp4',\n",
       " 'dataset/corpus/TRAFIK_2.mp4',\n",
       " 'dataset/corpus/TAMIR ETMEK_0.mp4',\n",
       " 'dataset/corpus/BORU_0.mp4',\n",
       " 'dataset/corpus/KOPYALAMAK_2.mp4',\n",
       " 'dataset/corpus/KALDIRMAK _2.mp4',\n",
       " 'dataset/corpus/BOL_0.mp4',\n",
       " 'dataset/corpus/MEMLEKET_1.mp4',\n",
       " 'dataset/corpus/HAP_0.mp4',\n",
       " 'dataset/corpus/SALDIRMAK_1.mp4',\n",
       " 'dataset/corpus/KAG╠åIT_0.mp4',\n",
       " 'dataset/corpus/USANMAK_0.mp4',\n",
       " 'dataset/corpus/KITAP OKUMAK_1.mp4',\n",
       " 'dataset/corpus/FUTBOL_0.mp4',\n",
       " 'dataset/corpus/C╠ğEKILMEK_2.mp4',\n",
       " 'dataset/corpus/KURNAZ_0.mp4',\n",
       " 'dataset/corpus/BUZDOLABI_0.mp4',\n",
       " 'dataset/corpus/FUTBOL_1.mp4',\n",
       " 'dataset/corpus/KITAP OKUMAK_0.mp4',\n",
       " 'dataset/corpus/BOWLING_0.mp4',\n",
       " 'dataset/corpus/BU╠êYU╠êTMEK _2.mp4',\n",
       " 'dataset/corpus/YAYINLAMAK_0.mp4',\n",
       " 'dataset/corpus/KIRILMAK_2.mp4',\n",
       " 'dataset/corpus/KAG╠åIT_1.mp4',\n",
       " 'dataset/corpus/USANMAK_1.mp4',\n",
       " 'dataset/corpus/MEMLEKET_0.mp4',\n",
       " 'dataset/corpus/O╠êG╠åRENMEK_0.mp4',\n",
       " 'dataset/corpus/SALDIRMAK_0.mp4',\n",
       " 'dataset/corpus/MERHABA_0.mp4',\n",
       " 'dataset/corpus/BORU_1.mp4',\n",
       " 'dataset/corpus/BOL_1.mp4',\n",
       " 'dataset/corpus/LOGO_1.mp4',\n",
       " 'dataset/corpus/MEKTUP_1.mp4',\n",
       " 'dataset/corpus/HOS╠ğ_0.mp4',\n",
       " 'dataset/corpus/KARACIG╠åER_0.mp4',\n",
       " 'dataset/corpus/DEG╠åIS╠ğIK _0.mp4',\n",
       " 'dataset/corpus/EG╠åLENMEK_0.mp4',\n",
       " 'dataset/corpus/TERLEMEK_0.mp4',\n",
       " 'dataset/corpus/HIZ _0.mp4',\n",
       " 'dataset/corpus/SUSTURMAK_0.mp4',\n",
       " 'dataset/corpus/KESMEK_0.mp4',\n",
       " 'dataset/corpus/YIKILMAK_0.mp4',\n",
       " 'dataset/corpus/ARTIRMAK_0.mp4',\n",
       " 'dataset/corpus/SAYI _1.mp4',\n",
       " 'dataset/corpus/YU╠êZMEK_1.mp4',\n",
       " 'dataset/corpus/ORTAK _2.mp4',\n",
       " 'dataset/corpus/SAHIL_0.mp4',\n",
       " 'dataset/corpus/TEN, CILD_0.mp4',\n",
       " 'dataset/corpus/KAVGA ETMEK_2.mp4',\n",
       " 'dataset/corpus/C╠ğIZGILI_0.mp4',\n",
       " 'dataset/corpus/I╠çNTERNET_0.mp4',\n",
       " 'dataset/corpus/AG╠åRI_1.mp4',\n",
       " 'dataset/corpus/DOG╠åUM_1.mp4',\n",
       " 'dataset/corpus/BIRINCI_1.mp4',\n",
       " 'dataset/corpus/KABUL ETMEK _0.mp4',\n",
       " 'dataset/corpus/S╠ğEHIR, I╠çL_1.mp4',\n",
       " 'dataset/corpus/MANZARA_0.mp4',\n",
       " 'dataset/corpus/SAVAS╠ğ_0.mp4',\n",
       " 'dataset/corpus/DEVAMLI_1.mp4',\n",
       " 'dataset/corpus/C╠ğARPMAK_0.mp4',\n",
       " 'dataset/corpus/ZIL C╠ğALMAK_0.mp4',\n",
       " 'dataset/corpus/KOYMAK_0.mp4',\n",
       " 'dataset/corpus/ALIS╠ğVERIS╠ğ_1.mp4',\n",
       " 'dataset/corpus/SALI _1.mp4',\n",
       " 'dataset/corpus/BAS╠ğARI_1.mp4',\n",
       " 'dataset/corpus/BURA_0.mp4',\n",
       " 'dataset/corpus/EZBER_0.mp4',\n",
       " 'dataset/corpus/C╠ğILEK_0.mp4',\n",
       " 'dataset/corpus/DOSYA_0.mp4',\n",
       " 'dataset/corpus/GRAFIK_1.mp4',\n",
       " 'dataset/corpus/DELI_1.mp4',\n",
       " 'dataset/corpus/UYANMAK _0.mp4',\n",
       " 'dataset/corpus/DURAK_1.mp4',\n",
       " 'dataset/corpus/DEVAMSIZ_0.mp4',\n",
       " 'dataset/corpus/KILO_0.mp4',\n",
       " 'dataset/corpus/AMIR_1.mp4',\n",
       " 'dataset/corpus/MANTI_1.mp4',\n",
       " 'dataset/corpus/ALKOL, I╠çC╠ğKI_1.mp4',\n",
       " 'dataset/corpus/BEG╠åENMEK_1.mp4',\n",
       " 'dataset/corpus/SORUN_0.mp4',\n",
       " 'dataset/corpus/SEVGILI_0.mp4',\n",
       " 'dataset/corpus/MEZUN_0.mp4',\n",
       " 'dataset/corpus/PASO_0.mp4',\n",
       " 'dataset/corpus/EYLEM_0.mp4',\n",
       " 'dataset/corpus/KALP_2.mp4',\n",
       " 'dataset/corpus/DU╠êG╠åU╠êN_0.mp4',\n",
       " 'dataset/corpus/GERC╠ğEK_0.mp4',\n",
       " 'dataset/corpus/BENZIN_0.mp4',\n",
       " 'dataset/corpus/U╠êLKE_0.mp4',\n",
       " 'dataset/corpus/SARI_1.mp4',\n",
       " 'dataset/corpus/NIC╠ğIN_1.mp4',\n",
       " 'dataset/corpus/TAM _1.mp4',\n",
       " 'dataset/corpus/TU╠êFEK_0.mp4',\n",
       " 'dataset/corpus/BOYNUZ_0.mp4',\n",
       " 'dataset/corpus/OYNAMAK_0.mp4',\n",
       " 'dataset/corpus/I╠çNTIKAM_1.mp4',\n",
       " 'dataset/corpus/ROMANTIK_0.mp4',\n",
       " 'dataset/corpus/KESTIRMEK_0.mp4',\n",
       " 'dataset/corpus/YAG╠å_0.mp4',\n",
       " 'dataset/corpus/HEYECAN_0.mp4',\n",
       " 'dataset/corpus/SABIT_1.mp4',\n",
       " 'dataset/corpus/SAG╠åOL_1.mp4',\n",
       " 'dataset/corpus/BAS╠ğPARMAK_2.mp4',\n",
       " 'dataset/corpus/YAKLAS╠ğMAK_0.mp4',\n",
       " 'dataset/corpus/HASTA_1.mp4',\n",
       " 'dataset/corpus/BESBELLI_0.mp4',\n",
       " 'dataset/corpus/KATIL_1.mp4',\n",
       " 'dataset/corpus/O_1.mp4',\n",
       " 'dataset/corpus/I╠çC╠ğKI IC╠ğMEK_0.mp4',\n",
       " 'dataset/corpus/SEVMEK_0.mp4',\n",
       " 'dataset/corpus/S╠ğU╠êPHELENMEK_0.mp4',\n",
       " 'dataset/corpus/O╠êRGU╠ê_1.mp4',\n",
       " 'dataset/corpus/PROPAGANDA_0.mp4',\n",
       " 'dataset/corpus/GELENEKSEL_0.mp4',\n",
       " 'dataset/corpus/GENEL_1.mp4',\n",
       " 'dataset/corpus/DIKIS╠ğ_1.mp4',\n",
       " 'dataset/corpus/HAZIRLIK_0.mp4',\n",
       " 'dataset/corpus/HEDIYE_0.mp4',\n",
       " 'dataset/corpus/I╠çMZA_1.mp4',\n",
       " 'dataset/corpus/S╠ğIMDI_0.mp4',\n",
       " 'dataset/corpus/HANGI_2.mp4',\n",
       " 'dataset/corpus/EKONOMIK_0.mp4',\n",
       " 'dataset/corpus/KOPYA _2.mp4',\n",
       " 'dataset/corpus/BARIS╠ğMAK _1.mp4',\n",
       " 'dataset/corpus/ON IKI_2.mp4',\n",
       " 'dataset/corpus/FOTOKOPI_0.mp4',\n",
       " 'dataset/corpus/C╠ğOCUK _0.mp4',\n",
       " 'dataset/corpus/I╠çMKANSIZ_0.mp4',\n",
       " 'dataset/corpus/SORUMLU_0.mp4',\n",
       " 'dataset/corpus/AC╠ğMAK_1.mp4',\n",
       " 'dataset/corpus/KARIS╠ğIK_1.mp4',\n",
       " 'dataset/corpus/TURS╠ğU_0.mp4',\n",
       " 'dataset/corpus/NO╠êBET_0.mp4',\n",
       " 'dataset/corpus/DO╠êVMEK_1.mp4',\n",
       " 'dataset/corpus/AYNA_0.mp4',\n",
       " 'dataset/corpus/DEG╠åIS╠ğTIRMEK_0.mp4',\n",
       " 'dataset/corpus/YAKIS╠ğIKLI _2.mp4',\n",
       " 'dataset/corpus/RICA _0.mp4',\n",
       " 'dataset/corpus/AFFETMEK_0.mp4',\n",
       " 'dataset/corpus/I╠çLGI_0.mp4',\n",
       " 'dataset/corpus/GEC╠ğMEK_2.mp4',\n",
       " 'dataset/corpus/O╠êNEMSEMEK_1.mp4',\n",
       " 'dataset/corpus/KOALISYON_0.mp4',\n",
       " 'dataset/corpus/HRISTIYAN _0.mp4',\n",
       " 'dataset/corpus/ARAS╠ğTIRMA_0.mp4',\n",
       " 'dataset/corpus/CAMI_0.mp4',\n",
       " 'dataset/corpus/HEDEF_1.mp4',\n",
       " 'dataset/corpus/KIRPMAK_0.mp4',\n",
       " 'dataset/corpus/KIRMAK_0.mp4',\n",
       " 'dataset/corpus/FARK_0.mp4',\n",
       " 'dataset/corpus/O╠êNCE_1.mp4',\n",
       " 'dataset/corpus/DU╠êS╠ğMEK_2.mp4',\n",
       " 'dataset/corpus/YEDEK_1.mp4',\n",
       " 'dataset/corpus/BIR_0.mp4',\n",
       " 'dataset/corpus/HU╠êKU╠êMET_0.mp4',\n",
       " 'dataset/corpus/I╠çS╠ğ_0.mp4',\n",
       " 'dataset/corpus/AS╠ğAG╠åILAMAK_1.mp4',\n",
       " 'dataset/corpus/DU╠êN_0.mp4',\n",
       " 'dataset/corpus/BARDAK _2.mp4',\n",
       " 'dataset/corpus/BAS╠ğVURU, MU╠êRACAAT_1.mp4',\n",
       " 'dataset/corpus/BULUS╠ğMAK_0.mp4',\n",
       " 'dataset/corpus/BITIRMEK_2.mp4',\n",
       " 'dataset/corpus/BOYAMAK_1.mp4',\n",
       " 'dataset/corpus/KABUL_0.mp4',\n",
       " 'dataset/corpus/NINE_0.mp4',\n",
       " 'dataset/corpus/DOLU_0.mp4',\n",
       " 'dataset/corpus/MESAJLAS╠ğMAK_0.mp4',\n",
       " 'dataset/corpus/KU╠êFU╠êR_1.mp4',\n",
       " 'dataset/corpus/ARAP_0.mp4',\n",
       " 'dataset/corpus/NOKTA_0.mp4',\n",
       " 'dataset/corpus/ACI_1.mp4',\n",
       " 'dataset/corpus/YALVARMAK_1.mp4',\n",
       " 'dataset/corpus/GEREKMEK_1.mp4',\n",
       " 'dataset/corpus/DAVA_0.mp4',\n",
       " 'dataset/corpus/SIZ_1.mp4',\n",
       " 'dataset/corpus/HAYIRLI OLSUN_1.mp4',\n",
       " 'dataset/corpus/KORUMAK_1.mp4',\n",
       " 'dataset/corpus/TAKMAK_0.mp4',\n",
       " 'dataset/corpus/SUSAMAK_0.mp4',\n",
       " 'dataset/corpus/GU╠êZEL_2.mp4',\n",
       " 'dataset/corpus/TU╠êRK_0.mp4',\n",
       " 'dataset/corpus/TU╠êY_1.mp4',\n",
       " 'dataset/corpus/DU╠êZELTMEK_0.mp4',\n",
       " 'dataset/corpus/ANLAS╠ğMAK_0.mp4',\n",
       " 'dataset/corpus/ZAYIF _1.mp4',\n",
       " 'dataset/corpus/I╠çZIN VERMEK_0.mp4',\n",
       " 'dataset/corpus/TAHTA_0.mp4',\n",
       " 'dataset/corpus/HESAP _2.mp4',\n",
       " 'dataset/corpus/KO╠êFTE_1.mp4',\n",
       " 'dataset/corpus/KILIM_2.mp4',\n",
       " 'dataset/corpus/SALLAMAK_0.mp4',\n",
       " 'dataset/corpus/ERIS╠ğTE_0.mp4',\n",
       " 'dataset/corpus/U╠êYE_0.mp4',\n",
       " 'dataset/corpus/DEG╠åER_0.mp4',\n",
       " 'dataset/corpus/ENDIS╠ğELI_1.mp4',\n",
       " 'dataset/corpus/AD, I╠çSIM_1.mp4',\n",
       " 'dataset/corpus/YU╠êZ, 100_0.mp4',\n",
       " 'dataset/corpus/BILEZIK_0.mp4',\n",
       " 'dataset/corpus/S╠ğIS╠ğMEK_1.mp4',\n",
       " 'dataset/corpus/S╠ğIS╠ğMAN_1.mp4',\n",
       " 'dataset/corpus/DO╠êNU╠êS╠ğTU╠êRMEK_0.mp4',\n",
       " 'dataset/corpus/SIGARA_0.mp4',\n",
       " 'dataset/corpus/KILITLEMEK_1.mp4',\n",
       " 'dataset/corpus/U╠êCRETSIZ_0.mp4',\n",
       " 'dataset/corpus/BU_0.mp4',\n",
       " 'dataset/corpus/YAPIS╠ğMAK_1.mp4',\n",
       " 'dataset/corpus/UFAK_2.mp4',\n",
       " 'dataset/corpus/FAKIR_1.mp4',\n",
       " 'dataset/corpus/HIZMET _0.mp4',\n",
       " 'dataset/corpus/ELLI (50)_1.mp4',\n",
       " 'dataset/corpus/I╠çKNA ETMEK _2.mp4',\n",
       " 'dataset/corpus/TERO╠êRIST_1.mp4',\n",
       " 'dataset/corpus/SAKAL_0.mp4',\n",
       " 'dataset/corpus/SILAH_0.mp4',\n",
       " 'dataset/corpus/I╠çNS╠ğAAT _0.mp4',\n",
       " 'dataset/corpus/ADET_0.mp4',\n",
       " 'dataset/corpus/BERI_0.mp4',\n",
       " 'dataset/corpus/EMMEK_0.mp4',\n",
       " 'dataset/corpus/C╠ğIKARTMAK_1.mp4',\n",
       " 'dataset/corpus/MAAS╠ğ_0.mp4',\n",
       " 'dataset/corpus/MESAJ_2.mp4',\n",
       " 'dataset/corpus/BAL_0.mp4',\n",
       " 'dataset/corpus/ERTELENMEK_0.mp4',\n",
       " 'dataset/corpus/ZAMAN_0.mp4',\n",
       " 'dataset/corpus/BULMAK_0.mp4',\n",
       " 'dataset/corpus/BIRLES╠ğMEK_1.mp4',\n",
       " 'dataset/corpus/KURS_1.mp4',\n",
       " 'dataset/corpus/BAYRAM_0.mp4',\n",
       " 'dataset/corpus/SPOR_0.mp4',\n",
       " 'dataset/corpus/KALKMAK _1.mp4',\n",
       " 'dataset/corpus/SAG╠åLIK _1.mp4',\n",
       " 'dataset/corpus/HABER VERMEK_0.mp4',\n",
       " 'dataset/corpus/KALKMAK _0.mp4',\n",
       " 'dataset/corpus/SAG╠åLIK _0.mp4',\n",
       " 'dataset/corpus/KURS_0.mp4',\n",
       " 'dataset/corpus/BIRLES╠ğMEK_0.mp4',\n",
       " 'dataset/corpus/EKSIK_2.mp4',\n",
       " 'dataset/corpus/BAYRAM_1.mp4',\n",
       " 'dataset/corpus/ENGELLI_0.mp4',\n",
       " 'dataset/corpus/MAAS╠ğ_1.mp4',\n",
       " 'dataset/corpus/DUA_0.mp4',\n",
       " 'dataset/corpus/ZAMAN_1.mp4',\n",
       " 'dataset/corpus/I╠çNS╠ğAAT _1.mp4',\n",
       " 'dataset/corpus/C╠ğIKARTMAK_0.mp4',\n",
       " 'dataset/corpus/ELLI (50)_0.mp4',\n",
       " 'dataset/corpus/HIZMET _1.mp4',\n",
       " 'dataset/corpus/FAKIR_0.mp4',\n",
       " 'dataset/corpus/AYARLAMAK_2.mp4',\n",
       " 'dataset/corpus/SAKAL_1.mp4',\n",
       " 'dataset/corpus/TERO╠êRIST_0.mp4',\n",
       " 'dataset/corpus/VAPUR_0.mp4',\n",
       " 'dataset/corpus/YAPIS╠ğMAK_0.mp4',\n",
       " 'dataset/corpus/KILITLEMEK_0.mp4',\n",
       " 'dataset/corpus/BU_1.mp4',\n",
       " 'dataset/corpus/S╠ğIS╠ğMEK_0.mp4',\n",
       " 'dataset/corpus/BURNUNU SOKMAK_0.mp4',\n",
       " 'dataset/corpus/BALTA_0.mp4',\n",
       " 'dataset/corpus/DO╠êNU╠êS╠ğTU╠êRMEK_1.mp4',\n",
       " 'dataset/corpus/S╠ğIS╠ğMAN_0.mp4',\n",
       " 'dataset/corpus/O╠êRNEK_0.mp4',\n",
       " 'dataset/corpus/DEG╠åER_1.mp4',\n",
       " 'dataset/corpus/C╠ğAG╠åIRMAK_0.mp4',\n",
       " 'dataset/corpus/AD, I╠çSIM_0.mp4',\n",
       " 'dataset/corpus/ENDIS╠ğELI_0.mp4',\n",
       " 'dataset/corpus/DIPLOMA _2.mp4',\n",
       " 'dataset/corpus/PLAKA_0.mp4',\n",
       " 'dataset/corpus/TAHTA_1.mp4',\n",
       " 'dataset/corpus/KO╠êFTE_0.mp4',\n",
       " 'dataset/corpus/TEPSI_0.mp4',\n",
       " 'dataset/corpus/TU╠êY_0.mp4',\n",
       " 'dataset/corpus/I╠çZIN VERMEK_1.mp4',\n",
       " 'dataset/corpus/ZAYIF _0.mp4',\n",
       " 'dataset/corpus/ANLAS╠ğMAK_1.mp4',\n",
       " 'dataset/corpus/VAH_0.mp4',\n",
       " 'dataset/corpus/BOZULMAK _0.mp4',\n",
       " 'dataset/corpus/HAYIRLI OLSUN_0.mp4',\n",
       " 'dataset/corpus/TAKMAK_1.mp4',\n",
       " 'dataset/corpus/KORUMAK_0.mp4',\n",
       " 'dataset/corpus/SIZ_0.mp4',\n",
       " 'dataset/corpus/GEREKMEK_0.mp4',\n",
       " 'dataset/corpus/U╠êC╠ğU╠êNCU╠ê_2.mp4',\n",
       " 'dataset/corpus/ACI_0.mp4',\n",
       " 'dataset/corpus/YALVARMAK_0.mp4',\n",
       " 'dataset/corpus/ARAP_1.mp4',\n",
       " 'dataset/corpus/KU╠êFU╠êR_0.mp4',\n",
       " 'dataset/corpus/YETMIS╠ğ_0.mp4',\n",
       " 'dataset/corpus/TABAK_0.mp4',\n",
       " 'dataset/corpus/FESTIVAL_0.mp4',\n",
       " 'dataset/corpus/GECIKMEK_0.mp4',\n",
       " 'dataset/corpus/TEYZE_2.mp4',\n",
       " 'dataset/corpus/ANLATMAK_0.mp4',\n",
       " 'dataset/corpus/BOYAMAK_0.mp4',\n",
       " 'dataset/corpus/SANANE_0.mp4',\n",
       " 'dataset/corpus/BULUS╠ğMAK_1.mp4',\n",
       " 'dataset/corpus/BAS╠ğVURU, MU╠êRACAAT_0.mp4',\n",
       " 'dataset/corpus/BURADA _0.mp4',\n",
       " 'dataset/corpus/DU╠êN_1.mp4',\n",
       " 'dataset/corpus/YEDEK_0.mp4',\n",
       " 'dataset/corpus/AS╠ğAG╠åILAMAK_0.mp4',\n",
       " 'dataset/corpus/I╠çS╠ğ_1.mp4',\n",
       " 'dataset/corpus/FARK_1.mp4',\n",
       " 'dataset/corpus/O╠êNCE_0.mp4',\n",
       " 'dataset/corpus/EMRETMEK, EMIR VERMEK_0.mp4',\n",
       " 'dataset/corpus/KIRMAK_1.mp4',\n",
       " 'dataset/corpus/HEDEF_0.mp4',\n",
       " 'dataset/corpus/HRISTIYAN _1.mp4',\n",
       " 'dataset/corpus/GAVUR_0.mp4',\n",
       " 'dataset/corpus/CAMI_1.mp4',\n",
       " 'dataset/corpus/KOALISYON_1.mp4',\n",
       " 'dataset/corpus/KAN_0.mp4',\n",
       " 'dataset/corpus/O╠êNEMSEMEK_0.mp4',\n",
       " 'dataset/corpus/I╠çDMAN_0.mp4',\n",
       " 'dataset/corpus/S╠ğAMPIYON_0.mp4',\n",
       " 'dataset/corpus/AFFETMEK_1.mp4',\n",
       " 'dataset/corpus/BAZEN_2.mp4',\n",
       " 'dataset/corpus/I╠çLGI_1.mp4',\n",
       " 'dataset/corpus/DO╠êVMEK_0.mp4',\n",
       " 'dataset/corpus/NO╠êBET_1.mp4',\n",
       " 'dataset/corpus/KARIS╠ğIK_0.mp4',\n",
       " 'dataset/corpus/AC╠ğMAK_0.mp4',\n",
       " 'dataset/corpus/DEG╠åIS╠ğTIRMEK_1.mp4',\n",
       " 'dataset/corpus/I╠çMKANSIZ_1.mp4',\n",
       " 'dataset/corpus/C╠ğOCUK _1.mp4',\n",
       " 'dataset/corpus/KOKU _2.mp4',\n",
       " 'dataset/corpus/SORUMLU_1.mp4',\n",
       " 'dataset/corpus/BARIS╠ğMAK _0.mp4',\n",
       " 'dataset/corpus/EKONOMIK_1.mp4',\n",
       " 'dataset/corpus/FOTOKOPI_1.mp4',\n",
       " 'dataset/corpus/EKONOMI_2.mp4',\n",
       " 'dataset/corpus/PES ETMEK_0.mp4',\n",
       " 'dataset/corpus/MAKAS_0.mp4',\n",
       " 'dataset/corpus/I╠çMZA_0.mp4',\n",
       " 'dataset/corpus/HAZIRLIK_1.mp4',\n",
       " 'dataset/corpus/DIKIS╠ğ_0.mp4',\n",
       " 'dataset/corpus/BAG╠åLANMAK_2.mp4',\n",
       " 'dataset/corpus/GENEL_0.mp4',\n",
       " 'dataset/corpus/S╠ğIMDI_1.mp4',\n",
       " 'dataset/corpus/ON IKI_1.mp4',\n",
       " 'dataset/corpus/O╠êRTU╠ê_0.mp4',\n",
       " 'dataset/corpus/YU╠êKLEMEK_0.mp4',\n",
       " 'dataset/corpus/EKONOMI_0.mp4',\n",
       " 'dataset/corpus/KOPYA _1.mp4',\n",
       " 'dataset/corpus/BARIS╠ğMAK _2.mp4',\n",
       " 'dataset/corpus/I╠çNGILIZCE_0.mp4',\n",
       " 'dataset/corpus/HANGI_1.mp4',\n",
       " 'dataset/corpus/YAPI_0.mp4',\n",
       " 'dataset/corpus/BAG╠åLANMAK_0.mp4',\n",
       " 'dataset/corpus/ETEK_0.mp4',\n",
       " 'dataset/corpus/YARDIM_0.mp4',\n",
       " 'dataset/corpus/YAKIS╠ğIKLI _1.mp4',\n",
       " 'dataset/corpus/ATIS╠ğTIRMAK_0.mp4',\n",
       " 'dataset/corpus/AC╠ğMAK_2.mp4',\n",
       " 'dataset/corpus/BELLI_0.mp4',\n",
       " 'dataset/corpus/KISA_0.mp4',\n",
       " 'dataset/corpus/EVVEL_0.mp4',\n",
       " 'dataset/corpus/BANYO_0.mp4',\n",
       " 'dataset/corpus/KAC╠ğMAK_0.mp4',\n",
       " 'dataset/corpus/MUZ_1.mp4',\n",
       " 'dataset/corpus/KOKU _0.mp4',\n",
       " 'dataset/corpus/DENEMEK_0.mp4',\n",
       " 'dataset/corpus/GEC╠ğMEK_1.mp4',\n",
       " 'dataset/corpus/VOLEYBOL_0.mp4',\n",
       " 'dataset/corpus/KU╠êC╠ğU╠êLTMEK_0.mp4',\n",
       " 'dataset/corpus/JANDARMA_1.mp4',\n",
       " 'dataset/corpus/KILIC╠ğ_0.mp4',\n",
       " 'dataset/corpus/BAZEN_0.mp4',\n",
       " 'dataset/corpus/TAVSIYE_1.mp4',\n",
       " 'dataset/corpus/HEDEF_2.mp4',\n",
       " 'dataset/corpus/ABARTMAK_1.mp4',\n",
       " 'dataset/corpus/BIBER_1.mp4',\n",
       " 'dataset/corpus/MOLA_0.mp4',\n",
       " 'dataset/corpus/BAKIS╠ğMAK_0.mp4',\n",
       " 'dataset/corpus/DU╠êS╠ğMEK_1.mp4',\n",
       " 'dataset/corpus/BEKAR_0.mp4',\n",
       " 'dataset/corpus/YA_0.mp4',\n",
       " 'dataset/corpus/I╠çLAC╠ğ_0.mp4',\n",
       " 'dataset/corpus/BATMAK_0.mp4',\n",
       " 'dataset/corpus/BITIRMEK_1.mp4',\n",
       " 'dataset/corpus/BOYAMAK_2.mp4',\n",
       " 'dataset/corpus/BARDAK _1.mp4',\n",
       " 'dataset/corpus/UC╠ğURUM_0.mp4',\n",
       " 'dataset/corpus/TEYZE_0.mp4',\n",
       " 'dataset/corpus/I╠çZIN_0.mp4',\n",
       " 'dataset/corpus/HEYKEL_1.mp4',\n",
       " 'dataset/corpus/YOLCULUK_0.mp4',\n",
       " 'dataset/corpus/CIMBIZ_0.mp4',\n",
       " 'dataset/corpus/AUT_0.mp4',\n",
       " 'dataset/corpus/GU╠êNES╠ğ_1.mp4',\n",
       " 'dataset/corpus/S╠ğIMARIK_0.mp4',\n",
       " 'dataset/corpus/EG╠åER_1.mp4',\n",
       " 'dataset/corpus/I╠çG╠åRENC╠ğ_1.mp4',\n",
       " 'dataset/corpus/ACI_2.mp4',\n",
       " 'dataset/corpus/TECRU╠êBE_0.mp4',\n",
       " 'dataset/corpus/U╠êC╠ğU╠êNCU╠ê_0.mp4',\n",
       " 'dataset/corpus/GEREKMEK_2.mp4',\n",
       " 'dataset/corpus/ZAYIF _2.mp4',\n",
       " 'dataset/corpus/PASAPORT_1.mp4',\n",
       " 'dataset/corpus/SU╠êRE_0.mp4',\n",
       " 'dataset/corpus/YETENEK_1.mp4',\n",
       " 'dataset/corpus/GU╠êZEL_1.mp4',\n",
       " 'dataset/corpus/ARZU, I╠çSTEK_1.mp4',\n",
       " 'dataset/corpus/KILIM_1.mp4',\n",
       " 'dataset/corpus/DIPLOMA _0.mp4',\n",
       " 'dataset/corpus/TOK_0.mp4',\n",
       " 'dataset/corpus/HESAP _1.mp4',\n",
       " 'dataset/corpus/OLMAK_0.mp4',\n",
       " 'dataset/corpus/UZAK _1.mp4',\n",
       " 'dataset/corpus/HISSETMEK_0.mp4',\n",
       " 'dataset/corpus/TAPU_0.mp4',\n",
       " 'dataset/corpus/ORAYA_0.mp4',\n",
       " 'dataset/corpus/I╠çFLAS ETMEK_1.mp4',\n",
       " 'dataset/corpus/S╠ğIS╠ğMEK_2.mp4',\n",
       " 'dataset/corpus/AYIP_1.mp4',\n",
       " 'dataset/corpus/I╠çKNA ETMEK _1.mp4',\n",
       " 'dataset/corpus/AYARLAMAK_0.mp4',\n",
       " 'dataset/corpus/TOP_0.mp4',\n",
       " 'dataset/corpus/KIYMAK_0.mp4',\n",
       " 'dataset/corpus/OKS╠ğAMAK_0.mp4',\n",
       " 'dataset/corpus/UFAK_1.mp4',\n",
       " 'dataset/corpus/HIS_0.mp4',\n",
       " 'dataset/corpus/DIS╠ğARI _0.mp4',\n",
       " 'dataset/corpus/SEKIZ_0.mp4',\n",
       " 'dataset/corpus/MESAJ_1.mp4',\n",
       " 'dataset/corpus/DU╠êS╠ğU╠êNMEK_1.mp4',\n",
       " 'dataset/corpus/TEMMUZ_0.mp4',\n",
       " 'dataset/corpus/SABIR_0.mp4',\n",
       " 'dataset/corpus/BLUZ_0.mp4',\n",
       " 'dataset/corpus/VARMAK_0.mp4',\n",
       " 'dataset/corpus/S╠ğU╠êKU╠êR_0.mp4',\n",
       " 'dataset/corpus/UYANDIRMAK_0.mp4',\n",
       " 'dataset/corpus/KALKMAK _2.mp4',\n",
       " 'dataset/corpus/YEDIRMEK_0.mp4',\n",
       " 'dataset/corpus/AS╠ğAG╠åI_1.mp4',\n",
       " 'dataset/corpus/EKSIK_0.mp4',\n",
       " 'dataset/corpus/I╠çLGISIZ_0.mp4',\n",
       " 'dataset/corpus/BIRLES╠ğMEK_2.mp4',\n",
       " 'dataset/corpus/KURS_2.mp4',\n",
       " 'dataset/corpus/EKSIK_1.mp4',\n",
       " 'dataset/corpus/AS╠ğAG╠åI_0.mp4',\n",
       " 'dataset/corpus/BAYRAM_2.mp4',\n",
       " 'dataset/corpus/I╠çLGISIZ_1.mp4',\n",
       " 'dataset/corpus/S╠ğU╠êKU╠êR_1.mp4',\n",
       " 'dataset/corpus/VARMAK_1.mp4',\n",
       " 'dataset/corpus/BLUZ_1.mp4',\n",
       " 'dataset/corpus/AYRIMCILIK_0.mp4',\n",
       " 'dataset/corpus/TEMMUZ_1.mp4',\n",
       " 'dataset/corpus/DU╠êS╠ğU╠êNMEK_0.mp4',\n",
       " 'dataset/corpus/ZAMAN_2.mp4',\n",
       " 'dataset/corpus/I╠çMAN_0.mp4',\n",
       " 'dataset/corpus/MESAJ_0.mp4',\n",
       " 'dataset/corpus/DUMAN_0.mp4',\n",
       " 'dataset/corpus/DIS╠ğARI _1.mp4',\n",
       " 'dataset/corpus/UFAK_0.mp4',\n",
       " 'dataset/corpus/OKS╠ğAMAK_1.mp4',\n",
       " 'dataset/corpus/GEMI_0.mp4',\n",
       " 'dataset/corpus/ALAN_0.mp4',\n",
       " 'dataset/corpus/AYARLAMAK_1.mp4',\n",
       " 'dataset/corpus/I╠çKNA ETMEK _0.mp4',\n",
       " 'dataset/corpus/TOP_1.mp4',\n",
       " 'dataset/corpus/O╠êZU╠êRLU╠ê_0.mp4',\n",
       " 'dataset/corpus/HIZMET _2.mp4',\n",
       " 'dataset/corpus/RANDEVU_0.mp4',\n",
       " 'dataset/corpus/AYIP_0.mp4',\n",
       " 'dataset/corpus/I╠çFLAS ETMEK_0.mp4',\n",
       " 'dataset/corpus/UZAK _0.mp4',\n",
       " 'dataset/corpus/BUC╠ğUK_0.mp4',\n",
       " 'dataset/corpus/YEMEK _0.mp4',\n",
       " 'dataset/corpus/TOK_1.mp4',\n",
       " 'dataset/corpus/HESAP _0.mp4',\n",
       " 'dataset/corpus/TAHTA_2.mp4',\n",
       " 'dataset/corpus/OLIMPIYAT_0.mp4',\n",
       " 'dataset/corpus/KILIM_0.mp4',\n",
       " 'dataset/corpus/DIPLOMA _1.mp4',\n",
       " 'dataset/corpus/HAZIR_0.mp4',\n",
       " 'dataset/corpus/ARZU, I╠çSTEK_0.mp4',\n",
       " 'dataset/corpus/GU╠êZEL_0.mp4',\n",
       " 'dataset/corpus/PASAPORT_0.mp4',\n",
       " 'dataset/corpus/SU╠êRE_1.mp4',\n",
       " 'dataset/corpus/YETENEK_0.mp4',\n",
       " 'dataset/corpus/MORAL_0.mp4',\n",
       " 'dataset/corpus/U╠êC╠ğU╠êNCU╠ê_1.mp4',\n",
       " 'dataset/corpus/I╠çG╠åRENC╠ğ_0.mp4',\n",
       " 'dataset/corpus/EG╠åER_0.mp4',\n",
       " 'dataset/corpus/PATLAMAK_0.mp4',\n",
       " 'dataset/corpus/DAMLA_0.mp4',\n",
       " 'dataset/corpus/C╠ğIS╠ğ_0.mp4',\n",
       " 'dataset/corpus/GU╠êNES╠ğ_0.mp4',\n",
       " 'dataset/corpus/C╠ğIKARMA _0.mp4',\n",
       " 'dataset/corpus/HEYKEL_0.mp4',\n",
       " 'dataset/corpus/TEYZE_1.mp4',\n",
       " 'dataset/corpus/AZ_0.mp4',\n",
       " 'dataset/corpus/I╠çZIN_1.mp4',\n",
       " 'dataset/corpus/HEDIYE VERMEK, HEDIYE ETMEK_0.mp4',\n",
       " 'dataset/corpus/BARDAK _0.mp4',\n",
       " 'dataset/corpus/I╠çLAC╠ğ_1.mp4',\n",
       " 'dataset/corpus/BATMAK_1.mp4',\n",
       " 'dataset/corpus/YA_1.mp4',\n",
       " 'dataset/corpus/BITIRMEK_0.mp4',\n",
       " 'dataset/corpus/DU╠êS╠ğMAN_0.mp4',\n",
       " 'dataset/corpus/DU╠êS╠ğMEK_0.mp4',\n",
       " 'dataset/corpus/TAT_0.mp4',\n",
       " 'dataset/corpus/MU╠êKEMMEL_0.mp4',\n",
       " 'dataset/corpus/ABARTMAK_0.mp4',\n",
       " 'dataset/corpus/EVLENMEK_0.mp4',\n",
       " 'dataset/corpus/BIBER_0.mp4',\n",
       " 'dataset/corpus/BAZEN_1.mp4',\n",
       " 'dataset/corpus/JANDARMA_0.mp4',\n",
       " 'dataset/corpus/KILIC╠ğ_1.mp4',\n",
       " 'dataset/corpus/TAVSIYE_0.mp4',\n",
       " 'dataset/corpus/GEC╠ğMEK_0.mp4',\n",
       " 'dataset/corpus/KOALISYON_2.mp4',\n",
       " 'dataset/corpus/BALON_0.mp4',\n",
       " 'dataset/corpus/KU╠êC╠ğU╠êLTMEK_1.mp4',\n",
       " 'dataset/corpus/VOLEYBOL_1.mp4',\n",
       " 'dataset/corpus/OFLAMAK_0.mp4',\n",
       " 'dataset/corpus/BANYO_1.mp4',\n",
       " 'dataset/corpus/ERTELEMEK_0.mp4',\n",
       " 'dataset/corpus/KOKU _1.mp4',\n",
       " 'dataset/corpus/MUZ_0.mp4',\n",
       " 'dataset/corpus/YAKIS╠ğIKLI _0.mp4',\n",
       " 'dataset/corpus/DEG╠åIS╠ğTIRMEK_2.mp4',\n",
       " 'dataset/corpus/KISA_1.mp4',\n",
       " 'dataset/corpus/SELAM_0.mp4',\n",
       " 'dataset/corpus/BELLI_1.mp4',\n",
       " 'dataset/corpus/KU╠êREK_0.mp4',\n",
       " 'dataset/corpus/HANGI_0.mp4',\n",
       " 'dataset/corpus/VITAMIN_0.mp4',\n",
       " 'dataset/corpus/YARDIM_1.mp4',\n",
       " 'dataset/corpus/ETEK_1.mp4',\n",
       " 'dataset/corpus/HAZIRLIK_2.mp4',\n",
       " 'dataset/corpus/BAG╠åLANMAK_1.mp4',\n",
       " 'dataset/corpus/EKONOMI_1.mp4',\n",
       " 'dataset/corpus/YU╠êKLEMEK_1.mp4',\n",
       " 'dataset/corpus/ON IKI_0.mp4',\n",
       " 'dataset/corpus/S╠ğEREF_0.mp4',\n",
       " 'dataset/corpus/KOPYA _0.mp4',\n",
       " 'dataset/corpus/SUC╠ğ_1.mp4',\n",
       " 'dataset/corpus/YAKIS╠ğMAK_0.mp4',\n",
       " 'dataset/corpus/AVANTAJ_0.mp4',\n",
       " 'dataset/corpus/PAYLAS╠ğMAK_1.mp4',\n",
       " 'dataset/corpus/SERUM_0.mp4',\n",
       " 'dataset/corpus/AMELIYAT_0.mp4',\n",
       " 'dataset/corpus/KARTAL_1.mp4',\n",
       " 'dataset/corpus/EG╠åMEK_2.mp4',\n",
       " 'dataset/corpus/EL SIKMAK_1.mp4',\n",
       " 'dataset/corpus/UZUN_1.mp4',\n",
       " 'dataset/corpus/DAVET _2.mp4',\n",
       " 'dataset/corpus/C╠ğIPLAK_0.mp4',\n",
       " 'dataset/corpus/ONARMAK_0.mp4',\n",
       " 'dataset/corpus/NEREDE _0.mp4',\n",
       " 'dataset/corpus/NORMAL_1.mp4',\n",
       " 'dataset/corpus/MECLIS_0.mp4',\n",
       " 'dataset/corpus/KURBAN_1.mp4',\n",
       " 'dataset/corpus/DUDAK_0.mp4',\n",
       " 'dataset/corpus/BAS╠ğARILI_1.mp4',\n",
       " 'dataset/corpus/I╠çHTIYAC╠ğ_0.mp4',\n",
       " 'dataset/corpus/BAS╠ğARISIZ_2.mp4',\n",
       " 'dataset/corpus/EMZIK_0.mp4',\n",
       " 'dataset/corpus/YARIS╠ğMA_0.mp4',\n",
       " 'dataset/corpus/O YU╠êZDEN_0.mp4',\n",
       " 'dataset/corpus/FREN_0.mp4',\n",
       " 'dataset/corpus/TEMBEL_0.mp4',\n",
       " 'dataset/corpus/KAR_2.mp4',\n",
       " 'dataset/corpus/MERAK ETMEK_1.mp4',\n",
       " 'dataset/corpus/KESIN_0.mp4',\n",
       " 'dataset/corpus/GELECEK_1.mp4',\n",
       " 'dataset/corpus/ELEKTRONIK POSTA, E-POSTA_0.mp4',\n",
       " 'dataset/corpus/DOYMAK_0.mp4',\n",
       " 'dataset/corpus/KISKANC╠ğ_0.mp4',\n",
       " 'dataset/corpus/KOMIK_1.mp4',\n",
       " 'dataset/corpus/BINMEK_0.mp4',\n",
       " 'dataset/corpus/KEMER_0.mp4',\n",
       " 'dataset/corpus/DEVAM ETMEK_1.mp4',\n",
       " 'dataset/corpus/CAM_0.mp4',\n",
       " 'dataset/corpus/CEP TELEFONU_1.mp4',\n",
       " 'dataset/corpus/C╠ğARPI_0.mp4',\n",
       " 'dataset/corpus/YAS╠ğLI_0.mp4',\n",
       " 'dataset/corpus/UYKU_1.mp4',\n",
       " 'dataset/corpus/MU╠êMKU╠êN_0.mp4',\n",
       " 'dataset/corpus/SUSMAK_1.mp4',\n",
       " 'dataset/corpus/PAZAR_1.mp4',\n",
       " 'dataset/corpus/O╠êLMEK_0.mp4',\n",
       " 'dataset/corpus/HER GU╠êN_0.mp4',\n",
       " 'dataset/corpus/SERC╠ğE PARMAK_0.mp4',\n",
       " 'dataset/corpus/C╠ğES╠ğIT_0.mp4',\n",
       " 'dataset/corpus/ORTAOKUL _0.mp4',\n",
       " 'dataset/corpus/DU╠êG╠åME_1.mp4',\n",
       " 'dataset/corpus/TOST_0.mp4',\n",
       " 'dataset/corpus/OG╠åUL_2.mp4',\n",
       " 'dataset/corpus/EKMEK_0.mp4',\n",
       " 'dataset/corpus/DERI_0.mp4',\n",
       " 'dataset/corpus/SANDALYE_0.mp4',\n",
       " 'dataset/corpus/CANI C╠ğEKMEK _0.mp4',\n",
       " 'dataset/corpus/VICDAN_0.mp4',\n",
       " 'dataset/corpus/REKLAM_1.mp4',\n",
       " 'dataset/corpus/YUTMAK_0.mp4',\n",
       " 'dataset/corpus/BIC╠ğAK_0.mp4',\n",
       " 'dataset/corpus/SANAT _0.mp4',\n",
       " 'dataset/corpus/MAVI_0.mp4',\n",
       " 'dataset/corpus/MERDIVEN_0.mp4',\n",
       " 'dataset/corpus/AS╠ğI_0.mp4',\n",
       " 'dataset/corpus/BOG╠åULMAK_2.mp4',\n",
       " 'dataset/corpus/YUMURTA_2.mp4',\n",
       " 'dataset/corpus/CUMHURBAS╠ğKANI_0.mp4',\n",
       " 'dataset/corpus/BITMEK _2.mp4',\n",
       " 'dataset/corpus/VU╠êCUT _0.mp4',\n",
       " 'dataset/corpus/BAR_1.mp4',\n",
       " 'dataset/corpus/TU╠êRBAN_1.mp4',\n",
       " 'dataset/corpus/HOCA_1.mp4',\n",
       " 'dataset/corpus/KIS╠ğI_1.mp4',\n",
       " 'dataset/corpus/DEG╠åERLI _0.mp4',\n",
       " 'dataset/corpus/PU╠êRE_1.mp4',\n",
       " 'dataset/corpus/O╠êNEMLI_1.mp4',\n",
       " 'dataset/corpus/DIKMEK_1.mp4',\n",
       " 'dataset/corpus/HESAPLAMAK_2.mp4',\n",
       " 'dataset/corpus/EMZIRMEK_1.mp4',\n",
       " 'dataset/corpus/YIYECEK_0.mp4',\n",
       " 'dataset/corpus/BO╠êLME_1.mp4',\n",
       " 'dataset/corpus/OY_0.mp4',\n",
       " 'dataset/corpus/BOMBALAMAK_1.mp4',\n",
       " 'dataset/corpus/YUKARI_0.mp4',\n",
       " 'dataset/corpus/BAS╠ğBAKAN_0.mp4',\n",
       " 'dataset/corpus/PIDE_0.mp4',\n",
       " 'dataset/corpus/YU╠êZU╠êK_0.mp4',\n",
       " 'dataset/corpus/KRAL_0.mp4',\n",
       " 'dataset/corpus/DONDURMA_0.mp4',\n",
       " 'dataset/corpus/I╠çNS╠ğA_0.mp4',\n",
       " 'dataset/corpus/ES╠ğIT _2.mp4',\n",
       " 'dataset/corpus/I╠çC╠ğKI_0.mp4',\n",
       " 'dataset/corpus/NE ZAMAN_0.mp4',\n",
       " 'dataset/corpus/CEZA KESMEK, CEZA VERMEK_0.mp4',\n",
       " 'dataset/corpus/CEVAP_0.mp4',\n",
       " 'dataset/corpus/I╠çC╠ğKI_1.mp4',\n",
       " 'dataset/corpus/TU╠êNEL_0.mp4',\n",
       " 'dataset/corpus/BEN_2.mp4',\n",
       " 'dataset/corpus/ORUC╠ğ_0.mp4',\n",
       " 'dataset/corpus/I╠çNS╠ğA_1.mp4',\n",
       " 'dataset/corpus/DONDURMA_1.mp4',\n",
       " 'dataset/corpus/PIDE_1.mp4',\n",
       " 'dataset/corpus/BAS╠ğBAKAN_1.mp4',\n",
       " 'dataset/corpus/YU╠êZU╠êK_1.mp4',\n",
       " 'dataset/corpus/GU╠êLDU╠êRMEK_2.mp4',\n",
       " 'dataset/corpus/KAHVERENGI_2.mp4',\n",
       " 'dataset/corpus/DAYI_0.mp4',\n",
       " 'dataset/corpus/BOMBALAMAK_0.mp4',\n",
       " 'dataset/corpus/DEVRILMEK_2.mp4',\n",
       " 'dataset/corpus/BO╠êLME_0.mp4',\n",
       " 'dataset/corpus/DIKMEK_0.mp4',\n",
       " 'dataset/corpus/ORTA _2.mp4',\n",
       " 'dataset/corpus/PU╠êRE_0.mp4',\n",
       " 'dataset/corpus/O╠êNEMLI_0.mp4',\n",
       " 'dataset/corpus/DEG╠åERLI _1.mp4',\n",
       " 'dataset/corpus/EMZIRMEK_0.mp4',\n",
       " 'dataset/corpus/EKIM_2.mp4',\n",
       " 'dataset/corpus/KIS╠ğI_0.mp4',\n",
       " 'dataset/corpus/VATANDAS╠ğ_0.mp4',\n",
       " 'dataset/corpus/BAR_0.mp4',\n",
       " 'dataset/corpus/HOCA_0.mp4',\n",
       " 'dataset/corpus/TU╠êRBAN_0.mp4',\n",
       " 'dataset/corpus/CUMHURBAS╠ğKANI_1.mp4',\n",
       " 'dataset/corpus/VU╠êCUT _1.mp4',\n",
       " 'dataset/corpus/MERDIVEN_1.mp4',\n",
       " 'dataset/corpus/MAVI_1.mp4',\n",
       " 'dataset/corpus/AG╠åRITMAK_2.mp4',\n",
       " 'dataset/corpus/BIC╠ğAK_1.mp4',\n",
       " 'dataset/corpus/ARABA_0.mp4',\n",
       " 'dataset/corpus/TUVALET_2.mp4',\n",
       " 'dataset/corpus/BEL_0.mp4',\n",
       " 'dataset/corpus/UZMAN_2.mp4',\n",
       " 'dataset/corpus/OYUN OYNAMAK_0.mp4',\n",
       " 'dataset/corpus/DERI_1.mp4',\n",
       " 'dataset/corpus/EKMEK_1.mp4',\n",
       " 'dataset/corpus/REKLAM_0.mp4',\n",
       " 'dataset/corpus/CANI C╠ğEKMEK _1.mp4',\n",
       " 'dataset/corpus/TOST_1.mp4',\n",
       " 'dataset/corpus/GRUP_0.mp4',\n",
       " 'dataset/corpus/U╠êS╠ğU╠êMEK_0.mp4',\n",
       " 'dataset/corpus/AYAKKABI _0.mp4',\n",
       " 'dataset/corpus/ORTAOKUL _1.mp4',\n",
       " 'dataset/corpus/DU╠êG╠åME_0.mp4',\n",
       " 'dataset/corpus/KARATE_0.mp4',\n",
       " 'dataset/corpus/C╠ğES╠ğIT_1.mp4',\n",
       " 'dataset/corpus/BENZETMEK_2.mp4',\n",
       " 'dataset/corpus/AZIM_0.mp4',\n",
       " 'dataset/corpus/PAZAR_0.mp4',\n",
       " 'dataset/corpus/YES╠ğIL_2.mp4',\n",
       " 'dataset/corpus/O╠êLMEK_1.mp4',\n",
       " 'dataset/corpus/ADAM_2.mp4',\n",
       " 'dataset/corpus/UYKU_0.mp4',\n",
       " 'dataset/corpus/CIDDI_0.mp4',\n",
       " 'dataset/corpus/CEP TELEFONU_0.mp4',\n",
       " 'dataset/corpus/SUSMAK_0.mp4',\n",
       " 'dataset/corpus/AIT_2.mp4',\n",
       " 'dataset/corpus/DEVAM ETMEK_0.mp4',\n",
       " 'dataset/corpus/I╠çG╠åNE_2.mp4',\n",
       " 'dataset/corpus/CAM_1.mp4',\n",
       " 'dataset/corpus/BINMEK_1.mp4',\n",
       " ...]"
      ]
     },
     "execution_count": 3,
     "metadata": {},
     "output_type": "execute_result"
    }
   ],
   "source": [
    "mp4_files = glob.glob(\"dataset/corpus/*.mp4\")\n",
    "mp4_files"
   ]
  },
  {
   "cell_type": "code",
   "execution_count": 9,
   "metadata": {},
   "outputs": [
    {
     "name": "stdout",
     "output_type": "stream",
     "text": [
      "Analyzing 0/3395 : dataset/corpus/GEREK _1.mp4\n"
     ]
    },
    {
     "name": "stderr",
     "output_type": "stream",
     "text": [
      "I0000 00:00:1711849654.765789       1 gl_context.cc:344] GL version: 2.1 (2.1 Metal - 88), renderer: Apple M1\n"
     ]
    },
    {
     "name": "stdout",
     "output_type": "stream",
     "text": [
      "Analyzing 1/3395 : dataset/corpus/I╠çLGINC╠ğ_0.mp4\n"
     ]
    },
    {
     "name": "stderr",
     "output_type": "stream",
     "text": [
      "I0000 00:00:1711849656.851386       1 gl_context.cc:344] GL version: 2.1 (2.1 Metal - 88), renderer: Apple M1\n"
     ]
    },
    {
     "name": "stdout",
     "output_type": "stream",
     "text": [
      "Analyzing 2/3395 : dataset/corpus/MEMUR_1.mp4\n"
     ]
    },
    {
     "name": "stderr",
     "output_type": "stream",
     "text": [
      "I0000 00:00:1711849658.999289       1 gl_context.cc:344] GL version: 2.1 (2.1 Metal - 88), renderer: Apple M1\n"
     ]
    },
    {
     "name": "stdout",
     "output_type": "stream",
     "text": [
      "Analyzing 3/3395 : dataset/corpus/BAS╠ğPARMAK_0.mp4\n"
     ]
    },
    {
     "name": "stderr",
     "output_type": "stream",
     "text": [
      "I0000 00:00:1711849661.250515       1 gl_context.cc:344] GL version: 2.1 (2.1 Metal - 88), renderer: Apple M1\n"
     ]
    },
    {
     "name": "stdout",
     "output_type": "stream",
     "text": [
      "Analyzing 4/3395 : dataset/corpus/YILDIZ_0.mp4\n"
     ]
    },
    {
     "name": "stderr",
     "output_type": "stream",
     "text": [
      "I0000 00:00:1711849662.867248       1 gl_context.cc:344] GL version: 2.1 (2.1 Metal - 88), renderer: Apple M1\n"
     ]
    },
    {
     "name": "stdout",
     "output_type": "stream",
     "text": [
      "Analyzing 5/3395 : dataset/corpus/ZARF_0.mp4\n"
     ]
    },
    {
     "name": "stderr",
     "output_type": "stream",
     "text": [
      "I0000 00:00:1711849665.515727       1 gl_context.cc:344] GL version: 2.1 (2.1 Metal - 88), renderer: Apple M1\n"
     ]
    },
    {
     "name": "stdout",
     "output_type": "stream",
     "text": [
      "Analyzing 6/3395 : dataset/corpus/SERVIS_1.mp4\n"
     ]
    },
    {
     "name": "stderr",
     "output_type": "stream",
     "text": [
      "I0000 00:00:1711849667.394095       1 gl_context.cc:344] GL version: 2.1 (2.1 Metal - 88), renderer: Apple M1\n"
     ]
    },
    {
     "name": "stdout",
     "output_type": "stream",
     "text": [
      "Analyzing 7/3395 : dataset/corpus/HAKLI_0.mp4\n"
     ]
    },
    {
     "name": "stderr",
     "output_type": "stream",
     "text": [
      "I0000 00:00:1711849669.221865       1 gl_context.cc:344] GL version: 2.1 (2.1 Metal - 88), renderer: Apple M1\n"
     ]
    },
    {
     "name": "stdout",
     "output_type": "stream",
     "text": [
      "Analyzing 8/3395 : dataset/corpus/KIM_1.mp4\n"
     ]
    },
    {
     "name": "stderr",
     "output_type": "stream",
     "text": [
      "I0000 00:00:1711849672.898081       1 gl_context.cc:344] GL version: 2.1 (2.1 Metal - 88), renderer: Apple M1\n"
     ]
    },
    {
     "name": "stdout",
     "output_type": "stream",
     "text": [
      "Analyzing 9/3395 : dataset/corpus/I╠çKISI_0.mp4\n"
     ]
    },
    {
     "name": "stderr",
     "output_type": "stream",
     "text": [
      "I0000 00:00:1711849676.055039       1 gl_context.cc:344] GL version: 2.1 (2.1 Metal - 88), renderer: Apple M1\n"
     ]
    },
    {
     "name": "stdout",
     "output_type": "stream",
     "text": [
      "Analyzing 10/3395 : dataset/corpus/DIG╠åER_0.mp4\n"
     ]
    },
    {
     "name": "stderr",
     "output_type": "stream",
     "text": [
      "I0000 00:00:1711849678.693342       1 gl_context.cc:344] GL version: 2.1 (2.1 Metal - 88), renderer: Apple M1\n"
     ]
    },
    {
     "name": "stdout",
     "output_type": "stream",
     "text": [
      "Analyzing 11/3395 : dataset/corpus/BAYRAK_0.mp4\n"
     ]
    },
    {
     "name": "stderr",
     "output_type": "stream",
     "text": [
      "I0000 00:00:1711849680.477602       1 gl_context.cc:344] GL version: 2.1 (2.1 Metal - 88), renderer: Apple M1\n"
     ]
    },
    {
     "name": "stdout",
     "output_type": "stream",
     "text": [
      "Analyzing 12/3395 : dataset/corpus/I╠çNS╠ğALLAH_1.mp4\n"
     ]
    },
    {
     "name": "stderr",
     "output_type": "stream",
     "text": [
      "I0000 00:00:1711849683.168938       1 gl_context.cc:344] GL version: 2.1 (2.1 Metal - 88), renderer: Apple M1\n"
     ]
    },
    {
     "name": "stdout",
     "output_type": "stream",
     "text": [
      "Analyzing 13/3395 : dataset/corpus/HOPARLO╠êR_0.mp4\n"
     ]
    },
    {
     "name": "stderr",
     "output_type": "stream",
     "text": [
      "I0000 00:00:1711849684.692808       1 gl_context.cc:344] GL version: 2.1 (2.1 Metal - 88), renderer: Apple M1\n"
     ]
    },
    {
     "name": "stdout",
     "output_type": "stream",
     "text": [
      "Analyzing 14/3395 : dataset/corpus/I╠çMZALAMAK_0.mp4\n"
     ]
    },
    {
     "name": "stderr",
     "output_type": "stream",
     "text": [
      "I0000 00:00:1711849687.606792       1 gl_context.cc:344] GL version: 2.1 (2.1 Metal - 88), renderer: Apple M1\n"
     ]
    },
    {
     "name": "stdout",
     "output_type": "stream",
     "text": [
      "Analyzing 15/3395 : dataset/corpus/GARANTI_0.mp4\n"
     ]
    },
    {
     "name": "stderr",
     "output_type": "stream",
     "text": [
      "I0000 00:00:1711849689.391266       1 gl_context.cc:344] GL version: 2.1 (2.1 Metal - 88), renderer: Apple M1\n"
     ]
    },
    {
     "name": "stdout",
     "output_type": "stream",
     "text": [
      "Analyzing 16/3395 : dataset/corpus/KUSURA BAKMAMAK_1.mp4\n"
     ]
    },
    {
     "name": "stderr",
     "output_type": "stream",
     "text": [
      "I0000 00:00:1711849692.225193       1 gl_context.cc:344] GL version: 2.1 (2.1 Metal - 88), renderer: Apple M1\n"
     ]
    },
    {
     "name": "stdout",
     "output_type": "stream",
     "text": [
      "Analyzing 17/3395 : dataset/corpus/SAC╠ğ_0.mp4\n"
     ]
    },
    {
     "name": "stderr",
     "output_type": "stream",
     "text": [
      "I0000 00:00:1711849694.926057       1 gl_context.cc:344] GL version: 2.1 (2.1 Metal - 88), renderer: Apple M1\n"
     ]
    },
    {
     "name": "stdout",
     "output_type": "stream",
     "text": [
      "Analyzing 18/3395 : dataset/corpus/VERGI _1.mp4\n"
     ]
    },
    {
     "name": "stderr",
     "output_type": "stream",
     "text": [
      "I0000 00:00:1711849697.269721       1 gl_context.cc:344] GL version: 2.1 (2.1 Metal - 88), renderer: Apple M1\n"
     ]
    },
    {
     "name": "stdout",
     "output_type": "stream",
     "text": [
      "Analyzing 19/3395 : dataset/corpus/YAVAS╠ğLAMAK_0.mp4\n"
     ]
    },
    {
     "name": "stderr",
     "output_type": "stream",
     "text": [
      "I0000 00:00:1711849699.165320       1 gl_context.cc:344] GL version: 2.1 (2.1 Metal - 88), renderer: Apple M1\n"
     ]
    },
    {
     "name": "stdout",
     "output_type": "stream",
     "text": [
      "Analyzing 20/3395 : dataset/corpus/BAG╠åIMSIZ _0.mp4\n"
     ]
    },
    {
     "name": "stderr",
     "output_type": "stream",
     "text": [
      "I0000 00:00:1711849700.963827       1 gl_context.cc:344] GL version: 2.1 (2.1 Metal - 88), renderer: Apple M1\n"
     ]
    },
    {
     "name": "stdout",
     "output_type": "stream",
     "text": [
      "Analyzing 21/3395 : dataset/corpus/GO╠êNU╠êL_0.mp4\n"
     ]
    },
    {
     "name": "stderr",
     "output_type": "stream",
     "text": [
      "I0000 00:00:1711849704.185303       1 gl_context.cc:344] GL version: 2.1 (2.1 Metal - 88), renderer: Apple M1\n"
     ]
    },
    {
     "name": "stdout",
     "output_type": "stream",
     "text": [
      "Analyzing 22/3395 : dataset/corpus/TREN_1.mp4\n"
     ]
    },
    {
     "name": "stderr",
     "output_type": "stream",
     "text": [
      "I0000 00:00:1711849705.885388       1 gl_context.cc:344] GL version: 2.1 (2.1 Metal - 88), renderer: Apple M1\n"
     ]
    },
    {
     "name": "stdout",
     "output_type": "stream",
     "text": [
      "Analyzing 23/3395 : dataset/corpus/C╠ğAY_1.mp4\n"
     ]
    },
    {
     "name": "stderr",
     "output_type": "stream",
     "text": [
      "I0000 00:00:1711849708.712584       1 gl_context.cc:344] GL version: 2.1 (2.1 Metal - 88), renderer: Apple M1\n"
     ]
    },
    {
     "name": "stdout",
     "output_type": "stream",
     "text": [
      "Analyzing 24/3395 : dataset/corpus/UC╠ğAK_0.mp4\n"
     ]
    },
    {
     "name": "stderr",
     "output_type": "stream",
     "text": [
      "I0000 00:00:1711849711.617026       1 gl_context.cc:344] GL version: 2.1 (2.1 Metal - 88), renderer: Apple M1\n"
     ]
    },
    {
     "name": "stdout",
     "output_type": "stream",
     "text": [
      "Analyzing 25/3395 : dataset/corpus/ALET_0.mp4\n"
     ]
    },
    {
     "name": "stderr",
     "output_type": "stream",
     "text": [
      "I0000 00:00:1711849714.002389       1 gl_context.cc:344] GL version: 2.1 (2.1 Metal - 88), renderer: Apple M1\n"
     ]
    },
    {
     "name": "stdout",
     "output_type": "stream",
     "text": [
      "Analyzing 26/3395 : dataset/corpus/PRATIK_0.mp4\n"
     ]
    },
    {
     "name": "stderr",
     "output_type": "stream",
     "text": [
      "I0000 00:00:1711849716.153193       1 gl_context.cc:344] GL version: 2.1 (2.1 Metal - 88), renderer: Apple M1\n"
     ]
    },
    {
     "name": "stdout",
     "output_type": "stream",
     "text": [
      "Analyzing 27/3395 : dataset/corpus/I╠çC╠ğIN_0.mp4\n"
     ]
    },
    {
     "name": "stderr",
     "output_type": "stream",
     "text": [
      "I0000 00:00:1711849718.042290       1 gl_context.cc:344] GL version: 2.1 (2.1 Metal - 88), renderer: Apple M1\n"
     ]
    },
    {
     "name": "stdout",
     "output_type": "stream",
     "text": [
      "Analyzing 28/3395 : dataset/corpus/BIRA_1.mp4\n"
     ]
    },
    {
     "name": "stderr",
     "output_type": "stream",
     "text": [
      "I0000 00:00:1711849720.014358       1 gl_context.cc:344] GL version: 2.1 (2.1 Metal - 88), renderer: Apple M1\n"
     ]
    },
    {
     "name": "stdout",
     "output_type": "stream",
     "text": [
      "Analyzing 29/3395 : dataset/corpus/MART_1.mp4\n"
     ]
    },
    {
     "name": "stderr",
     "output_type": "stream",
     "text": [
      "I0000 00:00:1711849722.838502       1 gl_context.cc:344] GL version: 2.1 (2.1 Metal - 88), renderer: Apple M1\n"
     ]
    },
    {
     "name": "stdout",
     "output_type": "stream",
     "text": [
      "Analyzing 30/3395 : dataset/corpus/U╠êLKE_2.mp4\n"
     ]
    },
    {
     "name": "stderr",
     "output_type": "stream",
     "text": [
      "I0000 00:00:1711849725.487035       1 gl_context.cc:344] GL version: 2.1 (2.1 Metal - 88), renderer: Apple M1\n"
     ]
    },
    {
     "name": "stdout",
     "output_type": "stream",
     "text": [
      "Analyzing 31/3395 : dataset/corpus/ODYOLOJI_1.mp4\n"
     ]
    },
    {
     "name": "stderr",
     "output_type": "stream",
     "text": [
      "I0000 00:00:1711849727.259662       1 gl_context.cc:344] GL version: 2.1 (2.1 Metal - 88), renderer: Apple M1\n"
     ]
    },
    {
     "name": "stdout",
     "output_type": "stream",
     "text": [
      "Analyzing 32/3395 : dataset/corpus/EG╠åITMEK_0.mp4\n"
     ]
    },
    {
     "name": "stderr",
     "output_type": "stream",
     "text": [
      "I0000 00:00:1711849729.729075       1 gl_context.cc:344] GL version: 2.1 (2.1 Metal - 88), renderer: Apple M1\n"
     ]
    },
    {
     "name": "stdout",
     "output_type": "stream",
     "text": [
      "Analyzing 33/3395 : dataset/corpus/ORTA SAHA_0.mp4\n"
     ]
    },
    {
     "name": "stderr",
     "output_type": "stream",
     "text": [
      "I0000 00:00:1711849732.406900       1 gl_context.cc:344] GL version: 2.1 (2.1 Metal - 88), renderer: Apple M1\n"
     ]
    },
    {
     "name": "stdout",
     "output_type": "stream",
     "text": [
      "Analyzing 34/3395 : dataset/corpus/BENCE_0.mp4\n"
     ]
    },
    {
     "name": "stderr",
     "output_type": "stream",
     "text": [
      "I0000 00:00:1711849734.220680       1 gl_context.cc:344] GL version: 2.1 (2.1 Metal - 88), renderer: Apple M1\n"
     ]
    },
    {
     "name": "stdout",
     "output_type": "stream",
     "text": [
      "Analyzing 35/3395 : dataset/corpus/KALP_0.mp4\n"
     ]
    },
    {
     "name": "stderr",
     "output_type": "stream",
     "text": [
      "I0000 00:00:1711849736.413761       1 gl_context.cc:344] GL version: 2.1 (2.1 Metal - 88), renderer: Apple M1\n"
     ]
    },
    {
     "name": "stdout",
     "output_type": "stream",
     "text": [
      "Analyzing 36/3395 : dataset/corpus/METRO_0.mp4\n"
     ]
    },
    {
     "name": "stderr",
     "output_type": "stream",
     "text": [
      "I0000 00:00:1711849738.096616       1 gl_context.cc:344] GL version: 2.1 (2.1 Metal - 88), renderer: Apple M1\n"
     ]
    },
    {
     "name": "stdout",
     "output_type": "stream",
     "text": [
      "Analyzing 37/3395 : dataset/corpus/PARMAK _1.mp4\n"
     ]
    },
    {
     "name": "stderr",
     "output_type": "stream",
     "text": [
      "I0000 00:00:1711849740.517010       1 gl_context.cc:344] GL version: 2.1 (2.1 Metal - 88), renderer: Apple M1\n"
     ]
    },
    {
     "name": "stdout",
     "output_type": "stream",
     "text": [
      "Analyzing 38/3395 : dataset/corpus/S╠ğIS╠ğE_0.mp4\n"
     ]
    },
    {
     "name": "stderr",
     "output_type": "stream",
     "text": [
      "I0000 00:00:1711849742.677377       1 gl_context.cc:344] GL version: 2.1 (2.1 Metal - 88), renderer: Apple M1\n"
     ]
    },
    {
     "name": "stdout",
     "output_type": "stream",
     "text": [
      "Analyzing 39/3395 : dataset/corpus/KILO_2.mp4\n"
     ]
    },
    {
     "name": "stderr",
     "output_type": "stream",
     "text": [
      "I0000 00:00:1711849744.510295       1 gl_context.cc:344] GL version: 2.1 (2.1 Metal - 88), renderer: Apple M1\n"
     ]
    },
    {
     "name": "stdout",
     "output_type": "stream",
     "text": [
      "Analyzing 40/3395 : dataset/corpus/TEKME_1.mp4\n"
     ]
    },
    {
     "name": "stderr",
     "output_type": "stream",
     "text": [
      "I0000 00:00:1711849746.522170       1 gl_context.cc:344] GL version: 2.1 (2.1 Metal - 88), renderer: Apple M1\n"
     ]
    },
    {
     "name": "stdout",
     "output_type": "stream",
     "text": [
      "Analyzing 41/3395 : dataset/corpus/TAKSIT_0.mp4\n"
     ]
    },
    {
     "name": "stderr",
     "output_type": "stream",
     "text": [
      "I0000 00:00:1711849748.132894       1 gl_context.cc:344] GL version: 2.1 (2.1 Metal - 88), renderer: Apple M1\n"
     ]
    },
    {
     "name": "stdout",
     "output_type": "stream",
     "text": [
      "Analyzing 42/3395 : dataset/corpus/YAZ_0.mp4\n"
     ]
    },
    {
     "name": "stderr",
     "output_type": "stream",
     "text": [
      "I0000 00:00:1711849749.965082       1 gl_context.cc:344] GL version: 2.1 (2.1 Metal - 88), renderer: Apple M1\n"
     ]
    },
    {
     "name": "stdout",
     "output_type": "stream",
     "text": [
      "Analyzing 43/3395 : dataset/corpus/SEVGILI_2.mp4\n"
     ]
    },
    {
     "name": "stderr",
     "output_type": "stream",
     "text": [
      "I0000 00:00:1711849752.513568       1 gl_context.cc:344] GL version: 2.1 (2.1 Metal - 88), renderer: Apple M1\n"
     ]
    },
    {
     "name": "stdout",
     "output_type": "stream",
     "text": [
      "Analyzing 44/3395 : dataset/corpus/KOL_0.mp4\n"
     ]
    },
    {
     "name": "stderr",
     "output_type": "stream",
     "text": [
      "I0000 00:00:1711849754.719994       1 gl_context.cc:344] GL version: 2.1 (2.1 Metal - 88), renderer: Apple M1\n"
     ]
    },
    {
     "name": "stdout",
     "output_type": "stream",
     "text": [
      "Analyzing 45/3395 : dataset/corpus/ONAYLAMAK_0.mp4\n"
     ]
    },
    {
     "name": "stderr",
     "output_type": "stream",
     "text": [
      "I0000 00:00:1711849757.363947       1 gl_context.cc:344] GL version: 2.1 (2.1 Metal - 88), renderer: Apple M1\n"
     ]
    },
    {
     "name": "stdout",
     "output_type": "stream",
     "text": [
      "Analyzing 46/3395 : dataset/corpus/DERS _1.mp4\n"
     ]
    },
    {
     "name": "stderr",
     "output_type": "stream",
     "text": [
      "I0000 00:00:1711849759.217861       1 gl_context.cc:344] GL version: 2.1 (2.1 Metal - 88), renderer: Apple M1\n"
     ]
    },
    {
     "name": "stdout",
     "output_type": "stream",
     "text": [
      "Analyzing 47/3395 : dataset/corpus/EKRAN_0.mp4\n"
     ]
    },
    {
     "name": "stderr",
     "output_type": "stream",
     "text": [
      "I0000 00:00:1711849760.979468       1 gl_context.cc:344] GL version: 2.1 (2.1 Metal - 88), renderer: Apple M1\n"
     ]
    },
    {
     "name": "stdout",
     "output_type": "stream",
     "text": [
      "Analyzing 48/3395 : dataset/corpus/BURA_2.mp4\n"
     ]
    },
    {
     "name": "stderr",
     "output_type": "stream",
     "text": [
      "I0000 00:00:1711849762.958421       1 gl_context.cc:344] GL version: 2.1 (2.1 Metal - 88), renderer: Apple M1\n"
     ]
    },
    {
     "name": "stdout",
     "output_type": "stream",
     "text": [
      "Analyzing 49/3395 : dataset/corpus/BAKMAK_1.mp4\n"
     ]
    },
    {
     "name": "stderr",
     "output_type": "stream",
     "text": [
      "I0000 00:00:1711849764.665433       1 gl_context.cc:344] GL version: 2.1 (2.1 Metal - 88), renderer: Apple M1\n"
     ]
    },
    {
     "name": "stdout",
     "output_type": "stream",
     "text": [
      "Analyzing 50/3395 : dataset/corpus/MIMIK_0.mp4\n"
     ]
    },
    {
     "name": "stderr",
     "output_type": "stream",
     "text": [
      "I0000 00:00:1711849766.464801       1 gl_context.cc:344] GL version: 2.1 (2.1 Metal - 88), renderer: Apple M1\n"
     ]
    },
    {
     "name": "stdout",
     "output_type": "stream",
     "text": [
      "Analyzing 51/3395 : dataset/corpus/CEP_1.mp4\n"
     ]
    },
    {
     "name": "stderr",
     "output_type": "stream",
     "text": [
      "I0000 00:00:1711849768.741519       1 gl_context.cc:344] GL version: 2.1 (2.1 Metal - 88), renderer: Apple M1\n"
     ]
    },
    {
     "name": "stdout",
     "output_type": "stream",
     "text": [
      "Analyzing 52/3395 : dataset/corpus/ZIL C╠ğALMAK_2.mp4\n"
     ]
    },
    {
     "name": "stderr",
     "output_type": "stream",
     "text": [
      "I0000 00:00:1711849770.840154       1 gl_context.cc:344] GL version: 2.1 (2.1 Metal - 88), renderer: Apple M1\n"
     ]
    },
    {
     "name": "stdout",
     "output_type": "stream",
     "text": [
      "Analyzing 53/3395 : dataset/corpus/MODEL_0.mp4\n"
     ]
    },
    {
     "name": "stderr",
     "output_type": "stream",
     "text": [
      "I0000 00:00:1711849772.647445       1 gl_context.cc:344] GL version: 2.1 (2.1 Metal - 88), renderer: Apple M1\n"
     ]
    },
    {
     "name": "stdout",
     "output_type": "stream",
     "text": [
      "Analyzing 54/3395 : dataset/corpus/TUTULMAK_0.mp4\n"
     ]
    },
    {
     "name": "stderr",
     "output_type": "stream",
     "text": [
      "I0000 00:00:1711849774.688325       1 gl_context.cc:344] GL version: 2.1 (2.1 Metal - 88), renderer: Apple M1\n"
     ]
    },
    {
     "name": "stdout",
     "output_type": "stream",
     "text": [
      "Analyzing 55/3395 : dataset/corpus/AMAN_1.mp4\n"
     ]
    },
    {
     "name": "stderr",
     "output_type": "stream",
     "text": [
      "I0000 00:00:1711849776.652599       1 gl_context.cc:344] GL version: 2.1 (2.1 Metal - 88), renderer: Apple M1\n"
     ]
    },
    {
     "name": "stdout",
     "output_type": "stream",
     "text": [
      "Analyzing 56/3395 : dataset/corpus/HESAP MAKINESI_0.mp4\n"
     ]
    },
    {
     "name": "stderr",
     "output_type": "stream",
     "text": [
      "I0000 00:00:1711849778.349475       1 gl_context.cc:344] GL version: 2.1 (2.1 Metal - 88), renderer: Apple M1\n"
     ]
    },
    {
     "name": "stdout",
     "output_type": "stream",
     "text": [
      "Analyzing 57/3395 : dataset/corpus/HIRSIZ_1.mp4\n"
     ]
    },
    {
     "name": "stderr",
     "output_type": "stream",
     "text": [
      "I0000 00:00:1711849780.062363       1 gl_context.cc:344] GL version: 2.1 (2.1 Metal - 88), renderer: Apple M1\n"
     ]
    },
    {
     "name": "stdout",
     "output_type": "stream",
     "text": [
      "Analyzing 58/3395 : dataset/corpus/KAPALI_1.mp4\n"
     ]
    },
    {
     "name": "stderr",
     "output_type": "stream",
     "text": [
      "I0000 00:00:1711849782.133041       1 gl_context.cc:344] GL version: 2.1 (2.1 Metal - 88), renderer: Apple M1\n"
     ]
    },
    {
     "name": "stdout",
     "output_type": "stream",
     "text": [
      "Analyzing 59/3395 : dataset/corpus/HAYRAN KALMAK_0.mp4\n"
     ]
    },
    {
     "name": "stderr",
     "output_type": "stream",
     "text": [
      "I0000 00:00:1711849784.862443       1 gl_context.cc:344] GL version: 2.1 (2.1 Metal - 88), renderer: Apple M1\n"
     ]
    },
    {
     "name": "stdout",
     "output_type": "stream",
     "text": [
      "Analyzing 60/3395 : dataset/corpus/YATMAK_1.mp4\n"
     ]
    },
    {
     "name": "stderr",
     "output_type": "stream",
     "text": [
      "I0000 00:00:1711849786.814780       1 gl_context.cc:344] GL version: 2.1 (2.1 Metal - 88), renderer: Apple M1\n"
     ]
    },
    {
     "name": "stdout",
     "output_type": "stream",
     "text": [
      "Analyzing 61/3395 : dataset/corpus/SIVRI_0.mp4\n"
     ]
    },
    {
     "name": "stderr",
     "output_type": "stream",
     "text": [
      "I0000 00:00:1711849788.223111       1 gl_context.cc:344] GL version: 2.1 (2.1 Metal - 88), renderer: Apple M1\n"
     ]
    },
    {
     "name": "stdout",
     "output_type": "stream",
     "text": [
      "Analyzing 62/3395 : dataset/corpus/DEG╠åIS╠ğ TOKUS╠ğ_0.mp4\n"
     ]
    },
    {
     "name": "stderr",
     "output_type": "stream",
     "text": [
      "I0000 00:00:1711849790.799398       1 gl_context.cc:344] GL version: 2.1 (2.1 Metal - 88), renderer: Apple M1\n"
     ]
    },
    {
     "name": "stdout",
     "output_type": "stream",
     "text": [
      "Analyzing 63/3395 : dataset/corpus/KAVGA ETMEK_0.mp4\n"
     ]
    },
    {
     "name": "stderr",
     "output_type": "stream",
     "text": [
      "I0000 00:00:1711849793.390520       1 gl_context.cc:344] GL version: 2.1 (2.1 Metal - 88), renderer: Apple M1\n"
     ]
    },
    {
     "name": "stdout",
     "output_type": "stream",
     "text": [
      "Analyzing 64/3395 : dataset/corpus/HAZIRLAMAK_0.mp4\n"
     ]
    },
    {
     "name": "stderr",
     "output_type": "stream",
     "text": [
      "I0000 00:00:1711849795.504591       1 gl_context.cc:344] GL version: 2.1 (2.1 Metal - 88), renderer: Apple M1\n"
     ]
    },
    {
     "name": "stdout",
     "output_type": "stream",
     "text": [
      "Analyzing 65/3395 : dataset/corpus/PROJE _0.mp4\n"
     ]
    },
    {
     "name": "stderr",
     "output_type": "stream",
     "text": [
      "I0000 00:00:1711849797.633015       1 gl_context.cc:344] GL version: 2.1 (2.1 Metal - 88), renderer: Apple M1\n"
     ]
    },
    {
     "name": "stdout",
     "output_type": "stream",
     "text": [
      "Analyzing 66/3395 : dataset/corpus/BAS╠ğARMAK_0.mp4\n"
     ]
    },
    {
     "name": "stderr",
     "output_type": "stream",
     "text": [
      "I0000 00:00:1711849800.134108       1 gl_context.cc:344] GL version: 2.1 (2.1 Metal - 88), renderer: Apple M1\n"
     ]
    },
    {
     "name": "stdout",
     "output_type": "stream",
     "text": [
      "Analyzing 67/3395 : dataset/corpus/BELGE_1.mp4\n"
     ]
    },
    {
     "name": "stderr",
     "output_type": "stream",
     "text": [
      "I0000 00:00:1711849801.684285       1 gl_context.cc:344] GL version: 2.1 (2.1 Metal - 88), renderer: Apple M1\n"
     ]
    },
    {
     "name": "stdout",
     "output_type": "stream",
     "text": [
      "Analyzing 68/3395 : dataset/corpus/UG╠åUR_1.mp4\n"
     ]
    },
    {
     "name": "stderr",
     "output_type": "stream",
     "text": [
      "I0000 00:00:1711849804.304213       1 gl_context.cc:344] GL version: 2.1 (2.1 Metal - 88), renderer: Apple M1\n"
     ]
    },
    {
     "name": "stdout",
     "output_type": "stream",
     "text": [
      "Analyzing 69/3395 : dataset/corpus/DU╠êNYA_1.mp4\n"
     ]
    },
    {
     "name": "stderr",
     "output_type": "stream",
     "text": [
      "I0000 00:00:1711849806.061350       1 gl_context.cc:344] GL version: 2.1 (2.1 Metal - 88), renderer: Apple M1\n"
     ]
    },
    {
     "name": "stdout",
     "output_type": "stream",
     "text": [
      "Analyzing 70/3395 : dataset/corpus/ALC╠ğALMAK_0.mp4\n"
     ]
    },
    {
     "name": "stderr",
     "output_type": "stream",
     "text": [
      "I0000 00:00:1711849807.961306       1 gl_context.cc:344] GL version: 2.1 (2.1 Metal - 88), renderer: Apple M1\n"
     ]
    },
    {
     "name": "stdout",
     "output_type": "stream",
     "text": [
      "Analyzing 71/3395 : dataset/corpus/HIZ _2.mp4\n"
     ]
    },
    {
     "name": "stderr",
     "output_type": "stream",
     "text": [
      "I0000 00:00:1711849809.827711       1 gl_context.cc:344] GL version: 2.1 (2.1 Metal - 88), renderer: Apple M1\n"
     ]
    },
    {
     "name": "stdout",
     "output_type": "stream",
     "text": [
      "Analyzing 72/3395 : dataset/corpus/S╠ğOK _1.mp4\n"
     ]
    },
    {
     "name": "stderr",
     "output_type": "stream",
     "text": [
      "I0000 00:00:1711849811.406967       1 gl_context.cc:344] GL version: 2.1 (2.1 Metal - 88), renderer: Apple M1\n"
     ]
    },
    {
     "name": "stdout",
     "output_type": "stream",
     "text": [
      "Analyzing 73/3395 : dataset/corpus/NASIL _0.mp4\n"
     ]
    },
    {
     "name": "stderr",
     "output_type": "stream",
     "text": [
      "I0000 00:00:1711849814.252554       1 gl_context.cc:344] GL version: 2.1 (2.1 Metal - 88), renderer: Apple M1\n"
     ]
    },
    {
     "name": "stdout",
     "output_type": "stream",
     "text": [
      "Analyzing 74/3395 : dataset/corpus/TOPLAM_0.mp4\n"
     ]
    },
    {
     "name": "stderr",
     "output_type": "stream",
     "text": [
      "I0000 00:00:1711849816.949360       1 gl_context.cc:344] GL version: 2.1 (2.1 Metal - 88), renderer: Apple M1\n"
     ]
    },
    {
     "name": "stdout",
     "output_type": "stream",
     "text": [
      "Analyzing 75/3395 : dataset/corpus/ENAYI_0.mp4\n"
     ]
    },
    {
     "name": "stderr",
     "output_type": "stream",
     "text": [
      "I0000 00:00:1711849818.851154       1 gl_context.cc:344] GL version: 2.1 (2.1 Metal - 88), renderer: Apple M1\n"
     ]
    },
    {
     "name": "stdout",
     "output_type": "stream",
     "text": [
      "Analyzing 76/3395 : dataset/corpus/ORTAK _0.mp4\n"
     ]
    },
    {
     "name": "stderr",
     "output_type": "stream",
     "text": [
      "I0000 00:00:1711849820.847248       1 gl_context.cc:344] GL version: 2.1 (2.1 Metal - 88), renderer: Apple M1\n"
     ]
    },
    {
     "name": "stdout",
     "output_type": "stream",
     "text": [
      "Analyzing 77/3395 : dataset/corpus/YIKILMAK_2.mp4\n"
     ]
    },
    {
     "name": "stderr",
     "output_type": "stream",
     "text": [
      "I0000 00:00:1711849823.043072       1 gl_context.cc:344] GL version: 2.1 (2.1 Metal - 88), renderer: Apple M1\n"
     ]
    },
    {
     "name": "stdout",
     "output_type": "stream",
     "text": [
      "Analyzing 78/3395 : dataset/corpus/C╠ğIZMEK_1.mp4\n"
     ]
    },
    {
     "name": "stderr",
     "output_type": "stream",
     "text": [
      "I0000 00:00:1711849824.879894       1 gl_context.cc:344] GL version: 2.1 (2.1 Metal - 88), renderer: Apple M1\n"
     ]
    },
    {
     "name": "stdout",
     "output_type": "stream",
     "text": [
      "Analyzing 79/3395 : dataset/corpus/KESMEK_2.mp4\n"
     ]
    },
    {
     "name": "stderr",
     "output_type": "stream",
     "text": [
      "I0000 00:00:1711849827.373396       1 gl_context.cc:344] GL version: 2.1 (2.1 Metal - 88), renderer: Apple M1\n"
     ]
    },
    {
     "name": "stdout",
     "output_type": "stream",
     "text": [
      "Analyzing 80/3395 : dataset/corpus/TRAFIK_1.mp4\n"
     ]
    },
    {
     "name": "stderr",
     "output_type": "stream",
     "text": [
      "I0000 00:00:1711849829.989132       1 gl_context.cc:344] GL version: 2.1 (2.1 Metal - 88), renderer: Apple M1\n"
     ]
    },
    {
     "name": "stdout",
     "output_type": "stream",
     "text": [
      "Analyzing 81/3395 : dataset/corpus/PANIK_1.mp4\n"
     ]
    },
    {
     "name": "stderr",
     "output_type": "stream",
     "text": [
      "I0000 00:00:1711849831.968693       1 gl_context.cc:344] GL version: 2.1 (2.1 Metal - 88), renderer: Apple M1\n"
     ]
    },
    {
     "name": "stdout",
     "output_type": "stream",
     "text": [
      "Analyzing 82/3395 : dataset/corpus/HACI_0.mp4\n"
     ]
    },
    {
     "name": "stderr",
     "output_type": "stream",
     "text": [
      "I0000 00:00:1711849833.826402       1 gl_context.cc:344] GL version: 2.1 (2.1 Metal - 88), renderer: Apple M1\n"
     ]
    },
    {
     "name": "stdout",
     "output_type": "stream",
     "text": [
      "Analyzing 83/3395 : dataset/corpus/DEG╠åIS╠ğIK _2.mp4\n"
     ]
    },
    {
     "name": "stderr",
     "output_type": "stream",
     "text": [
      "I0000 00:00:1711849835.576253       1 gl_context.cc:344] GL version: 2.1 (2.1 Metal - 88), renderer: Apple M1\n"
     ]
    },
    {
     "name": "stdout",
     "output_type": "stream",
     "text": [
      "Analyzing 84/3395 : dataset/corpus/BALTALAMAK_1.mp4\n"
     ]
    },
    {
     "name": "stderr",
     "output_type": "stream",
     "text": [
      "I0000 00:00:1711849837.817069       1 gl_context.cc:344] GL version: 2.1 (2.1 Metal - 88), renderer: Apple M1\n"
     ]
    },
    {
     "name": "stdout",
     "output_type": "stream",
     "text": [
      "Analyzing 85/3395 : dataset/corpus/MITING_0.mp4\n"
     ]
    },
    {
     "name": "stderr",
     "output_type": "stream",
     "text": [
      "I0000 00:00:1711849840.236673       1 gl_context.cc:344] GL version: 2.1 (2.1 Metal - 88), renderer: Apple M1\n"
     ]
    },
    {
     "name": "stdout",
     "output_type": "stream",
     "text": [
      "Analyzing 86/3395 : dataset/corpus/YAYA_0.mp4\n"
     ]
    },
    {
     "name": "stderr",
     "output_type": "stream",
     "text": [
      "I0000 00:00:1711849842.043743       1 gl_context.cc:344] GL version: 2.1 (2.1 Metal - 88), renderer: Apple M1\n"
     ]
    },
    {
     "name": "stdout",
     "output_type": "stream",
     "text": [
      "Analyzing 87/3395 : dataset/corpus/YARIS╠ğ_0.mp4\n"
     ]
    },
    {
     "name": "stderr",
     "output_type": "stream",
     "text": [
      "I0000 00:00:1711849844.087439       1 gl_context.cc:344] GL version: 2.1 (2.1 Metal - 88), renderer: Apple M1\n"
     ]
    },
    {
     "name": "stdout",
     "output_type": "stream",
     "text": [
      "Analyzing 88/3395 : dataset/corpus/FEDERASYON_0.mp4\n"
     ]
    },
    {
     "name": "stderr",
     "output_type": "stream",
     "text": [
      "I0000 00:00:1711849847.244809       1 gl_context.cc:344] GL version: 2.1 (2.1 Metal - 88), renderer: Apple M1\n"
     ]
    },
    {
     "name": "stdout",
     "output_type": "stream",
     "text": [
      "Analyzing 89/3395 : dataset/corpus/SALDIRMAK_2.mp4\n"
     ]
    },
    {
     "name": "stderr",
     "output_type": "stream",
     "text": [
      "I0000 00:00:1711849849.516519       1 gl_context.cc:344] GL version: 2.1 (2.1 Metal - 88), renderer: Apple M1\n"
     ]
    },
    {
     "name": "stdout",
     "output_type": "stream",
     "text": [
      "Analyzing 90/3395 : dataset/corpus/MARS╠ğ_0.mp4\n"
     ]
    },
    {
     "name": "stderr",
     "output_type": "stream",
     "text": [
      "I0000 00:00:1711849851.791946       1 gl_context.cc:344] GL version: 2.1 (2.1 Metal - 88), renderer: Apple M1\n"
     ]
    },
    {
     "name": "stdout",
     "output_type": "stream",
     "text": [
      "Analyzing 91/3395 : dataset/corpus/HAYRAN_0.mp4\n"
     ]
    },
    {
     "name": "stderr",
     "output_type": "stream",
     "text": [
      "I0000 00:00:1711849853.595944       1 gl_context.cc:344] GL version: 2.1 (2.1 Metal - 88), renderer: Apple M1\n"
     ]
    },
    {
     "name": "stdout",
     "output_type": "stream",
     "text": [
      "Analyzing 92/3395 : dataset/corpus/CUMHURIYET_1.mp4\n"
     ]
    },
    {
     "name": "stderr",
     "output_type": "stream",
     "text": [
      "I0000 00:00:1711849855.834296       1 gl_context.cc:344] GL version: 2.1 (2.1 Metal - 88), renderer: Apple M1\n"
     ]
    },
    {
     "name": "stdout",
     "output_type": "stream",
     "text": [
      "Analyzing 93/3395 : dataset/corpus/KOPYALAMAK_1.mp4\n"
     ]
    },
    {
     "name": "stderr",
     "output_type": "stream",
     "text": [
      "I0000 00:00:1711849857.796763       1 gl_context.cc:344] GL version: 2.1 (2.1 Metal - 88), renderer: Apple M1\n"
     ]
    },
    {
     "name": "stdout",
     "output_type": "stream",
     "text": [
      "Analyzing 94/3395 : dataset/corpus/KALDIRMAK _1.mp4\n"
     ]
    },
    {
     "name": "stderr",
     "output_type": "stream",
     "text": [
      "I0000 00:00:1711849859.538785       1 gl_context.cc:344] GL version: 2.1 (2.1 Metal - 88), renderer: Apple M1\n"
     ]
    },
    {
     "name": "stdout",
     "output_type": "stream",
     "text": [
      "Analyzing 95/3395 : dataset/corpus/SIKINTI_0.mp4\n"
     ]
    },
    {
     "name": "stderr",
     "output_type": "stream",
     "text": [
      "I0000 00:00:1711849862.310640       1 gl_context.cc:344] GL version: 2.1 (2.1 Metal - 88), renderer: Apple M1\n"
     ]
    },
    {
     "name": "stdout",
     "output_type": "stream",
     "text": [
      "Analyzing 96/3395 : dataset/corpus/BALIK_1.mp4\n"
     ]
    },
    {
     "name": "stderr",
     "output_type": "stream",
     "text": [
      "I0000 00:00:1711849863.909824       1 gl_context.cc:344] GL version: 2.1 (2.1 Metal - 88), renderer: Apple M1\n"
     ]
    },
    {
     "name": "stdout",
     "output_type": "stream",
     "text": [
      "Analyzing 97/3395 : dataset/corpus/C╠ğEKILMEK_1.mp4\n"
     ]
    },
    {
     "name": "stderr",
     "output_type": "stream",
     "text": [
      "I0000 00:00:1711849866.583295       1 gl_context.cc:344] GL version: 2.1 (2.1 Metal - 88), renderer: Apple M1\n"
     ]
    },
    {
     "name": "stdout",
     "output_type": "stream",
     "text": [
      "Analyzing 98/3395 : dataset/corpus/BU╠êYU╠êTMEK _0.mp4\n"
     ]
    },
    {
     "name": "stderr",
     "output_type": "stream",
     "text": [
      "I0000 00:00:1711849868.321376       1 gl_context.cc:344] GL version: 2.1 (2.1 Metal - 88), renderer: Apple M1\n"
     ]
    },
    {
     "name": "stdout",
     "output_type": "stream",
     "text": [
      "Analyzing 99/3395 : dataset/corpus/TAKIP ETMEK_0.mp4\n"
     ]
    },
    {
     "name": "stderr",
     "output_type": "stream",
     "text": [
      "I0000 00:00:1711849871.143466       1 gl_context.cc:344] GL version: 2.1 (2.1 Metal - 88), renderer: Apple M1\n"
     ]
    },
    {
     "name": "stdout",
     "output_type": "stream",
     "text": [
      "Analyzing 100/3395 : dataset/corpus/KIRILMAK_0.mp4\n"
     ]
    },
    {
     "name": "stderr",
     "output_type": "stream",
     "text": [
      "I0000 00:00:1711849873.285028       1 gl_context.cc:344] GL version: 2.1 (2.1 Metal - 88), renderer: Apple M1\n"
     ]
    },
    {
     "ename": "KeyboardInterrupt",
     "evalue": "",
     "output_type": "error",
     "traceback": [
      "\u001b[0;31m---------------------------------------------------------------------------\u001b[0m",
      "\u001b[0;31mKeyboardInterrupt\u001b[0m                         Traceback (most recent call last)",
      "Cell \u001b[0;32mIn[9], line 6\u001b[0m\n\u001b[1;32m      3\u001b[0m \u001b[38;5;28;01mfor\u001b[39;00m i, analyze_video \u001b[38;5;129;01min\u001b[39;00m \u001b[38;5;28menumerate\u001b[39m(mp4_files):\n\u001b[1;32m      4\u001b[0m     \u001b[38;5;28mprint\u001b[39m(\u001b[38;5;124mf\u001b[39m\u001b[38;5;124m\"\u001b[39m\u001b[38;5;124mAnalyzing \u001b[39m\u001b[38;5;132;01m{\u001b[39;00mi\u001b[38;5;132;01m}\u001b[39;00m\u001b[38;5;124m/\u001b[39m\u001b[38;5;132;01m{\u001b[39;00m\u001b[38;5;28mlen\u001b[39m(mp4_files)\u001b[38;5;132;01m}\u001b[39;00m\u001b[38;5;124m : \u001b[39m\u001b[38;5;132;01m{\u001b[39;00manalyze_video\u001b[38;5;132;01m}\u001b[39;00m\u001b[38;5;124m\"\u001b[39m)\n\u001b[0;32m----> 6\u001b[0m     estimation, info \u001b[38;5;241m=\u001b[39m \u001b[43mget_pose_estimation\u001b[49m\u001b[43m(\u001b[49m\u001b[43manalyze_video\u001b[49m\u001b[43m,\u001b[49m\u001b[43m \u001b[49m\u001b[43mwith_info\u001b[49m\u001b[38;5;241;43m=\u001b[39;49m\u001b[38;5;28;43;01mTrue\u001b[39;49;00m\u001b[43m)\u001b[49m\n\u001b[1;32m      8\u001b[0m     pd_info \u001b[38;5;241m=\u001b[39m pd\u001b[38;5;241m.\u001b[39mDataFrame(info, columns\u001b[38;5;241m=\u001b[39m[\u001b[38;5;124m\"\u001b[39m\u001b[38;5;124mvideo_name\u001b[39m\u001b[38;5;124m\"\u001b[39m, \u001b[38;5;124m\"\u001b[39m\u001b[38;5;124minfo\u001b[39m\u001b[38;5;124m\"\u001b[39m, \u001b[38;5;124m\"\u001b[39m\u001b[38;5;124mvalue\u001b[39m\u001b[38;5;124m\"\u001b[39m])\n\u001b[1;32m     10\u001b[0m     num_of_frames_total \u001b[38;5;241m=\u001b[39m pd_info[pd_info[\u001b[38;5;124m'\u001b[39m\u001b[38;5;124minfo\u001b[39m\u001b[38;5;124m'\u001b[39m]\n\u001b[1;32m     11\u001b[0m                                   \u001b[38;5;241m==\u001b[39m \u001b[38;5;124m'\u001b[39m\u001b[38;5;124mtotal_number_of_frames\u001b[39m\u001b[38;5;124m'\u001b[39m][\u001b[38;5;124m\"\u001b[39m\u001b[38;5;124mvalue\u001b[39m\u001b[38;5;124m\"\u001b[39m]\u001b[38;5;241m.\u001b[39miloc[\u001b[38;5;241m0\u001b[39m]\n",
      "File \u001b[0;32m~/Desktop/TIDLLM/lib/utils/pose.py:161\u001b[0m, in \u001b[0;36mget_pose_estimation\u001b[0;34m(video_path, with_info)\u001b[0m\n\u001b[1;32m    158\u001b[0m \u001b[38;5;66;03m# Convert the BGR image to RGB before processing.\u001b[39;00m\n\u001b[1;32m    159\u001b[0m frame \u001b[38;5;241m=\u001b[39m cv2\u001b[38;5;241m.\u001b[39mcvtColor(frame, cv2\u001b[38;5;241m.\u001b[39mCOLOR_BGR2RGB)\n\u001b[0;32m--> 161\u001b[0m results \u001b[38;5;241m=\u001b[39m \u001b[43mholistic\u001b[49m\u001b[38;5;241;43m.\u001b[39;49m\u001b[43mprocess\u001b[49m\u001b[43m(\u001b[49m\u001b[43mframe\u001b[49m\u001b[43m)\u001b[49m\n\u001b[1;32m    163\u001b[0m \u001b[38;5;28;01mif\u001b[39;00m results\u001b[38;5;241m.\u001b[39mpose_landmarks:\n\u001b[1;32m    164\u001b[0m     \u001b[38;5;66;03m# Append pose landmarks to the list\u001b[39;00m\n\u001b[1;32m    165\u001b[0m     \u001b[38;5;28;01mfor\u001b[39;00m landmark_name, landmark \u001b[38;5;129;01min\u001b[39;00m \u001b[38;5;28mzip\u001b[39m(\u001b[38;5;28mlist\u001b[39m(landmarks[\u001b[38;5;124m'\u001b[39m\u001b[38;5;124mpose\u001b[39m\u001b[38;5;124m'\u001b[39m]\u001b[38;5;241m.\u001b[39mkeys()), results\u001b[38;5;241m.\u001b[39mpose_landmarks\u001b[38;5;241m.\u001b[39mlandmark):\n",
      "File \u001b[0;32m/opt/homebrew/lib/python3.10/site-packages/mediapipe/python/solutions/holistic.py:160\u001b[0m, in \u001b[0;36mHolistic.process\u001b[0;34m(self, image)\u001b[0m\n\u001b[1;32m    136\u001b[0m \u001b[38;5;28;01mdef\u001b[39;00m \u001b[38;5;21mprocess\u001b[39m(\u001b[38;5;28mself\u001b[39m, image: np\u001b[38;5;241m.\u001b[39mndarray) \u001b[38;5;241m-\u001b[39m\u001b[38;5;241m>\u001b[39m NamedTuple:\n\u001b[1;32m    137\u001b[0m \u001b[38;5;250m  \u001b[39m\u001b[38;5;124;03m\"\"\"Processes an RGB image and returns the pose landmarks, left and right hand landmarks, and face landmarks on the most prominent person detected.\u001b[39;00m\n\u001b[1;32m    138\u001b[0m \n\u001b[1;32m    139\u001b[0m \u001b[38;5;124;03m  Args:\u001b[39;00m\n\u001b[0;32m   (...)\u001b[0m\n\u001b[1;32m    157\u001b[0m \u001b[38;5;124;03m         \"enable_segmentation\" is set to true.\u001b[39;00m\n\u001b[1;32m    158\u001b[0m \u001b[38;5;124;03m  \"\"\"\u001b[39;00m\n\u001b[0;32m--> 160\u001b[0m   results \u001b[38;5;241m=\u001b[39m \u001b[38;5;28;43msuper\u001b[39;49m\u001b[43m(\u001b[49m\u001b[43m)\u001b[49m\u001b[38;5;241;43m.\u001b[39;49m\u001b[43mprocess\u001b[49m\u001b[43m(\u001b[49m\u001b[43minput_data\u001b[49m\u001b[38;5;241;43m=\u001b[39;49m\u001b[43m{\u001b[49m\u001b[38;5;124;43m'\u001b[39;49m\u001b[38;5;124;43mimage\u001b[39;49m\u001b[38;5;124;43m'\u001b[39;49m\u001b[43m:\u001b[49m\u001b[43m \u001b[49m\u001b[43mimage\u001b[49m\u001b[43m}\u001b[49m\u001b[43m)\u001b[49m\n\u001b[1;32m    161\u001b[0m   \u001b[38;5;28;01mif\u001b[39;00m results\u001b[38;5;241m.\u001b[39mpose_landmarks:  \u001b[38;5;66;03m# pytype: disable=attribute-error\u001b[39;00m\n\u001b[1;32m    162\u001b[0m     \u001b[38;5;28;01mfor\u001b[39;00m landmark \u001b[38;5;129;01min\u001b[39;00m results\u001b[38;5;241m.\u001b[39mpose_landmarks\u001b[38;5;241m.\u001b[39mlandmark:  \u001b[38;5;66;03m# pytype: disable=attribute-error\u001b[39;00m\n",
      "File \u001b[0;32m/opt/homebrew/lib/python3.10/site-packages/mediapipe/python/solution_base.py:381\u001b[0m, in \u001b[0;36mSolutionBase.process\u001b[0;34m(self, input_data)\u001b[0m\n\u001b[1;32m    377\u001b[0m \u001b[38;5;28;01mfor\u001b[39;00m stream_name \u001b[38;5;129;01min\u001b[39;00m \u001b[38;5;28mself\u001b[39m\u001b[38;5;241m.\u001b[39m_output_stream_type_info\u001b[38;5;241m.\u001b[39mkeys():\n\u001b[1;32m    378\u001b[0m   \u001b[38;5;28;01mif\u001b[39;00m stream_name \u001b[38;5;129;01min\u001b[39;00m \u001b[38;5;28mself\u001b[39m\u001b[38;5;241m.\u001b[39m_graph_outputs:\n\u001b[1;32m    379\u001b[0m     \u001b[38;5;28msetattr\u001b[39m(\n\u001b[1;32m    380\u001b[0m         solution_outputs, stream_name,\n\u001b[0;32m--> 381\u001b[0m         \u001b[38;5;28;43mself\u001b[39;49m\u001b[38;5;241;43m.\u001b[39;49m\u001b[43m_get_packet_content\u001b[49m\u001b[43m(\u001b[49m\u001b[38;5;28;43mself\u001b[39;49m\u001b[38;5;241;43m.\u001b[39;49m\u001b[43m_output_stream_type_info\u001b[49m\u001b[43m[\u001b[49m\u001b[43mstream_name\u001b[49m\u001b[43m]\u001b[49m\u001b[43m,\u001b[49m\n\u001b[1;32m    382\u001b[0m \u001b[43m                                 \u001b[49m\u001b[38;5;28;43mself\u001b[39;49m\u001b[38;5;241;43m.\u001b[39;49m\u001b[43m_graph_outputs\u001b[49m\u001b[43m[\u001b[49m\u001b[43mstream_name\u001b[49m\u001b[43m]\u001b[49m\u001b[43m)\u001b[49m)\n\u001b[1;32m    383\u001b[0m   \u001b[38;5;28;01melse\u001b[39;00m:\n\u001b[1;32m    384\u001b[0m     \u001b[38;5;28msetattr\u001b[39m(solution_outputs, stream_name, \u001b[38;5;28;01mNone\u001b[39;00m)\n",
      "File \u001b[0;32m/opt/homebrew/lib/python3.10/site-packages/mediapipe/python/solution_base.py:623\u001b[0m, in \u001b[0;36mSolutionBase._get_packet_content\u001b[0;34m(self, packet_data_type, output_packet)\u001b[0m\n\u001b[1;32m    620\u001b[0m   \u001b[38;5;28;01mreturn\u001b[39;00m \u001b[38;5;28mgetattr\u001b[39m(packet_getter, \u001b[38;5;124m'\u001b[39m\u001b[38;5;124mget_\u001b[39m\u001b[38;5;124m'\u001b[39m \u001b[38;5;241m+\u001b[39m\n\u001b[1;32m    621\u001b[0m                  packet_data_type\u001b[38;5;241m.\u001b[39mvalue)(output_packet)\u001b[38;5;241m.\u001b[39mnumpy_view()\n\u001b[1;32m    622\u001b[0m \u001b[38;5;28;01melse\u001b[39;00m:\n\u001b[0;32m--> 623\u001b[0m   \u001b[38;5;28;01mreturn\u001b[39;00m \u001b[38;5;28;43mgetattr\u001b[39;49m\u001b[43m(\u001b[49m\u001b[43mpacket_getter\u001b[49m\u001b[43m,\u001b[49m\u001b[43m \u001b[49m\u001b[38;5;124;43m'\u001b[39;49m\u001b[38;5;124;43mget_\u001b[39;49m\u001b[38;5;124;43m'\u001b[39;49m\u001b[43m \u001b[49m\u001b[38;5;241;43m+\u001b[39;49m\u001b[43m \u001b[49m\u001b[43mpacket_data_type\u001b[49m\u001b[38;5;241;43m.\u001b[39;49m\u001b[43mvalue\u001b[49m\u001b[43m)\u001b[49m\u001b[43m(\u001b[49m\n\u001b[1;32m    624\u001b[0m \u001b[43m      \u001b[49m\u001b[43moutput_packet\u001b[49m\u001b[43m)\u001b[49m\n",
      "File \u001b[0;32m/opt/homebrew/lib/python3.10/site-packages/mediapipe/python/packet_getter.py:75\u001b[0m, in \u001b[0;36mget_proto\u001b[0;34m(packet)\u001b[0m\n\u001b[1;32m     73\u001b[0m \u001b[38;5;66;03m# pylint:enable=protected-access\u001b[39;00m\n\u001b[1;32m     74\u001b[0m proto_message \u001b[38;5;241m=\u001b[39m message_class()\n\u001b[0;32m---> 75\u001b[0m \u001b[43mproto_message\u001b[49m\u001b[38;5;241;43m.\u001b[39;49m\u001b[43mParseFromString\u001b[49m\u001b[43m(\u001b[49m\u001b[43mserialized_proto\u001b[49m\u001b[43m)\u001b[49m\n\u001b[1;32m     76\u001b[0m \u001b[38;5;28;01mreturn\u001b[39;00m proto_message\n",
      "File \u001b[0;32m/opt/homebrew/lib/python3.10/site-packages/google/protobuf/message.py:202\u001b[0m, in \u001b[0;36mMessage.ParseFromString\u001b[0;34m(self, serialized)\u001b[0m\n\u001b[1;32m    194\u001b[0m \u001b[38;5;250m\u001b[39m\u001b[38;5;124;03m\"\"\"Parse serialized protocol buffer data into this message.\u001b[39;00m\n\u001b[1;32m    195\u001b[0m \n\u001b[1;32m    196\u001b[0m \u001b[38;5;124;03mLike :func:`MergeFromString()`, except we clear the object first.\u001b[39;00m\n\u001b[0;32m   (...)\u001b[0m\n\u001b[1;32m    199\u001b[0m \u001b[38;5;124;03m  message.DecodeError if the input cannot be parsed.\u001b[39;00m\n\u001b[1;32m    200\u001b[0m \u001b[38;5;124;03m\"\"\"\u001b[39;00m\n\u001b[1;32m    201\u001b[0m \u001b[38;5;28mself\u001b[39m\u001b[38;5;241m.\u001b[39mClear()\n\u001b[0;32m--> 202\u001b[0m \u001b[38;5;28;01mreturn\u001b[39;00m \u001b[38;5;28;43mself\u001b[39;49m\u001b[38;5;241;43m.\u001b[39;49m\u001b[43mMergeFromString\u001b[49m\u001b[43m(\u001b[49m\u001b[43mserialized\u001b[49m\u001b[43m)\u001b[49m\n",
      "File \u001b[0;32m/opt/homebrew/lib/python3.10/site-packages/google/protobuf/internal/python_message.py:1128\u001b[0m, in \u001b[0;36m_AddMergeFromStringMethod.<locals>.MergeFromString\u001b[0;34m(self, serialized)\u001b[0m\n\u001b[1;32m   1126\u001b[0m length \u001b[38;5;241m=\u001b[39m \u001b[38;5;28mlen\u001b[39m(serialized)\n\u001b[1;32m   1127\u001b[0m \u001b[38;5;28;01mtry\u001b[39;00m:\n\u001b[0;32m-> 1128\u001b[0m   \u001b[38;5;28;01mif\u001b[39;00m \u001b[38;5;28;43mself\u001b[39;49m\u001b[38;5;241;43m.\u001b[39;49m\u001b[43m_InternalParse\u001b[49m\u001b[43m(\u001b[49m\u001b[43mserialized\u001b[49m\u001b[43m,\u001b[49m\u001b[43m \u001b[49m\u001b[38;5;241;43m0\u001b[39;49m\u001b[43m,\u001b[49m\u001b[43m \u001b[49m\u001b[43mlength\u001b[49m\u001b[43m)\u001b[49m \u001b[38;5;241m!=\u001b[39m length:\n\u001b[1;32m   1129\u001b[0m     \u001b[38;5;66;03m# The only reason _InternalParse would return early is if it\u001b[39;00m\n\u001b[1;32m   1130\u001b[0m     \u001b[38;5;66;03m# encountered an end-group tag.\u001b[39;00m\n\u001b[1;32m   1131\u001b[0m     \u001b[38;5;28;01mraise\u001b[39;00m message_mod\u001b[38;5;241m.\u001b[39mDecodeError(\u001b[38;5;124m'\u001b[39m\u001b[38;5;124mUnexpected end-group tag.\u001b[39m\u001b[38;5;124m'\u001b[39m)\n\u001b[1;32m   1132\u001b[0m \u001b[38;5;28;01mexcept\u001b[39;00m (\u001b[38;5;167;01mIndexError\u001b[39;00m, \u001b[38;5;167;01mTypeError\u001b[39;00m):\n\u001b[1;32m   1133\u001b[0m   \u001b[38;5;66;03m# Now ord(buf[p:p+1]) == ord('') gets TypeError.\u001b[39;00m\n",
      "File \u001b[0;32m/opt/homebrew/lib/python3.10/site-packages/google/protobuf/internal/python_message.py:1195\u001b[0m, in \u001b[0;36m_AddMergeFromStringMethod.<locals>.InternalParse\u001b[0;34m(self, buffer, pos, end)\u001b[0m\n\u001b[1;32m   1193\u001b[0m   pos \u001b[38;5;241m=\u001b[39m new_pos\n\u001b[1;32m   1194\u001b[0m \u001b[38;5;28;01melse\u001b[39;00m:\n\u001b[0;32m-> 1195\u001b[0m   pos \u001b[38;5;241m=\u001b[39m \u001b[43mfield_decoder\u001b[49m\u001b[43m(\u001b[49m\u001b[43mbuffer\u001b[49m\u001b[43m,\u001b[49m\u001b[43m \u001b[49m\u001b[43mnew_pos\u001b[49m\u001b[43m,\u001b[49m\u001b[43m \u001b[49m\u001b[43mend\u001b[49m\u001b[43m,\u001b[49m\u001b[43m \u001b[49m\u001b[38;5;28;43mself\u001b[39;49m\u001b[43m,\u001b[49m\u001b[43m \u001b[49m\u001b[43mfield_dict\u001b[49m\u001b[43m)\u001b[49m\n\u001b[1;32m   1196\u001b[0m   \u001b[38;5;28;01mif\u001b[39;00m field_desc:\n\u001b[1;32m   1197\u001b[0m     \u001b[38;5;28mself\u001b[39m\u001b[38;5;241m.\u001b[39m_UpdateOneofState(field_desc)\n",
      "File \u001b[0;32m/opt/homebrew/lib/python3.10/site-packages/google/protobuf/internal/decoder.py:705\u001b[0m, in \u001b[0;36mMessageDecoder.<locals>.DecodeRepeatedField\u001b[0;34m(buffer, pos, end, message, field_dict)\u001b[0m\n\u001b[1;32m    703\u001b[0m   \u001b[38;5;28;01mraise\u001b[39;00m _DecodeError(\u001b[38;5;124m'\u001b[39m\u001b[38;5;124mTruncated message.\u001b[39m\u001b[38;5;124m'\u001b[39m)\n\u001b[1;32m    704\u001b[0m \u001b[38;5;66;03m# Read sub-message.\u001b[39;00m\n\u001b[0;32m--> 705\u001b[0m \u001b[38;5;28;01mif\u001b[39;00m \u001b[43mvalue\u001b[49m\u001b[38;5;241;43m.\u001b[39;49m\u001b[43madd\u001b[49m\u001b[43m(\u001b[49m\u001b[43m)\u001b[49m\u001b[38;5;241;43m.\u001b[39;49m\u001b[43m_InternalParse\u001b[49m\u001b[43m(\u001b[49m\u001b[43mbuffer\u001b[49m\u001b[43m,\u001b[49m\u001b[43m \u001b[49m\u001b[43mpos\u001b[49m\u001b[43m,\u001b[49m\u001b[43m \u001b[49m\u001b[43mnew_pos\u001b[49m\u001b[43m)\u001b[49m \u001b[38;5;241m!=\u001b[39m new_pos:\n\u001b[1;32m    706\u001b[0m   \u001b[38;5;66;03m# The only reason _InternalParse would return early is if it\u001b[39;00m\n\u001b[1;32m    707\u001b[0m   \u001b[38;5;66;03m# encountered an end-group tag.\u001b[39;00m\n\u001b[1;32m    708\u001b[0m   \u001b[38;5;28;01mraise\u001b[39;00m _DecodeError(\u001b[38;5;124m'\u001b[39m\u001b[38;5;124mUnexpected end-group tag.\u001b[39m\u001b[38;5;124m'\u001b[39m)\n\u001b[1;32m    709\u001b[0m \u001b[38;5;66;03m# Predict that the next tag is another copy of the same repeated field.\u001b[39;00m\n",
      "File \u001b[0;32m/opt/homebrew/lib/python3.10/site-packages/google/protobuf/internal/python_message.py:1195\u001b[0m, in \u001b[0;36m_AddMergeFromStringMethod.<locals>.InternalParse\u001b[0;34m(self, buffer, pos, end)\u001b[0m\n\u001b[1;32m   1193\u001b[0m   pos \u001b[38;5;241m=\u001b[39m new_pos\n\u001b[1;32m   1194\u001b[0m \u001b[38;5;28;01melse\u001b[39;00m:\n\u001b[0;32m-> 1195\u001b[0m   pos \u001b[38;5;241m=\u001b[39m \u001b[43mfield_decoder\u001b[49m\u001b[43m(\u001b[49m\u001b[43mbuffer\u001b[49m\u001b[43m,\u001b[49m\u001b[43m \u001b[49m\u001b[43mnew_pos\u001b[49m\u001b[43m,\u001b[49m\u001b[43m \u001b[49m\u001b[43mend\u001b[49m\u001b[43m,\u001b[49m\u001b[43m \u001b[49m\u001b[38;5;28;43mself\u001b[39;49m\u001b[43m,\u001b[49m\u001b[43m \u001b[49m\u001b[43mfield_dict\u001b[49m\u001b[43m)\u001b[49m\n\u001b[1;32m   1196\u001b[0m   \u001b[38;5;28;01mif\u001b[39;00m field_desc:\n\u001b[1;32m   1197\u001b[0m     \u001b[38;5;28mself\u001b[39m\u001b[38;5;241m.\u001b[39m_UpdateOneofState(field_desc)\n",
      "File \u001b[0;32m/opt/homebrew/lib/python3.10/site-packages/google/protobuf/internal/decoder.py:235\u001b[0m, in \u001b[0;36m_SimpleDecoder.<locals>.SpecificDecoder.<locals>.DecodeField\u001b[0;34m(buffer, pos, end, message, field_dict)\u001b[0m\n\u001b[1;32m    234\u001b[0m \u001b[38;5;28;01mdef\u001b[39;00m \u001b[38;5;21mDecodeField\u001b[39m(buffer, pos, end, message, field_dict):\n\u001b[0;32m--> 235\u001b[0m   (new_value, pos) \u001b[38;5;241m=\u001b[39m \u001b[43mdecode_value\u001b[49m\u001b[43m(\u001b[49m\u001b[43mbuffer\u001b[49m\u001b[43m,\u001b[49m\u001b[43m \u001b[49m\u001b[43mpos\u001b[49m\u001b[43m)\u001b[49m\n\u001b[1;32m    236\u001b[0m   \u001b[38;5;28;01mif\u001b[39;00m pos \u001b[38;5;241m>\u001b[39m end:\n\u001b[1;32m    237\u001b[0m     \u001b[38;5;28;01mraise\u001b[39;00m _DecodeError(\u001b[38;5;124m'\u001b[39m\u001b[38;5;124mTruncated message.\u001b[39m\u001b[38;5;124m'\u001b[39m)\n",
      "File \u001b[0;32m/opt/homebrew/lib/python3.10/site-packages/google/protobuf/internal/decoder.py:315\u001b[0m, in \u001b[0;36m_FloatDecoder.<locals>.InnerDecode\u001b[0;34m(buffer, pos)\u001b[0m\n\u001b[1;32m    310\u001b[0m float_bytes \u001b[38;5;241m=\u001b[39m buffer[pos:new_pos]\u001b[38;5;241m.\u001b[39mtobytes()\n\u001b[1;32m    312\u001b[0m \u001b[38;5;66;03m# If this value has all its exponent bits set, then it's non-finite.\u001b[39;00m\n\u001b[1;32m    313\u001b[0m \u001b[38;5;66;03m# In Python 2.4, struct.unpack will convert it to a finite 64-bit value.\u001b[39;00m\n\u001b[1;32m    314\u001b[0m \u001b[38;5;66;03m# To avoid that, we parse it specially.\u001b[39;00m\n\u001b[0;32m--> 315\u001b[0m \u001b[38;5;28;01mif\u001b[39;00m (float_bytes[\u001b[38;5;241m3\u001b[39m:\u001b[38;5;241m4\u001b[39m] \u001b[38;5;129;01min\u001b[39;00m \u001b[38;5;124mb\u001b[39m\u001b[38;5;124m'\u001b[39m\u001b[38;5;130;01m\\x7F\u001b[39;00m\u001b[38;5;130;01m\\xFF\u001b[39;00m\u001b[38;5;124m'\u001b[39m \u001b[38;5;129;01mand\u001b[39;00m float_bytes[\u001b[38;5;241m2\u001b[39m:\u001b[38;5;241m3\u001b[39m] \u001b[38;5;241m>\u001b[39m\u001b[38;5;241m=\u001b[39m \u001b[38;5;124mb\u001b[39m\u001b[38;5;124m'\u001b[39m\u001b[38;5;130;01m\\x80\u001b[39;00m\u001b[38;5;124m'\u001b[39m):\n\u001b[1;32m    316\u001b[0m   \u001b[38;5;66;03m# If at least one significand bit is set...\u001b[39;00m\n\u001b[1;32m    317\u001b[0m   \u001b[38;5;28;01mif\u001b[39;00m float_bytes[\u001b[38;5;241m0\u001b[39m:\u001b[38;5;241m3\u001b[39m] \u001b[38;5;241m!=\u001b[39m \u001b[38;5;124mb\u001b[39m\u001b[38;5;124m'\u001b[39m\u001b[38;5;130;01m\\x00\u001b[39;00m\u001b[38;5;130;01m\\x00\u001b[39;00m\u001b[38;5;130;01m\\x80\u001b[39;00m\u001b[38;5;124m'\u001b[39m:\n\u001b[1;32m    318\u001b[0m     \u001b[38;5;28;01mreturn\u001b[39;00m (math\u001b[38;5;241m.\u001b[39mnan, new_pos)\n",
      "\u001b[0;31mKeyboardInterrupt\u001b[0m: "
     ]
    }
   ],
   "source": [
    "analyze_results = []\n",
    "\n",
    "for i, analyze_video in enumerate(mp4_files):\n",
    "    print(f\"Analyzing {i}/{len(mp4_files)} : {analyze_video}\")\n",
    "\n",
    "    estimation, info = get_pose_estimation(analyze_video, with_info=True)\n",
    "\n",
    "    pd_info = pd.DataFrame(info, columns=[\"video_name\", \"info\", \"value\"])\n",
    "\n",
    "    num_of_frames_total = pd_info[pd_info['info']\n",
    "                                  == 'total_number_of_frames'][\"value\"].iloc[0]\n",
    "    num_of_frames_missing_pose = 0\n",
    "    num_of_frames_missing_left_hand = 0\n",
    "    num_of_frames_missing_right_hand = 0\n",
    "\n",
    "    if \"missing_pose\" in pd_info[\"info\"].to_list():\n",
    "        num_of_frames_missing_pose = pd_info.value_counts(\"info\")[\n",
    "            \"missing_pose\"]\n",
    "\n",
    "    if \"missing_left_hand\" in pd_info[\"info\"].to_list():\n",
    "        num_of_frames_missing_left_hand = pd_info.value_counts(\"info\")[\n",
    "            \"missing_left_hand\"]\n",
    "\n",
    "    if \"missing_right_hand\" in pd_info[\"info\"].to_list():\n",
    "        num_of_frames_missing_right_hand = pd_info.value_counts(\"info\")[\n",
    "            \"missing_right_hand\"]\n",
    "\n",
    "    # print(f\"Video:                              {analyze_video}\")\n",
    "    # print(f\"# of total frames:                  {num_of_frames_total}\")\n",
    "    # print(f\"# of missing frames for pose:       {num_of_frames_missing_pose}\")\n",
    "    # print(f\"# of missing frames for left hand:  {num_of_frames_missing_left_hand}\")\n",
    "    # print(f\"# of missing frames for right hand: {num_of_frames_missing_right_hand}\")\n",
    "    # print(GLOBAL_CONFIG)\n",
    "\n",
    "    analyze_results.append([analyze_video,\n",
    "                           num_of_frames_total,\n",
    "                           num_of_frames_missing_pose,\n",
    "                           num_of_frames_missing_left_hand,\n",
    "                           num_of_frames_missing_right_hand,\n",
    "                           GLOBAL_CONFIG])"
   ]
  },
  {
   "cell_type": "code",
   "execution_count": 11,
   "metadata": {},
   "outputs": [
    {
     "data": {
      "text/html": [
       "<div>\n",
       "<style scoped>\n",
       "    .dataframe tbody tr th:only-of-type {\n",
       "        vertical-align: middle;\n",
       "    }\n",
       "\n",
       "    .dataframe tbody tr th {\n",
       "        vertical-align: top;\n",
       "    }\n",
       "\n",
       "    .dataframe thead th {\n",
       "        text-align: right;\n",
       "    }\n",
       "</style>\n",
       "<table border=\"1\" class=\"dataframe\">\n",
       "  <thead>\n",
       "    <tr style=\"text-align: right;\">\n",
       "      <th></th>\n",
       "      <th>video_name</th>\n",
       "      <th>num_of_total_frames</th>\n",
       "      <th>num_of_missing_frames_pose</th>\n",
       "      <th>num_of_missing_frames_left_hand</th>\n",
       "      <th>num_of_missing_frames_right_hand</th>\n",
       "      <th>configuration</th>\n",
       "    </tr>\n",
       "  </thead>\n",
       "  <tbody>\n",
       "    <tr>\n",
       "      <th>0</th>\n",
       "      <td>dataset/corpus/GEREK _1.mp4</td>\n",
       "      <td>51</td>\n",
       "      <td>0</td>\n",
       "      <td>51</td>\n",
       "      <td>10</td>\n",
       "      <td>namespace(MEDIAPIPE_STATIC_IMAGE_MODE=False, M...</td>\n",
       "    </tr>\n",
       "    <tr>\n",
       "      <th>1</th>\n",
       "      <td>dataset/corpus/I╠çLGINC╠ğ_0.mp4</td>\n",
       "      <td>56</td>\n",
       "      <td>0</td>\n",
       "      <td>56</td>\n",
       "      <td>29</td>\n",
       "      <td>namespace(MEDIAPIPE_STATIC_IMAGE_MODE=False, M...</td>\n",
       "    </tr>\n",
       "    <tr>\n",
       "      <th>2</th>\n",
       "      <td>dataset/corpus/MEMUR_1.mp4</td>\n",
       "      <td>60</td>\n",
       "      <td>0</td>\n",
       "      <td>60</td>\n",
       "      <td>33</td>\n",
       "      <td>namespace(MEDIAPIPE_STATIC_IMAGE_MODE=False, M...</td>\n",
       "    </tr>\n",
       "    <tr>\n",
       "      <th>3</th>\n",
       "      <td>dataset/corpus/BAS╠ğPARMAK_0.mp4</td>\n",
       "      <td>41</td>\n",
       "      <td>0</td>\n",
       "      <td>41</td>\n",
       "      <td>19</td>\n",
       "      <td>namespace(MEDIAPIPE_STATIC_IMAGE_MODE=False, M...</td>\n",
       "    </tr>\n",
       "    <tr>\n",
       "      <th>4</th>\n",
       "      <td>dataset/corpus/YILDIZ_0.mp4</td>\n",
       "      <td>66</td>\n",
       "      <td>0</td>\n",
       "      <td>22</td>\n",
       "      <td>21</td>\n",
       "      <td>namespace(MEDIAPIPE_STATIC_IMAGE_MODE=False, M...</td>\n",
       "    </tr>\n",
       "    <tr>\n",
       "      <th>...</th>\n",
       "      <td>...</td>\n",
       "      <td>...</td>\n",
       "      <td>...</td>\n",
       "      <td>...</td>\n",
       "      <td>...</td>\n",
       "      <td>...</td>\n",
       "    </tr>\n",
       "    <tr>\n",
       "      <th>95</th>\n",
       "      <td>dataset/corpus/SIKINTI_0.mp4</td>\n",
       "      <td>40</td>\n",
       "      <td>0</td>\n",
       "      <td>40</td>\n",
       "      <td>11</td>\n",
       "      <td>namespace(MEDIAPIPE_STATIC_IMAGE_MODE=False, M...</td>\n",
       "    </tr>\n",
       "    <tr>\n",
       "      <th>96</th>\n",
       "      <td>dataset/corpus/BALIK_1.mp4</td>\n",
       "      <td>71</td>\n",
       "      <td>0</td>\n",
       "      <td>41</td>\n",
       "      <td>41</td>\n",
       "      <td>namespace(MEDIAPIPE_STATIC_IMAGE_MODE=False, M...</td>\n",
       "    </tr>\n",
       "    <tr>\n",
       "      <th>97</th>\n",
       "      <td>dataset/corpus/C╠ğEKILMEK_1.mp4</td>\n",
       "      <td>44</td>\n",
       "      <td>0</td>\n",
       "      <td>12</td>\n",
       "      <td>14</td>\n",
       "      <td>namespace(MEDIAPIPE_STATIC_IMAGE_MODE=False, M...</td>\n",
       "    </tr>\n",
       "    <tr>\n",
       "      <th>98</th>\n",
       "      <td>dataset/corpus/BU╠êYU╠êTMEK _0.mp4</td>\n",
       "      <td>77</td>\n",
       "      <td>0</td>\n",
       "      <td>45</td>\n",
       "      <td>43</td>\n",
       "      <td>namespace(MEDIAPIPE_STATIC_IMAGE_MODE=False, M...</td>\n",
       "    </tr>\n",
       "    <tr>\n",
       "      <th>99</th>\n",
       "      <td>dataset/corpus/TAKIP ETMEK_0.mp4</td>\n",
       "      <td>53</td>\n",
       "      <td>0</td>\n",
       "      <td>18</td>\n",
       "      <td>18</td>\n",
       "      <td>namespace(MEDIAPIPE_STATIC_IMAGE_MODE=False, M...</td>\n",
       "    </tr>\n",
       "  </tbody>\n",
       "</table>\n",
       "<p>100 rows × 6 columns</p>\n",
       "</div>"
      ],
      "text/plain": [
       "                              video_name num_of_total_frames  \\\n",
       "0            dataset/corpus/GEREK _1.mp4                  51   \n",
       "1      dataset/corpus/I╠çLGINC╠ğ_0.mp4                  56   \n",
       "2             dataset/corpus/MEMUR_1.mp4                  60   \n",
       "3      dataset/corpus/BAS╠ğPARMAK_0.mp4                  41   \n",
       "4            dataset/corpus/YILDIZ_0.mp4                  66   \n",
       "..                                   ...                 ...   \n",
       "95          dataset/corpus/SIKINTI_0.mp4                  40   \n",
       "96            dataset/corpus/BALIK_1.mp4                  71   \n",
       "97      dataset/corpus/C╠ğEKILMEK_1.mp4                  44   \n",
       "98  dataset/corpus/BU╠êYU╠êTMEK _0.mp4                  77   \n",
       "99      dataset/corpus/TAKIP ETMEK_0.mp4                  53   \n",
       "\n",
       "    num_of_missing_frames_pose  num_of_missing_frames_left_hand  \\\n",
       "0                            0                               51   \n",
       "1                            0                               56   \n",
       "2                            0                               60   \n",
       "3                            0                               41   \n",
       "4                            0                               22   \n",
       "..                         ...                              ...   \n",
       "95                           0                               40   \n",
       "96                           0                               41   \n",
       "97                           0                               12   \n",
       "98                           0                               45   \n",
       "99                           0                               18   \n",
       "\n",
       "    num_of_missing_frames_right_hand  \\\n",
       "0                                 10   \n",
       "1                                 29   \n",
       "2                                 33   \n",
       "3                                 19   \n",
       "4                                 21   \n",
       "..                               ...   \n",
       "95                                11   \n",
       "96                                41   \n",
       "97                                14   \n",
       "98                                43   \n",
       "99                                18   \n",
       "\n",
       "                                        configuration  \n",
       "0   namespace(MEDIAPIPE_STATIC_IMAGE_MODE=False, M...  \n",
       "1   namespace(MEDIAPIPE_STATIC_IMAGE_MODE=False, M...  \n",
       "2   namespace(MEDIAPIPE_STATIC_IMAGE_MODE=False, M...  \n",
       "3   namespace(MEDIAPIPE_STATIC_IMAGE_MODE=False, M...  \n",
       "4   namespace(MEDIAPIPE_STATIC_IMAGE_MODE=False, M...  \n",
       "..                                                ...  \n",
       "95  namespace(MEDIAPIPE_STATIC_IMAGE_MODE=False, M...  \n",
       "96  namespace(MEDIAPIPE_STATIC_IMAGE_MODE=False, M...  \n",
       "97  namespace(MEDIAPIPE_STATIC_IMAGE_MODE=False, M...  \n",
       "98  namespace(MEDIAPIPE_STATIC_IMAGE_MODE=False, M...  \n",
       "99  namespace(MEDIAPIPE_STATIC_IMAGE_MODE=False, M...  \n",
       "\n",
       "[100 rows x 6 columns]"
      ]
     },
     "execution_count": 11,
     "metadata": {},
     "output_type": "execute_result"
    }
   ],
   "source": [
    "pd_analyze_results = pd.DataFrame(analyze_results,\n",
    "                                  columns=[\"video_name\", \n",
    "                                           \"num_of_total_frames\", \n",
    "                                           \"num_of_missing_frames_pose\",\n",
    "                                           \"num_of_missing_frames_left_hand\",\n",
    "                                           \"num_of_missing_frames_right_hand\",\n",
    "                                           \"configuration\"\n",
    "                                           ])\n",
    "pd_analyze_results"
   ]
  },
  {
   "cell_type": "code",
   "execution_count": 14,
   "metadata": {},
   "outputs": [],
   "source": [
    "# Seperator intentionally given as semicolon \";\"\n",
    "# as configuration has comma \",\"\n",
    "\n",
    "import datetime\n",
    "now = datetime.datetime.now()\n",
    "formatted_datetime = now.strftime(\"%Y%m%d_%H%M%S\")\n",
    "\n",
    "pd_analyze_results.to_csv(f\"analyze/{formatted_datetime}.csv\" ,sep=';')"
   ]
  }
 ],
 "metadata": {
  "kernelspec": {
   "display_name": "Python 3",
   "language": "python",
   "name": "python3"
  },
  "language_info": {
   "codemirror_mode": {
    "name": "ipython",
    "version": 3
   },
   "file_extension": ".py",
   "mimetype": "text/x-python",
   "name": "python",
   "nbconvert_exporter": "python",
   "pygments_lexer": "ipython3",
   "version": "3.10.8"
  }
 },
 "nbformat": 4,
 "nbformat_minor": 2
}
