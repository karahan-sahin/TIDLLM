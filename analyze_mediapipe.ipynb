{
 "cells": [
  {
   "cell_type": "code",
   "execution_count": 1,
   "metadata": {},
   "outputs": [],
   "source": [
    "import os\n",
    "import sys\n",
    "import glob\n",
    "import time\n",
    "import random\n",
    "import pandas as pd\n",
    "import tqdm\n",
    "\n",
    "import torch\n",
    "import torch.nn as nn\n",
    "import torch.nn.functional as F\n",
    "import torch.optim as optim\n",
    "import numpy as np\n",
    "\n",
    "from lib.config import *\n",
    "from lib.encoder.ffn import FFNEncoder, FFNDecoder\n",
    "from lib.encoder.vqvae import VQVAE, VectorQuantizer\n",
    "from lib.train.run_autoencoder_training import AutoencoderTrainer\n",
    "from lib.utils.pose import get_pose_estimation\n",
    "import datetime"
   ]
  },
  {
   "cell_type": "code",
   "execution_count": 2,
   "metadata": {},
   "outputs": [
    {
     "data": {
      "text/plain": [
       "8"
      ]
     },
     "execution_count": 2,
     "metadata": {},
     "output_type": "execute_result"
    }
   ],
   "source": [
    "import os \n",
    "\n",
    "os.cpu_count()"
   ]
  },
  {
   "cell_type": "code",
   "execution_count": 3,
   "metadata": {},
   "outputs": [
    {
     "data": {
      "text/plain": [
       "['dataset/corpus/GEREK _1.mp4',\n",
       " 'dataset/corpus/I╠çLGINC╠ğ_0.mp4',\n",
       " 'dataset/corpus/MEMUR_1.mp4',\n",
       " 'dataset/corpus/BAS╠ğPARMAK_0.mp4',\n",
       " 'dataset/corpus/YILDIZ_0.mp4',\n",
       " 'dataset/corpus/ZARF_0.mp4',\n",
       " 'dataset/corpus/SERVIS_1.mp4',\n",
       " 'dataset/corpus/HAKLI_0.mp4',\n",
       " 'dataset/corpus/KIM_1.mp4',\n",
       " 'dataset/corpus/I╠çKISI_0.mp4',\n",
       " 'dataset/corpus/DIG╠åER_0.mp4',\n",
       " 'dataset/corpus/BAYRAK_0.mp4',\n",
       " 'dataset/corpus/I╠çNS╠ğALLAH_1.mp4',\n",
       " 'dataset/corpus/HOPARLO╠êR_0.mp4',\n",
       " 'dataset/corpus/I╠çMZALAMAK_0.mp4',\n",
       " 'dataset/corpus/GARANTI_0.mp4',\n",
       " 'dataset/corpus/KUSURA BAKMAMAK_1.mp4',\n",
       " 'dataset/corpus/SAC╠ğ_0.mp4',\n",
       " 'dataset/corpus/VERGI _1.mp4',\n",
       " 'dataset/corpus/YAVAS╠ğLAMAK_0.mp4',\n",
       " 'dataset/corpus/BAG╠åIMSIZ _0.mp4',\n",
       " 'dataset/corpus/GO╠êNU╠êL_0.mp4',\n",
       " 'dataset/corpus/TREN_1.mp4',\n",
       " 'dataset/corpus/C╠ğAY_1.mp4',\n",
       " 'dataset/corpus/UC╠ğAK_0.mp4',\n",
       " 'dataset/corpus/ALET_0.mp4',\n",
       " 'dataset/corpus/PRATIK_0.mp4',\n",
       " 'dataset/corpus/I╠çC╠ğIN_0.mp4',\n",
       " 'dataset/corpus/BIRA_1.mp4',\n",
       " 'dataset/corpus/MART_1.mp4',\n",
       " 'dataset/corpus/U╠êLKE_2.mp4',\n",
       " 'dataset/corpus/ODYOLOJI_1.mp4',\n",
       " 'dataset/corpus/EG╠åITMEK_0.mp4',\n",
       " 'dataset/corpus/ORTA SAHA_0.mp4',\n",
       " 'dataset/corpus/BENCE_0.mp4',\n",
       " 'dataset/corpus/KALP_0.mp4',\n",
       " 'dataset/corpus/METRO_0.mp4',\n",
       " 'dataset/corpus/PARMAK _1.mp4',\n",
       " 'dataset/corpus/S╠ğIS╠ğE_0.mp4',\n",
       " 'dataset/corpus/KILO_2.mp4',\n",
       " 'dataset/corpus/TEKME_1.mp4',\n",
       " 'dataset/corpus/TAKSIT_0.mp4',\n",
       " 'dataset/corpus/YAZ_0.mp4',\n",
       " 'dataset/corpus/SEVGILI_2.mp4',\n",
       " 'dataset/corpus/KOL_0.mp4',\n",
       " 'dataset/corpus/ONAYLAMAK_0.mp4',\n",
       " 'dataset/corpus/DERS _1.mp4',\n",
       " 'dataset/corpus/EKRAN_0.mp4',\n",
       " 'dataset/corpus/BURA_2.mp4',\n",
       " 'dataset/corpus/BAKMAK_1.mp4',\n",
       " 'dataset/corpus/MIMIK_0.mp4',\n",
       " 'dataset/corpus/CEP_1.mp4',\n",
       " 'dataset/corpus/ZIL C╠ğALMAK_2.mp4',\n",
       " 'dataset/corpus/MODEL_0.mp4',\n",
       " 'dataset/corpus/TUTULMAK_0.mp4',\n",
       " 'dataset/corpus/AMAN_1.mp4',\n",
       " 'dataset/corpus/HESAP MAKINESI_0.mp4',\n",
       " 'dataset/corpus/HIRSIZ_1.mp4',\n",
       " 'dataset/corpus/KAPALI_1.mp4',\n",
       " 'dataset/corpus/HAYRAN KALMAK_0.mp4',\n",
       " 'dataset/corpus/YATMAK_1.mp4',\n",
       " 'dataset/corpus/SIVRI_0.mp4',\n",
       " 'dataset/corpus/DEG╠åIS╠ğ TOKUS╠ğ_0.mp4',\n",
       " 'dataset/corpus/KAVGA ETMEK_0.mp4',\n",
       " 'dataset/corpus/HAZIRLAMAK_0.mp4',\n",
       " 'dataset/corpus/PROJE _0.mp4',\n",
       " 'dataset/corpus/BAS╠ğARMAK_0.mp4',\n",
       " 'dataset/corpus/BELGE_1.mp4',\n",
       " 'dataset/corpus/UG╠åUR_1.mp4',\n",
       " 'dataset/corpus/DU╠êNYA_1.mp4',\n",
       " 'dataset/corpus/ALC╠ğALMAK_0.mp4',\n",
       " 'dataset/corpus/HIZ _2.mp4',\n",
       " 'dataset/corpus/S╠ğOK _1.mp4',\n",
       " 'dataset/corpus/NASIL _0.mp4',\n",
       " 'dataset/corpus/TOPLAM_0.mp4',\n",
       " 'dataset/corpus/ENAYI_0.mp4',\n",
       " 'dataset/corpus/ORTAK _0.mp4',\n",
       " 'dataset/corpus/YIKILMAK_2.mp4',\n",
       " 'dataset/corpus/C╠ğIZMEK_1.mp4',\n",
       " 'dataset/corpus/KESMEK_2.mp4',\n",
       " 'dataset/corpus/TRAFIK_1.mp4',\n",
       " 'dataset/corpus/PANIK_1.mp4',\n",
       " 'dataset/corpus/HACI_0.mp4',\n",
       " 'dataset/corpus/DEG╠åIS╠ğIK _2.mp4',\n",
       " 'dataset/corpus/BALTALAMAK_1.mp4',\n",
       " 'dataset/corpus/MITING_0.mp4',\n",
       " 'dataset/corpus/YAYA_0.mp4',\n",
       " 'dataset/corpus/YARIS╠ğ_0.mp4',\n",
       " 'dataset/corpus/FEDERASYON_0.mp4',\n",
       " 'dataset/corpus/SALDIRMAK_2.mp4',\n",
       " 'dataset/corpus/MARS╠ğ_0.mp4',\n",
       " 'dataset/corpus/HAYRAN_0.mp4',\n",
       " 'dataset/corpus/CUMHURIYET_1.mp4',\n",
       " 'dataset/corpus/KOPYALAMAK_1.mp4',\n",
       " 'dataset/corpus/KALDIRMAK _1.mp4',\n",
       " 'dataset/corpus/SIKINTI_0.mp4',\n",
       " 'dataset/corpus/BALIK_1.mp4',\n",
       " 'dataset/corpus/C╠ğEKILMEK_1.mp4',\n",
       " 'dataset/corpus/BU╠êYU╠êTMEK _0.mp4',\n",
       " 'dataset/corpus/TAKIP ETMEK_0.mp4',\n",
       " 'dataset/corpus/KIRILMAK_0.mp4',\n",
       " 'dataset/corpus/ALTIN_0.mp4',\n",
       " 'dataset/corpus/CAN_0.mp4',\n",
       " 'dataset/corpus/TAKIP ETMEK_1.mp4',\n",
       " 'dataset/corpus/ALTIN_1.mp4',\n",
       " 'dataset/corpus/KIRILMAK_1.mp4',\n",
       " 'dataset/corpus/HAMAM_0.mp4',\n",
       " 'dataset/corpus/C╠ğIS╠ğ YAPMAK_0.mp4',\n",
       " 'dataset/corpus/BU╠êYU╠êTMEK _1.mp4',\n",
       " 'dataset/corpus/C╠ğEKILMEK_0.mp4',\n",
       " 'dataset/corpus/BALIK_0.mp4',\n",
       " 'dataset/corpus/SIKINTI_1.mp4',\n",
       " 'dataset/corpus/CUMHURIYET_0.mp4',\n",
       " 'dataset/corpus/HAYRAN_1.mp4',\n",
       " 'dataset/corpus/BOL_2.mp4',\n",
       " 'dataset/corpus/KALDIRMAK _0.mp4',\n",
       " 'dataset/corpus/KOPYALAMAK_0.mp4',\n",
       " 'dataset/corpus/BORU_2.mp4',\n",
       " 'dataset/corpus/YARIS╠ğ_1.mp4',\n",
       " 'dataset/corpus/VEYA_0.mp4',\n",
       " 'dataset/corpus/I╠çFADE_0.mp4',\n",
       " 'dataset/corpus/BALTALAMAK_0.mp4',\n",
       " 'dataset/corpus/BOS╠ğ OTURMAK_0.mp4',\n",
       " 'dataset/corpus/MITING_1.mp4',\n",
       " 'dataset/corpus/TRAFIK_0.mp4',\n",
       " 'dataset/corpus/PANIK_0.mp4',\n",
       " 'dataset/corpus/ORTAK _1.mp4',\n",
       " 'dataset/corpus/OY VERMEK, OY ATMAK_0.mp4',\n",
       " 'dataset/corpus/C╠ğIZMEK_0.mp4',\n",
       " 'dataset/corpus/SABAH_0.mp4',\n",
       " 'dataset/corpus/ENAYI_1.mp4',\n",
       " 'dataset/corpus/TOPLAM_1.mp4',\n",
       " 'dataset/corpus/NASIL _1.mp4',\n",
       " 'dataset/corpus/S╠ğOK _0.mp4',\n",
       " 'dataset/corpus/AG╠åRI_2.mp4',\n",
       " 'dataset/corpus/UG╠åUR_0.mp4',\n",
       " 'dataset/corpus/DU╠êNYA_0.mp4',\n",
       " 'dataset/corpus/KAVGA ETMEK_1.mp4',\n",
       " 'dataset/corpus/DILEMEK_0.mp4',\n",
       " 'dataset/corpus/BAS╠ğARMAK_1.mp4',\n",
       " 'dataset/corpus/BELGE_0.mp4',\n",
       " 'dataset/corpus/ZORLANMAK_0.mp4',\n",
       " 'dataset/corpus/DEG╠åIS╠ğ TOKUS╠ğ_1.mp4',\n",
       " 'dataset/corpus/DOG╠åAL _0.mp4',\n",
       " 'dataset/corpus/WALKMAN, KASETC╠ğALAR_0.mp4',\n",
       " 'dataset/corpus/YATMAK_0.mp4',\n",
       " 'dataset/corpus/HAYRAN KALMAK_1.mp4',\n",
       " 'dataset/corpus/KAPALI_0.mp4',\n",
       " 'dataset/corpus/HIRSIZ_0.mp4',\n",
       " 'dataset/corpus/PASTA_0.mp4',\n",
       " 'dataset/corpus/HESAP MAKINESI_1.mp4',\n",
       " 'dataset/corpus/AMAN_0.mp4',\n",
       " 'dataset/corpus/TUTULMAK_1.mp4',\n",
       " 'dataset/corpus/MODEL_1.mp4',\n",
       " 'dataset/corpus/TEBRIK ETMEK_0.mp4',\n",
       " 'dataset/corpus/MIMIK_1.mp4',\n",
       " 'dataset/corpus/BAKMAK_0.mp4',\n",
       " 'dataset/corpus/CEP_0.mp4',\n",
       " 'dataset/corpus/EKRAN_1.mp4',\n",
       " 'dataset/corpus/BAS╠ğARI_2.mp4',\n",
       " 'dataset/corpus/DERS _0.mp4',\n",
       " 'dataset/corpus/ONAYLAMAK_1.mp4',\n",
       " 'dataset/corpus/TEBRIK_0.mp4',\n",
       " 'dataset/corpus/ZEVK_0.mp4',\n",
       " 'dataset/corpus/TEKME_0.mp4',\n",
       " 'dataset/corpus/TAKSIT_1.mp4',\n",
       " 'dataset/corpus/PARMAK _0.mp4',\n",
       " 'dataset/corpus/METRO_1.mp4',\n",
       " 'dataset/corpus/KALP_1.mp4',\n",
       " 'dataset/corpus/DOLANDIRMAK_0.mp4',\n",
       " 'dataset/corpus/ODYOLOJI_0.mp4',\n",
       " 'dataset/corpus/SIMIT_0.mp4',\n",
       " 'dataset/corpus/TOPLUM_0.mp4',\n",
       " 'dataset/corpus/MAC╠ğ_0.mp4',\n",
       " 'dataset/corpus/MART_0.mp4',\n",
       " 'dataset/corpus/GEZMEK_0.mp4',\n",
       " 'dataset/corpus/PLANLAMAK_0.mp4',\n",
       " 'dataset/corpus/ASKER_0.mp4',\n",
       " 'dataset/corpus/BIRA_0.mp4',\n",
       " 'dataset/corpus/BES╠ğ_0.mp4',\n",
       " 'dataset/corpus/I╠çNTIKAM_2.mp4',\n",
       " 'dataset/corpus/UC╠ğAK_1.mp4',\n",
       " 'dataset/corpus/C╠ğAY_0.mp4',\n",
       " 'dataset/corpus/TREN_0.mp4',\n",
       " 'dataset/corpus/SU╠êLALE_0.mp4',\n",
       " 'dataset/corpus/BAG╠åIMSIZ _1.mp4',\n",
       " 'dataset/corpus/YAVAS╠ğLAMAK_1.mp4',\n",
       " 'dataset/corpus/VERGI _0.mp4',\n",
       " 'dataset/corpus/SARI_2.mp4',\n",
       " 'dataset/corpus/GARANTI_1.mp4',\n",
       " 'dataset/corpus/KUSURA BAKMAMAK_0.mp4',\n",
       " 'dataset/corpus/DIG╠åER_1.mp4',\n",
       " 'dataset/corpus/KIM_0.mp4',\n",
       " 'dataset/corpus/I╠çNS╠ğALLAH_0.mp4',\n",
       " 'dataset/corpus/HASTA_2.mp4',\n",
       " 'dataset/corpus/MAG╠åLUP_0.mp4',\n",
       " 'dataset/corpus/SERVIS_0.mp4',\n",
       " 'dataset/corpus/BORC╠ğLANMAK_0.mp4',\n",
       " 'dataset/corpus/YILDIZ_1.mp4',\n",
       " 'dataset/corpus/BAS╠ğPARMAK_1.mp4',\n",
       " 'dataset/corpus/SAG╠åOL_2.mp4',\n",
       " 'dataset/corpus/MEMUR_0.mp4',\n",
       " 'dataset/corpus/YAYILMAK_0.mp4',\n",
       " 'dataset/corpus/I╠çYILES╠ğMEK_0.mp4',\n",
       " 'dataset/corpus/GEREK _0.mp4',\n",
       " 'dataset/corpus/C╠ğO╠êZU╠êM_0.mp4',\n",
       " 'dataset/corpus/DERNEK_0.mp4',\n",
       " 'dataset/corpus/GEREK _2.mp4',\n",
       " 'dataset/corpus/O╠êRGU╠ê_0.mp4',\n",
       " 'dataset/corpus/YAKLAS╠ğMAK_1.mp4',\n",
       " 'dataset/corpus/I╠çC╠ğKI IC╠ğMEK_1.mp4',\n",
       " 'dataset/corpus/O_0.mp4',\n",
       " 'dataset/corpus/KATIL_0.mp4',\n",
       " 'dataset/corpus/SERVIS_2.mp4',\n",
       " 'dataset/corpus/HASTA_0.mp4',\n",
       " 'dataset/corpus/KORNA_0.mp4',\n",
       " 'dataset/corpus/SAG╠åOL_0.mp4',\n",
       " 'dataset/corpus/C╠ğORBA_0.mp4',\n",
       " 'dataset/corpus/KUSURA BAKMAMAK_2.mp4',\n",
       " 'dataset/corpus/SABIT_0.mp4',\n",
       " 'dataset/corpus/HEYECAN_1.mp4',\n",
       " 'dataset/corpus/BISIKLET_0.mp4',\n",
       " 'dataset/corpus/ARA_0.mp4',\n",
       " 'dataset/corpus/KESTIRMEK_1.mp4',\n",
       " 'dataset/corpus/I╠çNS╠ğALLAH_2.mp4',\n",
       " 'dataset/corpus/YAG╠å_1.mp4',\n",
       " 'dataset/corpus/I╠çNTIKAM_0.mp4',\n",
       " 'dataset/corpus/KARAKOL_0.mp4',\n",
       " 'dataset/corpus/NIC╠ğIN_0.mp4',\n",
       " 'dataset/corpus/SARI_0.mp4',\n",
       " 'dataset/corpus/VERGI _2.mp4',\n",
       " 'dataset/corpus/TAM _0.mp4',\n",
       " 'dataset/corpus/BENZIN_1.mp4',\n",
       " 'dataset/corpus/GERC╠ğEK_1.mp4',\n",
       " 'dataset/corpus/SIRT_0.mp4',\n",
       " 'dataset/corpus/U╠êLKE_1.mp4',\n",
       " 'dataset/corpus/DU╠êG╠åU╠êN_1.mp4',\n",
       " 'dataset/corpus/UCUZ_0.mp4',\n",
       " 'dataset/corpus/YOG╠åURMAK_0.mp4',\n",
       " 'dataset/corpus/I╠çSYAN ETME_0.mp4',\n",
       " 'dataset/corpus/ZARAR_0.mp4',\n",
       " 'dataset/corpus/PARMAK _2.mp4',\n",
       " 'dataset/corpus/I╠çKIBIN_0.mp4',\n",
       " 'dataset/corpus/ODYOLOJI_2.mp4',\n",
       " 'dataset/corpus/KENARA C╠ğEKMEK_0.mp4',\n",
       " 'dataset/corpus/BEG╠åENMEK_0.mp4',\n",
       " 'dataset/corpus/SORUN_1.mp4',\n",
       " 'dataset/corpus/ALKOL, I╠çC╠ğKI_0.mp4',\n",
       " 'dataset/corpus/MANTI_0.mp4',\n",
       " 'dataset/corpus/AMIR_0.mp4',\n",
       " 'dataset/corpus/HERKES_0.mp4',\n",
       " 'dataset/corpus/OY KULLANMAK_0.mp4',\n",
       " 'dataset/corpus/SEVGILI_1.mp4',\n",
       " 'dataset/corpus/I╠çLKOKUL_0.mp4',\n",
       " 'dataset/corpus/UYANMAK _1.mp4',\n",
       " 'dataset/corpus/GRAFIK_0.mp4',\n",
       " 'dataset/corpus/DELI_0.mp4',\n",
       " 'dataset/corpus/KILO_1.mp4',\n",
       " 'dataset/corpus/TEKME_2.mp4',\n",
       " 'dataset/corpus/DURAK_0.mp4',\n",
       " 'dataset/corpus/BO╠êLMEK_0.mp4',\n",
       " 'dataset/corpus/BURA_1.mp4',\n",
       " 'dataset/corpus/ALIS╠ğVERIS╠ğ_0.mp4',\n",
       " 'dataset/corpus/BAS╠ğARI_0.mp4',\n",
       " 'dataset/corpus/SALI _0.mp4',\n",
       " 'dataset/corpus/DEVAMLI_0.mp4',\n",
       " 'dataset/corpus/AMAN_2.mp4',\n",
       " 'dataset/corpus/ZIL C╠ğALMAK_1.mp4',\n",
       " 'dataset/corpus/C╠ğARPMAK_1.mp4',\n",
       " 'dataset/corpus/BAKMAK_2.mp4',\n",
       " 'dataset/corpus/MANZARA_1.mp4',\n",
       " 'dataset/corpus/S╠ğEHIR, I╠çL_0.mp4',\n",
       " 'dataset/corpus/MIKROFON_0.mp4',\n",
       " 'dataset/corpus/HAK_0.mp4',\n",
       " 'dataset/corpus/YURT_0.mp4',\n",
       " 'dataset/corpus/HIRSIZ_2.mp4',\n",
       " 'dataset/corpus/KAPALI_2.mp4',\n",
       " 'dataset/corpus/REZIL_0.mp4',\n",
       " 'dataset/corpus/YIKAMAK_0.mp4',\n",
       " 'dataset/corpus/DOG╠åUM_0.mp4',\n",
       " 'dataset/corpus/BIRINCI_0.mp4',\n",
       " 'dataset/corpus/HOBI_0.mp4',\n",
       " 'dataset/corpus/S╠ğUBE_0.mp4',\n",
       " 'dataset/corpus/KU╠êRT_0.mp4',\n",
       " 'dataset/corpus/I╠çLERI_0.mp4',\n",
       " 'dataset/corpus/HAFTA_0.mp4',\n",
       " 'dataset/corpus/DINLENMEK_0.mp4',\n",
       " 'dataset/corpus/I╠çNTERNET_1.mp4',\n",
       " 'dataset/corpus/TABI_0.mp4',\n",
       " 'dataset/corpus/DU╠êNYA_2.mp4',\n",
       " 'dataset/corpus/AG╠åRI_0.mp4',\n",
       " 'dataset/corpus/C╠ğIZGILI_1.mp4',\n",
       " 'dataset/corpus/KESMEK_1.mp4',\n",
       " 'dataset/corpus/YU╠êZMEK_0.mp4',\n",
       " 'dataset/corpus/SAYI _0.mp4',\n",
       " 'dataset/corpus/ARTIRMAK_1.mp4',\n",
       " 'dataset/corpus/YIKILMAK_1.mp4',\n",
       " 'dataset/corpus/TERLEMEK_1.mp4',\n",
       " 'dataset/corpus/HIZ _1.mp4',\n",
       " 'dataset/corpus/DEG╠åIS╠ğIK _1.mp4',\n",
       " 'dataset/corpus/CADDE_0.mp4',\n",
       " 'dataset/corpus/BESMELE_0.mp4',\n",
       " 'dataset/corpus/LOGO_0.mp4',\n",
       " 'dataset/corpus/MEKTUP_0.mp4',\n",
       " 'dataset/corpus/TRAFIK_2.mp4',\n",
       " 'dataset/corpus/TAMIR ETMEK_0.mp4',\n",
       " 'dataset/corpus/BORU_0.mp4',\n",
       " 'dataset/corpus/KOPYALAMAK_2.mp4',\n",
       " 'dataset/corpus/KALDIRMAK _2.mp4',\n",
       " 'dataset/corpus/BOL_0.mp4',\n",
       " 'dataset/corpus/MEMLEKET_1.mp4',\n",
       " 'dataset/corpus/HAP_0.mp4',\n",
       " 'dataset/corpus/SALDIRMAK_1.mp4',\n",
       " 'dataset/corpus/KAG╠åIT_0.mp4',\n",
       " 'dataset/corpus/USANMAK_0.mp4',\n",
       " 'dataset/corpus/KITAP OKUMAK_1.mp4',\n",
       " 'dataset/corpus/FUTBOL_0.mp4',\n",
       " 'dataset/corpus/C╠ğEKILMEK_2.mp4',\n",
       " 'dataset/corpus/KURNAZ_0.mp4',\n",
       " 'dataset/corpus/BUZDOLABI_0.mp4',\n",
       " 'dataset/corpus/FUTBOL_1.mp4',\n",
       " 'dataset/corpus/KITAP OKUMAK_0.mp4',\n",
       " 'dataset/corpus/BOWLING_0.mp4',\n",
       " 'dataset/corpus/BU╠êYU╠êTMEK _2.mp4',\n",
       " 'dataset/corpus/YAYINLAMAK_0.mp4',\n",
       " 'dataset/corpus/KIRILMAK_2.mp4',\n",
       " 'dataset/corpus/KAG╠åIT_1.mp4',\n",
       " 'dataset/corpus/USANMAK_1.mp4',\n",
       " 'dataset/corpus/MEMLEKET_0.mp4',\n",
       " 'dataset/corpus/O╠êG╠åRENMEK_0.mp4',\n",
       " 'dataset/corpus/SALDIRMAK_0.mp4',\n",
       " 'dataset/corpus/MERHABA_0.mp4',\n",
       " 'dataset/corpus/BORU_1.mp4',\n",
       " 'dataset/corpus/BOL_1.mp4',\n",
       " 'dataset/corpus/LOGO_1.mp4',\n",
       " 'dataset/corpus/MEKTUP_1.mp4',\n",
       " 'dataset/corpus/HOS╠ğ_0.mp4',\n",
       " 'dataset/corpus/KARACIG╠åER_0.mp4',\n",
       " 'dataset/corpus/DEG╠åIS╠ğIK _0.mp4',\n",
       " 'dataset/corpus/EG╠åLENMEK_0.mp4',\n",
       " 'dataset/corpus/TERLEMEK_0.mp4',\n",
       " 'dataset/corpus/HIZ _0.mp4',\n",
       " 'dataset/corpus/SUSTURMAK_0.mp4',\n",
       " 'dataset/corpus/KESMEK_0.mp4',\n",
       " 'dataset/corpus/YIKILMAK_0.mp4',\n",
       " 'dataset/corpus/ARTIRMAK_0.mp4',\n",
       " 'dataset/corpus/SAYI _1.mp4',\n",
       " 'dataset/corpus/YU╠êZMEK_1.mp4',\n",
       " 'dataset/corpus/ORTAK _2.mp4',\n",
       " 'dataset/corpus/SAHIL_0.mp4',\n",
       " 'dataset/corpus/TEN, CILD_0.mp4',\n",
       " 'dataset/corpus/KAVGA ETMEK_2.mp4',\n",
       " 'dataset/corpus/C╠ğIZGILI_0.mp4',\n",
       " 'dataset/corpus/I╠çNTERNET_0.mp4',\n",
       " 'dataset/corpus/AG╠åRI_1.mp4',\n",
       " 'dataset/corpus/DOG╠åUM_1.mp4',\n",
       " 'dataset/corpus/BIRINCI_1.mp4',\n",
       " 'dataset/corpus/KABUL ETMEK _0.mp4',\n",
       " 'dataset/corpus/S╠ğEHIR, I╠çL_1.mp4',\n",
       " 'dataset/corpus/MANZARA_0.mp4',\n",
       " 'dataset/corpus/SAVAS╠ğ_0.mp4',\n",
       " 'dataset/corpus/DEVAMLI_1.mp4',\n",
       " 'dataset/corpus/C╠ğARPMAK_0.mp4',\n",
       " 'dataset/corpus/ZIL C╠ğALMAK_0.mp4',\n",
       " 'dataset/corpus/KOYMAK_0.mp4',\n",
       " 'dataset/corpus/ALIS╠ğVERIS╠ğ_1.mp4',\n",
       " 'dataset/corpus/SALI _1.mp4',\n",
       " 'dataset/corpus/BAS╠ğARI_1.mp4',\n",
       " 'dataset/corpus/BURA_0.mp4',\n",
       " 'dataset/corpus/EZBER_0.mp4',\n",
       " 'dataset/corpus/C╠ğILEK_0.mp4',\n",
       " 'dataset/corpus/DOSYA_0.mp4',\n",
       " 'dataset/corpus/GRAFIK_1.mp4',\n",
       " 'dataset/corpus/DELI_1.mp4',\n",
       " 'dataset/corpus/UYANMAK _0.mp4',\n",
       " 'dataset/corpus/DURAK_1.mp4',\n",
       " 'dataset/corpus/DEVAMSIZ_0.mp4',\n",
       " 'dataset/corpus/KILO_0.mp4',\n",
       " 'dataset/corpus/AMIR_1.mp4',\n",
       " 'dataset/corpus/MANTI_1.mp4',\n",
       " 'dataset/corpus/ALKOL, I╠çC╠ğKI_1.mp4',\n",
       " 'dataset/corpus/BEG╠åENMEK_1.mp4',\n",
       " 'dataset/corpus/SORUN_0.mp4',\n",
       " 'dataset/corpus/SEVGILI_0.mp4',\n",
       " 'dataset/corpus/MEZUN_0.mp4',\n",
       " 'dataset/corpus/PASO_0.mp4',\n",
       " 'dataset/corpus/EYLEM_0.mp4',\n",
       " 'dataset/corpus/KALP_2.mp4',\n",
       " 'dataset/corpus/DU╠êG╠åU╠êN_0.mp4',\n",
       " 'dataset/corpus/GERC╠ğEK_0.mp4',\n",
       " 'dataset/corpus/BENZIN_0.mp4',\n",
       " 'dataset/corpus/U╠êLKE_0.mp4',\n",
       " 'dataset/corpus/SARI_1.mp4',\n",
       " 'dataset/corpus/NIC╠ğIN_1.mp4',\n",
       " 'dataset/corpus/TAM _1.mp4',\n",
       " 'dataset/corpus/TU╠êFEK_0.mp4',\n",
       " 'dataset/corpus/BOYNUZ_0.mp4',\n",
       " 'dataset/corpus/OYNAMAK_0.mp4',\n",
       " 'dataset/corpus/I╠çNTIKAM_1.mp4',\n",
       " 'dataset/corpus/ROMANTIK_0.mp4',\n",
       " 'dataset/corpus/KESTIRMEK_0.mp4',\n",
       " 'dataset/corpus/YAG╠å_0.mp4',\n",
       " 'dataset/corpus/HEYECAN_0.mp4',\n",
       " 'dataset/corpus/SABIT_1.mp4',\n",
       " 'dataset/corpus/SAG╠åOL_1.mp4',\n",
       " 'dataset/corpus/BAS╠ğPARMAK_2.mp4',\n",
       " 'dataset/corpus/YAKLAS╠ğMAK_0.mp4',\n",
       " 'dataset/corpus/HASTA_1.mp4',\n",
       " 'dataset/corpus/BESBELLI_0.mp4',\n",
       " 'dataset/corpus/KATIL_1.mp4',\n",
       " 'dataset/corpus/O_1.mp4',\n",
       " 'dataset/corpus/I╠çC╠ğKI IC╠ğMEK_0.mp4',\n",
       " 'dataset/corpus/SEVMEK_0.mp4',\n",
       " 'dataset/corpus/S╠ğU╠êPHELENMEK_0.mp4',\n",
       " 'dataset/corpus/O╠êRGU╠ê_1.mp4',\n",
       " 'dataset/corpus/PROPAGANDA_0.mp4',\n",
       " 'dataset/corpus/GELENEKSEL_0.mp4',\n",
       " 'dataset/corpus/GENEL_1.mp4',\n",
       " 'dataset/corpus/DIKIS╠ğ_1.mp4',\n",
       " 'dataset/corpus/HAZIRLIK_0.mp4',\n",
       " 'dataset/corpus/HEDIYE_0.mp4',\n",
       " 'dataset/corpus/I╠çMZA_1.mp4',\n",
       " 'dataset/corpus/S╠ğIMDI_0.mp4',\n",
       " 'dataset/corpus/HANGI_2.mp4',\n",
       " 'dataset/corpus/EKONOMIK_0.mp4',\n",
       " 'dataset/corpus/KOPYA _2.mp4',\n",
       " 'dataset/corpus/BARIS╠ğMAK _1.mp4',\n",
       " 'dataset/corpus/ON IKI_2.mp4',\n",
       " 'dataset/corpus/FOTOKOPI_0.mp4',\n",
       " 'dataset/corpus/C╠ğOCUK _0.mp4',\n",
       " 'dataset/corpus/I╠çMKANSIZ_0.mp4',\n",
       " 'dataset/corpus/SORUMLU_0.mp4',\n",
       " 'dataset/corpus/AC╠ğMAK_1.mp4',\n",
       " 'dataset/corpus/KARIS╠ğIK_1.mp4',\n",
       " 'dataset/corpus/TURS╠ğU_0.mp4',\n",
       " 'dataset/corpus/NO╠êBET_0.mp4',\n",
       " 'dataset/corpus/DO╠êVMEK_1.mp4',\n",
       " 'dataset/corpus/AYNA_0.mp4',\n",
       " 'dataset/corpus/DEG╠åIS╠ğTIRMEK_0.mp4',\n",
       " 'dataset/corpus/YAKIS╠ğIKLI _2.mp4',\n",
       " 'dataset/corpus/RICA _0.mp4',\n",
       " 'dataset/corpus/AFFETMEK_0.mp4',\n",
       " 'dataset/corpus/I╠çLGI_0.mp4',\n",
       " 'dataset/corpus/GEC╠ğMEK_2.mp4',\n",
       " 'dataset/corpus/O╠êNEMSEMEK_1.mp4',\n",
       " 'dataset/corpus/KOALISYON_0.mp4',\n",
       " 'dataset/corpus/HRISTIYAN _0.mp4',\n",
       " 'dataset/corpus/ARAS╠ğTIRMA_0.mp4',\n",
       " 'dataset/corpus/CAMI_0.mp4',\n",
       " 'dataset/corpus/HEDEF_1.mp4',\n",
       " 'dataset/corpus/KIRPMAK_0.mp4',\n",
       " 'dataset/corpus/KIRMAK_0.mp4',\n",
       " 'dataset/corpus/FARK_0.mp4',\n",
       " 'dataset/corpus/O╠êNCE_1.mp4',\n",
       " 'dataset/corpus/DU╠êS╠ğMEK_2.mp4',\n",
       " 'dataset/corpus/YEDEK_1.mp4',\n",
       " 'dataset/corpus/BIR_0.mp4',\n",
       " 'dataset/corpus/HU╠êKU╠êMET_0.mp4',\n",
       " 'dataset/corpus/I╠çS╠ğ_0.mp4',\n",
       " 'dataset/corpus/AS╠ğAG╠åILAMAK_1.mp4',\n",
       " 'dataset/corpus/DU╠êN_0.mp4',\n",
       " 'dataset/corpus/BARDAK _2.mp4',\n",
       " 'dataset/corpus/BAS╠ğVURU, MU╠êRACAAT_1.mp4',\n",
       " 'dataset/corpus/BULUS╠ğMAK_0.mp4',\n",
       " 'dataset/corpus/BITIRMEK_2.mp4',\n",
       " 'dataset/corpus/BOYAMAK_1.mp4',\n",
       " 'dataset/corpus/KABUL_0.mp4',\n",
       " 'dataset/corpus/NINE_0.mp4',\n",
       " 'dataset/corpus/DOLU_0.mp4',\n",
       " 'dataset/corpus/MESAJLAS╠ğMAK_0.mp4',\n",
       " 'dataset/corpus/KU╠êFU╠êR_1.mp4',\n",
       " 'dataset/corpus/ARAP_0.mp4',\n",
       " 'dataset/corpus/NOKTA_0.mp4',\n",
       " 'dataset/corpus/ACI_1.mp4',\n",
       " 'dataset/corpus/YALVARMAK_1.mp4',\n",
       " 'dataset/corpus/GEREKMEK_1.mp4',\n",
       " 'dataset/corpus/DAVA_0.mp4',\n",
       " 'dataset/corpus/SIZ_1.mp4',\n",
       " 'dataset/corpus/HAYIRLI OLSUN_1.mp4',\n",
       " 'dataset/corpus/KORUMAK_1.mp4',\n",
       " 'dataset/corpus/TAKMAK_0.mp4',\n",
       " 'dataset/corpus/SUSAMAK_0.mp4',\n",
       " 'dataset/corpus/GU╠êZEL_2.mp4',\n",
       " 'dataset/corpus/TU╠êRK_0.mp4',\n",
       " 'dataset/corpus/TU╠êY_1.mp4',\n",
       " 'dataset/corpus/DU╠êZELTMEK_0.mp4',\n",
       " 'dataset/corpus/ANLAS╠ğMAK_0.mp4',\n",
       " 'dataset/corpus/ZAYIF _1.mp4',\n",
       " 'dataset/corpus/I╠çZIN VERMEK_0.mp4',\n",
       " 'dataset/corpus/TAHTA_0.mp4',\n",
       " 'dataset/corpus/HESAP _2.mp4',\n",
       " 'dataset/corpus/KO╠êFTE_1.mp4',\n",
       " 'dataset/corpus/KILIM_2.mp4',\n",
       " 'dataset/corpus/SALLAMAK_0.mp4',\n",
       " 'dataset/corpus/ERIS╠ğTE_0.mp4',\n",
       " 'dataset/corpus/U╠êYE_0.mp4',\n",
       " 'dataset/corpus/DEG╠åER_0.mp4',\n",
       " 'dataset/corpus/ENDIS╠ğELI_1.mp4',\n",
       " 'dataset/corpus/AD, I╠çSIM_1.mp4',\n",
       " 'dataset/corpus/YU╠êZ, 100_0.mp4',\n",
       " 'dataset/corpus/BILEZIK_0.mp4',\n",
       " 'dataset/corpus/S╠ğIS╠ğMEK_1.mp4',\n",
       " 'dataset/corpus/S╠ğIS╠ğMAN_1.mp4',\n",
       " 'dataset/corpus/DO╠êNU╠êS╠ğTU╠êRMEK_0.mp4',\n",
       " 'dataset/corpus/SIGARA_0.mp4',\n",
       " 'dataset/corpus/KILITLEMEK_1.mp4',\n",
       " 'dataset/corpus/U╠êCRETSIZ_0.mp4',\n",
       " 'dataset/corpus/BU_0.mp4',\n",
       " 'dataset/corpus/YAPIS╠ğMAK_1.mp4',\n",
       " 'dataset/corpus/UFAK_2.mp4',\n",
       " 'dataset/corpus/FAKIR_1.mp4',\n",
       " 'dataset/corpus/HIZMET _0.mp4',\n",
       " 'dataset/corpus/ELLI (50)_1.mp4',\n",
       " 'dataset/corpus/I╠çKNA ETMEK _2.mp4',\n",
       " 'dataset/corpus/TERO╠êRIST_1.mp4',\n",
       " 'dataset/corpus/SAKAL_0.mp4',\n",
       " 'dataset/corpus/SILAH_0.mp4',\n",
       " 'dataset/corpus/I╠çNS╠ğAAT _0.mp4',\n",
       " 'dataset/corpus/ADET_0.mp4',\n",
       " 'dataset/corpus/BERI_0.mp4',\n",
       " 'dataset/corpus/EMMEK_0.mp4',\n",
       " 'dataset/corpus/C╠ğIKARTMAK_1.mp4',\n",
       " 'dataset/corpus/MAAS╠ğ_0.mp4',\n",
       " 'dataset/corpus/MESAJ_2.mp4',\n",
       " 'dataset/corpus/BAL_0.mp4',\n",
       " 'dataset/corpus/ERTELENMEK_0.mp4',\n",
       " 'dataset/corpus/ZAMAN_0.mp4',\n",
       " 'dataset/corpus/BULMAK_0.mp4',\n",
       " 'dataset/corpus/BIRLES╠ğMEK_1.mp4',\n",
       " 'dataset/corpus/KURS_1.mp4',\n",
       " 'dataset/corpus/BAYRAM_0.mp4',\n",
       " 'dataset/corpus/SPOR_0.mp4',\n",
       " 'dataset/corpus/KALKMAK _1.mp4',\n",
       " 'dataset/corpus/SAG╠åLIK _1.mp4',\n",
       " 'dataset/corpus/HABER VERMEK_0.mp4',\n",
       " 'dataset/corpus/KALKMAK _0.mp4',\n",
       " 'dataset/corpus/SAG╠åLIK _0.mp4',\n",
       " 'dataset/corpus/KURS_0.mp4',\n",
       " 'dataset/corpus/BIRLES╠ğMEK_0.mp4',\n",
       " 'dataset/corpus/EKSIK_2.mp4',\n",
       " 'dataset/corpus/BAYRAM_1.mp4',\n",
       " 'dataset/corpus/ENGELLI_0.mp4',\n",
       " 'dataset/corpus/MAAS╠ğ_1.mp4',\n",
       " 'dataset/corpus/DUA_0.mp4',\n",
       " 'dataset/corpus/ZAMAN_1.mp4',\n",
       " 'dataset/corpus/I╠çNS╠ğAAT _1.mp4',\n",
       " 'dataset/corpus/C╠ğIKARTMAK_0.mp4',\n",
       " 'dataset/corpus/ELLI (50)_0.mp4',\n",
       " 'dataset/corpus/HIZMET _1.mp4',\n",
       " 'dataset/corpus/FAKIR_0.mp4',\n",
       " 'dataset/corpus/AYARLAMAK_2.mp4',\n",
       " 'dataset/corpus/SAKAL_1.mp4',\n",
       " 'dataset/corpus/TERO╠êRIST_0.mp4',\n",
       " 'dataset/corpus/VAPUR_0.mp4',\n",
       " 'dataset/corpus/YAPIS╠ğMAK_0.mp4',\n",
       " 'dataset/corpus/KILITLEMEK_0.mp4',\n",
       " 'dataset/corpus/BU_1.mp4',\n",
       " 'dataset/corpus/S╠ğIS╠ğMEK_0.mp4',\n",
       " 'dataset/corpus/BURNUNU SOKMAK_0.mp4',\n",
       " 'dataset/corpus/BALTA_0.mp4',\n",
       " 'dataset/corpus/DO╠êNU╠êS╠ğTU╠êRMEK_1.mp4',\n",
       " 'dataset/corpus/S╠ğIS╠ğMAN_0.mp4',\n",
       " 'dataset/corpus/O╠êRNEK_0.mp4',\n",
       " 'dataset/corpus/DEG╠åER_1.mp4',\n",
       " 'dataset/corpus/C╠ğAG╠åIRMAK_0.mp4',\n",
       " 'dataset/corpus/AD, I╠çSIM_0.mp4',\n",
       " 'dataset/corpus/ENDIS╠ğELI_0.mp4',\n",
       " 'dataset/corpus/DIPLOMA _2.mp4',\n",
       " 'dataset/corpus/PLAKA_0.mp4',\n",
       " 'dataset/corpus/TAHTA_1.mp4',\n",
       " 'dataset/corpus/KO╠êFTE_0.mp4',\n",
       " 'dataset/corpus/TEPSI_0.mp4',\n",
       " 'dataset/corpus/TU╠êY_0.mp4',\n",
       " 'dataset/corpus/I╠çZIN VERMEK_1.mp4',\n",
       " 'dataset/corpus/ZAYIF _0.mp4',\n",
       " 'dataset/corpus/ANLAS╠ğMAK_1.mp4',\n",
       " 'dataset/corpus/VAH_0.mp4',\n",
       " 'dataset/corpus/BOZULMAK _0.mp4',\n",
       " 'dataset/corpus/HAYIRLI OLSUN_0.mp4',\n",
       " 'dataset/corpus/TAKMAK_1.mp4',\n",
       " 'dataset/corpus/KORUMAK_0.mp4',\n",
       " 'dataset/corpus/SIZ_0.mp4',\n",
       " 'dataset/corpus/GEREKMEK_0.mp4',\n",
       " 'dataset/corpus/U╠êC╠ğU╠êNCU╠ê_2.mp4',\n",
       " 'dataset/corpus/ACI_0.mp4',\n",
       " 'dataset/corpus/YALVARMAK_0.mp4',\n",
       " 'dataset/corpus/ARAP_1.mp4',\n",
       " 'dataset/corpus/KU╠êFU╠êR_0.mp4',\n",
       " 'dataset/corpus/YETMIS╠ğ_0.mp4',\n",
       " 'dataset/corpus/TABAK_0.mp4',\n",
       " 'dataset/corpus/FESTIVAL_0.mp4',\n",
       " 'dataset/corpus/GECIKMEK_0.mp4',\n",
       " 'dataset/corpus/TEYZE_2.mp4',\n",
       " 'dataset/corpus/ANLATMAK_0.mp4',\n",
       " 'dataset/corpus/BOYAMAK_0.mp4',\n",
       " 'dataset/corpus/SANANE_0.mp4',\n",
       " 'dataset/corpus/BULUS╠ğMAK_1.mp4',\n",
       " 'dataset/corpus/BAS╠ğVURU, MU╠êRACAAT_0.mp4',\n",
       " 'dataset/corpus/BURADA _0.mp4',\n",
       " 'dataset/corpus/DU╠êN_1.mp4',\n",
       " 'dataset/corpus/YEDEK_0.mp4',\n",
       " 'dataset/corpus/AS╠ğAG╠åILAMAK_0.mp4',\n",
       " 'dataset/corpus/I╠çS╠ğ_1.mp4',\n",
       " 'dataset/corpus/FARK_1.mp4',\n",
       " 'dataset/corpus/O╠êNCE_0.mp4',\n",
       " 'dataset/corpus/EMRETMEK, EMIR VERMEK_0.mp4',\n",
       " 'dataset/corpus/KIRMAK_1.mp4',\n",
       " 'dataset/corpus/HEDEF_0.mp4',\n",
       " 'dataset/corpus/HRISTIYAN _1.mp4',\n",
       " 'dataset/corpus/GAVUR_0.mp4',\n",
       " 'dataset/corpus/CAMI_1.mp4',\n",
       " 'dataset/corpus/KOALISYON_1.mp4',\n",
       " 'dataset/corpus/KAN_0.mp4',\n",
       " 'dataset/corpus/O╠êNEMSEMEK_0.mp4',\n",
       " 'dataset/corpus/I╠çDMAN_0.mp4',\n",
       " 'dataset/corpus/S╠ğAMPIYON_0.mp4',\n",
       " 'dataset/corpus/AFFETMEK_1.mp4',\n",
       " 'dataset/corpus/BAZEN_2.mp4',\n",
       " 'dataset/corpus/I╠çLGI_1.mp4',\n",
       " 'dataset/corpus/DO╠êVMEK_0.mp4',\n",
       " 'dataset/corpus/NO╠êBET_1.mp4',\n",
       " 'dataset/corpus/KARIS╠ğIK_0.mp4',\n",
       " 'dataset/corpus/AC╠ğMAK_0.mp4',\n",
       " 'dataset/corpus/DEG╠åIS╠ğTIRMEK_1.mp4',\n",
       " 'dataset/corpus/I╠çMKANSIZ_1.mp4',\n",
       " 'dataset/corpus/C╠ğOCUK _1.mp4',\n",
       " 'dataset/corpus/KOKU _2.mp4',\n",
       " 'dataset/corpus/SORUMLU_1.mp4',\n",
       " 'dataset/corpus/BARIS╠ğMAK _0.mp4',\n",
       " 'dataset/corpus/EKONOMIK_1.mp4',\n",
       " 'dataset/corpus/FOTOKOPI_1.mp4',\n",
       " 'dataset/corpus/EKONOMI_2.mp4',\n",
       " 'dataset/corpus/PES ETMEK_0.mp4',\n",
       " 'dataset/corpus/MAKAS_0.mp4',\n",
       " 'dataset/corpus/I╠çMZA_0.mp4',\n",
       " 'dataset/corpus/HAZIRLIK_1.mp4',\n",
       " 'dataset/corpus/DIKIS╠ğ_0.mp4',\n",
       " 'dataset/corpus/BAG╠åLANMAK_2.mp4',\n",
       " 'dataset/corpus/GENEL_0.mp4',\n",
       " 'dataset/corpus/S╠ğIMDI_1.mp4',\n",
       " 'dataset/corpus/ON IKI_1.mp4',\n",
       " 'dataset/corpus/O╠êRTU╠ê_0.mp4',\n",
       " 'dataset/corpus/YU╠êKLEMEK_0.mp4',\n",
       " 'dataset/corpus/EKONOMI_0.mp4',\n",
       " 'dataset/corpus/KOPYA _1.mp4',\n",
       " 'dataset/corpus/BARIS╠ğMAK _2.mp4',\n",
       " 'dataset/corpus/I╠çNGILIZCE_0.mp4',\n",
       " 'dataset/corpus/HANGI_1.mp4',\n",
       " 'dataset/corpus/YAPI_0.mp4',\n",
       " 'dataset/corpus/BAG╠åLANMAK_0.mp4',\n",
       " 'dataset/corpus/ETEK_0.mp4',\n",
       " 'dataset/corpus/YARDIM_0.mp4',\n",
       " 'dataset/corpus/YAKIS╠ğIKLI _1.mp4',\n",
       " 'dataset/corpus/ATIS╠ğTIRMAK_0.mp4',\n",
       " 'dataset/corpus/AC╠ğMAK_2.mp4',\n",
       " 'dataset/corpus/BELLI_0.mp4',\n",
       " 'dataset/corpus/KISA_0.mp4',\n",
       " 'dataset/corpus/EVVEL_0.mp4',\n",
       " 'dataset/corpus/BANYO_0.mp4',\n",
       " 'dataset/corpus/KAC╠ğMAK_0.mp4',\n",
       " 'dataset/corpus/MUZ_1.mp4',\n",
       " 'dataset/corpus/KOKU _0.mp4',\n",
       " 'dataset/corpus/DENEMEK_0.mp4',\n",
       " 'dataset/corpus/GEC╠ğMEK_1.mp4',\n",
       " 'dataset/corpus/VOLEYBOL_0.mp4',\n",
       " 'dataset/corpus/KU╠êC╠ğU╠êLTMEK_0.mp4',\n",
       " 'dataset/corpus/JANDARMA_1.mp4',\n",
       " 'dataset/corpus/KILIC╠ğ_0.mp4',\n",
       " 'dataset/corpus/BAZEN_0.mp4',\n",
       " 'dataset/corpus/TAVSIYE_1.mp4',\n",
       " 'dataset/corpus/HEDEF_2.mp4',\n",
       " 'dataset/corpus/ABARTMAK_1.mp4',\n",
       " 'dataset/corpus/BIBER_1.mp4',\n",
       " 'dataset/corpus/MOLA_0.mp4',\n",
       " 'dataset/corpus/BAKIS╠ğMAK_0.mp4',\n",
       " 'dataset/corpus/DU╠êS╠ğMEK_1.mp4',\n",
       " 'dataset/corpus/BEKAR_0.mp4',\n",
       " 'dataset/corpus/YA_0.mp4',\n",
       " 'dataset/corpus/I╠çLAC╠ğ_0.mp4',\n",
       " 'dataset/corpus/BATMAK_0.mp4',\n",
       " 'dataset/corpus/BITIRMEK_1.mp4',\n",
       " 'dataset/corpus/BOYAMAK_2.mp4',\n",
       " 'dataset/corpus/BARDAK _1.mp4',\n",
       " 'dataset/corpus/UC╠ğURUM_0.mp4',\n",
       " 'dataset/corpus/TEYZE_0.mp4',\n",
       " 'dataset/corpus/I╠çZIN_0.mp4',\n",
       " 'dataset/corpus/HEYKEL_1.mp4',\n",
       " 'dataset/corpus/YOLCULUK_0.mp4',\n",
       " 'dataset/corpus/CIMBIZ_0.mp4',\n",
       " 'dataset/corpus/AUT_0.mp4',\n",
       " 'dataset/corpus/GU╠êNES╠ğ_1.mp4',\n",
       " 'dataset/corpus/S╠ğIMARIK_0.mp4',\n",
       " 'dataset/corpus/EG╠åER_1.mp4',\n",
       " 'dataset/corpus/I╠çG╠åRENC╠ğ_1.mp4',\n",
       " 'dataset/corpus/ACI_2.mp4',\n",
       " 'dataset/corpus/TECRU╠êBE_0.mp4',\n",
       " 'dataset/corpus/U╠êC╠ğU╠êNCU╠ê_0.mp4',\n",
       " 'dataset/corpus/GEREKMEK_2.mp4',\n",
       " 'dataset/corpus/ZAYIF _2.mp4',\n",
       " 'dataset/corpus/PASAPORT_1.mp4',\n",
       " 'dataset/corpus/SU╠êRE_0.mp4',\n",
       " 'dataset/corpus/YETENEK_1.mp4',\n",
       " 'dataset/corpus/GU╠êZEL_1.mp4',\n",
       " 'dataset/corpus/ARZU, I╠çSTEK_1.mp4',\n",
       " 'dataset/corpus/KILIM_1.mp4',\n",
       " 'dataset/corpus/DIPLOMA _0.mp4',\n",
       " 'dataset/corpus/TOK_0.mp4',\n",
       " 'dataset/corpus/HESAP _1.mp4',\n",
       " 'dataset/corpus/OLMAK_0.mp4',\n",
       " 'dataset/corpus/UZAK _1.mp4',\n",
       " 'dataset/corpus/HISSETMEK_0.mp4',\n",
       " 'dataset/corpus/TAPU_0.mp4',\n",
       " 'dataset/corpus/ORAYA_0.mp4',\n",
       " 'dataset/corpus/I╠çFLAS ETMEK_1.mp4',\n",
       " 'dataset/corpus/S╠ğIS╠ğMEK_2.mp4',\n",
       " 'dataset/corpus/AYIP_1.mp4',\n",
       " 'dataset/corpus/I╠çKNA ETMEK _1.mp4',\n",
       " 'dataset/corpus/AYARLAMAK_0.mp4',\n",
       " 'dataset/corpus/TOP_0.mp4',\n",
       " 'dataset/corpus/KIYMAK_0.mp4',\n",
       " 'dataset/corpus/OKS╠ğAMAK_0.mp4',\n",
       " 'dataset/corpus/UFAK_1.mp4',\n",
       " 'dataset/corpus/HIS_0.mp4',\n",
       " 'dataset/corpus/DIS╠ğARI _0.mp4',\n",
       " 'dataset/corpus/SEKIZ_0.mp4',\n",
       " 'dataset/corpus/MESAJ_1.mp4',\n",
       " 'dataset/corpus/DU╠êS╠ğU╠êNMEK_1.mp4',\n",
       " 'dataset/corpus/TEMMUZ_0.mp4',\n",
       " 'dataset/corpus/SABIR_0.mp4',\n",
       " 'dataset/corpus/BLUZ_0.mp4',\n",
       " 'dataset/corpus/VARMAK_0.mp4',\n",
       " 'dataset/corpus/S╠ğU╠êKU╠êR_0.mp4',\n",
       " 'dataset/corpus/UYANDIRMAK_0.mp4',\n",
       " 'dataset/corpus/KALKMAK _2.mp4',\n",
       " 'dataset/corpus/YEDIRMEK_0.mp4',\n",
       " 'dataset/corpus/AS╠ğAG╠åI_1.mp4',\n",
       " 'dataset/corpus/EKSIK_0.mp4',\n",
       " 'dataset/corpus/I╠çLGISIZ_0.mp4',\n",
       " 'dataset/corpus/BIRLES╠ğMEK_2.mp4',\n",
       " 'dataset/corpus/KURS_2.mp4',\n",
       " 'dataset/corpus/EKSIK_1.mp4',\n",
       " 'dataset/corpus/AS╠ğAG╠åI_0.mp4',\n",
       " 'dataset/corpus/BAYRAM_2.mp4',\n",
       " 'dataset/corpus/I╠çLGISIZ_1.mp4',\n",
       " 'dataset/corpus/S╠ğU╠êKU╠êR_1.mp4',\n",
       " 'dataset/corpus/VARMAK_1.mp4',\n",
       " 'dataset/corpus/BLUZ_1.mp4',\n",
       " 'dataset/corpus/AYRIMCILIK_0.mp4',\n",
       " 'dataset/corpus/TEMMUZ_1.mp4',\n",
       " 'dataset/corpus/DU╠êS╠ğU╠êNMEK_0.mp4',\n",
       " 'dataset/corpus/ZAMAN_2.mp4',\n",
       " 'dataset/corpus/I╠çMAN_0.mp4',\n",
       " 'dataset/corpus/MESAJ_0.mp4',\n",
       " 'dataset/corpus/DUMAN_0.mp4',\n",
       " 'dataset/corpus/DIS╠ğARI _1.mp4',\n",
       " 'dataset/corpus/UFAK_0.mp4',\n",
       " 'dataset/corpus/OKS╠ğAMAK_1.mp4',\n",
       " 'dataset/corpus/GEMI_0.mp4',\n",
       " 'dataset/corpus/ALAN_0.mp4',\n",
       " 'dataset/corpus/AYARLAMAK_1.mp4',\n",
       " 'dataset/corpus/I╠çKNA ETMEK _0.mp4',\n",
       " 'dataset/corpus/TOP_1.mp4',\n",
       " 'dataset/corpus/O╠êZU╠êRLU╠ê_0.mp4',\n",
       " 'dataset/corpus/HIZMET _2.mp4',\n",
       " 'dataset/corpus/RANDEVU_0.mp4',\n",
       " 'dataset/corpus/AYIP_0.mp4',\n",
       " 'dataset/corpus/I╠çFLAS ETMEK_0.mp4',\n",
       " 'dataset/corpus/UZAK _0.mp4',\n",
       " 'dataset/corpus/BUC╠ğUK_0.mp4',\n",
       " 'dataset/corpus/YEMEK _0.mp4',\n",
       " 'dataset/corpus/TOK_1.mp4',\n",
       " 'dataset/corpus/HESAP _0.mp4',\n",
       " 'dataset/corpus/TAHTA_2.mp4',\n",
       " 'dataset/corpus/OLIMPIYAT_0.mp4',\n",
       " 'dataset/corpus/KILIM_0.mp4',\n",
       " 'dataset/corpus/DIPLOMA _1.mp4',\n",
       " 'dataset/corpus/HAZIR_0.mp4',\n",
       " 'dataset/corpus/ARZU, I╠çSTEK_0.mp4',\n",
       " 'dataset/corpus/GU╠êZEL_0.mp4',\n",
       " 'dataset/corpus/PASAPORT_0.mp4',\n",
       " 'dataset/corpus/SU╠êRE_1.mp4',\n",
       " 'dataset/corpus/YETENEK_0.mp4',\n",
       " 'dataset/corpus/MORAL_0.mp4',\n",
       " 'dataset/corpus/U╠êC╠ğU╠êNCU╠ê_1.mp4',\n",
       " 'dataset/corpus/I╠çG╠åRENC╠ğ_0.mp4',\n",
       " 'dataset/corpus/EG╠åER_0.mp4',\n",
       " 'dataset/corpus/PATLAMAK_0.mp4',\n",
       " 'dataset/corpus/DAMLA_0.mp4',\n",
       " 'dataset/corpus/C╠ğIS╠ğ_0.mp4',\n",
       " 'dataset/corpus/GU╠êNES╠ğ_0.mp4',\n",
       " 'dataset/corpus/C╠ğIKARMA _0.mp4',\n",
       " 'dataset/corpus/HEYKEL_0.mp4',\n",
       " 'dataset/corpus/TEYZE_1.mp4',\n",
       " 'dataset/corpus/AZ_0.mp4',\n",
       " 'dataset/corpus/I╠çZIN_1.mp4',\n",
       " 'dataset/corpus/HEDIYE VERMEK, HEDIYE ETMEK_0.mp4',\n",
       " 'dataset/corpus/BARDAK _0.mp4',\n",
       " 'dataset/corpus/I╠çLAC╠ğ_1.mp4',\n",
       " 'dataset/corpus/BATMAK_1.mp4',\n",
       " 'dataset/corpus/YA_1.mp4',\n",
       " 'dataset/corpus/BITIRMEK_0.mp4',\n",
       " 'dataset/corpus/DU╠êS╠ğMAN_0.mp4',\n",
       " 'dataset/corpus/DU╠êS╠ğMEK_0.mp4',\n",
       " 'dataset/corpus/TAT_0.mp4',\n",
       " 'dataset/corpus/MU╠êKEMMEL_0.mp4',\n",
       " 'dataset/corpus/ABARTMAK_0.mp4',\n",
       " 'dataset/corpus/EVLENMEK_0.mp4',\n",
       " 'dataset/corpus/BIBER_0.mp4',\n",
       " 'dataset/corpus/BAZEN_1.mp4',\n",
       " 'dataset/corpus/JANDARMA_0.mp4',\n",
       " 'dataset/corpus/KILIC╠ğ_1.mp4',\n",
       " 'dataset/corpus/TAVSIYE_0.mp4',\n",
       " 'dataset/corpus/GEC╠ğMEK_0.mp4',\n",
       " 'dataset/corpus/KOALISYON_2.mp4',\n",
       " 'dataset/corpus/BALON_0.mp4',\n",
       " 'dataset/corpus/KU╠êC╠ğU╠êLTMEK_1.mp4',\n",
       " 'dataset/corpus/VOLEYBOL_1.mp4',\n",
       " 'dataset/corpus/OFLAMAK_0.mp4',\n",
       " 'dataset/corpus/BANYO_1.mp4',\n",
       " 'dataset/corpus/ERTELEMEK_0.mp4',\n",
       " 'dataset/corpus/KOKU _1.mp4',\n",
       " 'dataset/corpus/MUZ_0.mp4',\n",
       " 'dataset/corpus/YAKIS╠ğIKLI _0.mp4',\n",
       " 'dataset/corpus/DEG╠åIS╠ğTIRMEK_2.mp4',\n",
       " 'dataset/corpus/KISA_1.mp4',\n",
       " 'dataset/corpus/SELAM_0.mp4',\n",
       " 'dataset/corpus/BELLI_1.mp4',\n",
       " 'dataset/corpus/KU╠êREK_0.mp4',\n",
       " 'dataset/corpus/HANGI_0.mp4',\n",
       " 'dataset/corpus/VITAMIN_0.mp4',\n",
       " 'dataset/corpus/YARDIM_1.mp4',\n",
       " 'dataset/corpus/ETEK_1.mp4',\n",
       " 'dataset/corpus/HAZIRLIK_2.mp4',\n",
       " 'dataset/corpus/BAG╠åLANMAK_1.mp4',\n",
       " 'dataset/corpus/EKONOMI_1.mp4',\n",
       " 'dataset/corpus/YU╠êKLEMEK_1.mp4',\n",
       " 'dataset/corpus/ON IKI_0.mp4',\n",
       " 'dataset/corpus/S╠ğEREF_0.mp4',\n",
       " 'dataset/corpus/KOPYA _0.mp4',\n",
       " 'dataset/corpus/SUC╠ğ_1.mp4',\n",
       " 'dataset/corpus/YAKIS╠ğMAK_0.mp4',\n",
       " 'dataset/corpus/AVANTAJ_0.mp4',\n",
       " 'dataset/corpus/PAYLAS╠ğMAK_1.mp4',\n",
       " 'dataset/corpus/SERUM_0.mp4',\n",
       " 'dataset/corpus/AMELIYAT_0.mp4',\n",
       " 'dataset/corpus/KARTAL_1.mp4',\n",
       " 'dataset/corpus/EG╠åMEK_2.mp4',\n",
       " 'dataset/corpus/EL SIKMAK_1.mp4',\n",
       " 'dataset/corpus/UZUN_1.mp4',\n",
       " 'dataset/corpus/DAVET _2.mp4',\n",
       " 'dataset/corpus/C╠ğIPLAK_0.mp4',\n",
       " 'dataset/corpus/ONARMAK_0.mp4',\n",
       " 'dataset/corpus/NEREDE _0.mp4',\n",
       " 'dataset/corpus/NORMAL_1.mp4',\n",
       " 'dataset/corpus/MECLIS_0.mp4',\n",
       " 'dataset/corpus/KURBAN_1.mp4',\n",
       " 'dataset/corpus/DUDAK_0.mp4',\n",
       " 'dataset/corpus/BAS╠ğARILI_1.mp4',\n",
       " 'dataset/corpus/I╠çHTIYAC╠ğ_0.mp4',\n",
       " 'dataset/corpus/BAS╠ğARISIZ_2.mp4',\n",
       " 'dataset/corpus/EMZIK_0.mp4',\n",
       " 'dataset/corpus/YARIS╠ğMA_0.mp4',\n",
       " 'dataset/corpus/O YU╠êZDEN_0.mp4',\n",
       " 'dataset/corpus/FREN_0.mp4',\n",
       " 'dataset/corpus/TEMBEL_0.mp4',\n",
       " 'dataset/corpus/KAR_2.mp4',\n",
       " 'dataset/corpus/MERAK ETMEK_1.mp4',\n",
       " 'dataset/corpus/KESIN_0.mp4',\n",
       " 'dataset/corpus/GELECEK_1.mp4',\n",
       " 'dataset/corpus/ELEKTRONIK POSTA, E-POSTA_0.mp4',\n",
       " 'dataset/corpus/DOYMAK_0.mp4',\n",
       " 'dataset/corpus/KISKANC╠ğ_0.mp4',\n",
       " 'dataset/corpus/KOMIK_1.mp4',\n",
       " 'dataset/corpus/BINMEK_0.mp4',\n",
       " 'dataset/corpus/KEMER_0.mp4',\n",
       " 'dataset/corpus/DEVAM ETMEK_1.mp4',\n",
       " 'dataset/corpus/CAM_0.mp4',\n",
       " 'dataset/corpus/CEP TELEFONU_1.mp4',\n",
       " 'dataset/corpus/C╠ğARPI_0.mp4',\n",
       " 'dataset/corpus/YAS╠ğLI_0.mp4',\n",
       " 'dataset/corpus/UYKU_1.mp4',\n",
       " 'dataset/corpus/MU╠êMKU╠êN_0.mp4',\n",
       " 'dataset/corpus/SUSMAK_1.mp4',\n",
       " 'dataset/corpus/PAZAR_1.mp4',\n",
       " 'dataset/corpus/O╠êLMEK_0.mp4',\n",
       " 'dataset/corpus/HER GU╠êN_0.mp4',\n",
       " 'dataset/corpus/SERC╠ğE PARMAK_0.mp4',\n",
       " 'dataset/corpus/C╠ğES╠ğIT_0.mp4',\n",
       " 'dataset/corpus/ORTAOKUL _0.mp4',\n",
       " 'dataset/corpus/DU╠êG╠åME_1.mp4',\n",
       " 'dataset/corpus/TOST_0.mp4',\n",
       " 'dataset/corpus/OG╠åUL_2.mp4',\n",
       " 'dataset/corpus/EKMEK_0.mp4',\n",
       " 'dataset/corpus/DERI_0.mp4',\n",
       " 'dataset/corpus/SANDALYE_0.mp4',\n",
       " 'dataset/corpus/CANI C╠ğEKMEK _0.mp4',\n",
       " 'dataset/corpus/VICDAN_0.mp4',\n",
       " 'dataset/corpus/REKLAM_1.mp4',\n",
       " 'dataset/corpus/YUTMAK_0.mp4',\n",
       " 'dataset/corpus/BIC╠ğAK_0.mp4',\n",
       " 'dataset/corpus/SANAT _0.mp4',\n",
       " 'dataset/corpus/MAVI_0.mp4',\n",
       " 'dataset/corpus/MERDIVEN_0.mp4',\n",
       " 'dataset/corpus/AS╠ğI_0.mp4',\n",
       " 'dataset/corpus/BOG╠åULMAK_2.mp4',\n",
       " 'dataset/corpus/YUMURTA_2.mp4',\n",
       " 'dataset/corpus/CUMHURBAS╠ğKANI_0.mp4',\n",
       " 'dataset/corpus/BITMEK _2.mp4',\n",
       " 'dataset/corpus/VU╠êCUT _0.mp4',\n",
       " 'dataset/corpus/BAR_1.mp4',\n",
       " 'dataset/corpus/TU╠êRBAN_1.mp4',\n",
       " 'dataset/corpus/HOCA_1.mp4',\n",
       " 'dataset/corpus/KIS╠ğI_1.mp4',\n",
       " 'dataset/corpus/DEG╠åERLI _0.mp4',\n",
       " 'dataset/corpus/PU╠êRE_1.mp4',\n",
       " 'dataset/corpus/O╠êNEMLI_1.mp4',\n",
       " 'dataset/corpus/DIKMEK_1.mp4',\n",
       " 'dataset/corpus/HESAPLAMAK_2.mp4',\n",
       " 'dataset/corpus/EMZIRMEK_1.mp4',\n",
       " 'dataset/corpus/YIYECEK_0.mp4',\n",
       " 'dataset/corpus/BO╠êLME_1.mp4',\n",
       " 'dataset/corpus/OY_0.mp4',\n",
       " 'dataset/corpus/BOMBALAMAK_1.mp4',\n",
       " 'dataset/corpus/YUKARI_0.mp4',\n",
       " 'dataset/corpus/BAS╠ğBAKAN_0.mp4',\n",
       " 'dataset/corpus/PIDE_0.mp4',\n",
       " 'dataset/corpus/YU╠êZU╠êK_0.mp4',\n",
       " 'dataset/corpus/KRAL_0.mp4',\n",
       " 'dataset/corpus/DONDURMA_0.mp4',\n",
       " 'dataset/corpus/I╠çNS╠ğA_0.mp4',\n",
       " 'dataset/corpus/ES╠ğIT _2.mp4',\n",
       " 'dataset/corpus/I╠çC╠ğKI_0.mp4',\n",
       " 'dataset/corpus/NE ZAMAN_0.mp4',\n",
       " 'dataset/corpus/CEZA KESMEK, CEZA VERMEK_0.mp4',\n",
       " 'dataset/corpus/CEVAP_0.mp4',\n",
       " 'dataset/corpus/I╠çC╠ğKI_1.mp4',\n",
       " 'dataset/corpus/TU╠êNEL_0.mp4',\n",
       " 'dataset/corpus/BEN_2.mp4',\n",
       " 'dataset/corpus/ORUC╠ğ_0.mp4',\n",
       " 'dataset/corpus/I╠çNS╠ğA_1.mp4',\n",
       " 'dataset/corpus/DONDURMA_1.mp4',\n",
       " 'dataset/corpus/PIDE_1.mp4',\n",
       " 'dataset/corpus/BAS╠ğBAKAN_1.mp4',\n",
       " 'dataset/corpus/YU╠êZU╠êK_1.mp4',\n",
       " 'dataset/corpus/GU╠êLDU╠êRMEK_2.mp4',\n",
       " 'dataset/corpus/KAHVERENGI_2.mp4',\n",
       " 'dataset/corpus/DAYI_0.mp4',\n",
       " 'dataset/corpus/BOMBALAMAK_0.mp4',\n",
       " 'dataset/corpus/DEVRILMEK_2.mp4',\n",
       " 'dataset/corpus/BO╠êLME_0.mp4',\n",
       " 'dataset/corpus/DIKMEK_0.mp4',\n",
       " 'dataset/corpus/ORTA _2.mp4',\n",
       " 'dataset/corpus/PU╠êRE_0.mp4',\n",
       " 'dataset/corpus/O╠êNEMLI_0.mp4',\n",
       " 'dataset/corpus/DEG╠åERLI _1.mp4',\n",
       " 'dataset/corpus/EMZIRMEK_0.mp4',\n",
       " 'dataset/corpus/EKIM_2.mp4',\n",
       " 'dataset/corpus/KIS╠ğI_0.mp4',\n",
       " 'dataset/corpus/VATANDAS╠ğ_0.mp4',\n",
       " 'dataset/corpus/BAR_0.mp4',\n",
       " 'dataset/corpus/HOCA_0.mp4',\n",
       " 'dataset/corpus/TU╠êRBAN_0.mp4',\n",
       " 'dataset/corpus/CUMHURBAS╠ğKANI_1.mp4',\n",
       " 'dataset/corpus/VU╠êCUT _1.mp4',\n",
       " 'dataset/corpus/MERDIVEN_1.mp4',\n",
       " 'dataset/corpus/MAVI_1.mp4',\n",
       " 'dataset/corpus/AG╠åRITMAK_2.mp4',\n",
       " 'dataset/corpus/BIC╠ğAK_1.mp4',\n",
       " 'dataset/corpus/ARABA_0.mp4',\n",
       " 'dataset/corpus/TUVALET_2.mp4',\n",
       " 'dataset/corpus/BEL_0.mp4',\n",
       " 'dataset/corpus/UZMAN_2.mp4',\n",
       " 'dataset/corpus/OYUN OYNAMAK_0.mp4',\n",
       " 'dataset/corpus/DERI_1.mp4',\n",
       " 'dataset/corpus/EKMEK_1.mp4',\n",
       " 'dataset/corpus/REKLAM_0.mp4',\n",
       " 'dataset/corpus/CANI C╠ğEKMEK _1.mp4',\n",
       " 'dataset/corpus/TOST_1.mp4',\n",
       " 'dataset/corpus/GRUP_0.mp4',\n",
       " 'dataset/corpus/U╠êS╠ğU╠êMEK_0.mp4',\n",
       " 'dataset/corpus/AYAKKABI _0.mp4',\n",
       " 'dataset/corpus/ORTAOKUL _1.mp4',\n",
       " 'dataset/corpus/DU╠êG╠åME_0.mp4',\n",
       " 'dataset/corpus/KARATE_0.mp4',\n",
       " 'dataset/corpus/C╠ğES╠ğIT_1.mp4',\n",
       " 'dataset/corpus/BENZETMEK_2.mp4',\n",
       " 'dataset/corpus/AZIM_0.mp4',\n",
       " 'dataset/corpus/PAZAR_0.mp4',\n",
       " 'dataset/corpus/YES╠ğIL_2.mp4',\n",
       " 'dataset/corpus/O╠êLMEK_1.mp4',\n",
       " 'dataset/corpus/ADAM_2.mp4',\n",
       " 'dataset/corpus/UYKU_0.mp4',\n",
       " 'dataset/corpus/CIDDI_0.mp4',\n",
       " 'dataset/corpus/CEP TELEFONU_0.mp4',\n",
       " 'dataset/corpus/SUSMAK_0.mp4',\n",
       " 'dataset/corpus/AIT_2.mp4',\n",
       " 'dataset/corpus/DEVAM ETMEK_0.mp4',\n",
       " 'dataset/corpus/I╠çG╠åNE_2.mp4',\n",
       " 'dataset/corpus/CAM_1.mp4',\n",
       " 'dataset/corpus/BINMEK_1.mp4',\n",
       " ...]"
      ]
     },
     "execution_count": 3,
     "metadata": {},
     "output_type": "execute_result"
    }
   ],
   "source": [
    "mp4_files = glob.glob(\"dataset/corpus/*.mp4\")\n",
    "mp4_files"
   ]
  },
  {
   "cell_type": "code",
   "execution_count": 4,
   "metadata": {},
   "outputs": [
    {
     "data": {
      "text/plain": [
       "namespace(MEDIAPIPE_STATIC_IMAGE_MODE=False,\n",
       "          MEDIAPIPE_MODEL_COMPLEXITY=1,\n",
       "          MEDIAPIPE_SMOOTH_LANDMARKS=True,\n",
       "          MEDIAPIPE_ENABLE_SEGMENTATION=False,\n",
       "          MEDIAPIPE_SMOOTH_SEGMENTATION=True,\n",
       "          MEDIAPIPE_REFINE_FACE_LANDMARKS=False,\n",
       "          MEDIAPIPE_MIN_DETECTION_CONFIDENCE=0.5,\n",
       "          MEDIAPIPE_MIN_TRACKING_CONFIDENCE=0.5,\n",
       "          MODEL_ENCODER_INPUT_DIM=225,\n",
       "          MODEL_ENCODER_HIDDEN_DIM=256,\n",
       "          MODEL_ENCODER_OUTPUT_DIM=768,\n",
       "          MODEL_VQ_NUM_EMBS=10000,\n",
       "          MODEL_VQ_EMBED_DIM=768,\n",
       "          MODEL_VQ_COMMITMENT_COST=0.25,\n",
       "          MODEL_DECODER_INPUT_DIM=768,\n",
       "          MODEL_DECODER_HIDDEN_DIM=256,\n",
       "          MODEL_DECODER_OUTPUT_DIM=225,\n",
       "          NUM_EPOCHS=100,\n",
       "          BATCH_SIZE=32,\n",
       "          LEARNING_RATE=1e-05)"
      ]
     },
     "execution_count": 4,
     "metadata": {},
     "output_type": "execute_result"
    }
   ],
   "source": [
    "GLOBAL_CONFIG"
   ]
  },
  {
   "cell_type": "code",
   "execution_count": 5,
   "metadata": {},
   "outputs": [
    {
     "data": {
      "text/plain": [
       "namespace(MEDIAPIPE_STATIC_IMAGE_MODE=False,\n",
       "          MEDIAPIPE_MODEL_COMPLEXITY=2,\n",
       "          MEDIAPIPE_SMOOTH_LANDMARKS=True,\n",
       "          MEDIAPIPE_ENABLE_SEGMENTATION=False,\n",
       "          MEDIAPIPE_SMOOTH_SEGMENTATION=True,\n",
       "          MEDIAPIPE_REFINE_FACE_LANDMARKS=False,\n",
       "          MEDIAPIPE_MIN_DETECTION_CONFIDENCE=0.5,\n",
       "          MEDIAPIPE_MIN_TRACKING_CONFIDENCE=0.5,\n",
       "          MODEL_ENCODER_INPUT_DIM=225,\n",
       "          MODEL_ENCODER_HIDDEN_DIM=256,\n",
       "          MODEL_ENCODER_OUTPUT_DIM=768,\n",
       "          MODEL_VQ_NUM_EMBS=10000,\n",
       "          MODEL_VQ_EMBED_DIM=768,\n",
       "          MODEL_VQ_COMMITMENT_COST=0.25,\n",
       "          MODEL_DECODER_INPUT_DIM=768,\n",
       "          MODEL_DECODER_HIDDEN_DIM=256,\n",
       "          MODEL_DECODER_OUTPUT_DIM=225,\n",
       "          NUM_EPOCHS=100,\n",
       "          BATCH_SIZE=32,\n",
       "          LEARNING_RATE=1e-05)"
      ]
     },
     "execution_count": 5,
     "metadata": {},
     "output_type": "execute_result"
    }
   ],
   "source": [
    "GLOBAL_CONFIG.MEDIAPIPE_MODEL_COMPLEXITY = 2\n",
    "GLOBAL_CONFIG"
   ]
  },
  {
   "cell_type": "code",
   "execution_count": 6,
   "metadata": {},
   "outputs": [],
   "source": [
    "def get_analyze_statistics(video_name: str) -> list:\n",
    "    \"\"\"Returns analyze statistics as list.\n",
    "\n",
    "    Args:\n",
    "        video_name (str):\n",
    "\n",
    "    Returns:\n",
    "        list: statistics list\n",
    "            : video_name\n",
    "            : num_of_frames_total\n",
    "            : num_of_frames_missing_pose\n",
    "            : num_of_frames_missing_left_hand\n",
    "            : num_of_frames_missing_right_hand\n",
    "            \n",
    "    \"\"\"\n",
    "    \n",
    "    # print(f\"Analyzing: {video_name}\")\n",
    "\n",
    "    estimation, info = get_pose_estimation(video_name, with_info=True)\n",
    "\n",
    "    pd_info = pd.DataFrame(info, columns=[\"video_name\", \"info\", \"value\"])\n",
    "\n",
    "    num_of_frames_total = pd_info[pd_info['info']\n",
    "                                  == 'total_number_of_frames'][\"value\"].iloc[0]\n",
    "    num_of_frames_missing_pose = 0\n",
    "    num_of_frames_missing_left_hand = 0\n",
    "    num_of_frames_missing_right_hand = 0\n",
    "\n",
    "    if \"missing_pose\" in pd_info[\"info\"].to_list():\n",
    "        num_of_frames_missing_pose = pd_info.value_counts(\"info\")[\n",
    "            \"missing_pose\"]\n",
    "\n",
    "    if \"missing_left_hand\" in pd_info[\"info\"].to_list():\n",
    "        num_of_frames_missing_left_hand = pd_info.value_counts(\"info\")[\n",
    "            \"missing_left_hand\"]\n",
    "\n",
    "    if \"missing_right_hand\" in pd_info[\"info\"].to_list():\n",
    "        num_of_frames_missing_right_hand = pd_info.value_counts(\"info\")[\n",
    "            \"missing_right_hand\"]\n",
    "\n",
    "    return [video_name,\n",
    "            num_of_frames_total,\n",
    "            num_of_frames_missing_pose,\n",
    "            num_of_frames_missing_left_hand,\n",
    "            num_of_frames_missing_right_hand]\n"
   ]
  },
  {
   "cell_type": "code",
   "execution_count": 10,
   "metadata": {},
   "outputs": [
    {
     "name": "stdout",
     "output_type": "stream",
     "text": [
      "3192/3395 - Analyzing dataset/corpus/KIZ_0.mp4\n"
     ]
    },
    {
     "name": "stderr",
     "output_type": "stream",
     "text": [
      "I0000 00:00:1711917279.335104       1 gl_context.cc:344] GL version: 2.1 (2.1 Metal - 88), renderer: Apple M1\n"
     ]
    },
    {
     "name": "stdout",
     "output_type": "stream",
     "text": [
      "3193/3395 - Analyzing dataset/corpus/ATILMAK_0.mp4\n"
     ]
    },
    {
     "name": "stderr",
     "output_type": "stream",
     "text": [
      "I0000 00:00:1711917283.091380       1 gl_context.cc:344] GL version: 2.1 (2.1 Metal - 88), renderer: Apple M1\n"
     ]
    },
    {
     "name": "stdout",
     "output_type": "stream",
     "text": [
      "3194/3395 - Analyzing dataset/corpus/DINLEMEK_0.mp4\n"
     ]
    },
    {
     "name": "stderr",
     "output_type": "stream",
     "text": [
      "I0000 00:00:1711917288.084054       1 gl_context.cc:344] GL version: 2.1 (2.1 Metal - 88), renderer: Apple M1\n"
     ]
    },
    {
     "name": "stdout",
     "output_type": "stream",
     "text": [
      "3195/3395 - Analyzing dataset/corpus/DAG╠å_1.mp4\n"
     ]
    },
    {
     "name": "stderr",
     "output_type": "stream",
     "text": [
      "I0000 00:00:1711917292.726699       1 gl_context.cc:344] GL version: 2.1 (2.1 Metal - 88), renderer: Apple M1\n"
     ]
    },
    {
     "name": "stdout",
     "output_type": "stream",
     "text": [
      "3196/3395 - Analyzing dataset/corpus/TARTIS╠ğMAK_0.mp4\n"
     ]
    },
    {
     "name": "stderr",
     "output_type": "stream",
     "text": [
      "I0000 00:00:1711917298.201760       1 gl_context.cc:344] GL version: 2.1 (2.1 Metal - 88), renderer: Apple M1\n"
     ]
    },
    {
     "name": "stdout",
     "output_type": "stream",
     "text": [
      "3197/3395 - Analyzing dataset/corpus/MESLEK_0.mp4\n"
     ]
    },
    {
     "name": "stderr",
     "output_type": "stream",
     "text": [
      "I0000 00:00:1711917302.633554       1 gl_context.cc:344] GL version: 2.1 (2.1 Metal - 88), renderer: Apple M1\n"
     ]
    },
    {
     "name": "stdout",
     "output_type": "stream",
     "text": [
      "3198/3395 - Analyzing dataset/corpus/BILMEK_0.mp4\n"
     ]
    },
    {
     "name": "stderr",
     "output_type": "stream",
     "text": [
      "I0000 00:00:1711917307.458133       1 gl_context.cc:344] GL version: 2.1 (2.1 Metal - 88), renderer: Apple M1\n"
     ]
    },
    {
     "name": "stdout",
     "output_type": "stream",
     "text": [
      "3199/3395 - Analyzing dataset/corpus/MU╠êZE_2.mp4\n"
     ]
    },
    {
     "name": "stderr",
     "output_type": "stream",
     "text": [
      "I0000 00:00:1711917314.851252       1 gl_context.cc:344] GL version: 2.1 (2.1 Metal - 88), renderer: Apple M1\n"
     ]
    },
    {
     "name": "stdout",
     "output_type": "stream",
     "text": [
      "3200/3395 - Analyzing dataset/corpus/ALKIS╠ğ_1.mp4\n"
     ]
    },
    {
     "name": "stderr",
     "output_type": "stream",
     "text": [
      "I0000 00:00:1711917320.662643       1 gl_context.cc:344] GL version: 2.1 (2.1 Metal - 88), renderer: Apple M1\n"
     ]
    },
    {
     "name": "stdout",
     "output_type": "stream",
     "text": [
      "3201/3395 - Analyzing dataset/corpus/PEKI_1.mp4\n"
     ]
    },
    {
     "name": "stderr",
     "output_type": "stream",
     "text": [
      "I0000 00:00:1711917325.124939       1 gl_context.cc:344] GL version: 2.1 (2.1 Metal - 88), renderer: Apple M1\n"
     ]
    },
    {
     "name": "stdout",
     "output_type": "stream",
     "text": [
      "3202/3395 - Analyzing dataset/corpus/HAYDI_0.mp4\n"
     ]
    },
    {
     "name": "stderr",
     "output_type": "stream",
     "text": [
      "I0000 00:00:1711917328.727110       1 gl_context.cc:344] GL version: 2.1 (2.1 Metal - 88), renderer: Apple M1\n"
     ]
    },
    {
     "name": "stdout",
     "output_type": "stream",
     "text": [
      "3203/3395 - Analyzing dataset/corpus/HEMEN_1.mp4\n"
     ]
    },
    {
     "name": "stderr",
     "output_type": "stream",
     "text": [
      "I0000 00:00:1711917333.734159       1 gl_context.cc:344] GL version: 2.1 (2.1 Metal - 88), renderer: Apple M1\n"
     ]
    },
    {
     "name": "stdout",
     "output_type": "stream",
     "text": [
      "3204/3395 - Analyzing dataset/corpus/ETRAF_1.mp4\n"
     ]
    },
    {
     "name": "stderr",
     "output_type": "stream",
     "text": [
      "I0000 00:00:1711917337.658342       1 gl_context.cc:344] GL version: 2.1 (2.1 Metal - 88), renderer: Apple M1\n"
     ]
    },
    {
     "name": "stdout",
     "output_type": "stream",
     "text": [
      "3205/3395 - Analyzing dataset/corpus/GU╠êVENMEK_0.mp4\n"
     ]
    },
    {
     "name": "stderr",
     "output_type": "stream",
     "text": [
      "I0000 00:00:1711917342.627054       1 gl_context.cc:344] GL version: 2.1 (2.1 Metal - 88), renderer: Apple M1\n"
     ]
    },
    {
     "name": "stdout",
     "output_type": "stream",
     "text": [
      "3206/3395 - Analyzing dataset/corpus/TU╠êH_0.mp4\n"
     ]
    },
    {
     "name": "stderr",
     "output_type": "stream",
     "text": [
      "I0000 00:00:1711917346.554083       1 gl_context.cc:344] GL version: 2.1 (2.1 Metal - 88), renderer: Apple M1\n"
     ]
    },
    {
     "name": "stdout",
     "output_type": "stream",
     "text": [
      "3207/3395 - Analyzing dataset/corpus/O╠êG╠åRETMEK_0.mp4\n"
     ]
    },
    {
     "name": "stderr",
     "output_type": "stream",
     "text": [
      "I0000 00:00:1711917350.664337       1 gl_context.cc:344] GL version: 2.1 (2.1 Metal - 88), renderer: Apple M1\n"
     ]
    },
    {
     "name": "stdout",
     "output_type": "stream",
     "text": [
      "3208/3395 - Analyzing dataset/corpus/VAY_0.mp4\n"
     ]
    },
    {
     "name": "stderr",
     "output_type": "stream",
     "text": [
      "I0000 00:00:1711917355.568691       1 gl_context.cc:344] GL version: 2.1 (2.1 Metal - 88), renderer: Apple M1\n"
     ]
    },
    {
     "name": "stdout",
     "output_type": "stream",
     "text": [
      "3209/3395 - Analyzing dataset/corpus/TO╠êVBE_1.mp4\n"
     ]
    },
    {
     "name": "stderr",
     "output_type": "stream",
     "text": [
      "I0000 00:00:1711917359.340337       1 gl_context.cc:344] GL version: 2.1 (2.1 Metal - 88), renderer: Apple M1\n"
     ]
    },
    {
     "name": "stdout",
     "output_type": "stream",
     "text": [
      "3210/3395 - Analyzing dataset/corpus/GENIS╠ğ_0.mp4\n"
     ]
    },
    {
     "name": "stderr",
     "output_type": "stream",
     "text": [
      "I0000 00:00:1711917364.152802       1 gl_context.cc:344] GL version: 2.1 (2.1 Metal - 88), renderer: Apple M1\n"
     ]
    },
    {
     "name": "stdout",
     "output_type": "stream",
     "text": [
      "3211/3395 - Analyzing dataset/corpus/BIKMAK_1.mp4\n"
     ]
    },
    {
     "name": "stderr",
     "output_type": "stream",
     "text": [
      "I0000 00:00:1711917368.562827       1 gl_context.cc:344] GL version: 2.1 (2.1 Metal - 88), renderer: Apple M1\n"
     ]
    },
    {
     "name": "stdout",
     "output_type": "stream",
     "text": [
      "3212/3395 - Analyzing dataset/corpus/ORJINAL_0.mp4\n"
     ]
    },
    {
     "name": "stderr",
     "output_type": "stream",
     "text": [
      "I0000 00:00:1711917373.374033       1 gl_context.cc:344] GL version: 2.1 (2.1 Metal - 88), renderer: Apple M1\n"
     ]
    },
    {
     "name": "stdout",
     "output_type": "stream",
     "text": [
      "3213/3395 - Analyzing dataset/corpus/YU╠êZME_1.mp4\n"
     ]
    },
    {
     "name": "stderr",
     "output_type": "stream",
     "text": [
      "I0000 00:00:1711917378.034335       1 gl_context.cc:344] GL version: 2.1 (2.1 Metal - 88), renderer: Apple M1\n"
     ]
    },
    {
     "name": "stdout",
     "output_type": "stream",
     "text": [
      "3214/3395 - Analyzing dataset/corpus/YILBAS╠ğI_1.mp4\n"
     ]
    },
    {
     "name": "stderr",
     "output_type": "stream",
     "text": [
      "I0000 00:00:1711917383.509703       1 gl_context.cc:344] GL version: 2.1 (2.1 Metal - 88), renderer: Apple M1\n"
     ]
    },
    {
     "name": "stdout",
     "output_type": "stream",
     "text": [
      "3215/3395 - Analyzing dataset/corpus/I╠çPTAL ETMEK_2.mp4\n"
     ]
    },
    {
     "name": "stderr",
     "output_type": "stream",
     "text": [
      "I0000 00:00:1711917388.040458       1 gl_context.cc:344] GL version: 2.1 (2.1 Metal - 88), renderer: Apple M1\n"
     ]
    },
    {
     "name": "stdout",
     "output_type": "stream",
     "text": [
      "3216/3395 - Analyzing dataset/corpus/OCAK _0.mp4\n"
     ]
    },
    {
     "name": "stderr",
     "output_type": "stream",
     "text": [
      "I0000 00:00:1711917393.840028       1 gl_context.cc:344] GL version: 2.1 (2.1 Metal - 88), renderer: Apple M1\n"
     ]
    },
    {
     "name": "stdout",
     "output_type": "stream",
     "text": [
      "3217/3395 - Analyzing dataset/corpus/BU╠êYU╠ê_2.mp4\n"
     ]
    },
    {
     "name": "stderr",
     "output_type": "stream",
     "text": [
      "I0000 00:00:1711917400.928168       1 gl_context.cc:344] GL version: 2.1 (2.1 Metal - 88), renderer: Apple M1\n"
     ]
    },
    {
     "name": "stdout",
     "output_type": "stream",
     "text": [
      "3218/3395 - Analyzing dataset/corpus/GETIRMEK_1.mp4\n"
     ]
    },
    {
     "name": "stderr",
     "output_type": "stream",
     "text": [
      "I0000 00:00:1711917404.931535       1 gl_context.cc:344] GL version: 2.1 (2.1 Metal - 88), renderer: Apple M1\n"
     ]
    },
    {
     "name": "stdout",
     "output_type": "stream",
     "text": [
      "3219/3395 - Analyzing dataset/corpus/SU╠êT_1.mp4\n"
     ]
    },
    {
     "name": "stderr",
     "output_type": "stream",
     "text": [
      "I0000 00:00:1711917410.540438       1 gl_context.cc:344] GL version: 2.1 (2.1 Metal - 88), renderer: Apple M1\n"
     ]
    },
    {
     "name": "stdout",
     "output_type": "stream",
     "text": [
      "3220/3395 - Analyzing dataset/corpus/C╠ğARESIZ_0.mp4\n"
     ]
    },
    {
     "name": "stderr",
     "output_type": "stream",
     "text": [
      "I0000 00:00:1711917415.867697       1 gl_context.cc:344] GL version: 2.1 (2.1 Metal - 88), renderer: Apple M1\n"
     ]
    },
    {
     "name": "stdout",
     "output_type": "stream",
     "text": [
      "3221/3395 - Analyzing dataset/corpus/ON, 10_1.mp4\n"
     ]
    },
    {
     "name": "stderr",
     "output_type": "stream",
     "text": [
      "I0000 00:00:1711917421.256987       1 gl_context.cc:344] GL version: 2.1 (2.1 Metal - 88), renderer: Apple M1\n"
     ]
    },
    {
     "name": "stdout",
     "output_type": "stream",
     "text": [
      "3222/3395 - Analyzing dataset/corpus/TURNUVA_0.mp4\n"
     ]
    },
    {
     "name": "stderr",
     "output_type": "stream",
     "text": [
      "I0000 00:00:1711917426.840743       1 gl_context.cc:344] GL version: 2.1 (2.1 Metal - 88), renderer: Apple M1\n"
     ]
    },
    {
     "name": "stdout",
     "output_type": "stream",
     "text": [
      "3223/3395 - Analyzing dataset/corpus/NAKIS╠ğ_1.mp4\n"
     ]
    },
    {
     "name": "stderr",
     "output_type": "stream",
     "text": [
      "I0000 00:00:1711917432.139707       1 gl_context.cc:344] GL version: 2.1 (2.1 Metal - 88), renderer: Apple M1\n"
     ]
    },
    {
     "name": "stdout",
     "output_type": "stream",
     "text": [
      "3224/3395 - Analyzing dataset/corpus/C╠ğIFTLIK_1.mp4\n"
     ]
    },
    {
     "name": "stderr",
     "output_type": "stream",
     "text": [
      "I0000 00:00:1711917435.739051       1 gl_context.cc:344] GL version: 2.1 (2.1 Metal - 88), renderer: Apple M1\n"
     ]
    },
    {
     "name": "stdout",
     "output_type": "stream",
     "text": [
      "3225/3395 - Analyzing dataset/corpus/YENMEK _1.mp4\n"
     ]
    },
    {
     "name": "stderr",
     "output_type": "stream",
     "text": [
      "I0000 00:00:1711917440.981907       1 gl_context.cc:344] GL version: 2.1 (2.1 Metal - 88), renderer: Apple M1\n"
     ]
    },
    {
     "name": "stdout",
     "output_type": "stream",
     "text": [
      "3226/3395 - Analyzing dataset/corpus/S╠ğAKALAS╠ğMAK_0.mp4\n"
     ]
    },
    {
     "name": "stderr",
     "output_type": "stream",
     "text": [
      "I0000 00:00:1711917445.809897       1 gl_context.cc:344] GL version: 2.1 (2.1 Metal - 88), renderer: Apple M1\n"
     ]
    },
    {
     "name": "stdout",
     "output_type": "stream",
     "text": [
      "3227/3395 - Analyzing dataset/corpus/CUMARTESI_0.mp4\n"
     ]
    },
    {
     "name": "stderr",
     "output_type": "stream",
     "text": [
      "I0000 00:00:1711917451.281914       1 gl_context.cc:344] GL version: 2.1 (2.1 Metal - 88), renderer: Apple M1\n"
     ]
    },
    {
     "name": "stdout",
     "output_type": "stream",
     "text": [
      "3228/3395 - Analyzing dataset/corpus/OYUN_0.mp4\n"
     ]
    },
    {
     "name": "stderr",
     "output_type": "stream",
     "text": [
      "I0000 00:00:1711917455.747172       1 gl_context.cc:344] GL version: 2.1 (2.1 Metal - 88), renderer: Apple M1\n"
     ]
    },
    {
     "name": "stdout",
     "output_type": "stream",
     "text": [
      "3229/3395 - Analyzing dataset/corpus/O╠êG╠åLE_0.mp4\n"
     ]
    },
    {
     "name": "stderr",
     "output_type": "stream",
     "text": [
      "I0000 00:00:1711917460.241358       1 gl_context.cc:344] GL version: 2.1 (2.1 Metal - 88), renderer: Apple M1\n"
     ]
    },
    {
     "name": "stdout",
     "output_type": "stream",
     "text": [
      "3230/3395 - Analyzing dataset/corpus/I╠çL_1.mp4\n"
     ]
    },
    {
     "name": "stderr",
     "output_type": "stream",
     "text": [
      "I0000 00:00:1711917464.006273       1 gl_context.cc:344] GL version: 2.1 (2.1 Metal - 88), renderer: Apple M1\n"
     ]
    },
    {
     "name": "stdout",
     "output_type": "stream",
     "text": [
      "3231/3395 - Analyzing dataset/corpus/YARIS╠ğMAK_0.mp4\n"
     ]
    },
    {
     "name": "stderr",
     "output_type": "stream",
     "text": [
      "I0000 00:00:1711917467.939387       1 gl_context.cc:344] GL version: 2.1 (2.1 Metal - 88), renderer: Apple M1\n"
     ]
    },
    {
     "name": "stdout",
     "output_type": "stream",
     "text": [
      "3232/3395 - Analyzing dataset/corpus/MU╠êCADELE _0.mp4\n"
     ]
    },
    {
     "name": "stderr",
     "output_type": "stream",
     "text": [
      "I0000 00:00:1711917473.397846       1 gl_context.cc:344] GL version: 2.1 (2.1 Metal - 88), renderer: Apple M1\n"
     ]
    },
    {
     "name": "stdout",
     "output_type": "stream",
     "text": [
      "3233/3395 - Analyzing dataset/corpus/GERI_0.mp4\n"
     ]
    },
    {
     "name": "stderr",
     "output_type": "stream",
     "text": [
      "I0000 00:00:1711917479.075501       1 gl_context.cc:344] GL version: 2.1 (2.1 Metal - 88), renderer: Apple M1\n"
     ]
    },
    {
     "name": "stdout",
     "output_type": "stream",
     "text": [
      "3234/3395 - Analyzing dataset/corpus/UYARMAK_0.mp4\n"
     ]
    },
    {
     "name": "stderr",
     "output_type": "stream",
     "text": [
      "I0000 00:00:1711917484.010540       1 gl_context.cc:344] GL version: 2.1 (2.1 Metal - 88), renderer: Apple M1\n"
     ]
    },
    {
     "name": "stdout",
     "output_type": "stream",
     "text": [
      "3235/3395 - Analyzing dataset/corpus/KABA_2.mp4\n"
     ]
    },
    {
     "name": "stderr",
     "output_type": "stream",
     "text": [
      "I0000 00:00:1711917488.051214       1 gl_context.cc:344] GL version: 2.1 (2.1 Metal - 88), renderer: Apple M1\n"
     ]
    },
    {
     "name": "stdout",
     "output_type": "stream",
     "text": [
      "3236/3395 - Analyzing dataset/corpus/ANNEANNE_0.mp4\n"
     ]
    },
    {
     "name": "stderr",
     "output_type": "stream",
     "text": [
      "I0000 00:00:1711917494.033376       1 gl_context.cc:344] GL version: 2.1 (2.1 Metal - 88), renderer: Apple M1\n"
     ]
    },
    {
     "name": "stdout",
     "output_type": "stream",
     "text": [
      "3237/3395 - Analyzing dataset/corpus/VIDEO_1.mp4\n"
     ]
    },
    {
     "name": "stderr",
     "output_type": "stream",
     "text": [
      "I0000 00:00:1711917498.121912       1 gl_context.cc:344] GL version: 2.1 (2.1 Metal - 88), renderer: Apple M1\n"
     ]
    },
    {
     "name": "stdout",
     "output_type": "stream",
     "text": [
      "3238/3395 - Analyzing dataset/corpus/MARUL_0.mp4\n"
     ]
    },
    {
     "name": "stderr",
     "output_type": "stream",
     "text": [
      "I0000 00:00:1711917502.481170       1 gl_context.cc:344] GL version: 2.1 (2.1 Metal - 88), renderer: Apple M1\n"
     ]
    },
    {
     "name": "stdout",
     "output_type": "stream",
     "text": [
      "3239/3395 - Analyzing dataset/corpus/I╠çS╠ğARET_0.mp4\n"
     ]
    },
    {
     "name": "stderr",
     "output_type": "stream",
     "text": [
      "I0000 00:00:1711917507.049627       1 gl_context.cc:344] GL version: 2.1 (2.1 Metal - 88), renderer: Apple M1\n"
     ]
    },
    {
     "name": "stdout",
     "output_type": "stream",
     "text": [
      "3240/3395 - Analyzing dataset/corpus/KIMSE_0.mp4\n"
     ]
    },
    {
     "name": "stderr",
     "output_type": "stream",
     "text": [
      "I0000 00:00:1711917514.632273       1 gl_context.cc:344] GL version: 2.1 (2.1 Metal - 88), renderer: Apple M1\n"
     ]
    },
    {
     "name": "stdout",
     "output_type": "stream",
     "text": [
      "3241/3395 - Analyzing dataset/corpus/EG╠åLENCE_0.mp4\n"
     ]
    },
    {
     "name": "stderr",
     "output_type": "stream",
     "text": [
      "I0000 00:00:1711917518.241380       1 gl_context.cc:344] GL version: 2.1 (2.1 Metal - 88), renderer: Apple M1\n"
     ]
    },
    {
     "name": "stdout",
     "output_type": "stream",
     "text": [
      "3242/3395 - Analyzing dataset/corpus/EZILMEK_2.mp4\n"
     ]
    },
    {
     "name": "stderr",
     "output_type": "stream",
     "text": [
      "I0000 00:00:1711917522.411459       1 gl_context.cc:344] GL version: 2.1 (2.1 Metal - 88), renderer: Apple M1\n"
     ]
    },
    {
     "name": "stdout",
     "output_type": "stream",
     "text": [
      "3243/3395 - Analyzing dataset/corpus/ACIL_0.mp4\n"
     ]
    },
    {
     "name": "stderr",
     "output_type": "stream",
     "text": [
      "I0000 00:00:1711917527.530708       1 gl_context.cc:344] GL version: 2.1 (2.1 Metal - 88), renderer: Apple M1\n"
     ]
    },
    {
     "name": "stdout",
     "output_type": "stream",
     "text": [
      "3244/3395 - Analyzing dataset/corpus/DU╠êKKAN_1.mp4\n"
     ]
    },
    {
     "name": "stderr",
     "output_type": "stream",
     "text": [
      "I0000 00:00:1711917531.538217       1 gl_context.cc:344] GL version: 2.1 (2.1 Metal - 88), renderer: Apple M1\n"
     ]
    },
    {
     "name": "stdout",
     "output_type": "stream",
     "text": [
      "3245/3395 - Analyzing dataset/corpus/TIS╠ğO╠êRT_0.mp4\n"
     ]
    },
    {
     "name": "stderr",
     "output_type": "stream",
     "text": [
      "I0000 00:00:1711917536.077290       1 gl_context.cc:344] GL version: 2.1 (2.1 Metal - 88), renderer: Apple M1\n"
     ]
    },
    {
     "name": "stdout",
     "output_type": "stream",
     "text": [
      "3246/3395 - Analyzing dataset/corpus/DALIS╠ğ_1.mp4\n"
     ]
    },
    {
     "name": "stderr",
     "output_type": "stream",
     "text": [
      "I0000 00:00:1711917541.057460       1 gl_context.cc:344] GL version: 2.1 (2.1 Metal - 88), renderer: Apple M1\n"
     ]
    },
    {
     "name": "stdout",
     "output_type": "stream",
     "text": [
      "3247/3395 - Analyzing dataset/corpus/MARKET_0.mp4\n"
     ]
    },
    {
     "name": "stderr",
     "output_type": "stream",
     "text": [
      "I0000 00:00:1711917546.857000       1 gl_context.cc:344] GL version: 2.1 (2.1 Metal - 88), renderer: Apple M1\n"
     ]
    },
    {
     "name": "stdout",
     "output_type": "stream",
     "text": [
      "3248/3395 - Analyzing dataset/corpus/CAHIL _1.mp4\n"
     ]
    },
    {
     "name": "stderr",
     "output_type": "stream",
     "text": [
      "I0000 00:00:1711917551.756811       1 gl_context.cc:344] GL version: 2.1 (2.1 Metal - 88), renderer: Apple M1\n"
     ]
    },
    {
     "name": "stdout",
     "output_type": "stream",
     "text": [
      "3249/3395 - Analyzing dataset/corpus/YAPIS╠ğKAN_2.mp4\n"
     ]
    },
    {
     "name": "stderr",
     "output_type": "stream",
     "text": [
      "I0000 00:00:1711917557.477127       1 gl_context.cc:344] GL version: 2.1 (2.1 Metal - 88), renderer: Apple M1\n"
     ]
    },
    {
     "name": "stdout",
     "output_type": "stream",
     "text": [
      "3250/3395 - Analyzing dataset/corpus/BOY_0.mp4\n"
     ]
    },
    {
     "name": "stderr",
     "output_type": "stream",
     "text": [
      "I0000 00:00:1711917561.804361       1 gl_context.cc:344] GL version: 2.1 (2.1 Metal - 88), renderer: Apple M1\n"
     ]
    },
    {
     "name": "stdout",
     "output_type": "stream",
     "text": [
      "3251/3395 - Analyzing dataset/corpus/GECE_0.mp4\n"
     ]
    },
    {
     "name": "stderr",
     "output_type": "stream",
     "text": [
      "I0000 00:00:1711917567.021282       1 gl_context.cc:344] GL version: 2.1 (2.1 Metal - 88), renderer: Apple M1\n"
     ]
    },
    {
     "name": "stdout",
     "output_type": "stream",
     "text": [
      "3252/3395 - Analyzing dataset/corpus/HATIRA _1.mp4\n"
     ]
    },
    {
     "name": "stderr",
     "output_type": "stream",
     "text": [
      "I0000 00:00:1711917571.519924       1 gl_context.cc:344] GL version: 2.1 (2.1 Metal - 88), renderer: Apple M1\n"
     ]
    },
    {
     "name": "stdout",
     "output_type": "stream",
     "text": [
      "3253/3395 - Analyzing dataset/corpus/S╠ğO╠êYLE BO╠êYLE_0.mp4\n"
     ]
    },
    {
     "name": "stderr",
     "output_type": "stream",
     "text": [
      "I0000 00:00:1711917577.936239       1 gl_context.cc:344] GL version: 2.1 (2.1 Metal - 88), renderer: Apple M1\n"
     ]
    },
    {
     "name": "stdout",
     "output_type": "stream",
     "text": [
      "3254/3395 - Analyzing dataset/corpus/BOS╠ğ VERMEK_0.mp4\n"
     ]
    },
    {
     "name": "stderr",
     "output_type": "stream",
     "text": [
      "I0000 00:00:1711917581.693866       1 gl_context.cc:344] GL version: 2.1 (2.1 Metal - 88), renderer: Apple M1\n"
     ]
    },
    {
     "name": "stdout",
     "output_type": "stream",
     "text": [
      "3255/3395 - Analyzing dataset/corpus/TARAMAK_0.mp4\n"
     ]
    },
    {
     "name": "stderr",
     "output_type": "stream",
     "text": [
      "I0000 00:00:1711917585.831672       1 gl_context.cc:344] GL version: 2.1 (2.1 Metal - 88), renderer: Apple M1\n"
     ]
    },
    {
     "name": "stdout",
     "output_type": "stream",
     "text": [
      "3256/3395 - Analyzing dataset/corpus/APTAL_1.mp4\n"
     ]
    },
    {
     "name": "stderr",
     "output_type": "stream",
     "text": [
      "I0000 00:00:1711917590.269629       1 gl_context.cc:344] GL version: 2.1 (2.1 Metal - 88), renderer: Apple M1\n"
     ]
    },
    {
     "name": "stdout",
     "output_type": "stream",
     "text": [
      "3257/3395 - Analyzing dataset/corpus/AG╠åLAMAK_1.mp4\n"
     ]
    },
    {
     "name": "stderr",
     "output_type": "stream",
     "text": [
      "I0000 00:00:1711917595.161996       1 gl_context.cc:344] GL version: 2.1 (2.1 Metal - 88), renderer: Apple M1\n"
     ]
    },
    {
     "name": "stdout",
     "output_type": "stream",
     "text": [
      "3258/3395 - Analyzing dataset/corpus/HAZIRAN_1.mp4\n"
     ]
    },
    {
     "name": "stderr",
     "output_type": "stream",
     "text": [
      "I0000 00:00:1711917600.180871       1 gl_context.cc:344] GL version: 2.1 (2.1 Metal - 88), renderer: Apple M1\n"
     ]
    },
    {
     "name": "stdout",
     "output_type": "stream",
     "text": [
      "3259/3395 - Analyzing dataset/corpus/RO╠êNTGEN_0.mp4\n"
     ]
    },
    {
     "name": "stderr",
     "output_type": "stream",
     "text": [
      "I0000 00:00:1711917604.371308       1 gl_context.cc:344] GL version: 2.1 (2.1 Metal - 88), renderer: Apple M1\n"
     ]
    },
    {
     "name": "stdout",
     "output_type": "stream",
     "text": [
      "3260/3395 - Analyzing dataset/corpus/PATLICAN _1.mp4\n"
     ]
    },
    {
     "name": "stderr",
     "output_type": "stream",
     "text": [
      "I0000 00:00:1711917608.408166       1 gl_context.cc:344] GL version: 2.1 (2.1 Metal - 88), renderer: Apple M1\n"
     ]
    },
    {
     "name": "stdout",
     "output_type": "stream",
     "text": [
      "3261/3395 - Analyzing dataset/corpus/TIYATRO_0.mp4\n"
     ]
    },
    {
     "name": "stderr",
     "output_type": "stream",
     "text": [
      "I0000 00:00:1711917614.197228       1 gl_context.cc:344] GL version: 2.1 (2.1 Metal - 88), renderer: Apple M1\n"
     ]
    },
    {
     "name": "stdout",
     "output_type": "stream",
     "text": [
      "3262/3395 - Analyzing dataset/corpus/ANAOKULU_0.mp4\n"
     ]
    },
    {
     "name": "stderr",
     "output_type": "stream",
     "text": [
      "I0000 00:00:1711917618.036599       1 gl_context.cc:344] GL version: 2.1 (2.1 Metal - 88), renderer: Apple M1\n"
     ]
    },
    {
     "name": "stdout",
     "output_type": "stream",
     "text": [
      "3263/3395 - Analyzing dataset/corpus/C╠ğOBAN_0.mp4\n"
     ]
    },
    {
     "name": "stderr",
     "output_type": "stream",
     "text": [
      "I0000 00:00:1711917623.618752       1 gl_context.cc:344] GL version: 2.1 (2.1 Metal - 88), renderer: Apple M1\n"
     ]
    },
    {
     "name": "stdout",
     "output_type": "stream",
     "text": [
      "3264/3395 - Analyzing dataset/corpus/S╠ğEYTAN_1.mp4\n"
     ]
    },
    {
     "name": "stderr",
     "output_type": "stream",
     "text": [
      "I0000 00:00:1711917627.620349       1 gl_context.cc:344] GL version: 2.1 (2.1 Metal - 88), renderer: Apple M1\n"
     ]
    },
    {
     "name": "stdout",
     "output_type": "stream",
     "text": [
      "3265/3395 - Analyzing dataset/corpus/KUMPIR_0.mp4\n"
     ]
    },
    {
     "name": "stderr",
     "output_type": "stream",
     "text": [
      "I0000 00:00:1711917631.413711       1 gl_context.cc:344] GL version: 2.1 (2.1 Metal - 88), renderer: Apple M1\n"
     ]
    },
    {
     "name": "stdout",
     "output_type": "stream",
     "text": [
      "3266/3395 - Analyzing dataset/corpus/U╠êFLEMEK_1.mp4\n"
     ]
    },
    {
     "name": "stderr",
     "output_type": "stream",
     "text": [
      "I0000 00:00:1711917636.728987       1 gl_context.cc:344] GL version: 2.1 (2.1 Metal - 88), renderer: Apple M1\n"
     ]
    },
    {
     "name": "stdout",
     "output_type": "stream",
     "text": [
      "3267/3395 - Analyzing dataset/corpus/AS╠ğIK OLMAK_0.mp4\n"
     ]
    },
    {
     "name": "stderr",
     "output_type": "stream",
     "text": [
      "I0000 00:00:1711917641.004052       1 gl_context.cc:344] GL version: 2.1 (2.1 Metal - 88), renderer: Apple M1\n"
     ]
    },
    {
     "name": "stdout",
     "output_type": "stream",
     "text": [
      "3268/3395 - Analyzing dataset/corpus/DERIN_2.mp4\n"
     ]
    },
    {
     "name": "stderr",
     "output_type": "stream",
     "text": [
      "I0000 00:00:1711917644.885834       1 gl_context.cc:344] GL version: 2.1 (2.1 Metal - 88), renderer: Apple M1\n"
     ]
    },
    {
     "name": "stdout",
     "output_type": "stream",
     "text": [
      "3269/3395 - Analyzing dataset/corpus/YAYLA_0.mp4\n"
     ]
    },
    {
     "name": "stderr",
     "output_type": "stream",
     "text": [
      "I0000 00:00:1711917650.422207       1 gl_context.cc:344] GL version: 2.1 (2.1 Metal - 88), renderer: Apple M1\n"
     ]
    },
    {
     "name": "stdout",
     "output_type": "stream",
     "text": [
      "3270/3395 - Analyzing dataset/corpus/EL_1.mp4\n"
     ]
    },
    {
     "name": "stderr",
     "output_type": "stream",
     "text": [
      "I0000 00:00:1711917656.554004       1 gl_context.cc:344] GL version: 2.1 (2.1 Metal - 88), renderer: Apple M1\n"
     ]
    },
    {
     "name": "stdout",
     "output_type": "stream",
     "text": [
      "3271/3395 - Analyzing dataset/corpus/YABANCI_1.mp4\n"
     ]
    },
    {
     "name": "stderr",
     "output_type": "stream",
     "text": [
      "I0000 00:00:1711917660.529879       1 gl_context.cc:344] GL version: 2.1 (2.1 Metal - 88), renderer: Apple M1\n"
     ]
    },
    {
     "name": "stdout",
     "output_type": "stream",
     "text": [
      "3272/3395 - Analyzing dataset/corpus/OTOBU╠êS_1.mp4\n"
     ]
    },
    {
     "name": "stderr",
     "output_type": "stream",
     "text": [
      "I0000 00:00:1711917666.009008       1 gl_context.cc:344] GL version: 2.1 (2.1 Metal - 88), renderer: Apple M1\n"
     ]
    },
    {
     "name": "stdout",
     "output_type": "stream",
     "text": [
      "3273/3395 - Analyzing dataset/corpus/C╠ğANTA_1.mp4\n"
     ]
    },
    {
     "name": "stderr",
     "output_type": "stream",
     "text": [
      "I0000 00:00:1711917671.088796       1 gl_context.cc:344] GL version: 2.1 (2.1 Metal - 88), renderer: Apple M1\n"
     ]
    },
    {
     "name": "stdout",
     "output_type": "stream",
     "text": [
      "3274/3395 - Analyzing dataset/corpus/TEMIZ_0.mp4\n"
     ]
    },
    {
     "name": "stderr",
     "output_type": "stream",
     "text": [
      "I0000 00:00:1711917675.272993       1 gl_context.cc:344] GL version: 2.1 (2.1 Metal - 88), renderer: Apple M1\n"
     ]
    },
    {
     "name": "stdout",
     "output_type": "stream",
     "text": [
      "3275/3395 - Analyzing dataset/corpus/TEHLIKE_0.mp4\n"
     ]
    },
    {
     "name": "stderr",
     "output_type": "stream",
     "text": [
      "I0000 00:00:1711917679.863008       1 gl_context.cc:344] GL version: 2.1 (2.1 Metal - 88), renderer: Apple M1\n"
     ]
    },
    {
     "name": "stdout",
     "output_type": "stream",
     "text": [
      "3276/3395 - Analyzing dataset/corpus/KOKLAMAK _2.mp4\n"
     ]
    },
    {
     "name": "stderr",
     "output_type": "stream",
     "text": [
      "I0000 00:00:1711917683.341706       1 gl_context.cc:344] GL version: 2.1 (2.1 Metal - 88), renderer: Apple M1\n"
     ]
    },
    {
     "name": "stdout",
     "output_type": "stream",
     "text": [
      "3277/3395 - Analyzing dataset/corpus/DEG╠åIRMEN_1.mp4\n"
     ]
    },
    {
     "name": "stderr",
     "output_type": "stream",
     "text": [
      "I0000 00:00:1711917687.636705       1 gl_context.cc:344] GL version: 2.1 (2.1 Metal - 88), renderer: Apple M1\n"
     ]
    },
    {
     "name": "stdout",
     "output_type": "stream",
     "text": [
      "3278/3395 - Analyzing dataset/corpus/AZALTMAK_0.mp4\n"
     ]
    },
    {
     "name": "stderr",
     "output_type": "stream",
     "text": [
      "I0000 00:00:1711917691.886689       1 gl_context.cc:344] GL version: 2.1 (2.1 Metal - 88), renderer: Apple M1\n"
     ]
    },
    {
     "name": "stdout",
     "output_type": "stream",
     "text": [
      "3279/3395 - Analyzing dataset/corpus/BES╠ğINCI_0.mp4\n"
     ]
    },
    {
     "name": "stderr",
     "output_type": "stream",
     "text": [
      "I0000 00:00:1711917695.502382       1 gl_context.cc:344] GL version: 2.1 (2.1 Metal - 88), renderer: Apple M1\n"
     ]
    },
    {
     "name": "stdout",
     "output_type": "stream",
     "text": [
      "3280/3395 - Analyzing dataset/corpus/KISKANMAK_0.mp4\n"
     ]
    },
    {
     "name": "stderr",
     "output_type": "stream",
     "text": [
      "I0000 00:00:1711917699.903400       1 gl_context.cc:344] GL version: 2.1 (2.1 Metal - 88), renderer: Apple M1\n"
     ]
    },
    {
     "name": "stdout",
     "output_type": "stream",
     "text": [
      "3281/3395 - Analyzing dataset/corpus/ALFABE, ABECE_0.mp4\n"
     ]
    },
    {
     "name": "stderr",
     "output_type": "stream",
     "text": [
      "I0000 00:00:1711917704.906199       1 gl_context.cc:344] GL version: 2.1 (2.1 Metal - 88), renderer: Apple M1\n"
     ]
    },
    {
     "name": "stdout",
     "output_type": "stream",
     "text": [
      "3282/3395 - Analyzing dataset/corpus/KISKANMAK_1.mp4\n"
     ]
    },
    {
     "name": "stderr",
     "output_type": "stream",
     "text": [
      "I0000 00:00:1711917709.087501       1 gl_context.cc:344] GL version: 2.1 (2.1 Metal - 88), renderer: Apple M1\n"
     ]
    },
    {
     "name": "stdout",
     "output_type": "stream",
     "text": [
      "3283/3395 - Analyzing dataset/corpus/TOKMAK_0.mp4\n"
     ]
    },
    {
     "name": "stderr",
     "output_type": "stream",
     "text": [
      "I0000 00:00:1711917714.718785       1 gl_context.cc:344] GL version: 2.1 (2.1 Metal - 88), renderer: Apple M1\n"
     ]
    },
    {
     "name": "stdout",
     "output_type": "stream",
     "text": [
      "3284/3395 - Analyzing dataset/corpus/PIS╠ğMAN_0.mp4\n"
     ]
    },
    {
     "name": "stderr",
     "output_type": "stream",
     "text": [
      "I0000 00:00:1711917718.841462       1 gl_context.cc:344] GL version: 2.1 (2.1 Metal - 88), renderer: Apple M1\n"
     ]
    },
    {
     "name": "stdout",
     "output_type": "stream",
     "text": [
      "3285/3395 - Analyzing dataset/corpus/DEG╠åIRMEN_0.mp4\n"
     ]
    },
    {
     "name": "stderr",
     "output_type": "stream",
     "text": [
      "I0000 00:00:1711917724.325911       1 gl_context.cc:344] GL version: 2.1 (2.1 Metal - 88), renderer: Apple M1\n"
     ]
    },
    {
     "name": "stdout",
     "output_type": "stream",
     "text": [
      "3286/3395 - Analyzing dataset/corpus/DALGA GEC╠ğMEK_0.mp4\n"
     ]
    },
    {
     "name": "stderr",
     "output_type": "stream",
     "text": [
      "I0000 00:00:1711917728.569709       1 gl_context.cc:344] GL version: 2.1 (2.1 Metal - 88), renderer: Apple M1\n"
     ]
    },
    {
     "name": "stdout",
     "output_type": "stream",
     "text": [
      "3287/3395 - Analyzing dataset/corpus/AZALTMAK_1.mp4\n"
     ]
    },
    {
     "name": "stderr",
     "output_type": "stream",
     "text": [
      "I0000 00:00:1711917733.969700       1 gl_context.cc:344] GL version: 2.1 (2.1 Metal - 88), renderer: Apple M1\n"
     ]
    },
    {
     "name": "stdout",
     "output_type": "stream",
     "text": [
      "3288/3395 - Analyzing dataset/corpus/KOCA_0.mp4\n"
     ]
    },
    {
     "name": "stderr",
     "output_type": "stream",
     "text": [
      "I0000 00:00:1711917738.458388       1 gl_context.cc:344] GL version: 2.1 (2.1 Metal - 88), renderer: Apple M1\n"
     ]
    },
    {
     "name": "stdout",
     "output_type": "stream",
     "text": [
      "3289/3395 - Analyzing dataset/corpus/C╠ğANTA_0.mp4\n"
     ]
    },
    {
     "name": "stderr",
     "output_type": "stream",
     "text": [
      "I0000 00:00:1711917743.132043       1 gl_context.cc:344] GL version: 2.1 (2.1 Metal - 88), renderer: Apple M1\n"
     ]
    },
    {
     "name": "stdout",
     "output_type": "stream",
     "text": [
      "3290/3395 - Analyzing dataset/corpus/BURUS╠ğUK_0.mp4\n"
     ]
    },
    {
     "name": "stderr",
     "output_type": "stream",
     "text": [
      "I0000 00:00:1711917747.293381       1 gl_context.cc:344] GL version: 2.1 (2.1 Metal - 88), renderer: Apple M1\n"
     ]
    },
    {
     "name": "stdout",
     "output_type": "stream",
     "text": [
      "3291/3395 - Analyzing dataset/corpus/TEMIZ_1.mp4\n"
     ]
    },
    {
     "name": "stderr",
     "output_type": "stream",
     "text": [
      "I0000 00:00:1711917751.208059       1 gl_context.cc:344] GL version: 2.1 (2.1 Metal - 88), renderer: Apple M1\n"
     ]
    },
    {
     "name": "stdout",
     "output_type": "stream",
     "text": [
      "3292/3395 - Analyzing dataset/corpus/OTOBU╠êS_0.mp4\n"
     ]
    },
    {
     "name": "stderr",
     "output_type": "stream",
     "text": [
      "I0000 00:00:1711917755.064779       1 gl_context.cc:344] GL version: 2.1 (2.1 Metal - 88), renderer: Apple M1\n"
     ]
    },
    {
     "name": "stdout",
     "output_type": "stream",
     "text": [
      "3293/3395 - Analyzing dataset/corpus/YABANCI_0.mp4\n"
     ]
    },
    {
     "name": "stderr",
     "output_type": "stream",
     "text": [
      "I0000 00:00:1711917759.222027       1 gl_context.cc:344] GL version: 2.1 (2.1 Metal - 88), renderer: Apple M1\n"
     ]
    },
    {
     "name": "stdout",
     "output_type": "stream",
     "text": [
      "3294/3395 - Analyzing dataset/corpus/EL_0.mp4\n"
     ]
    },
    {
     "name": "stderr",
     "output_type": "stream",
     "text": [
      "I0000 00:00:1711917764.072818       1 gl_context.cc:344] GL version: 2.1 (2.1 Metal - 88), renderer: Apple M1\n"
     ]
    },
    {
     "name": "stdout",
     "output_type": "stream",
     "text": [
      "3295/3395 - Analyzing dataset/corpus/S╠ğEYTAN_0.mp4\n"
     ]
    },
    {
     "name": "stderr",
     "output_type": "stream",
     "text": [
      "I0000 00:00:1711917771.854082       1 gl_context.cc:344] GL version: 2.1 (2.1 Metal - 88), renderer: Apple M1\n"
     ]
    },
    {
     "name": "stdout",
     "output_type": "stream",
     "text": [
      "3296/3395 - Analyzing dataset/corpus/POZITIF_0.mp4\n"
     ]
    },
    {
     "name": "stderr",
     "output_type": "stream",
     "text": [
      "I0000 00:00:1711917776.020242       1 gl_context.cc:344] GL version: 2.1 (2.1 Metal - 88), renderer: Apple M1\n"
     ]
    },
    {
     "name": "stdout",
     "output_type": "stream",
     "text": [
      "3297/3395 - Analyzing dataset/corpus/VERMEK_0.mp4\n"
     ]
    },
    {
     "name": "stderr",
     "output_type": "stream",
     "text": [
      "I0000 00:00:1711917781.195918       1 gl_context.cc:344] GL version: 2.1 (2.1 Metal - 88), renderer: Apple M1\n"
     ]
    },
    {
     "name": "stdout",
     "output_type": "stream",
     "text": [
      "3298/3395 - Analyzing dataset/corpus/AS╠ğIK OLMAK_1.mp4\n"
     ]
    },
    {
     "name": "stderr",
     "output_type": "stream",
     "text": [
      "I0000 00:00:1711917784.379880       1 gl_context.cc:344] GL version: 2.1 (2.1 Metal - 88), renderer: Apple M1\n"
     ]
    },
    {
     "name": "stdout",
     "output_type": "stream",
     "text": [
      "3299/3395 - Analyzing dataset/corpus/KARS╠ğILAS╠ğMAK_0.mp4\n"
     ]
    },
    {
     "name": "stderr",
     "output_type": "stream",
     "text": [
      "I0000 00:00:1711917788.137815       1 gl_context.cc:344] GL version: 2.1 (2.1 Metal - 88), renderer: Apple M1\n"
     ]
    },
    {
     "name": "stdout",
     "output_type": "stream",
     "text": [
      "3300/3395 - Analyzing dataset/corpus/U╠êFLEMEK_0.mp4\n"
     ]
    },
    {
     "name": "stderr",
     "output_type": "stream",
     "text": [
      "I0000 00:00:1711917791.656454       1 gl_context.cc:344] GL version: 2.1 (2.1 Metal - 88), renderer: Apple M1\n"
     ]
    },
    {
     "name": "stdout",
     "output_type": "stream",
     "text": [
      "3301/3395 - Analyzing dataset/corpus/KUMPIR_1.mp4\n"
     ]
    },
    {
     "name": "stderr",
     "output_type": "stream",
     "text": [
      "I0000 00:00:1711917796.981608       1 gl_context.cc:344] GL version: 2.1 (2.1 Metal - 88), renderer: Apple M1\n"
     ]
    },
    {
     "name": "stdout",
     "output_type": "stream",
     "text": [
      "3302/3395 - Analyzing dataset/corpus/PATLICAN _0.mp4\n"
     ]
    },
    {
     "name": "stderr",
     "output_type": "stream",
     "text": [
      "I0000 00:00:1711917802.148772       1 gl_context.cc:344] GL version: 2.1 (2.1 Metal - 88), renderer: Apple M1\n"
     ]
    },
    {
     "name": "stdout",
     "output_type": "stream",
     "text": [
      "3303/3395 - Analyzing dataset/corpus/HAZIRAN_0.mp4\n"
     ]
    },
    {
     "name": "stderr",
     "output_type": "stream",
     "text": [
      "I0000 00:00:1711917807.791824       1 gl_context.cc:344] GL version: 2.1 (2.1 Metal - 88), renderer: Apple M1\n"
     ]
    },
    {
     "name": "stdout",
     "output_type": "stream",
     "text": [
      "3304/3395 - Analyzing dataset/corpus/FARK ETMEZ_2.mp4\n"
     ]
    },
    {
     "name": "stderr",
     "output_type": "stream",
     "text": [
      "I0000 00:00:1711917812.287230       1 gl_context.cc:344] GL version: 2.1 (2.1 Metal - 88), renderer: Apple M1\n"
     ]
    },
    {
     "name": "stdout",
     "output_type": "stream",
     "text": [
      "3305/3395 - Analyzing dataset/corpus/APTAL_0.mp4\n"
     ]
    },
    {
     "name": "stderr",
     "output_type": "stream",
     "text": [
      "I0000 00:00:1711917815.650349       1 gl_context.cc:344] GL version: 2.1 (2.1 Metal - 88), renderer: Apple M1\n"
     ]
    },
    {
     "name": "stdout",
     "output_type": "stream",
     "text": [
      "3306/3395 - Analyzing dataset/corpus/BOS╠ğ VERMEK_1.mp4\n"
     ]
    },
    {
     "name": "stderr",
     "output_type": "stream",
     "text": [
      "I0000 00:00:1711917820.571174       1 gl_context.cc:344] GL version: 2.1 (2.1 Metal - 88), renderer: Apple M1\n"
     ]
    },
    {
     "name": "stdout",
     "output_type": "stream",
     "text": [
      "3307/3395 - Analyzing dataset/corpus/TARAMAK_1.mp4\n"
     ]
    },
    {
     "name": "stderr",
     "output_type": "stream",
     "text": [
      "I0000 00:00:1711917825.499468       1 gl_context.cc:344] GL version: 2.1 (2.1 Metal - 88), renderer: Apple M1\n"
     ]
    },
    {
     "name": "stdout",
     "output_type": "stream",
     "text": [
      "3308/3395 - Analyzing dataset/corpus/AG╠åLAMAK_0.mp4\n"
     ]
    },
    {
     "name": "stderr",
     "output_type": "stream",
     "text": [
      "I0000 00:00:1711917829.944024       1 gl_context.cc:344] GL version: 2.1 (2.1 Metal - 88), renderer: Apple M1\n"
     ]
    },
    {
     "name": "stdout",
     "output_type": "stream",
     "text": [
      "3309/3395 - Analyzing dataset/corpus/BAS╠ğI DO╠êNMEK_0.mp4\n"
     ]
    },
    {
     "name": "stderr",
     "output_type": "stream",
     "text": [
      "I0000 00:00:1711917834.897274       1 gl_context.cc:344] GL version: 2.1 (2.1 Metal - 88), renderer: Apple M1\n"
     ]
    },
    {
     "name": "stdout",
     "output_type": "stream",
     "text": [
      "3310/3395 - Analyzing dataset/corpus/S╠ğO╠êYLE BO╠êYLE_1.mp4\n"
     ]
    },
    {
     "name": "stderr",
     "output_type": "stream",
     "text": [
      "I0000 00:00:1711917841.132977       1 gl_context.cc:344] GL version: 2.1 (2.1 Metal - 88), renderer: Apple M1\n"
     ]
    },
    {
     "name": "stdout",
     "output_type": "stream",
     "text": [
      "3311/3395 - Analyzing dataset/corpus/HATIRA _0.mp4\n"
     ]
    },
    {
     "name": "stderr",
     "output_type": "stream",
     "text": [
      "I0000 00:00:1711917845.548791       1 gl_context.cc:344] GL version: 2.1 (2.1 Metal - 88), renderer: Apple M1\n"
     ]
    },
    {
     "name": "stdout",
     "output_type": "stream",
     "text": [
      "3312/3395 - Analyzing dataset/corpus/GEC╠ğMIS╠ğ OLSUN_2.mp4\n"
     ]
    },
    {
     "name": "stderr",
     "output_type": "stream",
     "text": [
      "I0000 00:00:1711917850.598569       1 gl_context.cc:344] GL version: 2.1 (2.1 Metal - 88), renderer: Apple M1\n"
     ]
    },
    {
     "name": "stdout",
     "output_type": "stream",
     "text": [
      "3313/3395 - Analyzing dataset/corpus/CAHIL _0.mp4\n"
     ]
    },
    {
     "name": "stderr",
     "output_type": "stream",
     "text": [
      "I0000 00:00:1711917855.449050       1 gl_context.cc:344] GL version: 2.1 (2.1 Metal - 88), renderer: Apple M1\n"
     ]
    },
    {
     "name": "stdout",
     "output_type": "stream",
     "text": [
      "3314/3395 - Analyzing dataset/corpus/MARKET_1.mp4\n"
     ]
    },
    {
     "name": "stderr",
     "output_type": "stream",
     "text": [
      "I0000 00:00:1711917860.185106       1 gl_context.cc:344] GL version: 2.1 (2.1 Metal - 88), renderer: Apple M1\n"
     ]
    },
    {
     "name": "stdout",
     "output_type": "stream",
     "text": [
      "3315/3395 - Analyzing dataset/corpus/KU╠êPE_0.mp4\n"
     ]
    },
    {
     "name": "stderr",
     "output_type": "stream",
     "text": [
      "I0000 00:00:1711917864.170697       1 gl_context.cc:344] GL version: 2.1 (2.1 Metal - 88), renderer: Apple M1\n"
     ]
    },
    {
     "name": "stdout",
     "output_type": "stream",
     "text": [
      "3316/3395 - Analyzing dataset/corpus/O╠êRU╠êMCEK_0.mp4\n"
     ]
    },
    {
     "name": "stderr",
     "output_type": "stream",
     "text": [
      "I0000 00:00:1711917869.749020       1 gl_context.cc:344] GL version: 2.1 (2.1 Metal - 88), renderer: Apple M1\n"
     ]
    },
    {
     "name": "stdout",
     "output_type": "stream",
     "text": [
      "3317/3395 - Analyzing dataset/corpus/DALIS╠ğ_0.mp4\n"
     ]
    },
    {
     "name": "stderr",
     "output_type": "stream",
     "text": [
      "I0000 00:00:1711917874.398953       1 gl_context.cc:344] GL version: 2.1 (2.1 Metal - 88), renderer: Apple M1\n"
     ]
    },
    {
     "name": "stdout",
     "output_type": "stream",
     "text": [
      "3318/3395 - Analyzing dataset/corpus/LAMBA_0.mp4\n"
     ]
    },
    {
     "name": "stderr",
     "output_type": "stream",
     "text": [
      "I0000 00:00:1711917879.751047       1 gl_context.cc:344] GL version: 2.1 (2.1 Metal - 88), renderer: Apple M1\n"
     ]
    },
    {
     "name": "stdout",
     "output_type": "stream",
     "text": [
      "3319/3395 - Analyzing dataset/corpus/PERS╠ğEMBE_0.mp4\n"
     ]
    },
    {
     "name": "stderr",
     "output_type": "stream",
     "text": [
      "I0000 00:00:1711917885.232647       1 gl_context.cc:344] GL version: 2.1 (2.1 Metal - 88), renderer: Apple M1\n"
     ]
    },
    {
     "name": "stdout",
     "output_type": "stream",
     "text": [
      "3320/3395 - Analyzing dataset/corpus/DU╠êKKAN_0.mp4\n"
     ]
    },
    {
     "name": "stderr",
     "output_type": "stream",
     "text": [
      "I0000 00:00:1711917889.465218       1 gl_context.cc:344] GL version: 2.1 (2.1 Metal - 88), renderer: Apple M1\n"
     ]
    },
    {
     "name": "stdout",
     "output_type": "stream",
     "text": [
      "3321/3395 - Analyzing dataset/corpus/VIDEO_0.mp4\n"
     ]
    },
    {
     "name": "stderr",
     "output_type": "stream",
     "text": [
      "I0000 00:00:1711917894.289693       1 gl_context.cc:344] GL version: 2.1 (2.1 Metal - 88), renderer: Apple M1\n"
     ]
    },
    {
     "name": "stdout",
     "output_type": "stream",
     "text": [
      "3322/3395 - Analyzing dataset/corpus/KURAL_0.mp4\n"
     ]
    },
    {
     "name": "stderr",
     "output_type": "stream",
     "text": [
      "I0000 00:00:1711917899.407043       1 gl_context.cc:344] GL version: 2.1 (2.1 Metal - 88), renderer: Apple M1\n"
     ]
    },
    {
     "name": "stdout",
     "output_type": "stream",
     "text": [
      "3323/3395 - Analyzing dataset/corpus/KIMSE_1.mp4\n"
     ]
    },
    {
     "name": "stderr",
     "output_type": "stream",
     "text": [
      "I0000 00:00:1711917905.203029       1 gl_context.cc:344] GL version: 2.1 (2.1 Metal - 88), renderer: Apple M1\n"
     ]
    },
    {
     "name": "stdout",
     "output_type": "stream",
     "text": [
      "3324/3395 - Analyzing dataset/corpus/UYARMAK_1.mp4\n"
     ]
    },
    {
     "name": "stderr",
     "output_type": "stream",
     "text": [
      "I0000 00:00:1711917909.371964       1 gl_context.cc:344] GL version: 2.1 (2.1 Metal - 88), renderer: Apple M1\n"
     ]
    },
    {
     "name": "stdout",
     "output_type": "stream",
     "text": [
      "3325/3395 - Analyzing dataset/corpus/YARIS╠ğMAK_1.mp4\n"
     ]
    },
    {
     "name": "stderr",
     "output_type": "stream",
     "text": [
      "I0000 00:00:1711917914.014075       1 gl_context.cc:344] GL version: 2.1 (2.1 Metal - 88), renderer: Apple M1\n"
     ]
    },
    {
     "name": "stdout",
     "output_type": "stream",
     "text": [
      "3326/3395 - Analyzing dataset/corpus/MU╠êCADELE _1.mp4\n"
     ]
    },
    {
     "name": "stderr",
     "output_type": "stream",
     "text": [
      "I0000 00:00:1711917919.472324       1 gl_context.cc:344] GL version: 2.1 (2.1 Metal - 88), renderer: Apple M1\n"
     ]
    },
    {
     "name": "stdout",
     "output_type": "stream",
     "text": [
      "3327/3395 - Analyzing dataset/corpus/I╠çL_0.mp4\n"
     ]
    },
    {
     "name": "stderr",
     "output_type": "stream",
     "text": [
      "I0000 00:00:1711917924.963188       1 gl_context.cc:344] GL version: 2.1 (2.1 Metal - 88), renderer: Apple M1\n"
     ]
    },
    {
     "name": "stdout",
     "output_type": "stream",
     "text": [
      "3328/3395 - Analyzing dataset/corpus/C╠ğIFTLIK_0.mp4\n"
     ]
    },
    {
     "name": "stderr",
     "output_type": "stream",
     "text": [
      "I0000 00:00:1711917930.242053       1 gl_context.cc:344] GL version: 2.1 (2.1 Metal - 88), renderer: Apple M1\n"
     ]
    },
    {
     "name": "stdout",
     "output_type": "stream",
     "text": [
      "3329/3395 - Analyzing dataset/corpus/NAKIS╠ğ_0.mp4\n"
     ]
    },
    {
     "name": "stderr",
     "output_type": "stream",
     "text": [
      "I0000 00:00:1711917934.529782       1 gl_context.cc:344] GL version: 2.1 (2.1 Metal - 88), renderer: Apple M1\n"
     ]
    },
    {
     "name": "stdout",
     "output_type": "stream",
     "text": [
      "3330/3395 - Analyzing dataset/corpus/MUTLU_0.mp4\n"
     ]
    },
    {
     "name": "stderr",
     "output_type": "stream",
     "text": [
      "I0000 00:00:1711917938.819740       1 gl_context.cc:344] GL version: 2.1 (2.1 Metal - 88), renderer: Apple M1\n"
     ]
    },
    {
     "name": "stdout",
     "output_type": "stream",
     "text": [
      "3331/3395 - Analyzing dataset/corpus/ON, 10_0.mp4\n"
     ]
    },
    {
     "name": "stderr",
     "output_type": "stream",
     "text": [
      "I0000 00:00:1711917942.965083       1 gl_context.cc:344] GL version: 2.1 (2.1 Metal - 88), renderer: Apple M1\n"
     ]
    },
    {
     "name": "stdout",
     "output_type": "stream",
     "text": [
      "3332/3395 - Analyzing dataset/corpus/O╠êG╠åLE_1.mp4\n"
     ]
    },
    {
     "name": "stderr",
     "output_type": "stream",
     "text": [
      "I0000 00:00:1711917948.469185       1 gl_context.cc:344] GL version: 2.1 (2.1 Metal - 88), renderer: Apple M1\n"
     ]
    },
    {
     "name": "stdout",
     "output_type": "stream",
     "text": [
      "3333/3395 - Analyzing dataset/corpus/CUMARTESI_1.mp4\n"
     ]
    },
    {
     "name": "stderr",
     "output_type": "stream",
     "text": [
      "I0000 00:00:1711917952.849407       1 gl_context.cc:344] GL version: 2.1 (2.1 Metal - 88), renderer: Apple M1\n"
     ]
    },
    {
     "name": "stdout",
     "output_type": "stream",
     "text": [
      "3334/3395 - Analyzing dataset/corpus/S╠ğAKALAS╠ğMAK_1.mp4\n"
     ]
    },
    {
     "name": "stderr",
     "output_type": "stream",
     "text": [
      "I0000 00:00:1711917957.073891       1 gl_context.cc:344] GL version: 2.1 (2.1 Metal - 88), renderer: Apple M1\n"
     ]
    },
    {
     "name": "stdout",
     "output_type": "stream",
     "text": [
      "3335/3395 - Analyzing dataset/corpus/YENMEK _0.mp4\n"
     ]
    },
    {
     "name": "stderr",
     "output_type": "stream",
     "text": [
      "I0000 00:00:1711917962.496638       1 gl_context.cc:344] GL version: 2.1 (2.1 Metal - 88), renderer: Apple M1\n"
     ]
    },
    {
     "name": "stdout",
     "output_type": "stream",
     "text": [
      "3336/3395 - Analyzing dataset/corpus/C╠ğARESIZ_1.mp4\n"
     ]
    },
    {
     "name": "stderr",
     "output_type": "stream",
     "text": [
      "I0000 00:00:1711917966.069313       1 gl_context.cc:344] GL version: 2.1 (2.1 Metal - 88), renderer: Apple M1\n"
     ]
    },
    {
     "name": "stdout",
     "output_type": "stream",
     "text": [
      "3337/3395 - Analyzing dataset/corpus/OCAK _1.mp4\n"
     ]
    },
    {
     "name": "stderr",
     "output_type": "stream",
     "text": [
      "I0000 00:00:1711917970.875136       1 gl_context.cc:344] GL version: 2.1 (2.1 Metal - 88), renderer: Apple M1\n"
     ]
    },
    {
     "name": "stdout",
     "output_type": "stream",
     "text": [
      "3338/3395 - Analyzing dataset/corpus/TABELA_2.mp4\n"
     ]
    },
    {
     "name": "stderr",
     "output_type": "stream",
     "text": [
      "I0000 00:00:1711917975.259543       1 gl_context.cc:344] GL version: 2.1 (2.1 Metal - 88), renderer: Apple M1\n"
     ]
    },
    {
     "name": "stdout",
     "output_type": "stream",
     "text": [
      "3339/3395 - Analyzing dataset/corpus/SU╠êT_0.mp4\n"
     ]
    },
    {
     "name": "stderr",
     "output_type": "stream",
     "text": [
      "I0000 00:00:1711917980.176820       1 gl_context.cc:344] GL version: 2.1 (2.1 Metal - 88), renderer: Apple M1\n"
     ]
    },
    {
     "name": "stdout",
     "output_type": "stream",
     "text": [
      "3340/3395 - Analyzing dataset/corpus/GETIRMEK_0.mp4\n"
     ]
    },
    {
     "name": "stderr",
     "output_type": "stream",
     "text": [
      "I0000 00:00:1711917985.460930       1 gl_context.cc:344] GL version: 2.1 (2.1 Metal - 88), renderer: Apple M1\n"
     ]
    },
    {
     "name": "stdout",
     "output_type": "stream",
     "text": [
      "3341/3395 - Analyzing dataset/corpus/C╠ğIG╠å KO╠êFTE_0.mp4\n"
     ]
    },
    {
     "name": "stderr",
     "output_type": "stream",
     "text": [
      "I0000 00:00:1711917990.617866       1 gl_context.cc:344] GL version: 2.1 (2.1 Metal - 88), renderer: Apple M1\n"
     ]
    },
    {
     "name": "stdout",
     "output_type": "stream",
     "text": [
      "3342/3395 - Analyzing dataset/corpus/ORJINAL_1.mp4\n"
     ]
    },
    {
     "name": "stderr",
     "output_type": "stream",
     "text": [
      "I0000 00:00:1711917995.758021       1 gl_context.cc:344] GL version: 2.1 (2.1 Metal - 88), renderer: Apple M1\n"
     ]
    },
    {
     "name": "stdout",
     "output_type": "stream",
     "text": [
      "3343/3395 - Analyzing dataset/corpus/YILBAS╠ğI_0.mp4\n"
     ]
    },
    {
     "name": "stderr",
     "output_type": "stream",
     "text": [
      "I0000 00:00:1711918001.136277       1 gl_context.cc:344] GL version: 2.1 (2.1 Metal - 88), renderer: Apple M1\n"
     ]
    },
    {
     "name": "stdout",
     "output_type": "stream",
     "text": [
      "3344/3395 - Analyzing dataset/corpus/YU╠êZME_0.mp4\n"
     ]
    },
    {
     "name": "stderr",
     "output_type": "stream",
     "text": [
      "I0000 00:00:1711918006.773121       1 gl_context.cc:344] GL version: 2.1 (2.1 Metal - 88), renderer: Apple M1\n"
     ]
    },
    {
     "name": "stdout",
     "output_type": "stream",
     "text": [
      "3345/3395 - Analyzing dataset/corpus/VAY_1.mp4\n"
     ]
    },
    {
     "name": "stderr",
     "output_type": "stream",
     "text": [
      "I0000 00:00:1711918011.241295       1 gl_context.cc:344] GL version: 2.1 (2.1 Metal - 88), renderer: Apple M1\n"
     ]
    },
    {
     "name": "stdout",
     "output_type": "stream",
     "text": [
      "3346/3395 - Analyzing dataset/corpus/BIKMAK_0.mp4\n"
     ]
    },
    {
     "name": "stderr",
     "output_type": "stream",
     "text": [
      "I0000 00:00:1711918015.127320       1 gl_context.cc:344] GL version: 2.1 (2.1 Metal - 88), renderer: Apple M1\n"
     ]
    },
    {
     "name": "stdout",
     "output_type": "stream",
     "text": [
      "3347/3395 - Analyzing dataset/corpus/TO╠êVBE_0.mp4\n"
     ]
    },
    {
     "name": "stderr",
     "output_type": "stream",
     "text": [
      "I0000 00:00:1711918020.370432       1 gl_context.cc:344] GL version: 2.1 (2.1 Metal - 88), renderer: Apple M1\n"
     ]
    },
    {
     "name": "stdout",
     "output_type": "stream",
     "text": [
      "3348/3395 - Analyzing dataset/corpus/GO╠êVDE_2.mp4\n"
     ]
    },
    {
     "name": "stderr",
     "output_type": "stream",
     "text": [
      "I0000 00:00:1711918024.337106       1 gl_context.cc:344] GL version: 2.1 (2.1 Metal - 88), renderer: Apple M1\n"
     ]
    },
    {
     "name": "stdout",
     "output_type": "stream",
     "text": [
      "3349/3395 - Analyzing dataset/corpus/SERAMIK_0.mp4\n"
     ]
    },
    {
     "name": "stderr",
     "output_type": "stream",
     "text": [
      "I0000 00:00:1711918028.397877       1 gl_context.cc:344] GL version: 2.1 (2.1 Metal - 88), renderer: Apple M1\n"
     ]
    },
    {
     "name": "stdout",
     "output_type": "stream",
     "text": [
      "3350/3395 - Analyzing dataset/corpus/ETRAF_0.mp4\n"
     ]
    },
    {
     "name": "stderr",
     "output_type": "stream",
     "text": [
      "I0000 00:00:1711918033.257689       1 gl_context.cc:344] GL version: 2.1 (2.1 Metal - 88), renderer: Apple M1\n"
     ]
    },
    {
     "name": "stdout",
     "output_type": "stream",
     "text": [
      "3351/3395 - Analyzing dataset/corpus/O╠êG╠åRETMEK_1.mp4\n"
     ]
    },
    {
     "name": "stderr",
     "output_type": "stream",
     "text": [
      "I0000 00:00:1711918038.127882       1 gl_context.cc:344] GL version: 2.1 (2.1 Metal - 88), renderer: Apple M1\n"
     ]
    },
    {
     "name": "stdout",
     "output_type": "stream",
     "text": [
      "3352/3395 - Analyzing dataset/corpus/PEKI_0.mp4\n"
     ]
    },
    {
     "name": "stderr",
     "output_type": "stream",
     "text": [
      "I0000 00:00:1711918041.849110       1 gl_context.cc:344] GL version: 2.1 (2.1 Metal - 88), renderer: Apple M1\n"
     ]
    },
    {
     "name": "stdout",
     "output_type": "stream",
     "text": [
      "3353/3395 - Analyzing dataset/corpus/HEMEN_0.mp4\n"
     ]
    },
    {
     "name": "stderr",
     "output_type": "stream",
     "text": [
      "I0000 00:00:1711918044.525803       1 gl_context.cc:344] GL version: 2.1 (2.1 Metal - 88), renderer: Apple M1\n"
     ]
    },
    {
     "name": "stdout",
     "output_type": "stream",
     "text": [
      "3354/3395 - Analyzing dataset/corpus/MESLEK_1.mp4\n"
     ]
    },
    {
     "name": "stderr",
     "output_type": "stream",
     "text": [
      "I0000 00:00:1711918047.780150       1 gl_context.cc:344] GL version: 2.1 (2.1 Metal - 88), renderer: Apple M1\n"
     ]
    },
    {
     "name": "stdout",
     "output_type": "stream",
     "text": [
      "3355/3395 - Analyzing dataset/corpus/BILGISAYAR_0.mp4\n"
     ]
    },
    {
     "name": "stderr",
     "output_type": "stream",
     "text": [
      "I0000 00:00:1711918052.624060       1 gl_context.cc:344] GL version: 2.1 (2.1 Metal - 88), renderer: Apple M1\n"
     ]
    },
    {
     "name": "stdout",
     "output_type": "stream",
     "text": [
      "3356/3395 - Analyzing dataset/corpus/BU╠êYU╠êME_2.mp4\n"
     ]
    },
    {
     "name": "stderr",
     "output_type": "stream",
     "text": [
      "I0000 00:00:1711918057.519721       1 gl_context.cc:344] GL version: 2.1 (2.1 Metal - 88), renderer: Apple M1\n"
     ]
    },
    {
     "name": "stdout",
     "output_type": "stream",
     "text": [
      "3357/3395 - Analyzing dataset/corpus/ALKIS╠ğ_0.mp4\n"
     ]
    },
    {
     "name": "stderr",
     "output_type": "stream",
     "text": [
      "I0000 00:00:1711918062.791380       1 gl_context.cc:344] GL version: 2.1 (2.1 Metal - 88), renderer: Apple M1\n"
     ]
    },
    {
     "name": "stdout",
     "output_type": "stream",
     "text": [
      "3358/3395 - Analyzing dataset/corpus/BEDAVA_0.mp4\n"
     ]
    },
    {
     "name": "stderr",
     "output_type": "stream",
     "text": [
      "I0000 00:00:1711918067.164074       1 gl_context.cc:344] GL version: 2.1 (2.1 Metal - 88), renderer: Apple M1\n"
     ]
    },
    {
     "name": "stdout",
     "output_type": "stream",
     "text": [
      "3359/3395 - Analyzing dataset/corpus/ANLAMAK_0.mp4\n"
     ]
    },
    {
     "name": "stderr",
     "output_type": "stream",
     "text": [
      "I0000 00:00:1711918071.134959       1 gl_context.cc:344] GL version: 2.1 (2.1 Metal - 88), renderer: Apple M1\n"
     ]
    },
    {
     "name": "stdout",
     "output_type": "stream",
     "text": [
      "3360/3395 - Analyzing dataset/corpus/DINLEMEK_1.mp4\n"
     ]
    },
    {
     "name": "stderr",
     "output_type": "stream",
     "text": [
      "I0000 00:00:1711918077.924399       1 gl_context.cc:344] GL version: 2.1 (2.1 Metal - 88), renderer: Apple M1\n"
     ]
    },
    {
     "name": "stdout",
     "output_type": "stream",
     "text": [
      "3361/3395 - Analyzing dataset/corpus/BOZUK_0.mp4\n"
     ]
    },
    {
     "name": "stderr",
     "output_type": "stream",
     "text": [
      "I0000 00:00:1711918082.536433       1 gl_context.cc:344] GL version: 2.1 (2.1 Metal - 88), renderer: Apple M1\n"
     ]
    },
    {
     "name": "stdout",
     "output_type": "stream",
     "text": [
      "3362/3395 - Analyzing dataset/corpus/BU╠êYU╠êMEK_2.mp4\n"
     ]
    },
    {
     "name": "stderr",
     "output_type": "stream",
     "text": [
      "I0000 00:00:1711918087.568775       1 gl_context.cc:344] GL version: 2.1 (2.1 Metal - 88), renderer: Apple M1\n"
     ]
    },
    {
     "name": "stdout",
     "output_type": "stream",
     "text": [
      "3363/3395 - Analyzing dataset/corpus/SUBAY_0.mp4\n"
     ]
    },
    {
     "name": "stderr",
     "output_type": "stream",
     "text": [
      "I0000 00:00:1711918092.906807       1 gl_context.cc:344] GL version: 2.1 (2.1 Metal - 88), renderer: Apple M1\n"
     ]
    },
    {
     "name": "stdout",
     "output_type": "stream",
     "text": [
      "3364/3395 - Analyzing dataset/corpus/TARTIS╠ğMAK_1.mp4\n"
     ]
    },
    {
     "name": "stderr",
     "output_type": "stream",
     "text": [
      "I0000 00:00:1711918097.126704       1 gl_context.cc:344] GL version: 2.1 (2.1 Metal - 88), renderer: Apple M1\n"
     ]
    },
    {
     "name": "stdout",
     "output_type": "stream",
     "text": [
      "3365/3395 - Analyzing dataset/corpus/DAG╠å_0.mp4\n"
     ]
    },
    {
     "name": "stderr",
     "output_type": "stream",
     "text": [
      "I0000 00:00:1711918101.490931       1 gl_context.cc:344] GL version: 2.1 (2.1 Metal - 88), renderer: Apple M1\n"
     ]
    },
    {
     "name": "stdout",
     "output_type": "stream",
     "text": [
      "3366/3395 - Analyzing dataset/corpus/MAHKEME_1.mp4\n"
     ]
    },
    {
     "name": "stderr",
     "output_type": "stream",
     "text": [
      "I0000 00:00:1711918105.139425       1 gl_context.cc:344] GL version: 2.1 (2.1 Metal - 88), renderer: Apple M1\n"
     ]
    },
    {
     "name": "stdout",
     "output_type": "stream",
     "text": [
      "3367/3395 - Analyzing dataset/corpus/ELEKTRIK_1.mp4\n"
     ]
    },
    {
     "name": "stderr",
     "output_type": "stream",
     "text": [
      "I0000 00:00:1711918109.959020       1 gl_context.cc:344] GL version: 2.1 (2.1 Metal - 88), renderer: Apple M1\n"
     ]
    },
    {
     "name": "stdout",
     "output_type": "stream",
     "text": [
      "3368/3395 - Analyzing dataset/corpus/AKILLI, ZEKI_0.mp4\n"
     ]
    },
    {
     "name": "stderr",
     "output_type": "stream",
     "text": [
      "I0000 00:00:1711918113.913264       1 gl_context.cc:344] GL version: 2.1 (2.1 Metal - 88), renderer: Apple M1\n"
     ]
    },
    {
     "name": "stdout",
     "output_type": "stream",
     "text": [
      "3369/3395 - Analyzing dataset/corpus/PES╠ğIN_0.mp4\n"
     ]
    },
    {
     "name": "stderr",
     "output_type": "stream",
     "text": [
      "I0000 00:00:1711918119.467178       1 gl_context.cc:344] GL version: 2.1 (2.1 Metal - 88), renderer: Apple M1\n"
     ]
    },
    {
     "name": "stdout",
     "output_type": "stream",
     "text": [
      "3370/3395 - Analyzing dataset/corpus/NEM_1.mp4\n"
     ]
    },
    {
     "name": "stderr",
     "output_type": "stream",
     "text": [
      "I0000 00:00:1711918123.366356       1 gl_context.cc:344] GL version: 2.1 (2.1 Metal - 88), renderer: Apple M1\n"
     ]
    },
    {
     "name": "stdout",
     "output_type": "stream",
     "text": [
      "3371/3395 - Analyzing dataset/corpus/GIRMEK_0.mp4\n"
     ]
    },
    {
     "name": "stderr",
     "output_type": "stream",
     "text": [
      "I0000 00:00:1711918127.897422       1 gl_context.cc:344] GL version: 2.1 (2.1 Metal - 88), renderer: Apple M1\n"
     ]
    },
    {
     "name": "stdout",
     "output_type": "stream",
     "text": [
      "3372/3395 - Analyzing dataset/corpus/PARTI_0.mp4\n"
     ]
    },
    {
     "name": "stderr",
     "output_type": "stream",
     "text": [
      "I0000 00:00:1711918134.614615       1 gl_context.cc:344] GL version: 2.1 (2.1 Metal - 88), renderer: Apple M1\n"
     ]
    },
    {
     "name": "stdout",
     "output_type": "stream",
     "text": [
      "3373/3395 - Analyzing dataset/corpus/BAHS╠ğIS╠ğ_2.mp4\n"
     ]
    },
    {
     "name": "stderr",
     "output_type": "stream",
     "text": [
      "I0000 00:00:1711918139.885727       1 gl_context.cc:344] GL version: 2.1 (2.1 Metal - 88), renderer: Apple M1\n"
     ]
    },
    {
     "name": "stdout",
     "output_type": "stream",
     "text": [
      "3374/3395 - Analyzing dataset/corpus/O╠êDEV_1.mp4\n"
     ]
    },
    {
     "name": "stderr",
     "output_type": "stream",
     "text": [
      "I0000 00:00:1711918143.670817       1 gl_context.cc:344] GL version: 2.1 (2.1 Metal - 88), renderer: Apple M1\n"
     ]
    },
    {
     "name": "stdout",
     "output_type": "stream",
     "text": [
      "3375/3395 - Analyzing dataset/corpus/TATLI_0.mp4\n"
     ]
    },
    {
     "name": "stderr",
     "output_type": "stream",
     "text": [
      "I0000 00:00:1711918147.433762       1 gl_context.cc:344] GL version: 2.1 (2.1 Metal - 88), renderer: Apple M1\n"
     ]
    },
    {
     "name": "stdout",
     "output_type": "stream",
     "text": [
      "3376/3395 - Analyzing dataset/corpus/TARIH_1.mp4\n"
     ]
    },
    {
     "name": "stderr",
     "output_type": "stream",
     "text": [
      "I0000 00:00:1711918152.946447       1 gl_context.cc:344] GL version: 2.1 (2.1 Metal - 88), renderer: Apple M1\n"
     ]
    },
    {
     "name": "stdout",
     "output_type": "stream",
     "text": [
      "3377/3395 - Analyzing dataset/corpus/DILEKC╠ğE _2.mp4\n"
     ]
    },
    {
     "name": "stderr",
     "output_type": "stream",
     "text": [
      "I0000 00:00:1711918157.166589       1 gl_context.cc:344] GL version: 2.1 (2.1 Metal - 88), renderer: Apple M1\n"
     ]
    },
    {
     "name": "stdout",
     "output_type": "stream",
     "text": [
      "3378/3395 - Analyzing dataset/corpus/SAAT_0.mp4\n"
     ]
    },
    {
     "name": "stderr",
     "output_type": "stream",
     "text": [
      "I0000 00:00:1711918161.314613       1 gl_context.cc:344] GL version: 2.1 (2.1 Metal - 88), renderer: Apple M1\n"
     ]
    },
    {
     "name": "stdout",
     "output_type": "stream",
     "text": [
      "3379/3395 - Analyzing dataset/corpus/C╠ğAMUR_1.mp4\n"
     ]
    },
    {
     "name": "stderr",
     "output_type": "stream",
     "text": [
      "I0000 00:00:1711918164.725328       1 gl_context.cc:344] GL version: 2.1 (2.1 Metal - 88), renderer: Apple M1\n"
     ]
    },
    {
     "name": "stdout",
     "output_type": "stream",
     "text": [
      "3380/3395 - Analyzing dataset/corpus/SERT_0.mp4\n"
     ]
    },
    {
     "name": "stderr",
     "output_type": "stream",
     "text": [
      "I0000 00:00:1711918169.170096       1 gl_context.cc:344] GL version: 2.1 (2.1 Metal - 88), renderer: Apple M1\n"
     ]
    },
    {
     "name": "stdout",
     "output_type": "stream",
     "text": [
      "3381/3395 - Analyzing dataset/corpus/DIN_0.mp4\n"
     ]
    },
    {
     "name": "stderr",
     "output_type": "stream",
     "text": [
      "I0000 00:00:1711918173.286340       1 gl_context.cc:344] GL version: 2.1 (2.1 Metal - 88), renderer: Apple M1\n"
     ]
    },
    {
     "name": "stdout",
     "output_type": "stream",
     "text": [
      "3382/3395 - Analyzing dataset/corpus/VARDIYA_0.mp4\n"
     ]
    },
    {
     "name": "stderr",
     "output_type": "stream",
     "text": [
      "I0000 00:00:1711918178.745291       1 gl_context.cc:344] GL version: 2.1 (2.1 Metal - 88), renderer: Apple M1\n"
     ]
    },
    {
     "name": "stdout",
     "output_type": "stream",
     "text": [
      "3383/3395 - Analyzing dataset/corpus/ENIS╠ğTE_0.mp4\n"
     ]
    },
    {
     "name": "stderr",
     "output_type": "stream",
     "text": [
      "I0000 00:00:1711918183.332215       1 gl_context.cc:344] GL version: 2.1 (2.1 Metal - 88), renderer: Apple M1\n"
     ]
    },
    {
     "name": "stdout",
     "output_type": "stream",
     "text": [
      "3384/3395 - Analyzing dataset/corpus/KOMEDI_0.mp4\n"
     ]
    },
    {
     "name": "stderr",
     "output_type": "stream",
     "text": [
      "I0000 00:00:1711918187.213169       1 gl_context.cc:344] GL version: 2.1 (2.1 Metal - 88), renderer: Apple M1\n"
     ]
    },
    {
     "name": "stdout",
     "output_type": "stream",
     "text": [
      "3385/3395 - Analyzing dataset/corpus/ALC╠ğI_0.mp4\n"
     ]
    },
    {
     "name": "stderr",
     "output_type": "stream",
     "text": [
      "I0000 00:00:1711918190.784403       1 gl_context.cc:344] GL version: 2.1 (2.1 Metal - 88), renderer: Apple M1\n"
     ]
    },
    {
     "name": "stdout",
     "output_type": "stream",
     "text": [
      "3386/3395 - Analyzing dataset/corpus/I╠çLKO╠êG╠åRETIM_0.mp4\n"
     ]
    },
    {
     "name": "stderr",
     "output_type": "stream",
     "text": [
      "I0000 00:00:1711918195.313102       1 gl_context.cc:344] GL version: 2.1 (2.1 Metal - 88), renderer: Apple M1\n"
     ]
    },
    {
     "name": "stdout",
     "output_type": "stream",
     "text": [
      "3387/3395 - Analyzing dataset/corpus/KABLO_0.mp4\n"
     ]
    },
    {
     "name": "stderr",
     "output_type": "stream",
     "text": [
      "I0000 00:00:1711918200.844673       1 gl_context.cc:344] GL version: 2.1 (2.1 Metal - 88), renderer: Apple M1\n"
     ]
    },
    {
     "name": "stdout",
     "output_type": "stream",
     "text": [
      "3388/3395 - Analyzing dataset/corpus/BELKI_1.mp4\n"
     ]
    },
    {
     "name": "stderr",
     "output_type": "stream",
     "text": [
      "I0000 00:00:1711918205.071254       1 gl_context.cc:344] GL version: 2.1 (2.1 Metal - 88), renderer: Apple M1\n"
     ]
    },
    {
     "name": "stdout",
     "output_type": "stream",
     "text": [
      "3389/3395 - Analyzing dataset/corpus/C╠ğIFT_2.mp4\n"
     ]
    },
    {
     "name": "stderr",
     "output_type": "stream",
     "text": [
      "I0000 00:00:1711918210.898482       1 gl_context.cc:344] GL version: 2.1 (2.1 Metal - 88), renderer: Apple M1\n"
     ]
    },
    {
     "name": "stdout",
     "output_type": "stream",
     "text": [
      "3390/3395 - Analyzing dataset/corpus/GIZLI_1.mp4\n"
     ]
    },
    {
     "name": "stderr",
     "output_type": "stream",
     "text": [
      "I0000 00:00:1711918215.523648       1 gl_context.cc:344] GL version: 2.1 (2.1 Metal - 88), renderer: Apple M1\n"
     ]
    },
    {
     "name": "stdout",
     "output_type": "stream",
     "text": [
      "3391/3395 - Analyzing dataset/corpus/I╠çYI_0.mp4\n"
     ]
    },
    {
     "name": "stderr",
     "output_type": "stream",
     "text": [
      "I0000 00:00:1711918221.510566       1 gl_context.cc:344] GL version: 2.1 (2.1 Metal - 88), renderer: Apple M1\n"
     ]
    },
    {
     "name": "stdout",
     "output_type": "stream",
     "text": [
      "3392/3395 - Analyzing dataset/corpus/KULAK_0.mp4\n"
     ]
    },
    {
     "name": "stderr",
     "output_type": "stream",
     "text": [
      "I0000 00:00:1711918224.491193       1 gl_context.cc:344] GL version: 2.1 (2.1 Metal - 88), renderer: Apple M1\n"
     ]
    },
    {
     "name": "stdout",
     "output_type": "stream",
     "text": [
      "3393/3395 - Analyzing dataset/corpus/SEBEP_0.mp4\n"
     ]
    },
    {
     "name": "stderr",
     "output_type": "stream",
     "text": [
      "I0000 00:00:1711918229.931707       1 gl_context.cc:344] GL version: 2.1 (2.1 Metal - 88), renderer: Apple M1\n"
     ]
    },
    {
     "name": "stdout",
     "output_type": "stream",
     "text": [
      "3394/3395 - Analyzing dataset/corpus/MECBUR_0.mp4\n"
     ]
    },
    {
     "name": "stderr",
     "output_type": "stream",
     "text": [
      "I0000 00:00:1711918233.809331       1 gl_context.cc:344] GL version: 2.1 (2.1 Metal - 88), renderer: Apple M1\n"
     ]
    },
    {
     "name": "stdout",
     "output_type": "stream",
     "text": [
      "3395\n"
     ]
    }
   ],
   "source": [
    "analyze_results = []\n",
    "\n",
    "for idx, video in enumerate(mp4_files):\n",
    "    print(f\"{idx}/{len(mp4_files)} - Analyzing {video}\")\n",
    "    statistics = get_analyze_statistics(video)\n",
    "    statistics.append(GLOBAL_CONFIG)\n",
    "    \n",
    "    analyze_results.append(statistics)\n",
    "\n",
    "print(len(analyze_results))"
   ]
  },
  {
   "cell_type": "code",
   "execution_count": 13,
   "metadata": {},
   "outputs": [
    {
     "data": {
      "text/html": [
       "<div>\n",
       "<style scoped>\n",
       "    .dataframe tbody tr th:only-of-type {\n",
       "        vertical-align: middle;\n",
       "    }\n",
       "\n",
       "    .dataframe tbody tr th {\n",
       "        vertical-align: top;\n",
       "    }\n",
       "\n",
       "    .dataframe thead th {\n",
       "        text-align: right;\n",
       "    }\n",
       "</style>\n",
       "<table border=\"1\" class=\"dataframe\">\n",
       "  <thead>\n",
       "    <tr style=\"text-align: right;\">\n",
       "      <th></th>\n",
       "      <th>video_name</th>\n",
       "      <th>num_of_total_frames</th>\n",
       "      <th>num_of_missing_frames_pose</th>\n",
       "      <th>num_of_missing_frames_left_hand</th>\n",
       "      <th>num_of_missing_frames_right_hand</th>\n",
       "      <th>configuration</th>\n",
       "    </tr>\n",
       "  </thead>\n",
       "  <tbody>\n",
       "    <tr>\n",
       "      <th>0</th>\n",
       "      <td>dataset/corpus/GEREK _1.mp4</td>\n",
       "      <td>51</td>\n",
       "      <td>0</td>\n",
       "      <td>51</td>\n",
       "      <td>10</td>\n",
       "      <td>namespace(MEDIAPIPE_STATIC_IMAGE_MODE=False, M...</td>\n",
       "    </tr>\n",
       "    <tr>\n",
       "      <th>1</th>\n",
       "      <td>dataset/corpus/I╠çLGINC╠ğ_0.mp4</td>\n",
       "      <td>56</td>\n",
       "      <td>0</td>\n",
       "      <td>56</td>\n",
       "      <td>30</td>\n",
       "      <td>namespace(MEDIAPIPE_STATIC_IMAGE_MODE=False, M...</td>\n",
       "    </tr>\n",
       "    <tr>\n",
       "      <th>2</th>\n",
       "      <td>dataset/corpus/MEMUR_1.mp4</td>\n",
       "      <td>60</td>\n",
       "      <td>0</td>\n",
       "      <td>60</td>\n",
       "      <td>32</td>\n",
       "      <td>namespace(MEDIAPIPE_STATIC_IMAGE_MODE=False, M...</td>\n",
       "    </tr>\n",
       "    <tr>\n",
       "      <th>3</th>\n",
       "      <td>dataset/corpus/BAS╠ğPARMAK_0.mp4</td>\n",
       "      <td>41</td>\n",
       "      <td>0</td>\n",
       "      <td>41</td>\n",
       "      <td>19</td>\n",
       "      <td>namespace(MEDIAPIPE_STATIC_IMAGE_MODE=False, M...</td>\n",
       "    </tr>\n",
       "    <tr>\n",
       "      <th>4</th>\n",
       "      <td>dataset/corpus/YILDIZ_0.mp4</td>\n",
       "      <td>66</td>\n",
       "      <td>0</td>\n",
       "      <td>21</td>\n",
       "      <td>22</td>\n",
       "      <td>namespace(MEDIAPIPE_STATIC_IMAGE_MODE=False, M...</td>\n",
       "    </tr>\n",
       "    <tr>\n",
       "      <th>...</th>\n",
       "      <td>...</td>\n",
       "      <td>...</td>\n",
       "      <td>...</td>\n",
       "      <td>...</td>\n",
       "      <td>...</td>\n",
       "      <td>...</td>\n",
       "    </tr>\n",
       "    <tr>\n",
       "      <th>3390</th>\n",
       "      <td>dataset/corpus/GIZLI_1.mp4</td>\n",
       "      <td>70</td>\n",
       "      <td>0</td>\n",
       "      <td>48</td>\n",
       "      <td>49</td>\n",
       "      <td>namespace(MEDIAPIPE_STATIC_IMAGE_MODE=False, M...</td>\n",
       "    </tr>\n",
       "    <tr>\n",
       "      <th>3391</th>\n",
       "      <td>dataset/corpus/I╠çYI_0.mp4</td>\n",
       "      <td>34</td>\n",
       "      <td>0</td>\n",
       "      <td>34</td>\n",
       "      <td>18</td>\n",
       "      <td>namespace(MEDIAPIPE_STATIC_IMAGE_MODE=False, M...</td>\n",
       "    </tr>\n",
       "    <tr>\n",
       "      <th>3392</th>\n",
       "      <td>dataset/corpus/KULAK_0.mp4</td>\n",
       "      <td>63</td>\n",
       "      <td>0</td>\n",
       "      <td>63</td>\n",
       "      <td>27</td>\n",
       "      <td>namespace(MEDIAPIPE_STATIC_IMAGE_MODE=False, M...</td>\n",
       "    </tr>\n",
       "    <tr>\n",
       "      <th>3393</th>\n",
       "      <td>dataset/corpus/SEBEP_0.mp4</td>\n",
       "      <td>45</td>\n",
       "      <td>0</td>\n",
       "      <td>21</td>\n",
       "      <td>17</td>\n",
       "      <td>namespace(MEDIAPIPE_STATIC_IMAGE_MODE=False, M...</td>\n",
       "    </tr>\n",
       "    <tr>\n",
       "      <th>3394</th>\n",
       "      <td>dataset/corpus/MECBUR_0.mp4</td>\n",
       "      <td>47</td>\n",
       "      <td>0</td>\n",
       "      <td>47</td>\n",
       "      <td>23</td>\n",
       "      <td>namespace(MEDIAPIPE_STATIC_IMAGE_MODE=False, M...</td>\n",
       "    </tr>\n",
       "  </tbody>\n",
       "</table>\n",
       "<p>3395 rows × 6 columns</p>\n",
       "</div>"
      ],
      "text/plain": [
       "                             video_name num_of_total_frames  \\\n",
       "0           dataset/corpus/GEREK _1.mp4                  51   \n",
       "1     dataset/corpus/I╠çLGINC╠ğ_0.mp4                  56   \n",
       "2            dataset/corpus/MEMUR_1.mp4                  60   \n",
       "3     dataset/corpus/BAS╠ğPARMAK_0.mp4                  41   \n",
       "4           dataset/corpus/YILDIZ_0.mp4                  66   \n",
       "...                                 ...                 ...   \n",
       "3390         dataset/corpus/GIZLI_1.mp4                  70   \n",
       "3391        dataset/corpus/I╠çYI_0.mp4                  34   \n",
       "3392         dataset/corpus/KULAK_0.mp4                  63   \n",
       "3393         dataset/corpus/SEBEP_0.mp4                  45   \n",
       "3394        dataset/corpus/MECBUR_0.mp4                  47   \n",
       "\n",
       "      num_of_missing_frames_pose  num_of_missing_frames_left_hand  \\\n",
       "0                              0                               51   \n",
       "1                              0                               56   \n",
       "2                              0                               60   \n",
       "3                              0                               41   \n",
       "4                              0                               21   \n",
       "...                          ...                              ...   \n",
       "3390                           0                               48   \n",
       "3391                           0                               34   \n",
       "3392                           0                               63   \n",
       "3393                           0                               21   \n",
       "3394                           0                               47   \n",
       "\n",
       "      num_of_missing_frames_right_hand  \\\n",
       "0                                   10   \n",
       "1                                   30   \n",
       "2                                   32   \n",
       "3                                   19   \n",
       "4                                   22   \n",
       "...                                ...   \n",
       "3390                                49   \n",
       "3391                                18   \n",
       "3392                                27   \n",
       "3393                                17   \n",
       "3394                                23   \n",
       "\n",
       "                                          configuration  \n",
       "0     namespace(MEDIAPIPE_STATIC_IMAGE_MODE=False, M...  \n",
       "1     namespace(MEDIAPIPE_STATIC_IMAGE_MODE=False, M...  \n",
       "2     namespace(MEDIAPIPE_STATIC_IMAGE_MODE=False, M...  \n",
       "3     namespace(MEDIAPIPE_STATIC_IMAGE_MODE=False, M...  \n",
       "4     namespace(MEDIAPIPE_STATIC_IMAGE_MODE=False, M...  \n",
       "...                                                 ...  \n",
       "3390  namespace(MEDIAPIPE_STATIC_IMAGE_MODE=False, M...  \n",
       "3391  namespace(MEDIAPIPE_STATIC_IMAGE_MODE=False, M...  \n",
       "3392  namespace(MEDIAPIPE_STATIC_IMAGE_MODE=False, M...  \n",
       "3393  namespace(MEDIAPIPE_STATIC_IMAGE_MODE=False, M...  \n",
       "3394  namespace(MEDIAPIPE_STATIC_IMAGE_MODE=False, M...  \n",
       "\n",
       "[3395 rows x 6 columns]"
      ]
     },
     "execution_count": 13,
     "metadata": {},
     "output_type": "execute_result"
    }
   ],
   "source": [
    "pd_analyze_results = pd.DataFrame(analyze_results,\n",
    "                                  columns=[\"video_name\", \n",
    "                                           \"num_of_total_frames\", \n",
    "                                           \"num_of_missing_frames_pose\",\n",
    "                                           \"num_of_missing_frames_left_hand\",\n",
    "                                           \"num_of_missing_frames_right_hand\",\n",
    "                                           \"configuration\"\n",
    "                                           ])\n",
    "pd_analyze_results"
   ]
  },
  {
   "cell_type": "code",
   "execution_count": 15,
   "metadata": {},
   "outputs": [],
   "source": [
    "formatted_datetime = datetime.datetime.now().strftime(\"%Y%m%d_%H%M%S\")\n",
    "\n",
    "# Seperator intentionally given as semicolon \";\"\n",
    "# as configuration has comma \",\"\n",
    "pd_analyze_results.to_csv(f\"analyze/{formatted_datetime}.csv\" ,sep=';')\n",
    "\n",
    "# Optional, write configuration as separate file\n",
    "# write_global_config_to_file(f\"analyze/{formatted_datetime}_config.txt\")"
   ]
  },
  {
   "cell_type": "code",
   "execution_count": null,
   "metadata": {},
   "outputs": [],
   "source": []
  },
  {
   "cell_type": "code",
   "execution_count": null,
   "metadata": {},
   "outputs": [],
   "source": []
  }
 ],
 "metadata": {
  "kernelspec": {
   "display_name": "Python 3",
   "language": "python",
   "name": "python3"
  },
  "language_info": {
   "codemirror_mode": {
    "name": "ipython",
    "version": 3
   },
   "file_extension": ".py",
   "mimetype": "text/x-python",
   "name": "python",
   "nbconvert_exporter": "python",
   "pygments_lexer": "ipython3",
   "version": "3.10.8"
  }
 },
 "nbformat": 4,
 "nbformat_minor": 2
}
