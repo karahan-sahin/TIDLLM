{
 "cells": [
  {
   "cell_type": "code",
   "execution_count": null,
   "metadata": {},
   "outputs": [],
   "source": [
    "!pip install -r requirements.txt\n",
    "!pip install opencv-python\n",
    "!pip install mediapipe"
   ]
  },
  {
   "cell_type": "markdown",
   "metadata": {},
   "source": [
    "## Main"
   ]
  },
  {
   "cell_type": "code",
   "execution_count": 1,
   "metadata": {},
   "outputs": [],
   "source": [
    "import torch\n",
    "import torch.nn as nn\n",
    "import torch.optim as optim\n",
    "import torch.nn.functional as F\n",
    "from torch.utils.data import DataLoader\n",
    "from sklearn.model_selection import train_test_split\n",
    "\n",
    "from lib.config import *\n",
    "\n",
    "import vector_quantize_pytorch as vq\n",
    "from lib.encoder.vqvae import VQVAE_POSE\n",
    "from lib.utils.dataset import get_dataset\n",
    "from lib.train.autoencoder import AutoTrainer\n",
    "from lib.data.dataset import PoseDistanceDataset\n",
    "from lib.encoder.cnn import CNN3dEncoder, CNN3dDecoder"
   ]
  },
  {
   "cell_type": "code",
   "execution_count": 2,
   "metadata": {},
   "outputs": [
    {
     "name": "stdout",
     "output_type": "stream",
     "text": [
      "encoder_conv_0 {'in_channels': 2, 'out_channels': 10, 'kernel_size': (1, 10, 10), 'stride': (1, 1, 1), 'padding': (1, 1, 1), 'batch_norm': True, 'activation': 'gelu', 'pooling': 'max', 'pooling_kernel_size': (1, 2, 2), 'pooling_stride': 1}\n",
      "encoder_conv_1 {'in_channels': 10, 'out_channels': 5, 'kernel_size': (1, 10, 10), 'stride': (1, 1, 1), 'padding': (1, 1, 1), 'batch_norm': True, 'activation': 'gelu', 'pooling': 'max', 'pooling_kernel_size': (1, 2, 2), 'pooling_stride': 1}\n",
      "encoder_conv_2 {'in_channels': 5, 'out_channels': 5, 'kernel_size': (1, 10, 10), 'stride': (1, 1, 1), 'padding': (1, 1, 1), 'batch_norm': True, 'activation': 'gelu', 'pooling': 'max', 'pooling_kernel_size': (1, 2, 2), 'pooling_stride': 1}\n"
     ]
    },
    {
     "name": "stdout",
     "output_type": "stream",
     "text": [
      "encoder_linear_0 {'in_features': 403155, 'out_features': 512, 'activation': 'gelu', 'dropout': 0.5}\n",
      "encoder_linear_1 {'in_features': 512, 'out_features': 768, 'activation': 'gelu', 'dropout': 0.5}\n",
      "decoder_linear_out_0: {'in_features': 768, 'out_features': 512, 'activation': 'gelu', 'dropout': 0.5}\n",
      "decoder_linear_out_1: {'in_features': 512, 'out_features': 403155, 'activation': 'gelu', 'dropout': 0.5}\n",
      "decoder_conv_out_0: {'in_channels': 5, 'out_channels': 3, 'kernel_size': (3, 5, 5), 'stride': (1, 1, 1), 'padding': (1, 1, 1), 'output_padding': (1, 1, 1), 'activation': 'gelu', 'pooling': 'avg', 'pooling_kernel_size': (2, 2, 2), 'pooling_stride': 1}\n",
      "decoder_conv_out_1: {'in_channels': 3, 'out_channels': 3, 'kernel_size': (4, 5, 5), 'stride': (1, 2, 2), 'padding': (1, 1, 1), 'output_padding': (1, 1, 1), 'activation': 'gelu', 'pooling_kernel_size': (2, 2, 2), 'pooling_stride': 1}\n",
      "decoder_conv_out_2: {'in_channels': 3, 'out_channels': 2, 'kernel_size': (3, 15, 15), 'stride': (1, 2, 2), 'padding': (1, 1, 1), 'output_padding': (1, 1, 1), 'activation': 'gelu', 'pooling_kernel_size': (2, 2, 2), 'pooling_stride': 1}\n"
     ]
    }
   ],
   "source": [
    "DEVICE = torch.device('cuda:0' if torch.cuda.is_available() else 'cpu')\n",
    "\n",
    "MODEL_ENCODER = CNN3dEncoder(\n",
    "    model_name=GLOBAL_CONFIG.MODEL_ENCODER_NAME,\n",
    "    conv_layers=GLOBAL_CONFIG.MODEL_ENCODER_CONVOLUTIONAL_LAYERS,\n",
    "    linear_layers=GLOBAL_CONFIG.MODEL_ENCODER_LINEAR_LAYERS,\n",
    "    out_channels=GLOBAL_CONFIG.MODEL_ENCODER_OUT_CHANNEL,\n",
    "    input_size=GLOBAL_CONFIG.INPUT_DIM,\n",
    "    output_size=GLOBAL_CONFIG.MODEL_VQ_EMBED_DIM,\n",
    "    channel_size=GLOBAL_CONFIG.INPUT_CHANNELS,\n",
    "    depth_size=GLOBAL_CONFIG.FRAME_WINDOW,\n",
    "    log=False,\n",
    ")\n",
    "\n",
    "MODEL_DECODER = CNN3dDecoder(\n",
    "    model_name=GLOBAL_CONFIG.MODEL_DECODER_NAME,\n",
    "    linear_layers=GLOBAL_CONFIG.MODEL_DECODER_LINEAR_LAYERS,\n",
    "    conv_transpose_layers=GLOBAL_CONFIG.MODEL_DECODER_CONVOLUTIONAL_LAYERS,\n",
    "    in_channels=GLOBAL_CONFIG.MODEL_ENCODER_OUT_CHANNEL,\n",
    "    linear_input=GLOBAL_CONFIG.MODEL_VQ_EMBED_DIM,\n",
    "    input_size=MODEL_ENCODER.output_size, # This is for reshaping into encoder before linear layers\n",
    "    output_size=(GLOBAL_CONFIG.INPUT_CHANNELS, GLOBAL_CONFIG.FRAME_WINDOW, GLOBAL_CONFIG.INPUT_DIM[3], GLOBAL_CONFIG.INPUT_DIM[4]),\n",
    "    log=False\n",
    ")\n",
    "\n",
    "VQVAE = vq.ResidualVQ(\n",
    "    dim=GLOBAL_CONFIG.MODEL_VQ_EMBED_DIM,\n",
    "    codebook_size=GLOBAL_CONFIG.MODEL_VQ_VOCAB,\n",
    "    num_quantizers=GLOBAL_CONFIG.MODEL_VQ_CODEBOOK,\n",
    "    codebook_dim=GLOBAL_CONFIG.MODEL_VQ_EMBED_DIM,\n",
    ")\n",
    "\n",
    "MODEL_VQVAE = VQVAE_POSE(\n",
    "    encoder=MODEL_ENCODER,\n",
    "    decoder=MODEL_DECODER,\n",
    "    vq_vae=VQVAE,\n",
    ")"
   ]
  },
  {
   "cell_type": "code",
   "execution_count": 3,
   "metadata": {},
   "outputs": [
    {
     "name": "stdout",
     "output_type": "stream",
     "text": [
      "Data size: 10\n"
     ]
    },
    {
     "name": "stderr",
     "output_type": "stream",
     "text": [
      "100%|██████████| 8/8 [00:00<00:00, 110.16it/s]\n",
      "100%|██████████| 2/2 [00:00<00:00, 147.23it/s]\n"
     ]
    }
   ],
   "source": [
    "train_dataset, eval_dataset = get_dataset(\n",
    "    DATASET_PATH='dataset/adjacency/',\n",
    "    DATASET_EXTENSION='.npy',\n",
    "    DATASET_ENCODING='utf-8',\n",
    "    DATA_DISTRIBUTION='80-20',\n",
    "    DATASET_CONFIG={\n",
    "        'window': GLOBAL_CONFIG.FRAME_WINDOW,\n",
    "        'depth': GLOBAL_CONFIG.INPUT_CHANNELS\n",
    "    },\n",
    "    RANDOM_STATE=42\n",
    ")"
   ]
  },
  {
   "cell_type": "code",
   "execution_count": 4,
   "metadata": {},
   "outputs": [],
   "source": [
    "EXPERIMENT_PATH = 'experiments'"
   ]
  },
  {
   "cell_type": "code",
   "execution_count": 5,
   "metadata": {},
   "outputs": [],
   "source": [
    "import os\n",
    "from datetime import datetime\n",
    "EXPERIMENT_NAME = str(datetime.now())\n",
    "os.mkdir(f'{EXPERIMENT_PATH}/{EXPERIMENT_NAME}')\n",
    "os.mkdir(f'{EXPERIMENT_PATH}/{EXPERIMENT_NAME}/model')\n",
    "os.mkdir(f'{EXPERIMENT_PATH}/{EXPERIMENT_NAME}/logs')\n",
    "EXPERIMENT_PATH = EXPERIMENT_PATH + '/' + EXPERIMENT_NAME"
   ]
  },
  {
   "cell_type": "code",
   "execution_count": 7,
   "metadata": {},
   "outputs": [
    {
     "name": "stderr",
     "output_type": "stream",
     "text": [
      "\u001b[34m\u001b[1mwandb\u001b[0m: Currently logged in as: \u001b[33mkarahan-sahin\u001b[0m (\u001b[33mboun-pilab\u001b[0m). Use \u001b[1m`wandb login --relogin`\u001b[0m to force relogin\n"
     ]
    },
    {
     "data": {
      "text/html": [
       "wandb version 0.16.6 is available!  To upgrade, please run:\n",
       " $ pip install wandb --upgrade"
      ],
      "text/plain": [
       "<IPython.core.display.HTML object>"
      ]
     },
     "metadata": {},
     "output_type": "display_data"
    },
    {
     "data": {
      "text/html": [
       "Tracking run with wandb version 0.16.4"
      ],
      "text/plain": [
       "<IPython.core.display.HTML object>"
      ]
     },
     "metadata": {},
     "output_type": "display_data"
    },
    {
     "data": {
      "text/html": [
       "Run data is saved locally in <code>/home/kara-nlp/Documents/Repositories/TIDLLM/wandb/run-20240426_161423-0w70hn3l</code>"
      ],
      "text/plain": [
       "<IPython.core.display.HTML object>"
      ]
     },
     "metadata": {},
     "output_type": "display_data"
    },
    {
     "data": {
      "text/html": [
       "Syncing run <strong><a href='https://wandb.ai/boun-pilab/TIDLLM/runs/0w70hn3l' target=\"_blank\">summer-salad-2</a></strong> to <a href='https://wandb.ai/boun-pilab/TIDLLM' target=\"_blank\">Weights & Biases</a> (<a href='https://wandb.me/run' target=\"_blank\">docs</a>)<br/>"
      ],
      "text/plain": [
       "<IPython.core.display.HTML object>"
      ]
     },
     "metadata": {},
     "output_type": "display_data"
    },
    {
     "data": {
      "text/html": [
       " View project at <a href='https://wandb.ai/boun-pilab/TIDLLM' target=\"_blank\">https://wandb.ai/boun-pilab/TIDLLM</a>"
      ],
      "text/plain": [
       "<IPython.core.display.HTML object>"
      ]
     },
     "metadata": {},
     "output_type": "display_data"
    },
    {
     "data": {
      "text/html": [
       " View run at <a href='https://wandb.ai/boun-pilab/TIDLLM/runs/0w70hn3l' target=\"_blank\">https://wandb.ai/boun-pilab/TIDLLM/runs/0w70hn3l</a>"
      ],
      "text/plain": [
       "<IPython.core.display.HTML object>"
      ]
     },
     "metadata": {},
     "output_type": "display_data"
    },
    {
     "name": "stderr",
     "output_type": "stream",
     "text": [
      "  0%|          | 0/100 [00:00<?, ?it/s]"
     ]
    },
    {
     "name": "stdout",
     "output_type": "stream",
     "text": [
      "Epoch: 0\n"
     ]
    },
    {
     "name": "stderr",
     "output_type": "stream",
     "text": []
    },
    {
     "ename": "",
     "evalue": "",
     "output_type": "error",
     "traceback": [
      "\u001b[1;31mThe Kernel crashed while executing code in the current cell or a previous cell. \n",
      "\u001b[1;31mPlease review the code in the cell(s) to identify a possible cause of the failure. \n",
      "\u001b[1;31mClick <a href='https://aka.ms/vscodeJupyterKernelCrash'>here</a> for more info. \n",
      "\u001b[1;31mView Jupyter <a href='command:jupyter.viewOutput'>log</a> for further details."
     ]
    }
   ],
   "source": [
    "trainer = AutoTrainer(\n",
    "    model=MODEL_VQVAE,\n",
    "    train_dataset=train_dataset, \n",
    "    eval_dataset=eval_dataset,\n",
    "    batch_size=GLOBAL_CONFIG.BATCH_SIZE,\n",
    "    epochs=GLOBAL_CONFIG.NUM_EPOCHS,\n",
    "    learning_rate=GLOBAL_CONFIG.LEARNING_RATE,\n",
    "    step_size=GLOBAL_CONFIG.STEP_SIZE,\n",
    "    gamma=GLOBAL_CONFIG.GAMMA,\n",
    "    device='cpu',\n",
    "    start_epoch=0,\n",
    "    num_codebooks=GLOBAL_CONFIG.MODEL_VQ_CODEBOOK,\n",
    "    model_path=f'{EXPERIMENT_PATH}/model/model-0.pt',\n",
    "    log_dir=f'{EXPERIMENT_PATH}/logs/logs.json'\n",
    ")\n",
    "\n",
    "trainer.train()"
   ]
  },
  {
   "cell_type": "code",
   "execution_count": null,
   "metadata": {},
   "outputs": [],
   "source": [
    "# Infer model out\n",
    "from lib.utils.infer import *\n",
    "\n",
    "df = get_quantization(MODEL_VQVAE, eval_dataset)\n",
    "\n",
    "dump_quantization(\n",
    "    df, \n",
    "    num_quantizers=GLOBAL_CONFIG.MODEL_VQ_CODEBOOK, \n",
    "    video_path='dataset/corpus', \n",
    "    quantization_path='analyze/quantization'\n",
    ")"
   ]
  },
  {
   "cell_type": "markdown",
   "metadata": {},
   "source": [
    "### 1. Pose Inference"
   ]
  },
  {
   "cell_type": "code",
   "execution_count": 2,
   "metadata": {},
   "outputs": [
    {
     "name": "stderr",
     "output_type": "stream",
     "text": [
      "libEGL warning: MESA-LOADER: failed to open swrast: /usr/lib/dri/swrast_dri.so: cannot open shared object file: No such file or directory (search paths /usr/lib/x86_64-linux-gnu/dri:\\$${ORIGIN}/dri:/usr/lib/dri, suffix _dri)\n",
      "\n",
      "libEGL warning: MESA-LOADER: failed to open swrast: /usr/lib/dri/swrast_dri.so: cannot open shared object file: No such file or directory (search paths /usr/lib/x86_64-linux-gnu/dri:\\$${ORIGIN}/dri:/usr/lib/dri, suffix _dri)\n",
      "\n",
      "libEGL warning: MESA-LOADER: failed to open swrast: /usr/lib/dri/swrast_dri.so: cannot open shared object file: No such file or directory (search paths /usr/lib/x86_64-linux-gnu/dri:\\$${ORIGIN}/dri:/usr/lib/dri, suffix _dri)\n",
      "\n",
      "libEGL warning: MESA-LOADER: failed to open swrast: /usr/lib/dri/swrast_dri.so: cannot open shared object file: No such file or directory (search paths /usr/lib/x86_64-linux-gnu/dri:\\$${ORIGIN}/dri:/usr/lib/dri, suffix _dri)\n",
      "\n",
      "libEGL warning: MESA-LOADER: failed to open swrast: /usr/lib/dri/swrast_dri.so: cannot open shared object file: No such file or directory (search paths /usr/lib/x86_64-linux-gnu/dri:\\$${ORIGIN}/dri:/usr/lib/dri, suffix _dri)\n",
      "\n",
      "libEGL warning: MESA-LOADER: failed to open swrast: /usr/lib/dri/swrast_dri.so: cannot open shared object file: No such file or directory (search paths /usr/lib/x86_64-linux-gnu/dri:\\$${ORIGIN}/dri:/usr/lib/dri, suffix _dri)\n",
      "\n",
      "libEGL warning: MESA-LOADER: failed to open swrast: /usr/lib/dri/swrast_dri.so: cannot open shared object file: No such file or directory (search paths /usr/lib/x86_64-linux-gnu/dri:\\$${ORIGIN}/dri:/usr/lib/dri, suffix _dri)\n",
      "\n",
      "libEGL warning: MESA-LOADER: failed to open swrast: /usr/lib/dri/swrast_dri.so: cannot open shared object file: No such file or directory (search paths /usr/lib/x86_64-linux-gnu/dri:\\$${ORIGIN}/dri:/usr/lib/dri, suffix _dri)\n",
      "\n",
      "libEGL warning: MESA-LOADER: failed to open swrast: /usr/lib/dri/swrast_dri.so: cannot open shared object file: No such file or directory (search paths /usr/lib/x86_64-linux-gnu/dri:\\$${ORIGIN}/dri:/usr/lib/dri, suffix _dri)\n",
      "\n",
      "libEGL warning: MESA-LOADER: failed to open swrast: /usr/lib/dri/swrast_dri.so: cannot open shared object file: No such file or directory (search paths /usr/lib/x86_64-linux-gnu/dri:\\$${ORIGIN}/dri:/usr/lib/dri, suffix _dri)\n",
      "\n",
      "libEGL warning: MESA-LOADER: failed to open swrast: /usr/lib/dri/swrast_dri.so: cannot open shared object file: No such file or directory (search paths /usr/lib/x86_64-linux-gnu/dri:\\$${ORIGIN}/dri:/usr/lib/dri, suffix _dri)\n",
      "\n",
      "libEGL warning: MESA-LOADER: failed to open swrast: /usr/lib/dri/swrast_dri.so: cannot open shared object file: No such file or directory (search paths /usr/lib/x86_64-linux-gnu/dri:\\$${ORIGIN}/dri:/usr/lib/dri, suffix _dri)\n",
      "\n",
      "libEGL warning: MESA-LOADER: failed to open swrast: /usr/lib/dri/swrast_dri.so: cannot open shared object file: No such file or directory (search paths /usr/lib/x86_64-linux-gnu/dri:\\$${ORIGIN}/dri:/usr/lib/dri, suffix _dri)\n",
      "\n",
      "INFO: Created TensorFlow Lite XNNPACK delegate for CPU.\n"
     ]
    }
   ],
   "source": [
    "SAMPLE = 'dataset/corpus/ABARTMAK_0.mp4'\n",
    "SAMPLE_POSE = get_pose_estimation(SAMPLE)"
   ]
  },
  {
   "cell_type": "code",
   "execution_count": 3,
   "metadata": {},
   "outputs": [],
   "source": [
    "import pandas as pd\n",
    "\n",
    "def get_pose_array(SAMPLE_POSE):\n",
    "    \"\"\"Converts the pose data into a numpy array\n",
    "    \"\"\"\n",
    "\n",
    "    POSE_RAW = pd.DataFrame(SAMPLE_POSE['pose'])\n",
    "    RIGHT_HAND_RAW = pd.DataFrame(SAMPLE_POSE['right'])\n",
    "    LEFT_HAND_RAW = pd.DataFrame(SAMPLE_POSE['left'])\n",
    "\n",
    "    POSE_DF = {}\n",
    "\n",
    "    for col in POSE_RAW.columns:\n",
    "        POSE_DF[ 'POSE_' + col + '_X'] = POSE_RAW[col].apply(lambda x: x[0])\n",
    "        POSE_DF[ 'POSE_' + col + '_Y'] = POSE_RAW[col].apply(lambda x: x[1])\n",
    "        POSE_DF[ 'POSE_' + col + '_Z'] = POSE_RAW[col].apply(lambda x: x[2])\n",
    "        # POSE_DF[col + '_viz'] = POSE_RAW[col].apply(lambda x: x[3])\n",
    "\n",
    "    for col in RIGHT_HAND_RAW.columns:\n",
    "        POSE_DF[ 'RIGHT_' + col + '_X' ] = RIGHT_HAND_RAW[col].apply(lambda x: x[0])\n",
    "        POSE_DF[ 'RIGHT_' + col + '_Y' ] = RIGHT_HAND_RAW[col].apply(lambda x: x[1])\n",
    "        POSE_DF[ 'RIGHT_' + col + '_Z' ] = RIGHT_HAND_RAW[col].apply(lambda x: x[2])\n",
    "        # POSE_DF['RIGHT_' + col + '_viz'] = RIGHT_HAND_RAW[col].apply(lambda x: x[3])\n",
    "\n",
    "    for col in LEFT_HAND_RAW.columns:\n",
    "        POSE_DF[ 'LEFT_' + col + '_X' ] = LEFT_HAND_RAW[col].apply(lambda x: x[0])\n",
    "        POSE_DF[ 'LEFT_' + col + '_Y' ] = LEFT_HAND_RAW[col].apply(lambda x: x[1])\n",
    "        POSE_DF[ 'LEFT_' + col + '_Z' ] = LEFT_HAND_RAW[col].apply(lambda x: x[2])\n",
    "        # POSE_DF['LEFT_' + col + '_viz'] = LEFT_HAND_RAW[col].apply(lambda x: x[3])\n",
    "\n",
    "    POSE_DF = pd.DataFrame(POSE_DF)\n",
    "\n",
    "    return POSE_DF"
   ]
  },
  {
   "cell_type": "code",
   "execution_count": 4,
   "metadata": {},
   "outputs": [],
   "source": [
    "POSE_DF = get_pose_array(SAMPLE_POSE[0])"
   ]
  },
  {
   "cell_type": "code",
   "execution_count": 6,
   "metadata": {},
   "outputs": [
    {
     "data": {
      "text/plain": [
       "['POSE_NOSE_X',\n",
       " 'POSE_NOSE_Y',\n",
       " 'POSE_NOSE_Z',\n",
       " 'POSE_LEFT_EYE_INNER_X',\n",
       " 'POSE_LEFT_EYE_INNER_Y',\n",
       " 'POSE_LEFT_EYE_INNER_Z',\n",
       " 'POSE_LEFT_EYE_X',\n",
       " 'POSE_LEFT_EYE_Y',\n",
       " 'POSE_LEFT_EYE_Z',\n",
       " 'POSE_LEFT_EYE_OUTER_X',\n",
       " 'POSE_LEFT_EYE_OUTER_Y',\n",
       " 'POSE_LEFT_EYE_OUTER_Z',\n",
       " 'POSE_RIGHT_EYE_INNER_X',\n",
       " 'POSE_RIGHT_EYE_INNER_Y',\n",
       " 'POSE_RIGHT_EYE_INNER_Z',\n",
       " 'POSE_RIGHT_EYE_X',\n",
       " 'POSE_RIGHT_EYE_Y',\n",
       " 'POSE_RIGHT_EYE_Z',\n",
       " 'POSE_RIGHT_EYE_OUTER_X',\n",
       " 'POSE_RIGHT_EYE_OUTER_Y',\n",
       " 'POSE_RIGHT_EYE_OUTER_Z',\n",
       " 'POSE_LEFT_EAR_X',\n",
       " 'POSE_LEFT_EAR_Y',\n",
       " 'POSE_LEFT_EAR_Z',\n",
       " 'POSE_RIGHT_EAR_X',\n",
       " 'POSE_RIGHT_EAR_Y',\n",
       " 'POSE_RIGHT_EAR_Z',\n",
       " 'POSE_MOUTH_LEFT_X',\n",
       " 'POSE_MOUTH_LEFT_Y',\n",
       " 'POSE_MOUTH_LEFT_Z',\n",
       " 'POSE_MOUTH_RIGHT_X',\n",
       " 'POSE_MOUTH_RIGHT_Y',\n",
       " 'POSE_MOUTH_RIGHT_Z',\n",
       " 'POSE_LEFT_SHOULDER_X',\n",
       " 'POSE_LEFT_SHOULDER_Y',\n",
       " 'POSE_LEFT_SHOULDER_Z',\n",
       " 'POSE_RIGHT_SHOULDER_X',\n",
       " 'POSE_RIGHT_SHOULDER_Y',\n",
       " 'POSE_RIGHT_SHOULDER_Z',\n",
       " 'POSE_LEFT_ELBOW_X',\n",
       " 'POSE_LEFT_ELBOW_Y',\n",
       " 'POSE_LEFT_ELBOW_Z',\n",
       " 'POSE_RIGHT_ELBOW_X',\n",
       " 'POSE_RIGHT_ELBOW_Y',\n",
       " 'POSE_RIGHT_ELBOW_Z',\n",
       " 'POSE_LEFT_WRIST_X',\n",
       " 'POSE_LEFT_WRIST_Y',\n",
       " 'POSE_LEFT_WRIST_Z',\n",
       " 'POSE_RIGHT_WRIST_X',\n",
       " 'POSE_RIGHT_WRIST_Y',\n",
       " 'POSE_RIGHT_WRIST_Z',\n",
       " 'POSE_LEFT_PINKY_X',\n",
       " 'POSE_LEFT_PINKY_Y',\n",
       " 'POSE_LEFT_PINKY_Z',\n",
       " 'POSE_RIGHT_PINKY_X',\n",
       " 'POSE_RIGHT_PINKY_Y',\n",
       " 'POSE_RIGHT_PINKY_Z',\n",
       " 'POSE_LEFT_INDEX_X',\n",
       " 'POSE_LEFT_INDEX_Y',\n",
       " 'POSE_LEFT_INDEX_Z',\n",
       " 'POSE_RIGHT_INDEX_X',\n",
       " 'POSE_RIGHT_INDEX_Y',\n",
       " 'POSE_RIGHT_INDEX_Z',\n",
       " 'POSE_LEFT_THUMB_X',\n",
       " 'POSE_LEFT_THUMB_Y',\n",
       " 'POSE_LEFT_THUMB_Z',\n",
       " 'POSE_RIGHT_THUMB_X',\n",
       " 'POSE_RIGHT_THUMB_Y',\n",
       " 'POSE_RIGHT_THUMB_Z',\n",
       " 'POSE_LEFT_HIP_X',\n",
       " 'POSE_LEFT_HIP_Y',\n",
       " 'POSE_LEFT_HIP_Z',\n",
       " 'POSE_RIGHT_HIP_X',\n",
       " 'POSE_RIGHT_HIP_Y',\n",
       " 'POSE_RIGHT_HIP_Z',\n",
       " 'POSE_LEFT_KNEE_X',\n",
       " 'POSE_LEFT_KNEE_Y',\n",
       " 'POSE_LEFT_KNEE_Z',\n",
       " 'POSE_RIGHT_KNEE_X',\n",
       " 'POSE_RIGHT_KNEE_Y',\n",
       " 'POSE_RIGHT_KNEE_Z',\n",
       " 'POSE_LEFT_ANKLE_X',\n",
       " 'POSE_LEFT_ANKLE_Y',\n",
       " 'POSE_LEFT_ANKLE_Z',\n",
       " 'POSE_RIGHT_ANKLE_X',\n",
       " 'POSE_RIGHT_ANKLE_Y',\n",
       " 'POSE_RIGHT_ANKLE_Z',\n",
       " 'POSE_LEFT_HEEL_X',\n",
       " 'POSE_LEFT_HEEL_Y',\n",
       " 'POSE_LEFT_HEEL_Z',\n",
       " 'POSE_RIGHT_HEEL_X',\n",
       " 'POSE_RIGHT_HEEL_Y',\n",
       " 'POSE_RIGHT_HEEL_Z',\n",
       " 'POSE_LEFT_FOOT_INDEX_X',\n",
       " 'POSE_LEFT_FOOT_INDEX_Y',\n",
       " 'POSE_LEFT_FOOT_INDEX_Z',\n",
       " 'POSE_RIGHT_FOOT_INDEX_X',\n",
       " 'POSE_RIGHT_FOOT_INDEX_Y',\n",
       " 'POSE_RIGHT_FOOT_INDEX_Z',\n",
       " 'RIGHT_WRIST_X',\n",
       " 'RIGHT_WRIST_Y',\n",
       " 'RIGHT_WRIST_Z',\n",
       " 'RIGHT_THUMB_CMC_X',\n",
       " 'RIGHT_THUMB_CMC_Y',\n",
       " 'RIGHT_THUMB_CMC_Z',\n",
       " 'RIGHT_THUMB_MCP_X',\n",
       " 'RIGHT_THUMB_MCP_Y',\n",
       " 'RIGHT_THUMB_MCP_Z',\n",
       " 'RIGHT_THUMB_IP_X',\n",
       " 'RIGHT_THUMB_IP_Y',\n",
       " 'RIGHT_THUMB_IP_Z',\n",
       " 'RIGHT_THUMB_TIP_X',\n",
       " 'RIGHT_THUMB_TIP_Y',\n",
       " 'RIGHT_THUMB_TIP_Z',\n",
       " 'RIGHT_INDEX_FINGER_MCP_X',\n",
       " 'RIGHT_INDEX_FINGER_MCP_Y',\n",
       " 'RIGHT_INDEX_FINGER_MCP_Z',\n",
       " 'RIGHT_INDEX_FINGER_PIP_X',\n",
       " 'RIGHT_INDEX_FINGER_PIP_Y',\n",
       " 'RIGHT_INDEX_FINGER_PIP_Z',\n",
       " 'RIGHT_INDEX_FINGER_DIP_X',\n",
       " 'RIGHT_INDEX_FINGER_DIP_Y',\n",
       " 'RIGHT_INDEX_FINGER_DIP_Z',\n",
       " 'RIGHT_INDEX_FINGER_TIP_X',\n",
       " 'RIGHT_INDEX_FINGER_TIP_Y',\n",
       " 'RIGHT_INDEX_FINGER_TIP_Z',\n",
       " 'RIGHT_MIDDLE_FINGER_MCP_X',\n",
       " 'RIGHT_MIDDLE_FINGER_MCP_Y',\n",
       " 'RIGHT_MIDDLE_FINGER_MCP_Z',\n",
       " 'RIGHT_MIDDLE_FINGER_PIP_X',\n",
       " 'RIGHT_MIDDLE_FINGER_PIP_Y',\n",
       " 'RIGHT_MIDDLE_FINGER_PIP_Z',\n",
       " 'RIGHT_MIDDLE_FINGER_DIP_X',\n",
       " 'RIGHT_MIDDLE_FINGER_DIP_Y',\n",
       " 'RIGHT_MIDDLE_FINGER_DIP_Z',\n",
       " 'RIGHT_MIDDLE_FINGER_TIP_X',\n",
       " 'RIGHT_MIDDLE_FINGER_TIP_Y',\n",
       " 'RIGHT_MIDDLE_FINGER_TIP_Z',\n",
       " 'RIGHT_RING_FINGER_MCP_X',\n",
       " 'RIGHT_RING_FINGER_MCP_Y',\n",
       " 'RIGHT_RING_FINGER_MCP_Z',\n",
       " 'RIGHT_RING_FINGER_PIP_X',\n",
       " 'RIGHT_RING_FINGER_PIP_Y',\n",
       " 'RIGHT_RING_FINGER_PIP_Z',\n",
       " 'RIGHT_RING_FINGER_DIP_X',\n",
       " 'RIGHT_RING_FINGER_DIP_Y',\n",
       " 'RIGHT_RING_FINGER_DIP_Z',\n",
       " 'RIGHT_RING_FINGER_TIP_X',\n",
       " 'RIGHT_RING_FINGER_TIP_Y',\n",
       " 'RIGHT_RING_FINGER_TIP_Z',\n",
       " 'RIGHT_PINKY_MCP_X',\n",
       " 'RIGHT_PINKY_MCP_Y',\n",
       " 'RIGHT_PINKY_MCP_Z',\n",
       " 'RIGHT_PINKY_PIP_X',\n",
       " 'RIGHT_PINKY_PIP_Y',\n",
       " 'RIGHT_PINKY_PIP_Z',\n",
       " 'RIGHT_PINKY_DIP_X',\n",
       " 'RIGHT_PINKY_DIP_Y',\n",
       " 'RIGHT_PINKY_DIP_Z',\n",
       " 'RIGHT_PINKY_TIP_X',\n",
       " 'RIGHT_PINKY_TIP_Y',\n",
       " 'RIGHT_PINKY_TIP_Z',\n",
       " 'LEFT_WRIST_X',\n",
       " 'LEFT_WRIST_Y',\n",
       " 'LEFT_WRIST_Z',\n",
       " 'LEFT_THUMB_CMC_X',\n",
       " 'LEFT_THUMB_CMC_Y',\n",
       " 'LEFT_THUMB_CMC_Z',\n",
       " 'LEFT_THUMB_MCP_X',\n",
       " 'LEFT_THUMB_MCP_Y',\n",
       " 'LEFT_THUMB_MCP_Z',\n",
       " 'LEFT_THUMB_IP_X',\n",
       " 'LEFT_THUMB_IP_Y',\n",
       " 'LEFT_THUMB_IP_Z',\n",
       " 'LEFT_THUMB_TIP_X',\n",
       " 'LEFT_THUMB_TIP_Y',\n",
       " 'LEFT_THUMB_TIP_Z',\n",
       " 'LEFT_INDEX_FINGER_MCP_X',\n",
       " 'LEFT_INDEX_FINGER_MCP_Y',\n",
       " 'LEFT_INDEX_FINGER_MCP_Z',\n",
       " 'LEFT_INDEX_FINGER_PIP_X',\n",
       " 'LEFT_INDEX_FINGER_PIP_Y',\n",
       " 'LEFT_INDEX_FINGER_PIP_Z',\n",
       " 'LEFT_INDEX_FINGER_DIP_X',\n",
       " 'LEFT_INDEX_FINGER_DIP_Y',\n",
       " 'LEFT_INDEX_FINGER_DIP_Z',\n",
       " 'LEFT_INDEX_FINGER_TIP_X',\n",
       " 'LEFT_INDEX_FINGER_TIP_Y',\n",
       " 'LEFT_INDEX_FINGER_TIP_Z',\n",
       " 'LEFT_MIDDLE_FINGER_MCP_X',\n",
       " 'LEFT_MIDDLE_FINGER_MCP_Y',\n",
       " 'LEFT_MIDDLE_FINGER_MCP_Z',\n",
       " 'LEFT_MIDDLE_FINGER_PIP_X',\n",
       " 'LEFT_MIDDLE_FINGER_PIP_Y',\n",
       " 'LEFT_MIDDLE_FINGER_PIP_Z',\n",
       " 'LEFT_MIDDLE_FINGER_DIP_X',\n",
       " 'LEFT_MIDDLE_FINGER_DIP_Y',\n",
       " 'LEFT_MIDDLE_FINGER_DIP_Z',\n",
       " 'LEFT_MIDDLE_FINGER_TIP_X',\n",
       " 'LEFT_MIDDLE_FINGER_TIP_Y',\n",
       " 'LEFT_MIDDLE_FINGER_TIP_Z',\n",
       " 'LEFT_RING_FINGER_MCP_X',\n",
       " 'LEFT_RING_FINGER_MCP_Y',\n",
       " 'LEFT_RING_FINGER_MCP_Z',\n",
       " 'LEFT_RING_FINGER_PIP_X',\n",
       " 'LEFT_RING_FINGER_PIP_Y',\n",
       " 'LEFT_RING_FINGER_PIP_Z',\n",
       " 'LEFT_RING_FINGER_DIP_X',\n",
       " 'LEFT_RING_FINGER_DIP_Y',\n",
       " 'LEFT_RING_FINGER_DIP_Z',\n",
       " 'LEFT_RING_FINGER_TIP_X',\n",
       " 'LEFT_RING_FINGER_TIP_Y',\n",
       " 'LEFT_RING_FINGER_TIP_Z',\n",
       " 'LEFT_PINKY_MCP_X',\n",
       " 'LEFT_PINKY_MCP_Y',\n",
       " 'LEFT_PINKY_MCP_Z',\n",
       " 'LEFT_PINKY_PIP_X',\n",
       " 'LEFT_PINKY_PIP_Y',\n",
       " 'LEFT_PINKY_PIP_Z',\n",
       " 'LEFT_PINKY_DIP_X',\n",
       " 'LEFT_PINKY_DIP_Y',\n",
       " 'LEFT_PINKY_DIP_Z',\n",
       " 'LEFT_PINKY_TIP_X',\n",
       " 'LEFT_PINKY_TIP_Y',\n",
       " 'LEFT_PINKY_TIP_Z']"
      ]
     },
     "execution_count": 6,
     "metadata": {},
     "output_type": "execute_result"
    }
   ],
   "source": [
    "POSE_DF.columns.to_list()"
   ]
  },
  {
   "cell_type": "code",
   "execution_count": 11,
   "metadata": {},
   "outputs": [],
   "source": [
    "POSE_DF = POSE_DF.replace(np.nan,0)"
   ]
  },
  {
   "cell_type": "code",
   "execution_count": 29,
   "metadata": {},
   "outputs": [],
   "source": [
    "def get_matrices(POSE_DF):\n",
    "    \"\"\"Converts the pose data into a numpy array of distance matrices\n",
    "    \"\"\"\n",
    "    x_cols = [col for col in POSE_DF.columns if col.endswith('_X')]\n",
    "    y_cols = [col for col in POSE_DF.columns if col.endswith('_Y')]\n",
    "    z_cols = [col for col in POSE_DF.columns if col.endswith('_Z')]\n",
    "\n",
    "    frames = []\n",
    "    for i in range(1, POSE_DF.shape[0]):\n",
    "        x_row = POSE_DF[x_cols].iloc[i].to_numpy()\n",
    "        y_row = POSE_DF[y_cols].iloc[i].to_numpy()\n",
    "        z_row = POSE_DF[z_cols].iloc[i].to_numpy()\n",
    "\n",
    "        def get_difference_matrix(row):\n",
    "            m, n = np.meshgrid(row, row)\n",
    "            out = m-n\n",
    "            return out\n",
    "\n",
    "        x_diff = get_difference_matrix(x_row)\n",
    "        y_diff = get_difference_matrix(y_row)\n",
    "        z_diff = get_difference_matrix(z_row)\n",
    "\n",
    "        frame = np.stack([x_diff, y_diff, z_diff], axis=2)\n",
    "        frames.append(frame)\n",
    "\n",
    "    frames = np.stack(frames, axis=0)\n",
    "    return frames"
   ]
  },
  {
   "cell_type": "code",
   "execution_count": 35,
   "metadata": {},
   "outputs": [
    {
     "data": {
      "application/vnd.jupyter.widget-view+json": {
       "model_id": "6e7758236322477884eb532628e05087",
       "version_major": 2,
       "version_minor": 0
      },
      "text/plain": [
       "  0%|          | 0/3395 [00:00<?, ?it/s]"
      ]
     },
     "metadata": {},
     "output_type": "display_data"
    }
   ],
   "source": [
    "OUT_PATH = 'dataset/adjacency'\n",
    "POSE_PATH = 'dataset/pose'\n",
    "\n",
    "for file in tqdm(glob.glob('dataset/pose/*.npy')):\n",
    "    if os.path.exists(os.path.join(OUT_PATH, os.path.basename(file).replace('.mp4', '.npy'))):\n",
    "        # print('Skipping', file)\n",
    "        continue\n",
    "    with open(file, 'rb') as f:\n",
    "        array = np.load(f, allow_pickle=True)\n",
    "        # replace nan with 0 \n",
    "        array = np.nan_to_num(array)\n",
    "    pose_df = pd.DataFrame(array, columns=POSE_DF.columns)\n",
    "    pose_df = pose_df.replace(np.nan,0)\n",
    "    MATRICES = get_matrices(pose_df)\n",
    "    # print(MATRICES.shape)\n",
    "    np.save(os.path.join(OUT_PATH, os.path.basename(file).replace('.mp4', '.npy')), MATRICES)\n"
   ]
  },
  {
   "cell_type": "code",
   "execution_count": 37,
   "metadata": {},
   "outputs": [
    {
     "name": "stdout",
     "output_type": "stream",
     "text": [
      "|                           |   POSE_NOSE_X |   POSE_LEFT_EYE_INNER_X |   POSE_LEFT_EYE_X |   POSE_LEFT_EYE_OUTER_X |   POSE_RIGHT_EYE_INNER_X |   POSE_RIGHT_EYE_X |   POSE_RIGHT_EYE_OUTER_X |   POSE_LEFT_EAR_X |   POSE_RIGHT_EAR_X |   POSE_MOUTH_LEFT_X |   POSE_MOUTH_RIGHT_X |   POSE_LEFT_SHOULDER_X |   POSE_RIGHT_SHOULDER_X |   POSE_LEFT_ELBOW_X |   POSE_RIGHT_ELBOW_X |   POSE_LEFT_WRIST_X |   POSE_RIGHT_WRIST_X |   POSE_LEFT_PINKY_X |   POSE_RIGHT_PINKY_X |   POSE_LEFT_INDEX_X |   POSE_RIGHT_INDEX_X |   POSE_LEFT_THUMB_X |   POSE_RIGHT_THUMB_X |   POSE_LEFT_HIP_X |   POSE_RIGHT_HIP_X |   POSE_LEFT_KNEE_X |   POSE_RIGHT_KNEE_X |   POSE_LEFT_ANKLE_X |   POSE_RIGHT_ANKLE_X |   POSE_LEFT_HEEL_X |   POSE_RIGHT_HEEL_X |   POSE_LEFT_FOOT_INDEX_X |   POSE_RIGHT_FOOT_INDEX_X |   RIGHT_WRIST_X |   RIGHT_THUMB_CMC_X |   RIGHT_THUMB_MCP_X |   RIGHT_THUMB_IP_X |   RIGHT_THUMB_TIP_X |   RIGHT_INDEX_FINGER_MCP_X |   RIGHT_INDEX_FINGER_PIP_X |   RIGHT_INDEX_FINGER_DIP_X |   RIGHT_INDEX_FINGER_TIP_X |   RIGHT_MIDDLE_FINGER_MCP_X |   RIGHT_MIDDLE_FINGER_PIP_X |   RIGHT_MIDDLE_FINGER_DIP_X |   RIGHT_MIDDLE_FINGER_TIP_X |   RIGHT_RING_FINGER_MCP_X |   RIGHT_RING_FINGER_PIP_X |   RIGHT_RING_FINGER_DIP_X |   RIGHT_RING_FINGER_TIP_X |   RIGHT_PINKY_MCP_X |   RIGHT_PINKY_PIP_X |   RIGHT_PINKY_DIP_X |   RIGHT_PINKY_TIP_X |   LEFT_WRIST_X |   LEFT_THUMB_CMC_X |   LEFT_THUMB_MCP_X |   LEFT_THUMB_IP_X |   LEFT_THUMB_TIP_X |   LEFT_INDEX_FINGER_MCP_X |   LEFT_INDEX_FINGER_PIP_X |   LEFT_INDEX_FINGER_DIP_X |   LEFT_INDEX_FINGER_TIP_X |   LEFT_MIDDLE_FINGER_MCP_X |   LEFT_MIDDLE_FINGER_PIP_X |   LEFT_MIDDLE_FINGER_DIP_X |   LEFT_MIDDLE_FINGER_TIP_X |   LEFT_RING_FINGER_MCP_X |   LEFT_RING_FINGER_PIP_X |   LEFT_RING_FINGER_DIP_X |   LEFT_RING_FINGER_TIP_X |   LEFT_PINKY_MCP_X |   LEFT_PINKY_PIP_X |   LEFT_PINKY_DIP_X |   LEFT_PINKY_TIP_X |\n",
      "|:--------------------------|--------------:|------------------------:|------------------:|------------------------:|-------------------------:|-------------------:|-------------------------:|------------------:|-------------------:|--------------------:|---------------------:|-----------------------:|------------------------:|--------------------:|---------------------:|--------------------:|---------------------:|--------------------:|---------------------:|--------------------:|---------------------:|--------------------:|---------------------:|------------------:|-------------------:|-------------------:|--------------------:|--------------------:|---------------------:|-------------------:|--------------------:|-------------------------:|--------------------------:|----------------:|--------------------:|--------------------:|-------------------:|--------------------:|---------------------------:|---------------------------:|---------------------------:|---------------------------:|----------------------------:|----------------------------:|----------------------------:|----------------------------:|--------------------------:|--------------------------:|--------------------------:|--------------------------:|--------------------:|--------------------:|--------------------:|--------------------:|---------------:|-------------------:|-------------------:|------------------:|-------------------:|--------------------------:|--------------------------:|--------------------------:|--------------------------:|---------------------------:|---------------------------:|---------------------------:|---------------------------:|-------------------------:|-------------------------:|-------------------------:|-------------------------:|-------------------:|-------------------:|-------------------:|-------------------:|\n",
      "| POSE_NOSE_X               |     0         |              0.0173045  |        0.0290639  |              0.0383875  |               -0.0164369 |        -0.0269316  |              -0.0341234  |        0.0509974  |        -0.0423598  |          0.0238106  |          -0.0191628  |             0.133716   |             -0.115182   |           0.174374  |           -0.164387  |          0.137258   |          -0.142099   |          0.138955   |          -0.145177   |          0.11474    |          -0.110894   |          0.10905    |          -0.107233   |        0.0772672  |       -0.0719494   |         0.075448   |          -0.089149  |          0.0681406  |          -0.0774805  |         0.0669985  |         -0.0737248  |               0.043395   |              -0.0722692   |       -0.482747 |           -0.482747 |           -0.482747 |          -0.482747 |           -0.482747 |                  -0.482747 |                  -0.482747 |                  -0.482747 |                  -0.482747 |                   -0.482747 |                   -0.482747 |                   -0.482747 |                   -0.482747 |                 -0.482747 |                 -0.482747 |                 -0.482747 |                 -0.482747 |           -0.482747 |           -0.482747 |           -0.482747 |           -0.482747 |      -0.482747 |          -0.482747 |          -0.482747 |         -0.482747 |          -0.482747 |                 -0.482747 |                 -0.482747 |                 -0.482747 |                 -0.482747 |                  -0.482747 |                  -0.482747 |                  -0.482747 |                  -0.482747 |                -0.482747 |                -0.482747 |                -0.482747 |                -0.482747 |          -0.482747 |          -0.482747 |          -0.482747 |          -0.482747 |\n",
      "| POSE_LEFT_EYE_INNER_X     |    -0.0173045 |              0          |        0.0117594  |              0.0210831  |               -0.0337414 |        -0.044236   |              -0.0514279  |        0.0336929  |        -0.0596643  |          0.00650609 |          -0.0364673  |             0.116411   |             -0.132486   |           0.15707   |           -0.181692  |          0.119953   |          -0.159404   |          0.121651   |          -0.162482   |          0.097436   |          -0.128199   |          0.0917451  |          -0.124537   |        0.0599627  |       -0.0892539   |         0.0581435  |          -0.106453  |          0.0508361  |          -0.094785   |         0.049694   |         -0.0910293  |               0.0260906  |              -0.0895737   |       -0.500052 |           -0.500052 |           -0.500052 |          -0.500052 |           -0.500052 |                  -0.500052 |                  -0.500052 |                  -0.500052 |                  -0.500052 |                   -0.500052 |                   -0.500052 |                   -0.500052 |                   -0.500052 |                 -0.500052 |                 -0.500052 |                 -0.500052 |                 -0.500052 |           -0.500052 |           -0.500052 |           -0.500052 |           -0.500052 |      -0.500052 |          -0.500052 |          -0.500052 |         -0.500052 |          -0.500052 |                 -0.500052 |                 -0.500052 |                 -0.500052 |                 -0.500052 |                  -0.500052 |                  -0.500052 |                  -0.500052 |                  -0.500052 |                -0.500052 |                -0.500052 |                -0.500052 |                -0.500052 |          -0.500052 |          -0.500052 |          -0.500052 |          -0.500052 |\n",
      "| POSE_LEFT_EYE_X           |    -0.0290639 |             -0.0117594  |        0          |              0.00932366 |               -0.0455008 |        -0.0559954  |              -0.0631873  |        0.0219335  |        -0.0714237  |         -0.00525331 |          -0.0482267  |             0.104652   |             -0.144245   |           0.145311  |           -0.193451  |          0.108194   |          -0.171163   |          0.109892   |          -0.174241   |          0.0856766  |          -0.139958   |          0.0799857  |          -0.136297   |        0.0482033  |       -0.101013    |         0.0463841  |          -0.118213  |          0.0390767  |          -0.106544   |         0.0379346  |         -0.102789   |               0.0143312  |              -0.101333    |       -0.511811 |           -0.511811 |           -0.511811 |          -0.511811 |           -0.511811 |                  -0.511811 |                  -0.511811 |                  -0.511811 |                  -0.511811 |                   -0.511811 |                   -0.511811 |                   -0.511811 |                   -0.511811 |                 -0.511811 |                 -0.511811 |                 -0.511811 |                 -0.511811 |           -0.511811 |           -0.511811 |           -0.511811 |           -0.511811 |      -0.511811 |          -0.511811 |          -0.511811 |         -0.511811 |          -0.511811 |                 -0.511811 |                 -0.511811 |                 -0.511811 |                 -0.511811 |                  -0.511811 |                  -0.511811 |                  -0.511811 |                  -0.511811 |                -0.511811 |                -0.511811 |                -0.511811 |                -0.511811 |          -0.511811 |          -0.511811 |          -0.511811 |          -0.511811 |\n",
      "| POSE_LEFT_EYE_OUTER_X     |    -0.0383875 |             -0.0210831  |       -0.00932366 |              0          |               -0.0548244 |        -0.0653191  |              -0.0725109  |        0.0126098  |        -0.0807474  |         -0.014577   |          -0.0575503  |             0.095328   |             -0.153569   |           0.135987  |           -0.202775  |          0.0988704  |          -0.180487   |          0.100568   |          -0.183565   |          0.0763529  |          -0.149282   |          0.0706621  |          -0.14562    |        0.0388796  |       -0.110337    |         0.0370604  |          -0.127537  |          0.029753   |          -0.115868   |         0.0286109  |         -0.112112   |               0.00500751 |              -0.110657    |       -0.521135 |           -0.521135 |           -0.521135 |          -0.521135 |           -0.521135 |                  -0.521135 |                  -0.521135 |                  -0.521135 |                  -0.521135 |                   -0.521135 |                   -0.521135 |                   -0.521135 |                   -0.521135 |                 -0.521135 |                 -0.521135 |                 -0.521135 |                 -0.521135 |           -0.521135 |           -0.521135 |           -0.521135 |           -0.521135 |      -0.521135 |          -0.521135 |          -0.521135 |         -0.521135 |          -0.521135 |                 -0.521135 |                 -0.521135 |                 -0.521135 |                 -0.521135 |                  -0.521135 |                  -0.521135 |                  -0.521135 |                  -0.521135 |                -0.521135 |                -0.521135 |                -0.521135 |                -0.521135 |          -0.521135 |          -0.521135 |          -0.521135 |          -0.521135 |\n",
      "| POSE_RIGHT_EYE_INNER_X    |     0.0164369 |              0.0337414  |        0.0455008  |              0.0548244  |                0         |        -0.0104947  |              -0.0176865  |        0.0674343  |        -0.025923   |          0.0402474  |          -0.0027259  |             0.150152   |             -0.0987446  |           0.190811  |           -0.147951  |          0.153695   |          -0.125662   |          0.155392   |          -0.12874    |          0.131177   |          -0.0944573  |          0.125486   |          -0.0907961  |        0.093704   |       -0.0555125   |         0.0918849  |          -0.0727121 |          0.0845774  |          -0.0610436  |         0.0834354  |         -0.0572879  |               0.0598319  |              -0.0558323   |       -0.466311 |           -0.466311 |           -0.466311 |          -0.466311 |           -0.466311 |                  -0.466311 |                  -0.466311 |                  -0.466311 |                  -0.466311 |                   -0.466311 |                   -0.466311 |                   -0.466311 |                   -0.466311 |                 -0.466311 |                 -0.466311 |                 -0.466311 |                 -0.466311 |           -0.466311 |           -0.466311 |           -0.466311 |           -0.466311 |      -0.466311 |          -0.466311 |          -0.466311 |         -0.466311 |          -0.466311 |                 -0.466311 |                 -0.466311 |                 -0.466311 |                 -0.466311 |                  -0.466311 |                  -0.466311 |                  -0.466311 |                  -0.466311 |                -0.466311 |                -0.466311 |                -0.466311 |                -0.466311 |          -0.466311 |          -0.466311 |          -0.466311 |          -0.466311 |\n",
      "| POSE_RIGHT_EYE_X          |     0.0269316 |              0.044236   |        0.0559954  |              0.0653191  |                0.0104947 |         0          |              -0.00719184 |        0.0779289  |        -0.0154283  |          0.0507421  |           0.00776878 |             0.160647   |             -0.08825    |           0.201306  |           -0.137456  |          0.164189   |          -0.115168   |          0.165887   |          -0.118246   |          0.141672   |          -0.0839626  |          0.135981   |          -0.0803014  |        0.104199   |       -0.0450179   |         0.10238    |          -0.0622174 |          0.0950721  |          -0.050549   |         0.09393    |         -0.0467932  |               0.0703266  |              -0.0453376   |       -0.455816 |           -0.455816 |           -0.455816 |          -0.455816 |           -0.455816 |                  -0.455816 |                  -0.455816 |                  -0.455816 |                  -0.455816 |                   -0.455816 |                   -0.455816 |                   -0.455816 |                   -0.455816 |                 -0.455816 |                 -0.455816 |                 -0.455816 |                 -0.455816 |           -0.455816 |           -0.455816 |           -0.455816 |           -0.455816 |      -0.455816 |          -0.455816 |          -0.455816 |         -0.455816 |          -0.455816 |                 -0.455816 |                 -0.455816 |                 -0.455816 |                 -0.455816 |                  -0.455816 |                  -0.455816 |                  -0.455816 |                  -0.455816 |                -0.455816 |                -0.455816 |                -0.455816 |                -0.455816 |          -0.455816 |          -0.455816 |          -0.455816 |          -0.455816 |\n",
      "| POSE_RIGHT_EYE_OUTER_X    |     0.0341234 |              0.0514279  |        0.0631873  |              0.0725109  |                0.0176865 |         0.00719184 |               0          |        0.0851208  |        -0.00823644 |          0.057934   |           0.0149606  |             0.167839   |             -0.0810581  |           0.208498  |           -0.130264  |          0.171381   |          -0.107976   |          0.173079   |          -0.111054   |          0.148864   |          -0.0767708  |          0.143173   |          -0.0731096  |        0.111391   |       -0.037826    |         0.109571   |          -0.0550256 |          0.102264   |          -0.0433571  |         0.101122   |         -0.0396014  |               0.0775184  |              -0.0381458   |       -0.448624 |           -0.448624 |           -0.448624 |          -0.448624 |           -0.448624 |                  -0.448624 |                  -0.448624 |                  -0.448624 |                  -0.448624 |                   -0.448624 |                   -0.448624 |                   -0.448624 |                   -0.448624 |                 -0.448624 |                 -0.448624 |                 -0.448624 |                 -0.448624 |           -0.448624 |           -0.448624 |           -0.448624 |           -0.448624 |      -0.448624 |          -0.448624 |          -0.448624 |         -0.448624 |          -0.448624 |                 -0.448624 |                 -0.448624 |                 -0.448624 |                 -0.448624 |                  -0.448624 |                  -0.448624 |                  -0.448624 |                  -0.448624 |                -0.448624 |                -0.448624 |                -0.448624 |                -0.448624 |          -0.448624 |          -0.448624 |          -0.448624 |          -0.448624 |\n",
      "| POSE_LEFT_EAR_X           |    -0.0509974 |             -0.0336929  |       -0.0219335  |             -0.0126098  |               -0.0674343 |        -0.0779289  |              -0.0851208  |        0          |        -0.0933572  |         -0.0271868  |          -0.0701602  |             0.0827182  |             -0.166179   |           0.123377  |           -0.215385  |          0.0862606  |          -0.193097   |          0.0879581  |          -0.196175   |          0.0637431  |          -0.161892   |          0.0580522  |          -0.15823    |        0.0262698  |       -0.122947    |         0.0244506  |          -0.140146  |          0.0171432  |          -0.128478   |         0.0160011  |         -0.124722   |              -0.00760233 |              -0.123267    |       -0.533745 |           -0.533745 |           -0.533745 |          -0.533745 |           -0.533745 |                  -0.533745 |                  -0.533745 |                  -0.533745 |                  -0.533745 |                   -0.533745 |                   -0.533745 |                   -0.533745 |                   -0.533745 |                 -0.533745 |                 -0.533745 |                 -0.533745 |                 -0.533745 |           -0.533745 |           -0.533745 |           -0.533745 |           -0.533745 |      -0.533745 |          -0.533745 |          -0.533745 |         -0.533745 |          -0.533745 |                 -0.533745 |                 -0.533745 |                 -0.533745 |                 -0.533745 |                  -0.533745 |                  -0.533745 |                  -0.533745 |                  -0.533745 |                -0.533745 |                -0.533745 |                -0.533745 |                -0.533745 |          -0.533745 |          -0.533745 |          -0.533745 |          -0.533745 |\n",
      "| POSE_RIGHT_EAR_X          |     0.0423598 |              0.0596643  |        0.0714237  |              0.0807474  |                0.025923  |         0.0154283  |               0.00823644 |        0.0933572  |         0          |          0.0661704  |           0.0231971  |             0.176075   |             -0.0728217  |           0.216734  |           -0.122028  |          0.179618   |          -0.0997395  |          0.181315   |          -0.102817   |          0.1571     |          -0.0685344  |          0.151409   |          -0.0648731  |        0.119627   |       -0.0295896   |         0.117808   |          -0.0467892 |          0.1105     |          -0.0351207  |         0.109358   |         -0.0313649  |               0.0857549  |              -0.0299094   |       -0.440388 |           -0.440388 |           -0.440388 |          -0.440388 |           -0.440388 |                  -0.440388 |                  -0.440388 |                  -0.440388 |                  -0.440388 |                   -0.440388 |                   -0.440388 |                   -0.440388 |                   -0.440388 |                 -0.440388 |                 -0.440388 |                 -0.440388 |                 -0.440388 |           -0.440388 |           -0.440388 |           -0.440388 |           -0.440388 |      -0.440388 |          -0.440388 |          -0.440388 |         -0.440388 |          -0.440388 |                 -0.440388 |                 -0.440388 |                 -0.440388 |                 -0.440388 |                  -0.440388 |                  -0.440388 |                  -0.440388 |                  -0.440388 |                -0.440388 |                -0.440388 |                -0.440388 |                -0.440388 |          -0.440388 |          -0.440388 |          -0.440388 |          -0.440388 |\n",
      "| POSE_MOUTH_LEFT_X         |    -0.0238106 |             -0.00650609 |        0.00525331 |              0.014577   |               -0.0402474 |        -0.0507421  |              -0.057934   |        0.0271868  |        -0.0661704  |          0          |          -0.0429733  |             0.109905   |             -0.138992   |           0.150564  |           -0.188198  |          0.113447   |          -0.16591    |          0.115145   |          -0.168988   |          0.0909299  |          -0.134705   |          0.0852391  |          -0.131044   |        0.0534566  |       -0.09576     |         0.0516374  |          -0.11296   |          0.04433    |          -0.101291   |         0.0431879  |         -0.0975353  |               0.0195845  |              -0.0960798   |       -0.506558 |           -0.506558 |           -0.506558 |          -0.506558 |           -0.506558 |                  -0.506558 |                  -0.506558 |                  -0.506558 |                  -0.506558 |                   -0.506558 |                   -0.506558 |                   -0.506558 |                   -0.506558 |                 -0.506558 |                 -0.506558 |                 -0.506558 |                 -0.506558 |           -0.506558 |           -0.506558 |           -0.506558 |           -0.506558 |      -0.506558 |          -0.506558 |          -0.506558 |         -0.506558 |          -0.506558 |                 -0.506558 |                 -0.506558 |                 -0.506558 |                 -0.506558 |                  -0.506558 |                  -0.506558 |                  -0.506558 |                  -0.506558 |                -0.506558 |                -0.506558 |                -0.506558 |                -0.506558 |          -0.506558 |          -0.506558 |          -0.506558 |          -0.506558 |\n",
      "| POSE_MOUTH_RIGHT_X        |     0.0191628 |              0.0364673  |        0.0482267  |              0.0575503  |                0.0027259 |        -0.00776878 |              -0.0149606  |        0.0701602  |        -0.0231971  |          0.0429733  |           0          |             0.152878   |             -0.0960187  |           0.193537  |           -0.145225  |          0.156421   |          -0.122937   |          0.158118   |          -0.126014   |          0.133903   |          -0.0917314  |          0.128212   |          -0.0880702  |        0.0964299  |       -0.0527866   |         0.0946108  |          -0.0699862 |          0.0873033  |          -0.0583178  |         0.0861613  |         -0.054562   |               0.0625578  |              -0.0531064   |       -0.463585 |           -0.463585 |           -0.463585 |          -0.463585 |           -0.463585 |                  -0.463585 |                  -0.463585 |                  -0.463585 |                  -0.463585 |                   -0.463585 |                   -0.463585 |                   -0.463585 |                   -0.463585 |                 -0.463585 |                 -0.463585 |                 -0.463585 |                 -0.463585 |           -0.463585 |           -0.463585 |           -0.463585 |           -0.463585 |      -0.463585 |          -0.463585 |          -0.463585 |         -0.463585 |          -0.463585 |                 -0.463585 |                 -0.463585 |                 -0.463585 |                 -0.463585 |                  -0.463585 |                  -0.463585 |                  -0.463585 |                  -0.463585 |                -0.463585 |                -0.463585 |                -0.463585 |                -0.463585 |          -0.463585 |          -0.463585 |          -0.463585 |          -0.463585 |\n",
      "| POSE_LEFT_SHOULDER_X      |    -0.133716  |             -0.116411   |       -0.104652   |             -0.095328   |               -0.150152  |        -0.160647   |              -0.167839   |       -0.0827182  |        -0.176075   |         -0.109905   |          -0.152878   |             0          |             -0.248897   |           0.0406589 |           -0.298103  |          0.00354236 |          -0.275815   |          0.0052399  |          -0.278893   |         -0.0189751  |          -0.24461    |         -0.024666   |          -0.240949   |       -0.0564484  |       -0.205665    |        -0.0582676  |          -0.222865  |         -0.065575   |          -0.211196   |        -0.0667171  |         -0.20744    |              -0.0903205  |              -0.205985    |       -0.616463 |           -0.616463 |           -0.616463 |          -0.616463 |           -0.616463 |                  -0.616463 |                  -0.616463 |                  -0.616463 |                  -0.616463 |                   -0.616463 |                   -0.616463 |                   -0.616463 |                   -0.616463 |                 -0.616463 |                 -0.616463 |                 -0.616463 |                 -0.616463 |           -0.616463 |           -0.616463 |           -0.616463 |           -0.616463 |      -0.616463 |          -0.616463 |          -0.616463 |         -0.616463 |          -0.616463 |                 -0.616463 |                 -0.616463 |                 -0.616463 |                 -0.616463 |                  -0.616463 |                  -0.616463 |                  -0.616463 |                  -0.616463 |                -0.616463 |                -0.616463 |                -0.616463 |                -0.616463 |          -0.616463 |          -0.616463 |          -0.616463 |          -0.616463 |\n",
      "| POSE_RIGHT_SHOULDER_X     |     0.115182  |              0.132486   |        0.144245   |              0.153569   |                0.0987446 |         0.08825    |               0.0810581  |        0.166179   |         0.0728217  |          0.138992   |           0.0960187  |             0.248897   |              0          |           0.289556  |           -0.0492059 |          0.252439   |          -0.0269178  |          0.254137   |          -0.0299956  |          0.229922   |           0.0042873  |          0.224231   |           0.00794855 |        0.192449   |        0.0432321   |         0.190629   |           0.0260325 |          0.183322   |           0.037701   |         0.18218    |          0.0414567  |               0.158577   |               0.0429123   |       -0.367566 |           -0.367566 |           -0.367566 |          -0.367566 |           -0.367566 |                  -0.367566 |                  -0.367566 |                  -0.367566 |                  -0.367566 |                   -0.367566 |                   -0.367566 |                   -0.367566 |                   -0.367566 |                 -0.367566 |                 -0.367566 |                 -0.367566 |                 -0.367566 |           -0.367566 |           -0.367566 |           -0.367566 |           -0.367566 |      -0.367566 |          -0.367566 |          -0.367566 |         -0.367566 |          -0.367566 |                 -0.367566 |                 -0.367566 |                 -0.367566 |                 -0.367566 |                  -0.367566 |                  -0.367566 |                  -0.367566 |                  -0.367566 |                -0.367566 |                -0.367566 |                -0.367566 |                -0.367566 |          -0.367566 |          -0.367566 |          -0.367566 |          -0.367566 |\n",
      "| POSE_LEFT_ELBOW_X         |    -0.174374  |             -0.15707    |       -0.145311   |             -0.135987   |               -0.190811  |        -0.201306   |              -0.208498   |       -0.123377   |        -0.216734   |         -0.150564   |          -0.193537   |            -0.0406589  |             -0.289556   |           0         |           -0.338762  |         -0.0371165  |          -0.316474   |         -0.035419   |          -0.319552   |         -0.059634   |          -0.285269   |         -0.0653248  |          -0.281607   |       -0.0971073  |       -0.246324    |        -0.0989265  |          -0.263523  |         -0.106234   |          -0.251855   |        -0.107376   |         -0.248099   |              -0.130979   |              -0.246644    |       -0.657122 |           -0.657122 |           -0.657122 |          -0.657122 |           -0.657122 |                  -0.657122 |                  -0.657122 |                  -0.657122 |                  -0.657122 |                   -0.657122 |                   -0.657122 |                   -0.657122 |                   -0.657122 |                 -0.657122 |                 -0.657122 |                 -0.657122 |                 -0.657122 |           -0.657122 |           -0.657122 |           -0.657122 |           -0.657122 |      -0.657122 |          -0.657122 |          -0.657122 |         -0.657122 |          -0.657122 |                 -0.657122 |                 -0.657122 |                 -0.657122 |                 -0.657122 |                  -0.657122 |                  -0.657122 |                  -0.657122 |                  -0.657122 |                -0.657122 |                -0.657122 |                -0.657122 |                -0.657122 |          -0.657122 |          -0.657122 |          -0.657122 |          -0.657122 |\n",
      "| POSE_RIGHT_ELBOW_X        |     0.164387  |              0.181692   |        0.193451   |              0.202775   |                0.147951  |         0.137456   |               0.130264   |        0.215385   |         0.122028   |          0.188198   |           0.145225   |             0.298103   |              0.0492059  |           0.338762  |            0         |          0.301645   |           0.022288   |          0.303343   |           0.0192102  |          0.279128   |           0.0534932  |          0.273437   |           0.0571544  |        0.241655   |        0.092438    |         0.239835   |           0.0752384 |          0.232528   |           0.0869069  |         0.231386   |          0.0906626  |               0.207782   |               0.0921182   |       -0.31836  |           -0.31836  |           -0.31836  |          -0.31836  |           -0.31836  |                  -0.31836  |                  -0.31836  |                  -0.31836  |                  -0.31836  |                   -0.31836  |                   -0.31836  |                   -0.31836  |                   -0.31836  |                 -0.31836  |                 -0.31836  |                 -0.31836  |                 -0.31836  |           -0.31836  |           -0.31836  |           -0.31836  |           -0.31836  |      -0.31836  |          -0.31836  |          -0.31836  |         -0.31836  |          -0.31836  |                 -0.31836  |                 -0.31836  |                 -0.31836  |                 -0.31836  |                  -0.31836  |                  -0.31836  |                  -0.31836  |                  -0.31836  |                -0.31836  |                -0.31836  |                -0.31836  |                -0.31836  |          -0.31836  |          -0.31836  |          -0.31836  |          -0.31836  |\n",
      "| POSE_LEFT_WRIST_X         |    -0.137258  |             -0.119953   |       -0.108194   |             -0.0988704  |               -0.153695  |        -0.164189   |              -0.171381   |       -0.0862606  |        -0.179618   |         -0.113447   |          -0.156421   |            -0.00354236 |             -0.252439   |           0.0371165 |           -0.301645  |          0          |          -0.279357   |          0.00169754 |          -0.282435   |         -0.0225175  |          -0.248152   |         -0.0282083  |          -0.244491   |       -0.0599908  |       -0.209207    |        -0.06181    |          -0.226407  |         -0.0691174  |          -0.214738   |        -0.0702595  |         -0.210983   |              -0.0938629  |              -0.209527    |       -0.620005 |           -0.620005 |           -0.620005 |          -0.620005 |           -0.620005 |                  -0.620005 |                  -0.620005 |                  -0.620005 |                  -0.620005 |                   -0.620005 |                   -0.620005 |                   -0.620005 |                   -0.620005 |                 -0.620005 |                 -0.620005 |                 -0.620005 |                 -0.620005 |           -0.620005 |           -0.620005 |           -0.620005 |           -0.620005 |      -0.620005 |          -0.620005 |          -0.620005 |         -0.620005 |          -0.620005 |                 -0.620005 |                 -0.620005 |                 -0.620005 |                 -0.620005 |                  -0.620005 |                  -0.620005 |                  -0.620005 |                  -0.620005 |                -0.620005 |                -0.620005 |                -0.620005 |                -0.620005 |          -0.620005 |          -0.620005 |          -0.620005 |          -0.620005 |\n",
      "| POSE_RIGHT_WRIST_X        |     0.142099  |              0.159404   |        0.171163   |              0.180487   |                0.125662  |         0.115168   |               0.107976   |        0.193097   |         0.0997395  |          0.16591    |           0.122937   |             0.275815   |              0.0269178  |           0.316474  |           -0.022288  |          0.279357   |           0          |          0.281055   |          -0.00307778 |          0.25684    |           0.0312051  |          0.251149   |           0.0348664  |        0.219367   |        0.0701499   |         0.217547   |           0.0529504 |          0.21024    |           0.0646188  |         0.209098   |          0.0683746  |               0.185494   |               0.0698301   |       -0.340648 |           -0.340648 |           -0.340648 |          -0.340648 |           -0.340648 |                  -0.340648 |                  -0.340648 |                  -0.340648 |                  -0.340648 |                   -0.340648 |                   -0.340648 |                   -0.340648 |                   -0.340648 |                 -0.340648 |                 -0.340648 |                 -0.340648 |                 -0.340648 |           -0.340648 |           -0.340648 |           -0.340648 |           -0.340648 |      -0.340648 |          -0.340648 |          -0.340648 |         -0.340648 |          -0.340648 |                 -0.340648 |                 -0.340648 |                 -0.340648 |                 -0.340648 |                  -0.340648 |                  -0.340648 |                  -0.340648 |                  -0.340648 |                -0.340648 |                -0.340648 |                -0.340648 |                -0.340648 |          -0.340648 |          -0.340648 |          -0.340648 |          -0.340648 |\n",
      "| POSE_LEFT_PINKY_X         |    -0.138955  |             -0.121651   |       -0.109892   |             -0.100568   |               -0.155392  |        -0.165887   |              -0.173079   |       -0.0879581  |        -0.181315   |         -0.115145   |          -0.158118   |            -0.0052399  |             -0.254137   |           0.035419  |           -0.303343  |         -0.00169754 |          -0.281055   |          0          |          -0.284133   |         -0.024215   |          -0.24985    |         -0.0299059  |          -0.246188   |       -0.0616883  |       -0.210905    |        -0.0635075  |          -0.228104  |         -0.0708149  |          -0.216436   |        -0.071957   |         -0.21268    |              -0.0955604  |              -0.211225    |       -0.621703 |           -0.621703 |           -0.621703 |          -0.621703 |           -0.621703 |                  -0.621703 |                  -0.621703 |                  -0.621703 |                  -0.621703 |                   -0.621703 |                   -0.621703 |                   -0.621703 |                   -0.621703 |                 -0.621703 |                 -0.621703 |                 -0.621703 |                 -0.621703 |           -0.621703 |           -0.621703 |           -0.621703 |           -0.621703 |      -0.621703 |          -0.621703 |          -0.621703 |         -0.621703 |          -0.621703 |                 -0.621703 |                 -0.621703 |                 -0.621703 |                 -0.621703 |                  -0.621703 |                  -0.621703 |                  -0.621703 |                  -0.621703 |                -0.621703 |                -0.621703 |                -0.621703 |                -0.621703 |          -0.621703 |          -0.621703 |          -0.621703 |          -0.621703 |\n",
      "| POSE_RIGHT_PINKY_X        |     0.145177  |              0.162482   |        0.174241   |              0.183565   |                0.12874   |         0.118246   |               0.111054   |        0.196175   |         0.102817   |          0.168988   |           0.126014   |             0.278893   |              0.0299956  |           0.319552  |           -0.0192102 |          0.282435   |           0.00307778 |          0.284133   |           0          |          0.259918   |           0.0342829  |          0.254227   |           0.0379442  |        0.222444   |        0.0732277   |         0.220625   |           0.0560281 |          0.213318   |           0.0676966  |         0.212176   |          0.0714523  |               0.188572   |               0.0729079   |       -0.33757  |           -0.33757  |           -0.33757  |          -0.33757  |           -0.33757  |                  -0.33757  |                  -0.33757  |                  -0.33757  |                  -0.33757  |                   -0.33757  |                   -0.33757  |                   -0.33757  |                   -0.33757  |                 -0.33757  |                 -0.33757  |                 -0.33757  |                 -0.33757  |           -0.33757  |           -0.33757  |           -0.33757  |           -0.33757  |      -0.33757  |          -0.33757  |          -0.33757  |         -0.33757  |          -0.33757  |                 -0.33757  |                 -0.33757  |                 -0.33757  |                 -0.33757  |                  -0.33757  |                  -0.33757  |                  -0.33757  |                  -0.33757  |                -0.33757  |                -0.33757  |                -0.33757  |                -0.33757  |          -0.33757  |          -0.33757  |          -0.33757  |          -0.33757  |\n",
      "| POSE_LEFT_INDEX_X         |    -0.11474   |             -0.097436   |       -0.0856766  |             -0.0763529  |               -0.131177  |        -0.141672   |              -0.148864   |       -0.0637431  |        -0.1571     |         -0.0909299  |          -0.133903   |             0.0189751  |             -0.229922   |           0.059634  |           -0.279128  |          0.0225175  |          -0.25684    |          0.024215   |          -0.259918   |          0          |          -0.225635   |         -0.00569081 |          -0.221973   |       -0.0374733  |       -0.18669     |        -0.0392925  |          -0.203889  |         -0.0465999  |          -0.192221   |        -0.0477419  |         -0.188465   |              -0.0713454  |              -0.18701     |       -0.597488 |           -0.597488 |           -0.597488 |          -0.597488 |           -0.597488 |                  -0.597488 |                  -0.597488 |                  -0.597488 |                  -0.597488 |                   -0.597488 |                   -0.597488 |                   -0.597488 |                   -0.597488 |                 -0.597488 |                 -0.597488 |                 -0.597488 |                 -0.597488 |           -0.597488 |           -0.597488 |           -0.597488 |           -0.597488 |      -0.597488 |          -0.597488 |          -0.597488 |         -0.597488 |          -0.597488 |                 -0.597488 |                 -0.597488 |                 -0.597488 |                 -0.597488 |                  -0.597488 |                  -0.597488 |                  -0.597488 |                  -0.597488 |                -0.597488 |                -0.597488 |                -0.597488 |                -0.597488 |          -0.597488 |          -0.597488 |          -0.597488 |          -0.597488 |\n",
      "| POSE_RIGHT_INDEX_X        |     0.110894  |              0.128199   |        0.139958   |              0.149282   |                0.0944573 |         0.0839626  |               0.0767708  |        0.161892   |         0.0685344  |          0.134705   |           0.0917314  |             0.24461    |             -0.0042873  |           0.285269  |           -0.0534932 |          0.248152   |          -0.0312051  |          0.24985    |          -0.0342829  |          0.225635   |           0          |          0.219944   |           0.00366125 |        0.188161   |        0.0389448   |         0.186342   |           0.0217452 |          0.179035   |           0.0334137  |         0.177893   |          0.0371694  |               0.154289   |               0.038625    |       -0.371853 |           -0.371853 |           -0.371853 |          -0.371853 |           -0.371853 |                  -0.371853 |                  -0.371853 |                  -0.371853 |                  -0.371853 |                   -0.371853 |                   -0.371853 |                   -0.371853 |                   -0.371853 |                 -0.371853 |                 -0.371853 |                 -0.371853 |                 -0.371853 |           -0.371853 |           -0.371853 |           -0.371853 |           -0.371853 |      -0.371853 |          -0.371853 |          -0.371853 |         -0.371853 |          -0.371853 |                 -0.371853 |                 -0.371853 |                 -0.371853 |                 -0.371853 |                  -0.371853 |                  -0.371853 |                  -0.371853 |                  -0.371853 |                -0.371853 |                -0.371853 |                -0.371853 |                -0.371853 |          -0.371853 |          -0.371853 |          -0.371853 |          -0.371853 |\n",
      "| POSE_LEFT_THUMB_X         |    -0.10905   |             -0.0917451  |       -0.0799857  |             -0.0706621  |               -0.125486  |        -0.135981   |              -0.143173   |       -0.0580522  |        -0.151409   |         -0.0852391  |          -0.128212   |             0.024666   |             -0.224231   |           0.0653248 |           -0.273437  |          0.0282083  |          -0.251149   |          0.0299059  |          -0.254227   |          0.00569081 |          -0.219944   |          0          |          -0.216283   |       -0.0317824  |       -0.180999    |        -0.0336016  |          -0.198199  |         -0.0409091  |          -0.18653    |        -0.0420511  |         -0.182774   |              -0.0656546  |              -0.181319    |       -0.591797 |           -0.591797 |           -0.591797 |          -0.591797 |           -0.591797 |                  -0.591797 |                  -0.591797 |                  -0.591797 |                  -0.591797 |                   -0.591797 |                   -0.591797 |                   -0.591797 |                   -0.591797 |                 -0.591797 |                 -0.591797 |                 -0.591797 |                 -0.591797 |           -0.591797 |           -0.591797 |           -0.591797 |           -0.591797 |      -0.591797 |          -0.591797 |          -0.591797 |         -0.591797 |          -0.591797 |                 -0.591797 |                 -0.591797 |                 -0.591797 |                 -0.591797 |                  -0.591797 |                  -0.591797 |                  -0.591797 |                  -0.591797 |                -0.591797 |                -0.591797 |                -0.591797 |                -0.591797 |          -0.591797 |          -0.591797 |          -0.591797 |          -0.591797 |\n",
      "| POSE_RIGHT_THUMB_X        |     0.107233  |              0.124537   |        0.136297   |              0.14562    |                0.0907961 |         0.0803014  |               0.0731096  |        0.15823    |         0.0648731  |          0.131044   |           0.0880702  |             0.240949   |             -0.00794855 |           0.281607  |           -0.0571544 |          0.244491   |          -0.0348664  |          0.246188   |          -0.0379442  |          0.221973   |          -0.00366125 |          0.216283   |           0          |        0.1845     |        0.0352835   |         0.182681   |           0.018084  |          0.175374   |           0.0297524  |         0.174231   |          0.0335082  |               0.150628   |               0.0349638   |       -0.375515 |           -0.375515 |           -0.375515 |          -0.375515 |           -0.375515 |                  -0.375515 |                  -0.375515 |                  -0.375515 |                  -0.375515 |                   -0.375515 |                   -0.375515 |                   -0.375515 |                   -0.375515 |                 -0.375515 |                 -0.375515 |                 -0.375515 |                 -0.375515 |           -0.375515 |           -0.375515 |           -0.375515 |           -0.375515 |      -0.375515 |          -0.375515 |          -0.375515 |         -0.375515 |          -0.375515 |                 -0.375515 |                 -0.375515 |                 -0.375515 |                 -0.375515 |                  -0.375515 |                  -0.375515 |                  -0.375515 |                  -0.375515 |                -0.375515 |                -0.375515 |                -0.375515 |                -0.375515 |          -0.375515 |          -0.375515 |          -0.375515 |          -0.375515 |\n",
      "| POSE_LEFT_HIP_X           |    -0.0772672 |             -0.0599627  |       -0.0482033  |             -0.0388796  |               -0.093704  |        -0.104199   |              -0.111391   |       -0.0262698  |        -0.119627   |         -0.0534566  |          -0.0964299  |             0.0564484  |             -0.192449   |           0.0971073 |           -0.241655  |          0.0599908  |          -0.219367   |          0.0616883  |          -0.222444   |          0.0374733  |          -0.188161   |          0.0317824  |          -0.1845     |        0          |       -0.149217    |        -0.00181919 |          -0.166416  |         -0.0091266  |          -0.154748   |        -0.0102687  |         -0.150992   |              -0.0338721  |              -0.149536    |       -0.560015 |           -0.560015 |           -0.560015 |          -0.560015 |           -0.560015 |                  -0.560015 |                  -0.560015 |                  -0.560015 |                  -0.560015 |                   -0.560015 |                   -0.560015 |                   -0.560015 |                   -0.560015 |                 -0.560015 |                 -0.560015 |                 -0.560015 |                 -0.560015 |           -0.560015 |           -0.560015 |           -0.560015 |           -0.560015 |      -0.560015 |          -0.560015 |          -0.560015 |         -0.560015 |          -0.560015 |                 -0.560015 |                 -0.560015 |                 -0.560015 |                 -0.560015 |                  -0.560015 |                  -0.560015 |                  -0.560015 |                  -0.560015 |                -0.560015 |                -0.560015 |                -0.560015 |                -0.560015 |          -0.560015 |          -0.560015 |          -0.560015 |          -0.560015 |\n",
      "| POSE_RIGHT_HIP_X          |     0.0719494 |              0.0892539  |        0.101013   |              0.110337   |                0.0555125 |         0.0450179  |               0.037826   |        0.122947   |         0.0295896  |          0.09576    |           0.0527866  |             0.205665   |             -0.0432321  |           0.246324  |           -0.092438  |          0.209207   |          -0.0701499  |          0.210905   |          -0.0732277  |          0.18669    |          -0.0389448  |          0.180999   |          -0.0352835  |        0.149217   |        0           |         0.147397   |          -0.0171996 |          0.14009    |          -0.0055311  |         0.138948   |         -0.00177535 |               0.115344   |              -0.000319779 |       -0.410798 |           -0.410798 |           -0.410798 |          -0.410798 |           -0.410798 |                  -0.410798 |                  -0.410798 |                  -0.410798 |                  -0.410798 |                   -0.410798 |                   -0.410798 |                   -0.410798 |                   -0.410798 |                 -0.410798 |                 -0.410798 |                 -0.410798 |                 -0.410798 |           -0.410798 |           -0.410798 |           -0.410798 |           -0.410798 |      -0.410798 |          -0.410798 |          -0.410798 |         -0.410798 |          -0.410798 |                 -0.410798 |                 -0.410798 |                 -0.410798 |                 -0.410798 |                  -0.410798 |                  -0.410798 |                  -0.410798 |                  -0.410798 |                -0.410798 |                -0.410798 |                -0.410798 |                -0.410798 |          -0.410798 |          -0.410798 |          -0.410798 |          -0.410798 |\n",
      "| POSE_LEFT_KNEE_X          |    -0.075448  |             -0.0581435  |       -0.0463841  |             -0.0370604  |               -0.0918849 |        -0.10238    |              -0.109571   |       -0.0244506  |        -0.117808   |         -0.0516374  |          -0.0946108  |             0.0582676  |             -0.190629   |           0.0989265 |           -0.239835  |          0.06181    |          -0.217547   |          0.0635075  |          -0.220625   |          0.0392925  |          -0.186342   |          0.0336016  |          -0.182681   |        0.00181919 |       -0.147397    |         0          |          -0.164597  |         -0.00730741 |          -0.152929   |        -0.00844949 |         -0.149173   |              -0.0320529  |              -0.147717    |       -0.558195 |           -0.558195 |           -0.558195 |          -0.558195 |           -0.558195 |                  -0.558195 |                  -0.558195 |                  -0.558195 |                  -0.558195 |                   -0.558195 |                   -0.558195 |                   -0.558195 |                   -0.558195 |                 -0.558195 |                 -0.558195 |                 -0.558195 |                 -0.558195 |           -0.558195 |           -0.558195 |           -0.558195 |           -0.558195 |      -0.558195 |          -0.558195 |          -0.558195 |         -0.558195 |          -0.558195 |                 -0.558195 |                 -0.558195 |                 -0.558195 |                 -0.558195 |                  -0.558195 |                  -0.558195 |                  -0.558195 |                  -0.558195 |                -0.558195 |                -0.558195 |                -0.558195 |                -0.558195 |          -0.558195 |          -0.558195 |          -0.558195 |          -0.558195 |\n",
      "| POSE_RIGHT_KNEE_X         |     0.089149  |              0.106453   |        0.118213   |              0.127537   |                0.0727121 |         0.0622174  |               0.0550256  |        0.140146   |         0.0467892  |          0.11296    |           0.0699862  |             0.222865   |             -0.0260325  |           0.263523  |           -0.0752384 |          0.226407   |          -0.0529504  |          0.228104   |          -0.0560281  |          0.203889   |          -0.0217452  |          0.198199   |          -0.018084   |        0.166416   |        0.0171996   |         0.164597   |           0         |          0.15729    |           0.0116685  |         0.156147   |          0.0154242  |               0.132544   |               0.0168798   |       -0.393598 |           -0.393598 |           -0.393598 |          -0.393598 |           -0.393598 |                  -0.393598 |                  -0.393598 |                  -0.393598 |                  -0.393598 |                   -0.393598 |                   -0.393598 |                   -0.393598 |                   -0.393598 |                 -0.393598 |                 -0.393598 |                 -0.393598 |                 -0.393598 |           -0.393598 |           -0.393598 |           -0.393598 |           -0.393598 |      -0.393598 |          -0.393598 |          -0.393598 |         -0.393598 |          -0.393598 |                 -0.393598 |                 -0.393598 |                 -0.393598 |                 -0.393598 |                  -0.393598 |                  -0.393598 |                  -0.393598 |                  -0.393598 |                -0.393598 |                -0.393598 |                -0.393598 |                -0.393598 |          -0.393598 |          -0.393598 |          -0.393598 |          -0.393598 |\n",
      "| POSE_LEFT_ANKLE_X         |    -0.0681406 |             -0.0508361  |       -0.0390767  |             -0.029753   |               -0.0845774 |        -0.0950721  |              -0.102264   |       -0.0171432  |        -0.1105     |         -0.04433    |          -0.0873033  |             0.065575   |             -0.183322   |           0.106234  |           -0.232528  |          0.0691174  |          -0.21024    |          0.0708149  |          -0.213318   |          0.0465999  |          -0.179035   |          0.0409091  |          -0.175374   |        0.0091266  |       -0.14009     |         0.00730741 |          -0.15729   |          0          |          -0.145621   |        -0.00114208 |         -0.141865   |              -0.0247455  |              -0.14041     |       -0.550888 |           -0.550888 |           -0.550888 |          -0.550888 |           -0.550888 |                  -0.550888 |                  -0.550888 |                  -0.550888 |                  -0.550888 |                   -0.550888 |                   -0.550888 |                   -0.550888 |                   -0.550888 |                 -0.550888 |                 -0.550888 |                 -0.550888 |                 -0.550888 |           -0.550888 |           -0.550888 |           -0.550888 |           -0.550888 |      -0.550888 |          -0.550888 |          -0.550888 |         -0.550888 |          -0.550888 |                 -0.550888 |                 -0.550888 |                 -0.550888 |                 -0.550888 |                  -0.550888 |                  -0.550888 |                  -0.550888 |                  -0.550888 |                -0.550888 |                -0.550888 |                -0.550888 |                -0.550888 |          -0.550888 |          -0.550888 |          -0.550888 |          -0.550888 |\n",
      "| POSE_RIGHT_ANKLE_X        |     0.0774805 |              0.094785   |        0.106544   |              0.115868   |                0.0610436 |         0.050549   |               0.0433571  |        0.128478   |         0.0351207  |          0.101291   |           0.0583178  |             0.211196   |             -0.037701   |           0.251855  |           -0.0869069 |          0.214738   |          -0.0646188  |          0.216436   |          -0.0676966  |          0.192221   |          -0.0334137  |          0.18653    |          -0.0297524  |        0.154748   |        0.0055311   |         0.152929   |          -0.0116685 |          0.145621   |           0          |         0.144479   |          0.00375575 |               0.120876   |               0.00521132  |       -0.405267 |           -0.405267 |           -0.405267 |          -0.405267 |           -0.405267 |                  -0.405267 |                  -0.405267 |                  -0.405267 |                  -0.405267 |                   -0.405267 |                   -0.405267 |                   -0.405267 |                   -0.405267 |                 -0.405267 |                 -0.405267 |                 -0.405267 |                 -0.405267 |           -0.405267 |           -0.405267 |           -0.405267 |           -0.405267 |      -0.405267 |          -0.405267 |          -0.405267 |         -0.405267 |          -0.405267 |                 -0.405267 |                 -0.405267 |                 -0.405267 |                 -0.405267 |                  -0.405267 |                  -0.405267 |                  -0.405267 |                  -0.405267 |                -0.405267 |                -0.405267 |                -0.405267 |                -0.405267 |          -0.405267 |          -0.405267 |          -0.405267 |          -0.405267 |\n",
      "| POSE_LEFT_HEEL_X          |    -0.0669985 |             -0.049694   |       -0.0379346  |             -0.0286109  |               -0.0834354 |        -0.09393    |              -0.101122   |       -0.0160011  |        -0.109358   |         -0.0431879  |          -0.0861613  |             0.0667171  |             -0.18218    |           0.107376  |           -0.231386  |          0.0702595  |          -0.209098   |          0.071957   |          -0.212176   |          0.0477419  |          -0.177893   |          0.0420511  |          -0.174231   |        0.0102687  |       -0.138948    |         0.00844949 |          -0.156147  |          0.00114208 |          -0.144479   |         0          |         -0.140723   |              -0.0236034  |              -0.139268    |       -0.549746 |           -0.549746 |           -0.549746 |          -0.549746 |           -0.549746 |                  -0.549746 |                  -0.549746 |                  -0.549746 |                  -0.549746 |                   -0.549746 |                   -0.549746 |                   -0.549746 |                   -0.549746 |                 -0.549746 |                 -0.549746 |                 -0.549746 |                 -0.549746 |           -0.549746 |           -0.549746 |           -0.549746 |           -0.549746 |      -0.549746 |          -0.549746 |          -0.549746 |         -0.549746 |          -0.549746 |                 -0.549746 |                 -0.549746 |                 -0.549746 |                 -0.549746 |                  -0.549746 |                  -0.549746 |                  -0.549746 |                  -0.549746 |                -0.549746 |                -0.549746 |                -0.549746 |                -0.549746 |          -0.549746 |          -0.549746 |          -0.549746 |          -0.549746 |\n",
      "| POSE_RIGHT_HEEL_X         |     0.0737248 |              0.0910293  |        0.102789   |              0.112112   |                0.0572879 |         0.0467932  |               0.0396014  |        0.124722   |         0.0313649  |          0.0975353  |           0.054562   |             0.20744    |             -0.0414567  |           0.248099  |           -0.0906626 |          0.210983   |          -0.0683746  |          0.21268    |          -0.0714523  |          0.188465   |          -0.0371694  |          0.182774   |          -0.0335082  |        0.150992   |        0.00177535  |         0.149173   |          -0.0154242 |          0.141865   |          -0.00375575 |         0.140723   |          0          |               0.11712    |               0.00145558  |       -0.409023 |           -0.409023 |           -0.409023 |          -0.409023 |           -0.409023 |                  -0.409023 |                  -0.409023 |                  -0.409023 |                  -0.409023 |                   -0.409023 |                   -0.409023 |                   -0.409023 |                   -0.409023 |                 -0.409023 |                 -0.409023 |                 -0.409023 |                 -0.409023 |           -0.409023 |           -0.409023 |           -0.409023 |           -0.409023 |      -0.409023 |          -0.409023 |          -0.409023 |         -0.409023 |          -0.409023 |                 -0.409023 |                 -0.409023 |                 -0.409023 |                 -0.409023 |                  -0.409023 |                  -0.409023 |                  -0.409023 |                  -0.409023 |                -0.409023 |                -0.409023 |                -0.409023 |                -0.409023 |          -0.409023 |          -0.409023 |          -0.409023 |          -0.409023 |\n",
      "| POSE_LEFT_FOOT_INDEX_X    |    -0.043395  |             -0.0260906  |       -0.0143312  |             -0.00500751 |               -0.0598319 |        -0.0703266  |              -0.0775184  |        0.00760233 |        -0.0857549  |         -0.0195845  |          -0.0625578  |             0.0903205  |             -0.158577   |           0.130979  |           -0.207782  |          0.0938629  |          -0.185494   |          0.0955604  |          -0.188572   |          0.0713454  |          -0.154289   |          0.0656546  |          -0.150628   |        0.0338721  |       -0.115344    |         0.0320529  |          -0.132544  |          0.0247455  |          -0.120876   |         0.0236034  |         -0.11712    |               0          |              -0.115664    |       -0.526143 |           -0.526143 |           -0.526143 |          -0.526143 |           -0.526143 |                  -0.526143 |                  -0.526143 |                  -0.526143 |                  -0.526143 |                   -0.526143 |                   -0.526143 |                   -0.526143 |                   -0.526143 |                 -0.526143 |                 -0.526143 |                 -0.526143 |                 -0.526143 |           -0.526143 |           -0.526143 |           -0.526143 |           -0.526143 |      -0.526143 |          -0.526143 |          -0.526143 |         -0.526143 |          -0.526143 |                 -0.526143 |                 -0.526143 |                 -0.526143 |                 -0.526143 |                  -0.526143 |                  -0.526143 |                  -0.526143 |                  -0.526143 |                -0.526143 |                -0.526143 |                -0.526143 |                -0.526143 |          -0.526143 |          -0.526143 |          -0.526143 |          -0.526143 |\n",
      "| POSE_RIGHT_FOOT_INDEX_X   |     0.0722692 |              0.0895737  |        0.101333   |              0.110657   |                0.0558323 |         0.0453376  |               0.0381458  |        0.123267   |         0.0299094  |          0.0960798  |           0.0531064  |             0.205985   |             -0.0429123  |           0.246644  |           -0.0921182 |          0.209527   |          -0.0698301  |          0.211225   |          -0.0729079  |          0.18701    |          -0.038625   |          0.181319   |          -0.0349638  |        0.149536   |        0.000319779 |         0.147717   |          -0.0168798 |          0.14041    |          -0.00521132 |         0.139268   |         -0.00145558 |               0.115664   |               0           |       -0.410478 |           -0.410478 |           -0.410478 |          -0.410478 |           -0.410478 |                  -0.410478 |                  -0.410478 |                  -0.410478 |                  -0.410478 |                   -0.410478 |                   -0.410478 |                   -0.410478 |                   -0.410478 |                 -0.410478 |                 -0.410478 |                 -0.410478 |                 -0.410478 |           -0.410478 |           -0.410478 |           -0.410478 |           -0.410478 |      -0.410478 |          -0.410478 |          -0.410478 |         -0.410478 |          -0.410478 |                 -0.410478 |                 -0.410478 |                 -0.410478 |                 -0.410478 |                  -0.410478 |                  -0.410478 |                  -0.410478 |                  -0.410478 |                -0.410478 |                -0.410478 |                -0.410478 |                -0.410478 |          -0.410478 |          -0.410478 |          -0.410478 |          -0.410478 |\n",
      "| RIGHT_WRIST_X             |     0.482747  |              0.500052   |        0.511811   |              0.521135   |                0.466311  |         0.455816   |               0.448624   |        0.533745   |         0.440388   |          0.506558   |           0.463585   |             0.616463   |              0.367566   |           0.657122  |            0.31836   |          0.620005   |           0.340648   |          0.621703   |           0.33757    |          0.597488   |           0.371853   |          0.591797   |           0.375515   |        0.560015   |        0.410798    |         0.558195   |           0.393598  |          0.550888   |           0.405267   |         0.549746   |          0.409023   |               0.526143   |               0.410478    |        0        |            0        |            0        |           0        |            0        |                   0        |                   0        |                   0        |                   0        |                    0        |                    0        |                    0        |                    0        |                  0        |                  0        |                  0        |                  0        |            0        |            0        |            0        |            0        |       0        |           0        |           0        |          0        |           0        |                  0        |                  0        |                  0        |                  0        |                   0        |                   0        |                   0        |                   0        |                 0        |                 0        |                 0        |                 0        |           0        |           0        |           0        |           0        |\n",
      "| RIGHT_THUMB_CMC_X         |     0.482747  |              0.500052   |        0.511811   |              0.521135   |                0.466311  |         0.455816   |               0.448624   |        0.533745   |         0.440388   |          0.506558   |           0.463585   |             0.616463   |              0.367566   |           0.657122  |            0.31836   |          0.620005   |           0.340648   |          0.621703   |           0.33757    |          0.597488   |           0.371853   |          0.591797   |           0.375515   |        0.560015   |        0.410798    |         0.558195   |           0.393598  |          0.550888   |           0.405267   |         0.549746   |          0.409023   |               0.526143   |               0.410478    |        0        |            0        |            0        |           0        |            0        |                   0        |                   0        |                   0        |                   0        |                    0        |                    0        |                    0        |                    0        |                  0        |                  0        |                  0        |                  0        |            0        |            0        |            0        |            0        |       0        |           0        |           0        |          0        |           0        |                  0        |                  0        |                  0        |                  0        |                   0        |                   0        |                   0        |                   0        |                 0        |                 0        |                 0        |                 0        |           0        |           0        |           0        |           0        |\n",
      "| RIGHT_THUMB_MCP_X         |     0.482747  |              0.500052   |        0.511811   |              0.521135   |                0.466311  |         0.455816   |               0.448624   |        0.533745   |         0.440388   |          0.506558   |           0.463585   |             0.616463   |              0.367566   |           0.657122  |            0.31836   |          0.620005   |           0.340648   |          0.621703   |           0.33757    |          0.597488   |           0.371853   |          0.591797   |           0.375515   |        0.560015   |        0.410798    |         0.558195   |           0.393598  |          0.550888   |           0.405267   |         0.549746   |          0.409023   |               0.526143   |               0.410478    |        0        |            0        |            0        |           0        |            0        |                   0        |                   0        |                   0        |                   0        |                    0        |                    0        |                    0        |                    0        |                  0        |                  0        |                  0        |                  0        |            0        |            0        |            0        |            0        |       0        |           0        |           0        |          0        |           0        |                  0        |                  0        |                  0        |                  0        |                   0        |                   0        |                   0        |                   0        |                 0        |                 0        |                 0        |                 0        |           0        |           0        |           0        |           0        |\n",
      "| RIGHT_THUMB_IP_X          |     0.482747  |              0.500052   |        0.511811   |              0.521135   |                0.466311  |         0.455816   |               0.448624   |        0.533745   |         0.440388   |          0.506558   |           0.463585   |             0.616463   |              0.367566   |           0.657122  |            0.31836   |          0.620005   |           0.340648   |          0.621703   |           0.33757    |          0.597488   |           0.371853   |          0.591797   |           0.375515   |        0.560015   |        0.410798    |         0.558195   |           0.393598  |          0.550888   |           0.405267   |         0.549746   |          0.409023   |               0.526143   |               0.410478    |        0        |            0        |            0        |           0        |            0        |                   0        |                   0        |                   0        |                   0        |                    0        |                    0        |                    0        |                    0        |                  0        |                  0        |                  0        |                  0        |            0        |            0        |            0        |            0        |       0        |           0        |           0        |          0        |           0        |                  0        |                  0        |                  0        |                  0        |                   0        |                   0        |                   0        |                   0        |                 0        |                 0        |                 0        |                 0        |           0        |           0        |           0        |           0        |\n",
      "| RIGHT_THUMB_TIP_X         |     0.482747  |              0.500052   |        0.511811   |              0.521135   |                0.466311  |         0.455816   |               0.448624   |        0.533745   |         0.440388   |          0.506558   |           0.463585   |             0.616463   |              0.367566   |           0.657122  |            0.31836   |          0.620005   |           0.340648   |          0.621703   |           0.33757    |          0.597488   |           0.371853   |          0.591797   |           0.375515   |        0.560015   |        0.410798    |         0.558195   |           0.393598  |          0.550888   |           0.405267   |         0.549746   |          0.409023   |               0.526143   |               0.410478    |        0        |            0        |            0        |           0        |            0        |                   0        |                   0        |                   0        |                   0        |                    0        |                    0        |                    0        |                    0        |                  0        |                  0        |                  0        |                  0        |            0        |            0        |            0        |            0        |       0        |           0        |           0        |          0        |           0        |                  0        |                  0        |                  0        |                  0        |                   0        |                   0        |                   0        |                   0        |                 0        |                 0        |                 0        |                 0        |           0        |           0        |           0        |           0        |\n",
      "| RIGHT_INDEX_FINGER_MCP_X  |     0.482747  |              0.500052   |        0.511811   |              0.521135   |                0.466311  |         0.455816   |               0.448624   |        0.533745   |         0.440388   |          0.506558   |           0.463585   |             0.616463   |              0.367566   |           0.657122  |            0.31836   |          0.620005   |           0.340648   |          0.621703   |           0.33757    |          0.597488   |           0.371853   |          0.591797   |           0.375515   |        0.560015   |        0.410798    |         0.558195   |           0.393598  |          0.550888   |           0.405267   |         0.549746   |          0.409023   |               0.526143   |               0.410478    |        0        |            0        |            0        |           0        |            0        |                   0        |                   0        |                   0        |                   0        |                    0        |                    0        |                    0        |                    0        |                  0        |                  0        |                  0        |                  0        |            0        |            0        |            0        |            0        |       0        |           0        |           0        |          0        |           0        |                  0        |                  0        |                  0        |                  0        |                   0        |                   0        |                   0        |                   0        |                 0        |                 0        |                 0        |                 0        |           0        |           0        |           0        |           0        |\n",
      "| RIGHT_INDEX_FINGER_PIP_X  |     0.482747  |              0.500052   |        0.511811   |              0.521135   |                0.466311  |         0.455816   |               0.448624   |        0.533745   |         0.440388   |          0.506558   |           0.463585   |             0.616463   |              0.367566   |           0.657122  |            0.31836   |          0.620005   |           0.340648   |          0.621703   |           0.33757    |          0.597488   |           0.371853   |          0.591797   |           0.375515   |        0.560015   |        0.410798    |         0.558195   |           0.393598  |          0.550888   |           0.405267   |         0.549746   |          0.409023   |               0.526143   |               0.410478    |        0        |            0        |            0        |           0        |            0        |                   0        |                   0        |                   0        |                   0        |                    0        |                    0        |                    0        |                    0        |                  0        |                  0        |                  0        |                  0        |            0        |            0        |            0        |            0        |       0        |           0        |           0        |          0        |           0        |                  0        |                  0        |                  0        |                  0        |                   0        |                   0        |                   0        |                   0        |                 0        |                 0        |                 0        |                 0        |           0        |           0        |           0        |           0        |\n",
      "| RIGHT_INDEX_FINGER_DIP_X  |     0.482747  |              0.500052   |        0.511811   |              0.521135   |                0.466311  |         0.455816   |               0.448624   |        0.533745   |         0.440388   |          0.506558   |           0.463585   |             0.616463   |              0.367566   |           0.657122  |            0.31836   |          0.620005   |           0.340648   |          0.621703   |           0.33757    |          0.597488   |           0.371853   |          0.591797   |           0.375515   |        0.560015   |        0.410798    |         0.558195   |           0.393598  |          0.550888   |           0.405267   |         0.549746   |          0.409023   |               0.526143   |               0.410478    |        0        |            0        |            0        |           0        |            0        |                   0        |                   0        |                   0        |                   0        |                    0        |                    0        |                    0        |                    0        |                  0        |                  0        |                  0        |                  0        |            0        |            0        |            0        |            0        |       0        |           0        |           0        |          0        |           0        |                  0        |                  0        |                  0        |                  0        |                   0        |                   0        |                   0        |                   0        |                 0        |                 0        |                 0        |                 0        |           0        |           0        |           0        |           0        |\n",
      "| RIGHT_INDEX_FINGER_TIP_X  |     0.482747  |              0.500052   |        0.511811   |              0.521135   |                0.466311  |         0.455816   |               0.448624   |        0.533745   |         0.440388   |          0.506558   |           0.463585   |             0.616463   |              0.367566   |           0.657122  |            0.31836   |          0.620005   |           0.340648   |          0.621703   |           0.33757    |          0.597488   |           0.371853   |          0.591797   |           0.375515   |        0.560015   |        0.410798    |         0.558195   |           0.393598  |          0.550888   |           0.405267   |         0.549746   |          0.409023   |               0.526143   |               0.410478    |        0        |            0        |            0        |           0        |            0        |                   0        |                   0        |                   0        |                   0        |                    0        |                    0        |                    0        |                    0        |                  0        |                  0        |                  0        |                  0        |            0        |            0        |            0        |            0        |       0        |           0        |           0        |          0        |           0        |                  0        |                  0        |                  0        |                  0        |                   0        |                   0        |                   0        |                   0        |                 0        |                 0        |                 0        |                 0        |           0        |           0        |           0        |           0        |\n",
      "| RIGHT_MIDDLE_FINGER_MCP_X |     0.482747  |              0.500052   |        0.511811   |              0.521135   |                0.466311  |         0.455816   |               0.448624   |        0.533745   |         0.440388   |          0.506558   |           0.463585   |             0.616463   |              0.367566   |           0.657122  |            0.31836   |          0.620005   |           0.340648   |          0.621703   |           0.33757    |          0.597488   |           0.371853   |          0.591797   |           0.375515   |        0.560015   |        0.410798    |         0.558195   |           0.393598  |          0.550888   |           0.405267   |         0.549746   |          0.409023   |               0.526143   |               0.410478    |        0        |            0        |            0        |           0        |            0        |                   0        |                   0        |                   0        |                   0        |                    0        |                    0        |                    0        |                    0        |                  0        |                  0        |                  0        |                  0        |            0        |            0        |            0        |            0        |       0        |           0        |           0        |          0        |           0        |                  0        |                  0        |                  0        |                  0        |                   0        |                   0        |                   0        |                   0        |                 0        |                 0        |                 0        |                 0        |           0        |           0        |           0        |           0        |\n",
      "| RIGHT_MIDDLE_FINGER_PIP_X |     0.482747  |              0.500052   |        0.511811   |              0.521135   |                0.466311  |         0.455816   |               0.448624   |        0.533745   |         0.440388   |          0.506558   |           0.463585   |             0.616463   |              0.367566   |           0.657122  |            0.31836   |          0.620005   |           0.340648   |          0.621703   |           0.33757    |          0.597488   |           0.371853   |          0.591797   |           0.375515   |        0.560015   |        0.410798    |         0.558195   |           0.393598  |          0.550888   |           0.405267   |         0.549746   |          0.409023   |               0.526143   |               0.410478    |        0        |            0        |            0        |           0        |            0        |                   0        |                   0        |                   0        |                   0        |                    0        |                    0        |                    0        |                    0        |                  0        |                  0        |                  0        |                  0        |            0        |            0        |            0        |            0        |       0        |           0        |           0        |          0        |           0        |                  0        |                  0        |                  0        |                  0        |                   0        |                   0        |                   0        |                   0        |                 0        |                 0        |                 0        |                 0        |           0        |           0        |           0        |           0        |\n",
      "| RIGHT_MIDDLE_FINGER_DIP_X |     0.482747  |              0.500052   |        0.511811   |              0.521135   |                0.466311  |         0.455816   |               0.448624   |        0.533745   |         0.440388   |          0.506558   |           0.463585   |             0.616463   |              0.367566   |           0.657122  |            0.31836   |          0.620005   |           0.340648   |          0.621703   |           0.33757    |          0.597488   |           0.371853   |          0.591797   |           0.375515   |        0.560015   |        0.410798    |         0.558195   |           0.393598  |          0.550888   |           0.405267   |         0.549746   |          0.409023   |               0.526143   |               0.410478    |        0        |            0        |            0        |           0        |            0        |                   0        |                   0        |                   0        |                   0        |                    0        |                    0        |                    0        |                    0        |                  0        |                  0        |                  0        |                  0        |            0        |            0        |            0        |            0        |       0        |           0        |           0        |          0        |           0        |                  0        |                  0        |                  0        |                  0        |                   0        |                   0        |                   0        |                   0        |                 0        |                 0        |                 0        |                 0        |           0        |           0        |           0        |           0        |\n",
      "| RIGHT_MIDDLE_FINGER_TIP_X |     0.482747  |              0.500052   |        0.511811   |              0.521135   |                0.466311  |         0.455816   |               0.448624   |        0.533745   |         0.440388   |          0.506558   |           0.463585   |             0.616463   |              0.367566   |           0.657122  |            0.31836   |          0.620005   |           0.340648   |          0.621703   |           0.33757    |          0.597488   |           0.371853   |          0.591797   |           0.375515   |        0.560015   |        0.410798    |         0.558195   |           0.393598  |          0.550888   |           0.405267   |         0.549746   |          0.409023   |               0.526143   |               0.410478    |        0        |            0        |            0        |           0        |            0        |                   0        |                   0        |                   0        |                   0        |                    0        |                    0        |                    0        |                    0        |                  0        |                  0        |                  0        |                  0        |            0        |            0        |            0        |            0        |       0        |           0        |           0        |          0        |           0        |                  0        |                  0        |                  0        |                  0        |                   0        |                   0        |                   0        |                   0        |                 0        |                 0        |                 0        |                 0        |           0        |           0        |           0        |           0        |\n",
      "| RIGHT_RING_FINGER_MCP_X   |     0.482747  |              0.500052   |        0.511811   |              0.521135   |                0.466311  |         0.455816   |               0.448624   |        0.533745   |         0.440388   |          0.506558   |           0.463585   |             0.616463   |              0.367566   |           0.657122  |            0.31836   |          0.620005   |           0.340648   |          0.621703   |           0.33757    |          0.597488   |           0.371853   |          0.591797   |           0.375515   |        0.560015   |        0.410798    |         0.558195   |           0.393598  |          0.550888   |           0.405267   |         0.549746   |          0.409023   |               0.526143   |               0.410478    |        0        |            0        |            0        |           0        |            0        |                   0        |                   0        |                   0        |                   0        |                    0        |                    0        |                    0        |                    0        |                  0        |                  0        |                  0        |                  0        |            0        |            0        |            0        |            0        |       0        |           0        |           0        |          0        |           0        |                  0        |                  0        |                  0        |                  0        |                   0        |                   0        |                   0        |                   0        |                 0        |                 0        |                 0        |                 0        |           0        |           0        |           0        |           0        |\n",
      "| RIGHT_RING_FINGER_PIP_X   |     0.482747  |              0.500052   |        0.511811   |              0.521135   |                0.466311  |         0.455816   |               0.448624   |        0.533745   |         0.440388   |          0.506558   |           0.463585   |             0.616463   |              0.367566   |           0.657122  |            0.31836   |          0.620005   |           0.340648   |          0.621703   |           0.33757    |          0.597488   |           0.371853   |          0.591797   |           0.375515   |        0.560015   |        0.410798    |         0.558195   |           0.393598  |          0.550888   |           0.405267   |         0.549746   |          0.409023   |               0.526143   |               0.410478    |        0        |            0        |            0        |           0        |            0        |                   0        |                   0        |                   0        |                   0        |                    0        |                    0        |                    0        |                    0        |                  0        |                  0        |                  0        |                  0        |            0        |            0        |            0        |            0        |       0        |           0        |           0        |          0        |           0        |                  0        |                  0        |                  0        |                  0        |                   0        |                   0        |                   0        |                   0        |                 0        |                 0        |                 0        |                 0        |           0        |           0        |           0        |           0        |\n",
      "| RIGHT_RING_FINGER_DIP_X   |     0.482747  |              0.500052   |        0.511811   |              0.521135   |                0.466311  |         0.455816   |               0.448624   |        0.533745   |         0.440388   |          0.506558   |           0.463585   |             0.616463   |              0.367566   |           0.657122  |            0.31836   |          0.620005   |           0.340648   |          0.621703   |           0.33757    |          0.597488   |           0.371853   |          0.591797   |           0.375515   |        0.560015   |        0.410798    |         0.558195   |           0.393598  |          0.550888   |           0.405267   |         0.549746   |          0.409023   |               0.526143   |               0.410478    |        0        |            0        |            0        |           0        |            0        |                   0        |                   0        |                   0        |                   0        |                    0        |                    0        |                    0        |                    0        |                  0        |                  0        |                  0        |                  0        |            0        |            0        |            0        |            0        |       0        |           0        |           0        |          0        |           0        |                  0        |                  0        |                  0        |                  0        |                   0        |                   0        |                   0        |                   0        |                 0        |                 0        |                 0        |                 0        |           0        |           0        |           0        |           0        |\n",
      "| RIGHT_RING_FINGER_TIP_X   |     0.482747  |              0.500052   |        0.511811   |              0.521135   |                0.466311  |         0.455816   |               0.448624   |        0.533745   |         0.440388   |          0.506558   |           0.463585   |             0.616463   |              0.367566   |           0.657122  |            0.31836   |          0.620005   |           0.340648   |          0.621703   |           0.33757    |          0.597488   |           0.371853   |          0.591797   |           0.375515   |        0.560015   |        0.410798    |         0.558195   |           0.393598  |          0.550888   |           0.405267   |         0.549746   |          0.409023   |               0.526143   |               0.410478    |        0        |            0        |            0        |           0        |            0        |                   0        |                   0        |                   0        |                   0        |                    0        |                    0        |                    0        |                    0        |                  0        |                  0        |                  0        |                  0        |            0        |            0        |            0        |            0        |       0        |           0        |           0        |          0        |           0        |                  0        |                  0        |                  0        |                  0        |                   0        |                   0        |                   0        |                   0        |                 0        |                 0        |                 0        |                 0        |           0        |           0        |           0        |           0        |\n",
      "| RIGHT_PINKY_MCP_X         |     0.482747  |              0.500052   |        0.511811   |              0.521135   |                0.466311  |         0.455816   |               0.448624   |        0.533745   |         0.440388   |          0.506558   |           0.463585   |             0.616463   |              0.367566   |           0.657122  |            0.31836   |          0.620005   |           0.340648   |          0.621703   |           0.33757    |          0.597488   |           0.371853   |          0.591797   |           0.375515   |        0.560015   |        0.410798    |         0.558195   |           0.393598  |          0.550888   |           0.405267   |         0.549746   |          0.409023   |               0.526143   |               0.410478    |        0        |            0        |            0        |           0        |            0        |                   0        |                   0        |                   0        |                   0        |                    0        |                    0        |                    0        |                    0        |                  0        |                  0        |                  0        |                  0        |            0        |            0        |            0        |            0        |       0        |           0        |           0        |          0        |           0        |                  0        |                  0        |                  0        |                  0        |                   0        |                   0        |                   0        |                   0        |                 0        |                 0        |                 0        |                 0        |           0        |           0        |           0        |           0        |\n",
      "| RIGHT_PINKY_PIP_X         |     0.482747  |              0.500052   |        0.511811   |              0.521135   |                0.466311  |         0.455816   |               0.448624   |        0.533745   |         0.440388   |          0.506558   |           0.463585   |             0.616463   |              0.367566   |           0.657122  |            0.31836   |          0.620005   |           0.340648   |          0.621703   |           0.33757    |          0.597488   |           0.371853   |          0.591797   |           0.375515   |        0.560015   |        0.410798    |         0.558195   |           0.393598  |          0.550888   |           0.405267   |         0.549746   |          0.409023   |               0.526143   |               0.410478    |        0        |            0        |            0        |           0        |            0        |                   0        |                   0        |                   0        |                   0        |                    0        |                    0        |                    0        |                    0        |                  0        |                  0        |                  0        |                  0        |            0        |            0        |            0        |            0        |       0        |           0        |           0        |          0        |           0        |                  0        |                  0        |                  0        |                  0        |                   0        |                   0        |                   0        |                   0        |                 0        |                 0        |                 0        |                 0        |           0        |           0        |           0        |           0        |\n",
      "| RIGHT_PINKY_DIP_X         |     0.482747  |              0.500052   |        0.511811   |              0.521135   |                0.466311  |         0.455816   |               0.448624   |        0.533745   |         0.440388   |          0.506558   |           0.463585   |             0.616463   |              0.367566   |           0.657122  |            0.31836   |          0.620005   |           0.340648   |          0.621703   |           0.33757    |          0.597488   |           0.371853   |          0.591797   |           0.375515   |        0.560015   |        0.410798    |         0.558195   |           0.393598  |          0.550888   |           0.405267   |         0.549746   |          0.409023   |               0.526143   |               0.410478    |        0        |            0        |            0        |           0        |            0        |                   0        |                   0        |                   0        |                   0        |                    0        |                    0        |                    0        |                    0        |                  0        |                  0        |                  0        |                  0        |            0        |            0        |            0        |            0        |       0        |           0        |           0        |          0        |           0        |                  0        |                  0        |                  0        |                  0        |                   0        |                   0        |                   0        |                   0        |                 0        |                 0        |                 0        |                 0        |           0        |           0        |           0        |           0        |\n",
      "| RIGHT_PINKY_TIP_X         |     0.482747  |              0.500052   |        0.511811   |              0.521135   |                0.466311  |         0.455816   |               0.448624   |        0.533745   |         0.440388   |          0.506558   |           0.463585   |             0.616463   |              0.367566   |           0.657122  |            0.31836   |          0.620005   |           0.340648   |          0.621703   |           0.33757    |          0.597488   |           0.371853   |          0.591797   |           0.375515   |        0.560015   |        0.410798    |         0.558195   |           0.393598  |          0.550888   |           0.405267   |         0.549746   |          0.409023   |               0.526143   |               0.410478    |        0        |            0        |            0        |           0        |            0        |                   0        |                   0        |                   0        |                   0        |                    0        |                    0        |                    0        |                    0        |                  0        |                  0        |                  0        |                  0        |            0        |            0        |            0        |            0        |       0        |           0        |           0        |          0        |           0        |                  0        |                  0        |                  0        |                  0        |                   0        |                   0        |                   0        |                   0        |                 0        |                 0        |                 0        |                 0        |           0        |           0        |           0        |           0        |\n",
      "| LEFT_WRIST_X              |     0.482747  |              0.500052   |        0.511811   |              0.521135   |                0.466311  |         0.455816   |               0.448624   |        0.533745   |         0.440388   |          0.506558   |           0.463585   |             0.616463   |              0.367566   |           0.657122  |            0.31836   |          0.620005   |           0.340648   |          0.621703   |           0.33757    |          0.597488   |           0.371853   |          0.591797   |           0.375515   |        0.560015   |        0.410798    |         0.558195   |           0.393598  |          0.550888   |           0.405267   |         0.549746   |          0.409023   |               0.526143   |               0.410478    |        0        |            0        |            0        |           0        |            0        |                   0        |                   0        |                   0        |                   0        |                    0        |                    0        |                    0        |                    0        |                  0        |                  0        |                  0        |                  0        |            0        |            0        |            0        |            0        |       0        |           0        |           0        |          0        |           0        |                  0        |                  0        |                  0        |                  0        |                   0        |                   0        |                   0        |                   0        |                 0        |                 0        |                 0        |                 0        |           0        |           0        |           0        |           0        |\n",
      "| LEFT_THUMB_CMC_X          |     0.482747  |              0.500052   |        0.511811   |              0.521135   |                0.466311  |         0.455816   |               0.448624   |        0.533745   |         0.440388   |          0.506558   |           0.463585   |             0.616463   |              0.367566   |           0.657122  |            0.31836   |          0.620005   |           0.340648   |          0.621703   |           0.33757    |          0.597488   |           0.371853   |          0.591797   |           0.375515   |        0.560015   |        0.410798    |         0.558195   |           0.393598  |          0.550888   |           0.405267   |         0.549746   |          0.409023   |               0.526143   |               0.410478    |        0        |            0        |            0        |           0        |            0        |                   0        |                   0        |                   0        |                   0        |                    0        |                    0        |                    0        |                    0        |                  0        |                  0        |                  0        |                  0        |            0        |            0        |            0        |            0        |       0        |           0        |           0        |          0        |           0        |                  0        |                  0        |                  0        |                  0        |                   0        |                   0        |                   0        |                   0        |                 0        |                 0        |                 0        |                 0        |           0        |           0        |           0        |           0        |\n",
      "| LEFT_THUMB_MCP_X          |     0.482747  |              0.500052   |        0.511811   |              0.521135   |                0.466311  |         0.455816   |               0.448624   |        0.533745   |         0.440388   |          0.506558   |           0.463585   |             0.616463   |              0.367566   |           0.657122  |            0.31836   |          0.620005   |           0.340648   |          0.621703   |           0.33757    |          0.597488   |           0.371853   |          0.591797   |           0.375515   |        0.560015   |        0.410798    |         0.558195   |           0.393598  |          0.550888   |           0.405267   |         0.549746   |          0.409023   |               0.526143   |               0.410478    |        0        |            0        |            0        |           0        |            0        |                   0        |                   0        |                   0        |                   0        |                    0        |                    0        |                    0        |                    0        |                  0        |                  0        |                  0        |                  0        |            0        |            0        |            0        |            0        |       0        |           0        |           0        |          0        |           0        |                  0        |                  0        |                  0        |                  0        |                   0        |                   0        |                   0        |                   0        |                 0        |                 0        |                 0        |                 0        |           0        |           0        |           0        |           0        |\n",
      "| LEFT_THUMB_IP_X           |     0.482747  |              0.500052   |        0.511811   |              0.521135   |                0.466311  |         0.455816   |               0.448624   |        0.533745   |         0.440388   |          0.506558   |           0.463585   |             0.616463   |              0.367566   |           0.657122  |            0.31836   |          0.620005   |           0.340648   |          0.621703   |           0.33757    |          0.597488   |           0.371853   |          0.591797   |           0.375515   |        0.560015   |        0.410798    |         0.558195   |           0.393598  |          0.550888   |           0.405267   |         0.549746   |          0.409023   |               0.526143   |               0.410478    |        0        |            0        |            0        |           0        |            0        |                   0        |                   0        |                   0        |                   0        |                    0        |                    0        |                    0        |                    0        |                  0        |                  0        |                  0        |                  0        |            0        |            0        |            0        |            0        |       0        |           0        |           0        |          0        |           0        |                  0        |                  0        |                  0        |                  0        |                   0        |                   0        |                   0        |                   0        |                 0        |                 0        |                 0        |                 0        |           0        |           0        |           0        |           0        |\n",
      "| LEFT_THUMB_TIP_X          |     0.482747  |              0.500052   |        0.511811   |              0.521135   |                0.466311  |         0.455816   |               0.448624   |        0.533745   |         0.440388   |          0.506558   |           0.463585   |             0.616463   |              0.367566   |           0.657122  |            0.31836   |          0.620005   |           0.340648   |          0.621703   |           0.33757    |          0.597488   |           0.371853   |          0.591797   |           0.375515   |        0.560015   |        0.410798    |         0.558195   |           0.393598  |          0.550888   |           0.405267   |         0.549746   |          0.409023   |               0.526143   |               0.410478    |        0        |            0        |            0        |           0        |            0        |                   0        |                   0        |                   0        |                   0        |                    0        |                    0        |                    0        |                    0        |                  0        |                  0        |                  0        |                  0        |            0        |            0        |            0        |            0        |       0        |           0        |           0        |          0        |           0        |                  0        |                  0        |                  0        |                  0        |                   0        |                   0        |                   0        |                   0        |                 0        |                 0        |                 0        |                 0        |           0        |           0        |           0        |           0        |\n",
      "| LEFT_INDEX_FINGER_MCP_X   |     0.482747  |              0.500052   |        0.511811   |              0.521135   |                0.466311  |         0.455816   |               0.448624   |        0.533745   |         0.440388   |          0.506558   |           0.463585   |             0.616463   |              0.367566   |           0.657122  |            0.31836   |          0.620005   |           0.340648   |          0.621703   |           0.33757    |          0.597488   |           0.371853   |          0.591797   |           0.375515   |        0.560015   |        0.410798    |         0.558195   |           0.393598  |          0.550888   |           0.405267   |         0.549746   |          0.409023   |               0.526143   |               0.410478    |        0        |            0        |            0        |           0        |            0        |                   0        |                   0        |                   0        |                   0        |                    0        |                    0        |                    0        |                    0        |                  0        |                  0        |                  0        |                  0        |            0        |            0        |            0        |            0        |       0        |           0        |           0        |          0        |           0        |                  0        |                  0        |                  0        |                  0        |                   0        |                   0        |                   0        |                   0        |                 0        |                 0        |                 0        |                 0        |           0        |           0        |           0        |           0        |\n",
      "| LEFT_INDEX_FINGER_PIP_X   |     0.482747  |              0.500052   |        0.511811   |              0.521135   |                0.466311  |         0.455816   |               0.448624   |        0.533745   |         0.440388   |          0.506558   |           0.463585   |             0.616463   |              0.367566   |           0.657122  |            0.31836   |          0.620005   |           0.340648   |          0.621703   |           0.33757    |          0.597488   |           0.371853   |          0.591797   |           0.375515   |        0.560015   |        0.410798    |         0.558195   |           0.393598  |          0.550888   |           0.405267   |         0.549746   |          0.409023   |               0.526143   |               0.410478    |        0        |            0        |            0        |           0        |            0        |                   0        |                   0        |                   0        |                   0        |                    0        |                    0        |                    0        |                    0        |                  0        |                  0        |                  0        |                  0        |            0        |            0        |            0        |            0        |       0        |           0        |           0        |          0        |           0        |                  0        |                  0        |                  0        |                  0        |                   0        |                   0        |                   0        |                   0        |                 0        |                 0        |                 0        |                 0        |           0        |           0        |           0        |           0        |\n",
      "| LEFT_INDEX_FINGER_DIP_X   |     0.482747  |              0.500052   |        0.511811   |              0.521135   |                0.466311  |         0.455816   |               0.448624   |        0.533745   |         0.440388   |          0.506558   |           0.463585   |             0.616463   |              0.367566   |           0.657122  |            0.31836   |          0.620005   |           0.340648   |          0.621703   |           0.33757    |          0.597488   |           0.371853   |          0.591797   |           0.375515   |        0.560015   |        0.410798    |         0.558195   |           0.393598  |          0.550888   |           0.405267   |         0.549746   |          0.409023   |               0.526143   |               0.410478    |        0        |            0        |            0        |           0        |            0        |                   0        |                   0        |                   0        |                   0        |                    0        |                    0        |                    0        |                    0        |                  0        |                  0        |                  0        |                  0        |            0        |            0        |            0        |            0        |       0        |           0        |           0        |          0        |           0        |                  0        |                  0        |                  0        |                  0        |                   0        |                   0        |                   0        |                   0        |                 0        |                 0        |                 0        |                 0        |           0        |           0        |           0        |           0        |\n",
      "| LEFT_INDEX_FINGER_TIP_X   |     0.482747  |              0.500052   |        0.511811   |              0.521135   |                0.466311  |         0.455816   |               0.448624   |        0.533745   |         0.440388   |          0.506558   |           0.463585   |             0.616463   |              0.367566   |           0.657122  |            0.31836   |          0.620005   |           0.340648   |          0.621703   |           0.33757    |          0.597488   |           0.371853   |          0.591797   |           0.375515   |        0.560015   |        0.410798    |         0.558195   |           0.393598  |          0.550888   |           0.405267   |         0.549746   |          0.409023   |               0.526143   |               0.410478    |        0        |            0        |            0        |           0        |            0        |                   0        |                   0        |                   0        |                   0        |                    0        |                    0        |                    0        |                    0        |                  0        |                  0        |                  0        |                  0        |            0        |            0        |            0        |            0        |       0        |           0        |           0        |          0        |           0        |                  0        |                  0        |                  0        |                  0        |                   0        |                   0        |                   0        |                   0        |                 0        |                 0        |                 0        |                 0        |           0        |           0        |           0        |           0        |\n",
      "| LEFT_MIDDLE_FINGER_MCP_X  |     0.482747  |              0.500052   |        0.511811   |              0.521135   |                0.466311  |         0.455816   |               0.448624   |        0.533745   |         0.440388   |          0.506558   |           0.463585   |             0.616463   |              0.367566   |           0.657122  |            0.31836   |          0.620005   |           0.340648   |          0.621703   |           0.33757    |          0.597488   |           0.371853   |          0.591797   |           0.375515   |        0.560015   |        0.410798    |         0.558195   |           0.393598  |          0.550888   |           0.405267   |         0.549746   |          0.409023   |               0.526143   |               0.410478    |        0        |            0        |            0        |           0        |            0        |                   0        |                   0        |                   0        |                   0        |                    0        |                    0        |                    0        |                    0        |                  0        |                  0        |                  0        |                  0        |            0        |            0        |            0        |            0        |       0        |           0        |           0        |          0        |           0        |                  0        |                  0        |                  0        |                  0        |                   0        |                   0        |                   0        |                   0        |                 0        |                 0        |                 0        |                 0        |           0        |           0        |           0        |           0        |\n",
      "| LEFT_MIDDLE_FINGER_PIP_X  |     0.482747  |              0.500052   |        0.511811   |              0.521135   |                0.466311  |         0.455816   |               0.448624   |        0.533745   |         0.440388   |          0.506558   |           0.463585   |             0.616463   |              0.367566   |           0.657122  |            0.31836   |          0.620005   |           0.340648   |          0.621703   |           0.33757    |          0.597488   |           0.371853   |          0.591797   |           0.375515   |        0.560015   |        0.410798    |         0.558195   |           0.393598  |          0.550888   |           0.405267   |         0.549746   |          0.409023   |               0.526143   |               0.410478    |        0        |            0        |            0        |           0        |            0        |                   0        |                   0        |                   0        |                   0        |                    0        |                    0        |                    0        |                    0        |                  0        |                  0        |                  0        |                  0        |            0        |            0        |            0        |            0        |       0        |           0        |           0        |          0        |           0        |                  0        |                  0        |                  0        |                  0        |                   0        |                   0        |                   0        |                   0        |                 0        |                 0        |                 0        |                 0        |           0        |           0        |           0        |           0        |\n",
      "| LEFT_MIDDLE_FINGER_DIP_X  |     0.482747  |              0.500052   |        0.511811   |              0.521135   |                0.466311  |         0.455816   |               0.448624   |        0.533745   |         0.440388   |          0.506558   |           0.463585   |             0.616463   |              0.367566   |           0.657122  |            0.31836   |          0.620005   |           0.340648   |          0.621703   |           0.33757    |          0.597488   |           0.371853   |          0.591797   |           0.375515   |        0.560015   |        0.410798    |         0.558195   |           0.393598  |          0.550888   |           0.405267   |         0.549746   |          0.409023   |               0.526143   |               0.410478    |        0        |            0        |            0        |           0        |            0        |                   0        |                   0        |                   0        |                   0        |                    0        |                    0        |                    0        |                    0        |                  0        |                  0        |                  0        |                  0        |            0        |            0        |            0        |            0        |       0        |           0        |           0        |          0        |           0        |                  0        |                  0        |                  0        |                  0        |                   0        |                   0        |                   0        |                   0        |                 0        |                 0        |                 0        |                 0        |           0        |           0        |           0        |           0        |\n",
      "| LEFT_MIDDLE_FINGER_TIP_X  |     0.482747  |              0.500052   |        0.511811   |              0.521135   |                0.466311  |         0.455816   |               0.448624   |        0.533745   |         0.440388   |          0.506558   |           0.463585   |             0.616463   |              0.367566   |           0.657122  |            0.31836   |          0.620005   |           0.340648   |          0.621703   |           0.33757    |          0.597488   |           0.371853   |          0.591797   |           0.375515   |        0.560015   |        0.410798    |         0.558195   |           0.393598  |          0.550888   |           0.405267   |         0.549746   |          0.409023   |               0.526143   |               0.410478    |        0        |            0        |            0        |           0        |            0        |                   0        |                   0        |                   0        |                   0        |                    0        |                    0        |                    0        |                    0        |                  0        |                  0        |                  0        |                  0        |            0        |            0        |            0        |            0        |       0        |           0        |           0        |          0        |           0        |                  0        |                  0        |                  0        |                  0        |                   0        |                   0        |                   0        |                   0        |                 0        |                 0        |                 0        |                 0        |           0        |           0        |           0        |           0        |\n",
      "| LEFT_RING_FINGER_MCP_X    |     0.482747  |              0.500052   |        0.511811   |              0.521135   |                0.466311  |         0.455816   |               0.448624   |        0.533745   |         0.440388   |          0.506558   |           0.463585   |             0.616463   |              0.367566   |           0.657122  |            0.31836   |          0.620005   |           0.340648   |          0.621703   |           0.33757    |          0.597488   |           0.371853   |          0.591797   |           0.375515   |        0.560015   |        0.410798    |         0.558195   |           0.393598  |          0.550888   |           0.405267   |         0.549746   |          0.409023   |               0.526143   |               0.410478    |        0        |            0        |            0        |           0        |            0        |                   0        |                   0        |                   0        |                   0        |                    0        |                    0        |                    0        |                    0        |                  0        |                  0        |                  0        |                  0        |            0        |            0        |            0        |            0        |       0        |           0        |           0        |          0        |           0        |                  0        |                  0        |                  0        |                  0        |                   0        |                   0        |                   0        |                   0        |                 0        |                 0        |                 0        |                 0        |           0        |           0        |           0        |           0        |\n",
      "| LEFT_RING_FINGER_PIP_X    |     0.482747  |              0.500052   |        0.511811   |              0.521135   |                0.466311  |         0.455816   |               0.448624   |        0.533745   |         0.440388   |          0.506558   |           0.463585   |             0.616463   |              0.367566   |           0.657122  |            0.31836   |          0.620005   |           0.340648   |          0.621703   |           0.33757    |          0.597488   |           0.371853   |          0.591797   |           0.375515   |        0.560015   |        0.410798    |         0.558195   |           0.393598  |          0.550888   |           0.405267   |         0.549746   |          0.409023   |               0.526143   |               0.410478    |        0        |            0        |            0        |           0        |            0        |                   0        |                   0        |                   0        |                   0        |                    0        |                    0        |                    0        |                    0        |                  0        |                  0        |                  0        |                  0        |            0        |            0        |            0        |            0        |       0        |           0        |           0        |          0        |           0        |                  0        |                  0        |                  0        |                  0        |                   0        |                   0        |                   0        |                   0        |                 0        |                 0        |                 0        |                 0        |           0        |           0        |           0        |           0        |\n",
      "| LEFT_RING_FINGER_DIP_X    |     0.482747  |              0.500052   |        0.511811   |              0.521135   |                0.466311  |         0.455816   |               0.448624   |        0.533745   |         0.440388   |          0.506558   |           0.463585   |             0.616463   |              0.367566   |           0.657122  |            0.31836   |          0.620005   |           0.340648   |          0.621703   |           0.33757    |          0.597488   |           0.371853   |          0.591797   |           0.375515   |        0.560015   |        0.410798    |         0.558195   |           0.393598  |          0.550888   |           0.405267   |         0.549746   |          0.409023   |               0.526143   |               0.410478    |        0        |            0        |            0        |           0        |            0        |                   0        |                   0        |                   0        |                   0        |                    0        |                    0        |                    0        |                    0        |                  0        |                  0        |                  0        |                  0        |            0        |            0        |            0        |            0        |       0        |           0        |           0        |          0        |           0        |                  0        |                  0        |                  0        |                  0        |                   0        |                   0        |                   0        |                   0        |                 0        |                 0        |                 0        |                 0        |           0        |           0        |           0        |           0        |\n",
      "| LEFT_RING_FINGER_TIP_X    |     0.482747  |              0.500052   |        0.511811   |              0.521135   |                0.466311  |         0.455816   |               0.448624   |        0.533745   |         0.440388   |          0.506558   |           0.463585   |             0.616463   |              0.367566   |           0.657122  |            0.31836   |          0.620005   |           0.340648   |          0.621703   |           0.33757    |          0.597488   |           0.371853   |          0.591797   |           0.375515   |        0.560015   |        0.410798    |         0.558195   |           0.393598  |          0.550888   |           0.405267   |         0.549746   |          0.409023   |               0.526143   |               0.410478    |        0        |            0        |            0        |           0        |            0        |                   0        |                   0        |                   0        |                   0        |                    0        |                    0        |                    0        |                    0        |                  0        |                  0        |                  0        |                  0        |            0        |            0        |            0        |            0        |       0        |           0        |           0        |          0        |           0        |                  0        |                  0        |                  0        |                  0        |                   0        |                   0        |                   0        |                   0        |                 0        |                 0        |                 0        |                 0        |           0        |           0        |           0        |           0        |\n",
      "| LEFT_PINKY_MCP_X          |     0.482747  |              0.500052   |        0.511811   |              0.521135   |                0.466311  |         0.455816   |               0.448624   |        0.533745   |         0.440388   |          0.506558   |           0.463585   |             0.616463   |              0.367566   |           0.657122  |            0.31836   |          0.620005   |           0.340648   |          0.621703   |           0.33757    |          0.597488   |           0.371853   |          0.591797   |           0.375515   |        0.560015   |        0.410798    |         0.558195   |           0.393598  |          0.550888   |           0.405267   |         0.549746   |          0.409023   |               0.526143   |               0.410478    |        0        |            0        |            0        |           0        |            0        |                   0        |                   0        |                   0        |                   0        |                    0        |                    0        |                    0        |                    0        |                  0        |                  0        |                  0        |                  0        |            0        |            0        |            0        |            0        |       0        |           0        |           0        |          0        |           0        |                  0        |                  0        |                  0        |                  0        |                   0        |                   0        |                   0        |                   0        |                 0        |                 0        |                 0        |                 0        |           0        |           0        |           0        |           0        |\n",
      "| LEFT_PINKY_PIP_X          |     0.482747  |              0.500052   |        0.511811   |              0.521135   |                0.466311  |         0.455816   |               0.448624   |        0.533745   |         0.440388   |          0.506558   |           0.463585   |             0.616463   |              0.367566   |           0.657122  |            0.31836   |          0.620005   |           0.340648   |          0.621703   |           0.33757    |          0.597488   |           0.371853   |          0.591797   |           0.375515   |        0.560015   |        0.410798    |         0.558195   |           0.393598  |          0.550888   |           0.405267   |         0.549746   |          0.409023   |               0.526143   |               0.410478    |        0        |            0        |            0        |           0        |            0        |                   0        |                   0        |                   0        |                   0        |                    0        |                    0        |                    0        |                    0        |                  0        |                  0        |                  0        |                  0        |            0        |            0        |            0        |            0        |       0        |           0        |           0        |          0        |           0        |                  0        |                  0        |                  0        |                  0        |                   0        |                   0        |                   0        |                   0        |                 0        |                 0        |                 0        |                 0        |           0        |           0        |           0        |           0        |\n",
      "| LEFT_PINKY_DIP_X          |     0.482747  |              0.500052   |        0.511811   |              0.521135   |                0.466311  |         0.455816   |               0.448624   |        0.533745   |         0.440388   |          0.506558   |           0.463585   |             0.616463   |              0.367566   |           0.657122  |            0.31836   |          0.620005   |           0.340648   |          0.621703   |           0.33757    |          0.597488   |           0.371853   |          0.591797   |           0.375515   |        0.560015   |        0.410798    |         0.558195   |           0.393598  |          0.550888   |           0.405267   |         0.549746   |          0.409023   |               0.526143   |               0.410478    |        0        |            0        |            0        |           0        |            0        |                   0        |                   0        |                   0        |                   0        |                    0        |                    0        |                    0        |                    0        |                  0        |                  0        |                  0        |                  0        |            0        |            0        |            0        |            0        |       0        |           0        |           0        |          0        |           0        |                  0        |                  0        |                  0        |                  0        |                   0        |                   0        |                   0        |                   0        |                 0        |                 0        |                 0        |                 0        |           0        |           0        |           0        |           0        |\n",
      "| LEFT_PINKY_TIP_X          |     0.482747  |              0.500052   |        0.511811   |              0.521135   |                0.466311  |         0.455816   |               0.448624   |        0.533745   |         0.440388   |          0.506558   |           0.463585   |             0.616463   |              0.367566   |           0.657122  |            0.31836   |          0.620005   |           0.340648   |          0.621703   |           0.33757    |          0.597488   |           0.371853   |          0.591797   |           0.375515   |        0.560015   |        0.410798    |         0.558195   |           0.393598  |          0.550888   |           0.405267   |         0.549746   |          0.409023   |               0.526143   |               0.410478    |        0        |            0        |            0        |           0        |            0        |                   0        |                   0        |                   0        |                   0        |                    0        |                    0        |                    0        |                    0        |                  0        |                  0        |                  0        |                  0        |            0        |            0        |            0        |            0        |       0        |           0        |           0        |          0        |           0        |                  0        |                  0        |                  0        |                  0        |                   0        |                   0        |                   0        |                   0        |                 0        |                 0        |                 0        |                 0        |           0        |           0        |           0        |           0        |\n"
     ]
    }
   ],
   "source": [
    "print(pd.DataFrame(x_diff, columns=[col for col in POSE_DF.columns if col.endswith('_X')], index=[col for col in POSE_DF.columns if col.endswith('_X')]).to_markdown())"
   ]
  },
  {
   "cell_type": "code",
   "execution_count": null,
   "metadata": {},
   "outputs": [],
   "source": [
    "import glob\n",
    "import numpy as np\n",
    "from tqdm.notebook import tqdm\n",
    "import warnings\n",
    "\n",
    "with warnings.catch_warnings():\n",
    "    warnings.simplefilter(\"ignore\")\n",
    "    ARRAY_PATH = 'dataset/pose/'\n",
    "    for datapath in tqdm(glob.glob('dataset/corpus/*.mp4')):\n",
    "        print(datapath)\n",
    "        pose = get_pose_estimation(datapath)\n",
    "        pose_array = get_pose_array(pose)\n",
    "        print(pose_array.shape, datapath)\n",
    "        dname = datapath.split('/')[-1].replace('.mp4', '.npy')\n",
    "        with open(ARRAY_PATH+'/'+dname, 'wb') as f:\n",
    "            np.save(f, pose_array)"
   ]
  },
  {
   "cell_type": "markdown",
   "metadata": {},
   "source": [
    "### 2. Graph Autoencoder Training"
   ]
  },
  {
   "cell_type": "code",
   "execution_count": 2,
   "metadata": {},
   "outputs": [],
   "source": [
    "DATA_PATH = 'dataset/pose/'\n",
    "data = glob.glob(DATA_PATH + '*.npy')\n",
    "X_train, X_val = train_test_split(data, test_size=0.2, random_state=42)"
   ]
  },
  {
   "cell_type": "code",
   "execution_count": 3,
   "metadata": {},
   "outputs": [
    {
     "name": "stderr",
     "output_type": "stream",
     "text": [
      "100%|██████████| 2716/2716 [00:02<00:00, 941.46it/s]\n"
     ]
    }
   ],
   "source": [
    "train_dataset = PoseDataset(X_train)\n",
    "train_dataloader = DataLoader(\n",
    "    train_dataset, \n",
    "    batch_size=GLOBAL_CONFIG.BATCH_SIZE, \n",
    "    shuffle=True,\n",
    ")"
   ]
  },
  {
   "cell_type": "code",
   "execution_count": 4,
   "metadata": {},
   "outputs": [
    {
     "name": "stderr",
     "output_type": "stream",
     "text": [
      "100%|██████████| 679/679 [00:00<00:00, 880.56it/s]\n"
     ]
    }
   ],
   "source": [
    "val_dataset = PoseDataset(X_val)\n",
    "val_dataloader = DataLoader(\n",
    "    val_dataset, \n",
    "    batch_size=GLOBAL_CONFIG.BATCH_SIZE, \n",
    "    shuffle=True,\n",
    ")"
   ]
  },
  {
   "cell_type": "code",
   "execution_count": 5,
   "metadata": {},
   "outputs": [
    {
     "name": "stderr",
     "output_type": "stream",
     "text": [
      "/home/kara-nlp/anaconda3/lib/python3.11/site-packages/torch/cuda/__init__.py:141: UserWarning: CUDA initialization: The NVIDIA driver on your system is too old (found version 11060). Please update your GPU driver by downloading and installing a new version from the URL: http://www.nvidia.com/Download/index.aspx Alternatively, go to: https://pytorch.org to install a PyTorch version that has been compiled with your version of the CUDA driver. (Triggered internally at ../c10/cuda/CUDAFunctions.cpp:108.)\n",
      "  return torch._C._cuda_getDeviceCount() > 0\n"
     ]
    },
    {
     "data": {
      "text/plain": [
       "False"
      ]
     },
     "execution_count": 5,
     "metadata": {},
     "output_type": "execute_result"
    }
   ],
   "source": [
    "torch.cuda.is_available()"
   ]
  },
  {
   "cell_type": "code",
   "execution_count": 6,
   "metadata": {},
   "outputs": [],
   "source": [
    "DEVICE = torch.device('cuda:0' if torch.cuda.is_available() else 'cpu')\n",
    "\n",
    "MODEL_ENCODER = FFNEncoder(\n",
    "    input_dim=GLOBAL_CONFIG.MODEL_ENCODER_INPUT_DIM,\n",
    "    hidden_dim=GLOBAL_CONFIG.MODEL_ENCODER_HIDDEN_DIM,\n",
    "    output_dim=GLOBAL_CONFIG.MODEL_ENCODER_OUTPUT_DIM,\n",
    ")\n",
    "\n",
    "MODEL_DECODER = FFNDecoder(\n",
    "    input_dim=GLOBAL_CONFIG.MODEL_DECODER_INPUT_DIM,\n",
    "    hidden_dim=GLOBAL_CONFIG.MODEL_DECODER_HIDDEN_DIM,\n",
    "    output_dim=GLOBAL_CONFIG.MODEL_ENCODER_INPUT_DIM,\n",
    ")\n",
    "\n",
    "MODEL_QUANT = ResidualVQ(\n",
    "    dim = GLOBAL_CONFIG.MODEL_VQ_EMBED_DIM,\n",
    "    stochastic_sample_codes=True,\n",
    "    num_quantizers=1,      # specify number of quantizers\n",
    "    codebook_size=GLOBAL_CONFIG.MODEL_VQ_NUM_EMBS,    # codebook size           \n",
    "    kmeans_init=True,   # set to True\n",
    "    kmeans_iters=100     # number of kmeans iterations to calculate the centroids for the codebook on init\n",
    ")\n",
    "\n",
    "MODEL_VQVAE = VQVAE(\n",
    "    encoder=MODEL_ENCODER,\n",
    "    decoder=MODEL_DECODER,\n",
    "    vq=MODEL_QUANT,\n",
    ")\n",
    "\n",
    "trainer = AutoencoderTrainer(\n",
    "    model=MODEL_VQVAE,\n",
    "    learning_rate=GLOBAL_CONFIG.LEARNING_RATE,\n",
    "    train_dataloader=train_dataloader, \n",
    "    val_dataloader=val_dataloader,\n",
    "    num_epochs=GLOBAL_CONFIG.NUM_EPOCHS,\n",
    "    device='cpu',\n",
    ")"
   ]
  },
  {
   "cell_type": "code",
   "execution_count": null,
   "metadata": {},
   "outputs": [],
   "source": [
    "trainer.train()"
   ]
  },
  {
   "cell_type": "code",
   "execution_count": 8,
   "metadata": {},
   "outputs": [
    {
     "data": {
      "application/vnd.jupyter.widget-view+json": {
       "model_id": "b4f1b23de9304b459ca7f8804f5c3592",
       "version_major": 2,
       "version_minor": 0
      },
      "text/plain": [
       "  0%|          | 0/18911 [00:00<?, ?it/s]"
      ]
     },
     "metadata": {},
     "output_type": "display_data"
    }
   ],
   "source": [
    "from tqdm.notebook import tqdm\n",
    "\n",
    "MODEL_VQVAE.eval()\n",
    "\n",
    "dfs = []\n",
    "for train_sample in tqdm(train_dataloader):\n",
    "    with torch.no_grad():\n",
    "        quantized, indices, commitment_loss = MODEL_VQVAE(train_sample['array'].float())\n",
    "        dfs.append(pd.DataFrame({\n",
    "            'videos': train_sample['token'],\n",
    "            'labels': indices.detach().cpu().numpy().reshape(-1),\n",
    "            'frame': train_sample['frame'].detach().cpu().numpy().reshape(-1)\n",
    "        }))"
   ]
  },
  {
   "cell_type": "code",
   "execution_count": 9,
   "metadata": {},
   "outputs": [],
   "source": [
    "df = pd.concat(dfs)"
   ]
  },
  {
   "cell_type": "code",
   "execution_count": 10,
   "metadata": {},
   "outputs": [
    {
     "data": {
      "text/html": [
       "<div>\n",
       "<style scoped>\n",
       "    .dataframe tbody tr th:only-of-type {\n",
       "        vertical-align: middle;\n",
       "    }\n",
       "\n",
       "    .dataframe tbody tr th {\n",
       "        vertical-align: top;\n",
       "    }\n",
       "\n",
       "    .dataframe thead th {\n",
       "        text-align: right;\n",
       "    }\n",
       "</style>\n",
       "<table border=\"1\" class=\"dataframe\">\n",
       "  <thead>\n",
       "    <tr style=\"text-align: right;\">\n",
       "      <th></th>\n",
       "      <th>videos</th>\n",
       "      <th>labels</th>\n",
       "      <th>frame</th>\n",
       "    </tr>\n",
       "  </thead>\n",
       "  <tbody>\n",
       "    <tr>\n",
       "      <th>0</th>\n",
       "      <td>TICARET_0.npy</td>\n",
       "      <td>663</td>\n",
       "      <td>8</td>\n",
       "    </tr>\n",
       "    <tr>\n",
       "      <th>1</th>\n",
       "      <td>EL_0.npy</td>\n",
       "      <td>663</td>\n",
       "      <td>1</td>\n",
       "    </tr>\n",
       "    <tr>\n",
       "      <th>2</th>\n",
       "      <td>KAN_0.npy</td>\n",
       "      <td>375</td>\n",
       "      <td>31</td>\n",
       "    </tr>\n",
       "    <tr>\n",
       "      <th>3</th>\n",
       "      <td>EL O╠êPMEK_1.npy</td>\n",
       "      <td>663</td>\n",
       "      <td>26</td>\n",
       "    </tr>\n",
       "    <tr>\n",
       "      <th>4</th>\n",
       "      <td>SALDIRMAK_0.npy</td>\n",
       "      <td>282</td>\n",
       "      <td>15</td>\n",
       "    </tr>\n",
       "    <tr>\n",
       "      <th>...</th>\n",
       "      <td>...</td>\n",
       "      <td>...</td>\n",
       "      <td>...</td>\n",
       "    </tr>\n",
       "    <tr>\n",
       "      <th>0</th>\n",
       "      <td>S╠ğOK _0.npy</td>\n",
       "      <td>96</td>\n",
       "      <td>40</td>\n",
       "    </tr>\n",
       "    <tr>\n",
       "      <th>1</th>\n",
       "      <td>SOHBET ETMEK_0.npy</td>\n",
       "      <td>882</td>\n",
       "      <td>6</td>\n",
       "    </tr>\n",
       "    <tr>\n",
       "      <th>2</th>\n",
       "      <td>YAS╠ğAMAK_0.npy</td>\n",
       "      <td>96</td>\n",
       "      <td>47</td>\n",
       "    </tr>\n",
       "    <tr>\n",
       "      <th>3</th>\n",
       "      <td>GU╠êC╠ğLU╠ê _1.npy</td>\n",
       "      <td>282</td>\n",
       "      <td>7</td>\n",
       "    </tr>\n",
       "    <tr>\n",
       "      <th>4</th>\n",
       "      <td>RAHATSIZ_2.npy</td>\n",
       "      <td>375</td>\n",
       "      <td>3</td>\n",
       "    </tr>\n",
       "  </tbody>\n",
       "</table>\n",
       "<p>151285 rows × 3 columns</p>\n",
       "</div>"
      ],
      "text/plain": [
       "                videos  labels  frame\n",
       "0        TICARET_0.npy     663      8\n",
       "1             EL_0.npy     663      1\n",
       "2            KAN_0.npy     375     31\n",
       "3     EL O╠êPMEK_1.npy     663     26\n",
       "4      SALDIRMAK_0.npy     282     15\n",
       "..                 ...     ...    ...\n",
       "0         S╠ğOK _0.npy      96     40\n",
       "1   SOHBET ETMEK_0.npy     882      6\n",
       "2      YAS╠ğAMAK_0.npy      96     47\n",
       "3   GU╠êC╠ğLU╠ê _1.npy     282      7\n",
       "4       RAHATSIZ_2.npy     375      3\n",
       "\n",
       "[151285 rows x 3 columns]"
      ]
     },
     "execution_count": 10,
     "metadata": {},
     "output_type": "execute_result"
    }
   ],
   "source": [
    "df"
   ]
  },
  {
   "cell_type": "code",
   "execution_count": 11,
   "metadata": {},
   "outputs": [
    {
     "data": {
      "text/plain": [
       "labels\n",
       "629    46223\n",
       "96     43641\n",
       "882    23308\n",
       "663    21702\n",
       "282    11906\n",
       "375     4364\n",
       "0        141\n",
       "Name: count, dtype: int64"
      ]
     },
     "execution_count": 11,
     "metadata": {},
     "output_type": "execute_result"
    }
   ],
   "source": [
    "df.labels.value_counts()"
   ]
  },
  {
   "cell_type": "code",
   "execution_count": 14,
   "metadata": {},
   "outputs": [
    {
     "data": {
      "application/vnd.jupyter.widget-view+json": {
       "model_id": "efcb309869774650add8d4da2b7aa82f",
       "version_major": 2,
       "version_minor": 0
      },
      "text/plain": [
       "  0%|          | 0/100 [00:00<?, ?it/s]"
      ]
     },
     "metadata": {},
     "output_type": "display_data"
    }
   ],
   "source": [
    "import cv2\n",
    "for rec in tqdm(df[df['labels'] == 375].to_dict(orient='records')[:100]):\n",
    "    # save frame video to disk\n",
    "    video = rec['videos'].split('.')[0]\n",
    "    video_path = f\"dataset/corpus/{video}.mp4\"\n",
    "    frame_idx = rec['frame']\n",
    "    label = rec['labels']\n",
    "    \n",
    "    cap = cv2.VideoCapture(video_path)\n",
    "    ret, frame = cap.read()\n",
    "    \n",
    "    if not os.path.exists(f'analyze/quantization/{label}'): os.mkdir(f'analyze/quantization/{label}')\n",
    "\n",
    "    for i in range(frame_idx):\n",
    "        ret, frame = cap.read()\n",
    "        if i == frame_idx-1:\n",
    "            cv2.imwrite(f'analyze/quantization/{label}/{video}_{frame_idx}.jpg', frame)   "
   ]
  },
  {
   "cell_type": "markdown",
   "metadata": {},
   "source": [
    "###  3. 3D-CNN Training "
   ]
  },
  {
   "cell_type": "code",
   "execution_count": 15,
   "metadata": {},
   "outputs": [],
   "source": [
    "DATA_PATH = 'dataset/adjacency/'\n",
    "data = glob.glob(DATA_PATH + '*.npy')[:100]\n",
    "X_train, X_val = train_test_split(data, test_size=0.2, random_state=42)"
   ]
  },
  {
   "cell_type": "code",
   "execution_count": 16,
   "metadata": {},
   "outputs": [
    {
     "name": "stderr",
     "output_type": "stream",
     "text": [
      "100%|██████████| 80/80 [00:00<00:00, 249.82it/s]\n"
     ]
    }
   ],
   "source": [
    "train_dataset = PoseDistanceDataset(X_train)\n",
    "train_dataloader = DataLoader(\n",
    "    train_dataset, \n",
    "    batch_size=GLOBAL_CONFIG.BATCH_SIZE, \n",
    "    shuffle=True,\n",
    "    collate_fn=PoseDistanceDataset.collate_fn\n",
    ")"
   ]
  },
  {
   "cell_type": "code",
   "execution_count": 17,
   "metadata": {},
   "outputs": [
    {
     "name": "stderr",
     "output_type": "stream",
     "text": [
      "100%|██████████| 20/20 [00:00<00:00, 187.17it/s]\n"
     ]
    }
   ],
   "source": [
    "val_dataset = PoseDistanceDataset(X_val)\n",
    "val_dataloader = DataLoader(\n",
    "    val_dataset, \n",
    "    batch_size=GLOBAL_CONFIG.BATCH_SIZE, \n",
    "    shuffle=True,\n",
    "    collate_fn=PoseDistanceDataset.collate_fn\n",
    ")"
   ]
  },
  {
   "cell_type": "code",
   "execution_count": 18,
   "metadata": {},
   "outputs": [],
   "source": [
    "DEVICE = torch.device('cuda:0' if torch.cuda.is_available() else 'cpu')\n",
    "\n",
    "MODEL_ENCODER = CNNEncoder(\n",
    "    input_channels=3,\n",
    ")\n",
    "\n",
    "MODEL_DECODER = CNNDecoder(\n",
    "    output_channels=3,\n",
    ")\n",
    "\n",
    "MODEL_QUANT = ResidualVQ(\n",
    "    dim = GLOBAL_CONFIG.MODEL_VQ_EMBED_DIM,\n",
    "    stochastic_sample_codes=True,\n",
    "    num_quantizers=1,      # specify number of quantizers\n",
    "    codebook_size=GLOBAL_CONFIG.MODEL_VQ_NUM_EMBS,    # codebook size           \n",
    "    kmeans_init=True,   # set to True\n",
    "    kmeans_iters=10     # number of kmeans iterations to calculate the centroids for the codebook on init\n",
    ")\n",
    "\n",
    "MODEL_VQVAE = VQVAE(\n",
    "    encoder=MODEL_ENCODER,\n",
    "    decoder=MODEL_DECODER,\n",
    "    vq=MODEL_QUANT,\n",
    ")\n",
    "\n",
    "trainer = AutoencoderTrainer(\n",
    "    model=MODEL_VQVAE,\n",
    "    learning_rate=GLOBAL_CONFIG.LEARNING_RATE,\n",
    "    train_dataloader=train_dataloader, \n",
    "    val_dataloader=val_dataloader,\n",
    "    num_epochs=GLOBAL_CONFIG.NUM_EPOCHS,\n",
    "    device='cpu',\n",
    ")"
   ]
  },
  {
   "cell_type": "code",
   "execution_count": null,
   "metadata": {},
   "outputs": [],
   "source": [
    "trainer.train()"
   ]
  },
  {
   "cell_type": "code",
   "execution_count": 10,
   "metadata": {},
   "outputs": [
    {
     "data": {
      "application/vnd.jupyter.widget-view+json": {
       "model_id": "a834f010f9cd4c36bcb1aa88438d43ad",
       "version_major": 2,
       "version_minor": 0
      },
      "text/plain": [
       "  0%|          | 0/1929 [00:00<?, ?it/s]"
      ]
     },
     "metadata": {},
     "output_type": "display_data"
    },
    {
     "name": "stdout",
     "output_type": "stream",
     "text": [
      "torch.Size([10, 5])\n"
     ]
    },
    {
     "ename": "ValueError",
     "evalue": "All arrays must be of the same length",
     "output_type": "error",
     "traceback": [
      "\u001b[0;31m---------------------------------------------------------------------------\u001b[0m",
      "\u001b[0;31mValueError\u001b[0m                                Traceback (most recent call last)",
      "Cell \u001b[0;32mIn[10], line 17\u001b[0m\n\u001b[1;32m     15\u001b[0m quantized, indices, commitment_loss \u001b[38;5;241m=\u001b[39m MODEL_VQVAE(train_sample[\u001b[38;5;124m'\u001b[39m\u001b[38;5;124marray\u001b[39m\u001b[38;5;124m'\u001b[39m]\u001b[38;5;241m.\u001b[39mfloat())\n\u001b[1;32m     16\u001b[0m \u001b[38;5;28mprint\u001b[39m(indices\u001b[38;5;241m.\u001b[39mshape)\n\u001b[0;32m---> 17\u001b[0m dfs\u001b[38;5;241m.\u001b[39mappend(pd\u001b[38;5;241m.\u001b[39mDataFrame({\n\u001b[1;32m     18\u001b[0m     \u001b[38;5;124m'\u001b[39m\u001b[38;5;124mvideos\u001b[39m\u001b[38;5;124m'\u001b[39m: train_sample[\u001b[38;5;124m'\u001b[39m\u001b[38;5;124mtokens\u001b[39m\u001b[38;5;124m'\u001b[39m],\n\u001b[1;32m     19\u001b[0m     \u001b[38;5;124m'\u001b[39m\u001b[38;5;124mlabels\u001b[39m\u001b[38;5;124m'\u001b[39m: indices\u001b[38;5;241m.\u001b[39mdetach()\u001b[38;5;241m.\u001b[39mcpu()\u001b[38;5;241m.\u001b[39mnumpy()\u001b[38;5;241m.\u001b[39mreshape(\u001b[38;5;241m-\u001b[39m\u001b[38;5;241m1\u001b[39m),\n\u001b[1;32m     20\u001b[0m     \u001b[38;5;124m'\u001b[39m\u001b[38;5;124mstart_idx\u001b[39m\u001b[38;5;124m'\u001b[39m: train_sample[\u001b[38;5;124m'\u001b[39m\u001b[38;5;124mstart_idx\u001b[39m\u001b[38;5;124m'\u001b[39m],\n\u001b[1;32m     21\u001b[0m     \u001b[38;5;124m'\u001b[39m\u001b[38;5;124mend_idx\u001b[39m\u001b[38;5;124m'\u001b[39m: train_sample[\u001b[38;5;124m'\u001b[39m\u001b[38;5;124mend_idx\u001b[39m\u001b[38;5;124m'\u001b[39m]\n\u001b[1;32m     22\u001b[0m }))\n",
      "File \u001b[0;32m~/anaconda3/lib/python3.11/site-packages/pandas/core/frame.py:709\u001b[0m, in \u001b[0;36mDataFrame.__init__\u001b[0;34m(self, data, index, columns, dtype, copy)\u001b[0m\n\u001b[1;32m    703\u001b[0m     mgr \u001b[38;5;241m=\u001b[39m \u001b[38;5;28mself\u001b[39m\u001b[38;5;241m.\u001b[39m_init_mgr(\n\u001b[1;32m    704\u001b[0m         data, axes\u001b[38;5;241m=\u001b[39m{\u001b[38;5;124m\"\u001b[39m\u001b[38;5;124mindex\u001b[39m\u001b[38;5;124m\"\u001b[39m: index, \u001b[38;5;124m\"\u001b[39m\u001b[38;5;124mcolumns\u001b[39m\u001b[38;5;124m\"\u001b[39m: columns}, dtype\u001b[38;5;241m=\u001b[39mdtype, copy\u001b[38;5;241m=\u001b[39mcopy\n\u001b[1;32m    705\u001b[0m     )\n\u001b[1;32m    707\u001b[0m \u001b[38;5;28;01melif\u001b[39;00m \u001b[38;5;28misinstance\u001b[39m(data, \u001b[38;5;28mdict\u001b[39m):\n\u001b[1;32m    708\u001b[0m     \u001b[38;5;66;03m# GH#38939 de facto copy defaults to False only in non-dict cases\u001b[39;00m\n\u001b[0;32m--> 709\u001b[0m     mgr \u001b[38;5;241m=\u001b[39m dict_to_mgr(data, index, columns, dtype\u001b[38;5;241m=\u001b[39mdtype, copy\u001b[38;5;241m=\u001b[39mcopy, typ\u001b[38;5;241m=\u001b[39mmanager)\n\u001b[1;32m    710\u001b[0m \u001b[38;5;28;01melif\u001b[39;00m \u001b[38;5;28misinstance\u001b[39m(data, ma\u001b[38;5;241m.\u001b[39mMaskedArray):\n\u001b[1;32m    711\u001b[0m     \u001b[38;5;28;01mfrom\u001b[39;00m \u001b[38;5;21;01mnumpy\u001b[39;00m\u001b[38;5;21;01m.\u001b[39;00m\u001b[38;5;21;01mma\u001b[39;00m \u001b[38;5;28;01mimport\u001b[39;00m mrecords\n",
      "File \u001b[0;32m~/anaconda3/lib/python3.11/site-packages/pandas/core/internals/construction.py:481\u001b[0m, in \u001b[0;36mdict_to_mgr\u001b[0;34m(data, index, columns, dtype, typ, copy)\u001b[0m\n\u001b[1;32m    477\u001b[0m     \u001b[38;5;28;01melse\u001b[39;00m:\n\u001b[1;32m    478\u001b[0m         \u001b[38;5;66;03m# dtype check to exclude e.g. range objects, scalars\u001b[39;00m\n\u001b[1;32m    479\u001b[0m         arrays \u001b[38;5;241m=\u001b[39m [x\u001b[38;5;241m.\u001b[39mcopy() \u001b[38;5;28;01mif\u001b[39;00m \u001b[38;5;28mhasattr\u001b[39m(x, \u001b[38;5;124m\"\u001b[39m\u001b[38;5;124mdtype\u001b[39m\u001b[38;5;124m\"\u001b[39m) \u001b[38;5;28;01melse\u001b[39;00m x \u001b[38;5;28;01mfor\u001b[39;00m x \u001b[38;5;129;01min\u001b[39;00m arrays]\n\u001b[0;32m--> 481\u001b[0m \u001b[38;5;28;01mreturn\u001b[39;00m arrays_to_mgr(arrays, columns, index, dtype\u001b[38;5;241m=\u001b[39mdtype, typ\u001b[38;5;241m=\u001b[39mtyp, consolidate\u001b[38;5;241m=\u001b[39mcopy)\n",
      "File \u001b[0;32m~/anaconda3/lib/python3.11/site-packages/pandas/core/internals/construction.py:115\u001b[0m, in \u001b[0;36marrays_to_mgr\u001b[0;34m(arrays, columns, index, dtype, verify_integrity, typ, consolidate)\u001b[0m\n\u001b[1;32m    112\u001b[0m \u001b[38;5;28;01mif\u001b[39;00m verify_integrity:\n\u001b[1;32m    113\u001b[0m     \u001b[38;5;66;03m# figure out the index, if necessary\u001b[39;00m\n\u001b[1;32m    114\u001b[0m     \u001b[38;5;28;01mif\u001b[39;00m index \u001b[38;5;129;01mis\u001b[39;00m \u001b[38;5;28;01mNone\u001b[39;00m:\n\u001b[0;32m--> 115\u001b[0m         index \u001b[38;5;241m=\u001b[39m _extract_index(arrays)\n\u001b[1;32m    116\u001b[0m     \u001b[38;5;28;01melse\u001b[39;00m:\n\u001b[1;32m    117\u001b[0m         index \u001b[38;5;241m=\u001b[39m ensure_index(index)\n",
      "File \u001b[0;32m~/anaconda3/lib/python3.11/site-packages/pandas/core/internals/construction.py:655\u001b[0m, in \u001b[0;36m_extract_index\u001b[0;34m(data)\u001b[0m\n\u001b[1;32m    653\u001b[0m lengths \u001b[38;5;241m=\u001b[39m \u001b[38;5;28mlist\u001b[39m(\u001b[38;5;28mset\u001b[39m(raw_lengths))\n\u001b[1;32m    654\u001b[0m \u001b[38;5;28;01mif\u001b[39;00m \u001b[38;5;28mlen\u001b[39m(lengths) \u001b[38;5;241m>\u001b[39m \u001b[38;5;241m1\u001b[39m:\n\u001b[0;32m--> 655\u001b[0m     \u001b[38;5;28;01mraise\u001b[39;00m \u001b[38;5;167;01mValueError\u001b[39;00m(\u001b[38;5;124m\"\u001b[39m\u001b[38;5;124mAll arrays must be of the same length\u001b[39m\u001b[38;5;124m\"\u001b[39m)\n\u001b[1;32m    657\u001b[0m \u001b[38;5;28;01mif\u001b[39;00m have_dicts:\n\u001b[1;32m    658\u001b[0m     \u001b[38;5;28;01mraise\u001b[39;00m \u001b[38;5;167;01mValueError\u001b[39;00m(\n\u001b[1;32m    659\u001b[0m         \u001b[38;5;124m\"\u001b[39m\u001b[38;5;124mMixing dicts with non-Series may lead to ambiguous ordering.\u001b[39m\u001b[38;5;124m\"\u001b[39m\n\u001b[1;32m    660\u001b[0m     )\n",
      "\u001b[0;31mValueError\u001b[0m: All arrays must be of the same length"
     ]
    }
   ],
   "source": [
    "from tqdm.notebook import tqdm\n",
    "\n",
    "MODEL_VQVAE.eval()\n",
    "\n",
    "train_dataloader = DataLoader(\n",
    "    train_dataset, \n",
    "    batch_size=10, \n",
    "    shuffle=True,\n",
    "    collate_fn=train_dataset.collate_fn   \n",
    ")\n",
    "\n",
    "dfs = []\n",
    "for train_sample in tqdm(train_dataloader):\n",
    "    with torch.no_grad():\n",
    "        quantized, indices, commitment_loss = MODEL_VQVAE(train_sample['array'].float())\n",
    "\n",
    "        quant = {\n",
    "            'videos': train_sample['tokens'],\n",
    "            'start_idx': train_sample['start_idx'],\n",
    "            'end_idx': train_sample['end_idx']\n",
    "        }\n",
    "        \n",
    "\n",
    "        for index in range(indices.shape[1]):\n",
    "            quant[f'Code_{index}'] = indices[:, index].cpu().numpy()\n",
    "\n",
    "\n",
    "        dfs.append(pd.DataFrame(quant))"
   ]
  },
  {
   "cell_type": "code",
   "execution_count": 22,
   "metadata": {},
   "outputs": [],
   "source": [
    "df = pd.concat(dfs)"
   ]
  },
  {
   "cell_type": "code",
   "execution_count": 1,
   "metadata": {},
   "outputs": [],
   "source": [
    "import json\n",
    "LOG_IDX=45\n",
    "with open(f'analyze/quantization/experimental_logs/logs-{LOG_IDX}.json', 'r') as f:\n",
    "    corpus = json.load(f)"
   ]
  },
  {
   "cell_type": "code",
   "execution_count": 2,
   "metadata": {},
   "outputs": [
    {
     "name": "stdout",
     "output_type": "stream",
     "text": [
      "4 0.5961245219223201\n",
      "5 0.5159384731668979\n",
      "6 0.4879024289548397\n",
      "7 0.4947575144469738\n",
      "8 0.543659548740834\n",
      "9 0.4580083201872185\n",
      "10 0.44548981124535203\n",
      "11 0.45211545820347965\n",
      "12 0.4493164427112788\n",
      "13 0.445126699982211\n",
      "14 0.4435033902991563\n",
      "15 0.4355329726822674\n",
      "16 0.44574258592911065\n",
      "17 0.4758904278278351\n",
      "18 0.4386360328644514\n",
      "19 0.46825177944265306\n",
      "20 0.47044387902133167\n",
      "21 0.4662994877435267\n",
      "22 0.46805936587043107\n",
      "23 0.599162164144218\n",
      "24 0.5104892868548632\n",
      "25 0.48613795591518283\n",
      "26 0.49259176501072943\n",
      "27 0.4915984633844346\n",
      "28 0.48166503314860165\n",
      "29 0.520871419692412\n",
      "30 0.48008685489185154\n",
      "31 0.4684961619786918\n",
      "32 0.48307271650992334\n",
      "33 0.48976475978270173\n",
      "34 0.4895846757572144\n",
      "35 0.4980121129192412\n",
      "36 0.5442749639041722\n",
      "37 0.4971227194182575\n",
      "38 0.49992787395603955\n",
      "39 0.5123899674508721\n",
      "40 0.5095423641614616\n",
      "41 0.5381570560857654\n",
      "42 0.5067722711246461\n",
      "43 0.5273929920513183\n",
      "44 0.5057559658307582\n",
      "45 0.5271707361098379\n"
     ]
    }
   ],
   "source": [
    "cls = corpus['train']['commit-loss']\n",
    "import numpy as np\n",
    "for i in range(len(cls)):\n",
    "    if cls[str(i)]:\n",
    "        print(i,np.sum(cls[str(i)]))"
   ]
  },
  {
   "cell_type": "code",
   "execution_count": 3,
   "metadata": {},
   "outputs": [
    {
     "name": "stdout",
     "output_type": "stream",
     "text": [
      "vocab\n",
      "['DO╠êNMEK_1', 'CAHIL _1', 'MESELA_1', 'TU╠êRBAN_0', 'TU╠êRBAN_1', 'UFAK_2', 'C╠ğARE _0', 'GEC╠ğMIS╠ğ OLSUN_2', 'I╠çNSAN_0', 'VIDEO_2', 'VARMAK_0', 'ENGELLI_0', 'KONUS╠ğMAK_0', 'KANUN_1', 'GEC╠ğMIS╠ğ OLSUN_2', 'HERS╠ğEY _2', 'C╠ğATI_0', 'NAKIS╠ğ_2', 'YARIS╠ğMAK_0', 'SALI _1', 'GU╠êC╠ğLU╠ê _2', 'KUMAS╠ğ_1', 'YAG╠åMUR_0', 'KU╠êC╠ğU╠êLTMEK_0', 'KADAYIF_1', 'OTOBU╠êS_2', 'OLUMLU_0', 'CANI ACIMAK_0', 'MU╠êDU╠êR _2', 'ACEMI _1', 'KARIS╠ğTIRMAK_0', 'OLUMLU_0', 'TERO╠êRIST_0', 'CAHIL _1', 'MASAJ_0', 'OKS╠ğAMAK_0', 'BEBEK_0', 'DIKIS╠ğ DIKMEK_0', 'EVRAK_0', 'BAG╠åLAMAK _0', 'EVRAK_0', 'C╠ğIFTLIK_1', 'KAPALI_2', 'DAG╠åITMAK_2', 'HAYAL ETMEK_0', 'O╠êZGU╠êRLU╠êK_0', 'TAYIN_0', 'OTOMATIK_1', 'YARDIM_0', 'BAS╠ğARISIZ_0', 'I╠çNEK _0', 'TOPRAK_0', 'SU╠êZMEK_0', 'BIC╠ğAK_0', 'I╠çNEK _0', 'KARIS╠ğTIRMAK_0', 'UFAK_2', 'SU╠êZMEK_0', 'MESELA_1', 'OTOMATIK_1', 'KALABALIK_1', 'MAVI_0', 'ALINMAK_1', 'TAKMAK_0', 'HAYAT _0', 'DIKIS╠ğ_1', 'FOTOKOPI_0', 'KONUS╠ğMAK_0', 'BAS╠ğI DO╠êNMEK_0', 'DO╠êNMEK_1', 'CESARET_1', 'CIMBIZ_0', 'CIDDI_0', 'MU╠êZIK _1', 'HESAP _1', 'KANUN_1', 'KADAYIF_1', 'C╠ğARE _0', 'ORTA _2', 'ZOR_0', 'O YU╠êZDEN_0', 'KONUS╠ğMAK_0', 'AKLA GELMEK _1', 'KADAYIF_1', 'TAKSI_2', 'VAR_0', 'KOMIK_0', 'BALIK_1', 'SEKRETER _1', 'ZAMANLA _1', 'TABELA_1', 'DUYGULANMAK _0', 'KESIN_1', 'VARMAK_0', 'EMZIK_1', 'OYUN OYNAMAK_0', 'VAR_0', 'ADA _1', 'C╠ğIKOLATA_0', 'AYLIK_0', 'VALLAHI_1', 'KANUN_1', 'TOPRAK_0', 'DAG╠åITMAK_2', 'CESARET_1', 'DIKIS╠ğ_1', 'O╠êG╠åRENCI_0', 'DIKILMEK_0', 'KORKU_0', 'I╠çKNA ETMEK _2', 'TAKMAK_0', 'KAR_1', 'SAYGI _0', 'C╠ğIFT_2', 'NOT_0', 'C╠ğARE _0', 'YARDIM_0', 'YARDIM_1', 'EYLU╠êL_0', 'TERO╠êRIST_0', 'EMZIK_1', 'EZMEK_0', 'DIKIS╠ğ DIKMEK_0', 'MIKROP_0', 'HESAP _1', 'SUSAMAK_0', 'YAS╠ğAMAK_0', 'EMEKLI _0', 'S╠ğIFA_0', 'ARTMAK _2', 'ZOR_0', 'EVRAK_0', 'I╠çLGISIZ_1', 'KORKU_0', 'EMRETMEK, EMIR VERMEK_0', 'ORTA _2', 'BIBER_1', 'HOPARLO╠êR_0', 'O╠êG╠åRENCI_0', 'SO╠êZLES╠ğME_1', 'HAYAL ETMEK_0', 'OMUZ_0', 'DO╠êNMEK_1', 'SEKRETER _1', 'EMRETMEK, EMIR VERMEK_0', 'GO╠êG╠åU╠êS, MEME_0', 'DEVAM ETMEK_2', 'U╠êC╠ğU╠êNCU╠ê_2', 'MU╠êDU╠êR _2', 'I╠çCRA _0', 'VEYA_0', 'ZAMANLA _2', 'VAR_0', 'KALABALIK_1', 'KANUN_1', 'KARYOLA_0', 'SALI _1', 'I╠çNSAN_0', 'YES╠ğIL_1', 'DIKMEK_1', 'VU╠êCUT _1', 'YES╠ğIL_1', 'ARTMAK _2', 'U╠êC╠ğU╠êNCU╠ê_2', 'SU╠êZMEK_1', 'YARIS╠ğMAK_0', 'KAR_1', 'TEMIZ_2', 'KAPALI_2', 'I╠çKINCI_2', 'GEREK _2', 'GU╠êC╠ğLU╠ê _2', 'BIR DAHA_0', 'ELBISE _0', 'YAYINLAMAK_0', 'DAVET _1', 'SAG╠åLIK _0', 'MILYON_0', 'HAYAT _0', 'GO╠êG╠åU╠êS, MEME_0', 'FOTOKOPI_0', 'U╠êS╠ğU╠êMEK_0', 'KANUN_1', 'HARIKA_2', 'RICA _0', 'NORMAL_0', 'CIMBIZ_0', 'EVRAK_0', 'GU╠êC╠ğLU╠ê _2', 'CESARET_1', 'GEREK _2', 'TITREMEK_1', 'ARA_0', 'MESAJ_0', 'ACEMI _1', 'SINAV _0', 'U╠êCRET _1', 'TAKSI_2', 'AKLA GELMEK _1', 'ZOR_0', 'NORMAL_0', 'BALIK_1', 'SAKLANMAK_0', 'SAYGI _0', 'SUC╠ğ_0', 'C╠ğIFTLIK_1', 'DAVET ETMEK_0', 'HOCA_2', 'KONUS╠ğMAK_0', 'GIYMEK_0', 'BAS╠ğARISIZ_0', 'I╠çSTIFA_1', 'GU╠êC╠ğLU╠ê _2', 'KARYOLA_0', 'BO╠êYLE _1', 'BEBEK_0', 'ARTMAK _2', 'YASAK _2', 'KAHVALTI_0', 'GU╠êC╠ğ _1', 'GU╠êC╠ğLU╠ê _2', 'ZOR_0', 'SAG╠åLIK _0', 'VAR_0', 'BAG╠åLAMAK _0', 'C╠ğOG╠åALTMAK_0', 'BAS╠ğI DO╠êNMEK_0', 'O╠êG╠åRENCI_0', 'MU╠êZIK _1', 'I╠çNEK _0', 'DUYGULANMAK _0', 'HESAP _1', 'UFAK_2', 'KASIM_0', 'ELBISE _0', 'BELGE_1', 'OLAY _1', 'I╠çKNA ETMEK _2', 'DUYGULANMAK _0', 'C╠ğIKARMAK _0', 'SO╠êZLES╠ğME_1', 'BEYAZ_2', 'O╠êBU╠êR_0', 'DO╠êNMEK_1', 'C╠ğINGENE_1', 'S╠ğIFA_0', 'KALABALIK_1', 'ADA _1', 'O_0', 'AKLA GELMEK _1', 'MUHTAR_0', 'ACEMI _1', 'MU╠êDU╠êR _2', 'KOLTUK_1', 'ALINMAK_1', 'MESELA_0', 'YAYINLAMAK_0', 'DAVET ETMEK_0', 'TAKIP_0', 'OLUMLU_0', 'DIS╠ğARI _0', 'EKONOMIK_1', 'MU╠êDU╠êR _2', 'CIMBIZ_0', 'DEV _1', 'OKS╠ğAMAK_0', 'KOLTUK_0', 'DO╠êVMEK_0', 'BALIK_1', 'FEDERASYON_0', 'USTA_0', 'C╠ğIKTI_1', 'KUAFO╠êR_1', 'EVRAK_0', 'AKLA GELMEK _1', 'BOG╠åAZ_0', 'ARTMAK _2', 'OSMANLI_0', 'EMEKLI _0', 'SUC╠ğ_0', 'NAKIS╠ğ_2', 'DAVET _1', 'TEMIZLEMEK _2', 'ELHAMDU╠êLILLAH_0', 'SINAV _0', 'BAG╠åLAMAK _0', 'BELGE_1', 'TERO╠êRIST_0', 'YAYINLAMAK_0', 'HAYDI_0', 'O YU╠êZDEN_0', 'U╠êC╠ğU╠êNCU╠ê_2', 'I╠çSTIFA_1', 'UZUN SU╠êRMEK _2', 'BAZEN_2', 'SUC╠ğ_0', 'YU╠êREK_0', 'KARIS╠ğTIRMAK_0', 'TERO╠êRIST_0', 'SALI _1', 'S╠ğAS╠ğMAK_0', 'MANZARA_0', 'ZAMANLA _1', 'KOLTUK_0', 'HOCA_2', 'KAR_0', 'KOLTUK_0', 'KAYIP_0', 'ACEMI _1', 'KANUN_1', 'EMRETMEK, EMIR VERMEK_0', 'C╠ğIKMAK_1', 'SALI _1', 'BAS╠ğARISIZ_0', 'MAVI_0', 'O╠êRU╠êMCEK_0', 'NAKIS╠ğ_2', 'VU╠êCUT _1', 'ULAS╠ğIM _1', 'ASMAK_1', 'FEDERASYON_0', 'C╠ğARS╠ğI _1', 'HOCA_2', 'I╠çLGINC╠ğ_0', 'HAYRAN KALMAK_1', 'YU╠êKSEK_0', 'S╠ğIFA_0', 'VALLAHI_1', 'O_0', 'AYAKKABI _0', 'VU╠êCUT _1', 'C╠ğU╠êRU╠êMEK_0', 'BO╠êYLE _1', 'BO╠êYLE _1', 'I╠çCRA _0', 'S╠ğIFA_0', 'AKLA GELMEK _1', 'ALINMAK_1', 'MOLA_0', 'BALIK_1', 'KOPYALAMAK_0', 'DAVET _1', 'DUYGULANMAK _0', 'ZOR_0', 'C╠ğIKTI_1', 'FOTOKOPI_0', 'BAS╠ğI DO╠êNMEK_0', 'ZAMANLA _2', 'KU╠êC╠ğU╠êLTMEK_0', 'MAG╠åLUP_0', 'HOPARLO╠êR_0', 'GU╠êC╠ğLU╠ê _2', 'NORMAL_0', 'AKLA GELMEK _1', 'MESELA_0', 'GU╠êC╠ğLU╠ê _2', 'C╠ğIKMAK_1', 'C╠ğOG╠åALTMAK_0', 'GU╠êC╠ğ _1', 'ENGELLI_0', 'MU╠êDU╠êR _2', 'ACI_1', 'EKONOMI_0', 'SO╠êZ_0', 'CAHIL _1', 'HESAP _1', 'C╠ğARE _0', 'EKONOMIK_1', 'GU╠êLU╠êMSEMEK_0', 'TAKMAK_0', 'TERO╠êRIST_1', 'YAYINLAMAK_0', 'DIKILMEK_0', 'SALLANMAK _1', 'TUVALET_0', 'ELBISE _0', 'I╠çKINCI_2', 'AG╠åAC╠ğ _0', 'ZAMANLA _2', 'MESELA_1', 'GO╠êRE_0', 'SINAV _0', 'SALI _1', 'U╠êS╠ğU╠êMEK_0', 'KADAYIF_1', 'GU╠êVENLIK_1', 'KANUN_1', 'DO╠êNMEK_1', 'KUMAS╠ğ_1', 'VAZGEC╠ğMEK_0', 'GU╠êC╠ğLU╠ê _2', 'BU_1', 'KALABALIK_1', 'KASIM_1', 'ZOR_0', 'EMRETMEK, EMIR VERMEK_0', 'I╠çKNA ETMEK _2', 'KU╠êC╠ğU╠êLTMEK_0', 'HIRSIZ_2', 'YAYINLAMAK_0', 'BIR DAHA_0', 'NOT_0', 'AYLIK_0', 'YARIS╠ğMAK_0', 'SORU IS╠ğARETI_0', 'TREN_1', 'KORKU_0', 'KASIM_0', 'GO╠êG╠åU╠êS, MEME_0', 'BAS╠ğI DO╠êNMEK_0', 'OMUZ_0', 'DERI_2', 'ZOR_0', 'SAYGI _0', 'SAG╠åLIK _0', 'CAHIL _1', 'OKS╠ğAMAK_0', 'VU╠êCUT _1', 'I╠çNEK _0', 'SO╠êZLES╠ğME_1', 'YAG╠åMUR_0', 'KISKANMAK_1', 'C╠ğU╠êRU╠êMEK_0', 'DIKIS╠ğ_1', 'C╠ğARE _0', 'KAYNAK_1', 'AYLIK_0', 'YU╠êKLEMEK_1', 'DEVAM ETMEK_0', 'SALI _1', 'MASAJ_0', 'C╠ğIKARMAK _0', 'GO╠êRE_0', 'SALATA_1', 'VALLAHI_1', 'YES╠ğIL_1', 'KO╠êFTE_0', 'TEMIZLEMEK _2', 'KAR_0', 'ENGELLI_0', 'BIZ_0', 'U╠êCRET _1', 'CANI ACIMAK_0', 'KOKU _2', 'DUYGULANMAK _0', 'KADAYIF_1', 'EZMEK_0', 'C╠ğARE _0', 'UC╠ğ_0', 'KEDI_0', 'SAYGI _0', 'PLANLAMAK_0', 'PLANLAMAK_0', 'DIKIS╠ğ_1', 'KAYNAK_1', 'HESAPLAMAK_2', 'DU╠êKKAN_0', 'ALERJI_0', 'ASLA_0', 'ONARMAK_1', 'EZMEK_0', 'MIKROP_0', 'TEMIZ_2', 'VAR_0', 'SORGULAMAK_0', 'SALLANMAK _1', 'O_0', 'BAS╠ğARISIZ_0', 'C╠ğALMAK _1', 'ASLA_0', 'OMUZ_0', 'NOT_0', 'TOPRAK_0', 'EKONOMI_0', 'SAYGI _0', 'O YU╠êZDEN_0', 'I╠çNANMAK_0', 'ALINMAK_1', 'KOMU╠êNIST_1', 'TEMIZLEMEK _2', 'I╠çLGISIZ_0', 'AYAKKABI _0', 'TUVALET_0', 'BAYRAM_0', 'MESELA_1', 'RICA _0', 'FEDERASYON_0', 'CAHIL _1', 'OKS╠ğAMAK_0', 'MESLEK_0', 'DIKIS╠ğ_1', 'ALINMAK_1', 'HOCA_2', 'GU╠êC╠ğLU╠ê _2', 'YOG╠åURMAK_0', 'SU╠êZMEK_0', 'DO╠êNMEK_1', 'PES ETMEK_0', 'BAS╠ğI DO╠êNMEK_0', 'BENZIN_1', 'VARMAK_0', 'KALABALIK_1', 'YAN_1', 'AYIP_1', 'HESAP _1', 'MONITO╠êR_0', 'HERS╠ğEY _2', 'ORTA _2', 'CUMA_0', 'ACI_2', 'MESELA_1', 'KONUS╠ğAN _0', 'MU╠êDU╠êR _2', 'SAG╠åLIK _0', 'VAR_0', 'KU╠êC╠ğU╠êLTMEK_0', 'O_0', 'GENEL_0', 'EYLU╠êL_0', 'DAVA_0', 'DAVET _1', 'ACI_1', 'SO╠êZ_0', 'SEKRETER _1', 'YARDIM_0', 'SALATA_1', 'SEKRETER _1', 'SO╠êZ_0', 'SAYGI _0', 'C╠ğIFTLIK_1', 'SARILMAK _0', 'GU╠êLU╠êMSEMEK_0', 'MANZARA_0', 'GU╠êC╠ğLU╠ê _2', 'VU╠êCUT _1', 'TAKSIT_1', 'OLUMLU_0', 'YU╠êZME_1', 'I╠çNEK _0', 'SALI _1', 'ZAMANLA _2', 'KARTAL_1', 'ACI_1', 'OSMANLI_0', 'O_0', 'C╠ğIKTI_1', 'C╠ğARE _0', 'ARTMAK _2', 'BIR DAHA_0', 'ACEMI _1', 'TAVUK _1', 'SALI _1', 'TABELA_1', 'MIKROP_0', 'U╠êC╠ğU╠êNCU╠ê_2', 'ZORLANMAK_0', 'KAYIP_0', 'VAR_0', 'KAYIP_0', 'DEV _1', 'KALABALIK_1', 'YASAK _2', 'EZMEK_0', 'PSIKOLOJIK_0', 'ZOR_0', 'KORKU_0', 'KOKU _2', 'HEMS╠ğIRE _1', 'S╠ğIS╠ğMAN_1', 'TOPLU GELMEK_1', 'GENEL_0', 'TU╠êRBAN_0', 'AKLA GELMEK _1', 'C╠ğU╠êRU╠êMEK_0', 'DERI_2', 'AG╠åAC╠ğ _0', 'TREN_1', 'KOLTUK_1', 'C╠ğARS╠ğI _1', 'ONARMAK_1', 'BEYAZ_2', 'KORKU_0', 'KARIS╠ğTIRMAK_0', 'MONITO╠êR_0', 'ARAMAK _1', 'OLUMLU_0', 'TUVALET_0', 'KISKANMAK_1', 'ZORLANMAK_0', 'MANZARA_0', 'RICA _0', 'VIDEO_2', 'AYLIK_0', 'ELBISE _0', 'HESAPLAMAK_2', 'SEMINER_0', 'BAS╠ğARISIZ_0', 'KU╠êC╠ğU╠êLTMEK_0', 'GIZLI_1', 'KILOMETRE_0', 'ALINMAK_1', 'EVRAK_0', 'GO╠êRE_0', 'MU╠êZIK _1', 'C╠ğIKARMAK _0', 'OSMANLI_0', 'SINAV _0', 'NORMAL_0', 'EKONOMIK_1', 'MESELA_0', 'MESELA_0', 'HERS╠ğEY _2', 'DAVET _1', 'BO╠êYLE _1', 'DIS╠ğARI _0', 'O╠êBU╠êR_0', 'OSMANLI_0', 'GEREK _2', 'BAS╠ğI DO╠êNMEK_0', 'BAG╠åLAMAK _0', 'HAYAL ETMEK_0', 'MESELA_0', 'MU╠êDU╠êR _2', 'KEDI_0', 'AYAKKABI _0', 'I╠çFLAS ETMEK_1', 'NORMAL_0', 'KARIS╠ğTIRMAK_0', 'I╠çNEK _0', 'YARDIM_0', 'C╠ğALMAK _2', 'EYLU╠êL_0', 'KUMAR_0', 'NEFRET ETMEK_0', 'BAS╠ğI DO╠êNMEK_0', 'VAZGEC╠ğMEK_0', 'MU╠êDU╠êR _2', 'YOG╠åURMAK_0', 'HAYRAN KALMAK_1', 'ADA _1', 'KADAYIF_1', 'MESAJ_0', 'DERI_2', 'KADAYIF_1', 'YARDIM_0', 'I╠çKINCI_2', 'DIS╠ğARI _0', 'U╠êS╠ğU╠êMEK_0', 'ALIS╠ğVERIS╠ğ_1', 'BEYAZ_2', 'YAYINLAMAK_0', 'VAR_0', 'KOKU _2', 'I╠çSTIFA_1', 'KOKU _2', 'SAG╠åLIK _0', 'OTOMATIK_1', 'SAKLANMAK_0', 'UZUN SU╠êRMEK _2', 'BU╠êYU╠êME_2', 'DAVA_0', 'MU╠êDU╠êR _2', 'KONUS╠ğMAK_0', 'KAPTAN_0', 'HESAP _1', 'DIKIS╠ğ_1', 'SAKLANMAK_0', 'KARIS╠ğTIRMAK_0', 'O_0', 'UFAK_2', 'ALINMAK_1', 'TORBA_1', 'ENGELLI_0', 'AKLA GELMEK _1', 'ARAMAK _1', 'I╠çNEK _0', 'OLAY _1', 'VAR_0', 'GU╠êC╠ğ _1', 'ADA _1', 'C╠ğARE _0', 'TAKSIT_1', 'VALLAHI_1', 'METRO_0', 'GEREK _2', 'KANUN_1', 'O╠êG╠åRENCI_0', 'BIBER_1', 'BOL_2', 'CANI ACIMAK_0', 'AYAKKABI _0', 'HERS╠ğEY _2', 'C╠ğARE _0', 'KESIN_1', 'BAYRAM_0', 'SEKRETER _1', 'TAVUK _1', 'YARDIM_0', 'ORTAOKUL _0', 'ARTI_0', 'I╠çLGINC╠ğ_0', 'VAZGEC╠ğMEK_0', 'O_0', 'ENGELLI_0', 'DEV _1', 'TERO╠êRIST_1', 'DIKMEK_1', 'AKLINA ALMAK_0', 'KOLTUK_1', 'AKLA GELMEK _1', 'SAYGI _0', 'HAYAT _0', 'ALINMAK_1', 'GIYMEK_0', 'ASLA_0', 'ELBISE _0', 'KORKU_0', 'KOLTUK_0', 'SALI _1', 'SU╠êZMEK_1', 'C╠ğIKARMAK _0', 'HERS╠ğEY _2', 'JAPON_0', 'KOPYALAMAK_0', 'KARIS╠ğTIRMAK_0', 'SU╠êRPRIZ_1', 'I╠çKNA ETMEK _2', 'MESELA_0', 'YARIS╠ğMAK_0', 'KARIS╠ğTIRMAK_0', 'SALI _1', 'C╠ğIKMAK_1', 'VAR_0', 'DERI_2', 'SARILMAK _0', 'HERS╠ğEY _0', 'O YU╠êZDEN_0', 'C╠ğIKARMAK _0', 'ZOR_0', 'DUYGULANMAK _0', 'ARAP_1', 'KARIS╠ğTIRMAK_0', 'HIRSIZ_2', 'YAPIS╠ğMAK_0', 'MUTLAKA_0', 'GU╠êC╠ğ _1', 'VU╠êCUT _1', 'ARAMAK _1', 'BAS╠ğARISIZ_0', 'KOLTUK_0', 'METRO_0', 'KO╠êFTE_0', 'DOYMAK_1', 'YARIS╠ğMAK_0', 'GU╠êLU╠êMSEMEK_0', 'RICA _0', 'YORULMAK_0', 'GIZLI_1', 'MAG╠åLUP_0', 'KARTAL_1', 'ARAMAK _1', 'HAYAL ETMEK_0', 'VAR_0', 'UZUN SU╠êRMEK _2', 'SO╠êZLES╠ğME_1', 'O╠êZGU╠êRLU╠êK_0', 'BAG╠åLAMAK _0', 'TREN_1', 'OLUMLU_0', 'I╠çLGINC╠ğ_0', 'KOMIK_0', 'SU╠êZMEK_0', 'GU╠êC╠ğLU╠ê _2', 'PAYDOS_0', 'ADA _1', 'SAG╠å_1', 'HERS╠ğEY _0', 'TREN_1', 'KUAFO╠êR_1', 'ASMAK_0', 'C╠ğARS╠ğI _1', 'VAZGEC╠ğMEK_0', 'DIKMEK_1', 'TAS╠ğIMAK _1', 'SO╠êZ_0', 'UFAK_2', 'I╠çKNA ETMEK _2', 'UYANDIRMAK_0', 'KARTAL_1', 'C╠ğIKMAK_1', 'TAKIP_0', 'OTOMATIK_1', 'MOLA_0', 'HESAPLAMAK_2', 'SO╠êZLES╠ğME_1', 'ADA _1', 'KANUN_1', 'ACEMI _1', 'HARIKA_2', 'I╠çMKANSIZ_1', 'KU╠êC╠ğU╠êLTMEK_0', 'HAYAT _0', 'PSIKOLOJIK_0', 'ALIS╠ğVERIS╠ğ_1', 'RICA _0', 'O_0', 'BELGE_1', 'KONUS╠ğMAK_0', 'OSMANLI_0', 'DO╠êKMEK_1', 'ETEK_0', 'SALATA_1', 'NEFIS_1', 'SU╠êZMEK_0', 'HERS╠ğEY _2', 'DUYGULANMAK _0', 'USTA_0', 'KARTAL_1', 'ORTA _2', 'KOLTUK_0', 'C╠ğIKTI_1', 'DAG╠åITMAK_2', 'YU╠êKLEMEK_1', 'AYLIK_0', 'GO╠êRE_0', 'AKLA GELMEK _1', 'DIKIS╠ğ_1', 'TUVALET_0', 'EMZIK_1', 'ALINMAK_1', 'BAS╠ğARISIZ_0', 'KADAYIF_1', 'OMUZ_0', 'MESELA_0', 'FEDERASYON_0', 'HESAP _1', 'PLANLAMAK_0', 'VARMAK_0', 'TOPLU GELMEK_1', 'SALLANMAK _1', 'ACI_1', 'KO╠êFTE_0', 'EMRETMEK, EMIR VERMEK_0', 'C╠ğARE _0', 'C╠ğINGENE_1', 'I╠çLGISIZ_0', 'KORKU_0', 'ULAS╠ğIM _1', 'EYLU╠êL_0', 'ADA _1', 'UFAK_2', 'GU╠êC╠ğ _1', 'UZUN SU╠êRMEK _2', 'HAYAL ETMEK_0', 'DEV _1', 'SUC╠ğ_0', 'GIDIS╠ğ DO╠êNU╠êS╠ğ_1', 'KADAYIF_1', 'PSIKOLOJIK_0', 'GENEL_0', 'DIKIS╠ğ DIKMEK_0', 'YARDIM_1', 'KARTAL_1', 'SU╠êZMEK_1', 'AG╠åAC╠ğ _0', 'ORTA _2', 'SUC╠ğ_0', 'KANUN_1', 'HERS╠ğEY _0', 'ASMAK_1', 'S╠ğIFA_0', 'GIZLI_1', 'ALAN_0', 'VAR_0', 'I╠çMKANSIZ_1', 'TU╠êP_1', 'ASMAK_1', 'I╠çNSAN_0', 'HARIKA_2', 'OLUMLU_0', 'ULAS╠ğIM _1', 'UYANDIRMAK_0', 'HIZMET _0', 'SALI _1', 'PSIKOLOJIK_0', 'O_0', 'BAS╠ğ_0', 'BOL_2', 'DEV _1', 'ARAMAK _1', 'ZOR_0', 'ARTMAK _2', 'VAR_0', 'U╠êS╠ğU╠êMEK_0', 'O_0', 'KADAYIF_1', 'TEMIZLEMEK _2', 'CIDDI_0', 'DAVA_0', 'ADA _1', 'VAZGEC╠ğMEK_0', 'VAR_0', 'MOLA_0', 'I╠çNANMAK_0', 'ASLA_0', 'FEDERASYON_0', 'SEKRETER _1', 'AKLA GELMEK _1', 'SO╠êZ_0', 'SU╠êZMEK_0', 'HERS╠ğEY _0', 'KADAYIF_1', 'KAR_1', 'KONUS╠ğAN _0', 'HERS╠ğEY _0', 'EVRAK_0', 'FILM_2', 'SINEMA_0', 'EMEKLI _0', 'OKS╠ğAMAK_0', 'O╠êBU╠êR_0', 'KONUS╠ğAN _0', 'KARIS╠ğTIRMAK_0', 'ZAMANLA _2', 'KADAYIF_1', 'DEV _1', 'BELGE_1', 'U╠êC╠ğU╠êNCU╠ê_2', 'KOLTUK_1', 'ASLA_0', 'ZOR_0', 'KOKU _2', 'BAS╠ğARISIZ_0', 'I╠çLGISIZ_0', 'KONUS╠ğAN _0', 'SAG╠åLIK _0', 'HAYAL ETMEK_0', 'ADA _1', 'KALABALIK_1', 'KORKU_0', 'MAG╠åLUP_0', 'GIZLI_1', 'UZUN SU╠êRMEK _2', 'YASAK _2', 'KAYIP_0', 'KOMIK_0', 'OYUN OYNAMAK_0', 'EMEKLI _0', 'ADA _1', 'RICA _0', 'SEKRETER _1', 'I╠çLGISIZ_1', 'I╠çKINCI_2', 'KARTAL_1', 'YAYINLAMAK_0', 'VAR_0', 'GU╠êVENLIK_1', 'I╠çKINCI_2', 'VAZGEC╠ğMEK_0', 'CAHIL _1', 'ZAMANLA _2', 'SINAV _0', 'ARTMAK _2', 'C╠ğOCUK _1', 'C╠ğIKMAK_1', 'OMUZ_0', 'KASIM_1', 'KADAYIF_1', 'VEYA_0', 'BO╠êYLE _1', 'HERS╠ğEY _0', 'VAZGEC╠ğMEK_0', 'SIYAH _0', 'HAYAL ETMEK_0', 'PSIKOLOJI_0', 'HEMS╠ğIRE _1', 'ACEMI _2', 'KILOMETRE_0', 'YU╠êZME_1', 'OLUMLU_0', 'U╠êS╠ğU╠êMEK_0', 'GU╠êC╠ğ _1', 'I╠çNEK _0', 'HESAP _1', 'EMRETMEK, EMIR VERMEK_0', 'MESELA_0', 'SU╠êZMEK_1', 'MESELA_0', 'SALI _1', 'HERS╠ğEY _0', 'DAVET _1', 'BENZIN_1', 'PAYDOS_0', 'MUHTAR_0', 'AYLIK_0', 'HAYAL ETMEK_0', 'I╠çKNA ETMEK _2', 'HOCA_2', 'UZUN SU╠êRMEK _2', 'MIKROP_0', 'EZILMEK_2', 'ASMAK_0', 'I╠çLGISIZ_1', 'TU╠êRBAN_0', 'BELGE_1', 'O_0', 'SAG╠å_1', 'C╠ğU╠êRU╠êMEK_0', 'DO╠êKMEK_1', 'DEV _1', 'ASMAK_1', 'SAG╠åLIK _0', 'HESAPLAMAK_2', 'HESAP _1', 'AYIP_1', 'RICA _0', 'BU╠êYU╠êME_2', 'HAYAT _0', 'ADA _1', 'KAPALI_2', 'C╠ğALMAK _1', 'BOG╠åAZ_0', 'ARTMAK _2', 'I╠çNSAN_0', 'RU╠êZGAR_0', 'C╠ğARE _0', 'KONUS╠ğAN _0', 'UYANDIRMAK_0', 'KESIN_1', 'MANZARA_0', 'DERI_2', 'RU╠êZGAR_0', 'ALAN_0', 'ADET_0', 'CANAVAR_0', 'OLUMLU_0', 'SALLANMAK _1', 'ARAMAK _1', 'RU╠êZGAR_0', 'ARA_0', 'GU╠êVENLIK_1', 'ARAMAK _1', 'YORULMAK_0', 'ENGELLI_0', 'EZMEK_0', 'KAYIP_0', 'KARIS╠ğTIRMAK_0', 'ACEMI _1', 'VU╠êCUT _1', 'GO╠êRE_0', 'MESAJ_0', 'I╠çNSAN_0', 'EKONOMIK_1', 'SALLANMAK _1', 'VIDEO_2', 'FEDERASYON_0', 'MANZARA_0', 'ZOR_0', 'KOMIK_0', 'KANUN_1', 'GENEL_0', 'ZOR_0', 'ACI_2', 'EMZIK_1', 'KILOMETRE_0', 'BOMBALAMAK_1', 'BELGE_1', 'VU╠êCUT _1', 'VU╠êCUT _1', 'KAPALI_2', 'ALDATMAK_1', 'C╠ğALMAK _2', 'KOLTUK_1', 'KARIS╠ğTIRMAK_0', 'I╠çLGISIZ_0', 'PES ETMEK_0', 'DAVA_0', 'HESAP _1', 'MESAJ_0', 'KARIS╠ğTIRMAK_0', 'CANAVAR_0', 'SIYAH _0', 'MESAJ_0', 'ARTMAK _2', 'O╠êBU╠êR_0', 'O╠êZGU╠êRLU╠êK_0', 'OSMANLI_0', 'PSIKOLOJIK_0', 'S╠ğIFA_0', 'HESAP _1', 'C╠ğARE _0', 'KAR_0', 'KONUS╠ğMAK_0', 'HOCA_2', 'ORTA _2', 'MANZARA_0', 'ORTA _2', 'VEYA_0', 'ADA _1', 'USTA_1', 'SAYGI _0', 'KALABALIK_1', 'ALDATMAK_1', 'BELGE_1', 'OSMANLI_0', 'DEVAM ETMEK_0', 'ORTA _2', 'KOMIK_0', 'KARYOLA_0', 'BIBER_1', 'HESAP _1', 'DIS╠ğARI _0', 'VEYA_0', 'BIBER_1', 'PSIKOLOJI_0', 'DO╠êNMEK_1', 'SAG╠å_1', 'SALI _1', 'YAYINLAMAK_0', 'DAVET ETMEK_0', 'YIKILMAK_1', 'SU╠êZMEK_1', 'KAYIP_0', 'O YU╠êZDEN_0', 'ZAMANLA _2', 'DEV _1', 'I╠çKNA ETMEK _2', 'KONUS╠ğAN _0', 'KARTAL_1', 'BU╠êYU╠êMEK_2', 'SU╠êZMEK_0', 'EMZIK_1', 'C╠ğARS╠ğI _1', 'HESAP _1', 'KALABALIK_1', 'TAVUK _1', 'C╠ğINGENE_1', 'AYLIK_0', 'RU╠êZGAR_0', 'C╠ğIKMAK_1', 'UC╠ğ_0', 'C╠ğIKMAK_1', 'KILOMETRE_0', 'DAVET _1', 'O╠êZGU╠êRLU╠êK_0', 'ARAMAK _1', 'ASLA_0', 'KARIS╠ğTIRMAK_0', 'YU╠êZME_1', 'HAYAT _0', 'ELBISE _0', 'EYLU╠êL_0', 'SEKRETER _1', 'KOKU _2', 'I╠çKNA ETMEK _2', 'SARILMAK _0', 'CESARET_1', 'RU╠êZGAR_0', 'KISKANMAK_1', 'HOCA_2', 'I╠çNSAN_0', 'NORMAL_0', 'O_0', 'OTOMATIK_1', 'MAFYA_0', 'GEREK _2', 'U╠êC╠ğU╠êNCU╠ê_2', 'VIDEO_2', 'CIMBIZ_0', 'YARDIM_0', 'KOMIK_0', 'DEV _1', 'KUAFO╠êR_1', 'MAG╠åLUP_0', 'DUYGULANMAK _0', 'PSIKOLOJIK_0', 'HERS╠ğEY _2', 'VU╠êCUT _1', 'PSIKOLOJI_0', 'NOT_0', 'YASAK _2', 'KISKANMAK_1', 'YARDIM_1', 'SUC╠ğ_0', 'EG╠åER_1', 'KOKU _2', 'DERI_2', 'KONUS╠ğAN _0', 'UFAK_2', 'BU╠êYU╠êMEK_2', 'KOPYALAMAK_0', 'ZAMANLA _1', 'GU╠êVENLIK_1', 'KASIM_0', 'PSIKOLOJI_0', 'SU╠êZMEK_1', 'ORTA _2', 'C╠ğARS╠ğI _1', 'ORTA _2', 'DU╠êKKAN_0', 'BAG╠åLAMAK _0', 'SIYAH _0', 'TABELA_1', 'DIS╠ğARI _0', 'DEVAM ETMEK_2', 'MAG╠åLUP_0', 'KARTAL_1', 'DIKIS╠ğ_1', 'HOPARLO╠êR_0', 'YAYINLAMAK_0', 'KARTAL_1', 'BIBER_1', 'SU╠êZMEK_1', 'ORTA _2', 'GIYMEK_0', 'S╠ğIFA_0', 'ZOR_0', 'BEYAZ_2', 'DIKILMEK_0', 'NORMAL_0', 'BALIK_1', 'MAVI_0', 'KU╠êC╠ğU╠êLTMEK_0', 'GU╠êLU╠êMSEMEK_0', 'C╠ğU╠êRU╠êMEK_0', 'CUMA_0', 'KONUS╠ğAN _0', 'ARTMAK _2', 'EZILMEK_2', 'FOTOKOPI_0', 'C╠ğARE _0', 'HERS╠ğEY _0', 'SINEMA_0', 'ADA _1', 'MUTLAKA_0', 'SUSTURMAK_0', 'KESIN_1', 'VAR_0', 'FEDERASYON_0', 'KUMAR_0', 'RICA _0', 'O_0', 'ELHAMDU╠êLILLAH_0', 'ASLA_0', 'SIYAH _0', 'OLUMLU_0', 'GU╠êC╠ğLU╠ê _2', 'S╠ğIFA_0', 'KADAYIF_1', 'EG╠åER_1', 'I╠çNSAN_0', 'GU╠êLU╠êMSEMEK_0', 'ALINMAK_1', 'OLUMLU_0', 'OSMANLI_0', 'ZAMANLA _2', 'VARMAK_0', 'HAYAT _0', 'VU╠êCUT _1', 'VALLAHI_1', 'KANUN_1', 'AFIS╠ğ_0', 'METRO_0', 'C╠ğIKMAK_1', 'YARDIM_1', 'BALIK_1', 'NESIL_0', 'KASIM_0', 'KOKU _2', 'ELBISE _0', 'C╠ğARS╠ğI _1', 'TERO╠êRIST_0', 'GU╠êC╠ğ _1', 'I╠çNEK _0', 'DO╠êNMEK_1', 'ARAMAK _1', 'I╠çNSAN_0', 'HAYAT _0', 'ELBISE _0', 'ACI_1', 'KARIS╠ğTIRMAK_0', 'GIYMEK_0', 'ZOR_0', 'I╠çG╠åNE_0', 'HAYDI_0', 'YOG╠åURMAK_0', 'GIZLI_1', 'EKONOMIK_1', 'DIKIS╠ğ_1', 'DAG╠åITMAK_2', 'BAS╠ğI DO╠êNMEK_0', 'AZALMAK _1', 'SINAV _0', 'DAVET _1', 'OKS╠ğAMAK_0', 'MUHTAR_0', 'EMZIK_1', 'KORKU_0', 'DERE_0', 'SUSAMAK_0', 'OMUZ_0', 'YARDIM_0', 'NORMAL_0', 'EVRAK_0', 'GU╠êC╠ğLU╠ê _2', 'C╠ğARE _0', 'ARTMAK _2', 'MUHTAR_0', 'KOLTUK_1', 'YALVARMAK_1', 'SARILMAK _0', 'UZUN SU╠êRMEK _2', 'YES╠ğIL_1', 'FEDERASYON_0', 'ONARMAK_1', 'KILOMETRE_0', 'KUAFO╠êR_1', 'TUVALET_0', 'SU╠êZMEK_1', 'VU╠êCUT _1', 'SU╠êZMEK_0', 'GENEL_0', 'GO╠êG╠åU╠êS, MEME_0', 'EZMEK_0', 'KO╠êFTE_0', 'C╠ğINGENE_1', 'ALINMAK_1', 'MU╠êDU╠êR _2', 'GU╠êLU╠êMSEMEK_0', 'I╠çNSAN_0', 'ARTMAK _2', 'BAG╠åLAMAK _0', 'GIZLI_1', 'C╠ğARS╠ğI _1', 'ASLA_0', 'KANUN_1', 'C╠ğOG╠åALTMAK_0', 'C╠ğIKTI_1', 'I╠çNANMAK_0', 'KANUN_1', 'CESUR_0', 'ACEMI _1', 'GO╠êG╠åU╠êS, MEME_0', 'ACEMI _1', 'AYLIK_0', 'ALERJI_0', 'MESELA_0', 'SU╠êZMEK_0', 'HAYRAN KALMAK_1', 'MESELA_0', 'KONUS╠ğMAK_0', 'KADAYIF_1', 'ARAMAK _1', 'DEDE_0', 'C╠ğARS╠ğI _1', 'BAG╠åLAMAK _0', 'EZMEK_0', 'KARIS╠ğTIRMAK_0', 'MU╠êZIK _1', 'KOMIK_0', 'KADAYIF_1', 'MESELA_0', 'ZOR_0', 'KORKU_0', 'SIYAH _0', 'C╠ğIKARTMAK_1', 'KAPALI_2', 'MU╠êZIK _1', 'TAKIP_0', 'C╠ğARE _0', 'ALINMAK_1', 'KAPTAN_0', 'I╠çNEK _0', 'MAG╠åLUP_0', 'KU╠êC╠ğU╠êLTMEK_0', 'KILOMETRE_0', 'TAKSI_2', 'BELGE_1', 'VIDEO_2', 'I╠çNSAN_0', 'BAS╠ğ_0', 'MODEL_0', 'UYANDIRMAK_0', 'ASLA_0', 'SINEMA_0', 'KOMIK_0', 'KILOMETRE_0', 'BAG╠åLAMAK _0', 'EKONOMI_0', 'I╠çLGISIZ_0', 'KARIS╠ğTIRMAK_0', 'CAHIL _1', 'VAR_0', 'ADA _1', 'EMEKLI _0', 'KANUN_1', 'DEV _1', 'BALIK_1', 'KISKANMAK_1', 'AG╠åZI AC╠ğIK KALMAK_0', 'SAYGI _0', 'KAR_0', 'PSIKOLOJIK_0', 'AYLIK_0', 'ORTA _2', 'KOMIK_0', 'ARA_0', 'HESAPLAMAK_2', 'NEFIS_1', 'CAHIL _1', 'ENGELLI_0', 'AZALMAK _1', 'DUYGULANMAK _0', 'EZILMEK_2', 'DAVA_0', 'PSIKOLOJI_0', 'NESIL_0', 'AKLA GELMEK _1', 'ARTMAK _2', 'YALVARMAK_1', 'MESELA_0', 'OMUZ_0', 'AZALMAK _1', 'BAG╠åLAMAK _0', 'C╠ğARS╠ğI _1', 'AFIS╠ğ_0', 'ZOR_0', 'UFAK_2', 'GIDIS╠ğ DO╠êNU╠êS╠ğ_1', 'KO╠êFTE_0', 'OLUMLU_0', 'HAYAT _0', 'ACEMI _1', 'KALABALIK_1', 'OLAY _1', 'SALATA_1', 'KAPALI_2', 'HIRSIZ_2', 'ALAN_0', 'MUTLAKA_0', 'BENZIN_1', 'ADA _1', 'BEYAZ_2', 'SUSTURMAK_0', 'ZOR_0', 'ARAMAK _1', 'YARIS╠ğMAK_0', 'GU╠êC╠ğ _1', 'O_0', 'KOLTUK_0', 'BU╠êYU╠êMEK_2', 'I╠çCRA _0', 'DIKMEK_1', 'RU╠êZGAR_0', 'KUMAS╠ğ_1', 'GU╠êC╠ğ _1', 'I╠çKNA ETMEK _2', 'DUYGULANMAK _0', 'OKS╠ğAMAK_0', 'KISKANMAK_1', 'VALLAHI_1', 'HERS╠ğEY _0', 'KAHVALTI_0', 'UZUN SU╠êRMEK _2', 'KOKU _2', 'HAYAL ETMEK_0', 'ARAMAK _1', 'ELHAMDU╠êLILLAH_0', 'HERS╠ğEY _2', 'NESIL_0', 'ARAMAK _1', 'EKONOMIK_1', 'SINAV _0', 'TREN_1', 'ORTA _2', 'O YU╠êZDEN_0', 'TO╠êVBE_1', 'HESAP _1', 'VIDEO_2', 'KANUN_1', 'MAFYA_0', 'YU╠êZME_1', 'SUSTURMAK_0', 'GU╠êC╠ğLU╠ê _2', 'DUYGULANMAK _0', 'MASAJ_0', 'GO╠êRE_0', 'O╠êG╠åRENCI_0', 'S╠ğEMSIYE_0', 'BAS╠ğARISIZ_0', 'YARDIM_1', 'ENGELLI_0', 'DOSYA_0', 'SU╠êZMEK_0', 'BEYAZ_2', 'RICA _0', 'DIKILMEK_0', 'OKS╠ğAMAK_0', 'DEVAM ETMEK_2', 'OSMANLI_0', 'KONUS╠ğAN _0', 'MILYON_0', 'TAYIN_0', 'HERS╠ğEY _0', 'ARA_0', 'CANI ACIMAK_0', 'HAYAL ETMEK_0', 'KISKANMAK_1', 'MAKINE _0', 'TEMIZLEMEK _2', 'KOMIK_0', 'DIS╠ğARI _0', 'DEVAM ETMEK_0', 'NEFRET ETMEK_0', 'GIYMEK_0', 'SU╠êZMEK_1', 'GIYMEK_0', 'RICA _0', 'SINEMA_0', 'ZOR_0', 'SU╠êZMEK_1', 'VU╠êCUT _1', 'ARAMAK _1', 'ZAMANLA _2', 'ENGELLI_0', 'C╠ğARS╠ğI _1', 'C╠ğIKARMAK _0', 'ADA _1', 'ORTA _2', 'MESELA_0', 'EVRAK_0', 'MONITO╠êR_0', 'ACI_2', 'EMZIK_1', 'KONUS╠ğAN _0', 'SIYAH _0', 'KAR_0', 'MANTI_1', 'KONUS╠ğAN _0', 'OSMANLI_0', 'OKS╠ğAMAK_0', 'EKONOMIK_1', 'MAG╠åLUP_0', 'RU╠êZGAR_0', 'ARAMAK _1', 'C╠ğARESIZ_2', 'MESAJ_0', 'GO╠êRE_0', 'ENGELLI_0', 'AG╠åZI AC╠ğIK KALMAK_0', 'YAG╠åMUR_0', 'ACEMI _1', 'MESLEK_0', 'GU╠êC╠ğLU╠ê _2', 'AG╠åZI AC╠ğIK KALMAK_0', 'ACEMI _1', 'DUYGULANMAK _0', 'AFIS╠ğ_0', 'SIYAH _0', 'SAYGI _0', 'KAR_1', 'C╠ğARS╠ğI _1', 'DIKILMEK_0', 'KAYNAK_1', 'OYUN OYNAMAK_0', 'SEKRETER _1', 'I╠çNANMAK_0', 'KAR_0', 'KAHVALTI_0', 'CIDDI_0', 'ZAMANLA _2', 'ORTA _2', 'KAR_1', 'VU╠êCUT _1', 'ADA _1', 'HAYAL ETMEK_0', 'SU╠êZMEK_0', 'O╠êZGU╠êRLU╠êK_0', 'GU╠êC╠ğ _1', 'I╠çNSAN_0', 'KANUN_1', 'KONUS╠ğMAK_0', 'ADA _1', 'YORULMAK_0', 'YU╠êZ, SURAT_0', 'CUMA_0', 'EYLU╠êL_0', 'YARIS╠ğMAK_0', 'DIKMEK_1', 'AG╠åAC╠ğ _0', 'ADA _1', 'KAPTAN_0', 'KILOMETRE_0', 'DIKIS╠ğ_1', 'BAS╠ğI DO╠êNMEK_0', 'SEKRETER _1', 'DAVET _1', 'YOG╠åURMAK_0', 'YAN_1', 'BAY_0', 'GIDIS╠ğ DO╠êNU╠êS╠ğ_1', 'ASLA_0', 'I╠çNSAN_0', 'BAG╠åLAMAK _0', 'KOKU _2', 'KASIM_0', 'HARIKA_2', 'GU╠êLU╠êMSEMEK_0', 'OLUMLU_0', 'KOKU _2', 'ACEMI _1', 'DERI_2', 'AC╠ğLIK_0', 'ORTA _2', 'SU╠êZMEK_0', 'MAG╠åLUP_0', 'TAS╠ğIMAK _1', 'TAKSI_2', 'ALDATMAK_1', 'ENGELLI_0', 'ARAMAK _1', 'KORKU_0', 'BAS╠ğ_0', 'ACI_1', 'GU╠êC╠ğLU╠ê _2', 'KOKU _2', 'TEMIZLEMEK _2', 'DANS ETMEK_0', 'ARA_0', 'ELBISE _0', 'ZOR_0', 'TAKMAK_0', 'EYLU╠êL_0', 'OSMANLI_0', 'CESARET_1', 'C╠ğIFTLIK_1', 'ACEMI _1', 'HOCA_2', 'VAZGEC╠ğMEK_0', 'DIKIS╠ğ_1', 'ENGELLI_0', 'BO╠êYLE _1', 'EVRAK_0', 'AYAKKABI _0', 'VEYA_0', 'OLUMLU_0', 'AYIP_1', 'C╠ğARE _0', 'SU╠êRPRIZ_1', 'ZOR_0', 'KU╠êC╠ğU╠êLTMEK_0', 'VU╠êCUT _1', 'ZOR_0', 'U╠êS╠ğU╠êMEK_0', 'GENEL_0', 'BO╠êYLE _1', 'KALABALIK_1', 'ELBISE _0', 'I╠çNEK _0', 'BAS╠ğARISIZ_0', 'EMRETMEK, EMIR VERMEK_0', 'EZMEK_0', 'I╠çNEK _0', 'KARIS╠ğTIRMAK_0', 'HERS╠ğEY _2', 'SO╠êZ_0', 'BAS╠ğARISIZ_0', 'AZALMAK _1', 'SUSAMAK_0', 'GEREK _2', 'CUMA_0', 'BIBER_1', 'ALAY_1', 'SALLANMAK _1', 'C╠ğIKTI_1', 'AYIP_1', 'ZOR_0', 'EMEKLI _0', 'OMUZ_0', 'ALIS╠ğVERIS╠ğ_1', 'KONUS╠ğAN _0', 'TAKIP_0', 'ACEMI _1', 'I╠çG╠åNE_0', 'PEYNIR_0', 'RU╠êZGAR_0', 'KALABALIK_1', 'TEMIZLEMEK _2', 'ZOR_0', 'SARILMAK _0', 'SEKSEN_0', 'AZALMAK _1', 'SALLANMAK _1', 'KOMIK_0', 'I╠çCRA _0', 'KOLTUK_0', 'GIDIS╠ğ DO╠êNU╠êS╠ğ_1', 'NEM_0', 'MESLEK_0', 'DO╠êVMEK_0', 'RU╠êZGAR_0', 'NORMAL_0', 'HAYRAN KALMAK_1', 'ZOR_0', 'DANS ETMEK_0', 'TAVUK _1', 'DIKMEK_1', 'OTOMATIK_1', 'DU╠êKKAN_0', 'ALERJI_0', 'YALVARMAK_1', 'O╠êRU╠êMCEK_0', 'ALINMAK_1', 'C╠ğIKOLATA_0', 'EZMEK_0', 'BIZ_0', 'OYUN OYNAMAK_0', 'TAKSI_2', 'KISKANMAK_1', 'KALABALIK_1', 'GU╠êC╠ğLU╠ê _2', 'SAG╠åLIK _0', 'YARDIM_1', 'KONUS╠ğAN _0', 'EKONOMIK_1', 'TORBA_1', 'KOLTUK_0', 'I╠çNSAN_0', 'HOPARLO╠êR_0', 'MAG╠åLUP_0', 'DUYGULANMAK _0', 'C╠ğIKTI_0', 'KO╠êFTE_0', 'BO╠êYLE _1', 'GIZLI_1', 'DIS╠ğARI _0', 'KAYNAK_1', 'YARDIM_0', 'GU╠êC╠ğ _1', 'BO╠êYLE _1', 'SU╠êZMEK_0', 'TAYIN_0', 'ELBISE _0', 'OTOMATIK_1', 'ZOR_0', 'HAYAT _0', 'ZOR_0', 'MILYON_0', 'O_0', 'KARIS╠ğTIRMAK_0', 'VAR_0', 'SEKRETER _1', 'KOLTUK_1', 'C╠ğIKOLATA_0', 'C╠ğARS╠ğI _1', 'KARYOLA_0', 'GEREK _2', 'GEREK _2', 'AYIP_1', 'KOLTUK_0', 'ELBISE _0', 'ZOR_0', 'ARTMAK _2', 'KOLTUK_0', 'C╠ğIKOLATA_0', 'UFAK_2', 'NESIL_0', 'GU╠êC╠ğ _1', 'KAYIP_0', 'SAYGI _0', 'BIRLIK _2', 'AKLA GELMEK _1', 'CANAVAR_0', 'SU╠êRPRIZ_1', 'S╠ğIMARIK_0', 'AZALMAK _1', 'BAS╠ğARISIZ_0', 'C╠ğIKARTMAK_1', 'KAR_1', 'ZOR_0', 'SARILMAK _0', 'TOPLU GELMEK_1', 'EKONOMI_0', 'BAG╠åLAMAK _0', 'ACEMI _1', 'BIC╠ğAK_0', 'C╠ğIKARTMAK_1', 'EKONOMIK_1', 'DO╠êNMEK_1', 'MU╠êDU╠êR _2', 'KUAFO╠êR_1', 'KORKU_0', 'DIS╠ğARI _0', 'CAHIL _1', 'CIDDI_0', 'TREN_1', 'KADAYIF_1', 'MUAYENE_0', 'AG╠åAC╠ğ _0', 'MOLA_0', 'C╠ğIFT_2', 'EYLU╠êL_0', 'KONUS╠ğMAK_0', 'DOYMAK_1', 'CANAVAR_0', 'BAS╠ğARISIZ_0', 'TAS╠ğIMAK _1', 'DAG╠åITMAK_2', 'EKONOMI_0', 'ARAP_1', 'CIDDI_0', 'TITREMEK_1', 'KOMIK_0', 'I╠çMKANSIZ_1', 'SU╠êZMEK_1', 'KASIM_1', 'ZAMANLA _2', 'DEVAM ETMEK_2', 'TAVUK _1', 'KAR_0', 'HAYAT _0', 'KUAFO╠êR_1', 'ACEMI _1', 'S╠ğIFA_0', 'ZOR_0', 'KEDI_0', 'DEVAM ETMEK_2', 'HAYAT _0', 'O YU╠êZDEN_0', 'DAVET ETMEK_0', 'C╠ğIKMAK_1', 'AG╠åZI AC╠ğIK KALMAK_0', 'ENGELLI_0', 'VAR_0', 'VAR_0', 'EYLU╠êL_0', 'I╠çKNA ETMEK _2', 'GIZLI_1', 'ACEMI _0', 'VU╠êCUT _1', 'UFAK_2', 'AFIS╠ğ_0', 'ENGELLI_0', 'KUMAR_0', 'ONARMAK_1', 'SALI _1', 'KOMIK_0', 'UC╠ğ_0', 'BAG╠åLAMAK _0', 'TERO╠êRIST_0', 'KONUS╠ğAN _0', 'AYAKKABI _0', 'AFIS╠ğ_0', 'DERI_2', 'KAR_0', 'GEREK _2', 'KOLTUK_0', 'DERI_2', 'BOMBALAMAK_1', 'C╠ğARS╠ğI _1', 'VU╠êCUT _1', 'ZOR_0', 'ZAMANLA _2', 'TAKSIT_1', 'ACEMI _1', 'MUTLAKA_0', 'O_0', 'GU╠êVENLIK_1', 'HAYAT _0', 'PES ETMEK_0', 'ZOR_0', 'KUMAS╠ğ_1', 'MU╠êZIK _1', 'ALDATMAK_1', 'HOPARLO╠êR_0', 'UYANDIRMAK_0', 'MANZARA_0', 'ELBISE _0', 'AKLA GELMEK _1', 'BALIK_1', 'I╠çNEK _0', 'HAYDI_0', 'O_0', 'EVRAK_0', 'SAYGISIZ_0', 'YU╠êREK_0', 'TOPLU GELMEK_1', 'ORTA _2', 'ZOR_0', 'GEC╠ğMIS╠ğ OLSUN_2', 'S╠ğEMSIYE_0', 'ZOR_0', 'HAYDI_0', 'GIYMEK_0', 'BAS╠ğ_0', 'YOG╠åURMAK_0', 'ALINMAK_1', 'C╠ğIKTI_0', 'HEMS╠ğIRE _1', 'DIKMEK_1', 'NAZAR_0', 'BU╠êYU╠êMEK_2', 'PSIKOLOJIK_0', 'MANZARA_0', 'MILYON_0', 'DERE_0', 'ELBISE _0', 'HERS╠ğEY _2', 'UFAK_2', 'EZMEK_0', 'ELBISE _0', 'O╠êBU╠êR_0', 'NEFIS_1', 'SO╠êZLES╠ğME_1', 'I╠çKNA ETMEK _2', 'ZAMANLA _2', 'KARYOLA_0', 'OKS╠ğAMAK_0', 'KILOMETRE_0', 'OMUZ_0', 'UYANDIRMAK_0', 'MANZARA_0', 'ADA _1', 'HAYAL ETMEK_0', 'GU╠êC╠ğ _1', 'KAYNAK_1', 'DO╠êNMEK_1', 'ADA _1', 'OLAY _1', 'DIKIS╠ğ_1', 'BOG╠åAZ_0', 'KORKU_0', 'MESAJ_0', 'RICA _0', 'BIBER_1', 'BEBEK_0', 'YAG╠åMUR_0', 'MAFYA_0', 'DO╠êNMEK_1', 'CIMBIZ_0', 'O╠êBU╠êR_0', 'SUC╠ğ_0', 'YALVARMAK_1', 'ARAMAK _1', 'HARIKA_2', 'GEREK _2', 'MESELA_1', 'DAVET _1', 'KANUN_1', 'SALI _1', 'GIZLI_1', 'KU╠êC╠ğU╠êLTMEK_0', 'HERS╠ğEY _0', 'MILYON_0', 'VARMAK_0', 'BAS╠ğ_0', 'KAPTAN_0', 'VAR_0', 'DIKIS╠ğ_1', 'RICA _0', 'KALABALIK_1', 'O YU╠êZDEN_0', 'ARAP_1', 'OYUN OYNAMAK_0', 'UFAK_2', 'ASLA_0', 'ACEMI _1', 'ALIS╠ğVERIS╠ğ_1', 'VU╠êCUT _1', 'SAYGI _0', 'YOG╠åURMAK_0', 'I╠çNSAN_0', 'HERS╠ğEY _2', 'C╠ğIKARMAK _0', 'HEMS╠ğIRE _1', 'NEFIS_1', 'ZOR_0', 'CIMBIZ_0', 'SARILMAK _0', 'YARDIM_1', 'ADA _1', 'DAVET _1', 'SAG╠åLIK _0', 'UFAK_2', 'VAR_0', 'PES ETMEK_0', 'YARDIM_1', 'VAZGEC╠ğMEK_0', 'TOPLU GELMEK_1', 'AZALMAK _1', 'ACI_2', 'KAYIP_0', 'MARKET_2', 'AKLINA ALMAK_0', 'ORTA _2', 'ALERJI_0', 'HAYRAN KALMAK_1', 'EYLU╠êL_0', 'ZOR_0', 'AYLIK_0', 'RICA _0', 'AKLA GELMEK _1', 'I╠çNSAN_0', 'KAR_1', 'EMRETMEK, EMIR VERMEK_0', 'ONARMAK_1', 'BAS╠ğARISIZ_0', 'ONARMAK_1', 'TU╠êRBAN_1', 'KOMIK_0', 'C╠ğARS╠ğI _1', 'KISKANMAK_1', 'ARTMAK _2', 'BO╠êYLE _1', 'MUAYENE_0', 'KALABALIK_1', 'U╠êS╠ğU╠êMEK_0', 'BELGE_1', 'ALINMAK_1', 'ZOR_0', 'DUYGULANMAK _0', 'HERS╠ğEY _2', 'VAZGEC╠ğMEK_0', 'EMRETMEK, EMIR VERMEK_0', 'BAYRAM_0', 'KEDI_0', 'DO╠êNMEK_1', 'SIYAH _0', 'UYANDIRMAK_0', 'EKONOMIK_1', 'ADA _1', 'YAYINLAMAK_0', 'C╠ğORAP_0', 'C╠ğIFTLIK_1', 'NESIL_0', 'BELGE_1', 'MESELA_0', 'ZOR_0', 'ACI_1', 'SAG╠åLIK _0', 'HOPARLO╠êR_0', 'O╠êBU╠êR_0', 'ZAMANLA _2', 'C╠ğIKTI_0', 'TABELA_1', 'O╠êZGU╠êRLU╠êK_0', 'U╠êS╠ğU╠êMEK_0', 'C╠ğIKMAK_1', 'KEDI_0', 'YASAK _2', 'DIKMEK_1', 'OSMANLI_0', 'YAZ_0', 'KAPALI_2', 'GENEL_0', 'ALINMAK_1', 'OSMANLI_0', 'KADAYIF_1', 'I╠çNEK _0', 'I╠çSTIFA_1', 'VU╠êCUT _1', 'UYANDIRMAK_0', 'KAYNAK_1', 'EZMEK_0', 'U╠êC╠ğU╠êNCU╠ê_2', 'S╠ğIFA_0', 'C╠ğARE _0', 'KARIS╠ğTIRMAK_0', 'O_0', 'SU╠êZMEK_0', 'METRO_0', 'TEMIZLEMEK _2', 'O YU╠êZDEN_0', 'GO╠êRE_0', 'OSMANLI_0', 'HESAPLAMAK_2', 'SAYGI _0', 'UC╠ğ_0', 'SEKSEN_0', 'VAZGEC╠ğMEK_0', 'TAYIN_0', 'DO╠êKMEK_1', 'PSIKOLOJIK_0', 'HAYAT _0', 'AKLA GELMEK _1', 'YARDIM_0', 'DIS╠ğARI _0', 'KALABALIK_1', 'PLANLAMAK_0', 'I╠çCRA _0', 'CIMBIZ_0', 'C╠ğIKTI_0', 'EZMEK_0', 'DIKIS╠ğ DIKMEK_0', 'KARYOLA_0', 'MUHTAR_0', 'O╠êZGU╠êRLU╠êK_0', 'HERS╠ğEY _0', 'NAKIS╠ğ_2', 'O╠êZGU╠êRLU╠êK_0', 'BALIK_1', 'BOMBALAMAK_1', 'SINEMA_0', 'ZOR_0', 'GENEL_0', 'GU╠êVENLIK_1', 'ZAMANLA _2', 'TOPLU GELMEK_1', 'KOMIK_0', 'KISKANMAK_1', 'I╠çLGISIZ_0', 'ENGELLI_0', 'MAFYA_0', 'I╠çKINCI_2', 'C╠ğARE _0', 'AYIP_1', 'AFIS╠ğ_0', 'HESAPLAMAK_2', 'OMUZ_0', 'VAR_0', 'TAVUK _1', 'ELBISE _0', 'I╠çG╠åNE_0', 'AG╠åAC╠ğ _0', 'KEDI_0', 'TERO╠êRIST_0', 'ALINMAK_1', 'VALLAHI_1', 'HERS╠ğEY _2', 'O YU╠êZDEN_0', 'I╠çCRA _0', 'CAHIL _1', 'C╠ğIKMAK_1', 'ALERJI_0', 'I╠çS╠ğC╠ğI_1', 'U╠êC╠ğU╠êNCU╠ê_2', 'KOMIK_0', 'AG╠åZI AC╠ğIK KALMAK_0', 'I╠çCRA _0', 'I╠çNANMAK_0', 'SAG╠åOL_0', 'SU╠êZMEK_1', 'TEMIZLEMEK _2', 'UZUN SU╠êRMEK _2', 'HAYAT _0', 'GU╠êC╠ğ _1', 'BAS╠ğARISIZ_0', 'UFAK_2', 'YAZ_0', 'KARIS╠ğTIRMAK_0', 'CANAVAR_0', 'BAS╠ğI DO╠êNMEK_0', 'VAR_0', 'I╠çNEK _0', 'MOLA_0', 'MANZARA_0', 'KO╠êFTE_0', 'VAR_0', 'USTA_0', 'HERS╠ğEY _2', 'HAYAT _0', 'ADA _1', 'VU╠êCUT _1', 'AKLA GELMEK _1', 'UZUN SU╠êRMEK _2', 'VAR_0', 'TREN_1', 'I╠çKNA ETMEK _2', 'ERIK _1', 'ARAP_1', 'BEYAZ_2', 'YAG╠åMUR_0', 'OKS╠ğAMAK_0', 'BO╠êYLE _1', 'KILOMETRE_0', 'OLUMLU_0', 'DIKIS╠ğ_1', 'AYAKKABI _0', 'OMUZ_0', 'O╠êBU╠êR_0', 'C╠ğIKARTMAK_1', 'KARIS╠ğTIRMAK_0', 'C╠ğIKARMAK _0', 'KAYNAK_1', 'SAYGI _0', 'YARDIM_0', 'SORGULAMAK_0', 'EMRETMEK, EMIR VERMEK_0', 'ARAP_1', 'EZMEK_0', 'SU╠êZMEK_0', 'BAYRAM_0', 'ZOR_0', 'OMUZ_0', 'ORTA _2', 'ARAP_1', 'ALINMAK_1', 'OLUMLU_0', 'PSIKOLOJIK_0', 'I╠çNEK _0', 'DO╠êVMEK_0', 'EMRETMEK, EMIR VERMEK_0', 'O_0', 'YALVARMAK_1', 'OKS╠ğAMAK_0', 'SEKRETER _1', 'I╠çKNA ETMEK _2', 'AG╠åAC╠ğ _0', 'KAR_1', 'SALI _1', 'MAFYA_0', 'ASMAK_1', 'I╠çNEK _0', 'ALINMAK_1', 'PLANLAMAK_0', 'BAY_0', 'GU╠êC╠ğLU╠ê _2', 'ASMAK_1', 'BEYAZ_2', 'SALI _1', 'BAS╠ğI DO╠êNMEK_0', 'O_0', 'SALATA_1', 'SALLANMAK _1', 'YASAK _2', 'HERS╠ğEY _2', 'YES╠ğIL_1', 'TITREMEK_1', 'KEDI_0', 'KARIS╠ğTIRMAK_0', 'GO╠êRE_0', 'SALLANMAK _1', 'SALLANMAK _1', 'ARTMAK _2', 'OLUMLU_0', 'USTA_0', 'ARTMAK _2', 'DIKIS╠ğ DIKMEK_0', 'YU╠êZME_1', 'ELBISE _0', 'HEMS╠ğIRE _1', 'MILYON_0', 'ZOR_0', 'BO╠êYLE _1', 'C╠ğIKARTMAK_1', 'BAYRAM_0', 'DAVET _1', 'GIZLI_1', 'ZOR_0', 'O YU╠êZDEN_0', 'ZAMANLA _2', 'SALI _1', 'EMZIK_1', 'OTOMATIK_1', 'TAKIP_0', 'VARMAK_0', 'AZALTMAK_2', 'KASIM_1', 'YALVARMAK_1', 'HEMS╠ğIRE _1', 'HESAPLAMAK_2', 'ASMAK_1', 'EVRAK_0', 'OLUMLU_0', 'DEDE_0', 'DO╠êNMEK_1', 'O_0', 'AG╠åZI AC╠ğIK KALMAK_0', 'ZAMANLA _2', 'OLUMLU_0', 'CIDDI_0', 'RICA _0', 'HAYAT _0', 'ENGELLI_0', 'DO╠êRT _0', 'DINLEMEK_1', 'KAPALI_2', 'KILOMETRE_0', 'YAZ_0', 'SALLANMAK _1', 'HERS╠ğEY _0', 'I╠çS╠ğC╠ğI_1', 'DANS ETMEK_0', 'VU╠êCUT _1', 'ADA _1', 'BEBEK_0', 'C╠ğOCUK _1', 'KADAYIF_1', 'AZALTMAK_2', 'KORKU_0', 'SEKSEN_0', 'VU╠êCUT _1', 'HAYAL ETMEK_0', 'MAVI_0', 'METRO_0', 'I╠çNANMAK_0', 'KONUS╠ğMAK_0', 'C╠ğIKARMAK _0', 'VALLAHI_1', 'KOMIK_0', 'KAR_1', 'ZOR_0', 'PSIKOLOJIK_0', 'BAS╠ğI DO╠êNMEK_0', 'O YU╠êZDEN_0', 'VARMAK_0', 'O╠êBU╠êR_0', 'EZMEK_0', 'YU╠êKSEK_0', 'S╠ğIFA_0', 'UZUN SU╠êRMEK _2', 'GU╠êC╠ğ _1', 'GU╠êC╠ğ _1', 'KAR_1', 'BU╠êYU╠êME_2', 'DAVET ETMEK_0', 'ARAMAK _1', 'TU╠êP_1', 'BO╠êYLE _1', 'VAR_0', 'YOG╠åURMAK_0', 'DAVET _1', 'EZILMEK_2', 'ONARMAK_1', 'DANS ETMEK_0', 'ZOR_0', 'MUTLAKA_0', 'SALATA_1', 'OLUMLU_0', 'CESARET_1', 'O╠êZGU╠êRLU╠êK_0', 'SALATA_1', 'SU╠êZMEK_1', 'GRAFIK_1', 'C╠ğIKARMAK _0', 'AYLIK_0', 'KARIS╠ğTIRMAK_0', 'BELGE_1', 'YOG╠åURMAK_0', 'KUAFO╠êR_1', 'ELBISE _0', 'I╠çNANMAK_0', 'GIZLI_1', 'OLUMLU_0', 'UFAK_2', 'SAG╠åLIK _0', 'YAN_1', 'I╠çKNA ETMEK _2', 'GIZLI_1', 'SO╠êZ_0', 'VAR_0', 'C╠ğIKOLATA_0', 'ZOR_0', 'DOSYA_0', 'BAG╠åLAMAK _0', 'DIKIS╠ğ_1', 'ENGELLI_0', 'BAS╠ğARISIZ_0', 'KU╠êC╠ğU╠êLTMEK_0', 'YU╠êZME_1', 'HESAPLAMAK_2', 'ENGELLI_0', 'O_0', 'DIKIS╠ğ_1', 'VAZGEC╠ğMEK_0', 'DAVA_0', 'ALIS╠ğVERIS╠ğ_1', 'ASMAK_0', 'DAVET _1', 'MESAJ_0', 'BAG╠åLAMAK _0', 'I╠çSTIFA_1', 'RU╠êZGAR_0', 'ARAMAK _1', 'O_0', 'KILOMETRE_0', 'ALERJI_0', 'KASIM_1', 'I╠çKNA ETMEK _2', 'KADAYIF_1', 'S╠ğIFA_0', 'UZUN SU╠êRMEK _2', 'KONUS╠ğMAK_0', 'BO╠êYLE _1', 'MUTLAKA_0', 'S╠ğIFA_0', 'ALINMAK_1', 'C╠ğIKTI_0', 'CIDDI_0', 'KOMIK_0', 'HIRSIZ_2', 'ARAMAK _1', 'DEV _1', 'ALINMAK_1', 'CEP_0', 'KADAYIF_1', 'HAYAT _0', 'KARYOLA_0', 'C╠ğANTA_2', 'HIRSIZ_2', 'C╠ğARE _0', 'S╠ğIFA_0', 'KADAYIF_1', 'SAYGI _0', 'KONUS╠ğAN _0', 'SU╠êZMEK_0', 'ELBISE _0', 'I╠çCRA _0', 'OMUZ_0', 'VEYA_0', 'HAYAT _0', 'DO╠êNMEK_1', 'ZAMANLA _2', 'SU╠êZMEK_0', 'BALIK_1', 'RU╠êZGAR_0', 'SAYGI _0', 'ORTAOKUL _0', 'KARTAL_1', 'YASAK _2', 'S╠ğIFA_0', 'KAYNAK_1', 'KAPTAN_0', 'GU╠êC╠ğLU╠ê _2', 'MAFYA_0', 'VU╠êCUT _1', 'AYAKKABI _0', 'RICA _0', 'PSIKOLOJIK_0', 'NAZAR_0', 'EMZIK_1', 'YU╠êKSEK_0', 'ORTA _2', 'TAVUK _1', 'KADAYIF_1', 'S╠ğIFA_0', 'I╠çKNA ETMEK _2', 'RICA _0', 'NAZAR_0', 'SU╠êZMEK_0', 'YARDIM_1', 'DEVAM ETMEK_0', 'VU╠êCUT _1', 'KONUS╠ğMAK_0', 'ALINMAK_1', 'C╠ğARS╠ğI _1', 'BENZIN_1', 'BAZEN_2', 'EVRAK_0', 'HAYAT _0', 'MAG╠åLUP_0', 'VAZGEC╠ğMEK_0', 'VAR_0', 'YAYINLAMAK_0', 'SAYGI _0', 'KARIS╠ğTIRMAK_0', 'ELBISE _0', 'DO╠êNMEK_1', 'MANZARA_0', 'SARILMAK _0', 'YARIS╠ğMAK_0', 'SAG╠åLIK _0', 'ZOR_0', 'HESAPLAMAK_2', 'RU╠êZGAR_0', 'AFIS╠ğ_0', 'DUYGULANMAK _0', 'ORTA _2', 'GU╠êC╠ğ _1', 'VALLAHI_1', 'DAVET _1', 'S╠ğIFA_0', 'MANZARA_0', 'SAYGI _0', 'ORTA _2', 'ADA _1', 'DO╠êNMEK_1', 'O╠êZGU╠êRLU╠êK_0', 'UZUN SU╠êRMEK _2', 'BU╠êYU╠êME_2', 'GEREK _2', 'KOLTUK_1', 'GU╠êC╠ğ _1', 'SUC╠ğ_0', 'ZAMANLA _2', 'DERI_2', 'RICA _0', 'MUTLAKA_0', 'TERO╠êRIST_0', 'O_0', 'TITREMEK_1', 'DERI_2', 'DU╠êKKAN_0', 'MESELA_0', 'VIDEO_2', 'MAFYA_0', 'DIKILMEK_0', 'KUAFO╠êR_1', 'O╠êBU╠êR_0', 'BAS╠ğI DO╠êNMEK_0', 'DEV _1', 'KUAFO╠êR_1', 'SAG╠åLIK _0', 'TEMIZLEMEK _2', 'EKONOMIK_1', 'METRO_0', 'TITREMEK_1', 'KARTAL_1', 'C╠ğIFTLIK_1', 'KOLTUK_1', 'TU╠êP_1', 'MAVI_0', 'MANTI_1', 'HERS╠ğEY _2', 'MAG╠åLUP_0', 'EMRETMEK, EMIR VERMEK_0', 'ULAS╠ğIM _1', 'BELGE_1', 'VAR_0', 'C╠ğIKARMAK _0', 'MESAJ_0', 'CAHIL _1', 'VAZGEC╠ğMEK_0', 'O_0', 'KOLTUK_1', 'TERO╠êRIST_0', 'KU╠êC╠ğU╠êLTMEK_0', 'ETEK_0', 'SEKSEN_0', 'TAKMAK_0', 'GIZLI_1', 'C╠ğIKARMAK _0', 'YAYINLAMAK_0', 'KAPALI_2', 'GEREK _2', 'C╠ğALMAK _2', 'VAR_0', 'DEV _1', 'KOKU _2', 'ARAP_1', 'GO╠êRE_0', 'YU╠êZME_1', 'TU╠êP_1', 'UC╠ğ_0', 'O_0', 'KASIM_0', 'CIDDI_0', 'HESAPLAMAK_2', 'TEMIZLEMEK _2', 'ZOR_0', 'CANI ACIMAK_0', 'DANS ETMEK_0', 'MESELA_1', 'MESELA_0', 'TU╠êRBAN_0', 'GIYMEK_0', 'O_0', 'MARKET_2', 'RU╠êZGAR_0', 'KONUS╠ğAN _0', 'DERE_0', 'I╠çNSAN_0', 'ASMAK_1', 'KAR_0', 'DO╠êNMEK_1', 'DEV _1', 'C╠ğARE _0', 'ZOR_0', 'C╠ğALMAK _1', 'DO╠êVMEK_0', 'ELHAMDU╠êLILLAH_0', 'O_0', 'KARIS╠ğTIRMAK_0', 'SUSTURMAK_0', 'AYAKKABI _0', 'ZOR_0', 'MIKROP_0', 'MILYON_0', 'SORGULAMAK_0', 'ZOR_0', 'DEV _1', 'DEV _1', 'BAYRAM_0', 'AG╠åAC╠ğ _0', 'C╠ğOG╠åALTMAK_0', 'S╠ğIFA_0', 'ARAMAK _1', 'I╠çNEK _0', 'DERI_2', 'AG╠åZI AC╠ğIK KALMAK_0', 'AG╠åAC╠ğ _0', 'KO╠êFTE_0', 'UZUN SU╠êRMEK _2', 'TU╠êRBAN_1', 'GO╠êRE_0', 'KAPTAN_0', 'KUAFO╠êR_1', 'GU╠êC╠ğ _1', 'KARIS╠ğTIRMAK_0', 'DERI_2', 'SAYGI _0', 'BEBEK_0', 'KORKU_0', 'HOPARLO╠êR_0', 'EZILMEK_2', 'DUYGULANMAK _0', 'GEC╠ğMIS╠ğ OLSUN_2', 'I╠çNEK _0', 'MARKET_2', 'YIKILMAK_1', 'ZOR_0', 'YES╠ğIL_1', 'C╠ğIKARMAK _0', 'EKONOMIK_1', 'ULAS╠ğIM _1', 'ADA _1', 'DIS╠ğARI _0', 'OLUMLU_0', 'HOCA_2', 'TEMIZLEMEK _2', 'BAZEN_2', 'EMRETMEK, EMIR VERMEK_0', 'O╠êG╠åRENCI_0', 'I╠çNSAN_0', 'I╠çMKANSIZ_1', 'SARILMAK _0', 'BAS╠ğARISIZ_0', 'KORKU_0', 'I╠çKNA ETMEK _2', 'YES╠ğIL_1', 'NORMAL_0', 'S╠ğAPKA_2', 'BAS╠ğI DO╠êNMEK_0', 'KANUN_1', 'EKONOMI_0', 'OLAY _1', 'SORGULAMAK_0', 'ORTA _2', 'C╠ğIKTI_0', 'KONUS╠ğMAK_0', 'SIYAH _0', 'SUSAMAK_0', 'I╠çCRA _0', 'KASIM_1', 'YAYINLAMAK_0', 'BAG╠åLAMAK _0', 'O╠êBU╠êR_0', 'NESIL_0', 'BELGE_1', 'C╠ğIKTI_0', 'HESAPLAMAK_2', 'KAYNAK_1', 'YASAK _2', 'SINAV _0', 'DIS╠ğARI _0', 'DAVA_0', 'AG╠åAC╠ğ _0', 'AG╠åAC╠ğ _0', 'ASMAK_1', 'C╠ğIKARMAK _0', 'GEREK _2', 'SAYGI _0', 'BU╠êYU╠êME_2', 'SIYAH _0', 'YAN_1', 'ZOR_0', 'DERI_2', 'DERI_2', 'CESARET_1', 'HESAP _1', 'ZAMANLA _1', 'ASMAK_1', 'FEDERASYON_0', 'AG╠åAC╠ğ _0', 'SUSTURMAK_0', 'HERS╠ğEY _0', 'I╠çLGISIZ_0', 'I╠çNSAN_0', 'DEV _1', 'TREN_1', 'ZOR_0', 'MAFYA_0', 'C╠ğIKMAK_1', 'KU╠êC╠ğU╠êLTMEK_0', 'C╠ğIKTI_1', 'ELHAMDU╠êLILLAH_0', 'EMRETMEK, EMIR VERMEK_0', 'SAG╠å_1', 'TO╠êVBE_1', 'SEKSEN_0', 'HESAP _1', 'AYIP_1', 'BIC╠ğAK_0', 'VARMAK_0', 'ZOR_0', 'OLUMLU_0', 'DEVAM ETMEK_2', 'KONUS╠ğAN _0', 'SEKRETER _1', 'AZALMAK _1', 'EMEKLI _0', 'VAR_0', 'EMZIK_1', 'MESLEK_0', 'I╠çLGISIZ_1', 'DO╠êNMEK_1', 'BEYAZ_2', 'DEVAM ETMEK_2', 'ZOR_0', 'TREN_1', 'KILOMETRE_0', 'KORKU_0', 'SALLANMAK _1', 'KOLTUK_1', 'NEFIS_1', 'SAG╠åOL_0', 'BAYRAM_0', 'DAG╠åITMAK_2', 'HAYDI_0', 'SU╠êZMEK_1', 'HERS╠ğEY _2', 'BO╠êYLE _1', 'GU╠êVENLIK_1', 'AG╠åAC╠ğ _0', 'ARA_0', 'SO╠êZ_0', 'KU╠êC╠ğU╠êLTMEK_0', 'KARIS╠ğTIRMAK_0', 'NESIL_0', 'YIKILMAK_1', 'HAYAL ETMEK_0', 'SEKRETER _1', 'DERI_2', 'I╠çLGISIZ_0', 'YARDIM_1', 'MESAJ_0', 'GU╠êC╠ğLU╠ê _2', 'C╠ğIKARMAK _0', 'YARDIM_0', 'ACI_1', 'CANAVAR_0', 'BU╠êYU╠êMEK_2', 'I╠çSTIFA_1', 'PSIKOLOJIK_0', 'MU╠êDU╠êR _2', 'HAYAL ETMEK_0', 'ARAMAK _1', 'I╠çNSAN_0', 'I╠çNSAN_0', 'I╠çNANMAK_0', 'C╠ğIFTLIK_1', 'C╠ğOCUK _1', 'OTOMATIK_1', 'KAR_1', 'ZOR_0', 'O YU╠êZDEN_0', 'TREN_1', 'KADAYIF_1', 'MUTLAKA_0', 'ACEMI _1', 'RU╠êZGAR_0', 'AFIS╠ğ_0', 'MESELA_0', 'KUMAS╠ğ_1', 'SUC╠ğ_0', 'C╠ğOCUK _1', 'YAZ_0', 'SAKLANMAK_0', 'BIBER_1', 'ASLA_0', 'ELBISE _0', 'OTOMATIK_1', 'U╠êS╠ğU╠êMEK_0', 'KARIS╠ğTIRMAK_0', 'O╠êZGU╠êRLU╠êK_0', 'PLANLAMAK_0', 'I╠çKINCI_2', 'KALABALIK_1', 'GO╠êRE_0', 'OKS╠ğAMAK_0', 'AYIP_1', 'KARIS╠ğTIRMAK_0', 'ELHAMDU╠êLILLAH_0', 'DIKIS╠ğ_1', 'U╠êCRET _1', 'ARAMAK _1', 'SAYGI _0', 'S╠ğIFA_0', 'C╠ğATI_0', 'C╠ğU╠êRU╠êMEK_0', 'GU╠êC╠ğ _1', 'ONARMAK_1', 'TAKMAK_0', 'SINEMA_0', 'SARILMAK _0', 'ALERJI_0', 'C╠ğIKTI_1', 'KU╠êC╠ğU╠êLTMEK_0', 'C╠ğIKMAK_1', 'SAG╠åLIK _0', 'EZMEK_0', 'PAYDOS_0', 'YU╠êREK_0', 'KASIM_1', 'AZALMAK _1', 'KAYNAK_1', 'AKLA GELMEK _1', 'YAN_1', 'TREN_1', 'SAYGI _0', 'C╠ğARE _0', 'EMZIK_1', 'MAFYA_0', 'O╠êG╠åRENCI_0', 'AG╠åAC╠ğ _0', 'AZALMAK _1', 'SO╠êZLES╠ğME_1', 'O╠êG╠åRENCI_0', 'YARIS╠ğMAK_0', 'ENGELLI_0', 'ADA _1', 'CANI ACIMAK_0', 'MODEL_0', 'ASMAK_0', 'OSMANLI_0', 'DANS ETMEK_0', 'DIKIS╠ğ_1', 'NAZAR_0', 'KONUS╠ğAN _0', 'EMEKLI _0', 'AYLIK_0', 'C╠ğIKTI_1', 'ZOR_0', 'KALABALIK_1', 'C╠ğARS╠ğI _1', 'ULAS╠ğIM _1', 'TAKMAK_0', 'KILOMETRE_0', 'ELBISE _0', 'YU╠êZME_1', 'ZOR_0', 'KORKU_0', 'BENZIN_1', 'BOL_2', 'NEM_0', 'DERI_2', 'MU╠êDU╠êR _2', 'DEV _1', 'VAR_0', 'C╠ğIKTI_0', 'EMZIK_1', 'KOKU _2', 'SINAV _0', 'SALI _1', 'ELBISE _0', 'VU╠êCUT _1', 'AZALTMAK_2', 'SALI _1', 'I╠çMKANSIZ_1', 'OTOMATIK_1', 'YAG╠åMUR_0', 'ZOR_0', 'DIS╠ğARI _0', 'AYAKKABI _0', 'PSIKOLOJI_0', 'OTOMATIK_1', 'YARDIM_1', 'SARILMAK _0', 'YOG╠åURMAK_0', 'ZOR_0', 'AG╠åAC╠ğ _0', 'ALINMAK_1', 'SAYGI _0', 'YARDIM_1', 'DAVA_0', 'DO╠êNMEK_1', 'ENGELLI_0', 'KAR_0', 'C╠ğARS╠ğI _1', 'I╠çNANMAK_0', 'TREN_1', 'KONUS╠ğAN _0', 'AYIP_1', 'TAKMAK_0', 'EMEKLI _0', 'SEKRETER _1', 'O_0', 'KALABALIK_1', 'ULAS╠ğIM _1', 'MUTLAKA_0', 'OLUMLU_0', 'GENEL_0', 'EMZIK_1', 'YARDIM_0', 'GU╠êC╠ğLU╠ê _2', 'YAG╠åMUR_0', 'SAKLANMAK_0', 'SU╠êZMEK_1', 'DOSYA_0', 'RICA _0', 'METRO_0', 'EYLU╠êL_0', 'MOLA_0', 'I╠çCRA _0', 'BO╠êYLE _1', 'ALINMAK_1', 'YASAK _2', 'DEDE_0', 'I╠çLGISIZ_1', 'HAYAT _0', 'EZMEK_0', 'DUYGULANMAK _0', 'CIDDI_0', 'GIYMEK_0', 'I╠çNEK _0', 'YALVARMAK_1', 'I╠çNEK _0', 'ZOR_0', 'GU╠êVENLIK_1', 'SINAV _0', 'DAVA_0', 'C╠ğEVRE_1', 'TOPLU GELMEK_1', 'BIBER_1', 'YARDIM_1', 'HESAPLAMAK_2', 'ZOR_0', 'TREN_1', 'HESAP _1', 'TOPLU GELMEK_1', 'SUC╠ğ_0', 'FEDERASYON_0', 'U╠êC╠ğU╠êNCU╠ê_2', 'AKLA GELMEK _1', 'O_0', 'SINAV _0', 'VAR_0', 'BEYAZ_2', 'BAG╠åLAMAK _0', 'GIZLI_1', 'VAZGEC╠ğMEK_0', 'I╠çNANMAK_0', 'AKLA GELMEK _1', 'MANTI_1', 'S╠ğIMARIK_0', 'KAYNAK_1', 'I╠çFLAS ETMEK_1', 'DEVAM ETMEK_2', 'KOKU _2', 'GIYMEK_0', 'GRAFIK_1', 'AYAKKABI _0', 'C╠ğIKMAK_1', 'I╠çLGINC╠ğ_0', 'EZMEK_0', 'KAPTAN_0', 'MESELA_1', 'HIRSIZ_2', 'SOFRA_0', 'BEYAZ_2', 'I╠çNSAN_0', 'MARKET_2', 'GEREK _2', 'ZOR_0', 'UZUN SU╠êRMEK _2', 'UC╠ğ_0', 'VAR_0', 'KAPTAN_0', 'TOPRAK_0', 'SALI _1', 'TOPRAK_0', 'OMUZ_0', 'O_0', 'BO╠êYLE _1', 'DEG╠åIS╠ğTIRMEK_0', 'KANUN_1', 'EG╠åER_1', 'KAR_0', 'EMEKLI _0', 'HERS╠ğEY _0', 'PSIKOLOJIK_0', 'C╠ğIKARTMAK_1', 'CIMBIZ_0', 'KISKANMAK_1', 'I╠çKNA ETMEK _2', 'KAPALI_2', 'SALI _1', 'ELHAMDU╠êLILLAH_0', 'BIBER_1', 'MESELA_0', 'O╠êG╠åRENCI_0', 'YARDIM_1', 'VAR_0', 'ZOR_0', 'I╠çLGISIZ_0', 'KALABALIK_1', 'ARAMAK _1', 'KILOMETRE_0', 'TABELA_1', 'ALAN_0', 'KUMAR_0', 'BAS╠ğARISIZ_0', 'YU╠êZ, SURAT_0', 'PLANLAMAK_0', 'C╠ğIKARMAK _0', 'YES╠ğIL_1', 'MARKET_2', 'KO╠êFTE_0', 'MESAJ_0', 'OMUZ_0', 'BAS╠ğ_0', 'DEV _1', 'BAS╠ğI DO╠êNMEK_0', 'O_0', 'SO╠êZ_0', 'DANS ETMEK_0', 'AYAKKABI _0', 'CIDDI_0', 'SALI _1', 'VU╠êCUT _1', 'I╠çNANMAK_0', 'C╠ğATI_0', 'MESELA_1', 'SARILMAK _0', 'EYLU╠êL_0', 'SUC╠ğ_0', 'S╠ğIS╠ğMAN_1', 'RU╠êZGAR_0', 'HERS╠ğEY _2', 'GU╠êVENLIK_1', 'USTA_0', 'ARAP_1', 'SALI _1', 'ASMAK_1', 'C╠ğARESIZ_2', 'ORTA _2', 'DIKMEK_1', 'DIKIS╠ğ_1', 'AKLA GELMEK _1', 'BELGE_1', 'TOPLU GELMEK_1', 'OMUZ_0', 'OLUMLU_0', 'ACI_1', 'MESELA_0', 'SU╠êZMEK_0', 'KAPALI_2', 'BU╠êYU╠êMEK_2', 'NOT_0', 'ACI_0', 'YES╠ğIL_1', 'TEMIZLEMEK _2', 'KEDI_0', 'GU╠êC╠ğLU╠ê _2', 'RU╠êZGAR_0', 'DERI_2', 'KARYOLA_0', 'AKLA GELMEK _1', 'PSIKOLOJIK_0', 'SAYGISIZ_0', 'ACEMI _1', 'RICA _0', 'TAKMAK_0', 'GO╠êREV_0', 'DO╠êNMEK_1', 'VAR_0', 'MUTLAKA_0', 'EZMEK_0', 'VAZGEC╠ğMEK_0', 'GU╠êLU╠êMSEMEK_0', 'BELGE_1', 'DOYMAK_1', 'DEV _1', 'ELHAMDU╠êLILLAH_0', 'BIBER_1', 'SUSAMAK_0', 'VAR_0', 'ZOR_0', 'FAALIYET _0', 'ALINMAK_1', 'DIKIS╠ğ_1', 'SALI _1', 'ZOR_0', 'KONUS╠ğMAK_0', 'SINAV _0', 'YARDIM_1', 'HAYAT _0', 'MANZARA_0', 'EZMEK_0', 'PLANLAMAK_0', 'DAVA_0', 'GO╠êG╠åU╠êS, MEME_0', 'VU╠êCUT _1', 'SALLANMAK _1', 'C╠ğO╠êP_1', 'ENGELLI_0', 'ORTA _2', 'AC╠ğLIK_0', 'ACI_2', 'KALABALIK_1', 'BAS╠ğ_0', 'RU╠êZGAR_0', 'CESARET_1', 'SARILMAK _0', 'VAR_0', 'SU╠êZMEK_1', 'ADA _1', 'GU╠êVENLIK_1', 'CAHIL _1', 'SINAV _0', 'KAHVALTI_0', 'EKONOMIK_1', 'KARTAL_1', 'ACEMI _1', 'KANUN_1', 'VARDIYA_0', 'DAVA_0', 'DUYGULANMAK _0', 'HARIKA_2', 'ZOR_0', 'VAZGEC╠ğMEK_0', 'DAG╠åITMAK_2', 'KU╠êC╠ğU╠êLTMEK_0', 'ORTA _2', 'MASAJ_0', 'DIKIS╠ğ DIKMEK_0', 'BU_1', 'MASAJ_0', 'AFIS╠ğ_0', 'ACEMI _1', 'AYAKKABI _0', 'MU╠êDU╠êR _2', 'TO╠êVBE_1', 'OSMANLI_0', 'FEDERASYON_0', 'ERIK _1', 'KAR_0', 'RICA _0', 'HAYAL ETMEK_0', 'MAFYA_0', 'OLUMLU_0', 'KOLTUK_0', 'SAG╠åLIK _0', 'ORTA _2', 'VAR_0', 'AYAKKABI _0', 'BEYAZ_2', 'ZOR_0', 'C╠ğIKARTMAK_1', 'HOCA_2', 'KADAYIF_1', 'OKS╠ğAMAK_0', 'KANUN_1', 'DEVAM ETMEK_2', 'HESAP _1', 'BIZ_0', 'ZAMANLA _1', 'SAYGI _0', 'EYLU╠êL_0', 'DEVAM ETMEK_0', 'EMEKLI _0', 'VARMAK_0', 'TAKSI_2', 'DAVET _1', 'KADAYIF_1', 'BAS╠ğVURU, MU╠êRACAAT_0', 'AYIP_1', 'MAFYA_0', 'MU╠êDU╠êR _2', 'SAYGI _0', 'ALIS╠ğVERIS╠ğ_1', 'C╠ğIKTI_0', 'KOLTUK_1', 'DERI_2', 'VAR_0', 'DIKMEK_1', 'ACEMI _1', 'HOCA_2', 'YORULMAK_0', 'DINLEMEK_1', 'KOMIK_0', 'KANUN_1', 'ASMAK_1', 'O_0', 'ALINMAK_1', 'EMRETMEK, EMIR VERMEK_0', 'C╠ğOCUK _1', 'ZOR_0', 'EMZIK_1', 'HESAPLAMAK_2', 'DO╠êNMEK_1', 'HAYAL ETMEK_0', 'VEYA_0', 'SUSTURMAK_0', 'PSIKOLOJI_0', 'KASIM_1', 'SARILMAK _0', 'ARTMAK _2', 'KU╠êC╠ğU╠êLTMEK_0', 'RU╠êZGAR_0', 'ORTA _2', 'VARMAK_0', 'NAZAR_0', 'OLAY _1', 'ADA _1', 'OSMANLI_0', 'ARAP_1', 'CEP_0', 'TREN_1', 'C╠ğU╠êRU╠êMEK_0', 'TEMIZLEMEK _2', 'ARTMAK _2', 'C╠ğIKTI_0', 'KADAYIF_1', 'SUC╠ğ_0', 'ACI_0', 'SAG╠åLIK _0', 'KONUS╠ğMAK_0', 'EMZIRMEK_1', 'PSIKOLOJIK_0', 'VU╠êCUT _1', 'BAG╠åLAMAK _0', 'VALLAHI_1', 'O╠êG╠åRENCI_0', 'BAG╠åLAMAK _0', 'GU╠êVENLIK_1', 'U╠êC╠ğU╠êNCU╠ê_2', 'C╠ğALMAK _2', 'ULAS╠ğIM _1', 'GENEL_0', 'ALINMAK_1', 'TEMIZLEMEK _2', 'ADA _1', 'YORULMAK_0', 'SO╠êZ_0', 'ARTMAK _2', 'KALABALIK_1', 'ARAMAK _1', 'GENEL_0', 'ZOR_0', 'ZOR_0', 'SAG╠åLIK _0', 'C╠ğIKMAK_1', 'ALERJI_0', 'CAHIL _1', 'ALINMAK_1', 'S╠ğIFA_0', 'YARDIM_0', 'C╠ğIFTLIK_1', 'C╠ğARS╠ğI _1', 'MASAJ_0', 'YASAK _2', 'EKONOMIK_1', 'ORTAOKUL _0', 'KONUS╠ğMAK_0', 'TREN_1', 'C╠ğIKARMAK _0', 'KAYNAK_1', 'DIKIS╠ğ_1', 'KILOMETRE_0', 'AG╠åZI AC╠ğIK KALMAK_0', 'DIKIS╠ğ DIKMEK_0', 'USTA_0', 'U╠êCRET _1', 'C╠ğALMAK _2', 'KU╠êC╠ğU╠êLTMEK_0', 'SINAV _0', 'KARIS╠ğTIRMAK_0', 'KISKANMAK_1', 'AYAKKABI _0', 'UZUN SU╠êRMEK _2', 'BO╠êYLE _1', 'ASLA_0', 'HAYAT _0', 'MAG╠åLUP_0', 'SO╠êZ_0', 'CESARET_1', 'CAHIL _1', 'YAS╠ğAMAK_0', 'DANS ETMEK_0', 'C╠ğARESIZ_2', 'KONUS╠ğMAK_0', 'I╠çCRA _0', 'HARIKA_2', 'HESAP _1', 'KISKANMAK_1', 'TORBA_1', 'ACI_1', 'C╠ğIKTI_1', 'ALINMAK_1', 'CIDDI_0', 'I╠çNSAN_0', 'ASMAK_1', 'YU╠êZME_1', 'U╠êCRET _1', 'GIYMEK_0', 'AG╠åAC╠ğ _0', 'SORGULAMAK_0', 'ALAY_1', 'AZALTMAK_2', 'ARTMAK _2', 'AFIS╠ğ_0', 'O_0', 'TITREMEK_1', 'EMRETMEK, EMIR VERMEK_0', 'YES╠ğIL_1', 'OLUMLU_0', 'SINAV _0', 'I╠çCRA _0', 'CAHIL _1', 'SO╠êZLES╠ğME_1', 'SORGULAMAK_0', 'AYLIK_0', 'DUYGULANMAK _0', 'KOLTUK_1', 'I╠çSTIFA_1', 'BU╠êYU╠êMEK_2', 'GU╠êVENLIK_1', 'KORKU_0', 'FOTOKOPI_0', 'YORULMAK_0', 'DEG╠åIS╠ğTIRMEK_0', 'I╠çNEK _0', 'AG╠åAC╠ğ _0', 'EMEKLI _0', 'BELGE_1', 'AFIS╠ğ_0', 'EZILMEK_2', 'EKONOMIK_1', 'CEP_0', 'C╠ğU╠êRU╠êMEK_0', 'HESAPLAMAK_2', 'ZOR_0', 'YARIS╠ğMAK_0', 'O_0', 'GIYMEK_0', 'KUMAS╠ğ_1', 'VAR_0', 'ASMAK_1', 'BAS╠ğARISIZ_0', 'TAKSIT_1', 'TREN_1', 'KADAYIF_1', 'BAS╠ğVURU, MU╠êRACAAT_0', 'VAR_0', 'ZOR_0', 'BAYRAM_0', 'ZOR_0', 'SINAV _0', 'UZUN SU╠êRMEK _2', 'I╠çKINCI_2', 'DEVAM ETMEK_2', 'MESELA_1', 'GIZLI_1', 'DAVET _1', 'KARIS╠ğTIRMAK_0', 'BAS╠ğI DO╠êNMEK_0', 'AZALTMAK_2', 'ZOR_0', 'O YU╠êZDEN_0', 'SEKRETER _1', 'YAYINLAMAK_0', 'KARIS╠ğTIRMAK_0', 'O_0', 'CESARET_1', 'BAG╠åLAMAK _0', 'VU╠êCUT _1', 'EKONOMIK_1', 'HESAPLAMAK_2', 'C╠ğIKTI_1', 'SO╠êZLES╠ğME_1', 'ACI_0', 'KISKANMAK_1', 'KESIN_1', 'C╠ğIFTLIK_1', 'YARDIM_0', 'KO╠êFTE_0', 'C╠ğALMAK _1', 'DERI_2', 'ZOR_0', 'ALERJI_0', 'KALABALIK_1', 'C╠ğOG╠åALTMAK_0', 'AFIS╠ğ_0', 'O YU╠êZDEN_0', 'BU╠êYU╠êMEK_2', 'I╠çNEK _0', 'U╠êCRET _1', 'SALI _1', 'TORBA_1', 'C╠ğIKARTMAK_1', 'HESAPLAMAK_2', 'SO╠êZLES╠ğME_1', 'VAR_0', 'ARTMAK _2', 'EMRETMEK, EMIR VERMEK_0', 'VARDIYA_0', 'ZOR_0', 'BU╠êYU╠êMEK_2', 'MESELA_0', 'TU╠êP_1', 'OTOMATIK_1', 'ACI_0', 'I╠çCRA _0', 'PSIKOLOJIK_0', 'DIKIS╠ğ_1', 'AG╠åAC╠ğ _0', 'DAVET ETMEK_0', 'O╠êG╠åLE_1', 'EZMEK_0', 'ZAMANLA _2', 'EZMEK_0', 'BEBEK_0', 'MU╠êDU╠êR _2', 'AYLIK_0', 'KORKU_0', 'DAVET _1', 'DEV _1', 'MASAJ_0', 'YU╠êKSEK_0', 'DEVAM ETMEK_2', 'UFAK_2', 'C╠ğARE _0', 'UFAK_2', 'CANAVAR_0', 'TUVALET_0', 'KARIS╠ğTIRMAK_0', 'KALABALIK_1', 'CANI ACIMAK_0', 'ZOR_0', 'BU╠êYU╠êME_2', 'GEREK _2', 'SARILMAK _0', 'DIS╠ğARI _0', 'BELGE_1', 'PES ETMEK_0', 'BAYRAM_0', 'SU╠êRPRIZ_1', 'HESAP _1', 'BIR DAHA_0', 'S╠ğAS╠ğMAK_0', 'C╠ğARS╠ğI _1', 'C╠ğALMAK _1', 'VEYA_0', 'YARDIM_0', 'TEMIZLEMEK _2', 'BIRLIK _2', 'YU╠êZME_1', 'MARKET_2', 'AG╠åAC╠ğ _0', 'I╠çKNA ETMEK _2', 'HERS╠ğEY _0', 'BOL_2', 'BALIK_1', 'KALABALIK_1', 'MUTLAKA_0', 'I╠çNEK _0', 'AYLIK_0', 'VU╠êCUT _1', 'KARIS╠ğTIRMAK_0', 'HERS╠ğEY _2', 'O_0', 'VEYA_0', 'KORKU_0', 'AFIS╠ğ_0', 'TITREMEK_1', 'ADA _1', 'C╠ğIKTI_0', 'ORTAOKUL _0', 'TO╠êVBE_1', 'MARKET_2', 'C╠ğIKTI_1', 'TAVUK _1', 'I╠çKINCI_2', 'BALIK_1', 'OMUZ_0', 'MAVI_0', 'KONUS╠ğMAK_0', 'SALI _1', 'C╠ğIKMAK_1', 'I╠çLGISIZ_0', 'KUMAS╠ğ_1', 'VAR_0', 'ORTA _2', 'ZOR_0', 'YAN_1', 'VU╠êCUT _1', 'EG╠åER_1', 'C╠ğARS╠ğI _1', 'GU╠êC╠ğ _1', 'ADA _1', 'C╠ğIKARMAK _0', 'KORKU_0', 'BIBER_1', 'SALLANMAK _1', 'OMUZ_0', 'SAYGI _0', 'KARIS╠ğTIRMAK_0', 'DIKIS╠ğ DIKMEK_0', 'UFAK_2', 'ALINMAK_1', 'SARILMAK _0', 'KU╠êC╠ğU╠êLTMEK_0', 'CESARET_1', 'TREN_1', 'KAHVALTI_0', 'KAPTAN_0', 'ALINMAK_1', 'AYAKKABI _0', 'BAG╠åLAMAK _0', 'KORKU_0', 'EYLU╠êL_0', 'CESUR_0', 'CAHIL _1', 'PLANLAMAK_0', 'EZILMEK_2', 'YOG╠åURMAK_0', 'SO╠êZ_0', 'ELHAMDU╠êLILLAH_0', 'KOLTUK_0', 'BAG╠åLAMAK _0', 'I╠çNANMAK_0', 'YAN_1', 'DAVET _1', 'HERS╠ğEY _0', 'ADA _1', 'ZOR_0', 'BIBER_1', 'ORTA _2', 'NAKIS╠ğ_2', 'I╠çNSAN_0', 'SAYGI _0', 'TUVALET_0', 'U╠êC╠ğU╠êNCU╠ê_2', 'ASMAK_1', 'ELBISE _0', 'KARIS╠ğTIRMAK_0', 'SALATA_1', 'BAG╠åLAMAK _0', 'AKLA GELMEK _1', 'SO╠êZ_0', 'BOG╠åAZ_0', 'ZAMANLA _2', 'BOG╠åAZ_0', 'SIYAH _0', 'BEBEK_0', 'I╠çNSAN_0', 'OMUZ_0', 'EMEKLI _0', 'ARA_0', 'KASIM_1', 'KARIS╠ğTIRMAK_0', 'DO╠êVMEK_0', 'AYIP_1', 'AG╠åZI AC╠ğIK KALMAK_0', 'ALIS╠ğVERIS╠ğ_1', 'ACEMI _1', 'KOLTUK_0', 'YAG╠åMUR_0', 'I╠çLGINC╠ğ_0', 'ENGELLI_0', 'BAS╠ğI DO╠êNMEK_0', 'I╠çFLAS ETMEK_1', 'HAYRAN KALMAK_1', 'KASIM_0', 'BAG╠åLAMAK _0', 'EMRETMEK, EMIR VERMEK_0', 'KARTAL_1', 'HERS╠ğEY _0', 'EVRAK_0', 'AYIP_1', 'ETEK_0', 'AG╠åRIMAK_1', 'EVRAK_0', 'GO╠êREV_0', 'UZUN SU╠êRMEK _2', 'C╠ğIKARMAK _0', 'C╠ğEVRE_1', 'AG╠åAC╠ğ _0', 'GIYMEK_0', 'ZOR_0', 'RU╠êZGAR_0', 'TEMIZLEMEK _2', 'AYLIK_0', 'VEYA_0', 'SIYAH _0', 'SAG╠å_1', 'TREN_1', 'YAZ_0', 'MANZARA_0', 'MESELA_0', 'MUTLAKA_0', 'PSIKOLOJIK_0', 'KAYNAK_1', 'TERO╠êRIST_0', 'BALIK_1', 'NEFIS_0', 'C╠ğIKOLATA_0', 'ULAS╠ğIM _1', 'AG╠åAC╠ğ _0', 'OMUZ_0', 'MESELA_1', 'U╠êCRET _1', 'TU╠êP_1', 'YAS╠ğAMAK_0', 'EVRAK_0', 'MESELA_1', 'KADAYIF_1', 'GEC╠ğMIS╠ğ OLSUN_2', 'YAYINLAMAK_0', 'NAZAR_0', 'UZUN SU╠êRMEK _2', 'S╠ğIFA_0', 'U╠êS╠ğU╠êMEK_0', 'YASAK _2', 'KUAFO╠êR_1', 'BALIK_1', 'SU╠êZMEK_1', 'GU╠êC╠ğLU╠ê _2', 'C╠ğARS╠ğI _1', 'DIKILMEK_0', 'HERS╠ğEY _0', 'NOT_0', 'SINAV _0', 'ASMAK_0', 'BEYAZ_2', 'DUYGULANMAK _0', 'NORMAL_0', 'OYUN OYNAMAK_0', 'EMRETMEK, EMIR VERMEK_0', 'OSMANLI_0', 'USTA_0', 'BEBEK_0', 'SALI _1', 'TOPRAK_0', 'C╠ğINGENE_1', 'VAZGEC╠ğMEK_0', 'SALATA_1', 'ERIK _1', 'MESAJ_0', 'SU╠êZMEK_1', 'BALIK_1', 'OYUN OYNAMAK_0', 'GIZLI_1', 'C╠ğALMAK _1', 'HAYAT _0', 'ZOR_0', 'AKLA GELMEK _1', 'AKLA GELMEK _1', 'DUYGULANMAK _0', 'DEVAM ETMEK_2', 'ACI_0', 'I╠çNSAN_0', 'DEDE_0', 'I╠çNSAN_0', 'AYAKKABI _0', 'ZAMANLA _2', 'UFAK_2', 'PSIKOLOJIK_0', 'ELBISE _0', 'BOG╠åAZ_0', 'C╠ğADIR_0', 'KONUS╠ğMAK_0', 'ZAMANLA _1', 'KAR_0', 'DEV _1', 'ARAP_1', 'EMZIK_1', 'KALABALIK_1', 'MIKROP_0', 'DEG╠åIS╠ğTIRMEK_0', 'C╠ğOCUK _1', 'BO╠êYLE _1', 'YAZ_0', 'DO╠êKMEK_1', 'KORKU_0', 'UZUN SU╠êRMEK _2', 'VAR_0', 'ALAY_1', 'HOCA_2', 'KARTAL_1', 'ARAMAK _1', 'MESELA_0', 'KARIS╠ğTIRMAK_0', 'TOPRAK_0', 'GU╠êC╠ğ _1', 'O╠êZGU╠êRLU╠êK_0', 'BEBEK_0', 'ARTMAK _2', 'DIKIS╠ğ DIKMEK_0', 'SU╠êZMEK_1', 'EZMEK_0', 'ZOR_0', 'AFIS╠ğ_0', 'SUC╠ğ_0', 'MOLA_0', 'AG╠åAC╠ğ _0', 'OKS╠ğAMAK_0', 'KARIS╠ğTIRMAK_0', 'BAYRAM_0', 'KADAYIF_1', 'UZUN SU╠êRMEK _2', 'BU╠êYU╠êME_2', 'ELHAMDU╠êLILLAH_0', 'AFIS╠ğ_0', 'C╠ğARE _0', 'ALINMAK_1', 'TABELA_1', 'TITREMEK_1', 'VEYA_0', 'BAS╠ğ_0', 'ASMAK_1', 'C╠ğIKMAK_1', 'C╠ğU╠êRU╠êMEK_0', 'ELHAMDU╠êLILLAH_0', 'DIKILMEK_0', 'KOLTUK_1', 'C╠ğOG╠åALTMAK_0', 'MU╠êZIK _1', 'I╠çNSAN_0', 'GEREK _2', 'YU╠êZME_1', 'AKLA GELMEK _1', 'SIYAH _0', 'GU╠êC╠ğLU╠ê _2', 'BALIK_1', 'KAR_1', 'C╠ğIKTI_1', 'BAS╠ğI DO╠êNMEK_0', 'BAG╠åLAMAK _0', 'SALI _1', 'BOG╠åAZ_0', 'KALABALIK_1', 'YORULMAK_0', 'KARIS╠ğTIRMAK_0', 'ALERJI_0', 'ENGELLI_0', 'HESAPLAMAK_2', 'DOSYA_0', 'SU╠êZMEK_0', 'DUYGULANMAK _0', 'ACI_1', 'SU╠êZMEK_1', 'KASIM_1', 'ALINMAK_1', 'YORULMAK_0', 'KARYOLA_0', 'MUTLAKA_0', 'AFIS╠ğ_0', 'HEMS╠ğIRE _1', 'GO╠êRE_0', 'EKONOMIK_1', 'SU╠êZMEK_0', 'KARIS╠ğTIRMAK_0', 'UZUN SU╠êRMEK _2', 'GIZLI_1', 'TU╠êP_1', 'MILYON_0', 'DO╠êNMEK_1', 'TEMIZLEMEK _2', 'BAG╠åLAMAK _0', 'ALERJI_0', 'MU╠êZIK _1', 'MAVI_0', 'BU╠êYU╠êMEK_2', 'O YU╠êZDEN_0', 'OLUMLU_0', 'MAKINE _0', 'DO╠êVMEK_0', 'HAYAL ETMEK_0', 'DIKILMEK_0', 'KUAFO╠êR_1', 'OMUZ_0', 'MILYON_0', 'AKLA GELMEK _1', 'AKIL_0', 'SALLANMAK _1', 'KUAFO╠êR_1', 'C╠ğOG╠åALTMAK_0', 'TU╠êP_1', 'GIDIS╠ğ DO╠êNU╠êS╠ğ_1', 'DEV _1', 'CANAVAR_0', 'BAS╠ğI DO╠êNMEK_0', 'JAPON_0', 'EMZIK_1', 'TU╠êRBAN_1', 'ACI_1', 'EMZIK_1', 'YORULMAK_0', 'KILOMETRE_0', 'C╠ğOCUK _1', 'AG╠åAC╠ğ _0', 'EMZIK_1', 'KADAYIF_1', 'RICA _0', 'MANZARA_0', 'C╠ğOCUK _1', 'HOCA_2', 'PSIKOLOJI_0', 'ELBISE _0', 'ARAMAK _1', 'OKS╠ğAMAK_0', 'KUAFO╠êR_1', 'HAYAL ETMEK_0', 'BAS╠ğARISIZ_0', 'KONUS╠ğAN _0', 'UFAK_2', 'C╠ğIKARMAK _0', 'ELHAMDU╠êLILLAH_0', 'SINAV _0', 'I╠çKNA ETMEK _2', 'KARTAL_1', 'ZOR_0', 'DIKIS╠ğ_1', 'GRAFIK_1', 'SAYGI _0', 'ORTA _2', 'RICA _0', 'HERS╠ğEY _0', 'SARILMAK _0', 'AG╠åAC╠ğ _0', 'MAG╠åLUP_0', 'KARIS╠ğTIRMAK_0', 'ALIS╠ğVERIS╠ğ_1', 'TOPLU GELMEK_1', 'AYLIK_0', 'ORTA _2', 'GO╠êG╠åU╠êS, MEME_0', 'ZOR_0', 'S╠ğIS╠ğMAN_1', 'KAR_0', 'UYANDIRMAK_0', 'KONUS╠ğAN _0', 'KOLTUK_1', 'BU_1', 'GIZLI_1', 'ORTA _2', 'DAG╠åITMAK_2', 'ARAMAK _1', 'BAG╠åLAMAK _0', 'PSIKOLOJIK_0', 'BELGE_1', 'VAZGEC╠ğMEK_0', 'YAG╠åMUR_0', 'C╠ğARESIZ_2', 'PSIKOLOJIK_0', 'NAKIS╠ğ_2', 'MESELA_1', 'ENGELLI_0', 'ALAY_1', 'U╠êS╠ğU╠êMEK_0', 'SAG╠åLIK _0', 'O_0', 'HAYRAN KALMAK_1', 'HAYAL ETMEK_0', 'HESAP _1', 'O_0', 'BALIK_1', 'MAFYA_0', 'VALLAHI_1', 'MILYON_0', 'GIZLI_1', 'ULAS╠ğIM _1', 'BIBER_1', 'AFIS╠ğ_0', 'ZAMANLA _2', 'ENGELLI_0', 'U╠êCRET _1', 'C╠ğIKMAK_1', 'EMRETMEK, EMIR VERMEK_0', 'MANZARA_0', 'KARIS╠ğTIRMAK_0', 'VARMAK_0', 'KUMAS╠ğ_1', 'TREN_1', 'VAZGEC╠ğMEK_0', 'YES╠ğIL_1', 'RICA _0', 'VAZGEC╠ğMEK_0', 'KUMAR_0', 'C╠ğIKMAK_1', 'FOTOKOPI_0', 'KUAFO╠êR_1', 'UC╠ğ_0', 'AKLINA ALMAK_0', 'FOTOKOPI_0', 'ARA_0', 'ORTA _2', 'KARIS╠ğTIRMAK_0', 'BENZIN_1', 'C╠ğALMAK _1', 'BO╠êYLE _1', 'KOLTUK_0', 'DIKIS╠ğ DIKMEK_0', 'EKONOMIK_1', 'HAYAT _0', 'SUSTURMAK_0', 'I╠çKNA ETMEK _2', 'KARIS╠ğTIRMAK_0', 'VU╠êCUT _1', 'VALLAHI_1', 'KESIN_1', 'EZILMEK_2', 'METRO_0', 'SO╠êZ_0', 'SARILMAK _0', 'O_0', 'KONUS╠ğMAK_0', 'ORTA _2', 'C╠ğORAP_1', 'SINAV _0', 'ZAMANLA _1', 'DAVA_0', 'ELHAMDU╠êLILLAH_0', 'YU╠êREK_0', 'YAG╠åMUR_0', 'KOKU _2', 'KORKU_0', 'AG╠åAC╠ğ _0', 'KILOMETRE_0', 'C╠ğIKTI_0', 'ELHAMDU╠êLILLAH_0', 'ELBISE _0', 'OLUMLU_0', 'MESELA_0', 'I╠çNANMAK_0', 'YES╠ğIL_1', 'PSIKOLOJIK_0', 'O╠êZGU╠êRLU╠êK_0', 'YAYINLAMAK_0', 'PAYDOS_0', 'YIKILMAK_1', 'BO╠êYLE _1', 'C╠ğOG╠åALTMAK_0', 'MUTLAKA_0', 'TUVALET_0', 'PSIKOLOJIK_0', 'SUC╠ğ_0', 'SINAV _0', 'HAYAT _0', 'SUSAMAK_0', 'DAVA_0', 'OYUN OYNAMAK_0', 'I╠çNANMAK_0', 'SU╠êZMEK_0', 'SARILMAK _0', 'RICA _0', 'ORTA _2', 'MILYON_0', 'KONUS╠ğAN _0', 'C╠ğARS╠ğI _1', 'UFAK_2', 'YAPIS╠ğMAK_0', 'UFAK_2', 'HESAP _1', 'OKS╠ğAMAK_0', 'KILOMETRE_0', 'DIS╠ğARI _0', 'VARMAK_0', 'DAVET _1', 'I╠çKNA ETMEK _2', 'C╠ğIKARMAK _0', 'KANUN_1', 'YAN_1', 'ZAMANLA _2', 'KUMAS╠ğ_1', 'O_0', 'HIRSIZ_2', 'KOLTUK_1', 'MESLEK_0', 'AYLIK_0', 'OLUMLU_0', 'AYAKKABI _0', 'MANZARA_0', 'ENGELLI_0', 'GU╠êC╠ğ _1', 'VAR_0', 'BALIK_1', 'C╠ğIKTI_0', 'KONUS╠ğAN _0', 'TORBA_1', 'U╠êCRET _1', 'KAR_1', 'SUSAMAK_0', 'AKLA GELMEK _1', 'KOMIK_0', 'AG╠åZI AC╠ğIK KALMAK_0', 'C╠ğARS╠ğI _1', 'U╠êC╠ğU╠êNCU╠ê_2', 'BEYAZ_2', 'SINAV _0', 'I╠çNSAN_0', 'KAPTAN_0', 'SALI _1', 'C╠ğOCUK _1', 'KEDI_0', 'I╠çNEK _0', 'ZOR_0', 'GO╠êRE_0', 'YARIS╠ğMAK_0', 'I╠çNANMAK_0', 'KAYIP_0', 'I╠çNEK _0', 'TEMIZLEMEK _2', 'UFAK_2', 'CAHIL _1', 'UFAK_2', 'SAG╠åLIK _0', 'BO╠êYLE _1', 'TU╠êP_1', 'C╠ğIFT_2', 'KASIM_1', 'BU╠êYU╠êME_2', 'ZAMANLA _2', 'HERS╠ğEY _0', 'C╠ğIKARMAK _0', 'BEYAZ_2', 'ZOR_0', 'YU╠êREK_0', 'O_0', 'BAS╠ğ_0', 'AKLA GELMEK _1', 'MILYON_0', 'DO╠êNMEK_1', 'VAR_0', 'ZOR_0', 'OLUMLU_0', 'HOCA_2', 'GU╠êC╠ğ _1', 'GEREK _2', 'AYIP_1', 'SO╠êZ_0', 'I╠çNSAN_0', 'U╠êS╠ğU╠êMEK_0', 'KOMIK_0', 'O YU╠êZDEN_0', 'VIDEO_2', 'BENZIN_1', 'AYLIK_0', 'SAYGI _0', 'DO╠êNMEK_1', 'KARYOLA_0', 'KOMIK_0', 'BEYAZ_2', 'GU╠êC╠ğLU╠ê _2', 'ACEMI _1', 'DERI_2', 'TERO╠êRIST_0', 'CIDDI_0', 'BAS╠ğARISIZ_0', 'HAYAT _0', 'PSIKOLOJI_0', 'CESARET_1', 'C╠ğIKMAK_1', 'ASLA_0', 'OMUZ_0', 'BU╠êYU╠êMEK_2', 'C╠ğIKMAK_1', 'DO╠êNMEK_1', 'BALIK_1', 'ZOR_0', 'OLUMLU_0', 'VEYA_0', 'GU╠êC╠ğLU╠ê _2', 'CIDDI_0', 'SAG╠åLIK _0', 'GO╠êREV_0', 'I╠çNEK _0', 'KAR_1', 'KU╠êC╠ğU╠êLTMEK_0', 'YARDIM_1', 'GU╠êC╠ğLU╠ê _2', 'ADA _1', 'BEYAZ_2', 'GU╠êVENLIK_1', 'KONUS╠ğMAK_0', 'O╠êG╠åRENCI_0', 'O╠êG╠åRENCI_0', 'KARTAL_1', 'GU╠êC╠ğ _1', 'C╠ğIKARMAK _0', 'KAYIP_0', 'BAG╠åLAMAK _0', 'SUC╠ğ_0', 'VAR_0', 'NEFRET ETMEK_0', 'OMUZ_0', 'DAVET _1', 'HERS╠ğEY _0', 'C╠ğARS╠ğI _1', 'S╠ğIFA_0', 'TAVUK _1', 'DEVAM ETMEK_2', 'OLUMLU_0', 'BELGE_1', 'KARIS╠ğTIRMAK_0', 'ARA_0', 'AYLIK_0', 'DOSYA_0', 'MANZARA_0', 'VAR_0', 'YARDIM_0', 'MONITO╠êR_0', 'MESAJ_0', 'PSIKOLOJIK_0', 'KASIM_0', 'HERS╠ğEY _2', 'AYAKKABI _0', 'GU╠êC╠ğLU╠ê _2', 'BU╠êYU╠êME_2', 'ZAMANLA _2', 'SU╠êZMEK_1', 'YARIS╠ğMAK_0', 'EMZIK_1', 'KOKU _2', 'UZUN SU╠êRMEK _2', 'KAFAYA TAKMAK_0', 'C╠ğU╠êRU╠êMEK_0', 'ENGELLI_0', 'DAVA_0', 'DAVET _1', 'MESELA_0', 'BALIK_1', 'C╠ğIKMAK_1', 'U╠êC╠ğU╠êNCU╠ê_2', 'MASAJ_0', 'KANUN_1', 'TAKMAK_0', 'I╠çKINCI_2', 'O_0', 'SALI _1', 'DAVET _1', 'TO╠êVBE_1', 'UFAK_2', 'ELBISE _0', 'CESARET_1', 'BU╠êYU╠êME_2', 'TREN_1', 'HAYAT _0', 'KU╠êC╠ğU╠êLTMEK_0', 'MUTLAKA_0', 'ZOR_0', 'UZUN SU╠êRMEK _2', 'EKONOMI_0', 'MU╠êZIK _1', 'OSMANLI_0', 'GU╠êLU╠êMSEMEK_0', 'C╠ğIKARMAK _0', 'C╠ğARS╠ğI _1', 'KUAFO╠êR_1', 'DIKIS╠ğ DIKMEK_0', 'SU╠êZMEK_1', 'GO╠êRE_0', 'OMUZ_0', 'DEDE_0', 'HESAP _1', 'ALINMAK_1', 'SALLANMAK _1', 'BOL_2', 'HAYDI_0', 'MU╠êDU╠êR _2', 'C╠ğALMAK _2', 'CANAVAR_0', 'YASAK _2', 'KASIM_0', 'VAZGEC╠ğMEK_0', 'TITREMEK_1', 'ORTA _2', 'OLUMLU_0', 'DERE_0', 'OLUMLU_0', 'I╠çNSAN_0', 'METRO_0', 'OTOMATIK_1', 'AKLA GELMEK _1', 'GU╠êVENLIK_1', 'SAG╠å_1', 'KONUS╠ğMAK_0', 'SALI _1', 'I╠çKNA ETMEK _2', 'KALABALIK_1', 'ZOR_0', 'KU╠êC╠ğU╠êLTMEK_0', 'SEKSEN_0', 'MARKET_2', 'KANUN_1', 'YES╠ğIL_1', 'OLUMLU_0', 'NOT_0', 'UFAK_2', 'VALLAHI_1', 'KOLTUK_0', 'BU╠êYU╠êME_2', 'SARILMAK _0', 'DIS╠ğARI _0', 'I╠çLGISIZ_0', 'HAYDI_0', 'RU╠êZGAR_0', 'EMRETMEK, EMIR VERMEK_0', 'DO╠êRT _0', 'PAYDOS_0', 'OTOMATIK_1', 'OLUMLU_0', 'C╠ğIKARMAK _0', 'VAR_0', 'ELHAMDU╠êLILLAH_0', 'DEV _1', 'KONUS╠ğAN _0', 'EKONOMIK_1', 'PSIKOLOJIK_0', 'SO╠êZ_0', 'SU╠êZMEK_1', 'VAR_0', 'HOCA_2', 'CANI ACIMAK_0', 'GU╠êC╠ğ _1', 'DERI_2', 'SALI _1', 'KAR_1', 'EVRAK_0', 'DERE_0', 'ORTA _2', 'SUSTURMAK_0', 'BO╠êYLE _1', 'BELGE_1', 'SU╠êZMEK_0', 'SAKLANMAK_0', 'KAR_1', 'KAYIP_0', 'SAG╠åLIK _0', 'TITREMEK_1', 'ALERJI_0', 'YU╠êKSEK_0', 'CANI ACIMAK_0', 'KAPALI_2', 'YU╠êZME_1', 'DAVA_0', 'HAYAL ETMEK_0', 'KONUS╠ğAN _0', 'EMZIK_1', 'KORKU_0', 'ZOR_0', 'AYLIK_0', 'NESIL_0', 'TAVUK _1', 'SORU IS╠ğARETI_0', 'BAS╠ğI DO╠êNMEK_0', 'SARILMAK _0', 'VAR_0', 'TEMIZLEMEK _2', 'HERS╠ğEY _2', 'BAS╠ğI DO╠êNMEK_0', 'EG╠åER_1', 'BEBEK_0', 'ADA _1', 'SIYAH _0', 'MESELA_0', 'SO╠êZLES╠ğME_1', 'SALI _1', 'NEFRET ETMEK_0', 'EMRETMEK, EMIR VERMEK_0', 'UZUN SU╠êRMEK _2', 'SINAV _0', 'ALINMAK_1', 'BU_1', 'KARIS╠ğTIRMAK_0', 'KOMIK_0', 'VEYA_0', 'DERI_2', 'DIKILMEK_0', 'C╠ğARS╠ğI _1', 'O╠êG╠åRENCI_0', 'BAS╠ğARISIZ_0', 'ASLA_0', 'PSIKOLOJIK_0', 'OLUMLU_0', 'DAVET ETMEK_0', 'OKS╠ğAMAK_0', 'DAVA_0', 'TEMIZLEMEK _2', 'VALLAHI_1', 'HERS╠ğEY _2', 'I╠çKINCI_2', 'NEFIS_1', 'OLUMLU_0', 'O_0', 'TEMIZLEMEK _2', 'GENEL_0', 'OMUZ_0', 'C╠ğALMAK _2', 'TUVALET_0', 'ENGELLI_0', 'UFAK_2', 'AKLA GELMEK _1', 'MOLA_0', 'VEYA_0', 'SEKRETER _1', 'VEYA_0', 'UFAK_2', 'DIKIS╠ğ_1']\n",
      "start_idx\n",
      "[32.0, 29.0, 28.0, 28.0, 27.0, 37.0, 30.0, 25.0, 31.0, 27.0, 28.0, 52.0, 33.0, 33.0, 26.0, 44.0, 26.0, 29.0, 34.0, 47.0, 37.0, 27.0, 27.0, 26.0, 28.0, 25.0, 35.0, 27.0, 30.0, 45.0, 63.0, 33.0, 35.0, 31.0, 27.0, 39.0, 26.0, 33.0, 39.0, 42.0, 33.0, 33.0, 29.0, 32.0, 27.0, 29.0, 27.0, 26.0, 35.0, 31.0, 39.0, 27.0, 42.0, 26.0, 47.0, 52.0, 48.0, 29.0, 27.0, 29.0, 35.0, 26.0, 41.0, 34.0, 49.0, 28.0, 25.0, 41.0, 29.0, 28.0, 29.0, 32.0, 31.0, 32.0, 37.0, 49.0, 43.0, 46.0, 27.0, 105.0, 27.0, 28.0, 30.0, 31.0, 28.0, 27.0, 35.0, 28.0, 26.0, 31.0, 29.0, 30.0, 27.0, 29.0, 32.0, 28.0, 61.0, 49.0, 25.0, 28.0, 31.0, 31.0, 29.0, 31.0, 25.0, 42.0, 26.0, 29.0, 26.0, 27.0, 28.0, 34.0, 44.0, 27.0, 31.0, 25.0, 41.0, 29.0, 29.0, 30.0, 29.0, 38.0, 34.0, 28.0, 30.0, 29.0, 26.0, 32.0, 44.0, 34.0, 30.0, 30.0, 28.0, 40.0, 46.0, 47.0, 37.0, 26.0, 31.0, 35.0, 34.0, 49.0, 38.0, 40.0, 35.0, 29.0, 29.0, 34.0, 37.0, 27.0, 39.0, 32.0, 69.0, 41.0, 40.0, 31.0, 50.0, 50.0, 33.0, 32.0, 42.0, 29.0, 36.0, 37.0, 32.0, 31.0, 26.0, 25.0, 25.0, 29.0, 27.0, 28.0, 26.0, 27.0, 28.0, 47.0, 45.0, 35.0, 47.0, 28.0, 30.0, 33.0, 32.0, 29.0, 25.0, 32.0, 26.0, 26.0, 52.0, 27.0, 41.0, 34.0, 28.0, 28.0, 26.0, 38.0, 31.0, 26.0, 38.0, 40.0, 35.0, 41.0, 29.0, 26.0, 32.0, 31.0, 30.0, 30.0, 35.0, 25.0, 38.0, 29.0, 31.0, 26.0, 35.0, 32.0, 26.0, 33.0, 27.0, 40.0, 41.0, 55.0, 30.0, 62.0, 49.0, 30.0, 40.0, 30.0, 33.0, 28.0, 45.0, 33.0, 40.0, 31.0, 43.0, 37.0, 30.0, 40.0, 36.0, 41.0, 30.0, 32.0, 32.0, 45.0, 26.0, 39.0, 46.0, 41.0, 59.0, 27.0, 29.0, 27.0, 25.0, 25.0, 45.0, 35.0, 30.0, 28.0, 25.0, 60.0, 29.0, 37.0, 26.0, 29.0, 46.0, 31.0, 31.0, 25.0, 44.0, 32.0, 27.0, 27.0, 27.0, 25.0, 51.0, 25.0, 31.0, 32.0, 28.0, 27.0, 28.0, 26.0, 34.0, 34.0, 41.0, 36.0, 26.0, 33.0, 36.0, 28.0, 32.0, 33.0, 28.0, 34.0, 25.0, 25.0, 27.0, 67.0, 27.0, 46.0, 25.0, 40.0, 30.0, 28.0, 31.0, 37.0, 26.0, 26.0, 48.0, 29.0, 45.0, 29.0, 49.0, 37.0, 28.0, 26.0, 27.0, 25.0, 25.0, 37.0, 29.0, 32.0, 37.0, 29.0, 27.0, 27.0, 38.0, 25.0, 38.0, 38.0, 32.0, 28.0, 34.0, 33.0, 31.0, 37.0, 34.0, 57.0, 26.0, 42.0, 25.0, 44.0, 27.0, 26.0, 25.0, 26.0, 44.0, 29.0, 32.0, 29.0, 29.0, 43.0, 34.0, 25.0, 49.0, 44.0, 30.0, 28.0, 31.0, 43.0, 40.0, 25.0, 26.0, 26.0, 34.0, 31.0, 34.0, 35.0, 30.0, 32.0, 26.0, 38.0, 27.0, 27.0, 29.0, 34.0, 25.0, 43.0, 27.0, 33.0, 29.0, 42.0, 55.0, 28.0, 42.0, 28.0, 27.0, 25.0, 30.0, 31.0, 32.0, 28.0, 31.0, 35.0, 107.0, 39.0, 38.0, 37.0, 25.0, 35.0, 27.0, 27.0, 35.0, 35.0, 26.0, 30.0, 36.0, 28.0, 27.0, 35.0, 40.0, 38.0, 72.0, 37.0, 40.0, 40.0, 32.0, 49.0, 41.0, 32.0, 34.0, 31.0, 27.0, 29.0, 36.0, 36.0, 33.0, 26.0, 26.0, 44.0, 26.0, 48.0, 34.0, 28.0, 26.0, 31.0, 30.0, 26.0, 30.0, 46.0, 25.0, 26.0, 30.0, 27.0, 38.0, 35.0, 45.0, 38.0, 31.0, 28.0, 40.0, 32.0, 30.0, 27.0, 32.0, 36.0, 25.0, 34.0, 39.0, 30.0, 46.0, 25.0, 26.0, 48.0, 25.0, 34.0, 29.0, 32.0, 30.0, 33.0, 31.0, 29.0, 26.0, 28.0, 30.0, 31.0, 38.0, 32.0, 25.0, 45.0, 30.0, 35.0, 26.0, 30.0, 30.0, 41.0, 30.0, 32.0, 37.0, 28.0, 43.0, 25.0, 33.0, 26.0, 32.0, 30.0, 47.0, 25.0, 25.0, 31.0, 30.0, 36.0, 26.0, 31.0, 40.0, 28.0, 45.0, 33.0, 27.0, 29.0, 34.0, 25.0, 41.0, 31.0, 36.0, 29.0, 66.0, 28.0, 32.0, 29.0, 27.0, 26.0, 33.0, 32.0, 30.0, 33.0, 38.0, 37.0, 48.0, 25.0, 37.0, 26.0, 36.0, 36.0, 40.0, 27.0, 44.0, 27.0, 33.0, 34.0, 28.0, 36.0, 34.0, 29.0, 34.0, 33.0, 43.0, 32.0, 25.0, 50.0, 33.0, 39.0, 25.0, 29.0, 29.0, 26.0, 34.0, 45.0, 33.0, 38.0, 32.0, 25.0, 26.0, 46.0, 83.0, 28.0, 30.0, 29.0, 25.0, 25.0, 32.0, 25.0, 37.0, 25.0, 36.0, 28.0, 42.0, 38.0, 37.0, 29.0, 39.0, 32.0, 51.0, 26.0, 32.0, 52.0, 33.0, 32.0, 25.0, 26.0, 30.0, 28.0, 27.0, 41.0, 29.0, 25.0, 40.0, 46.0, 41.0, 33.0, 54.0, 28.0, 25.0, 25.0, 32.0, 40.0, 39.0, 30.0, 29.0, 44.0, 41.0, 42.0, 31.0, 25.0, 30.0, 28.0, 25.0, 26.0, 32.0, 39.0, 32.0, 43.0, 38.0, 26.0, 41.0, 26.0, 25.0, 64.0, 36.0, 25.0, 31.0, 25.0, 25.0, 28.0, 26.0, 32.0, 34.0, 26.0, 30.0, 42.0, 54.0, 30.0, 28.0, 49.0, 40.0, 35.0, 33.0, 27.0, 31.0, 35.0, 29.0, 59.0, 32.0, 31.0, 35.0, 27.0, 34.0, 25.0, 33.0, 28.0, 27.0, 33.0, 42.0, 26.0, 45.0, 25.0, 30.0, 25.0, 32.0, 38.0, 38.0, 27.0, 41.0, 36.0, 52.0, 46.0, 25.0, 56.0, 34.0, 34.0, 42.0, 28.0, 27.0, 29.0, 38.0, 47.0, 35.0, 28.0, 26.0, 25.0, 33.0, 34.0, 31.0, 26.0, 33.0, 33.0, 34.0, 31.0, 26.0, 25.0, 26.0, 25.0, 56.0, 32.0, 33.0, 25.0, 27.0, 25.0, 35.0, 47.0, 36.0, 29.0, 36.0, 27.0, 27.0, 36.0, 47.0, 35.0, 45.0, 26.0, 46.0, 39.0, 26.0, 27.0, 27.0, 26.0, 45.0, 28.0, 32.0, 69.0, 32.0, 40.0, 68.0, 46.0, 36.0, 46.0, 41.0, 31.0, 58.0, 33.0, 31.0, 60.0, 28.0, 26.0, 25.0, 47.0, 38.0, 31.0, 36.0, 32.0, 30.0, 34.0, 25.0, 29.0, 32.0, 43.0, 26.0, 27.0, 32.0, 37.0, 51.0, 37.0, 64.0, 41.0, 29.0, 27.0, 32.0, 43.0, 30.0, 25.0, 43.0, 34.0, 47.0, 28.0, 39.0, 30.0, 39.0, 37.0, 26.0, 27.0, 41.0, 34.0, 34.0, 27.0, 28.0, 50.0, 42.0, 29.0, 33.0, 36.0, 29.0, 30.0, 31.0, 28.0, 34.0, 43.0, 36.0, 30.0, 31.0, 27.0, 39.0, 25.0, 25.0, 25.0, 45.0, 27.0, 38.0, 38.0, 42.0, 28.0, 26.0, 31.0, 26.0, 44.0, 38.0, 34.0, 25.0, 32.0, 46.0, 38.0, 29.0, 27.0, 25.0, 30.0, 30.0, 46.0, 41.0, 28.0, 26.0, 44.0, 26.0, 41.0, 43.0, 33.0, 27.0, 28.0, 25.0, 31.0, 27.0, 26.0, 32.0, 29.0, 29.0, 32.0, 25.0, 34.0, 50.0, 31.0, 36.0, 58.0, 25.0, 29.0, 39.0, 29.0, 28.0, 39.0, 29.0, 27.0, 32.0, 33.0, 32.0, 36.0, 28.0, 42.0, 26.0, 42.0, 29.0, 38.0, 44.0, 36.0, 26.0, 42.0, 26.0, 51.0, 29.0, 26.0, 30.0, 34.0, 25.0, 55.0, 33.0, 33.0, 25.0, 41.0, 45.0, 39.0, 31.0, 25.0, 34.0, 36.0, 115.0, 45.0, 52.0, 30.0, 36.0, 25.0, 37.0, 35.0, 25.0, 35.0, 27.0, 34.0, 27.0, 26.0, 38.0, 33.0, 34.0, 42.0, 30.0, 32.0, 25.0, 39.0, 28.0, 38.0, 28.0, 41.0, 25.0, 28.0, 37.0, 25.0, 35.0, 46.0, 54.0, 33.0, 50.0, 43.0, 28.0, 32.0, 37.0, 29.0, 52.0, 37.0, 28.0, 28.0, 36.0, 33.0, 45.0, 48.0, 43.0, 35.0, 28.0, 43.0, 36.0, 30.0, 35.0, 31.0, 31.0, 27.0, 44.0, 28.0, 29.0, 26.0, 32.0, 25.0, 26.0, 39.0, 30.0, 31.0, 36.0, 33.0, 40.0, 26.0, 25.0, 28.0, 32.0, 28.0, 30.0, 26.0, 28.0, 29.0, 37.0, 39.0, 27.0, 40.0, 31.0, 28.0, 25.0, 43.0, 34.0, 28.0, 25.0, 38.0, 44.0, 36.0, 25.0, 37.0, 29.0, 30.0, 54.0, 27.0, 35.0, 28.0, 25.0, 27.0, 41.0, 31.0, 26.0, 34.0, 38.0, 27.0, 28.0, 25.0, 27.0, 27.0, 43.0, 63.0, 29.0, 29.0, 27.0, 36.0, 27.0, 34.0, 32.0, 29.0, 27.0, 42.0, 26.0, 42.0, 60.0, 33.0, 29.0, 29.0, 29.0, 28.0, 40.0, 40.0, 49.0, 31.0, 25.0, 41.0, 27.0, 34.0, 25.0, 25.0, 26.0, 57.0, 39.0, 48.0, 35.0, 31.0, 36.0, 27.0, 30.0, 47.0, 36.0, 32.0, 35.0, 29.0, 33.0, 31.0, 25.0, 46.0, 28.0, 40.0, 32.0, 35.0, 38.0, 76.0, 30.0, 50.0, 31.0, 87.0, 26.0, 35.0, 38.0, 25.0, 40.0, 48.0, 44.0, 30.0, 25.0, 28.0, 31.0, 26.0, 25.0, 29.0, 30.0, 34.0, 33.0, 40.0, 25.0, 36.0, 34.0, 30.0, 27.0, 34.0, 33.0, 44.0, 28.0, 47.0, 26.0, 26.0, 46.0, 27.0, 56.0, 32.0, 38.0, 33.0, 28.0, 25.0, 43.0, 27.0, 26.0, 34.0, 30.0, 25.0, 26.0, 27.0, 28.0, 25.0, 25.0, 31.0, 38.0, 32.0, 33.0, 26.0, 28.0, 35.0, 39.0, 26.0, 25.0, 46.0, 25.0, 35.0, 36.0, 40.0, 35.0, 33.0, 27.0, 29.0, 33.0, 42.0, 25.0, 35.0, 39.0, 31.0, 28.0, 29.0, 33.0, 43.0, 29.0, 41.0, 41.0, 38.0, 31.0, 25.0, 25.0, 41.0, 28.0, 28.0, 39.0, 33.0, 41.0, 39.0, 31.0, 26.0, 34.0, 32.0, 38.0, 26.0, 27.0, 31.0, 65.0, 31.0, 25.0, 29.0, 36.0, 29.0, 27.0, 39.0, 33.0, 47.0, 36.0, 25.0, 35.0, 40.0, 25.0, 53.0, 25.0, 30.0, 31.0, 35.0, 34.0, 36.0, 27.0, 26.0, 31.0, 39.0, 28.0, 33.0, 26.0, 29.0, 31.0, 27.0, 26.0, 44.0, 57.0, 48.0, 25.0, 26.0, 43.0, 33.0, 28.0, 25.0, 30.0, 37.0, 35.0, 30.0, 25.0, 31.0, 30.0, 31.0, 39.0, 52.0, 35.0, 40.0, 116.0, 34.0, 30.0, 29.0, 25.0, 27.0, 41.0, 31.0, 32.0, 25.0, 32.0, 39.0, 32.0, 27.0, 41.0, 33.0, 27.0, 32.0, 36.0, 31.0, 28.0, 49.0, 28.0, 26.0, 39.0, 37.0, 37.0, 28.0, 31.0, 40.0, 42.0, 46.0, 40.0, 28.0, 42.0, 28.0, 48.0, 26.0, 26.0, 49.0, 27.0, 34.0, 36.0, 37.0, 44.0, 26.0, 28.0, 31.0, 27.0, 30.0, 32.0, 33.0, 34.0, 26.0, 47.0, 28.0, 27.0, 32.0, 30.0, 33.0, 36.0, 40.0, 52.0, 33.0, 28.0, 33.0, 77.0, 26.0, 26.0, 34.0, 29.0, 41.0, 37.0, 26.0, 30.0, 29.0, 25.0, 41.0, 27.0, 25.0, 44.0, 29.0, 26.0, 27.0, 26.0, 36.0, 27.0, 37.0, 33.0, 47.0, 42.0, 28.0, 27.0, 30.0, 30.0, 43.0, 36.0, 34.0, 26.0, 30.0, 39.0, 27.0, 45.0, 37.0, 43.0, 25.0, 25.0, 40.0, 25.0, 29.0, 40.0, 27.0, 33.0, 25.0, 35.0, 52.0, 26.0, 42.0, 34.0, 37.0, 27.0, 28.0, 34.0, 48.0, 25.0, 42.0, 26.0, 34.0, 43.0, 36.0, 29.0, 31.0, 28.0, 39.0, 25.0, 52.0, 37.0, 29.0, 49.0, 30.0, 27.0, 43.0, 26.0, 29.0, 30.0, 40.0, 95.0, 49.0, 28.0, 30.0, 35.0, 29.0, 28.0, 39.0, 59.0, 25.0, 26.0, 33.0, 35.0, 42.0, 27.0, 30.0, 26.0, 45.0, 33.0, 25.0, 30.0, 35.0, 26.0, 34.0, 35.0, 37.0, 29.0, 35.0, 29.0, 39.0, 76.0, 51.0, 33.0, 43.0, 41.0, 36.0, 36.0, 29.0, 46.0, 36.0, 37.0, 38.0, 41.0, 28.0, 33.0, 31.0, 28.0, 27.0, 40.0, 25.0, 43.0, 27.0, 40.0, 32.0, 25.0, 48.0, 40.0, 27.0, 32.0, 44.0, 30.0, 38.0, 31.0, 39.0, 91.0, 43.0, 25.0, 26.0, 56.0, 31.0, 38.0, 45.0, 28.0, 32.0, 32.0, 31.0, 28.0, 37.0, 27.0, 45.0, 28.0, 26.0, 110.0, 30.0, 30.0, 26.0, 46.0, 25.0, 34.0, 32.0, 26.0, 39.0, 31.0, 45.0, 37.0, 32.0, 28.0, 29.0, 32.0, 30.0, 28.0, 48.0, 38.0, 43.0, 38.0, 35.0, 36.0, 26.0, 42.0, 31.0, 32.0, 41.0, 32.0, 39.0, 27.0, 41.0, 25.0, 25.0, 33.0, 36.0, 32.0, 51.0, 46.0, 32.0, 39.0, 33.0, 25.0, 35.0, 35.0, 49.0, 29.0, 40.0, 30.0, 36.0, 32.0, 41.0, 37.0, 38.0, 44.0, 31.0, 28.0, 31.0, 27.0, 31.0, 33.0, 25.0, 26.0, 43.0, 25.0, 38.0, 29.0, 27.0, 29.0, 30.0, 28.0, 48.0, 30.0, 32.0, 47.0, 28.0, 43.0, 35.0, 25.0, 45.0, 30.0, 26.0, 31.0, 50.0, 35.0, 25.0, 25.0, 43.0, 40.0, 37.0, 31.0, 27.0, 34.0, 31.0, 35.0, 42.0, 26.0, 27.0, 40.0, 28.0, 37.0, 37.0, 38.0, 28.0, 30.0, 37.0, 25.0, 46.0, 34.0, 49.0, 26.0, 25.0, 29.0, 38.0, 40.0, 30.0, 28.0, 31.0, 30.0, 25.0, 25.0, 33.0, 26.0, 30.0, 42.0, 58.0, 32.0, 55.0, 36.0, 26.0, 39.0, 37.0, 41.0, 38.0, 41.0, 39.0, 31.0, 27.0, 25.0, 28.0, 35.0, 25.0, 25.0, 36.0, 57.0, 27.0, 37.0, 36.0, 45.0, 27.0, 28.0, 28.0, 28.0, 25.0, 28.0, 36.0, 52.0, 45.0, 36.0, 32.0, 28.0, 27.0, 25.0, 29.0, 40.0, 41.0, 26.0, 61.0, 35.0, 27.0, 26.0, 30.0, 27.0, 26.0, 35.0, 45.0, 25.0, 29.0, 34.0, 25.0, 27.0, 29.0, 30.0, 47.0, 34.0, 31.0, 26.0, 35.0, 35.0, 29.0, 41.0, 25.0, 38.0, 48.0, 28.0, 28.0, 38.0, 25.0, 35.0, 42.0, 32.0, 33.0, 28.0, 82.0, 34.0, 34.0, 85.0, 31.0, 30.0, 39.0, 49.0, 30.0, 29.0, 42.0, 43.0, 25.0, 27.0, 72.0, 33.0, 35.0, 29.0, 26.0, 30.0, 32.0, 26.0, 33.0, 26.0, 31.0, 34.0, 34.0, 35.0, 35.0, 38.0, 32.0, 27.0, 27.0, 25.0, 27.0, 25.0, 28.0, 42.0, 33.0, 97.0, 34.0, 30.0, 33.0, 35.0, 26.0, 37.0, 30.0, 27.0, 25.0, 29.0, 29.0, 25.0, 28.0, 26.0, 108.0, 25.0, 27.0, 28.0, 37.0, 28.0, 33.0, 25.0, 25.0, 37.0, 29.0, 28.0, 27.0, 29.0, 25.0, 33.0, 52.0, 25.0, 41.0, 39.0, 28.0, 26.0, 25.0, 40.0, 26.0, 31.0, 36.0, 40.0, 27.0, 33.0, 46.0, 32.0, 36.0, 30.0, 32.0, 48.0, 32.0, 45.0, 25.0, 46.0, 36.0, 74.0, 36.0, 61.0, 34.0, 53.0, 66.0, 29.0, 36.0, 30.0, 30.0, 29.0, 32.0, 40.0, 25.0, 35.0, 34.0, 28.0, 75.0, 47.0, 37.0, 27.0, 47.0, 31.0, 50.0, 31.0, 41.0, 26.0, 53.0, 30.0, 25.0, 26.0, 28.0, 41.0, 25.0, 39.0, 50.0, 25.0, 30.0, 25.0, 34.0, 33.0, 25.0, 31.0, 40.0, 31.0, 39.0, 37.0, 25.0, 35.0, 25.0, 28.0, 34.0, 45.0, 25.0, 41.0, 30.0, 25.0, 27.0, 44.0, 26.0, 31.0, 44.0, 25.0, 30.0, 31.0, 30.0, 25.0, 26.0, 45.0, 28.0, 38.0, 27.0, 48.0, 35.0, 25.0, 38.0, 45.0, 35.0, 31.0, 25.0, 45.0, 31.0, 28.0, 46.0, 25.0, 31.0, 39.0, 27.0, 44.0, 44.0, 73.0, 38.0, 39.0, 31.0, 25.0, 35.0, 44.0, 41.0, 36.0, 28.0, 27.0, 48.0, 36.0, 26.0, 35.0, 32.0, 43.0, 30.0, 36.0, 30.0, 32.0, 35.0, 33.0, 34.0, 26.0, 44.0, 29.0, 41.0, 30.0, 25.0, 36.0, 34.0, 40.0, 27.0, 32.0, 27.0, 86.0, 32.0, 30.0, 28.0, 27.0, 28.0, 35.0, 45.0, 28.0, 37.0, 50.0, 31.0, 47.0, 29.0, 25.0, 26.0, 33.0, 40.0, 47.0, 27.0, 26.0, 42.0, 30.0, 30.0, 28.0, 33.0, 30.0, 30.0, 26.0, 29.0, 25.0, 30.0, 41.0, 33.0, 28.0, 27.0, 25.0, 43.0, 52.0, 42.0, 51.0, 25.0, 30.0, 33.0, 30.0, 37.0, 27.0, 42.0, 26.0, 45.0, 26.0, 42.0, 33.0, 28.0, 33.0, 28.0, 42.0, 30.0, 26.0, 34.0, 27.0, 44.0, 36.0, 47.0, 26.0, 29.0, 31.0, 34.0, 37.0, 25.0, 34.0, 34.0, 31.0, 26.0, 30.0, 30.0, 31.0, 43.0, 34.0, 52.0, 28.0, 33.0, 41.0, 25.0, 34.0, 27.0, 29.0, 31.0, 45.0, 26.0, 34.0, 36.0, 34.0, 32.0, 41.0, 37.0, 46.0, 29.0, 45.0, 42.0, 31.0, 49.0, 27.0, 28.0, 30.0, 29.0, 92.0, 30.0, 41.0, 26.0, 53.0, 25.0, 32.0, 32.0, 35.0, 26.0, 40.0, 35.0, 29.0, 32.0, 27.0, 29.0, 32.0, 26.0, 30.0, 29.0, 31.0, 37.0, 68.0, 37.0, 35.0, 31.0, 33.0, 27.0, 40.0, 32.0, 30.0, 28.0, 28.0, 46.0, 40.0, 26.0, 28.0, 30.0, 26.0, 30.0, 35.0, 42.0, 26.0, 101.0, 29.0, 32.0, 28.0, 27.0, 34.0, 29.0, 48.0, 32.0, 27.0, 32.0, 25.0, 34.0, 25.0, 30.0, 28.0, 35.0, 27.0, 111.0, 27.0, 35.0, 30.0, 33.0, 45.0, 35.0, 26.0, 26.0, 32.0, 42.0, 32.0, 36.0, 33.0, 39.0, 28.0, 36.0, 26.0, 53.0, 43.0, 34.0, 34.0, 30.0, 31.0, 25.0, 27.0, 30.0, 35.0, 27.0, 44.0, 61.0, 50.0, 47.0, 25.0, 40.0, 40.0, 27.0, 34.0, 25.0, 52.0, 30.0, 28.0, 45.0, 26.0, 26.0, 48.0, 44.0, 41.0, 33.0, 34.0, 26.0, 31.0, 36.0, 31.0, 33.0, 44.0, 35.0, 29.0, 26.0, 25.0, 42.0, 25.0, 36.0, 38.0, 27.0, 25.0, 43.0, 34.0, 34.0, 41.0, 26.0, 47.0, 34.0, 33.0, 39.0, 28.0, 28.0, 45.0, 37.0, 29.0, 35.0, 37.0, 43.0, 30.0, 38.0, 25.0, 25.0, 33.0, 31.0, 34.0, 36.0, 30.0, 38.0, 35.0, 28.0, 35.0, 32.0, 26.0, 27.0, 39.0, 26.0, 28.0, 31.0, 26.0, 34.0, 35.0, 35.0, 52.0, 39.0, 33.0, 45.0, 29.0, 32.0, 28.0, 34.0, 40.0, 25.0, 28.0, 27.0, 27.0, 72.0, 29.0, 26.0, 37.0, 40.0, 26.0, 43.0, 49.0, 37.0, 38.0, 28.0, 27.0, 32.0, 25.0, 32.0, 38.0, 31.0, 25.0, 39.0, 32.0, 27.0, 34.0, 30.0, 27.0, 65.0, 45.0, 29.0, 34.0, 26.0, 28.0, 41.0, 28.0, 39.0, 37.0, 25.0, 69.0, 39.0, 51.0, 26.0, 43.0, 45.0, 49.0, 30.0, 30.0, 42.0, 67.0, 26.0, 26.0, 28.0, 33.0, 39.0, 35.0, 42.0, 32.0, 25.0, 40.0, 56.0, 28.0, 26.0, 38.0, 34.0, 37.0, 30.0, 41.0, 52.0, 26.0, 32.0, 32.0, 31.0, 30.0, 28.0, 30.0, 46.0, 33.0, 36.0, 29.0, 33.0, 48.0, 31.0, 44.0, 26.0, 30.0, 42.0, 25.0, 36.0, 48.0, 27.0, 26.0, 28.0, 32.0, 35.0, 28.0, 28.0, 26.0, 37.0, 30.0, 33.0, 26.0, 37.0, 29.0, 32.0, 28.0, 27.0, 39.0, 38.0, 34.0, 29.0, 27.0, 27.0, 60.0, 25.0, 47.0, 62.0, 27.0, 37.0, 50.0, 35.0, 25.0, 25.0, 26.0, 27.0, 25.0, 25.0, 29.0, 25.0, 32.0, 54.0, 50.0, 27.0, 29.0, 38.0, 28.0, 46.0, 27.0, 50.0, 41.0, 25.0, 32.0, 35.0, 36.0, 47.0, 30.0, 44.0, 31.0, 70.0, 29.0, 27.0, 29.0, 32.0, 29.0, 35.0, 25.0, 41.0, 32.0, 36.0, 42.0, 38.0, 31.0, 29.0, 50.0, 25.0, 38.0, 28.0, 30.0, 46.0, 31.0, 31.0, 30.0, 66.0, 29.0, 25.0, 49.0, 30.0, 30.0, 27.0, 25.0, 26.0, 36.0, 32.0, 49.0, 39.0, 25.0, 31.0, 31.0, 36.0, 34.0, 53.0, 35.0, 36.0, 27.0, 43.0, 30.0, 38.0, 54.0, 28.0, 63.0, 28.0, 41.0, 47.0, 48.0, 25.0, 44.0, 31.0, 30.0, 45.0, 49.0, 35.0, 41.0, 32.0, 28.0, 29.0, 30.0, 26.0, 40.0, 26.0, 29.0, 44.0, 51.0, 28.0, 26.0, 25.0, 41.0, 51.0, 43.0, 26.0, 45.0, 43.0, 31.0, 32.0, 29.0, 25.0, 26.0, 38.0, 26.0, 34.0, 37.0, 35.0, 26.0, 37.0, 43.0, 25.0, 25.0, 27.0, 37.0, 42.0, 29.0, 53.0, 37.0, 38.0, 44.0, 34.0, 33.0, 31.0, 38.0, 41.0, 38.0, 26.0, 33.0, 43.0, 45.0, 25.0, 34.0, 26.0, 34.0, 34.0, 34.0, 29.0, 27.0, 52.0, 31.0, 31.0, 33.0, 26.0, 36.0, 28.0, 53.0, 26.0, 33.0, 35.0, 25.0, 46.0, 28.0, 41.0, 38.0, 28.0, 41.0, 47.0, 51.0, 50.0, 29.0, 26.0, 40.0, 51.0, 34.0, 42.0, 75.0, 27.0, 25.0, 59.0, 40.0, 35.0, 29.0, 45.0, 36.0, 44.0, 89.0, 40.0, 38.0, 38.0, 41.0, 44.0, 35.0, 28.0, 45.0, 30.0, 31.0, 29.0, 59.0, 54.0, 29.0, 28.0, 29.0, 27.0, 39.0, 40.0, 32.0, 26.0, 50.0, 25.0, 32.0, 33.0, 25.0, 25.0, 29.0, 40.0, 27.0, 26.0, 31.0, 35.0, 34.0, 33.0, 31.0, 28.0, 31.0, 40.0, 42.0, 36.0, 33.0, 33.0, 27.0, 26.0, 32.0, 32.0, 31.0, 31.0, 25.0, 41.0, 35.0, 26.0, 34.0, 29.0, 50.0, 44.0, 27.0, 30.0, 37.0, 31.0, 39.0, 34.0, 43.0, 27.0, 29.0, 26.0, 39.0, 27.0, 25.0, 34.0, 36.0, 25.0, 32.0, 27.0, 40.0, 25.0, 32.0, 29.0, 32.0, 25.0, 35.0, 30.0, 33.0, 42.0, 30.0, 113.0, 29.0, 26.0, 36.0, 25.0, 26.0, 34.0, 48.0, 26.0, 37.0, 47.0, 25.0, 39.0, 39.0, 27.0, 46.0, 29.0, 29.0, 71.0, 25.0, 28.0, 39.0, 62.0, 70.0, 25.0, 26.0, 38.0, 30.0, 27.0, 27.0, 78.0, 30.0, 32.0, 27.0, 44.0, 31.0, 45.0, 47.0, 35.0, 43.0, 30.0, 27.0, 32.0, 31.0, 26.0, 38.0, 32.0, 29.0, 37.0, 34.0, 35.0, 35.0, 33.0, 38.0, 28.0, 26.0, 42.0, 29.0, 48.0, 29.0, 28.0, 65.0, 25.0, 25.0, 43.0, 30.0, 52.0, 39.0, 43.0, 38.0, 42.0, 27.0, 36.0, 25.0, 48.0, 25.0, 29.0, 43.0, 39.0, 46.0, 37.0, 33.0, 25.0, 39.0, 30.0, 27.0, 27.0, 26.0, 62.0, 37.0, 32.0, 35.0, 31.0, 29.0, 34.0, 40.0, 33.0, 26.0, 29.0, 36.0, 32.0, 37.0, 33.0, 27.0, 31.0, 37.0, 38.0, 46.0, 35.0, 29.0, 35.0, 33.0, 27.0, 29.0, 25.0, 30.0, 25.0, 44.0, 39.0, 28.0, 26.0, 28.0, 28.0, 31.0, 42.0, 30.0, 34.0, 29.0, 37.0, 39.0, 25.0, 49.0, 26.0, 25.0, 28.0, 36.0, 27.0, 37.0, 25.0, 26.0, 26.0, 46.0, 33.0, 27.0, 33.0, 73.0, 37.0, 31.0, 35.0, 30.0, 34.0, 25.0, 25.0, 31.0, 26.0, 29.0, 44.0, 40.0, 25.0, 93.0, 36.0, 29.0, 27.0, 37.0, 36.0, 25.0, 25.0, 32.0, 29.0, 29.0, 27.0, 37.0, 37.0, 35.0, 49.0, 26.0, 40.0, 30.0, 62.0, 27.0, 26.0, 39.0, 39.0, 47.0, 26.0, 25.0, 31.0, 40.0, 40.0, 34.0, 31.0, 33.0, 25.0, 25.0, 50.0, 36.0, 25.0, 29.0, 44.0, 51.0, 30.0, 28.0, 33.0, 25.0, 36.0, 103.0, 30.0, 44.0, 46.0, 26.0, 47.0, 42.0, 28.0, 34.0, 28.0, 30.0, 25.0, 30.0, 28.0, 34.0, 26.0, 32.0, 35.0, 36.0, 44.0, 32.0, 33.0, 30.0, 44.0, 36.0, 30.0, 28.0, 33.0, 33.0, 44.0, 32.0, 28.0, 31.0, 36.0, 25.0, 26.0, 44.0, 25.0, 25.0, 29.0, 43.0, 35.0, 30.0, 27.0, 44.0, 38.0, 43.0, 27.0, 28.0, 29.0, 31.0, 37.0, 50.0, 32.0, 31.0, 47.0, 27.0, 39.0, 29.0, 36.0, 40.0, 27.0, 25.0, 37.0, 28.0, 27.0, 46.0, 28.0, 26.0, 28.0, 37.0, 27.0, 33.0, 29.0, 42.0, 30.0, 25.0, 26.0, 109.0, 50.0, 27.0, 32.0, 30.0, 32.0, 29.0, 32.0, 100.0, 37.0, 25.0, 27.0, 26.0, 26.0, 31.0, 48.0, 65.0, 36.0, 34.0, 31.0, 27.0, 25.0, 48.0, 30.0, 27.0, 33.0, 26.0, 27.0, 26.0, 62.0, 28.0, 29.0, 30.0, 38.0, 33.0, 38.0, 27.0, 36.0, 34.0, 47.0, 39.0, 32.0, 26.0, 49.0, 34.0, 28.0, 33.0, 33.0, 32.0, 41.0, 25.0, 27.0, 29.0, 37.0, 44.0, 33.0, 26.0, 39.0, 46.0, 29.0, 27.0, 38.0, 50.0, 25.0, 26.0, 40.0, 25.0, 40.0, 31.0, 30.0, 29.0, 33.0, 44.0, 42.0, 29.0, 25.0, 25.0, 48.0, 31.0, 28.0, 36.0, 32.0, 38.0, 29.0, 31.0, 46.0, 33.0, 45.0, 34.0, 25.0, 32.0, 38.0, 30.0, 33.0, 96.0, 28.0, 43.0, 34.0, 31.0, 25.0, 30.0, 26.0, 57.0, 28.0, 57.0, 33.0, 46.0, 37.0, 29.0, 37.0, 55.0, 26.0, 25.0, 26.0, 25.0, 33.0, 41.0, 26.0, 25.0, 36.0, 37.0, 27.0, 34.0, 28.0, 26.0, 29.0, 25.0, 27.0, 43.0, 27.0, 37.0, 99.0, 25.0, 28.0, 38.0, 33.0, 30.0, 28.0, 28.0, 46.0, 26.0, 42.0, 27.0, 28.0, 29.0, 25.0, 26.0, 36.0, 35.0, 29.0, 28.0, 30.0, 44.0, 28.0, 27.0, 28.0, 27.0, 48.0, 29.0, 37.0, 53.0, 59.0, 31.0, 38.0, 46.0, 31.0, 30.0, 27.0, 27.0, 45.0, 26.0, 26.0, 43.0, 32.0, 31.0, 31.0, 32.0, 30.0, 29.0, 45.0, 42.0, 58.0, 32.0, 28.0, 37.0, 32.0, 40.0, 43.0, 32.0, 27.0, 32.0, 32.0, 34.0, 35.0, 26.0, 30.0, 28.0, 32.0, 28.0, 33.0, 53.0, 40.0, 26.0, 34.0, 31.0, 39.0, 40.0, 32.0, 31.0, 27.0, 41.0, 36.0, 42.0, 36.0, 31.0, 31.0, 28.0, 27.0, 26.0, 28.0, 25.0, 39.0, 44.0, 29.0, 34.0, 39.0, 31.0, 26.0, 43.0, 33.0, 33.0, 25.0, 39.0, 60.0, 38.0, 32.0, 33.0, 25.0, 33.0, 27.0, 44.0, 38.0, 35.0, 28.0, 74.0, 84.0, 25.0, 46.0, 26.0, 56.0, 27.0, 40.0, 30.0, 31.0, 27.0, 28.0, 29.0, 29.0, 31.0, 31.0, 51.0, 33.0, 25.0, 33.0, 48.0, 25.0, 28.0, 40.0, 26.0, 26.0, 37.0, 27.0, 42.0, 31.0, 37.0, 29.0, 38.0, 34.0, 25.0, 36.0, 39.0, 35.0, 26.0, 26.0, 39.0, 44.0, 27.0, 106.0, 46.0, 28.0, 45.0, 28.0, 25.0, 27.0, 25.0, 29.0, 33.0, 32.0, 39.0, 35.0, 28.0, 36.0, 26.0, 25.0, 34.0, 44.0, 38.0, 30.0, 32.0, 41.0, 25.0, 55.0, 63.0, 43.0, 41.0, 98.0, 32.0, 39.0, 53.0, 29.0, 46.0, 32.0, 38.0, 26.0, 26.0, 51.0, 31.0, 27.0, 31.0, 35.0, 29.0, 40.0, 32.0, 25.0, 30.0, 31.0, 28.0, 50.0, 30.0, 28.0, 29.0, 33.0, 66.0, 30.0, 44.0, 32.0, 25.0, 26.0, 41.0, 35.0, 26.0, 45.0, 50.0, 32.0, 31.0, 88.0, 33.0, 38.0, 43.0, 30.0, 25.0, 27.0, 28.0, 31.0, 42.0, 46.0, 36.0, 31.0, 43.0, 26.0, 30.0, 29.0, 29.0, 41.0, 27.0, 27.0, 33.0, 34.0, 46.0, 27.0, 26.0, 44.0, 37.0, 28.0, 28.0, 31.0, 25.0, 43.0, 27.0, 27.0, 34.0, 28.0, 48.0, 38.0, 25.0, 26.0, 29.0, 27.0, 55.0, 29.0, 59.0, 28.0, 25.0, 43.0, 25.0, 49.0, 35.0, 33.0, 67.0, 43.0, 45.0, 25.0, 37.0, 49.0, 29.0, 28.0, 27.0, 46.0, 28.0, 28.0, 39.0, 27.0, 27.0, 27.0, 42.0, 25.0, 31.0, 36.0, 32.0, 30.0, 30.0, 29.0, 29.0, 40.0, 36.0, 31.0, 37.0, 32.0, 44.0, 36.0, 31.0, 33.0, 31.0, 31.0, 36.0, 26.0, 27.0, 31.0, 27.0, 30.0, 26.0, 26.0, 42.0, 28.0, 29.0, 30.0, 32.0, 27.0, 37.0, 54.0, 35.0, 25.0, 27.0, 37.0, 31.0, 29.0, 25.0, 26.0, 41.0, 40.0, 55.0, 30.0, 33.0, 35.0, 47.0, 46.0, 25.0, 41.0, 31.0, 30.0, 39.0, 39.0, 33.0, 27.0, 27.0, 26.0, 30.0, 29.0, 29.0, 25.0, 42.0, 29.0, 34.0, 41.0, 35.0, 29.0, 25.0, 25.0, 30.0, 26.0, 54.0, 26.0, 54.0, 31.0, 26.0, 58.0, 31.0, 46.0, 26.0, 26.0, 47.0, 26.0, 77.0, 56.0, 26.0, 29.0, 29.0, 47.0, 33.0, 34.0, 35.0, 25.0, 42.0, 55.0, 36.0, 25.0, 57.0, 37.0, 31.0, 32.0, 57.0, 43.0, 33.0, 28.0, 47.0, 30.0, 27.0, 35.0, 27.0, 25.0, 27.0, 29.0, 26.0, 27.0, 28.0, 26.0, 32.0, 81.0, 28.0, 51.0, 26.0, 30.0, 26.0, 28.0, 45.0, 30.0, 26.0, 26.0, 28.0, 41.0, 26.0, 46.0, 38.0, 38.0, 25.0, 37.0, 35.0, 38.0, 28.0, 39.0, 29.0, 30.0, 34.0, 38.0, 48.0, 27.0, 25.0, 33.0, 43.0, 37.0, 28.0, 32.0, 40.0, 31.0, 34.0, 35.0, 31.0, 26.0, 36.0, 30.0, 35.0, 29.0, 27.0, 31.0, 56.0, 37.0, 33.0, 90.0, 32.0, 34.0, 33.0, 27.0, 44.0, 28.0, 29.0, 27.0, 44.0, 28.0, 26.0, 36.0, 27.0, 27.0, 37.0, 32.0, 25.0, 26.0, 30.0, 38.0, 36.0, 43.0, 28.0, 35.0, 48.0, 27.0, 51.0, 44.0, 56.0, 71.0, 35.0, 28.0, 30.0, 43.0, 32.0, 31.0, 55.0, 29.0, 28.0, 29.0, 25.0, 31.0, 29.0, 27.0, 31.0, 48.0, 29.0, 37.0, 51.0, 33.0, 32.0, 29.0, 55.0, 50.0, 31.0, 25.0, 46.0, 26.0, 43.0, 43.0, 56.0, 49.0, 41.0, 36.0, 28.0, 25.0, 28.0, 36.0, 31.0, 36.0, 52.0, 40.0, 38.0, 31.0, 39.0, 29.0, 30.0, 33.0, 28.0, 29.0, 42.0, 28.0, 26.0, 35.0, 27.0, 25.0, 29.0, 34.0, 30.0, 36.0, 50.0, 29.0, 29.0, 39.0, 38.0, 38.0, 114.0, 29.0, 35.0, 30.0, 35.0, 33.0, 25.0, 26.0, 33.0, 33.0, 30.0, 29.0, 26.0, 49.0, 27.0, 31.0, 25.0, 28.0, 26.0, 30.0, 40.0, 47.0, 36.0, 32.0, 33.0, 58.0, 26.0, 29.0, 31.0, 27.0, 28.0, 29.0, 33.0, 28.0, 51.0, 43.0, 27.0, 29.0, 26.0, 25.0, 31.0, 40.0, 40.0, 27.0, 26.0, 25.0, 25.0, 31.0, 26.0, 27.0, 37.0, 26.0, 45.0, 36.0, 80.0, 41.0, 41.0, 26.0, 36.0, 34.0, 26.0, 35.0, 27.0, 37.0, 47.0, 35.0, 39.0, 35.0, 29.0, 32.0, 25.0, 26.0, 27.0, 30.0, 36.0, 29.0, 25.0, 29.0, 25.0, 32.0, 37.0, 48.0, 28.0, 33.0, 27.0, 30.0, 31.0, 29.0, 35.0, 38.0, 34.0, 28.0, 27.0, 35.0, 26.0, 32.0, 25.0, 37.0, 26.0, 26.0, 25.0, 26.0, 26.0, 34.0, 28.0, 26.0, 25.0, 31.0, 31.0, 27.0, 26.0, 30.0, 26.0, 29.0, 37.0, 40.0, 25.0, 40.0, 31.0, 39.0, 39.0, 32.0, 33.0, 37.0, 27.0, 26.0, 53.0, 26.0, 41.0, 34.0, 31.0, 46.0, 36.0, 37.0, 30.0, 25.0, 43.0, 27.0, 29.0, 25.0, 29.0, 25.0, 47.0, 26.0, 26.0, 32.0, 45.0, 26.0, 25.0, 48.0, 28.0, 67.0, 28.0, 28.0, 38.0, 39.0, 31.0, 38.0, 25.0, 28.0, 35.0, 31.0, 37.0, 28.0, 41.0, 41.0, 64.0, 37.0, 28.0, 25.0, 37.0, 36.0, 53.0, 31.0, 36.0, 46.0, 25.0, 36.0, 31.0, 28.0, 28.0, 27.0, 32.0, 29.0, 32.0, 32.0, 34.0, 33.0, 29.0, 33.0, 34.0, 29.0, 28.0, 29.0, 28.0, 33.0, 44.0, 38.0, 48.0, 26.0, 29.0, 37.0, 38.0, 31.0, 43.0, 26.0, 28.0, 33.0, 68.0, 27.0, 30.0, 34.0, 27.0, 25.0, 31.0, 28.0, 35.0, 28.0, 58.0, 31.0, 33.0, 32.0, 34.0, 31.0, 26.0, 38.0, 28.0, 47.0, 40.0, 33.0, 27.0, 26.0, 34.0, 31.0, 47.0, 30.0, 27.0, 30.0, 26.0, 34.0, 34.0, 25.0, 27.0, 36.0, 31.0, 25.0, 35.0, 29.0, 35.0, 25.0, 38.0, 28.0, 32.0, 30.0, 26.0, 26.0, 32.0, 31.0, 25.0, 38.0, 25.0, 35.0, 28.0, 32.0, 39.0, 30.0, 32.0, 41.0, 55.0, 34.0, 30.0, 26.0, 35.0, 27.0, 50.0, 45.0, 34.0, 32.0, 35.0, 27.0, 31.0, 49.0, 26.0, 31.0, 43.0, 34.0, 31.0, 53.0, 46.0, 27.0, 32.0, 37.0, 38.0, 45.0, 44.0, 33.0, 30.0, 45.0, 26.0, 28.0, 36.0, 60.0, 30.0, 60.0, 27.0, 35.0, 32.0, 48.0, 28.0, 26.0, 38.0, 49.0, 25.0, 41.0, 51.0, 26.0, 27.0, 30.0, 28.0, 25.0, 42.0, 26.0, 25.0, 37.0, 27.0, 26.0, 29.0, 33.0, 25.0, 42.0, 39.0, 41.0, 43.0, 36.0, 33.0, 33.0, 36.0, 28.0, 30.0, 27.0, 34.0, 29.0, 33.0, 46.0, 44.0, 39.0, 50.0, 25.0, 25.0, 29.0, 40.0, 27.0, 29.0, 43.0, 29.0, 38.0, 31.0, 34.0, 27.0, 27.0, 28.0, 29.0, 45.0, 48.0, 26.0, 28.0, 40.0, 27.0, 29.0, 27.0, 35.0, 28.0, 32.0, 39.0, 39.0, 29.0, 30.0, 30.0, 27.0, 39.0, 28.0, 30.0, 29.0, 54.0, 25.0, 44.0, 25.0, 28.0, 26.0, 29.0, 29.0, 33.0, 33.0, 47.0, 34.0, 31.0, 25.0, 35.0, 51.0, 46.0, 39.0, 28.0, 27.0, 33.0, 37.0, 29.0, 27.0, 47.0, 25.0, 28.0, 32.0, 30.0, 38.0, 35.0, 30.0, 25.0, 35.0, 27.0, 28.0, 27.0, 35.0, 27.0, 29.0, 32.0, 30.0, 39.0, 31.0, 25.0, 51.0, 32.0, 33.0, 40.0, 26.0, 36.0, 36.0, 47.0, 34.0, 42.0, 31.0, 44.0, 33.0, 64.0, 30.0, 26.0, 27.0, 45.0, 31.0, 42.0, 25.0, 31.0, 49.0, 41.0, 27.0, 34.0, 29.0, 28.0, 28.0, 37.0, 26.0, 52.0, 32.0, 33.0, 26.0, 28.0, 29.0, 33.0, 47.0, 31.0, 57.0, 27.0, 27.0, 43.0, 102.0, 28.0, 33.0, 27.0, 30.0, 49.0, 38.0, 33.0, 36.0, 39.0, 39.0, 26.0, 33.0, 26.0, 26.0, 35.0, 39.0, 35.0, 38.0, 31.0, 94.0, 25.0, 61.0, 30.0, 54.0, 30.0, 33.0, 70.0, 104.0, 50.0, 36.0, 30.0, 31.0, 36.0, 36.0, 30.0, 34.0, 40.0, 33.0, 30.0, 30.0, 42.0, 49.0, 40.0, 30.0, 37.0, 38.0, 30.0, 39.0, 37.0, 26.0, 29.0, 39.0, 26.0, 29.0, 32.0, 27.0, 30.0, 29.0, 32.0, 26.0, 36.0, 39.0, 44.0, 36.0, 26.0, 45.0, 34.0, 26.0, 27.0, 37.0, 25.0, 25.0, 28.0, 49.0, 47.0, 36.0, 25.0, 26.0, 32.0, 34.0, 29.0, 46.0, 39.0, 28.0, 44.0, 33.0, 33.0, 25.0, 32.0, 37.0, 26.0, 34.0, 33.0, 28.0, 26.0, 58.0, 31.0, 42.0, 25.0, 31.0, 26.0, 34.0, 71.0, 29.0, 27.0, 35.0, 28.0, 29.0, 46.0, 40.0, 35.0, 30.0, 46.0, 36.0, 27.0, 37.0, 28.0, 45.0, 25.0, 31.0, 42.0, 33.0, 33.0, 45.0, 29.0, 28.0, 31.0, 30.0, 45.0, 29.0, 26.0, 42.0, 38.0, 29.0, 25.0, 34.0, 49.0, 26.0, 34.0, 40.0, 41.0, 31.0, 30.0, 79.0, 42.0, 30.0, 31.0, 27.0, 29.0, 29.0, 28.0, 30.0, 25.0, 43.0, 35.0, 42.0, 28.0, 27.0, 31.0, 30.0, 29.0, 25.0, 29.0, 30.0, 29.0, 34.0, 25.0, 44.0, 33.0, 39.0, 63.0, 29.0, 59.0, 32.0, 26.0, 32.0, 29.0, 37.0, 27.0, 34.0, 36.0, 29.0, 29.0, 112.0, 42.0, 25.0, 28.0, 39.0, 34.0, 38.0, 26.0, 42.0, 35.0, 39.0, 33.0, 31.0, 32.0, 27.0, 27.0, 36.0, 30.0, 26.0, 26.0, 28.0, 27.0, 33.0, 30.0, 32.0, 42.0, 45.0, 34.0, 47.0, 29.0, 33.0, 47.0, 29.0, 26.0, 25.0, 45.0, 29.0, 33.0, 36.0, 28.0, 36.0, 29.0, 41.0, 25.0, 46.0, 27.0, 30.0, 27.0, 37.0, 25.0, 31.0, 29.0, 32.0, 27.0, 35.0, 37.0, 44.0, 26.0, 40.0, 34.0, 51.0, 34.0, 30.0, 32.0, 25.0, 33.0, 39.0, 26.0, 39.0, 29.0, 37.0, 25.0, 34.0, 27.0, 30.0, 36.0, 28.0, 58.0, 26.0, 28.0, 37.0, 40.0, 39.0, 27.0, 37.0, 42.0, 37.0, 42.0, 25.0, 38.0, 27.0, 34.0, 32.0, 38.0, 54.0, 25.0, 40.0, 36.0, 44.0, 38.0, 40.0, 34.0, 27.0, 61.0, 68.0, 25.0, 36.0, 41.0, 27.0, 30.0, 50.0, 26.0, 45.0, 32.0, 34.0, 35.0, 32.0, 27.0, 40.0]\n",
      "end_idx\n",
      "[57.0, 54.0, 53.0, 53.0, 52.0, 62.0, 55.0, 50.0, 56.0, 52.0, 53.0, 77.0, 58.0, 58.0, 51.0, 69.0, 51.0, 54.0, 59.0, 72.0, 62.0, 52.0, 52.0, 51.0, 53.0, 50.0, 60.0, 52.0, 55.0, 70.0, 88.0, 58.0, 60.0, 56.0, 52.0, 64.0, 51.0, 58.0, 64.0, 67.0, 58.0, 58.0, 54.0, 57.0, 52.0, 54.0, 52.0, 51.0, 60.0, 56.0, 64.0, 52.0, 67.0, 51.0, 72.0, 77.0, 73.0, 54.0, 52.0, 54.0, 60.0, 51.0, 66.0, 59.0, 74.0, 53.0, 50.0, 66.0, 54.0, 53.0, 54.0, 57.0, 56.0, 57.0, 62.0, 74.0, 68.0, 71.0, 52.0, 130.0, 52.0, 53.0, 55.0, 56.0, 53.0, 52.0, 60.0, 53.0, 51.0, 56.0, 54.0, 55.0, 52.0, 54.0, 57.0, 53.0, 86.0, 74.0, 50.0, 53.0, 56.0, 56.0, 54.0, 56.0, 50.0, 67.0, 51.0, 54.0, 51.0, 52.0, 53.0, 59.0, 69.0, 52.0, 56.0, 50.0, 66.0, 54.0, 54.0, 55.0, 54.0, 63.0, 59.0, 53.0, 55.0, 54.0, 51.0, 57.0, 69.0, 59.0, 55.0, 55.0, 53.0, 65.0, 71.0, 72.0, 62.0, 51.0, 56.0, 60.0, 59.0, 74.0, 63.0, 65.0, 60.0, 54.0, 54.0, 59.0, 62.0, 52.0, 64.0, 57.0, 94.0, 66.0, 65.0, 56.0, 75.0, 75.0, 58.0, 57.0, 67.0, 54.0, 61.0, 62.0, 57.0, 56.0, 51.0, 50.0, 50.0, 54.0, 52.0, 53.0, 51.0, 52.0, 53.0, 72.0, 70.0, 60.0, 72.0, 53.0, 55.0, 58.0, 57.0, 54.0, 50.0, 57.0, 51.0, 51.0, 77.0, 52.0, 66.0, 59.0, 53.0, 53.0, 51.0, 63.0, 56.0, 51.0, 63.0, 65.0, 60.0, 66.0, 54.0, 51.0, 57.0, 56.0, 55.0, 55.0, 60.0, 50.0, 63.0, 54.0, 56.0, 51.0, 60.0, 57.0, 51.0, 58.0, 52.0, 65.0, 66.0, 80.0, 55.0, 87.0, 74.0, 55.0, 65.0, 55.0, 58.0, 53.0, 70.0, 58.0, 65.0, 56.0, 68.0, 62.0, 55.0, 65.0, 61.0, 66.0, 55.0, 57.0, 57.0, 70.0, 51.0, 64.0, 71.0, 66.0, 84.0, 52.0, 54.0, 52.0, 50.0, 50.0, 70.0, 60.0, 55.0, 53.0, 50.0, 85.0, 54.0, 62.0, 51.0, 54.0, 71.0, 56.0, 56.0, 50.0, 69.0, 57.0, 52.0, 52.0, 52.0, 50.0, 76.0, 50.0, 56.0, 57.0, 53.0, 52.0, 53.0, 51.0, 59.0, 59.0, 66.0, 61.0, 51.0, 58.0, 61.0, 53.0, 57.0, 58.0, 53.0, 59.0, 50.0, 50.0, 52.0, 92.0, 52.0, 71.0, 50.0, 65.0, 55.0, 53.0, 56.0, 62.0, 51.0, 51.0, 73.0, 54.0, 70.0, 54.0, 74.0, 62.0, 53.0, 51.0, 52.0, 50.0, 50.0, 62.0, 54.0, 57.0, 62.0, 54.0, 52.0, 52.0, 63.0, 50.0, 63.0, 63.0, 57.0, 53.0, 59.0, 58.0, 56.0, 62.0, 59.0, 82.0, 51.0, 67.0, 50.0, 69.0, 52.0, 51.0, 50.0, 51.0, 69.0, 54.0, 57.0, 54.0, 54.0, 68.0, 59.0, 50.0, 74.0, 69.0, 55.0, 53.0, 56.0, 68.0, 65.0, 50.0, 51.0, 51.0, 59.0, 56.0, 59.0, 60.0, 55.0, 57.0, 51.0, 63.0, 52.0, 52.0, 54.0, 59.0, 50.0, 68.0, 52.0, 58.0, 54.0, 67.0, 80.0, 53.0, 67.0, 53.0, 52.0, 50.0, 55.0, 56.0, 57.0, 53.0, 56.0, 60.0, 132.0, 64.0, 63.0, 62.0, 50.0, 60.0, 52.0, 52.0, 60.0, 60.0, 51.0, 55.0, 61.0, 53.0, 52.0, 60.0, 65.0, 63.0, 97.0, 62.0, 65.0, 65.0, 57.0, 74.0, 66.0, 57.0, 59.0, 56.0, 52.0, 54.0, 61.0, 61.0, 58.0, 51.0, 51.0, 69.0, 51.0, 73.0, 59.0, 53.0, 51.0, 56.0, 55.0, 51.0, 55.0, 71.0, 50.0, 51.0, 55.0, 52.0, 63.0, 60.0, 70.0, 63.0, 56.0, 53.0, 65.0, 57.0, 55.0, 52.0, 57.0, 61.0, 50.0, 59.0, 64.0, 55.0, 71.0, 50.0, 51.0, 73.0, 50.0, 59.0, 54.0, 57.0, 55.0, 58.0, 56.0, 54.0, 51.0, 53.0, 55.0, 56.0, 63.0, 57.0, 50.0, 70.0, 55.0, 60.0, 51.0, 55.0, 55.0, 66.0, 55.0, 57.0, 62.0, 53.0, 68.0, 50.0, 58.0, 51.0, 57.0, 55.0, 72.0, 50.0, 50.0, 56.0, 55.0, 61.0, 51.0, 56.0, 65.0, 53.0, 70.0, 58.0, 52.0, 54.0, 59.0, 50.0, 66.0, 56.0, 61.0, 54.0, 91.0, 53.0, 57.0, 54.0, 52.0, 51.0, 58.0, 57.0, 55.0, 58.0, 63.0, 62.0, 73.0, 50.0, 62.0, 51.0, 61.0, 61.0, 65.0, 52.0, 69.0, 52.0, 58.0, 59.0, 53.0, 61.0, 59.0, 54.0, 59.0, 58.0, 68.0, 57.0, 50.0, 75.0, 58.0, 64.0, 50.0, 54.0, 54.0, 51.0, 59.0, 70.0, 58.0, 63.0, 57.0, 50.0, 51.0, 71.0, 108.0, 53.0, 55.0, 54.0, 50.0, 50.0, 57.0, 50.0, 62.0, 50.0, 61.0, 53.0, 67.0, 63.0, 62.0, 54.0, 64.0, 57.0, 76.0, 51.0, 57.0, 77.0, 58.0, 57.0, 50.0, 51.0, 55.0, 53.0, 52.0, 66.0, 54.0, 50.0, 65.0, 71.0, 66.0, 58.0, 79.0, 53.0, 50.0, 50.0, 57.0, 65.0, 64.0, 55.0, 54.0, 69.0, 66.0, 67.0, 56.0, 50.0, 55.0, 53.0, 50.0, 51.0, 57.0, 64.0, 57.0, 68.0, 63.0, 51.0, 66.0, 51.0, 50.0, 89.0, 61.0, 50.0, 56.0, 50.0, 50.0, 53.0, 51.0, 57.0, 59.0, 51.0, 55.0, 67.0, 79.0, 55.0, 53.0, 74.0, 65.0, 60.0, 58.0, 52.0, 56.0, 60.0, 54.0, 84.0, 57.0, 56.0, 60.0, 52.0, 59.0, 50.0, 58.0, 53.0, 52.0, 58.0, 67.0, 51.0, 70.0, 50.0, 55.0, 50.0, 57.0, 63.0, 63.0, 52.0, 66.0, 61.0, 77.0, 71.0, 50.0, 81.0, 59.0, 59.0, 67.0, 53.0, 52.0, 54.0, 63.0, 72.0, 60.0, 53.0, 51.0, 50.0, 58.0, 59.0, 56.0, 51.0, 58.0, 58.0, 59.0, 56.0, 51.0, 50.0, 51.0, 50.0, 81.0, 57.0, 58.0, 50.0, 52.0, 50.0, 60.0, 72.0, 61.0, 54.0, 61.0, 52.0, 52.0, 61.0, 72.0, 60.0, 70.0, 51.0, 71.0, 64.0, 51.0, 52.0, 52.0, 51.0, 70.0, 53.0, 57.0, 94.0, 57.0, 65.0, 93.0, 71.0, 61.0, 71.0, 66.0, 56.0, 83.0, 58.0, 56.0, 85.0, 53.0, 51.0, 50.0, 72.0, 63.0, 56.0, 61.0, 57.0, 55.0, 59.0, 50.0, 54.0, 57.0, 68.0, 51.0, 52.0, 57.0, 62.0, 76.0, 62.0, 89.0, 66.0, 54.0, 52.0, 57.0, 68.0, 55.0, 50.0, 68.0, 59.0, 72.0, 53.0, 64.0, 55.0, 64.0, 62.0, 51.0, 52.0, 66.0, 59.0, 59.0, 52.0, 53.0, 75.0, 67.0, 54.0, 58.0, 61.0, 54.0, 55.0, 56.0, 53.0, 59.0, 68.0, 61.0, 55.0, 56.0, 52.0, 64.0, 50.0, 50.0, 50.0, 70.0, 52.0, 63.0, 63.0, 67.0, 53.0, 51.0, 56.0, 51.0, 69.0, 63.0, 59.0, 50.0, 57.0, 71.0, 63.0, 54.0, 52.0, 50.0, 55.0, 55.0, 71.0, 66.0, 53.0, 51.0, 69.0, 51.0, 66.0, 68.0, 58.0, 52.0, 53.0, 50.0, 56.0, 52.0, 51.0, 57.0, 54.0, 54.0, 57.0, 50.0, 59.0, 75.0, 56.0, 61.0, 83.0, 50.0, 54.0, 64.0, 54.0, 53.0, 64.0, 54.0, 52.0, 57.0, 58.0, 57.0, 61.0, 53.0, 67.0, 51.0, 67.0, 54.0, 63.0, 69.0, 61.0, 51.0, 67.0, 51.0, 76.0, 54.0, 51.0, 55.0, 59.0, 50.0, 80.0, 58.0, 58.0, 50.0, 66.0, 70.0, 64.0, 56.0, 50.0, 59.0, 61.0, 140.0, 70.0, 77.0, 55.0, 61.0, 50.0, 62.0, 60.0, 50.0, 60.0, 52.0, 59.0, 52.0, 51.0, 63.0, 58.0, 59.0, 67.0, 55.0, 57.0, 50.0, 64.0, 53.0, 63.0, 53.0, 66.0, 50.0, 53.0, 62.0, 50.0, 60.0, 71.0, 79.0, 58.0, 75.0, 68.0, 53.0, 57.0, 62.0, 54.0, 77.0, 62.0, 53.0, 53.0, 61.0, 58.0, 70.0, 73.0, 68.0, 60.0, 53.0, 68.0, 61.0, 55.0, 60.0, 56.0, 56.0, 52.0, 69.0, 53.0, 54.0, 51.0, 57.0, 50.0, 51.0, 64.0, 55.0, 56.0, 61.0, 58.0, 65.0, 51.0, 50.0, 53.0, 57.0, 53.0, 55.0, 51.0, 53.0, 54.0, 62.0, 64.0, 52.0, 65.0, 56.0, 53.0, 50.0, 68.0, 59.0, 53.0, 50.0, 63.0, 69.0, 61.0, 50.0, 62.0, 54.0, 55.0, 79.0, 52.0, 60.0, 53.0, 50.0, 52.0, 66.0, 56.0, 51.0, 59.0, 63.0, 52.0, 53.0, 50.0, 52.0, 52.0, 68.0, 88.0, 54.0, 54.0, 52.0, 61.0, 52.0, 59.0, 57.0, 54.0, 52.0, 67.0, 51.0, 67.0, 85.0, 58.0, 54.0, 54.0, 54.0, 53.0, 65.0, 65.0, 74.0, 56.0, 50.0, 66.0, 52.0, 59.0, 50.0, 50.0, 51.0, 82.0, 64.0, 73.0, 60.0, 56.0, 61.0, 52.0, 55.0, 72.0, 61.0, 57.0, 60.0, 54.0, 58.0, 56.0, 50.0, 71.0, 53.0, 65.0, 57.0, 60.0, 63.0, 101.0, 55.0, 75.0, 56.0, 112.0, 51.0, 60.0, 63.0, 50.0, 65.0, 73.0, 69.0, 55.0, 50.0, 53.0, 56.0, 51.0, 50.0, 54.0, 55.0, 59.0, 58.0, 65.0, 50.0, 61.0, 59.0, 55.0, 52.0, 59.0, 58.0, 69.0, 53.0, 72.0, 51.0, 51.0, 71.0, 52.0, 81.0, 57.0, 63.0, 58.0, 53.0, 50.0, 68.0, 52.0, 51.0, 59.0, 55.0, 50.0, 51.0, 52.0, 53.0, 50.0, 50.0, 56.0, 63.0, 57.0, 58.0, 51.0, 53.0, 60.0, 64.0, 51.0, 50.0, 71.0, 50.0, 60.0, 61.0, 65.0, 60.0, 58.0, 52.0, 54.0, 58.0, 67.0, 50.0, 60.0, 64.0, 56.0, 53.0, 54.0, 58.0, 68.0, 54.0, 66.0, 66.0, 63.0, 56.0, 50.0, 50.0, 66.0, 53.0, 53.0, 64.0, 58.0, 66.0, 64.0, 56.0, 51.0, 59.0, 57.0, 63.0, 51.0, 52.0, 56.0, 90.0, 56.0, 50.0, 54.0, 61.0, 54.0, 52.0, 64.0, 58.0, 72.0, 61.0, 50.0, 60.0, 65.0, 50.0, 78.0, 50.0, 55.0, 56.0, 60.0, 59.0, 61.0, 52.0, 51.0, 56.0, 64.0, 53.0, 58.0, 51.0, 54.0, 56.0, 52.0, 51.0, 69.0, 82.0, 73.0, 50.0, 51.0, 68.0, 58.0, 53.0, 50.0, 55.0, 62.0, 60.0, 55.0, 50.0, 56.0, 55.0, 56.0, 64.0, 77.0, 60.0, 65.0, 141.0, 59.0, 55.0, 54.0, 50.0, 52.0, 66.0, 56.0, 57.0, 50.0, 57.0, 64.0, 57.0, 52.0, 66.0, 58.0, 52.0, 57.0, 61.0, 56.0, 53.0, 74.0, 53.0, 51.0, 64.0, 62.0, 62.0, 53.0, 56.0, 65.0, 67.0, 71.0, 65.0, 53.0, 67.0, 53.0, 73.0, 51.0, 51.0, 74.0, 52.0, 59.0, 61.0, 62.0, 69.0, 51.0, 53.0, 56.0, 52.0, 55.0, 57.0, 58.0, 59.0, 51.0, 72.0, 53.0, 52.0, 57.0, 55.0, 58.0, 61.0, 65.0, 77.0, 58.0, 53.0, 58.0, 102.0, 51.0, 51.0, 59.0, 54.0, 66.0, 62.0, 51.0, 55.0, 54.0, 50.0, 66.0, 52.0, 50.0, 69.0, 54.0, 51.0, 52.0, 51.0, 61.0, 52.0, 62.0, 58.0, 72.0, 67.0, 53.0, 52.0, 55.0, 55.0, 68.0, 61.0, 59.0, 51.0, 55.0, 64.0, 52.0, 70.0, 62.0, 68.0, 50.0, 50.0, 65.0, 50.0, 54.0, 65.0, 52.0, 58.0, 50.0, 60.0, 77.0, 51.0, 67.0, 59.0, 62.0, 52.0, 53.0, 59.0, 73.0, 50.0, 67.0, 51.0, 59.0, 68.0, 61.0, 54.0, 56.0, 53.0, 64.0, 50.0, 77.0, 62.0, 54.0, 74.0, 55.0, 52.0, 68.0, 51.0, 54.0, 55.0, 65.0, 120.0, 74.0, 53.0, 55.0, 60.0, 54.0, 53.0, 64.0, 84.0, 50.0, 51.0, 58.0, 60.0, 67.0, 52.0, 55.0, 51.0, 70.0, 58.0, 50.0, 55.0, 60.0, 51.0, 59.0, 60.0, 62.0, 54.0, 60.0, 54.0, 64.0, 101.0, 76.0, 58.0, 68.0, 66.0, 61.0, 61.0, 54.0, 71.0, 61.0, 62.0, 63.0, 66.0, 53.0, 58.0, 56.0, 53.0, 52.0, 65.0, 50.0, 68.0, 52.0, 65.0, 57.0, 50.0, 73.0, 65.0, 52.0, 57.0, 69.0, 55.0, 63.0, 56.0, 64.0, 116.0, 68.0, 50.0, 51.0, 81.0, 56.0, 63.0, 70.0, 53.0, 57.0, 57.0, 56.0, 53.0, 62.0, 52.0, 70.0, 53.0, 51.0, 135.0, 55.0, 55.0, 51.0, 71.0, 50.0, 59.0, 57.0, 51.0, 64.0, 56.0, 70.0, 62.0, 57.0, 53.0, 54.0, 57.0, 55.0, 53.0, 73.0, 63.0, 68.0, 63.0, 60.0, 61.0, 51.0, 67.0, 56.0, 57.0, 66.0, 57.0, 64.0, 52.0, 66.0, 50.0, 50.0, 58.0, 61.0, 57.0, 76.0, 71.0, 57.0, 64.0, 58.0, 50.0, 60.0, 60.0, 74.0, 54.0, 65.0, 55.0, 61.0, 57.0, 66.0, 62.0, 63.0, 69.0, 56.0, 53.0, 56.0, 52.0, 56.0, 58.0, 50.0, 51.0, 68.0, 50.0, 63.0, 54.0, 52.0, 54.0, 55.0, 53.0, 73.0, 55.0, 57.0, 72.0, 53.0, 68.0, 60.0, 50.0, 70.0, 55.0, 51.0, 56.0, 75.0, 60.0, 50.0, 50.0, 68.0, 65.0, 62.0, 56.0, 52.0, 59.0, 56.0, 60.0, 67.0, 51.0, 52.0, 65.0, 53.0, 62.0, 62.0, 63.0, 53.0, 55.0, 62.0, 50.0, 71.0, 59.0, 74.0, 51.0, 50.0, 54.0, 63.0, 65.0, 55.0, 53.0, 56.0, 55.0, 50.0, 50.0, 58.0, 51.0, 55.0, 67.0, 83.0, 57.0, 80.0, 61.0, 51.0, 64.0, 62.0, 66.0, 63.0, 66.0, 64.0, 56.0, 52.0, 50.0, 53.0, 60.0, 50.0, 50.0, 61.0, 82.0, 52.0, 62.0, 61.0, 70.0, 52.0, 53.0, 53.0, 53.0, 50.0, 53.0, 61.0, 77.0, 70.0, 61.0, 57.0, 53.0, 52.0, 50.0, 54.0, 65.0, 66.0, 51.0, 86.0, 60.0, 52.0, 51.0, 55.0, 52.0, 51.0, 60.0, 70.0, 50.0, 54.0, 59.0, 50.0, 52.0, 54.0, 55.0, 72.0, 59.0, 56.0, 51.0, 60.0, 60.0, 54.0, 66.0, 50.0, 63.0, 73.0, 53.0, 53.0, 63.0, 50.0, 60.0, 67.0, 57.0, 58.0, 53.0, 107.0, 59.0, 59.0, 110.0, 56.0, 55.0, 64.0, 74.0, 55.0, 54.0, 67.0, 68.0, 50.0, 52.0, 97.0, 58.0, 60.0, 54.0, 51.0, 55.0, 57.0, 51.0, 58.0, 51.0, 56.0, 59.0, 59.0, 60.0, 60.0, 63.0, 57.0, 52.0, 52.0, 50.0, 52.0, 50.0, 53.0, 67.0, 58.0, 122.0, 59.0, 55.0, 58.0, 60.0, 51.0, 62.0, 55.0, 52.0, 50.0, 54.0, 54.0, 50.0, 53.0, 51.0, 133.0, 50.0, 52.0, 53.0, 62.0, 53.0, 58.0, 50.0, 50.0, 62.0, 54.0, 53.0, 52.0, 54.0, 50.0, 58.0, 77.0, 50.0, 66.0, 64.0, 53.0, 51.0, 50.0, 65.0, 51.0, 56.0, 61.0, 65.0, 52.0, 58.0, 71.0, 57.0, 61.0, 55.0, 57.0, 73.0, 57.0, 70.0, 50.0, 71.0, 61.0, 99.0, 61.0, 86.0, 59.0, 78.0, 91.0, 54.0, 61.0, 55.0, 55.0, 54.0, 57.0, 65.0, 50.0, 60.0, 59.0, 53.0, 100.0, 72.0, 62.0, 52.0, 72.0, 56.0, 75.0, 56.0, 66.0, 51.0, 78.0, 55.0, 50.0, 51.0, 53.0, 66.0, 50.0, 64.0, 75.0, 50.0, 55.0, 50.0, 59.0, 58.0, 50.0, 56.0, 65.0, 56.0, 64.0, 62.0, 50.0, 60.0, 50.0, 53.0, 59.0, 70.0, 50.0, 66.0, 55.0, 50.0, 52.0, 69.0, 51.0, 56.0, 69.0, 50.0, 55.0, 56.0, 55.0, 50.0, 51.0, 70.0, 53.0, 63.0, 52.0, 73.0, 60.0, 50.0, 63.0, 70.0, 60.0, 56.0, 50.0, 70.0, 56.0, 53.0, 71.0, 50.0, 56.0, 64.0, 52.0, 69.0, 69.0, 98.0, 63.0, 64.0, 56.0, 50.0, 60.0, 69.0, 66.0, 61.0, 53.0, 52.0, 73.0, 61.0, 51.0, 60.0, 57.0, 68.0, 55.0, 61.0, 55.0, 57.0, 60.0, 58.0, 59.0, 51.0, 69.0, 54.0, 66.0, 55.0, 50.0, 61.0, 59.0, 65.0, 52.0, 57.0, 52.0, 111.0, 57.0, 55.0, 53.0, 52.0, 53.0, 60.0, 70.0, 53.0, 62.0, 75.0, 56.0, 72.0, 54.0, 50.0, 51.0, 58.0, 65.0, 72.0, 52.0, 51.0, 67.0, 55.0, 55.0, 53.0, 58.0, 55.0, 55.0, 51.0, 54.0, 50.0, 55.0, 66.0, 58.0, 53.0, 52.0, 50.0, 68.0, 77.0, 67.0, 76.0, 50.0, 55.0, 58.0, 55.0, 62.0, 52.0, 67.0, 51.0, 70.0, 51.0, 67.0, 58.0, 53.0, 58.0, 53.0, 67.0, 55.0, 51.0, 59.0, 52.0, 69.0, 61.0, 72.0, 51.0, 54.0, 56.0, 59.0, 62.0, 50.0, 59.0, 59.0, 56.0, 51.0, 55.0, 55.0, 56.0, 68.0, 59.0, 77.0, 53.0, 58.0, 66.0, 50.0, 59.0, 52.0, 54.0, 56.0, 70.0, 51.0, 59.0, 61.0, 59.0, 57.0, 66.0, 62.0, 71.0, 54.0, 70.0, 67.0, 56.0, 74.0, 52.0, 53.0, 55.0, 54.0, 117.0, 55.0, 66.0, 51.0, 78.0, 50.0, 57.0, 57.0, 60.0, 51.0, 65.0, 60.0, 54.0, 57.0, 52.0, 54.0, 57.0, 51.0, 55.0, 54.0, 56.0, 62.0, 93.0, 62.0, 60.0, 56.0, 58.0, 52.0, 65.0, 57.0, 55.0, 53.0, 53.0, 71.0, 65.0, 51.0, 53.0, 55.0, 51.0, 55.0, 60.0, 67.0, 51.0, 126.0, 54.0, 57.0, 53.0, 52.0, 59.0, 54.0, 73.0, 57.0, 52.0, 57.0, 50.0, 59.0, 50.0, 55.0, 53.0, 60.0, 52.0, 136.0, 52.0, 60.0, 55.0, 58.0, 70.0, 60.0, 51.0, 51.0, 57.0, 67.0, 57.0, 61.0, 58.0, 64.0, 53.0, 61.0, 51.0, 78.0, 68.0, 59.0, 59.0, 55.0, 56.0, 50.0, 52.0, 55.0, 60.0, 52.0, 69.0, 86.0, 75.0, 72.0, 50.0, 65.0, 65.0, 52.0, 59.0, 50.0, 77.0, 55.0, 53.0, 70.0, 51.0, 51.0, 73.0, 69.0, 66.0, 58.0, 59.0, 51.0, 56.0, 61.0, 56.0, 58.0, 69.0, 60.0, 54.0, 51.0, 50.0, 67.0, 50.0, 61.0, 63.0, 52.0, 50.0, 68.0, 59.0, 59.0, 66.0, 51.0, 72.0, 59.0, 58.0, 64.0, 53.0, 53.0, 70.0, 62.0, 54.0, 60.0, 62.0, 68.0, 55.0, 63.0, 50.0, 50.0, 58.0, 56.0, 59.0, 61.0, 55.0, 63.0, 60.0, 53.0, 60.0, 57.0, 51.0, 52.0, 64.0, 51.0, 53.0, 56.0, 51.0, 59.0, 60.0, 60.0, 77.0, 64.0, 58.0, 70.0, 54.0, 57.0, 53.0, 59.0, 65.0, 50.0, 53.0, 52.0, 52.0, 97.0, 54.0, 51.0, 62.0, 65.0, 51.0, 68.0, 74.0, 62.0, 63.0, 53.0, 52.0, 57.0, 50.0, 57.0, 63.0, 56.0, 50.0, 64.0, 57.0, 52.0, 59.0, 55.0, 52.0, 90.0, 70.0, 54.0, 59.0, 51.0, 53.0, 66.0, 53.0, 64.0, 62.0, 50.0, 94.0, 64.0, 76.0, 51.0, 68.0, 70.0, 74.0, 55.0, 55.0, 67.0, 92.0, 51.0, 51.0, 53.0, 58.0, 64.0, 60.0, 67.0, 57.0, 50.0, 65.0, 81.0, 53.0, 51.0, 63.0, 59.0, 62.0, 55.0, 66.0, 77.0, 51.0, 57.0, 57.0, 56.0, 55.0, 53.0, 55.0, 71.0, 58.0, 61.0, 54.0, 58.0, 73.0, 56.0, 69.0, 51.0, 55.0, 67.0, 50.0, 61.0, 73.0, 52.0, 51.0, 53.0, 57.0, 60.0, 53.0, 53.0, 51.0, 62.0, 55.0, 58.0, 51.0, 62.0, 54.0, 57.0, 53.0, 52.0, 64.0, 63.0, 59.0, 54.0, 52.0, 52.0, 85.0, 50.0, 72.0, 87.0, 52.0, 62.0, 75.0, 60.0, 50.0, 50.0, 51.0, 52.0, 50.0, 50.0, 54.0, 50.0, 57.0, 79.0, 75.0, 52.0, 54.0, 63.0, 53.0, 71.0, 52.0, 75.0, 66.0, 50.0, 57.0, 60.0, 61.0, 72.0, 55.0, 69.0, 56.0, 95.0, 54.0, 52.0, 54.0, 57.0, 54.0, 60.0, 50.0, 66.0, 57.0, 61.0, 67.0, 63.0, 56.0, 54.0, 75.0, 50.0, 63.0, 53.0, 55.0, 71.0, 56.0, 56.0, 55.0, 91.0, 54.0, 50.0, 74.0, 55.0, 55.0, 52.0, 50.0, 51.0, 61.0, 57.0, 74.0, 64.0, 50.0, 56.0, 56.0, 61.0, 59.0, 78.0, 60.0, 61.0, 52.0, 68.0, 55.0, 63.0, 79.0, 53.0, 88.0, 53.0, 66.0, 72.0, 73.0, 50.0, 69.0, 56.0, 55.0, 70.0, 74.0, 60.0, 66.0, 57.0, 53.0, 54.0, 55.0, 51.0, 65.0, 51.0, 54.0, 69.0, 76.0, 53.0, 51.0, 50.0, 66.0, 76.0, 68.0, 51.0, 70.0, 68.0, 56.0, 57.0, 54.0, 50.0, 51.0, 63.0, 51.0, 59.0, 62.0, 60.0, 51.0, 62.0, 68.0, 50.0, 50.0, 52.0, 62.0, 67.0, 54.0, 78.0, 62.0, 63.0, 69.0, 59.0, 58.0, 56.0, 63.0, 66.0, 63.0, 51.0, 58.0, 68.0, 70.0, 50.0, 59.0, 51.0, 59.0, 59.0, 59.0, 54.0, 52.0, 77.0, 56.0, 56.0, 58.0, 51.0, 61.0, 53.0, 78.0, 51.0, 58.0, 60.0, 50.0, 71.0, 53.0, 66.0, 63.0, 53.0, 66.0, 72.0, 76.0, 75.0, 54.0, 51.0, 65.0, 76.0, 59.0, 67.0, 100.0, 52.0, 50.0, 84.0, 65.0, 60.0, 54.0, 70.0, 61.0, 69.0, 114.0, 65.0, 63.0, 63.0, 66.0, 69.0, 60.0, 53.0, 70.0, 55.0, 56.0, 54.0, 84.0, 79.0, 54.0, 53.0, 54.0, 52.0, 64.0, 65.0, 57.0, 51.0, 75.0, 50.0, 57.0, 58.0, 50.0, 50.0, 54.0, 65.0, 52.0, 51.0, 56.0, 60.0, 59.0, 58.0, 56.0, 53.0, 56.0, 65.0, 67.0, 61.0, 58.0, 58.0, 52.0, 51.0, 57.0, 57.0, 56.0, 56.0, 50.0, 66.0, 60.0, 51.0, 59.0, 54.0, 75.0, 69.0, 52.0, 55.0, 62.0, 56.0, 64.0, 59.0, 68.0, 52.0, 54.0, 51.0, 64.0, 52.0, 50.0, 59.0, 61.0, 50.0, 57.0, 52.0, 65.0, 50.0, 57.0, 54.0, 57.0, 50.0, 60.0, 55.0, 58.0, 67.0, 55.0, 138.0, 54.0, 51.0, 61.0, 50.0, 51.0, 59.0, 73.0, 51.0, 62.0, 72.0, 50.0, 64.0, 64.0, 52.0, 71.0, 54.0, 54.0, 96.0, 50.0, 53.0, 64.0, 87.0, 95.0, 50.0, 51.0, 63.0, 55.0, 52.0, 52.0, 103.0, 55.0, 57.0, 52.0, 69.0, 56.0, 70.0, 72.0, 60.0, 68.0, 55.0, 52.0, 57.0, 56.0, 51.0, 63.0, 57.0, 54.0, 62.0, 59.0, 60.0, 60.0, 58.0, 63.0, 53.0, 51.0, 67.0, 54.0, 73.0, 54.0, 53.0, 90.0, 50.0, 50.0, 68.0, 55.0, 77.0, 64.0, 68.0, 63.0, 67.0, 52.0, 61.0, 50.0, 73.0, 50.0, 54.0, 68.0, 64.0, 71.0, 62.0, 58.0, 50.0, 64.0, 55.0, 52.0, 52.0, 51.0, 87.0, 62.0, 57.0, 60.0, 56.0, 54.0, 59.0, 65.0, 58.0, 51.0, 54.0, 61.0, 57.0, 62.0, 58.0, 52.0, 56.0, 62.0, 63.0, 71.0, 60.0, 54.0, 60.0, 58.0, 52.0, 54.0, 50.0, 55.0, 50.0, 69.0, 64.0, 53.0, 51.0, 53.0, 53.0, 56.0, 67.0, 55.0, 59.0, 54.0, 62.0, 64.0, 50.0, 74.0, 51.0, 50.0, 53.0, 61.0, 52.0, 62.0, 50.0, 51.0, 51.0, 71.0, 58.0, 52.0, 58.0, 98.0, 62.0, 56.0, 60.0, 55.0, 59.0, 50.0, 50.0, 56.0, 51.0, 54.0, 69.0, 65.0, 50.0, 118.0, 61.0, 54.0, 52.0, 62.0, 61.0, 50.0, 50.0, 57.0, 54.0, 54.0, 52.0, 62.0, 62.0, 60.0, 74.0, 51.0, 65.0, 55.0, 87.0, 52.0, 51.0, 64.0, 64.0, 72.0, 51.0, 50.0, 56.0, 65.0, 65.0, 59.0, 56.0, 58.0, 50.0, 50.0, 75.0, 61.0, 50.0, 54.0, 69.0, 76.0, 55.0, 53.0, 58.0, 50.0, 61.0, 128.0, 55.0, 69.0, 71.0, 51.0, 72.0, 67.0, 53.0, 59.0, 53.0, 55.0, 50.0, 55.0, 53.0, 59.0, 51.0, 57.0, 60.0, 61.0, 69.0, 57.0, 58.0, 55.0, 69.0, 61.0, 55.0, 53.0, 58.0, 58.0, 69.0, 57.0, 53.0, 56.0, 61.0, 50.0, 51.0, 69.0, 50.0, 50.0, 54.0, 68.0, 60.0, 55.0, 52.0, 69.0, 63.0, 68.0, 52.0, 53.0, 54.0, 56.0, 62.0, 75.0, 57.0, 56.0, 72.0, 52.0, 64.0, 54.0, 61.0, 65.0, 52.0, 50.0, 62.0, 53.0, 52.0, 71.0, 53.0, 51.0, 53.0, 62.0, 52.0, 58.0, 54.0, 67.0, 55.0, 50.0, 51.0, 134.0, 75.0, 52.0, 57.0, 55.0, 57.0, 54.0, 57.0, 125.0, 62.0, 50.0, 52.0, 51.0, 51.0, 56.0, 73.0, 90.0, 61.0, 59.0, 56.0, 52.0, 50.0, 73.0, 55.0, 52.0, 58.0, 51.0, 52.0, 51.0, 87.0, 53.0, 54.0, 55.0, 63.0, 58.0, 63.0, 52.0, 61.0, 59.0, 72.0, 64.0, 57.0, 51.0, 74.0, 59.0, 53.0, 58.0, 58.0, 57.0, 66.0, 50.0, 52.0, 54.0, 62.0, 69.0, 58.0, 51.0, 64.0, 71.0, 54.0, 52.0, 63.0, 75.0, 50.0, 51.0, 65.0, 50.0, 65.0, 56.0, 55.0, 54.0, 58.0, 69.0, 67.0, 54.0, 50.0, 50.0, 73.0, 56.0, 53.0, 61.0, 57.0, 63.0, 54.0, 56.0, 71.0, 58.0, 70.0, 59.0, 50.0, 57.0, 63.0, 55.0, 58.0, 121.0, 53.0, 68.0, 59.0, 56.0, 50.0, 55.0, 51.0, 82.0, 53.0, 82.0, 58.0, 71.0, 62.0, 54.0, 62.0, 80.0, 51.0, 50.0, 51.0, 50.0, 58.0, 66.0, 51.0, 50.0, 61.0, 62.0, 52.0, 59.0, 53.0, 51.0, 54.0, 50.0, 52.0, 68.0, 52.0, 62.0, 124.0, 50.0, 53.0, 63.0, 58.0, 55.0, 53.0, 53.0, 71.0, 51.0, 67.0, 52.0, 53.0, 54.0, 50.0, 51.0, 61.0, 60.0, 54.0, 53.0, 55.0, 69.0, 53.0, 52.0, 53.0, 52.0, 73.0, 54.0, 62.0, 78.0, 84.0, 56.0, 63.0, 71.0, 56.0, 55.0, 52.0, 52.0, 70.0, 51.0, 51.0, 68.0, 57.0, 56.0, 56.0, 57.0, 55.0, 54.0, 70.0, 67.0, 83.0, 57.0, 53.0, 62.0, 57.0, 65.0, 68.0, 57.0, 52.0, 57.0, 57.0, 59.0, 60.0, 51.0, 55.0, 53.0, 57.0, 53.0, 58.0, 78.0, 65.0, 51.0, 59.0, 56.0, 64.0, 65.0, 57.0, 56.0, 52.0, 66.0, 61.0, 67.0, 61.0, 56.0, 56.0, 53.0, 52.0, 51.0, 53.0, 50.0, 64.0, 69.0, 54.0, 59.0, 64.0, 56.0, 51.0, 68.0, 58.0, 58.0, 50.0, 64.0, 85.0, 63.0, 57.0, 58.0, 50.0, 58.0, 52.0, 69.0, 63.0, 60.0, 53.0, 99.0, 109.0, 50.0, 71.0, 51.0, 81.0, 52.0, 65.0, 55.0, 56.0, 52.0, 53.0, 54.0, 54.0, 56.0, 56.0, 76.0, 58.0, 50.0, 58.0, 73.0, 50.0, 53.0, 65.0, 51.0, 51.0, 62.0, 52.0, 67.0, 56.0, 62.0, 54.0, 63.0, 59.0, 50.0, 61.0, 64.0, 60.0, 51.0, 51.0, 64.0, 69.0, 52.0, 131.0, 71.0, 53.0, 70.0, 53.0, 50.0, 52.0, 50.0, 54.0, 58.0, 57.0, 64.0, 60.0, 53.0, 61.0, 51.0, 50.0, 59.0, 69.0, 63.0, 55.0, 57.0, 66.0, 50.0, 80.0, 88.0, 68.0, 66.0, 123.0, 57.0, 64.0, 78.0, 54.0, 71.0, 57.0, 63.0, 51.0, 51.0, 76.0, 56.0, 52.0, 56.0, 60.0, 54.0, 65.0, 57.0, 50.0, 55.0, 56.0, 53.0, 75.0, 55.0, 53.0, 54.0, 58.0, 91.0, 55.0, 69.0, 57.0, 50.0, 51.0, 66.0, 60.0, 51.0, 70.0, 75.0, 57.0, 56.0, 113.0, 58.0, 63.0, 68.0, 55.0, 50.0, 52.0, 53.0, 56.0, 67.0, 71.0, 61.0, 56.0, 68.0, 51.0, 55.0, 54.0, 54.0, 66.0, 52.0, 52.0, 58.0, 59.0, 71.0, 52.0, 51.0, 69.0, 62.0, 53.0, 53.0, 56.0, 50.0, 68.0, 52.0, 52.0, 59.0, 53.0, 73.0, 63.0, 50.0, 51.0, 54.0, 52.0, 80.0, 54.0, 84.0, 53.0, 50.0, 68.0, 50.0, 74.0, 60.0, 58.0, 92.0, 68.0, 70.0, 50.0, 62.0, 74.0, 54.0, 53.0, 52.0, 71.0, 53.0, 53.0, 64.0, 52.0, 52.0, 52.0, 67.0, 50.0, 56.0, 61.0, 57.0, 55.0, 55.0, 54.0, 54.0, 65.0, 61.0, 56.0, 62.0, 57.0, 69.0, 61.0, 56.0, 58.0, 56.0, 56.0, 61.0, 51.0, 52.0, 56.0, 52.0, 55.0, 51.0, 51.0, 67.0, 53.0, 54.0, 55.0, 57.0, 52.0, 62.0, 79.0, 60.0, 50.0, 52.0, 62.0, 56.0, 54.0, 50.0, 51.0, 66.0, 65.0, 80.0, 55.0, 58.0, 60.0, 72.0, 71.0, 50.0, 66.0, 56.0, 55.0, 64.0, 64.0, 58.0, 52.0, 52.0, 51.0, 55.0, 54.0, 54.0, 50.0, 67.0, 54.0, 59.0, 66.0, 60.0, 54.0, 50.0, 50.0, 55.0, 51.0, 79.0, 51.0, 79.0, 56.0, 51.0, 83.0, 56.0, 71.0, 51.0, 51.0, 72.0, 51.0, 102.0, 81.0, 51.0, 54.0, 54.0, 72.0, 58.0, 59.0, 60.0, 50.0, 67.0, 80.0, 61.0, 50.0, 82.0, 62.0, 56.0, 57.0, 82.0, 68.0, 58.0, 53.0, 72.0, 55.0, 52.0, 60.0, 52.0, 50.0, 52.0, 54.0, 51.0, 52.0, 53.0, 51.0, 57.0, 106.0, 53.0, 76.0, 51.0, 55.0, 51.0, 53.0, 70.0, 55.0, 51.0, 51.0, 53.0, 66.0, 51.0, 71.0, 63.0, 63.0, 50.0, 62.0, 60.0, 63.0, 53.0, 64.0, 54.0, 55.0, 59.0, 63.0, 73.0, 52.0, 50.0, 58.0, 68.0, 62.0, 53.0, 57.0, 65.0, 56.0, 59.0, 60.0, 56.0, 51.0, 61.0, 55.0, 60.0, 54.0, 52.0, 56.0, 81.0, 62.0, 58.0, 115.0, 57.0, 59.0, 58.0, 52.0, 69.0, 53.0, 54.0, 52.0, 69.0, 53.0, 51.0, 61.0, 52.0, 52.0, 62.0, 57.0, 50.0, 51.0, 55.0, 63.0, 61.0, 68.0, 53.0, 60.0, 73.0, 52.0, 76.0, 69.0, 81.0, 96.0, 60.0, 53.0, 55.0, 68.0, 57.0, 56.0, 80.0, 54.0, 53.0, 54.0, 50.0, 56.0, 54.0, 52.0, 56.0, 73.0, 54.0, 62.0, 76.0, 58.0, 57.0, 54.0, 80.0, 75.0, 56.0, 50.0, 71.0, 51.0, 68.0, 68.0, 81.0, 74.0, 66.0, 61.0, 53.0, 50.0, 53.0, 61.0, 56.0, 61.0, 77.0, 65.0, 63.0, 56.0, 64.0, 54.0, 55.0, 58.0, 53.0, 54.0, 67.0, 53.0, 51.0, 60.0, 52.0, 50.0, 54.0, 59.0, 55.0, 61.0, 75.0, 54.0, 54.0, 64.0, 63.0, 63.0, 139.0, 54.0, 60.0, 55.0, 60.0, 58.0, 50.0, 51.0, 58.0, 58.0, 55.0, 54.0, 51.0, 74.0, 52.0, 56.0, 50.0, 53.0, 51.0, 55.0, 65.0, 72.0, 61.0, 57.0, 58.0, 83.0, 51.0, 54.0, 56.0, 52.0, 53.0, 54.0, 58.0, 53.0, 76.0, 68.0, 52.0, 54.0, 51.0, 50.0, 56.0, 65.0, 65.0, 52.0, 51.0, 50.0, 50.0, 56.0, 51.0, 52.0, 62.0, 51.0, 70.0, 61.0, 105.0, 66.0, 66.0, 51.0, 61.0, 59.0, 51.0, 60.0, 52.0, 62.0, 72.0, 60.0, 64.0, 60.0, 54.0, 57.0, 50.0, 51.0, 52.0, 55.0, 61.0, 54.0, 50.0, 54.0, 50.0, 57.0, 62.0, 73.0, 53.0, 58.0, 52.0, 55.0, 56.0, 54.0, 60.0, 63.0, 59.0, 53.0, 52.0, 60.0, 51.0, 57.0, 50.0, 62.0, 51.0, 51.0, 50.0, 51.0, 51.0, 59.0, 53.0, 51.0, 50.0, 56.0, 56.0, 52.0, 51.0, 55.0, 51.0, 54.0, 62.0, 65.0, 50.0, 65.0, 56.0, 64.0, 64.0, 57.0, 58.0, 62.0, 52.0, 51.0, 78.0, 51.0, 66.0, 59.0, 56.0, 71.0, 61.0, 62.0, 55.0, 50.0, 68.0, 52.0, 54.0, 50.0, 54.0, 50.0, 72.0, 51.0, 51.0, 57.0, 70.0, 51.0, 50.0, 73.0, 53.0, 92.0, 53.0, 53.0, 63.0, 64.0, 56.0, 63.0, 50.0, 53.0, 60.0, 56.0, 62.0, 53.0, 66.0, 66.0, 89.0, 62.0, 53.0, 50.0, 62.0, 61.0, 78.0, 56.0, 61.0, 71.0, 50.0, 61.0, 56.0, 53.0, 53.0, 52.0, 57.0, 54.0, 57.0, 57.0, 59.0, 58.0, 54.0, 58.0, 59.0, 54.0, 53.0, 54.0, 53.0, 58.0, 69.0, 63.0, 73.0, 51.0, 54.0, 62.0, 63.0, 56.0, 68.0, 51.0, 53.0, 58.0, 93.0, 52.0, 55.0, 59.0, 52.0, 50.0, 56.0, 53.0, 60.0, 53.0, 83.0, 56.0, 58.0, 57.0, 59.0, 56.0, 51.0, 63.0, 53.0, 72.0, 65.0, 58.0, 52.0, 51.0, 59.0, 56.0, 72.0, 55.0, 52.0, 55.0, 51.0, 59.0, 59.0, 50.0, 52.0, 61.0, 56.0, 50.0, 60.0, 54.0, 60.0, 50.0, 63.0, 53.0, 57.0, 55.0, 51.0, 51.0, 57.0, 56.0, 50.0, 63.0, 50.0, 60.0, 53.0, 57.0, 64.0, 55.0, 57.0, 66.0, 80.0, 59.0, 55.0, 51.0, 60.0, 52.0, 75.0, 70.0, 59.0, 57.0, 60.0, 52.0, 56.0, 74.0, 51.0, 56.0, 68.0, 59.0, 56.0, 78.0, 71.0, 52.0, 57.0, 62.0, 63.0, 70.0, 69.0, 58.0, 55.0, 70.0, 51.0, 53.0, 61.0, 85.0, 55.0, 85.0, 52.0, 60.0, 57.0, 73.0, 53.0, 51.0, 63.0, 74.0, 50.0, 66.0, 76.0, 51.0, 52.0, 55.0, 53.0, 50.0, 67.0, 51.0, 50.0, 62.0, 52.0, 51.0, 54.0, 58.0, 50.0, 67.0, 64.0, 66.0, 68.0, 61.0, 58.0, 58.0, 61.0, 53.0, 55.0, 52.0, 59.0, 54.0, 58.0, 71.0, 69.0, 64.0, 75.0, 50.0, 50.0, 54.0, 65.0, 52.0, 54.0, 68.0, 54.0, 63.0, 56.0, 59.0, 52.0, 52.0, 53.0, 54.0, 70.0, 73.0, 51.0, 53.0, 65.0, 52.0, 54.0, 52.0, 60.0, 53.0, 57.0, 64.0, 64.0, 54.0, 55.0, 55.0, 52.0, 64.0, 53.0, 55.0, 54.0, 79.0, 50.0, 69.0, 50.0, 53.0, 51.0, 54.0, 54.0, 58.0, 58.0, 72.0, 59.0, 56.0, 50.0, 60.0, 76.0, 71.0, 64.0, 53.0, 52.0, 58.0, 62.0, 54.0, 52.0, 72.0, 50.0, 53.0, 57.0, 55.0, 63.0, 60.0, 55.0, 50.0, 60.0, 52.0, 53.0, 52.0, 60.0, 52.0, 54.0, 57.0, 55.0, 64.0, 56.0, 50.0, 76.0, 57.0, 58.0, 65.0, 51.0, 61.0, 61.0, 72.0, 59.0, 67.0, 56.0, 69.0, 58.0, 89.0, 55.0, 51.0, 52.0, 70.0, 56.0, 67.0, 50.0, 56.0, 74.0, 66.0, 52.0, 59.0, 54.0, 53.0, 53.0, 62.0, 51.0, 77.0, 57.0, 58.0, 51.0, 53.0, 54.0, 58.0, 72.0, 56.0, 82.0, 52.0, 52.0, 68.0, 127.0, 53.0, 58.0, 52.0, 55.0, 74.0, 63.0, 58.0, 61.0, 64.0, 64.0, 51.0, 58.0, 51.0, 51.0, 60.0, 64.0, 60.0, 63.0, 56.0, 119.0, 50.0, 86.0, 55.0, 79.0, 55.0, 58.0, 95.0, 129.0, 75.0, 61.0, 55.0, 56.0, 61.0, 61.0, 55.0, 59.0, 65.0, 58.0, 55.0, 55.0, 67.0, 74.0, 65.0, 55.0, 62.0, 63.0, 55.0, 64.0, 62.0, 51.0, 54.0, 64.0, 51.0, 54.0, 57.0, 52.0, 55.0, 54.0, 57.0, 51.0, 61.0, 64.0, 69.0, 61.0, 51.0, 70.0, 59.0, 51.0, 52.0, 62.0, 50.0, 50.0, 53.0, 74.0, 72.0, 61.0, 50.0, 51.0, 57.0, 59.0, 54.0, 71.0, 64.0, 53.0, 69.0, 58.0, 58.0, 50.0, 57.0, 62.0, 51.0, 59.0, 58.0, 53.0, 51.0, 83.0, 56.0, 67.0, 50.0, 56.0, 51.0, 59.0, 96.0, 54.0, 52.0, 60.0, 53.0, 54.0, 71.0, 65.0, 60.0, 55.0, 71.0, 61.0, 52.0, 62.0, 53.0, 70.0, 50.0, 56.0, 67.0, 58.0, 58.0, 70.0, 54.0, 53.0, 56.0, 55.0, 70.0, 54.0, 51.0, 67.0, 63.0, 54.0, 50.0, 59.0, 74.0, 51.0, 59.0, 65.0, 66.0, 56.0, 55.0, 104.0, 67.0, 55.0, 56.0, 52.0, 54.0, 54.0, 53.0, 55.0, 50.0, 68.0, 60.0, 67.0, 53.0, 52.0, 56.0, 55.0, 54.0, 50.0, 54.0, 55.0, 54.0, 59.0, 50.0, 69.0, 58.0, 64.0, 88.0, 54.0, 84.0, 57.0, 51.0, 57.0, 54.0, 62.0, 52.0, 59.0, 61.0, 54.0, 54.0, 137.0, 67.0, 50.0, 53.0, 64.0, 59.0, 63.0, 51.0, 67.0, 60.0, 64.0, 58.0, 56.0, 57.0, 52.0, 52.0, 61.0, 55.0, 51.0, 51.0, 53.0, 52.0, 58.0, 55.0, 57.0, 67.0, 70.0, 59.0, 72.0, 54.0, 58.0, 72.0, 54.0, 51.0, 50.0, 70.0, 54.0, 58.0, 61.0, 53.0, 61.0, 54.0, 66.0, 50.0, 71.0, 52.0, 55.0, 52.0, 62.0, 50.0, 56.0, 54.0, 57.0, 52.0, 60.0, 62.0, 69.0, 51.0, 65.0, 59.0, 76.0, 59.0, 55.0, 57.0, 50.0, 58.0, 64.0, 51.0, 64.0, 54.0, 62.0, 50.0, 59.0, 52.0, 55.0, 61.0, 53.0, 83.0, 51.0, 53.0, 62.0, 65.0, 64.0, 52.0, 62.0, 67.0, 62.0, 67.0, 50.0, 63.0, 52.0, 59.0, 57.0, 63.0, 79.0, 50.0, 65.0, 61.0, 69.0, 63.0, 65.0, 59.0, 52.0, 86.0, 93.0, 50.0, 61.0, 66.0, 52.0, 55.0, 75.0, 51.0, 70.0, 57.0, 59.0, 60.0, 57.0, 52.0, 65.0]\n",
      "quantization\n",
      "{'Code_0': [47, 31, 1345, 1284, 1252, 36, 35, 847, 13, 1284, 18, 21, 1284, 9, 847, 21, 11, 30, 1222, 11, 6, 18, 1252, 38, 9, 54, 333, 1345, 847, 446, 42, 333, 10, 1339, 11, 48, 31, 17, 12, 1284, 1107, 38, 48, 40, 34, 1593, 0, 11, 48, 1107, 6, 11, 23, 1284, 328, 59, 21, 1751, 6, 11, 328, 1345, 328, 24, 446, 48, 9, 1222, 34, 47, 1107, 847, 42, 31, 9, 23, 38, 121, 333, 446, 31, 9, 34, 9, 333, 34, 6, 12, 9, 1339, 54, 59, 1345, 18, 34, 1, 328, 11, 333, 34, 31, 9, 48, 40, 1107, 121, 31, 30, 333, 47, 30, 1593, 328, 1222, 39, 35, 10, 9, 333, 48, 34, 8, 10, 1345, 9, 847, 30, 328, 23, 30, 1339, 9, 18, 42, 42, 328, 42, 1252, 847, 1222, 34, 1345, 57, 1222, 847, 121, 20, 328, 42, 17, 446, 24, 446, 446, 11, 36, 55, 328, 39, 40, 5, 30, 18, 328, 20, 38, 1252, 847, 1, 22, 333, 333, 38, 10, 1222, 446, 53, 847, 328, 121, 57, 21, 9, 0, 847, 328, 34, 9, 446, 1107, 1345, 0, 57, 11, 30, 121, 0, 333, 1339, 42, 446, 2, 1284, 31, 847, 11, 55, 34, 36, 9, 51, 38, 31, 1252, 21, 1345, 9, 328, 11, 51, 42, 446, 1252, 328, 1222, 1593, 1339, 847, 847, 56, 42, 9, 55, 1339, 446, 1252, 39, 38, 847, 21, 48, 847, 446, 24, 11, 1222, 446, 20, 328, 56, 11, 12, 31, 44, 446, 1345, 53, 36, 53, 328, 47, 36, 1339, 1339, 2, 9, 48, 31, 328, 1222, 39, 9, 58, 9, 328, 333, 1107, 1, 42, 31, 30, 33, 59, 17, 446, 9, 1252, 1222, 2, 328, 847, 328, 11, 1751, 847, 333, 31, 328, 1284, 1284, 54, 17, 31, 1593, 34, 1222, 1593, 11, 446, 9, 42, 6, 48, 51, 1345, 36, 1107, 4, 847, 1339, 38, 20, 847, 42, 55, 1339, 55, 333, 34, 1222, 1107, 36, 23, 23, 53, 38, 1339, 446, 36, 328, 1751, 328, 13, 31, 9, 1107, 1339, 48, 23, 31, 1593, 42, 328, 56, 446, 42, 6, 1593, 1, 17, 328, 1345, 36, 42, 6, 9, 51, 1, 847, 39, 11, 121, 30, 1252, 1345, 21, 22, 21, 36, 42, 42, 446, 53, 24, 38, 48, 9, 9, 24, 333, 31, 10, 2, 40, 446, 6, 38, 2, 9, 21, 17, 36, 34, 10, 847, 1107, 1345, 34, 121, 34, 31, 1107, 446, 1345, 55, 42, 9, 59, 1345, 55, 54, 30, 36, 38, 51, 1284, 34, 38, 36, 1284, 1284, 121, 328, 54, 333, 12, 333, 25, 54, 10, 31, 39, 42, 1339, 6, 1751, 446, 51, 53, 2, 42, 11, 1593, 11, 9, 21, 1222, 36, 42, 1, 446, 6, 847, 847, 11, 54, 34, 1284, 24, 847, 333, 12, 1284, 48, 847, 847, 446, 1345, 22, 328, 1593, 48, 6, 1339, 1345, 328, 38, 847, 1284, 1222, 121, 1339, 31, 333, 57, 1593, 24, 1593, 34, 1345, 18, 328, 6, 1345, 1284, 18, 21, 31, 31, 1345, 42, 1345, 328, 1252, 34, 1222, 446, 31, 31, 11, 33, 42, 328, 1284, 1, 18, 55, 446, 446, 1751, 2, 31, 54, 6, 5, 38, 31, 20, 1339, 9, 48, 18, 328, 1252, 34, 11, 21, 57, 38, 446, 328, 9, 47, 42, 42, 6, 10, 31, 17, 53, 2, 1345, 1284, 6, 446, 31, 1339, 18, 54, 47, 847, 1751, 1339, 1593, 9, 1593, 40, 53, 20, 1751, 42, 847, 59, 1284, 31, 1345, 42, 36, 6, 44, 6, 1284, 34, 446, 10, 30, 1222, 446, 446, 1593, 446, 9, 1345, 333, 48, 17, 121, 328, 20, 328, 42, 21, 6, 11, 47, 328, 1252, 333, 34, 1, 34, 328, 42, 21, 53, 847, 1345, 328, 1339, 9, 42, 333, 1284, 1222, 34, 333, 1345, 20, 10, 20, 121, 11, 9, 23, 10, 19, 1252, 24, 17, 1345, 53, 328, 1339, 17, 6, 1252, 10, 9, 1751, 1339, 1284, 1345, 53, 847, 55, 1284, 36, 37, 34, 36, 328, 22, 38, 1339, 328, 328, 57, 42, 1284, 1252, 328, 17, 31, 48, 6, 10, 1345, 847, 36, 6, 36, 18, 35, 1345, 847, 1284, 328, 1284, 1345, 39, 1345, 333, 328, 1751, 12, 1284, 24, 34, 17, 42, 1345, 31, 42, 1107, 31, 121, 328, 1222, 1284, 20, 121, 10, 847, 1751, 37, 6, 23, 31, 55, 446, 9, 328, 446, 12, 8, 0, 42, 11, 446, 33, 6, 8, 57, 17, 1252, 23, 5, 34, 48, 48, 38, 333, 1284, 48, 6, 446, 53, 10, 31, 18, 328, 34, 446, 38, 36, 1593, 9, 40, 333, 1345, 42, 11, 328, 446, 1252, 1222, 18, 18, 58, 48, 1284, 333, 2, 38, 42, 2, 10, 847, 1593, 42, 21, 38, 24, 17, 1222, 20, 1751, 39, 2, 31, 121, 34, 56, 11, 446, 34, 1252, 55, 1222, 446, 55, 18, 333, 23, 10, 43, 12, 1593, 328, 53, 1751, 39, 38, 34, 42, 42, 121, 6, 34, 446, 5, 11, 847, 6, 11, 37, 1252, 55, 9, 1252, 328, 333, 333, 51, 11, 48, 446, 42, 847, 23, 20, 9, 54, 34, 57, 42, 847, 9, 34, 6, 17, 1284, 1252, 1593, 37, 42, 31, 1284, 24, 1339, 9, 446, 12, 6, 847, 31, 56, 30, 1222, 42, 42, 6, 48, 9, 6, 34, 328, 36, 39, 847, 446, 0, 1345, 53, 34, 9, 0, 328, 1593, 1252, 333, 34, 12, 0, 1345, 10, 11, 6, 328, 1284, 18, 11, 1252, 446, 3, 39, 6, 847, 446, 9, 446, 446, 24, 1222, 23, 8, 1252, 42, 53, 31, 446, 1345, 41, 1751, 446, 1593, 1339, 11, 446, 6, 333, 446, 1593, 42, 10, 31, 1284, 42, 1751, 6, 9, 54, 27, 37, 55, 333, 55, 27, 333, 847, 2, 55, 9, 31, 1345, 333, 12, 9, 42, 17, 223, 333, 31, 1339, 1339, 18, 1345, 10, 11, 333, 39, 48, 42, 9, 333, 1345, 20, 847, 53, 3, 1345, 847, 121, 1284, 31, 34, 47, 31, 11, 1345, 57, 1284, 54, 1593, 1593, 446, 1222, 12, 121, 24, 52, 1593, 23, 9, 847, 446, 1339, 42, 21, 1222, 24, 31, 9, 1107, 1284, 42, 446, 847, 6, 17, 9, 1252, 36, 847, 1593, 42, 39, 328, 1252, 30, 23, 34, 21, 23, 0, 17, 9, 39, 1107, 42, 1751, 8, 20, 1222, 39, 23, 18, 446, 31, 23, 847, 446, 6, 34, 48, 54, 1252, 59, 59, 48, 1284, 1345, 18, 37, 1252, 54, 48, 9, 38, 1107, 1593, 1345, 17, 1107, 328, 18, 1593, 847, 1751, 1222, 35, 1252, 21, 34, 446, 1593, 6, 328, 37, 847, 328, 0, 36, 1252, 1252, 36, 333, 333, 1, 31, 37, 47, 446, 6, 847, 9, 38, 9, 121, 1284, 1593, 11, 1593, 6, 0, 0, 11, 328, 1252, 31, 11, 34, 20, 9, 446, 2, 38, 34, 1252, 446, 1222, 328, 17, 42, 54, 34, 333, 1107, 20, 34, 121, 31, 53, 42, 47, 39, 12, 1252, 24, 34, 1107, 328, 446, 38, 34, 333, 328, 36, 31, 1222, 847, 328, 54, 333, 43, 1339, 1751, 43, 34, 39, 42, 39, 1107, 1345, 1339, 34, 9, 446, 20, 847, 1751, 31, 55, 34, 34, 1593, 446, 1222, 333, 10, 11, 6, 54, 47, 1, 6, 54, 38, 20, 23, 1252, 6, 20, 446, 39, 10, 446, 6, 30, 42, 30, 1345, 446, 847, 55, 34, 328, 39, 12, 1107, 328, 1593, 847, 1252, 55, 6, 1345, 847, 48, 1284, 328, 34, 53, 31, 847, 333, 42, 21, 11, 1339, 40, 31, 446, 333, 1252, 446, 54, 847, 1107, 1345, 38, 20, 48, 1345, 9, 39, 11, 1339, 6, 17, 55, 11, 9, 1339, 47, 31, 59, 1345, 446, 328, 37, 12, 446, 847, 328, 36, 10, 55, 23, 12, 34, 9, 38, 328, 9, 1, 31, 31, 48, 31, 333, 38, 42, 30, 847, 121, 53, 11, 1593, 12, 0, 17, 53, 10, 9, 1751, 12, 6, 11, 5, 23, 333, 21, 2, 333, 38, 328, 1339, 6, 47, 36, 53, 17, 1284, 6, 1, 1252, 1751, 121, 10, 48, 121, 2, 0, 1339, 12, 1339, 1593, 17, 42, 9, 21, 847, 847, 1222, 9, 36, 1107, 333, 31, 9, 42, 446, 446, 1339, 53, 53, 31, 21, 42, 446, 847, 56, 847, 21, 17, 333, 9, 1, 8, 328, 1751, 847, 6, 1339, 847, 11, 9, 55, 48, 37, 1345, 446, 48, 328, 38, 0, 0, 39, 31, 328, 55, 34, 34, 1345, 31, 12, 10, 333, 31, 38, 9, 42, 57, 21, 847, 9, 328, 1222, 1284, 847, 847, 1107, 9, 20, 18, 446, 1222, 31, 333, 42, 1339, 2, 446, 12, 18, 55, 30, 39, 55, 847, 1593, 31, 31, 446, 34, 48, 1252, 6, 20, 847, 23, 39, 1593, 1222, 23, 48, 59, 9, 57, 847, 3, 48, 40, 1345, 1339, 847, 10, 17, 9, 1345, 20, 23, 40, 31, 42, 1345, 1284, 1, 37, 1339, 48, 1345, 446, 42, 55, 446, 6, 1284, 36, 1, 21, 1, 10, 847, 42, 39, 55, 55, 48, 446, 31, 0, 3, 1107, 42, 34, 1107, 847, 42, 333, 1593, 55, 24, 57, 20, 1107, 446, 6, 847, 48, 37, 1345, 0, 20, 48, 11, 37, 31, 446, 57, 1593, 6, 31, 446, 42, 54, 55, 328, 1, 1, 55, 333, 1252, 6, 11, 10, 446, 11, 31, 1, 21, 39, 328, 6, 446, 13, 20, 1339, 42, 18, 20, 30, 9, 1284, 1252, 53, 18, 1284, 42, 2, 446, 1252, 1345, 1252, 34, 1222, 10, 1222, 24, 11, 55, 37, 53, 1339, 1339, 847, 1, 39, 17, 53, 847, 11, 23, 1339, 9, 33, 20, 1345, 1339, 1339, 1345, 328, 48, 1345, 1339, 0, 31, 34, 1339, 2, 57, 1345, 446, 48, 333, 48, 31, 36, 20, 1339, 328, 42, 42, 847, 34, 36, 1107, 30, 446, 6, 39, 333, 11, 39, 11, 2, 34, 333, 446, 20, 38, 36, 9, 328, 333, 1345, 51, 1345, 446, 21, 1107, 446, 0, 847, 121, 446, 23, 56, 53, 42, 1284, 56, 446, 54, 446, 5, 9, 847, 31, 31, 1345, 1751, 1593, 11, 42, 6, 328, 31, 17, 42, 23, 30, 847, 42, 1252, 446, 59, 446, 8, 1345, 1284, 54, 333, 2, 11, 1339, 39, 53, 847, 1252, 42, 55, 446, 1252, 0, 24, 23, 23, 30, 1, 30, 42, 31, 12, 847, 1, 333, 12, 446, 333, 1222, 36, 42, 9, 22, 23, 47, 54, 6, 1345, 1284, 333, 446, 21, 1252, 9, 1284, 21, 10, 21, 53, 446, 10, 446, 6, 446, 31, 42, 328, 34, 48, 54, 31, 20, 36, 1345, 333, 42, 55, 10, 446, 2, 53, 31, 23, 1284, 21, 55, 42, 24, 446, 18, 6, 55, 20, 1222, 55, 18, 446, 12, 1, 1284, 9, 53, 1, 53, 48, 47, 42, 30, 333, 1252, 34, 42, 45, 17, 55, 23, 39, 55, 333, 53, 11, 18, 0, 48, 10, 1222, 847, 1345, 12, 328, 847, 20, 30, 446, 48, 0, 1222, 328, 1107, 24, 9, 328, 121, 20, 328, 34, 55, 328, 31, 10, 31, 446, 6, 38, 23, 1, 1107, 53, 55, 1284, 11, 9, 48, 6, 55, 9, 38, 446, 1, 54, 9, 54, 847, 55, 9, 38, 48, 37, 42, 55, 48, 0, 18, 1339, 11, 1339, 1593, 446, 1222, 31, 48, 1593, 31, 54, 446, 56, 0, 328, 446, 6, 9, 847, 31, 1284, 1345, 446, 847, 11, 328, 446, 30, 42, 1284, 6, 48, 54, 40, 333, 31, 1339, 1593, 333, 55, 17, 21, 2, 2, 446, 42, 31, 55, 47, 0, 1107, 55, 58, 6, 31, 17, 20, 34, 1284, 9, 12, 37, 36, 10, 34, 328, 10, 446, 31, 847, 1593, 1339, 1107, 34, 446, 6, 12, 34, 21, 31, 42, 328, 9, 1222, 10, 23, 39, 333, 53, 42, 6, 34, 446, 847, 2, 1345, 1345, 11, 55, 1345, 446, 38, 59, 328, 1, 42, 1252, 1593, 55, 31, 446, 1339, 328, 9, 17, 59, 1593, 1751, 34, 1593, 48, 333, 47, 57, 1345, 48, 2, 34, 31, 1107, 53, 847, 446, 34, 42, 34, 30, 1252, 1345, 1284, 1107, 9, 1252, 328, 1, 1107, 9, 10, 55, 8, 2, 1751, 1339, 446, 59, 54, 333, 333, 6, 2, 40, 6, 31, 20, 37, 21, 1284, 11, 1751, 1252, 31, 446, 42, 54, 54, 446, 446, 10, 1284, 1252, 0, 328, 446, 328, 21, 55, 6, 53, 31, 446, 53, 1751, 1339, 38, 37, 31, 9, 39, 328, 9, 328, 8, 1345, 21, 1284, 8, 42, 1345, 1284, 38, 446, 10, 6, 31, 0, 121, 1345, 328, 6, 11, 1252, 53, 11, 21, 1339, 17, 121, 10, 1593, 1284, 1252, 24, 47, 17, 8, 38, 1339, 328, 6, 53, 2, 9, 328, 12, 11, 11, 34, 22, 328, 328, 20, 21, 333, 31, 2, 121, 847, 37, 446, 38, 42, 6, 54, 1345, 21, 31, 42, 57, 31, 1345, 1345, 31, 17, 2, 328, 20, 24, 1593, 446, 48, 1284, 53, 1345, 9, 54, 34, 333, 56, 12, 44, 34, 446, 24, 1252, 6, 20, 37, 1345, 21, 34, 39, 47, 847, 6, 333, 1593, 36, 10, 58, 333, 17, 9, 333, 328, 55, 328, 121, 9, 6, 9, 38, 1345, 1339, 21, 38, 34, 446, 31, 446, 1339, 446, 31, 1345, 34, 6, 1345, 446, 57, 9, 9, 1, 53, 1593, 1751, 1339, 52, 6, 446, 1751, 847, 1345, 34, 1345, 9, 1339, 42, 1107, 1593, 328, 54, 48, 39, 121, 30, 328, 18, 1252, 1284, 847, 40, 0, 1284, 1, 446, 54, 847, 446, 38, 55, 1339, 6, 121, 1339, 31, 36, 9, 34, 17, 23, 23, 1222, 39, 36, 18, 121, 1339, 1, 333, 847, 9, 328, 333, 446, 328, 1345, 328, 446, 1593, 31, 34, 1284, 37, 1339, 1252, 3, 31, 54, 1345, 48, 847, 31, 11, 55, 328, 847, 43, 1339, 6, 1222, 328, 36, 121, 31, 328, 1252, 446, 56, 34, 31, 17, 328, 53, 31, 10, 20, 11, 1222, 54, 1345, 48, 328, 34, 21, 34, 1, 446, 36, 1, 54, 446, 1593, 1252, 847, 30, 54, 54, 1252, 33, 17, 34, 12, 1252, 20, 37, 21, 446, 21, 1345, 1284, 54, 6, 10, 10, 446, 1345, 31, 446, 1, 1284, 446, 23, 5, 446, 1, 10, 10, 1345, 53, 333, 38, 48, 38, 847, 1593, 1, 11, 1252, 42, 1345, 37, 9, 57, 17, 21, 23, 1751, 23, 446, 1593, 1284, 6, 1, 1345, 1345, 1107, 31, 24, 42, 1345, 1284, 42, 1252, 48, 1107, 51, 53, 9, 446, 446, 17, 446, 21, 333, 42, 1345, 12, 21, 1252, 24, 18, 328, 6, 54, 1345, 11, 1, 42, 31, 34, 43, 1284, 1345, 34, 34, 34, 1339, 446, 0, 1751, 48, 47, 446, 31, 10, 36, 48, 5, 21, 446, 53, 6, 6, 12, 446, 847, 333, 446, 17, 333, 8, 446, 1107, 44, 446, 53, 53, 446, 121, 1593, 18, 1345, 42, 1284, 31, 328, 1, 44, 31, 446, 17, 47, 1593, 1284, 1339, 1345, 23, 1, 31, 446, 9, 1345, 54, 1, 34, 39, 1107, 53, 31, 18, 1339, 24, 1107, 328, 34, 36, 12, 1222, 0, 1107, 1222, 12, 1252, 38, 18, 847, 42, 48, 23, 847, 333, 42, 9, 6, 21, 11, 1339, 333, 34, 53, 1222, 446, 55, 6, 57, 121, 1593, 55, 1222, 847, 6, 34, 1107, 42, 1339, 328, 1751, 847, 48, 34, 1339, 328, 446, 59, 446, 1345, 1252, 328, 34, 1593, 12, 6, 53, 1, 446, 48, 43, 1339, 1252, 24, 54, 35, 446, 12, 847, 23, 446, 446, 31, 9, 42, 42, 333, 48, 446, 36, 12, 31, 21, 54, 21, 42, 1339, 30, 31, 1593, 333, 20, 1252, 446, 1345, 37, 11, 9, 9, 1345, 1345, 1345, 1593, 1107, 1345, 6, 328, 21, 54, 446, 1107, 1751, 1222, 1345, 55, 1593, 31, 847, 42, 6, 847, 31, 42, 31, 24, 42, 42, 23, 40, 328, 54, 34, 9, 48, 36, 48, 446, 53, 1, 1345, 847, 1222, 40, 446, 9, 42, 1, 1252, 39, 121, 1751, 1345, 23, 1, 23, 121, 17, 52, 17, 31, 31, 6, 31, 1345, 34, 36, 1107, 1107, 37, 31, 52, 17, 21, 6, 1593, 1593, 59, 0, 44, 446, 34, 31, 1222, 38, 1284, 847, 36, 6, 847, 55, 42, 11, 1222, 446, 333, 1593, 328, 1, 36, 1345, 34, 34, 39, 18, 39, 42, 20, 446, 18, 37, 31, 18, 1222, 333, 328, 1339, 10, 446, 20, 17, 21, 53, 446, 1107, 446, 53, 42, 1751, 1593, 34, 1222, 39, 1252, 9, 38, 1345, 23, 11, 328, 17, 34, 11, 42, 42, 56, 34, 8, 328, 2, 1284, 847, 1284, 1593, 446, 31, 40, 10, 1252, 446, 18, 20, 6, 18, 847, 333, 1345, 1284, 1345, 333, 21, 10, 2, 1107, 54, 11, 22, 446, 328, 9, 6, 9, 17, 121, 0, 34, 847, 48, 11, 1284, 53, 9, 57, 6, 446, 12, 1, 55, 446, 18, 328, 121, 31, 12, 1, 1284, 328, 42, 1593, 446, 35, 34, 34, 1345, 23, 9, 1, 42, 11, 20, 1593, 1345, 1284, 48, 48, 1593, 10, 31, 446, 42, 34, 9, 446, 446, 20, 42, 12, 1751, 23, 1284, 446, 1345, 31, 12, 24, 9, 6, 328, 446, 53, 34, 1339, 1222, 37, 446, 37, 38, 9, 31, 11, 1252, 446, 47, 1, 1339, 23, 1107, 328, 20, 1345, 55, 446, 42, 9, 1593, 0, 1751, 1593, 20, 2, 1593, 446, 847, 30, 42, 48, 1339, 2, 6, 1222, 31, 31, 34, 1222, 446, 1252, 1, 20, 9, 328, 55, 333, 39, 23, 446, 328, 42, 31, 1593, 328, 55, 13, 328, 36, 1339, 36, 1339, 328, 1222, 446, 17, 31, 1593, 42, 9, 23, 446, 44, 48, 11, 847, 1284, 42, 56, 328, 10, 42, 6, 48, 121, 333, 446, 446, 55, 18, 9, 31, 1284, 42, 1107, 33, 48, 42, 42, 53, 6, 6, 57, 1593, 31, 40, 53, 6, 446, 20, 17, 333, 42, 55, 9, 18, 6, 34, 121, 11, 9, 1339, 1252, 1345, 223, 34, 53, 1339, 30, 10, 36, 9, 11, 31, 446, 847, 1284, 1345, 446, 1284, 446, 42, 1751, 48, 39, 1284, 0, 1339, 1252, 21, 39, 21, 34, 38, 333, 328, 2, 1339, 328, 328, 1593, 55, 328, 9, 5, 2, 48, 42, 0, 31, 1345, 11, 1252, 1593, 1222, 24, 1345, 1222, 1339, 50, 847, 40, 21, 6, 1252, 1593, 333, 333, 446, 328, 38, 55, 31, 12, 6, 57, 36, 21, 1345, 55, 9, 18, 1339, 34, 847, 328, 1345, 24, 847, 30, 328, 17, 1222, 333, 31, 1252, 48, 2, 23, 1345, 31, 446, 446, 18, 446, 11, 23, 31, 1222, 53, 9, 34, 44, 48, 1593, 38, 446, 43, 54, 38, 1751, 328, 1345, 1345, 446, 42, 1252, 24, 24, 31, 20, 1252, 48, 1345, 21, 1284, 1284, 17, 0, 9, 1284, 23, 42, 53, 446, 31, 39, 446, 333, 1593, 11, 17, 48, 1593, 24, 1222, 1345, 1345, 11, 11, 1339, 18, 446, 34, 34, 333, 21, 1252, 446, 328, 0, 42, 446, 23, 6, 21, 9, 1222, 1593, 1, 31, 34, 446, 31, 18, 328, 53, 31, 42, 9, 31, 1345, 34, 1339, 446, 38, 54, 54, 9, 446, 40, 446, 31, 1222, 31, 42, 1751, 52, 847, 446, 31, 847, 446, 34, 121, 12, 34, 1345, 847, 31, 39, 446, 21, 21, 1252, 42, 54, 31, 12, 37, 1222, 1339, 1345, 45, 1222, 328, 9, 1284, 17, 1345, 1345, 1252, 1, 1339, 847, 37, 9, 847, 31, 17, 21, 6, 1345, 1345, 31, 446, 36, 23, 0, 1345, 0, 24, 328, 1345, 6, 446, 53, 446, 9, 1345, 446, 1751, 1751, 1, 55, 11, 42, 48, 1345, 9, 44, 21, 9, 17, 11, 847, 48, 24, 53, 42, 121, 2, 37, 24, 1284, 10, 21, 847, 1339, 31, 328, 24, 34, 12, 54, 11, 9, 55, 53, 36, 1107, 22, 328, 1284, 1339, 446, 328, 34, 20, 24, 24, 54, 55, 9, 48, 1222, 55, 42, 24, 31, 10, 847, 446, 48, 42, 48, 17, 34, 6, 18, 11, 34, 1284, 31, 57, 23, 1284, 1345, 1284, 328, 1751, 1593, 57, 9, 6, 12, 38, 446, 1284, 42, 30, 18, 42, 56, 8, 38, 44, 10, 31, 446, 446, 34, 1339, 10, 40, 27, 11, 328, 38, 328, 24, 34, 48, 446, 1345, 1, 23, 0, 1339, 12, 9, 59, 20, 17, 48, 1284, 847, 1107, 42, 1751, 9, 34, 12, 9, 446, 9, 446, 1252, 20, 34, 34, 42, 0, 37, 22, 1222, 121, 1284, 31, 39, 6, 1284, 1345, 847, 42, 31, 21, 1345, 10, 34, 21, 121, 36, 847, 1222, 121, 0, 847, 6, 31, 847, 1345, 39, 38, 1339, 48, 20, 51, 20, 54, 1345, 0, 446, 42, 446, 1345, 847, 0, 47, 1593, 54, 1339, 1345, 48, 17, 54, 20, 39, 1345, 38, 59, 24, 20, 21, 10, 11, 24, 55, 0, 446, 1252, 446, 1339, 42, 446, 17, 34, 42, 328, 1593, 24, 10, 36, 1345, 1345, 53, 1284, 8, 22, 24, 1345, 42, 48, 17, 1345, 11, 55, 42, 328, 847, 847, 59, 1339, 36, 1222, 10, 446, 42, 42, 1252, 333, 31, 9, 55, 1284, 446, 328, 121, 36, 39, 48, 1345, 1345, 9, 9, 42, 333, 55, 6, 1252, 1107, 20, 328, 48, 1222, 53, 21, 1345, 42, 18, 20, 446, 847, 847, 30, 12, 6, 847, 1345, 34, 21, 37, 54, 9, 328, 42, 31, 57, 31, 31, 6, 43, 1345, 446, 12, 24, 8, 31, 6, 847, 11, 12, 1284, 1284, 42, 21, 1339, 847, 1222, 34, 9, 31, 17, 39, 9, 847, 48, 847, 9, 6, 1, 10, 847, 2, 39, 446, 54, 8, 34, 328, 1345, 48, 45, 6, 18, 446, 18, 31, 1284, 11, 24, 31, 333, 6, 54, 333, 1345, 39, 31, 30, 9, 328, 10, 6, 21, 31, 1751, 1, 53, 328, 30, 0, 20, 333, 20, 57, 1252, 57, 121, 11, 31, 13, 42, 9, 31, 1252, 39, 31, 9, 55, 48, 333, 54, 1339, 11, 20, 2, 9, 121, 40, 1345, 42, 34, 1339, 6, 20, 6, 328, 31, 40, 36, 55, 23, 34, 121, 31, 48, 53, 34, 1593, 1107, 1339, 34, 446, 1345, 11, 847, 446, 6, 121, 446, 1, 446, 1, 34, 38, 6, 847, 9, 1284, 9, 17, 6, 18, 54, 1751, 2, 446, 36, 31, 30, 1222, 1284, 24, 1339, 1751, 10, 1339, 10, 20, 35, 1339, 1284, 53, 42, 328, 56, 42, 1222, 11, 39, 55, 1593, 333, 1107, 333, 11, 1345, 42, 328, 30, 1252, 38, 34, 9, 1, 34, 0, 2, 328, 9, 20, 21, 9, 1252, 59, 42, 20, 30, 446, 21, 18, 54, 1593, 17, 1345, 36, 1751, 30, 38, 21, 31, 333, 1107, 59, 55, 1, 333, 42, 333, 6, 333, 847, 847, 34, 12, 58, 333, 333, 1339, 31, 18, 58, 54, 847, 31, 1107, 55, 34, 1339, 34, 1252, 446, 34, 2, 38, 31, 48, 34, 121, 42, 44, 333, 31, 31, 446, 42, 1, 37, 34, 5, 328, 21, 1751, 48, 446, 1284, 1593, 446, 446, 33, 847, 6, 328, 53, 446, 48, 31, 1107, 11, 9, 34, 446, 446, 446, 18, 18, 6, 446, 1593, 17, 121, 328, 12, 1345, 53, 56, 1252, 333, 1252, 50, 1339, 1107, 6, 11, 1751, 39, 1252, 34, 48, 1339, 1, 1339, 328, 1339, 847, 31, 121, 1345, 847, 20, 53, 20, 8, 446, 42, 55, 59, 1593, 36, 1252, 333, 57, 6, 333, 48, 328, 30, 1107, 17, 34, 1107, 57, 42, 30, 847, 24, 121, 1593, 48, 9, 6, 847, 47, 9, 5, 31, 42, 30, 11, 446, 24, 34, 9, 446, 1593, 446, 34, 11, 1593, 847, 1252, 6, 847, 121, 1284, 48, 1, 121, 6, 328, 446, 30, 56, 18, 2, 446, 54, 446, 1252, 1252, 42, 56, 42, 21, 31, 31, 10, 9, 0, 1252, 8, 847, 31, 31, 42, 1, 20, 38, 2, 9, 9, 38, 47, 53, 1345, 21, 17, 48, 42, 328, 53, 446, 30, 44, 1222, 847, 333, 0, 44, 20, 21, 333, 12, 1222, 42, 22, 24, 54, 31, 328, 847, 847, 20, 1345, 31, 21, 8, 1345, 23, 31, 21, 1345, 446, 42, 1222, 0, 38, 328, 8, 1, 6, 48, 55, 48, 6, 1222, 30, 42, 2, 223, 10, 847, 446, 31, 446, 328, 446, 333, 47, 446, 446, 6, 847, 1252, 31, 42, 446, 13, 2, 42, 847, 18, 6, 1339, 446, 30, 1284, 1345, 42, 31, 2, 9, 1284, 42, 51, 34, 1339, 36, 847, 31, 333, 31, 847, 1107, 2, 328, 333, 1345, 328, 328, 1252, 6, 1339, 1252, 48, 9, 328, 1284, 1345, 1284, 9, 6, 1345, 1252, 23, 53, 11, 48, 6, 34, 39, 333, 42, 18, 20, 11, 8, 20, 42, 9, 1107, 9, 34, 9, 1593, 446, 1751, 11, 10, 56, 1339, 121, 53, 847, 6, 446, 20, 1284, 34, 1339, 10, 1339, 55, 38, 17, 6, 328, 39, 847, 42, 48, 1222, 12, 22, 1339, 9, 847, 6, 1, 446, 1107, 42, 24, 42, 53, 1593, 446, 17, 55, 31, 1252, 847, 1284, 20, 37, 1284, 1593, 328, 847, 847, 37, 1345, 1252, 39, 328, 847, 42, 18, 328, 34, 31, 0, 1345, 328, 1222, 328, 13, 1284, 38, 56, 23, 48, 1284, 9, 47, 0, 446, 446, 847, 23, 1284, 10, 333, 30, 1222, 6, 53, 1345, 0, 1252, 1252, 328, 1252, 333, 31, 121, 11, 333, 38, 34, 38, 8, 446, 1, 1345, 42, 20, 847, 333, 6, 1252, 12, 9, 1252, 1284, 55, 847, 847, 121, 1252, 21, 1, 1252, 11, 18, 36, 57, 847, 42, 1284, 48, 23, 1339, 1345, 34, 6, 446, 34, 1593, 328, 847, 34, 328, 34, 8, 1593, 34, 1339, 1345, 37, 847, 1345, 36, 21, 55, 333, 11, 446, 328, 10, 1107, 42, 446, 57, 47, 1751, 31, 36, 847, 31, 1345, 1284, 48, 10, 42, 1345, 53, 27, 333, 328, 446, 25, 1345, 31, 1345, 1345, 21, 20, 42, 24, 328, 18, 328, 20, 21], 'Code_1': [886, 1944, 856, 1965, 1278, 981, 26, 436, 3, 738, 945, 431, 417, 504, 1324, 473, 973, 744, 196, 421, 732, 200, 986, 1391, 1740, 1371, 1362, 957, 1237, 1460, 1015, 1362, 1449, 457, 945, 1404, 668, 826, 257, 41, 1097, 3, 809, 1276, 659, 991, 234, 797, 1359, 1301, 1406, 520, 486, 871, 228, 642, 930, 976, 1074, 1187, 221, 1191, 1131, 159, 1276, 741, 606, 1274, 643, 1318, 926, 1638, 321, 1072, 970, 486, 1058, 633, 1237, 1054, 1203, 119, 792, 1740, 365, 586, 1100, 1278, 1356, 436, 604, 861, 1939, 871, 71, 685, 1297, 268, 639, 1078, 314, 59, 595, 472, 975, 992, 77, 408, 860, 1077, 458, 463, 1276, 204, 159, 941, 1094, 658, 1104, 1359, 71, 1445, 1314, 166, 772, 436, 520, 1445, 1207, 658, 1440, 1298, 264, 243, 1015, 1161, 639, 1665, 732, 263, 643, 512, 594, 715, 436, 972, 970, 830, 82, 1239, 1161, 1196, 1054, 1460, 106, 169, 902, 83, 934, 1207, 735, 1187, 3, 1099, 467, 563, 871, 1104, 1426, 564, 1153, 1788, 350, 363, 998, 1460, 1263, 436, 1131, 1387, 1097, 28, 59, 343, 194, 1387, 444, 495, 1460, 459, 1939, 1460, 1238, 1986, 359, 1457, 1096, 437, 1237, 1305, 1387, 15, 91, 163, 732, 66, 1159, 1415, 41, 613, 1786, 984, 125, 135, 1008, 856, 198, 1387, 1573, 545, 533, 1054, 1295, 1190, 204, 26, 1321, 1100, 436, 593, 161, 1171, 469, 52, 313, 606, 718, 350, 294, 952, 847, 1581, 1387, 1052, 751, 350, 1460, 546, 1190, 1393, 606, 1274, 1256, 369, 1460, 306, 998, 1367, 399, 1276, 121, 945, 181, 1291, 473, 323, 509, 643, 1099, 319, 1379, 206, 658, 495, 623, 1368, 658, 976, 1051, 33, 1338, 378, 1055, 103, 1460, 41, 140, 1001, 1790, 1099, 234, 209, 744, 745, 1452, 474, 1324, 204, 697, 511, 1337, 72, 510, 1665, 411, 376, 1388, 827, 1460, 1077, 1445, 1324, 530, 1215, 512, 695, 226, 1351, 358, 863, 648, 241, 74, 558, 1220, 436, 66, 1181, 1609, 469, 941, 772, 715, 1227, 363, 350, 50, 1460, 1275, 1790, 1367, 1190, 1117, 1192, 206, 810, 974, 471, 243, 517, 500, 1161, 1099, 1393, 330, 321, 759, 1388, 1050, 1196, 930, 1103, 1386, 299, 1153, 595, 57, 926, 510, 633, 1765, 1276, 1035, 658, 306, 431, 237, 1298, 415, 790, 243, 1460, 1207, 1356, 1386, 432, 1077, 1515, 1225, 1139, 632, 1214, 1242, 990, 1054, 654, 1365, 1190, 270, 892, 62, 772, 1453, 756, 74, 754, 644, 668, 1276, 643, 86, 1369, 1054, 161, 274, 533, 35, 188, 720, 44, 266, 1391, 1515, 848, 740, 1112, 1453, 606, 520, 751, 945, 733, 1276, 59, 1181, 356, 1581, 449, 941, 1701, 254, 756, 533, 98, 117, 1386, 992, 89, 1274, 1362, 161, 1338, 697, 741, 288, 780, 995, 140, 299, 1020, 1460, 759, 306, 659, 1249, 1404, 1627, 1007, 156, 690, 71, 159, 500, 1381, 181, 1104, 330, 1277, 545, 209, 1375, 606, 74, 1104, 74, 1305, 1381, 36, 3, 561, 1790, 1638, 1638, 1362, 1229, 1160, 678, 953, 643, 856, 581, 1190, 1324, 1381, 685, 648, 1896, 668, 172, 74, 948, 1131, 930, 970, 1153, 196, 1161, 643, 1362, 1266, 1235, 933, 1202, 941, 572, 471, 1337, 1460, 1460, 1253, 83, 536, 837, 1161, 819, 718, 414, 3, 104, 855, 118, 1110, 1305, 59, 466, 175, 57, 1238, 469, 313, 221, 505, 1, 299, 1144, 946, 1129, 593, 1222, 277, 1161, 1324, 520, 1944, 1054, 181, 1324, 566, 459, 121, 897, 1179, 1237, 206, 1221, 1275, 808, 274, 241, 685, 1454, 659, 131, 1224, 1203, 136, 856, 359, 687, 35, 300, 738, 1078, 1460, 1372, 511, 646, 1460, 1790, 1403, 1460, 495, 1324, 1368, 1325, 1239, 473, 830, 541, 1362, 1444, 808, 684, 66, 121, 1276, 1231, 1153, 643, 41, 659, 1460, 82, 209, 606, 436, 494, 209, 1237, 1050, 790, 1362, 31, 318, 643, 1139, 510, 3, 715, 546, 589, 887, 1221, 563, 1449, 545, 1369, 1225, 264, 856, 72, 83, 946, 264, 1006, 788, 1446, 1039, 1476, 1237, 242, 720, 283, 162, 1719, 1092, 1719, 1122, 834, 672, 228, 1011, 38, 536, 1305, 228, 1427, 243, 1918, 235, 1048, 1208, 45, 75, 759, 693, 146, 74, 594, 1161, 1719, 1187, 1385, 957, 1944, 500, 375, 288, 856, 756, 1074, 1139, 1939, 871, 921, 1220, 1365, 1237, 998, 82, 243, 1237, 82, 459, 894, 1048, 1305, 819, 1363, 1386, 1362, 1524, 948, 991, 76, 758, 1018, 1237, 530, 1387, 1274, 1276, 1054, 1187, 931, 733, 558, 573, 1054, 684, 82, 1424, 245, 1129, 1202, 816, 819, 411, 44, 998, 1005, 1581, 311, 1719, 923, 1276, 1449, 1446, 70, 1110, 1096, 1237, 1297, 160, 1263, 1375, 658, 1306, 690, 1131, 1015, 969, 1276, 1790, 855, 1449, 42, 920, 658, 1238, 56, 1581, 151, 1247, 1460, 1242, 1065, 1104, 609, 1460, 107, 648, 685, 934, 263, 546, 597, 530, 955, 668, 1276, 1002, 493, 429, 1460, 1627, 606, 236, 166, 1790, 94, 524, 1290, 321, 1524, 1204, 484, 1965, 209, 871, 206, 467, 3, 1078, 558, 82, 992, 727, 71, 1460, 1123, 744, 1324, 1381, 415, 1011, 1533, 156, 38, 658, 1209, 1581, 1104, 44, 1286, 1386, 1161, 229, 1362, 204, 1559, 1050, 1390, 659, 1356, 983, 1063, 1740, 659, 1362, 597, 217, 1266, 29, 157, 299, 802, 20, 1430, 98, 140, 399, 212, 946, 1362, 50, 1393, 1145, 398, 1245, 1939, 804, 865, 855, 82, 1788, 1362, 594, 1052, 397, 1054, 343, 1191, 231, 466, 1740, 556, 1190, 20, 235, 1139, 1153, 1719, 715, 1074, 388, 738, 866, 209, 1367, 1062, 1070, 871, 1460, 819, 1457, 1074, 1944, 399, 1740, 330, 1460, 1422, 1390, 1188, 221, 901, 1015, 376, 643, 1054, 948, 1065, 1338, 1276, 685, 1081, 1274, 1460, 946, 239, 399, 745, 1445, 244, 1235, 1381, 299, 268, 1134, 970, 3, 274, 10, 998, 659, 1288, 461, 1581, 314, 1161, 1196, 198, 1291, 1362, 71, 1273, 1740, 533, 62, 769, 1368, 762, 894, 1072, 1524, 1362, 879, 606, 314, 169, 1112, 82, 949, 701, 1074, 38, 790, 1001, 545, 1307, 758, 1387, 767, 1237, 659, 1077, 643, 1390, 1362, 1129, 95, 3, 359, 20, 1161, 646, 1356, 183, 1219, 1141, 26, 938, 871, 569, 1276, 1362, 82, 495, 1129, 1282, 82, 1238, 696, 39, 1019, 1460, 804, 983, 998, 332, 504, 212, 358, 541, 74, 591, 209, 504, 541, 1095, 1279, 209, 460, 529, 432, 855, 718, 941, 563, 152, 1281, 541, 1524, 789, 1008, 920, 1054, 1235, 633, 1020, 1054, 1452, 71, 38, 745, 279, 420, 395, 1381, 1827, 74, 509, 430, 106, 1206, 1338, 1171, 160, 527, 1326, 512, 1446, 658, 209, 1394, 597, 1944, 1369, 606, 26, 1087, 28, 1279, 1460, 1213, 569, 1939, 205, 643, 1161, 1008, 1719, 73, 337, 169, 823, 474, 26, 1362, 173, 245, 1161, 569, 1944, 1397, 646, 855, 48, 1274, 1084, 1102, 871, 569, 633, 231, 332, 1161, 37, 1777, 1136, 239, 1303, 1171, 1460, 15, 1719, 1078, 504, 1387, 980, 204, 363, 1307, 871, 1078, 1360, 527, 279, 1788, 733, 254, 283, 82, 383, 1254, 833, 1249, 1422, 1352, 1720, 1276, 1161, 695, 1581, 365, 1387, 1986, 224, 1446, 1100, 1790, 722, 960, 1204, 739, 1384, 356, 1638, 1339, 1444, 597, 847, 983, 923, 1044, 1221, 1460, 901, 436, 1367, 1140, 1302, 1044, 1408, 635, 1460, 788, 823, 1264, 541, 1237, 1035, 121, 827, 654, 969, 621, 1386, 1170, 994, 1362, 871, 1460, 267, 1065, 1054, 1381, 408, 1118, 441, 1131, 1790, 946, 1986, 381, 1161, 778, 303, 337, 1008, 158, 948, 268, 1159, 758, 1939, 946, 648, 1359, 1161, 660, 1379, 1063, 1237, 1279, 243, 1207, 991, 923, 820, 668, 1460, 314, 902, 1096, 1288, 1140, 769, 957, 263, 237, 75, 1324, 658, 1259, 524, 1121, 1360, 196, 1431, 1359, 1050, 98, 1318, 1953, 590, 8, 313, 1054, 1221, 1318, 1054, 1362, 399, 1011, 816, 1206, 603, 1196, 643, 135, 755, 209, 1740, 345, 1250, 593, 921, 1104, 71, 44, 494, 945, 664, 1161, 1080, 106, 941, 1427, 1285, 1004, 869, 633, 685, 1351, 840, 74, 1077, 509, 1516, 1788, 479, 1445, 1581, 159, 313, 644, 946, 255, 41, 1302, 601, 788, 1362, 250, 970, 1205, 618, 103, 998, 618, 799, 715, 414, 2009, 1024, 697, 865, 639, 1301, 1413, 727, 690, 1431, 658, 772, 926, 818, 1235, 1740, 558, 1054, 1161, 181, 399, 1227, 517, 506, 1019, 1460, 181, 687, 436, 1207, 1701, 1104, 1356, 1179, 1281, 1099, 544, 512, 569, 1072, 732, 159, 1266, 1159, 38, 170, 1341, 1054, 38, 1387, 73, 168, 561, 778, 1581, 1305, 591, 381, 1362, 1074, 1644, 159, 1347, 844, 1777, 648, 975, 229, 1388, 448, 1944, 1097, 228, 1206, 936, 569, 946, 975, 970, 241, 1455, 1054, 1274, 271, 1581, 825, 414, 1242, 1460, 1123, 303, 639, 520, 364, 1330, 1104, 751, 1581, 70, 1054, 1415, 38, 361, 265, 970, 314, 1131, 573, 500, 789, 5, 1035, 364, 1740, 217, 1872, 1239, 1719, 1017, 8, 1069, 569, 5, 1219, 1097, 1131, 606, 712, 283, 643, 299, 203, 1381, 953, 798, 894, 543, 1324, 1460, 8, 1210, 1460, 732, 1986, 1310, 953, 352, 1, 388, 1104, 1188, 573, 1215, 1288, 1129, 1460, 851, 343, 395, 809, 243, 643, 685, 654, 1939, 1685, 1353, 1206, 1132, 1977, 38, 459, 1460, 1944, 1103, 432, 323, 1074, 1008, 1227, 1431, 1397, 430, 234, 330, 307, 765, 1104, 224, 1460, 299, 998, 1020, 313, 1396, 458, 1986, 960, 1202, 1074, 9, 343, 1276, 788, 1268, 463, 151, 257, 1276, 694, 313, 298, 658, 1072, 229, 257, 241, 1035, 1050, 685, 140, 40, 998, 767, 161, 1142, 1460, 813, 482, 129, 659, 319, 461, 657, 1300, 73, 236, 1261, 1449, 996, 739, 1104, 635, 1365, 1274, 1274, 88, 1187, 473, 974, 1356, 1235, 606, 1324, 1043, 759, 576, 1161, 1249, 762, 52, 558, 762, 314, 1324, 1161, 1097, 1307, 1460, 1282, 1104, 871, 74, 275, 56, 1024, 1297, 82, 1188, 1096, 86, 1217, 1225, 658, 313, 1103, 676, 1362, 809, 1358, 332, 1142, 1279, 1581, 399, 56, 995, 772, 606, 1190, 411, 1074, 57, 701, 1054, 633, 459, 1054, 1129, 74, 374, 1460, 938, 385, 384, 1144, 369, 687, 1460, 1476, 1276, 1311, 975, 1362, 254, 1777, 1324, 1397, 1234, 915, 639, 1103, 1099, 194, 460, 299, 972, 595, 759, 299, 270, 1460, 275, 1054, 1364, 1095, 206, 1117, 474, 1413, 1224, 1100, 756, 283, 897, 1128, 494, 11, 1054, 871, 63, 1274, 1420, 399, 945, 26, 1427, 1277, 1352, 1719, 1069, 1533, 437, 67, 1460, 1096, 274, 1337, 243, 871, 1011, 540, 1101, 871, 203, 374, 751, 1581, 1460, 1420, 1353, 1050, 572, 1516, 550, 1516, 277, 313, 1017, 1054, 1103, 1054, 1081, 1806, 1276, 586, 520, 513, 70, 241, 520, 759, 36, 558, 38, 1194, 1054, 930, 1227, 1093, 1263, 237, 48, 166, 1188, 778, 1276, 1129, 1362, 124, 140, 1336, 1206, 648, 1054, 1429, 38, 1171, 658, 277, 130, 1302, 190, 1128, 1188, 126, 659, 1369, 951, 229, 984, 1423, 1719, 231, 159, 1298, 1362, 747, 902, 1187, 618, 648, 58, 563, 1944, 1324, 1123, 1276, 1104, 871, 226, 1460, 945, 1129, 274, 930, 1179, 1274, 332, 1305, 48, 480, 1161, 942, 639, 1276, 1268, 1001, 803, 1054, 1324, 1365, 938, 1353, 769, 1227, 405, 1411, 572, 470, 1274, 1043, 41, 658, 263, 1460, 458, 409, 1221, 478, 254, 1288, 1221, 531, 1765, 903, 1305, 118, 648, 931, 264, 128, 520, 1002, 1179, 1054, 156, 1104, 1827, 904, 946, 509, 313, 659, 601, 623, 399, 1406, 1298, 74, 1324, 1325, 1131, 1297, 758, 288, 83, 399, 1318, 948, 1224, 1835, 1885, 1524, 1065, 435, 571, 436, 1515, 718, 169, 1001, 204, 1142, 48, 313, 830, 181, 263, 383, 1059, 1356, 1275, 1351, 644, 923, 398, 546, 659, 1167, 1050, 1885, 949, 809, 1850, 411, 1161, 63, 1460, 1453, 437, 1326, 1291, 1975, 1581, 330, 732, 778, 1078, 28, 1321, 856, 1276, 1371, 1159, 1194, 1263, 621, 639, 1142, 948, 88, 586, 1790, 536, 1142, 856, 82, 1249, 718, 1131, 1460, 995, 489, 209, 459, 1059, 1417, 1014, 1312, 1644, 1054, 1291, 1190, 658, 550, 364, 1388, 904, 1153, 1326, 288, 1581, 307, 429, 856, 941, 1362, 1131, 163, 279, 715, 758, 1054, 759, 1202, 1044, 953, 871, 203, 480, 1301, 470, 1278, 1387, 459, 195, 1238, 62, 103, 1374, 46, 1338, 1305, 1054, 2045, 261, 1139, 330, 82, 1142, 40, 510, 923, 270, 430, 595, 1371, 332, 237, 606, 1237, 1054, 1054, 809, 871, 330, 1276, 1314, 1035, 753, 892, 1099, 992, 1099, 1364, 1263, 866, 1362, 1203, 1460, 1001, 35, 1096, 467, 1067, 730, 197, 648, 1387, 140, 1048, 473, 1806, 431, 106, 1245, 639, 727, 609, 432, 1460, 1454, 1324, 1104, 715, 1790, 623, 930, 866, 44, 1369, 1208, 242, 168, 654, 597, 15, 231, 206, 20, 753, 621, 543, 1052, 869, 1885, 436, 1054, 569, 1142, 1054, 38, 375, 1986, 359, 543, 1581, 564, 589, 209, 157, 1099, 860, 163, 28, 733, 379, 725, 1460, 1359, 82, 732, 106, 1074, 1298, 571, 243, 945, 690, 88, 494, 960, 159, 1345, 1276, 995, 712, 581, 1096, 445, 1007, 1362, 82, 205, 1206, 643, 659, 1029, 1187, 35, 203, 1054, 124, 1401, 1103, 546, 430, 720, 862, 1153, 854, 901, 1638, 82, 381, 1206, 1386, 718, 1021, 639, 1850, 606, 659, 375, 476, 1276, 374, 1050, 711, 1050, 1391, 889, 1072, 1909, 1306, 1360, 1054, 181, 1276, 397, 1276, 70, 1074, 1044, 1362, 1435, 1161, 1112, 1740, 941, 1403, 931, 588, 1275, 894, 1141, 866, 1460, 242, 1250, 957, 536, 74, 363, 194, 1806, 152, 1179, 341, 159, 695, 1362, 1276, 1459, 1276, 658, 26, 487, 74, 533, 595, 1187, 871, 1460, 169, 74, 1209, 995, 715, 894, 358, 259, 143, 879, 1011, 1353, 71, 1175, 299, 244, 319, 1273, 1238, 237, 1790, 536, 270, 690, 1104, 1397, 1305, 1581, 1460, 375, 90, 930, 1276, 13, 643, 411, 56, 1359, 1237, 658, 819, 637, 505, 2, 1274, 397, 70, 797, 530, 1190, 690, 420, 894, 1237, 441, 1046, 127, 1131, 996, 209, 813, 1054, 1362, 643, 643, 865, 1276, 693, 1638, 1454, 1143, 288, 657, 1288, 720, 1220, 1161, 239, 168, 586, 904, 1276, 606, 767, 1067, 1054, 217, 1665, 758, 585, 1070, 812, 641, 414, 196, 1453, 1583, 606, 3, 725, 799, 1387, 780, 1362, 56, 458, 804, 1065, 1347, 1460, 1103, 1291, 1054, 1337, 124, 399, 563, 1123, 1460, 855, 343, 363, 265, 57, 818, 980, 1172, 1404, 378, 1380, 1179, 1035, 270, 576, 1103, 337, 140, 226, 103, 1197, 1008, 1067, 561, 992, 26, 332, 1835, 127, 1362, 494, 403, 643, 1219, 82, 178, 1918, 1305, 140, 159, 270, 89, 606, 1740, 1460, 1460, 329, 313, 633, 659, 321, 720, 369, 693, 59, 1390, 639, 1190, 1452, 777, 74, 1065, 288, 1307, 1321, 1581, 63, 902, 1069, 1237, 411, 71, 1072, 1460, 329, 35, 264, 1077, 1460, 639, 138, 1337, 1391, 429, 341, 1460, 1208, 1324, 74, 387, 1460, 203, 1104, 1054, 998, 464, 1245, 1790, 981, 59, 1460, 363, 1054, 1054, 330, 337, 409, 374, 1460, 442, 851, 1190, 332, 167, 868, 1460, 550, 1318, 1375, 1062, 1237, 957, 274, 665, 33, 1096, 332, 161, 458, 250, 1627, 756, 458, 1183, 1203, 263, 1104, 590, 1179, 396, 643, 760, 840, 274, 556, 429, 103, 1187, 37, 648, 38, 948, 161, 595, 1524, 758, 330, 321, 1356, 593, 168, 1918, 436, 1581, 1627, 274, 1446, 1460, 1431, 732, 458, 183, 1397, 509, 1274, 759, 1452, 36, 130, 82, 894, 209, 1102, 437, 38, 466, 947, 1276, 1790, 1420, 1054, 1939, 970, 1460, 411, 217, 287, 1806, 879, 1266, 1460, 1357, 1331, 1069, 973, 678, 59, 26, 1054, 1965, 1020, 231, 1161, 1460, 1104, 606, 933, 243, 639, 973, 1054, 941, 1318, 1777, 168, 809, 1242, 1188, 1237, 595, 1581, 76, 1581, 539, 597, 1460, 1307, 725, 288, 1353, 1221, 644, 1362, 1939, 1343, 587, 1307, 759, 623, 506, 1084, 1054, 1380, 1213, 865, 1939, 1159, 206, 851, 271, 1307, 74, 203, 128, 99, 727, 1207, 294, 229, 938, 1387, 1387, 127, 1788, 504, 1805, 606, 237, 1460, 610, 53, 1131, 758, 980, 990, 992, 658, 1015, 1386, 606, 1446, 955, 1050, 1015, 22, 1107, 1249, 1276, 236, 559, 1274, 802, 1324, 948, 801, 1457, 632, 606, 279, 459, 798, 629, 559, 62, 495, 1324, 1168, 1375, 740, 789, 75, 1054, 1581, 70, 718, 469, 242, 758, 1359, 654, 1020, 639, 299, 809, 405, 1054, 1362, 56, 1305, 159, 945, 330, 586, 71, 80, 729, 826, 558, 495, 1054, 368, 1011, 194, 184, 998, 162, 209, 1081, 469, 1387, 991, 1219, 1171, 867, 1790, 1397, 1460, 1001, 1790, 41, 1084, 381, 1247, 718, 106, 658, 432, 1341, 623, 572, 1209, 1986, 1287, 1035, 299, 82, 385, 1609, 556, 1161, 506, 1403, 758, 1411, 765, 1054, 668, 316, 1001, 1020, 1460, 1719, 157, 569, 865, 33, 1104, 438, 122, 1362, 381, 799, 363, 46, 926, 626, 836, 564, 1460, 1305, 1740, 234, 309, 1215, 183, 1059, 1279, 1324, 66, 237, 500, 1446, 685, 793, 1265, 1460, 1438, 1401, 530, 330, 1227, 221, 183, 97, 573, 135, 1359, 623, 243, 1425, 1276, 26, 71, 1581, 494, 183, 975, 1243, 1245, 606, 56, 855, 1161, 1918, 41, 1282, 347, 1850, 643, 1460, 1444, 1078, 1205, 1054, 1460, 788, 243, 606, 1386, 486, 871, 1054, 243, 668, 1357, 685, 332, 762, 1096, 1054, 1159, 71, 946, 460, 1123, 313, 903, 359, 1533, 643, 20, 606, 1054, 121, 1298, 436, 938, 847, 374, 606, 906, 41, 1460, 243, 270, 767, 1095, 513, 941, 241, 1142, 1425, 1460, 1104, 458, 558, 1266, 632, 1276, 1271, 980, 70, 1081, 71, 1123, 1276, 685, 1205, 525, 1337, 1131, 1449, 239, 1381, 1263, 1460, 1305, 341, 1104, 3, 1305, 263, 1117, 1190, 881, 1392, 936, 98, 1305, 1302, 1460, 290, 1081, 3, 1460, 1337, 603, 1054, 66, 809, 1159, 33, 697, 825, 1393, 1161, 22, 1103, 1104, 359, 955, 1139, 330, 1460, 1159, 159, 197, 70, 94, 1188, 865, 414, 915, 1015, 299, 164, 644, 234, 1318, 94, 52, 364, 1302, 254, 1054, 106, 1454, 659, 229, 1206, 944, 648, 946, 1627, 1161, 1123, 1077, 1121, 941, 547, 415, 818, 283, 1291, 1318, 826, 1386, 1303, 1071, 1081, 330, 1235, 217, 1054, 1054, 38, 1460, 1096, 1251, 124, 364, 1359, 618, 314, 334, 1023, 934, 462, 203, 1132, 71, 930, 473, 453, 1190, 1460, 649, 606, 209, 505, 1282, 1142, 237, 856, 1364, 70, 957, 1224, 270, 1375, 1414, 563, 82, 103, 510, 518, 1069, 1207, 58, 762, 73, 793, 71, 639, 1054, 209, 1282, 469, 643, 648, 897, 1366, 1217, 930, 1362, 1206, 1221, 1267, 1237, 659, 897, 221, 8, 563, 88, 369, 1939, 263, 277, 1139, 536, 73, 264, 316, 183, 727, 1081, 1054, 1054, 658, 1460, 320, 1207, 1192, 1206, 460, 1337, 1002, 35, 1986, 334, 461, 1790, 63, 1238, 103, 513, 1276, 1271, 330, 1460, 82, 1202, 318, 676, 163, 167, 129, 1302, 616, 712, 495, 500, 376, 1274, 333, 697, 1188, 243, 231, 1054, 1104, 1196, 1460, 435, 279, 1394, 583, 945, 904, 166, 718, 8, 203, 359, 106, 1291, 998, 1460, 82, 1581, 897, 506, 788, 1460, 1305, 343, 1444, 1054, 107, 74, 431, 1740, 1001, 1665, 1202, 131, 1609, 1460, 1093, 469, 209, 330, 851, 815, 809, 330, 1265, 1104, 1324, 1460, 995, 75, 970, 1221, 1054, 1065, 1276, 1203, 1449, 1777, 825, 337, 1141, 1406, 1460, 1291, 74, 1054, 71, 955, 1986, 659, 265, 1104, 948, 1273, 1276, 28, 168, 1249, 243, 230, 668, 1187, 268, 319, 436, 983, 984, 398, 1276, 1238, 751, 1001, 983, 856, 788, 53, 644, 1944, 430, 658, 732, 802, 1286, 341, 88, 856, 983, 727, 1460, 924, 231, 1516, 1074, 1887, 166, 1161, 856, 906, 1054, 1129, 330, 140, 1806, 1460, 3, 663, 1380, 469, 520, 1144, 267, 74, 119, 66, 1274, 1050, 621, 38, 52, 1394, 124, 1208, 299, 473, 431, 984, 1080, 458, 479, 1362, 1069, 759, 1104, 209, 1052, 1181, 206, 504, 292, 1238, 41, 789, 1386, 500, 984, 83, 1403, 1944, 1276, 1305, 1044, 3, 166, 1225, 767, 1231, 470, 38, 484, 1052, 321, 166, 70, 40, 74, 1460, 38, 983, 288, 756, 1788, 117, 626, 66, 1415, 871, 868, 1128, 1123, 697, 948, 242, 375, 1266, 926, 520, 871, 983, 387, 995, 1054, 1515, 1103, 1318, 200, 321, 659, 1374, 469, 75, 1059, 630, 1054, 1054, 381, 143, 22, 1142, 211, 1224, 930, 891, 1276, 360, 823, 1719, 1054, 1362, 765, 1170, 820, 77, 1252, 658, 752, 606, 601, 66, 1243, 1944, 1295, 533, 753, 663, 203, 1965, 1221, 1054, 135, 1460, 788, 871, 1408, 411, 82, 1008, 441, 1011, 715, 183, 568, 131, 658, 203, 1160, 1103, 690, 299, 643, 799, 1099, 1454, 1237, 1028, 473, 1386, 510, 1309, 618, 363, 643, 512, 629, 181, 957, 1222, 1247, 436, 871, 901, 740, 901, 597, 1444, 820, 1276, 321, 1054, 82, 379, 1364, 121, 642, 597, 397, 856, 110, 1175, 359, 241, 1965, 1103, 44, 1588, 1239, 3, 341, 231, 66, 434, 169, 856, 1460, 1020, 1276, 838, 889, 1460, 1427, 1627, 1103, 83, 403, 166, 1129, 704, 1015, 1015, 1129, 1401, 1444, 432, 1183, 243, 299, 236, 106, 1015, 1133, 1007, 933, 1305, 906, 946, 489, 1268, 648, 439, 263, 1790, 161, 1245, 658, 71, 1324, 1353, 363, 871, 1460, 1190, 1098, 369, 854, 159, 1324, 1277, 674, 658, 1188, 1362, 595, 1806, 1292, 140, 135, 313, 124, 1222, 283, 909, 1362, 1939, 320, 546, 1054, 1362, 1381, 467, 394, 644, 1638, 203, 536, 1413, 798, 369, 658, 228, 243, 82, 130, 437, 1063, 1362, 1277, 402, 1387, 1719, 11, 1095, 668, 1074, 1104, 319, 1187, 94, 1179, 243, 1413, 254, 203, 968, 1044, 658, 1093, 274, 621, 495, 495, 16, 639, 650, 644, 788, 183, 74, 1413, 1240, 1054, 1358, 384, 1078, 1305, 928, 646, 416, 762, 509, 1387, 1231, 172, 288, 1359, 1309, 593, 411, 732, 332, 536, 790, 788, 668, 1326, 270, 1362, 826, 1324, 1170, 1203, 130, 332, 789, 330, 953, 715, 38, 1609, 241, 1035, 398, 1097, 1098, 936, 52, 298, 229, 879, 70, 59, 343, 643, 1274, 1298, 159, 1139, 560, 97, 159, 1102, 46, 595, 183, 1080, 1406, 906, 1044, 98, 374, 480, 705, 1190, 668, 820, 767, 348, 299, 578, 623, 82, 998, 1298, 411, 973, 1356, 1081, 71, 1460, 1324, 106, 203, 1460, 762, 992, 1276, 130, 1054, 1397, 1279, 72, 664, 1381, 206, 941, 1050, 432, 569, 990, 915, 941, 1276, 1054, 846, 1235, 1427, 980, 3, 1323, 1072, 1386, 1023, 1460, 145, 270, 26, 251, 1035, 277, 243, 330, 1141, 1245, 865, 41, 1485, 998, 685, 239, 696, 36, 809, 948, 243, 1190, 441, 871, 915, 643, 658, 1363, 1434, 633, 1276, 396, 140, 241, 799, 886, 59, 364, 1103, 1102, 573, 1460, 209, 282, 809, 1665, 789, 1362, 520, 976, 1583, 1151, 799, 1063, 639, 1375, 1379, 204, 206, 1104, 243, 1638, 1298, 1362, 1291, 1104, 510, 226, 953, 659, 639, 536, 948, 184, 658, 1288, 1104, 1237, 735, 1524, 643, 97, 71, 597, 1209, 71, 1242, 995, 70, 124, 1324, 589, 1086, 655, 411, 734, 1777, 313, 243, 685, 1127, 643, 260, 930, 209, 655, 704, 1460, 1035, 1056, 1054, 399, 436, 946, 1362, 930, 1281, 1460, 487, 1291, 926, 38, 38, 640, 1460, 1790, 1054, 648, 852, 161, 1460, 94, 891, 955, 1362, 49, 265, 313, 493, 901, 1139, 986, 1310, 1072, 226, 1069, 1411, 458, 1229, 788, 466, 11, 397, 458, 128, 992, 70, 203, 74, 862, 957, 569, 159, 1208, 56, 1374, 330, 825, 1325, 417, 765, 1056, 2046, 1368, 887, 711, 239, 1359, 209, 250, 1179, 1129, 381, 458, 658, 1188, 142, 1104, 177, 1790, 56, 1394, 871, 501, 1324, 1216, 1274, 819, 996, 1161, 337, 1005, 1460, 1285, 1627, 119, 1460, 332, 1460, 1287, 242, 1340, 1204, 886, 762, 946, 1202, 38, 1182, 210, 589, 732, 1099, 330, 745, 1393, 38, 1190, 399, 1070, 1460, 788, 970, 856, 988, 533, 278, 1237, 894, 1129, 970, 601, 896, 931, 946, 163, 74, 1188, 788, 606, 359, 1362, 595, 886, 980, 121, 244, 1307, 1197, 1515, 1123, 1245, 1190, 1080, 1161, 1318, 18, 350, 643, 690, 460, 35, 241, 618, 659, 902, 343, 558, 984, 166, 945, 1104, 623, 1235, 758, 1303, 1307, 1581, 482, 473, 1307, 1207, 1093, 63, 948, 1054, 299, 718, 1274, 1052, 623, 556, 1220, 616, 718, 1404, 49, 306, 1129, 226, 82, 1242, 409, 1274, 1104, 1054, 517, 1297, 1460, 1460, 365, 270, 1054, 1054, 1324, 571, 663, 414, 558, 1387, 3, 506, 889, 1237, 597, 758, 414, 1460, 369, 1326, 1100, 299, 1609, 595, 1221, 1286, 243, 1786, 1169, 436, 560, 1362, 668, 71, 874, 74, 904, 425, 1054, 1362, 1054, 209, 1276, 788, 88, 1237, 1386, 1171, 658, 1305, 38, 1362, 827, 658, 1100, 146, 994, 5, 343, 1102, 1206, 1100, 1153, 1138, 71, 229, 703, 241, 902, 1302, 495, 1015, 1356, 1381, 793, 1453, 986, 736, 1054, 663, 1224, 1446, 1393, 947, 1242, 283, 759, 1638, 1460, 1102, 767, 71, 71, 431, 436, 676, 49, 595, 732, 1362, 282, 758, 830, 871, 1001, 902, 237, 128, 505, 562, 203, 130, 313, 459, 82, 854, 82, 363, 685, 1054, 601, 1202, 1104, 59, 829, 1386, 241, 725, 751, 1282, 1362, 1069, 1104, 1011, 1277, 134, 1357, 341, 536, 856, 1719, 1387, 643, 894, 1008, 781, 396, 1052, 209, 1117, 73, 196, 643, 561, 364, 541, 268, 144, 1059, 1054, 1460, 436, 244, 697, 469, 1362, 1427, 469, 1100, 540, 948, 1285, 1369, 1216, 330, 135, 411, 668, 399, 704, 314, 1325, 586, 41, 589, 1460, 270, 82, 1276, 995, 1069, 271, 732, 361, 1298, 165, 970, 1326, 1885, 1237, 758, 595, 140, 1297, 325, 1295, 941, 264, 606, 768, 1944, 1161, 871, 648, 425, 423, 1103, 1268, 644, 1054, 1453, 515, 374, 74, 643, 1098, 586, 533, 1476, 823, 71, 1074, 205, 510, 1381, 1282, 243, 1007, 1287, 1394, 1790, 623, 806, 703, 830, 1297, 1097, 1361, 1067, 1235, 445, 643, 1777, 1341, 1274, 606, 145, 815, 889, 343, 211, 496, 1276, 1161, 449, 1362, 868, 74, 306, 1197, 1202, 82, 166, 1297, 1719, 83, 1202, 479]}\n"
     ]
    }
   ],
   "source": [
    "val = corpus['validation']\n",
    "df = {}\n",
    "for keys in ['vocab', 'start_idx', 'end_idx', 'quantization']:\n",
    "    print(keys)\n",
    "    print(val[keys][f'{LOG_IDX}'])\n",
    "    if keys == 'quantization':\n",
    "        for code in val[keys][f'{LOG_IDX}']:\n",
    "            df[code] = val[keys][f'{LOG_IDX}'][code]\n",
    "    else:\n",
    "        df[keys] = val[keys][f'{LOG_IDX}']"
   ]
  },
  {
   "cell_type": "code",
   "execution_count": 4,
   "metadata": {},
   "outputs": [],
   "source": [
    "import pandas as pd\n",
    "df = pd.DataFrame(df)\n",
    "df.start_idx = df.start_idx.astype(int)\n",
    "df.end_idx = df.end_idx.astype(int)"
   ]
  },
  {
   "cell_type": "code",
   "execution_count": 5,
   "metadata": {},
   "outputs": [
    {
     "data": {
      "text/plain": [
       "Code_0\n",
       "446     290\n",
       "31      207\n",
       "42      196\n",
       "328     195\n",
       "1345    191\n",
       "       ... \n",
       "50        2\n",
       "25        2\n",
       "41        1\n",
       "19        1\n",
       "4         1\n",
       "Name: count, Length: 64, dtype: int64"
      ]
     },
     "execution_count": 5,
     "metadata": {},
     "output_type": "execute_result"
    }
   ],
   "source": [
    "df.Code_0.value_counts()"
   ]
  },
  {
   "cell_type": "code",
   "execution_count": 9,
   "metadata": {},
   "outputs": [
    {
     "data": {
      "text/plain": [
       "Code_1\n",
       "1460    120\n",
       "1054     90\n",
       "1362     56\n",
       "1276     52\n",
       "1104     37\n",
       "643      34\n",
       "1161     34\n",
       "658      33\n",
       "82       32\n",
       "606      30\n",
       "Name: count, dtype: int64"
      ]
     },
     "execution_count": 9,
     "metadata": {},
     "output_type": "execute_result"
    }
   ],
   "source": [
    "df.Code_1.value_counts().head(10)"
   ]
  },
  {
   "cell_type": "code",
   "execution_count": 10,
   "metadata": {},
   "outputs": [
    {
     "data": {
      "application/vnd.jupyter.widget-view+json": {
       "model_id": "ec9e442abce94fd992939c674eae02a4",
       "version_major": 2,
       "version_minor": 0
      },
      "text/plain": [
       "  0%|          | 0/30 [00:00<?, ?it/s]"
      ]
     },
     "metadata": {},
     "output_type": "display_data"
    },
    {
     "name": "stdout",
     "output_type": "stream",
     "text": [
      "MoviePy - Building file analyze/quantization/606-9/FOTOKOPI_0_25_50.gif with imageio.\n"
     ]
    },
    {
     "name": "stderr",
     "output_type": "stream",
     "text": []
    },
    {
     "name": "stdout",
     "output_type": "stream",
     "text": [
      "MoviePy - Building file analyze/quantization/606-1252/BELGE_1_37_62.gif with imageio.\n"
     ]
    },
    {
     "name": "stderr",
     "output_type": "stream",
     "text": []
    },
    {
     "name": "stdout",
     "output_type": "stream",
     "text": [
      "MoviePy - Building file analyze/quantization/606-11/MUHTAR_0_29_54.gif with imageio.\n"
     ]
    },
    {
     "name": "stderr",
     "output_type": "stream",
     "text": []
    },
    {
     "name": "stdout",
     "output_type": "stream",
     "text": [
      "MoviePy - Building file analyze/quantization/606-38/YU╠êKLEMEK_1_26_51.gif with imageio.\n"
     ]
    },
    {
     "name": "stderr",
     "output_type": "stream",
     "text": []
    },
    {
     "name": "stdout",
     "output_type": "stream",
     "text": [
      "MoviePy - Building file analyze/quantization/606-48/AYAKKABI _0_35_60.gif with imageio.\n"
     ]
    },
    {
     "name": "stderr",
     "output_type": "stream",
     "text": []
    },
    {
     "name": "stdout",
     "output_type": "stream",
     "text": [
      "MoviePy - Building file analyze/quantization/606-53/AYAKKABI _0_41_66.gif with imageio.\n"
     ]
    },
    {
     "name": "stderr",
     "output_type": "stream",
     "text": []
    },
    {
     "name": "stdout",
     "output_type": "stream",
     "text": [
      "MoviePy - Building file analyze/quantization/606-1252/BELGE_1_38_63.gif with imageio.\n"
     ]
    },
    {
     "name": "stderr",
     "output_type": "stream",
     "text": []
    },
    {
     "name": "stdout",
     "output_type": "stream",
     "text": [
      "MoviePy - Building file analyze/quantization/606-11/YU╠êZME_1_34_59.gif with imageio.\n"
     ]
    },
    {
     "name": "stderr",
     "output_type": "stream",
     "text": []
    },
    {
     "name": "stdout",
     "output_type": "stream",
     "text": [
      "MoviePy - Building file analyze/quantization/606-1222/HESAP _1_47_72.gif with imageio.\n"
     ]
    },
    {
     "name": "stderr",
     "output_type": "stream",
     "text": []
    },
    {
     "name": "stdout",
     "output_type": "stream",
     "text": [
      "MoviePy - Building file analyze/quantization/606-20/EKONOMIK_1_31_56.gif with imageio.\n"
     ]
    },
    {
     "name": "stderr",
     "output_type": "stream",
     "text": []
    },
    {
     "name": "stdout",
     "output_type": "stream",
     "text": [
      "MoviePy - Building file analyze/quantization/606-20/YOG╠åURMAK_0_28_53.gif with imageio.\n"
     ]
    },
    {
     "name": "stderr",
     "output_type": "stream",
     "text": []
    },
    {
     "name": "stdout",
     "output_type": "stream",
     "text": [
      "MoviePy - Building file analyze/quantization/606-9/AYAKKABI _0_25_50.gif with imageio.\n"
     ]
    },
    {
     "name": "stderr",
     "output_type": "stream",
     "text": []
    },
    {
     "name": "stdout",
     "output_type": "stream",
     "text": [
      "MoviePy - Building file analyze/quantization/606-1252/BELGE_1_35_60.gif with imageio.\n"
     ]
    },
    {
     "name": "stderr",
     "output_type": "stream",
     "text": []
    },
    {
     "name": "stdout",
     "output_type": "stream",
     "text": [
      "MoviePy - Building file analyze/quantization/606-9/AYAKKABI _0_27_52.gif with imageio.\n"
     ]
    },
    {
     "name": "stderr",
     "output_type": "stream",
     "text": []
    },
    {
     "name": "stdout",
     "output_type": "stream",
     "text": [
      "MoviePy - Building file analyze/quantization/606-36/EZILMEK_2_31_56.gif with imageio.\n"
     ]
    },
    {
     "name": "stderr",
     "output_type": "stream",
     "text": []
    },
    {
     "name": "stdout",
     "output_type": "stream",
     "text": [
      "MoviePy - Building file analyze/quantization/606-1252/BELGE_1_39_64.gif with imageio.\n"
     ]
    },
    {
     "name": "stderr",
     "output_type": "stream",
     "text": []
    },
    {
     "name": "stdout",
     "output_type": "stream",
     "text": [
      "MoviePy - Building file analyze/quantization/606-53/S╠ğIFA_0_42_67.gif with imageio.\n"
     ]
    },
    {
     "name": "stderr",
     "output_type": "stream",
     "text": []
    },
    {
     "name": "stdout",
     "output_type": "stream",
     "text": [
      "MoviePy - Building file analyze/quantization/606-9/AYAKKABI _0_26_51.gif with imageio.\n"
     ]
    },
    {
     "name": "stderr",
     "output_type": "stream",
     "text": []
    },
    {
     "name": "stdout",
     "output_type": "stream",
     "text": [
      "MoviePy - Building file analyze/quantization/606-36/OLAY _1_27_52.gif with imageio.\n"
     ]
    },
    {
     "name": "stderr",
     "output_type": "stream",
     "text": []
    },
    {
     "name": "stdout",
     "output_type": "stream",
     "text": [
      "MoviePy - Building file analyze/quantization/606-1252/BELGE_1_36_61.gif with imageio.\n"
     ]
    },
    {
     "name": "stderr",
     "output_type": "stream",
     "text": []
    },
    {
     "name": "stdout",
     "output_type": "stream",
     "text": [
      "MoviePy - Building file analyze/quantization/606-36/DERI_2_44_69.gif with imageio.\n"
     ]
    },
    {
     "name": "stderr",
     "output_type": "stream",
     "text": []
    },
    {
     "name": "stdout",
     "output_type": "stream",
     "text": [
      "MoviePy - Building file analyze/quantization/606-11/YARIS╠ğMAK_0_28_53.gif with imageio.\n"
     ]
    },
    {
     "name": "stderr",
     "output_type": "stream",
     "text": []
    },
    {
     "name": "stdout",
     "output_type": "stream",
     "text": [
      "MoviePy - Building file analyze/quantization/606-12/TAKMAK_0_30_55.gif with imageio.\n"
     ]
    },
    {
     "name": "stderr",
     "output_type": "stream",
     "text": []
    },
    {
     "name": "stdout",
     "output_type": "stream",
     "text": [
      "MoviePy - Building file analyze/quantization/606-1252/YAG╠åMUR_0_26_51.gif with imageio.\n"
     ]
    },
    {
     "name": "stderr",
     "output_type": "stream",
     "text": []
    },
    {
     "name": "stdout",
     "output_type": "stream",
     "text": [
      "MoviePy - Building file analyze/quantization/606-20/YOG╠åURMAK_0_27_52.gif with imageio.\n"
     ]
    },
    {
     "name": "stderr",
     "output_type": "stream",
     "text": []
    },
    {
     "name": "stdout",
     "output_type": "stream",
     "text": [
      "MoviePy - Building file analyze/quantization/606-55/AYAKKABI _0_37_62.gif with imageio.\n"
     ]
    },
    {
     "name": "stderr",
     "output_type": "stream",
     "text": []
    },
    {
     "name": "stdout",
     "output_type": "stream",
     "text": [
      "MoviePy - Building file analyze/quantization/606-20/EKONOMIK_1_30_55.gif with imageio.\n"
     ]
    },
    {
     "name": "stderr",
     "output_type": "stream",
     "text": []
    },
    {
     "name": "stdout",
     "output_type": "stream",
     "text": [
      "MoviePy - Building file analyze/quantization/606-20/UFAK_2_31_56.gif with imageio.\n"
     ]
    },
    {
     "name": "stderr",
     "output_type": "stream",
     "text": []
    },
    {
     "name": "stdout",
     "output_type": "stream",
     "text": [
      "MoviePy - Building file analyze/quantization/606-36/TITREMEK_1_25_50.gif with imageio.\n"
     ]
    },
    {
     "name": "stderr",
     "output_type": "stream",
     "text": []
    },
    {
     "name": "stdout",
     "output_type": "stream",
     "text": [
      "MoviePy - Building file analyze/quantization/606-48/OKS╠ğAMAK_0_40_65.gif with imageio.\n"
     ]
    },
    {
     "name": "stderr",
     "output_type": "stream",
     "text": []
    }
   ],
   "source": [
    "import cv2\n",
    "import pandas as pd\n",
    "from tqdm.notebook import tqdm\n",
    "from moviepy.editor import VideoFileClip\n",
    "\n",
    "CODEBOOK = 'Code_1'\n",
    "CODE_ID = 606           \n",
    "\n",
    "for rec in tqdm(df[df[CODEBOOK] == CODE_ID].to_dict(orient='records')):\n",
    "    # save frame video to disk\n",
    "    video = rec['vocab']\n",
    "    video_path = f\"dataset/corpus/{video}.mp4\"\n",
    "    start_idx = rec['start_idx']\n",
    "    end_idx = rec['end_idx']\n",
    "    label = str(rec['Code_1']) + '-' + str(rec['Code_0'])\n",
    "\n",
    "    cap = cv2.VideoCapture(video_path)\n",
    "    ret, frame = cap.read()\n",
    "    \n",
    "    import os\n",
    "    if not os.path.exists(f'analyze/quantization/{label}'):\n",
    "        os.mkdir(f'analyze/quantization/{label}')\n",
    "\n",
    "    FRAMES = []\n",
    "    for i in range(end_idx+1):\n",
    "        ret, frame = cap.read()\n",
    "        if i >= start_idx and i < end_idx:\n",
    "            FRAMES.append(frame)\n",
    "\n",
    "    # write frames to video\n",
    "    out = cv2.VideoWriter(f'analyze/quantization/{label}/{video}_{start_idx}_{end_idx}.avi', cv2.VideoWriter_fourcc(*'DIVX'), 15, (frame.shape[1], frame.shape[0]))\n",
    "    for frame in FRAMES:\n",
    "        out.write(frame)\n",
    "\n",
    "    out.release()      \n",
    "\n",
    "    videoClip = VideoFileClip(f\"analyze/quantization/{label}/{video}_{start_idx}_{end_idx}.avi\")\n",
    "    videoClip.write_gif(f\"analyze/quantization/{label}/{video}_{start_idx}_{end_idx}.gif\")\n",
    "\n",
    "    os.remove(f\"analyze/quantization/{label}/{video}_{start_idx}_{end_idx}.avi\")"
   ]
  },
  {
   "cell_type": "code",
   "execution_count": null,
   "metadata": {},
   "outputs": [],
   "source": []
  }
 ],
 "metadata": {
  "kernelspec": {
   "display_name": "base",
   "language": "python",
   "name": "python3"
  },
  "language_info": {
   "codemirror_mode": {
    "name": "ipython",
    "version": 3
   },
   "file_extension": ".py",
   "mimetype": "text/x-python",
   "name": "python",
   "nbconvert_exporter": "python",
   "pygments_lexer": "ipython3",
   "version": "3.11.5"
  }
 },
 "nbformat": 4,
 "nbformat_minor": 2
}
